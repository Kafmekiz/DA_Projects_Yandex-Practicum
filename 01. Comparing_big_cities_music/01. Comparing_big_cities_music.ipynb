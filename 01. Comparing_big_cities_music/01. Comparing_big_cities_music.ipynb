{
 "cells": [
  {
   "cell_type": "markdown",
   "metadata": {
    "id": "E0vqbgi9ay0H"
   },
   "source": [
    "# Проект № 1: Исследование данных сервиса “Яндекс.Музыка” — сравнение пользователей двух городов"
   ]
  },
  {
   "cell_type": "markdown",
   "metadata": {},
   "source": [
    "## Описание проекта"
   ]
  },
  {
   "cell_type": "markdown",
   "metadata": {
    "id": "VUC88oWjTJw2"
   },
   "source": [
    "**Цель исследования** — проверить следующие три гипотезы:\n",
    "1. Активность пользователей зависит от дня недели и проявляется по-разному в Москве и Петербурге.\n",
    "2. В понедельник утром в Москве преобладают одни жанры, а в Петербурге — другие. Так же и вечером пятницы преобладают разные жанры — в зависимости от города. \n",
    "3. Москва и Петербург предпочитают разные жанры музыки. В Москве чаще слушают поп-музыку, в Петербурге — русский рэп."
   ]
  },
  {
   "cell_type": "markdown",
   "metadata": {
    "id": "Ml1hmfXC_Zcs"
   },
   "source": [
    "## Обзор данных"
   ]
  },
  {
   "cell_type": "code",
   "execution_count": 1,
   "metadata": {
    "id": "AXN7PHPN_Zcs"
   },
   "outputs": [],
   "source": [
    "# импортируем библиотеку pandas\n",
    "import pandas as pd"
   ]
  },
  {
   "cell_type": "code",
   "execution_count": 2,
   "metadata": {
    "id": "fFVu7vqh_Zct"
   },
   "outputs": [],
   "source": [
    "# прочитаем файл с данными и сохраним его в переменную df\n",
    "df = pd.read_csv('yandex_music_project.csv')"
   ]
  },
  {
   "cell_type": "code",
   "execution_count": 3,
   "metadata": {
    "id": "oWTVX3gW_Zct"
   },
   "outputs": [
    {
     "data": {
      "text/html": [
       "<div>\n",
       "<style scoped>\n",
       "    .dataframe tbody tr th:only-of-type {\n",
       "        vertical-align: middle;\n",
       "    }\n",
       "\n",
       "    .dataframe tbody tr th {\n",
       "        vertical-align: top;\n",
       "    }\n",
       "\n",
       "    .dataframe thead th {\n",
       "        text-align: right;\n",
       "    }\n",
       "</style>\n",
       "<table border=\"1\" class=\"dataframe\">\n",
       "  <thead>\n",
       "    <tr style=\"text-align: right;\">\n",
       "      <th></th>\n",
       "      <th>userID</th>\n",
       "      <th>Track</th>\n",
       "      <th>artist</th>\n",
       "      <th>genre</th>\n",
       "      <th>City</th>\n",
       "      <th>time</th>\n",
       "      <th>Day</th>\n",
       "    </tr>\n",
       "  </thead>\n",
       "  <tbody>\n",
       "    <tr>\n",
       "      <th>0</th>\n",
       "      <td>FFB692EC</td>\n",
       "      <td>Kamigata To Boots</td>\n",
       "      <td>The Mass Missile</td>\n",
       "      <td>rock</td>\n",
       "      <td>Saint-Petersburg</td>\n",
       "      <td>20:28:33</td>\n",
       "      <td>Wednesday</td>\n",
       "    </tr>\n",
       "    <tr>\n",
       "      <th>1</th>\n",
       "      <td>55204538</td>\n",
       "      <td>Delayed Because of Accident</td>\n",
       "      <td>Andreas Rönnberg</td>\n",
       "      <td>rock</td>\n",
       "      <td>Moscow</td>\n",
       "      <td>14:07:09</td>\n",
       "      <td>Friday</td>\n",
       "    </tr>\n",
       "    <tr>\n",
       "      <th>2</th>\n",
       "      <td>20EC38</td>\n",
       "      <td>Funiculì funiculà</td>\n",
       "      <td>Mario Lanza</td>\n",
       "      <td>pop</td>\n",
       "      <td>Saint-Petersburg</td>\n",
       "      <td>20:58:07</td>\n",
       "      <td>Wednesday</td>\n",
       "    </tr>\n",
       "    <tr>\n",
       "      <th>3</th>\n",
       "      <td>A3DD03C9</td>\n",
       "      <td>Dragons in the Sunset</td>\n",
       "      <td>Fire + Ice</td>\n",
       "      <td>folk</td>\n",
       "      <td>Saint-Petersburg</td>\n",
       "      <td>08:37:09</td>\n",
       "      <td>Monday</td>\n",
       "    </tr>\n",
       "    <tr>\n",
       "      <th>4</th>\n",
       "      <td>E2DC1FAE</td>\n",
       "      <td>Soul People</td>\n",
       "      <td>Space Echo</td>\n",
       "      <td>dance</td>\n",
       "      <td>Moscow</td>\n",
       "      <td>08:34:34</td>\n",
       "      <td>Monday</td>\n",
       "    </tr>\n",
       "    <tr>\n",
       "      <th>5</th>\n",
       "      <td>842029A1</td>\n",
       "      <td>Преданная</td>\n",
       "      <td>IMPERVTOR</td>\n",
       "      <td>rusrap</td>\n",
       "      <td>Saint-Petersburg</td>\n",
       "      <td>13:09:41</td>\n",
       "      <td>Friday</td>\n",
       "    </tr>\n",
       "    <tr>\n",
       "      <th>6</th>\n",
       "      <td>4CB90AA5</td>\n",
       "      <td>True</td>\n",
       "      <td>Roman Messer</td>\n",
       "      <td>dance</td>\n",
       "      <td>Moscow</td>\n",
       "      <td>13:00:07</td>\n",
       "      <td>Wednesday</td>\n",
       "    </tr>\n",
       "    <tr>\n",
       "      <th>7</th>\n",
       "      <td>F03E1C1F</td>\n",
       "      <td>Feeling This Way</td>\n",
       "      <td>Polina Griffith</td>\n",
       "      <td>dance</td>\n",
       "      <td>Moscow</td>\n",
       "      <td>20:47:49</td>\n",
       "      <td>Wednesday</td>\n",
       "    </tr>\n",
       "    <tr>\n",
       "      <th>8</th>\n",
       "      <td>8FA1D3BE</td>\n",
       "      <td>И вновь продолжается бой</td>\n",
       "      <td>NaN</td>\n",
       "      <td>ruspop</td>\n",
       "      <td>Moscow</td>\n",
       "      <td>09:17:40</td>\n",
       "      <td>Friday</td>\n",
       "    </tr>\n",
       "    <tr>\n",
       "      <th>9</th>\n",
       "      <td>E772D5C0</td>\n",
       "      <td>Pessimist</td>\n",
       "      <td>NaN</td>\n",
       "      <td>dance</td>\n",
       "      <td>Saint-Petersburg</td>\n",
       "      <td>21:20:49</td>\n",
       "      <td>Wednesday</td>\n",
       "    </tr>\n",
       "  </tbody>\n",
       "</table>\n",
       "</div>"
      ],
      "text/plain": [
       "     userID                        Track            artist   genre  \\\n",
       "0  FFB692EC            Kamigata To Boots  The Mass Missile    rock   \n",
       "1  55204538  Delayed Because of Accident  Andreas Rönnberg    rock   \n",
       "2    20EC38            Funiculì funiculà       Mario Lanza     pop   \n",
       "3  A3DD03C9        Dragons in the Sunset        Fire + Ice    folk   \n",
       "4  E2DC1FAE                  Soul People        Space Echo   dance   \n",
       "5  842029A1                    Преданная         IMPERVTOR  rusrap   \n",
       "6  4CB90AA5                         True      Roman Messer   dance   \n",
       "7  F03E1C1F             Feeling This Way   Polina Griffith   dance   \n",
       "8  8FA1D3BE     И вновь продолжается бой               NaN  ruspop   \n",
       "9  E772D5C0                    Pessimist               NaN   dance   \n",
       "\n",
       "             City        time        Day  \n",
       "0  Saint-Petersburg  20:28:33  Wednesday  \n",
       "1            Moscow  14:07:09     Friday  \n",
       "2  Saint-Petersburg  20:58:07  Wednesday  \n",
       "3  Saint-Petersburg  08:37:09     Monday  \n",
       "4            Moscow  08:34:34     Monday  \n",
       "5  Saint-Petersburg  13:09:41     Friday  \n",
       "6            Moscow  13:00:07  Wednesday  \n",
       "7            Moscow  20:47:49  Wednesday  \n",
       "8            Moscow  09:17:40     Friday  \n",
       "9  Saint-Petersburg  21:20:49  Wednesday  "
      ]
     },
     "execution_count": 3,
     "metadata": {},
     "output_type": "execute_result"
    }
   ],
   "source": [
    "# выведем первые 10 строк таблицы df\n",
    "df.head(10)"
   ]
  },
  {
   "cell_type": "code",
   "execution_count": 4,
   "metadata": {
    "id": "DSf2kIb-_Zct",
    "scrolled": true
   },
   "outputs": [
    {
     "name": "stdout",
     "output_type": "stream",
     "text": [
      "<class 'pandas.core.frame.DataFrame'>\n",
      "RangeIndex: 65079 entries, 0 to 65078\n",
      "Data columns (total 7 columns):\n",
      " #   Column    Non-Null Count  Dtype \n",
      "---  ------    --------------  ----- \n",
      " 0     userID  65079 non-null  object\n",
      " 1   Track     63848 non-null  object\n",
      " 2   artist    57876 non-null  object\n",
      " 3   genre     63881 non-null  object\n",
      " 4     City    65079 non-null  object\n",
      " 5   time      65079 non-null  object\n",
      " 6   Day       65079 non-null  object\n",
      "dtypes: object(7)\n",
      "memory usage: 3.5+ MB\n"
     ]
    }
   ],
   "source": [
    "# получим общую информацию о данных \n",
    "df.info()"
   ]
  },
  {
   "cell_type": "markdown",
   "metadata": {
    "id": "TaQ2Iwbr_Zct"
   },
   "source": [
    "Итак, в таблице семь столбцов. Тип данных во всех столбцах — `object`.\n",
    "\n",
    "Согласно документации к данным:\n",
    "* `userID` — идентификатор пользователя;\n",
    "* `Track` — название трека;  \n",
    "* `artist` — имя исполнителя;\n",
    "* `genre` — название жанра;\n",
    "* `City` — город проживания пользователя;\n",
    "* `time` — время начала прослушивания;\n",
    "* `Day` — день недели.\n",
    "\n",
    "Названия столбцов имеют нарушения стиля:\n",
    "1. Строчные буквы сочетаются с прописными.\n",
    "2. Встречаются пробелы.\n",
    "3. Отсутствует стиль написания составных слов, так называемый snake_case.\n",
    "\n",
    "Количество значений в столбцах различается. Значит, в данных есть пропущенные значения."
   ]
  },
  {
   "cell_type": "markdown",
   "metadata": {},
   "source": [
    "### Вывод"
   ]
  },
  {
   "cell_type": "markdown",
   "metadata": {
    "id": "MCB6-dXG_Zct"
   },
   "source": [
    "В каждой строке таблицы — данные о прослушанном треке. Часть колонок описывает саму композицию: название, исполнителя и жанр. Остальные данные рассказывают о пользователе: из какого он города, когда он слушал музыку. \n",
    "\n",
    "Для проверки наших гипотез наибольший интерес представляют столбцы: `genre`, `City`, `time`, `Day`.\n",
    "\n",
    "Предварительно можно утверждать, что данных достаточно для проверки гипотез. Но встречаются пропуски в данных, а в названиях колонок — расхождения с хорошим стилем.\n",
    "\n",
    "Чтобы двигаться дальше - необходимо устранить эти проблемы."
   ]
  },
  {
   "cell_type": "markdown",
   "metadata": {
    "id": "SjYF6Ub9_Zct"
   },
   "source": [
    "## Предобработка данных"
   ]
  },
  {
   "cell_type": "markdown",
   "metadata": {
    "id": "dIaKXr29_Zct"
   },
   "source": [
    "### Стиль заголовков"
   ]
  },
  {
   "cell_type": "code",
   "execution_count": 5,
   "metadata": {
    "id": "oKOTdF_Q_Zct"
   },
   "outputs": [
    {
     "data": {
      "text/plain": [
       "Index(['  userID', 'Track', 'artist', 'genre', '  City  ', 'time', 'Day'], dtype='object')"
      ]
     },
     "execution_count": 5,
     "metadata": {},
     "output_type": "execute_result"
    }
   ],
   "source": [
    "# выведем перечень названий столбцов\n",
    "df.columns"
   ]
  },
  {
   "cell_type": "markdown",
   "metadata": {
    "id": "zj5534cv_Zct"
   },
   "source": [
    "Приведём названия в соответствии с хорошим стилем:\n",
    "* несколько слов в названии запишем в «змеином_регистре»;\n",
    "* все символы сделаем строчными;\n",
    "* устраним пробелы."
   ]
  },
  {
   "cell_type": "code",
   "execution_count": 6,
   "metadata": {
    "id": "ISlFqs5y_Zct"
   },
   "outputs": [],
   "source": [
    "# переименуем название столбцов\n",
    "df = df.rename(columns={'  userID' : 'user_id', 'Track' : 'track_name', '  City  ' : 'city', 'Day' : 'day'})"
   ]
  },
  {
   "cell_type": "code",
   "execution_count": 7,
   "metadata": {
    "id": "d4NOAmTW_Zct"
   },
   "outputs": [
    {
     "data": {
      "text/plain": [
       "Index(['user_id', 'track_name', 'artist', 'genre', 'city', 'time', 'day'], dtype='object')"
      ]
     },
     "execution_count": 7,
     "metadata": {},
     "output_type": "execute_result"
    }
   ],
   "source": [
    "# проверим результат \n",
    "df.columns"
   ]
  },
  {
   "cell_type": "markdown",
   "metadata": {
    "id": "5ISfbcfY_Zct"
   },
   "source": [
    "### Пропуски значений"
   ]
  },
  {
   "cell_type": "code",
   "execution_count": 8,
   "metadata": {
    "id": "RskX29qr_Zct"
   },
   "outputs": [
    {
     "data": {
      "text/plain": [
       "user_id          0\n",
       "track_name    1231\n",
       "artist        7203\n",
       "genre         1198\n",
       "city             0\n",
       "time             0\n",
       "day              0\n",
       "dtype: int64"
      ]
     },
     "execution_count": 8,
     "metadata": {},
     "output_type": "execute_result"
    }
   ],
   "source": [
    "# посчитаем количество пропусков \n",
    "df.isna().sum() "
   ]
  },
  {
   "cell_type": "markdown",
   "metadata": {
    "id": "qubhgnlO_Zct"
   },
   "source": [
    "Не все пропущенные значения влияют на исследование. Так в `track` и `artist` пропуски не важны для нашей работы. Достаточно заменить их явными обозначениями.\n",
    "\n",
    "Но пропуски в `genre` могут помешать сравнению музыкальных вкусов в Москве и Санкт-Петербурге. На практике было бы правильно установить причину пропусков и восстановить данные. Такой возможности нет в учебном проекте. \n",
    "\n",
    "Поэтому выполним следующее:\n",
    "* заполним и эти пропуски явными обозначениями;\n",
    "* оценим, насколько они повредят расчётам. "
   ]
  },
  {
   "cell_type": "markdown",
   "metadata": {
    "id": "fSv2laPA_Zct"
   },
   "source": [
    "Заменим пропущенные значения в столбцах `track`, `artist` и `genre` на строку `'unknown'`. Для этого создадим список `columns_to_replace`, переберём его элементы циклом `for` и для каждого столбца выполним замену пропущенных значений:"
   ]
  },
  {
   "cell_type": "code",
   "execution_count": 9,
   "metadata": {
    "id": "KplB5qWs_Zct"
   },
   "outputs": [],
   "source": [
    "# переберём названия столбцов в цикле и заменим пропущенные значения на 'unknown'\n",
    "columns_to_replace = ['track_name', 'artist', 'genre']\n",
    "for column in columns_to_replace:\n",
    "    df[column] = df[column].fillna('unknown')"
   ]
  },
  {
   "cell_type": "markdown",
   "metadata": {
    "id": "Ilsm-MZo_Zct"
   },
   "source": [
    "Убедимся, что в таблице не осталось пропусков. Для этого ещё раз посчитаем пропущенные значения."
   ]
  },
  {
   "cell_type": "code",
   "execution_count": 10,
   "metadata": {
    "id": "Tq4nYRX4_Zct"
   },
   "outputs": [
    {
     "data": {
      "text/plain": [
       "user_id       0\n",
       "track_name    0\n",
       "artist        0\n",
       "genre         0\n",
       "city          0\n",
       "time          0\n",
       "day           0\n",
       "dtype: int64"
      ]
     },
     "execution_count": 10,
     "metadata": {},
     "output_type": "execute_result"
    }
   ],
   "source": [
    "# посчитаем количество пропусков\n",
    "df.isna().sum() "
   ]
  },
  {
   "cell_type": "markdown",
   "metadata": {
    "id": "BWKRtBJ3_Zct"
   },
   "source": [
    "### Дубликаты"
   ]
  },
  {
   "cell_type": "code",
   "execution_count": 11,
   "metadata": {
    "id": "36eES_S0_Zct"
   },
   "outputs": [
    {
     "data": {
      "text/plain": [
       "3826"
      ]
     },
     "execution_count": 11,
     "metadata": {},
     "output_type": "execute_result"
    }
   ],
   "source": [
    "# посчитаем количество явных дубликатов\n",
    "df.duplicated().sum()"
   ]
  },
  {
   "cell_type": "code",
   "execution_count": 12,
   "metadata": {
    "id": "exFHq6tt_Zct"
   },
   "outputs": [],
   "source": [
    "# удалим явные дубликаты \n",
    "df = df.drop_duplicates().reset_index(drop=True)"
   ]
  },
  {
   "cell_type": "code",
   "execution_count": 13,
   "metadata": {
    "id": "-8PuNWQ0_Zct"
   },
   "outputs": [
    {
     "data": {
      "text/plain": [
       "0"
      ]
     },
     "execution_count": 13,
     "metadata": {},
     "output_type": "execute_result"
    }
   ],
   "source": [
    "# проверим на отсутствие дубликатов\n",
    "df.duplicated().sum()"
   ]
  },
  {
   "cell_type": "markdown",
   "metadata": {
    "id": "QlFBsxAr_Zct"
   },
   "source": [
    "Теперь избавимся от неявных дубликатов в колонке `genre`. Например, название одного и того же жанра может быть записано немного по-разному. Такие ошибки тоже повлияют на результат исследования."
   ]
  },
  {
   "cell_type": "markdown",
   "metadata": {
    "id": "eSjWwsOh_Zct"
   },
   "source": [
    "Выведем на экран список уникальных названий жанров, отсортированный в алфавитном порядке. \n",
    "\n",
    "Для этого:\n",
    "* извлечём нужный столбец датафрейма:\n",
    "* применим к нему метод сортировки;\n",
    "* для отсортированного столбца вызовем метод, который вернёт уникальные значения из столбца."
   ]
  },
  {
   "cell_type": "code",
   "execution_count": 14,
   "metadata": {
    "id": "JIUcqzZN_Zct"
   },
   "outputs": [
    {
     "data": {
      "text/plain": [
       "array(['acid', 'acoustic', 'action', 'adult', 'africa', 'afrikaans',\n",
       "       'alternative', 'alternativepunk', 'ambient', 'americana',\n",
       "       'animated', 'anime', 'arabesk', 'arabic', 'arena',\n",
       "       'argentinetango', 'art', 'audiobook', 'author', 'avantgarde',\n",
       "       'axé', 'baile', 'balkan', 'beats', 'bigroom', 'black', 'bluegrass',\n",
       "       'blues', 'bollywood', 'bossa', 'brazilian', 'breakbeat', 'breaks',\n",
       "       'broadway', 'cantautori', 'cantopop', 'canzone', 'caribbean',\n",
       "       'caucasian', 'celtic', 'chamber', 'chanson', 'children', 'chill',\n",
       "       'chinese', 'choral', 'christian', 'christmas', 'classical',\n",
       "       'classicmetal', 'club', 'colombian', 'comedy', 'conjazz',\n",
       "       'contemporary', 'country', 'cuban', 'dance', 'dancehall',\n",
       "       'dancepop', 'dark', 'death', 'deep', 'deutschrock', 'deutschspr',\n",
       "       'dirty', 'disco', 'dnb', 'documentary', 'downbeat', 'downtempo',\n",
       "       'drum', 'dub', 'dubstep', 'eastern', 'easy', 'electronic',\n",
       "       'electropop', 'emo', 'entehno', 'epicmetal', 'estrada', 'ethnic',\n",
       "       'eurofolk', 'european', 'experimental', 'extrememetal', 'fado',\n",
       "       'fairytail', 'film', 'fitness', 'flamenco', 'folk', 'folklore',\n",
       "       'folkmetal', 'folkrock', 'folktronica', 'forró', 'frankreich',\n",
       "       'französisch', 'french', 'funk', 'future', 'gangsta', 'garage',\n",
       "       'german', 'ghazal', 'gitarre', 'glitch', 'gospel', 'gothic',\n",
       "       'grime', 'grunge', 'gypsy', 'handsup', \"hard'n'heavy\", 'hardcore',\n",
       "       'hardstyle', 'hardtechno', 'hip', 'hip-hop', 'hiphop',\n",
       "       'historisch', 'holiday', 'hop', 'horror', 'house', 'hymn', 'idm',\n",
       "       'independent', 'indian', 'indie', 'indipop', 'industrial',\n",
       "       'inspirational', 'instrumental', 'international', 'irish', 'jam',\n",
       "       'japanese', 'jazz', 'jewish', 'jpop', 'jungle', 'k-pop',\n",
       "       'karadeniz', 'karaoke', 'kayokyoku', 'korean', 'laiko', 'latin',\n",
       "       'latino', 'leftfield', 'local', 'lounge', 'loungeelectronic',\n",
       "       'lovers', 'malaysian', 'mandopop', 'marschmusik', 'meditative',\n",
       "       'mediterranean', 'melodic', 'metal', 'metalcore', 'mexican',\n",
       "       'middle', 'minimal', 'miscellaneous', 'modern', 'mood', 'mpb',\n",
       "       'muslim', 'native', 'neoklassik', 'neue', 'new', 'newage',\n",
       "       'newwave', 'nu', 'nujazz', 'numetal', 'oceania', 'old', 'opera',\n",
       "       'orchestral', 'other', 'piano', 'podcasts', 'pop', 'popdance',\n",
       "       'popelectronic', 'popeurodance', 'poprussian', 'post',\n",
       "       'posthardcore', 'postrock', 'power', 'progmetal', 'progressive',\n",
       "       'psychedelic', 'punjabi', 'punk', 'quebecois', 'ragga', 'ram',\n",
       "       'rancheras', 'rap', 'rave', 'reggae', 'reggaeton', 'regional',\n",
       "       'relax', 'religious', 'retro', 'rhythm', 'rnb', 'rnr', 'rock',\n",
       "       'rockabilly', 'rockalternative', 'rockindie', 'rockother',\n",
       "       'romance', 'roots', 'ruspop', 'rusrap', 'rusrock', 'russian',\n",
       "       'salsa', 'samba', 'scenic', 'schlager', 'self', 'sertanejo',\n",
       "       'shanson', 'shoegazing', 'showtunes', 'singer', 'ska', 'skarock',\n",
       "       'slow', 'smooth', 'soft', 'soul', 'soulful', 'sound', 'soundtrack',\n",
       "       'southern', 'specialty', 'speech', 'spiritual', 'sport',\n",
       "       'stonerrock', 'surf', 'swing', 'synthpop', 'synthrock',\n",
       "       'sängerportrait', 'tango', 'tanzorchester', 'taraftar', 'tatar',\n",
       "       'tech', 'techno', 'teen', 'thrash', 'top', 'traditional',\n",
       "       'tradjazz', 'trance', 'tribal', 'trip', 'triphop', 'tropical',\n",
       "       'türk', 'türkçe', 'ukrrock', 'unknown', 'urban', 'uzbek',\n",
       "       'variété', 'vi', 'videogame', 'vocal', 'western', 'world',\n",
       "       'worldbeat', 'ïîï', 'электроника'], dtype=object)"
      ]
     },
     "execution_count": 14,
     "metadata": {},
     "output_type": "execute_result"
    }
   ],
   "source": [
    "# посмотрим уникальные названия жанров\n",
    "df['genre'].sort_values().unique()"
   ]
  },
  {
   "cell_type": "markdown",
   "metadata": {
    "id": "qej-Qmuo_Zct"
   },
   "source": [
    "Просмотрим список и найдём неявные дубликаты названия `hiphop`. Это могут быть названия с ошибками или альтернативные названия того же жанра.\n",
    "\n",
    "Мы увидели следующие неявные дубликаты:\n",
    "* *hip*,\n",
    "* *hop*,\n",
    "* *hip-hop*.\n",
    "\n",
    "Чтобы очистить от них таблицу, напишем функцию `replace_wrong_genres()` с двумя параметрами: \n",
    "* `wrong_genres` — список дубликатов,\n",
    "* `correct_genre` — строка с правильным значением.\n",
    "\n",
    "Функция должна исправить колонку `genre` в таблице `df`: заменить каждое значение из списка `wrong_genres` на значение из `correct_genre`."
   ]
  },
  {
   "cell_type": "code",
   "execution_count": 15,
   "metadata": {
    "id": "ErNDkmns_Zct"
   },
   "outputs": [],
   "source": [
    "# функция для замены неявных дубликатов\n",
    "def replace_wrong_genres(wrong_genres, correct_genre):\n",
    "    df['genre'] = df['genre'].replace(wrong_genres, correct_genre) "
   ]
  },
  {
   "cell_type": "markdown",
   "metadata": {
    "id": "aDoBJxbA_Zct"
   },
   "source": [
    "Вызовем `replace_wrong_genres()` и передадим ей такие аргументы, чтобы она устранила неявные дубликаты: вместо `hip`, `hop` и `hip-hop` в таблице должно быть значение `hiphop`:"
   ]
  },
  {
   "cell_type": "code",
   "execution_count": 16,
   "metadata": {
    "id": "YN5i2hpmSo09"
   },
   "outputs": [],
   "source": [
    "# устранение неявных дубликатов\n",
    "replace_wrong_genres(['hip', 'hop', 'hip-hop'], 'hiphop')"
   ]
  },
  {
   "cell_type": "markdown",
   "metadata": {
    "id": "zQKF16_RG15m"
   },
   "source": [
    "Проверим, что заменили неправильные названия и выведем отсортированный список уникальных значений столбца `genre`:"
   ]
  },
  {
   "cell_type": "code",
   "execution_count": 17,
   "metadata": {
    "id": "wvixALnFG15m",
    "scrolled": true
   },
   "outputs": [
    {
     "data": {
      "text/plain": [
       "array(['acid', 'acoustic', 'action', 'adult', 'africa', 'afrikaans',\n",
       "       'alternative', 'alternativepunk', 'ambient', 'americana',\n",
       "       'animated', 'anime', 'arabesk', 'arabic', 'arena',\n",
       "       'argentinetango', 'art', 'audiobook', 'author', 'avantgarde',\n",
       "       'axé', 'baile', 'balkan', 'beats', 'bigroom', 'black', 'bluegrass',\n",
       "       'blues', 'bollywood', 'bossa', 'brazilian', 'breakbeat', 'breaks',\n",
       "       'broadway', 'cantautori', 'cantopop', 'canzone', 'caribbean',\n",
       "       'caucasian', 'celtic', 'chamber', 'chanson', 'children', 'chill',\n",
       "       'chinese', 'choral', 'christian', 'christmas', 'classical',\n",
       "       'classicmetal', 'club', 'colombian', 'comedy', 'conjazz',\n",
       "       'contemporary', 'country', 'cuban', 'dance', 'dancehall',\n",
       "       'dancepop', 'dark', 'death', 'deep', 'deutschrock', 'deutschspr',\n",
       "       'dirty', 'disco', 'dnb', 'documentary', 'downbeat', 'downtempo',\n",
       "       'drum', 'dub', 'dubstep', 'eastern', 'easy', 'electronic',\n",
       "       'electropop', 'emo', 'entehno', 'epicmetal', 'estrada', 'ethnic',\n",
       "       'eurofolk', 'european', 'experimental', 'extrememetal', 'fado',\n",
       "       'fairytail', 'film', 'fitness', 'flamenco', 'folk', 'folklore',\n",
       "       'folkmetal', 'folkrock', 'folktronica', 'forró', 'frankreich',\n",
       "       'französisch', 'french', 'funk', 'future', 'gangsta', 'garage',\n",
       "       'german', 'ghazal', 'gitarre', 'glitch', 'gospel', 'gothic',\n",
       "       'grime', 'grunge', 'gypsy', 'handsup', \"hard'n'heavy\", 'hardcore',\n",
       "       'hardstyle', 'hardtechno', 'hiphop', 'historisch', 'holiday',\n",
       "       'horror', 'house', 'hymn', 'idm', 'independent', 'indian', 'indie',\n",
       "       'indipop', 'industrial', 'inspirational', 'instrumental',\n",
       "       'international', 'irish', 'jam', 'japanese', 'jazz', 'jewish',\n",
       "       'jpop', 'jungle', 'k-pop', 'karadeniz', 'karaoke', 'kayokyoku',\n",
       "       'korean', 'laiko', 'latin', 'latino', 'leftfield', 'local',\n",
       "       'lounge', 'loungeelectronic', 'lovers', 'malaysian', 'mandopop',\n",
       "       'marschmusik', 'meditative', 'mediterranean', 'melodic', 'metal',\n",
       "       'metalcore', 'mexican', 'middle', 'minimal', 'miscellaneous',\n",
       "       'modern', 'mood', 'mpb', 'muslim', 'native', 'neoklassik', 'neue',\n",
       "       'new', 'newage', 'newwave', 'nu', 'nujazz', 'numetal', 'oceania',\n",
       "       'old', 'opera', 'orchestral', 'other', 'piano', 'podcasts', 'pop',\n",
       "       'popdance', 'popelectronic', 'popeurodance', 'poprussian', 'post',\n",
       "       'posthardcore', 'postrock', 'power', 'progmetal', 'progressive',\n",
       "       'psychedelic', 'punjabi', 'punk', 'quebecois', 'ragga', 'ram',\n",
       "       'rancheras', 'rap', 'rave', 'reggae', 'reggaeton', 'regional',\n",
       "       'relax', 'religious', 'retro', 'rhythm', 'rnb', 'rnr', 'rock',\n",
       "       'rockabilly', 'rockalternative', 'rockindie', 'rockother',\n",
       "       'romance', 'roots', 'ruspop', 'rusrap', 'rusrock', 'russian',\n",
       "       'salsa', 'samba', 'scenic', 'schlager', 'self', 'sertanejo',\n",
       "       'shanson', 'shoegazing', 'showtunes', 'singer', 'ska', 'skarock',\n",
       "       'slow', 'smooth', 'soft', 'soul', 'soulful', 'sound', 'soundtrack',\n",
       "       'southern', 'specialty', 'speech', 'spiritual', 'sport',\n",
       "       'stonerrock', 'surf', 'swing', 'synthpop', 'synthrock',\n",
       "       'sängerportrait', 'tango', 'tanzorchester', 'taraftar', 'tatar',\n",
       "       'tech', 'techno', 'teen', 'thrash', 'top', 'traditional',\n",
       "       'tradjazz', 'trance', 'tribal', 'trip', 'triphop', 'tropical',\n",
       "       'türk', 'türkçe', 'ukrrock', 'unknown', 'urban', 'uzbek',\n",
       "       'variété', 'vi', 'videogame', 'vocal', 'western', 'world',\n",
       "       'worldbeat', 'ïîï', 'электроника'], dtype=object)"
      ]
     },
     "execution_count": 17,
     "metadata": {},
     "output_type": "execute_result"
    }
   ],
   "source": [
    "# проверим на неявные дубликаты\n",
    "unique_genre = df['genre']\n",
    "unique_genre = unique_genre.sort_values()\n",
    "unique_genre.unique()"
   ]
  },
  {
   "cell_type": "code",
   "execution_count": 18,
   "metadata": {
    "scrolled": true
   },
   "outputs": [
    {
     "name": "stdout",
     "output_type": "stream",
     "text": [
      "<class 'pandas.core.frame.DataFrame'>\n",
      "RangeIndex: 61253 entries, 0 to 61252\n",
      "Data columns (total 7 columns):\n",
      " #   Column      Non-Null Count  Dtype \n",
      "---  ------      --------------  ----- \n",
      " 0   user_id     61253 non-null  object\n",
      " 1   track_name  61253 non-null  object\n",
      " 2   artist      61253 non-null  object\n",
      " 3   genre       61253 non-null  object\n",
      " 4   city        61253 non-null  object\n",
      " 5   time        61253 non-null  object\n",
      " 6   day         61253 non-null  object\n",
      "dtypes: object(7)\n",
      "memory usage: 3.3+ MB\n"
     ]
    }
   ],
   "source": [
    "# получим общую информацию о данных в таблице df. Убедимся, что чистка выполнена успешно.\n",
    "df.info()"
   ]
  },
  {
   "cell_type": "markdown",
   "metadata": {},
   "source": [
    "### Выводы"
   ]
  },
  {
   "cell_type": "markdown",
   "metadata": {
    "id": "jz6a9-7HQUDd"
   },
   "source": [
    "В ходе предобработки мы обнаружили три проблемы в данных:\n",
    "\n",
    "- нарушения в стиле заголовков;\n",
    "- пропущенные значения;\n",
    "- дубликаты — явные и неявные.\n",
    "\n",
    "Мы исправили заголовки, чтобы упростить работу с таблицей. Без дубликатов исследование станет более точным.\n",
    "\n",
    "Пропущенные значения мы заменили на `'unknown'`. Ещё предстоит увидеть, не повредят ли исследованию пропуски в колонке `genre`."
   ]
  },
  {
   "cell_type": "markdown",
   "metadata": {
    "id": "WttZHXH0SqKk"
   },
   "source": [
    "## Проверка гипотез"
   ]
  },
  {
   "cell_type": "markdown",
   "metadata": {
    "id": "Im936VVi_Zcu"
   },
   "source": [
    "### Сравнение поведения пользователей двух столиц"
   ]
  },
  {
   "cell_type": "markdown",
   "metadata": {
    "id": "nwt_MuaL_Zcu"
   },
   "source": [
    "Первая гипотеза утверждает, что пользователи по-разному слушают музыку в Москве и Санкт-Петербурге. Проверим это предположение по данным о трёх днях недели — понедельнике, среде и пятнице. \n",
    "\n",
    "Для этого:\n",
    "* разделим пользователей Москвы и Санкт-Петербурга;\n",
    "* сравним, сколько треков послушала каждая группа пользователей в понедельник, среду и пятницу."
   ]
  },
  {
   "cell_type": "markdown",
   "metadata": {
    "id": "8Dw_YMmT_Zcu"
   },
   "source": [
    "Для тренировки сначала выполним каждый из расчётов по отдельности. \n",
    "\n",
    "Оценим активность пользователей в каждом городе. Сгруппируем данные по городу и посчитайте прослушивания в каждой группе."
   ]
  },
  {
   "cell_type": "code",
   "execution_count": 19,
   "metadata": {
    "id": "0_Qs96oh_Zcu"
   },
   "outputs": [
    {
     "data": {
      "text/plain": [
       "city\n",
       "Moscow              42741\n",
       "Saint-Petersburg    18512\n",
       "Name: time, dtype: int64"
      ]
     },
     "execution_count": 19,
     "metadata": {},
     "output_type": "execute_result"
    }
   ],
   "source": [
    "# посчитаем количество прослушиваний в каждом городе\n",
    "df.groupby('city')['time'].count()"
   ]
  },
  {
   "cell_type": "markdown",
   "metadata": {
    "id": "dzli3w8o_Zcu"
   },
   "source": [
    "В Москве прослушиваний больше, чем в Петербурге. Из этого не следует, что московские пользователи чаще слушают музыку. Просто самих пользователей в Москве больше.\n",
    "\n",
    "Теперь сгруппируем данные по дню недели и посчитаем прослушивания в понедельник, среду и пятницу. Учтём, что в данных есть информация только о прослушиваниях только за эти дни."
   ]
  },
  {
   "cell_type": "code",
   "execution_count": 20,
   "metadata": {
    "id": "uZMKjiJz_Zcu"
   },
   "outputs": [
    {
     "data": {
      "text/plain": [
       "day\n",
       "Friday       21840\n",
       "Monday       21354\n",
       "Wednesday    18059\n",
       "Name: time, dtype: int64"
      ]
     },
     "execution_count": 20,
     "metadata": {},
     "output_type": "execute_result"
    }
   ],
   "source": [
    "# посчитаем количество прослушиваний в каждый из трёх дней\n",
    "df.groupby('day')['time'].count()"
   ]
  },
  {
   "cell_type": "markdown",
   "metadata": {
    "id": "cC2tNrlL_Zcu"
   },
   "source": [
    "В среднем пользователи из двух городов менее активны по средам. Но картина может измениться, если рассмотреть каждый город в отдельности."
   ]
  },
  {
   "cell_type": "markdown",
   "metadata": {
    "id": "POzs8bGa_Zcu"
   },
   "source": [
    "Мы видели, как работает группировка по городу и по дням недели. Теперь напишем функцию, которая объединит два этих расчёта.\n",
    "\n",
    "Создадим функцию `number_tracks()`, которая посчитает прослушивания для заданного дня и города. Ей понадобятся два параметра:\n",
    "* день недели;\n",
    "* название города.\n",
    "\n",
    "В функции сохраним в переменную строки исходной таблицы, у которых значение:\n",
    "  * в колонке `day` равно параметру `day`;\n",
    "  * в колонке `city` равно параметру `city`.\n",
    "\n",
    "Для этого применим последовательную фильтрацию с логической индексацией.\n",
    "\n",
    "Затем посчитаем значения в столбце `user_id` получившейся таблицы. Результат сохраним в новую переменную. Вернём эту переменную из функции."
   ]
  },
  {
   "cell_type": "code",
   "execution_count": 21,
   "metadata": {
    "id": "Nz3GdQB1_Zcu"
   },
   "outputs": [],
   "source": [
    "# Функция для подсчёта прослушиваний для конкретного города и дня.\n",
    "# С помощью последовательной фильтрации с логической индексацией она \n",
    "# сначала получит из исходной таблицы строки с нужным днём,\n",
    "# затем из результата отфильтрует строки с нужным городом,\n",
    "# методом count() посчитает количество значений в колонке user_id. \n",
    "# Это количество функция вернёт в качестве результата\n",
    "def number_tracks(day, city): \n",
    "    track_list=df[(df['day']==day) & (df['city']==city)]\n",
    "    track_list_count = track_list['user_id'].count()\n",
    "    return track_list_count"
   ]
  },
  {
   "cell_type": "markdown",
   "metadata": {
    "id": "ytf7xFrFJQ2r"
   },
   "source": [
    "Вызовем `number_tracks()` шесть раз, меняя значение параметров — так, чтобы получить данные для каждого города в каждый из трёх дней."
   ]
  },
  {
   "cell_type": "code",
   "execution_count": 22,
   "metadata": {
    "id": "rJcRATNQ_Zcu"
   },
   "outputs": [
    {
     "data": {
      "text/plain": [
       "15740"
      ]
     },
     "execution_count": 22,
     "metadata": {},
     "output_type": "execute_result"
    }
   ],
   "source": [
    "# количество прослушиваний в Москве по понедельникам\n",
    "number_tracks('Monday', 'Moscow')"
   ]
  },
  {
   "cell_type": "code",
   "execution_count": 23,
   "metadata": {
    "id": "hq_ncZ5T_Zcu"
   },
   "outputs": [
    {
     "data": {
      "text/plain": [
       "5614"
      ]
     },
     "execution_count": 23,
     "metadata": {},
     "output_type": "execute_result"
    }
   ],
   "source": [
    "# количество прослушиваний в Санкт-Петербурге по понедельникам\n",
    "number_tracks('Monday', 'Saint-Petersburg')"
   ]
  },
  {
   "cell_type": "code",
   "execution_count": 24,
   "metadata": {
    "id": "_NTy2VPU_Zcu"
   },
   "outputs": [
    {
     "data": {
      "text/plain": [
       "11056"
      ]
     },
     "execution_count": 24,
     "metadata": {},
     "output_type": "execute_result"
    }
   ],
   "source": [
    "# количество прослушиваний в Москве по средам\n",
    "number_tracks('Wednesday', 'Moscow')"
   ]
  },
  {
   "cell_type": "code",
   "execution_count": 25,
   "metadata": {
    "id": "j2y3TAwo_Zcu"
   },
   "outputs": [
    {
     "data": {
      "text/plain": [
       "7003"
      ]
     },
     "execution_count": 25,
     "metadata": {},
     "output_type": "execute_result"
    }
   ],
   "source": [
    "# количество прослушиваний в Санкт-Петербурге по средам\n",
    "number_tracks('Wednesday', 'Saint-Petersburg')"
   ]
  },
  {
   "cell_type": "code",
   "execution_count": 26,
   "metadata": {
    "id": "vYDw5u_K_Zcu"
   },
   "outputs": [
    {
     "data": {
      "text/plain": [
       "15945"
      ]
     },
     "execution_count": 26,
     "metadata": {},
     "output_type": "execute_result"
    }
   ],
   "source": [
    "# количество прослушиваний в Москве по пятницам\n",
    "number_tracks('Friday', 'Moscow')"
   ]
  },
  {
   "cell_type": "code",
   "execution_count": 27,
   "metadata": {
    "id": "8_yzFtW3_Zcu"
   },
   "outputs": [
    {
     "data": {
      "text/plain": [
       "5895"
      ]
     },
     "execution_count": 27,
     "metadata": {},
     "output_type": "execute_result"
    }
   ],
   "source": [
    "# количество прослушиваний в Санкт-Петербурге по пятницам\n",
    "number_tracks('Friday', 'Saint-Petersburg')"
   ]
  },
  {
   "cell_type": "code",
   "execution_count": 28,
   "metadata": {
    "id": "APAcLpOr_Zcu",
    "scrolled": true
   },
   "outputs": [
    {
     "data": {
      "text/html": [
       "<div>\n",
       "<style scoped>\n",
       "    .dataframe tbody tr th:only-of-type {\n",
       "        vertical-align: middle;\n",
       "    }\n",
       "\n",
       "    .dataframe tbody tr th {\n",
       "        vertical-align: top;\n",
       "    }\n",
       "\n",
       "    .dataframe thead th {\n",
       "        text-align: right;\n",
       "    }\n",
       "</style>\n",
       "<table border=\"1\" class=\"dataframe\">\n",
       "  <thead>\n",
       "    <tr style=\"text-align: right;\">\n",
       "      <th></th>\n",
       "      <th>city</th>\n",
       "      <th>monday</th>\n",
       "      <th>wednesday</th>\n",
       "      <th>friday</th>\n",
       "    </tr>\n",
       "  </thead>\n",
       "  <tbody>\n",
       "    <tr>\n",
       "      <th>0</th>\n",
       "      <td>Moscow</td>\n",
       "      <td>15740</td>\n",
       "      <td>11056</td>\n",
       "      <td>15945</td>\n",
       "    </tr>\n",
       "    <tr>\n",
       "      <th>1</th>\n",
       "      <td>Saint-Petersburg</td>\n",
       "      <td>5614</td>\n",
       "      <td>7003</td>\n",
       "      <td>5895</td>\n",
       "    </tr>\n",
       "  </tbody>\n",
       "</table>\n",
       "</div>"
      ],
      "text/plain": [
       "               city  monday  wednesday  friday\n",
       "0            Moscow   15740      11056   15945\n",
       "1  Saint-Petersburg    5614       7003    5895"
      ]
     },
     "metadata": {},
     "output_type": "display_data"
    }
   ],
   "source": [
    "# создадим c помощью конструктора pd.DataFrame таблицу\n",
    "data = [['Moscow', 15740, 11056, 15945], ['Saint-Petersburg', 5614, 7003, 5895]]\n",
    "columns = ['city', 'monday', 'wednesday', 'friday']\n",
    "table = pd.DataFrame(data=data, columns=columns)\n",
    "display(table)"
   ]
  },
  {
   "cell_type": "markdown",
   "metadata": {},
   "source": [
    "### Вывод"
   ]
  },
  {
   "cell_type": "markdown",
   "metadata": {
    "id": "-EgPIHYu_Zcu"
   },
   "source": [
    "Данные показывают разницу поведения пользователей:\n",
    "\n",
    "- В Москве пик прослушиваний приходится на понедельник и пятницу, а в среду заметен спад;\n",
    "- В Петербурге, наоборот, больше слушают музыку по средам. Активность в понедельник и пятницу здесь почти в равной мере уступает среде.\n",
    "\n",
    "Значит, данные говорят в пользу первой гипотезы."
   ]
  },
  {
   "cell_type": "markdown",
   "metadata": {
    "id": "atZAxtq4_Zcu"
   },
   "source": [
    "### Музыка в начале и в конце недели"
   ]
  },
  {
   "cell_type": "markdown",
   "metadata": {
    "id": "eXrQqXFH_Zcu"
   },
   "source": [
    "Согласно второй гипотезе, утром в понедельник в Москве преобладают одни жанры, а в Петербурге — другие. Так же и вечером пятницы преобладают разные жанры — в зависимости от города."
   ]
  },
  {
   "cell_type": "code",
   "execution_count": 29,
   "metadata": {
    "id": "qeaFfM_P_Zcu"
   },
   "outputs": [],
   "source": [
    "# получим таблицу moscow_general из тех строк таблицы df, \n",
    "# для которых значение в столбце 'city' равно 'Moscow'\n",
    "moscow_general = df[df['city'] == 'Moscow']"
   ]
  },
  {
   "cell_type": "code",
   "execution_count": 30,
   "metadata": {
    "id": "ORaVRKto_Zcu"
   },
   "outputs": [],
   "source": [
    "# получим таблицу spb_general из тех строк таблицы df,\n",
    "# для которых значение в столбце 'city' равно 'Saint-Petersburg'\n",
    "spb_general = df[df['city'] == 'Saint-Petersburg']"
   ]
  },
  {
   "cell_type": "markdown",
   "metadata": {
    "id": "MEJV-CX2_Zcu"
   },
   "source": [
    "Создадим функцию `genre_weekday()` с четырьмя параметрами:\n",
    "* таблица (датафрейм) с данными;\n",
    "* день недели;\n",
    "* начальная временная метка в формате 'hh:mm'; \n",
    "* последняя временная метка в формате 'hh:mm'.\n",
    "\n",
    "Функция должна вернуть информацию о топ-10 жанров тех треков, которые прослушивали в указанный день, в промежутке между двумя отметками времени."
   ]
  },
  {
   "cell_type": "code",
   "execution_count": 31,
   "metadata": {
    "id": "laJT9BYl_Zcu"
   },
   "outputs": [],
   "source": [
    "# Объявление функции genre_weekday() с параметрами table, day, time1, time2,\n",
    "# которая возвращает информацию о самых популярных жанрах в указанный день в\n",
    "# заданное время:\n",
    "# 1) в переменную genre_df сохраняются те строки переданного датафрейма table, для\n",
    "#    которых одновременно:\n",
    "#    - значение в столбце day равно значению аргумента day\n",
    "#    - значение в столбце time больше значения аргумента time1\n",
    "#    - значение в столбце time меньше значения аргумента time2\n",
    "#    Используйте последовательную фильтрацию с помощью логической индексации.\n",
    "# 2) сгруппировать датафрейм genre_df по столбцу genre, взять один из его\n",
    "#    столбцов и посчитать методом count() количество записей для каждого из\n",
    "#    присутствующих жанров, получившийся Series записать в переменную\n",
    "#    genre_df_count\n",
    "# 3) отсортировать genre_df_count по убыванию встречаемости и сохранить\n",
    "#    в переменную genre_df_sorted\n",
    "# 4) вернуть Series из 10 первых значений genre_df_sorted, это будут топ-10\n",
    "#    популярных жанров (в указанный день, в заданное время)\n",
    "def genre_weekday(table, day, time1, time2):\n",
    "    genre_df = table[(table['day'] == day) & (table['time'] > time1) & (table['time'] < time2)]\n",
    "    genre_df_count = genre_df.groupby('genre')['genre'].count()\n",
    "    genre_df_sorted = genre_df_count.sort_values(ascending=False)\n",
    "    return genre_df_sorted.head(10)"
   ]
  },
  {
   "cell_type": "markdown",
   "metadata": {
    "id": "la2s2_PF_Zcu"
   },
   "source": [
    "Cравним результаты функции `genre_weekday()` для Москвы и Санкт-Петербурга в понедельник утром (с 7:00 до 11:00) и в пятницу вечером (с 17:00 до 23:00):"
   ]
  },
  {
   "cell_type": "code",
   "execution_count": 32,
   "metadata": {
    "id": "yz7itPUQ_Zcu"
   },
   "outputs": [
    {
     "data": {
      "text/plain": [
       "genre\n",
       "pop            781\n",
       "dance          549\n",
       "electronic     480\n",
       "rock           474\n",
       "hiphop         286\n",
       "ruspop         186\n",
       "world          181\n",
       "rusrap         175\n",
       "alternative    164\n",
       "unknown        161\n",
       "Name: genre, dtype: int64"
      ]
     },
     "execution_count": 32,
     "metadata": {},
     "output_type": "execute_result"
    }
   ],
   "source": [
    "# вызов функции для утра понедельника в Москве (вместо df — таблица moscow_general)\n",
    "# объекты, хранящие время, являются строками и сравниваются как строки\n",
    "# пример вызова: genre_weekday(moscow_general, 'Monday', '07:00', '11:00')\n",
    "genre_weekday(moscow_general, 'Monday', '07:00:00', '11:00:00')"
   ]
  },
  {
   "cell_type": "code",
   "execution_count": 33,
   "metadata": {
    "id": "kwUcHPdy_Zcu"
   },
   "outputs": [
    {
     "data": {
      "text/plain": [
       "genre\n",
       "pop            218\n",
       "dance          182\n",
       "rock           162\n",
       "electronic     147\n",
       "hiphop          80\n",
       "ruspop          64\n",
       "alternative     58\n",
       "rusrap          55\n",
       "jazz            44\n",
       "classical       40\n",
       "Name: genre, dtype: int64"
      ]
     },
     "execution_count": 33,
     "metadata": {},
     "output_type": "execute_result"
    }
   ],
   "source": [
    "# вызов функции для утра понедельника в Петербурге (вместо df — таблица spb_general)\n",
    "genre_weekday(spb_general, 'Monday', '07:00:00', '11:00:00')"
   ]
  },
  {
   "cell_type": "code",
   "execution_count": 34,
   "metadata": {
    "id": "EzXVRE1o_Zcu"
   },
   "outputs": [
    {
     "data": {
      "text/plain": [
       "genre\n",
       "pop            713\n",
       "rock           517\n",
       "dance          495\n",
       "electronic     482\n",
       "hiphop         273\n",
       "world          208\n",
       "ruspop         170\n",
       "alternative    163\n",
       "classical      163\n",
       "rusrap         142\n",
       "Name: genre, dtype: int64"
      ]
     },
     "execution_count": 34,
     "metadata": {},
     "output_type": "execute_result"
    }
   ],
   "source": [
    "# вызов функции для вечера пятницы в Москве\n",
    "genre_weekday(moscow_general, 'Friday', '17:00:00', '23:00:00')"
   ]
  },
  {
   "cell_type": "code",
   "execution_count": 35,
   "metadata": {
    "id": "JZaEKu5v_Zcu",
    "scrolled": true
   },
   "outputs": [
    {
     "data": {
      "text/plain": [
       "genre\n",
       "pop            256\n",
       "electronic     216\n",
       "rock           216\n",
       "dance          210\n",
       "hiphop          97\n",
       "alternative     63\n",
       "jazz            61\n",
       "classical       60\n",
       "rusrap          59\n",
       "world           54\n",
       "Name: genre, dtype: int64"
      ]
     },
     "execution_count": 35,
     "metadata": {},
     "output_type": "execute_result"
    }
   ],
   "source": [
    "# вызов функции для вечера пятницы в Петербурге\n",
    "genre_weekday(spb_general, 'Friday', '17:00:00', '23:00:00')"
   ]
  },
  {
   "cell_type": "markdown",
   "metadata": {},
   "source": [
    "### Выводы"
   ]
  },
  {
   "cell_type": "markdown",
   "metadata": {
    "id": "wrCe4MNX_Zcu"
   },
   "source": [
    "Если сравнить топ-10 жанров в понедельник утром, можно сделать такие выводы:\n",
    "\n",
    "1. В Москве и Петербурге слушают похожую музыку. Единственное отличие — в московский рейтинг вошёл жанр `world`, а в петербургский — `джаз` и `классика`.\n",
    "\n",
    "2. В Москве пропущенных значений оказалось так много, что значение `unknown` заняло десятое место среди самых популярных жанров. Значит, пропущенные значения занимают существенную долю в данных и угрожают достоверности исследования.\n",
    "\n",
    "Вечер пятницы не меняет эту картину. Некоторые жанры поднимаются немного выше, другие спускаются, но в целом топ-10 остаётся тем же самым.\n",
    "\n",
    "Таким образом, вторая гипотеза подтвердилась лишь частично:\n",
    "* пользователи слушают похожую музыку в начале недели и в конце;\n",
    "* разница между Москвой и Петербургом не слишком выражена. В Москве чаще слушают русскую популярную музыку, в Петербурге — джаз.\n",
    "\n",
    "Однако пропуски в данных ставят под сомнение этот результат. В Москве их так много, что рейтинг топ-10 мог бы выглядеть иначе, если бы не утерянные данные о жанрах."
   ]
  },
  {
   "cell_type": "markdown",
   "metadata": {
    "id": "JolODAqr_Zcu"
   },
   "source": [
    "### Жанровые предпочтения в Москве и Петербурге\n",
    "\n",
    "**Проверка гипотезы:** Петербург — столица рэпа, музыку этого жанра там слушают чаще, чем в Москве.  А Москва — город контрастов, в котором, тем не менее, преобладает поп-музыка."
   ]
  },
  {
   "cell_type": "markdown",
   "metadata": {
    "id": "DlegSvaT_Zcu"
   },
   "source": [
    "Сгруппируем таблицу `moscow_general` по жанру и посчитаем количество прослушиваний треков каждого жанра методом `count()`. Затем отсортируем результат в порядке убывания и сохраним его в таблице `moscow_genres`."
   ]
  },
  {
   "cell_type": "code",
   "execution_count": 36,
   "metadata": {
    "id": "r19lIPke_Zcu"
   },
   "outputs": [],
   "source": [
    "# одной строкой: группировка таблицы moscow_general по столбцу 'genre', \n",
    "# подсчёт числа значений 'genre' в этой группировке методом count(), \n",
    "# сортировка получившегося Series в порядке убывания и сохранение в moscow_genres\n",
    "moscow_genres = moscow_general.groupby('genre')['genre'].count().sort_values(ascending = False)"
   ]
  },
  {
   "cell_type": "code",
   "execution_count": 37,
   "metadata": {
    "id": "WhCSooF8_Zcv"
   },
   "outputs": [
    {
     "data": {
      "text/plain": [
       "genre\n",
       "pop            5892\n",
       "dance          4435\n",
       "rock           3965\n",
       "electronic     3786\n",
       "hiphop         2096\n",
       "classical      1616\n",
       "world          1432\n",
       "alternative    1379\n",
       "ruspop         1372\n",
       "rusrap         1161\n",
       "Name: genre, dtype: int64"
      ]
     },
     "execution_count": 37,
     "metadata": {},
     "output_type": "execute_result"
    }
   ],
   "source": [
    "# посмотрим первые 10 строк moscow_genres\n",
    "moscow_genres.head(10)"
   ]
  },
  {
   "cell_type": "markdown",
   "metadata": {
    "id": "cnPG2vnN_Zcv"
   },
   "source": [
    "Теперь повторим то же и для Петербурга.\n",
    "\n",
    "Сгруппируем таблицу `spb_general` по жанру. Посчитаем количество прослушиваний треков каждого жанра. Результат отсортируем в порядке убывания и сохраните в таблице `spb_genres`:"
   ]
  },
  {
   "cell_type": "code",
   "execution_count": 38,
   "metadata": {
    "id": "gluLIpE7_Zcv"
   },
   "outputs": [],
   "source": [
    "# одной строкой: группировка таблицы spb_general по столбцу 'genre', \n",
    "# подсчёт числа значений 'genre' в этой группировке методом count(), \n",
    "# сортировка получившегося Series в порядке убывания и сохранение в spb_genres\n",
    "spb_genres = spb_general.groupby('genre')['genre'].count().sort_values(ascending = False)"
   ]
  },
  {
   "cell_type": "code",
   "execution_count": 39,
   "metadata": {
    "id": "uaGJHjVU_Zcv"
   },
   "outputs": [
    {
     "data": {
      "text/plain": [
       "genre\n",
       "pop            2431\n",
       "dance          1932\n",
       "rock           1879\n",
       "electronic     1736\n",
       "hiphop          960\n",
       "alternative     649\n",
       "classical       646\n",
       "rusrap          564\n",
       "ruspop          538\n",
       "world           515\n",
       "Name: genre, dtype: int64"
      ]
     },
     "execution_count": 39,
     "metadata": {},
     "output_type": "execute_result"
    }
   ],
   "source": [
    "# посмотрим первых 10 строк spb_genres\n",
    "spb_genres.head(10)"
   ]
  },
  {
   "cell_type": "markdown",
   "metadata": {
    "id": "RY51YJYu_Zcv"
   },
   "source": [
    "### Выводы"
   ]
  },
  {
   "cell_type": "markdown",
   "metadata": {
    "id": "nVhnJEm__Zcv"
   },
   "source": [
    "Гипотеза частично подтвердилась:\n",
    "* поп-музыка — самый популярный жанр в Москве, как и предполагала гипотеза. Более того, в топ-10 жанров встречается близкий жанр — русская популярная музыка;\n",
    "* вопреки ожиданиям, рэп одинаково популярен в Москве и Петербурге. "
   ]
  },
  {
   "cell_type": "markdown",
   "metadata": {
    "id": "ykKQ0N65_Zcv"
   },
   "source": [
    "## Итоги исследования"
   ]
  },
  {
   "cell_type": "markdown",
   "metadata": {
    "id": "tjUwbHb3_Zcv"
   },
   "source": [
    "Мы проверили три гипотезы и установили:\n",
    "\n",
    "1. День недели по-разному влияет на активность пользователей в Москве и Петербурге. \n",
    "\n",
    "Первая гипотеза полностью подтвердилась.\n",
    "\n",
    "2. Музыкальные предпочтения не сильно меняются в течение недели — будь то Москва или Петербург. Небольшие различия заметны в начале недели, по понедельникам:\n",
    "* в Москве слушают музыку жанра `world`;\n",
    "* в Петербурге — джаз и классику.\n",
    "\n",
    "Таким образом, вторая гипотеза подтвердилась лишь отчасти. Этот результат мог оказаться иным, если бы не пропуски в данных.\n",
    "\n",
    "3. Во вкусах пользователей Москвы и Петербурга больше общего чем различий. Вопреки ожиданиям, предпочтения жанров в Петербурге напоминают московские.\n",
    "\n",
    "Третья гипотеза не подтвердилась. Если различия в предпочтениях и существуют, на основной массе пользователей они незаметны.\n",
    "\n",
    "**На практике исследования содержат проверки статистических гипотез.**\n",
    "Из данных одного сервиса не всегда можно сделать вывод о всех жителях города.\n",
    "Проверки статистических гипотез покажут, насколько они достоверны, исходя из имеющихся данных. \n",
    "С методами проверок гипотез вы ещё познакомитесь в следующих темах."
   ]
  }
 ],
 "metadata": {
  "ExecuteTimeLog": [
   {
    "duration": 455,
    "start_time": "2022-01-23T13:36:10.793Z"
   },
   {
    "duration": 191,
    "start_time": "2022-01-23T13:36:20.934Z"
   },
   {
    "duration": 598,
    "start_time": "2022-01-23T13:36:26.678Z"
   },
   {
    "duration": 3,
    "start_time": "2022-01-23T13:36:32.414Z"
   },
   {
    "duration": 151,
    "start_time": "2022-01-23T13:36:34.578Z"
   },
   {
    "duration": 17,
    "start_time": "2022-01-23T13:36:36.450Z"
   },
   {
    "duration": 24,
    "start_time": "2022-01-23T13:46:45.410Z"
   },
   {
    "duration": 25,
    "start_time": "2022-01-23T13:53:58.234Z"
   },
   {
    "duration": 24,
    "start_time": "2022-01-23T13:57:13.367Z"
   },
   {
    "duration": 24,
    "start_time": "2022-01-23T13:57:20.382Z"
   },
   {
    "duration": 25,
    "start_time": "2022-01-23T13:57:24.927Z"
   },
   {
    "duration": 201,
    "start_time": "2022-01-23T14:16:56.658Z"
   },
   {
    "duration": 4,
    "start_time": "2022-01-23T14:17:03.463Z"
   },
   {
    "duration": 56,
    "start_time": "2022-01-23T14:22:49.140Z"
   },
   {
    "duration": 63,
    "start_time": "2022-01-23T14:22:55.504Z"
   },
   {
    "duration": 23,
    "start_time": "2022-01-23T14:23:04.429Z"
   },
   {
    "duration": 4,
    "start_time": "2022-01-23T14:23:15.153Z"
   },
   {
    "duration": 768,
    "start_time": "2022-01-23T16:53:59.743Z"
   },
   {
    "duration": 4,
    "start_time": "2022-01-23T16:54:02.110Z"
   },
   {
    "duration": 618,
    "start_time": "2022-01-23T16:54:07.950Z"
   },
   {
    "duration": 4,
    "start_time": "2022-01-23T16:54:13.102Z"
   },
   {
    "duration": 3,
    "start_time": "2022-01-23T16:54:16.026Z"
   },
   {
    "duration": 1067,
    "start_time": "2022-01-23T16:54:30.230Z"
   },
   {
    "duration": 170,
    "start_time": "2022-01-23T16:54:35.623Z"
   },
   {
    "duration": 26,
    "start_time": "2022-01-23T16:54:37.899Z"
   },
   {
    "duration": 32,
    "start_time": "2022-01-23T16:54:43.123Z"
   },
   {
    "duration": 6,
    "start_time": "2022-01-23T16:58:15.201Z"
   },
   {
    "duration": 24,
    "start_time": "2022-01-23T16:58:18.940Z"
   },
   {
    "duration": 5,
    "start_time": "2022-01-23T16:58:22.824Z"
   },
   {
    "duration": 31,
    "start_time": "2022-01-23T16:58:31.085Z"
   },
   {
    "duration": 8275,
    "start_time": "2022-01-23T17:02:38.283Z"
   },
   {
    "duration": 9131,
    "start_time": "2022-01-23T17:03:32.099Z"
   },
   {
    "duration": 8453,
    "start_time": "2022-01-23T17:04:49.517Z"
   },
   {
    "duration": 9010,
    "start_time": "2022-01-23T17:06:24.232Z"
   },
   {
    "duration": 10251,
    "start_time": "2022-01-23T17:06:59.361Z"
   },
   {
    "duration": 8000,
    "start_time": "2022-01-23T17:07:45.742Z"
   },
   {
    "duration": 8614,
    "start_time": "2022-01-23T17:08:17.870Z"
   },
   {
    "duration": 12,
    "start_time": "2022-01-23T17:11:15.822Z"
   },
   {
    "duration": 30,
    "start_time": "2022-01-23T17:11:32.543Z"
   },
   {
    "duration": 15,
    "start_time": "2022-01-23T17:11:45.427Z"
   },
   {
    "duration": 32,
    "start_time": "2022-01-23T17:11:47.379Z"
   },
   {
    "duration": 30,
    "start_time": "2022-01-23T17:12:30.455Z"
   },
   {
    "duration": 23,
    "start_time": "2022-01-23T17:12:32.540Z"
   },
   {
    "duration": 30,
    "start_time": "2022-01-23T17:12:36.011Z"
   },
   {
    "duration": 30,
    "start_time": "2022-01-23T17:12:37.587Z"
   },
   {
    "duration": 35,
    "start_time": "2022-01-23T17:12:40.511Z"
   },
   {
    "duration": 826,
    "start_time": "2022-01-23T17:13:08.039Z"
   },
   {
    "duration": 186,
    "start_time": "2022-01-23T17:13:08.870Z"
   },
   {
    "duration": 33,
    "start_time": "2022-01-23T17:13:09.059Z"
   },
   {
    "duration": 31,
    "start_time": "2022-01-23T17:13:09.096Z"
   },
   {
    "duration": 6,
    "start_time": "2022-01-23T17:13:09.130Z"
   },
   {
    "duration": 29,
    "start_time": "2022-01-23T17:13:09.167Z"
   },
   {
    "duration": 12,
    "start_time": "2022-01-23T17:13:09.198Z"
   },
   {
    "duration": 29,
    "start_time": "2022-01-23T17:13:09.213Z"
   },
   {
    "duration": 384,
    "start_time": "2022-01-23T17:13:12.718Z"
   },
   {
    "duration": 7500,
    "start_time": "2022-01-23T17:13:19.651Z"
   },
   {
    "duration": -1209,
    "start_time": "2022-01-23T17:13:28.362Z"
   },
   {
    "duration": 7527,
    "start_time": "2022-01-23T17:16:01.778Z"
   },
   {
    "duration": 36,
    "start_time": "2022-01-23T17:20:31.197Z"
   },
   {
    "duration": 23,
    "start_time": "2022-01-23T17:20:47.660Z"
   },
   {
    "duration": 750,
    "start_time": "2022-01-23T17:21:28.644Z"
   },
   {
    "duration": 280,
    "start_time": "2022-01-23T17:21:29.397Z"
   },
   {
    "duration": 27,
    "start_time": "2022-01-23T17:21:29.680Z"
   },
   {
    "duration": 33,
    "start_time": "2022-01-23T17:21:29.710Z"
   },
   {
    "duration": 6,
    "start_time": "2022-01-23T17:21:29.766Z"
   },
   {
    "duration": 28,
    "start_time": "2022-01-23T17:21:29.774Z"
   },
   {
    "duration": 7,
    "start_time": "2022-01-23T17:21:29.805Z"
   },
   {
    "duration": 62,
    "start_time": "2022-01-23T17:21:29.815Z"
   },
   {
    "duration": 30,
    "start_time": "2022-01-23T17:21:36.363Z"
   },
   {
    "duration": 808,
    "start_time": "2022-01-23T17:22:38.192Z"
   },
   {
    "duration": 183,
    "start_time": "2022-01-23T17:22:39.002Z"
   },
   {
    "duration": 27,
    "start_time": "2022-01-23T17:22:39.188Z"
   },
   {
    "duration": 56,
    "start_time": "2022-01-23T17:22:39.218Z"
   },
   {
    "duration": 9,
    "start_time": "2022-01-23T17:22:39.277Z"
   },
   {
    "duration": 29,
    "start_time": "2022-01-23T17:22:39.289Z"
   },
   {
    "duration": 9,
    "start_time": "2022-01-23T17:22:39.321Z"
   },
   {
    "duration": 57,
    "start_time": "2022-01-23T17:22:39.334Z"
   },
   {
    "duration": 23,
    "start_time": "2022-01-23T17:22:39.394Z"
   },
   {
    "duration": 32,
    "start_time": "2022-01-23T17:22:44.376Z"
   },
   {
    "duration": 760,
    "start_time": "2022-01-23T17:23:08.224Z"
   },
   {
    "duration": 174,
    "start_time": "2022-01-23T17:23:08.986Z"
   },
   {
    "duration": 27,
    "start_time": "2022-01-23T17:23:09.164Z"
   },
   {
    "duration": 33,
    "start_time": "2022-01-23T17:23:09.194Z"
   },
   {
    "duration": 36,
    "start_time": "2022-01-23T17:23:09.230Z"
   },
   {
    "duration": 27,
    "start_time": "2022-01-23T17:23:09.268Z"
   },
   {
    "duration": 9,
    "start_time": "2022-01-23T17:23:09.297Z"
   },
   {
    "duration": 57,
    "start_time": "2022-01-23T17:23:09.309Z"
   },
   {
    "duration": 24,
    "start_time": "2022-01-23T17:23:09.370Z"
   },
   {
    "duration": 28,
    "start_time": "2022-01-23T17:23:09.396Z"
   },
   {
    "duration": 82,
    "start_time": "2022-01-23T17:23:58.827Z"
   },
   {
    "duration": 95,
    "start_time": "2022-01-23T17:24:42.463Z"
   },
   {
    "duration": 1105,
    "start_time": "2022-01-23T17:25:01.160Z"
   },
   {
    "duration": 85,
    "start_time": "2022-01-23T17:25:08.847Z"
   },
   {
    "duration": 4,
    "start_time": "2022-01-23T17:26:41.196Z"
   },
   {
    "duration": 192,
    "start_time": "2022-01-23T17:26:41.202Z"
   },
   {
    "duration": 15,
    "start_time": "2022-01-23T17:26:41.397Z"
   },
   {
    "duration": 36,
    "start_time": "2022-01-23T17:26:41.415Z"
   },
   {
    "duration": 6,
    "start_time": "2022-01-23T17:26:41.474Z"
   },
   {
    "duration": 33,
    "start_time": "2022-01-23T17:26:41.483Z"
   },
   {
    "duration": 5,
    "start_time": "2022-01-23T17:26:41.520Z"
   },
   {
    "duration": 64,
    "start_time": "2022-01-23T17:26:41.529Z"
   },
   {
    "duration": 23,
    "start_time": "2022-01-23T17:26:41.595Z"
   },
   {
    "duration": 53,
    "start_time": "2022-01-23T17:26:41.620Z"
   },
   {
    "duration": 90,
    "start_time": "2022-01-23T17:26:41.675Z"
   },
   {
    "duration": 111,
    "start_time": "2022-01-23T17:26:41.768Z"
   },
   {
    "duration": 97,
    "start_time": "2022-01-23T17:26:41.882Z"
   },
   {
    "duration": 4,
    "start_time": "2022-01-23T17:27:30.077Z"
   },
   {
    "duration": 434,
    "start_time": "2022-01-23T17:27:37.585Z"
   },
   {
    "duration": 748,
    "start_time": "2022-01-23T17:28:03.089Z"
   },
   {
    "duration": 188,
    "start_time": "2022-01-23T17:28:05.947Z"
   },
   {
    "duration": 28,
    "start_time": "2022-01-23T17:28:07.991Z"
   },
   {
    "duration": 32,
    "start_time": "2022-01-23T17:28:10.678Z"
   },
   {
    "duration": 6,
    "start_time": "2022-01-23T17:28:14.178Z"
   },
   {
    "duration": 41,
    "start_time": "2022-01-23T17:28:16.585Z"
   },
   {
    "duration": 7,
    "start_time": "2022-01-23T17:28:18.338Z"
   },
   {
    "duration": 33,
    "start_time": "2022-01-23T17:28:20.726Z"
   },
   {
    "duration": 27,
    "start_time": "2022-01-23T17:28:22.859Z"
   },
   {
    "duration": 29,
    "start_time": "2022-01-23T17:28:24.619Z"
   },
   {
    "duration": 84,
    "start_time": "2022-01-23T17:28:26.683Z"
   },
   {
    "duration": 119,
    "start_time": "2022-01-23T17:28:28.759Z"
   },
   {
    "duration": 85,
    "start_time": "2022-01-23T17:28:31.374Z"
   },
   {
    "duration": 93,
    "start_time": "2022-01-23T17:29:05.787Z"
   },
   {
    "duration": 120,
    "start_time": "2022-01-23T17:29:19.808Z"
   },
   {
    "duration": 115,
    "start_time": "2022-01-23T17:29:27.602Z"
   },
   {
    "duration": 128,
    "start_time": "2022-01-23T17:29:30.182Z"
   },
   {
    "duration": 81,
    "start_time": "2022-01-23T17:29:31.711Z"
   },
   {
    "duration": 100,
    "start_time": "2022-01-23T17:31:03.912Z"
   },
   {
    "duration": 137,
    "start_time": "2022-01-23T17:31:33.077Z"
   },
   {
    "duration": 130,
    "start_time": "2022-01-23T17:31:35.748Z"
   },
   {
    "duration": 95,
    "start_time": "2022-01-23T17:31:40.617Z"
   },
   {
    "duration": 768,
    "start_time": "2022-01-23T17:34:48.955Z"
   },
   {
    "duration": 177,
    "start_time": "2022-01-23T17:34:52.763Z"
   },
   {
    "duration": 25,
    "start_time": "2022-01-23T17:34:56.819Z"
   },
   {
    "duration": 33,
    "start_time": "2022-01-23T17:34:59.871Z"
   },
   {
    "duration": 6,
    "start_time": "2022-01-23T17:35:04.396Z"
   },
   {
    "duration": 27,
    "start_time": "2022-01-23T17:35:42.463Z"
   },
   {
    "duration": 6,
    "start_time": "2022-01-23T17:35:45.363Z"
   },
   {
    "duration": 29,
    "start_time": "2022-01-23T17:35:50.368Z"
   },
   {
    "duration": 8057,
    "start_time": "2022-01-23T17:35:55.695Z"
   },
   {
    "duration": -1221,
    "start_time": "2022-01-23T17:36:04.976Z"
   },
   {
    "duration": 23,
    "start_time": "2022-01-23T17:36:12.244Z"
   },
   {
    "duration": 30,
    "start_time": "2022-01-23T17:36:16.484Z"
   },
   {
    "duration": 159,
    "start_time": "2022-01-23T17:36:19.482Z"
   },
   {
    "duration": 89,
    "start_time": "2022-01-23T17:36:21.348Z"
   },
   {
    "duration": 78,
    "start_time": "2022-01-23T17:36:23.038Z"
   },
   {
    "duration": 836,
    "start_time": "2022-01-23T17:37:11.545Z"
   },
   {
    "duration": 182,
    "start_time": "2022-01-23T17:37:12.383Z"
   },
   {
    "duration": 29,
    "start_time": "2022-01-23T17:37:12.568Z"
   },
   {
    "duration": 32,
    "start_time": "2022-01-23T17:37:12.600Z"
   },
   {
    "duration": 35,
    "start_time": "2022-01-23T17:37:12.635Z"
   },
   {
    "duration": 41,
    "start_time": "2022-01-23T17:37:12.673Z"
   },
   {
    "duration": 6,
    "start_time": "2022-01-23T17:37:12.717Z"
   },
   {
    "duration": 31,
    "start_time": "2022-01-23T17:37:12.726Z"
   },
   {
    "duration": 28,
    "start_time": "2022-01-23T17:37:12.766Z"
   },
   {
    "duration": 28,
    "start_time": "2022-01-23T17:37:12.796Z"
   },
   {
    "duration": 109,
    "start_time": "2022-01-23T17:37:12.827Z"
   },
   {
    "duration": 102,
    "start_time": "2022-01-23T17:37:12.938Z"
   },
   {
    "duration": 89,
    "start_time": "2022-01-23T17:37:13.043Z"
   },
   {
    "duration": 9,
    "start_time": "2022-01-23T17:37:13.135Z"
   },
   {
    "duration": 106,
    "start_time": "2022-01-23T17:43:37.243Z"
   },
   {
    "duration": 71,
    "start_time": "2022-01-23T17:43:44.151Z"
   },
   {
    "duration": 87,
    "start_time": "2022-01-23T17:43:45.759Z"
   },
   {
    "duration": 737,
    "start_time": "2022-01-23T17:46:27.875Z"
   },
   {
    "duration": 188,
    "start_time": "2022-01-23T17:46:28.614Z"
   },
   {
    "duration": 25,
    "start_time": "2022-01-23T17:46:28.804Z"
   },
   {
    "duration": 58,
    "start_time": "2022-01-23T17:46:28.832Z"
   },
   {
    "duration": 28,
    "start_time": "2022-01-23T17:46:28.893Z"
   },
   {
    "duration": 36,
    "start_time": "2022-01-23T17:46:28.923Z"
   },
   {
    "duration": 14,
    "start_time": "2022-01-23T17:46:28.962Z"
   },
   {
    "duration": 32,
    "start_time": "2022-01-23T17:46:28.980Z"
   },
   {
    "duration": 33,
    "start_time": "2022-01-23T17:46:29.015Z"
   },
   {
    "duration": 38,
    "start_time": "2022-01-23T17:46:29.050Z"
   },
   {
    "duration": 108,
    "start_time": "2022-01-23T17:46:29.091Z"
   },
   {
    "duration": 122,
    "start_time": "2022-01-23T17:46:29.202Z"
   },
   {
    "duration": 94,
    "start_time": "2022-01-23T17:46:29.327Z"
   },
   {
    "duration": 9,
    "start_time": "2022-01-23T17:46:29.424Z"
   },
   {
    "duration": 4,
    "start_time": "2022-01-23T17:46:29.436Z"
   },
   {
    "duration": 499,
    "start_time": "2022-01-23T17:46:29.465Z"
   },
   {
    "duration": 78,
    "start_time": "2022-01-23T17:47:25.032Z"
   },
   {
    "duration": 7399,
    "start_time": "2022-01-23T17:48:00.101Z"
   },
   {
    "duration": 10,
    "start_time": "2022-01-23T17:48:12.528Z"
   },
   {
    "duration": 4,
    "start_time": "2022-01-23T17:50:07.053Z"
   },
   {
    "duration": 648,
    "start_time": "2022-01-23T17:50:08.801Z"
   },
   {
    "duration": 7,
    "start_time": "2022-01-23T17:50:33.576Z"
   },
   {
    "duration": 15,
    "start_time": "2022-01-23T17:50:35.449Z"
   },
   {
    "duration": 10,
    "start_time": "2022-01-23T17:50:39.593Z"
   },
   {
    "duration": 15,
    "start_time": "2022-01-23T17:50:41.353Z"
   },
   {
    "duration": 4,
    "start_time": "2022-01-23T17:50:46.493Z"
   },
   {
    "duration": 188,
    "start_time": "2022-01-23T17:50:46.500Z"
   },
   {
    "duration": 15,
    "start_time": "2022-01-23T17:50:46.691Z"
   },
   {
    "duration": 36,
    "start_time": "2022-01-23T17:50:46.710Z"
   },
   {
    "duration": 10,
    "start_time": "2022-01-23T17:50:46.766Z"
   },
   {
    "duration": 32,
    "start_time": "2022-01-23T17:50:46.779Z"
   },
   {
    "duration": 5,
    "start_time": "2022-01-23T17:50:46.814Z"
   },
   {
    "duration": 72,
    "start_time": "2022-01-23T17:50:46.822Z"
   },
   {
    "duration": 21,
    "start_time": "2022-01-23T17:50:46.896Z"
   },
   {
    "duration": 47,
    "start_time": "2022-01-23T17:50:46.920Z"
   },
   {
    "duration": 100,
    "start_time": "2022-01-23T17:50:46.970Z"
   },
   {
    "duration": 130,
    "start_time": "2022-01-23T17:50:47.074Z"
   },
   {
    "duration": 99,
    "start_time": "2022-01-23T17:50:47.207Z"
   },
   {
    "duration": 11,
    "start_time": "2022-01-23T17:50:47.309Z"
   },
   {
    "duration": 4,
    "start_time": "2022-01-23T17:50:47.323Z"
   },
   {
    "duration": 53,
    "start_time": "2022-01-23T17:50:47.329Z"
   },
   {
    "duration": 9,
    "start_time": "2022-01-23T17:50:52.641Z"
   },
   {
    "duration": 4,
    "start_time": "2022-01-23T17:52:45.879Z"
   },
   {
    "duration": 4,
    "start_time": "2022-01-23T17:52:47.679Z"
   },
   {
    "duration": 21,
    "start_time": "2022-01-23T17:52:49.423Z"
   },
   {
    "duration": 10,
    "start_time": "2022-01-23T17:52:51.522Z"
   },
   {
    "duration": 26,
    "start_time": "2022-01-23T17:53:36.151Z"
   },
   {
    "duration": 20,
    "start_time": "2022-01-23T17:54:06.277Z"
   },
   {
    "duration": 16,
    "start_time": "2022-01-23T17:54:43.691Z"
   },
   {
    "duration": 4,
    "start_time": "2022-01-23T17:55:08.439Z"
   },
   {
    "duration": 786,
    "start_time": "2022-01-23T17:55:23.164Z"
   },
   {
    "duration": 194,
    "start_time": "2022-01-23T17:55:23.953Z"
   },
   {
    "duration": 39,
    "start_time": "2022-01-23T17:55:24.150Z"
   },
   {
    "duration": 31,
    "start_time": "2022-01-23T17:55:24.191Z"
   },
   {
    "duration": 10,
    "start_time": "2022-01-23T17:55:24.225Z"
   },
   {
    "duration": 57,
    "start_time": "2022-01-23T17:55:24.237Z"
   },
   {
    "duration": 5,
    "start_time": "2022-01-23T17:55:24.297Z"
   },
   {
    "duration": 32,
    "start_time": "2022-01-23T17:55:24.305Z"
   },
   {
    "duration": 29,
    "start_time": "2022-01-23T17:55:24.364Z"
   },
   {
    "duration": 29,
    "start_time": "2022-01-23T17:55:24.395Z"
   },
   {
    "duration": 112,
    "start_time": "2022-01-23T17:55:24.426Z"
   },
   {
    "duration": 129,
    "start_time": "2022-01-23T17:55:24.541Z"
   },
   {
    "duration": 97,
    "start_time": "2022-01-23T17:55:24.673Z"
   },
   {
    "duration": 12,
    "start_time": "2022-01-23T17:55:24.775Z"
   },
   {
    "duration": 6,
    "start_time": "2022-01-23T17:55:24.790Z"
   },
   {
    "duration": 15,
    "start_time": "2022-01-23T17:55:24.798Z"
   },
   {
    "duration": 9,
    "start_time": "2022-01-23T17:55:24.815Z"
   },
   {
    "duration": 41,
    "start_time": "2022-01-23T17:55:24.826Z"
   },
   {
    "duration": 18,
    "start_time": "2022-01-23T17:55:24.870Z"
   },
   {
    "duration": 7,
    "start_time": "2022-01-23T17:55:24.890Z"
   },
   {
    "duration": 6,
    "start_time": "2022-01-23T17:55:24.899Z"
   },
   {
    "duration": 14,
    "start_time": "2022-01-23T17:55:24.907Z"
   },
   {
    "duration": 9,
    "start_time": "2022-01-23T17:55:24.926Z"
   },
   {
    "duration": 20,
    "start_time": "2022-01-23T17:55:24.938Z"
   },
   {
    "duration": 8,
    "start_time": "2022-01-23T17:55:24.961Z"
   },
   {
    "duration": 15,
    "start_time": "2022-01-23T17:55:24.975Z"
   },
   {
    "duration": 7,
    "start_time": "2022-01-23T17:55:24.993Z"
   },
   {
    "duration": 12,
    "start_time": "2022-01-23T17:55:25.003Z"
   },
   {
    "duration": 8,
    "start_time": "2022-01-23T17:55:25.018Z"
   },
   {
    "duration": 12,
    "start_time": "2022-01-23T17:55:25.028Z"
   },
   {
    "duration": 9,
    "start_time": "2022-01-23T17:55:25.043Z"
   },
   {
    "duration": 12,
    "start_time": "2022-01-23T17:55:25.054Z"
   },
   {
    "duration": 21,
    "start_time": "2022-01-23T17:55:25.069Z"
   },
   {
    "duration": 11,
    "start_time": "2022-01-23T17:55:25.094Z"
   },
   {
    "duration": 7,
    "start_time": "2022-01-23T17:55:25.107Z"
   },
   {
    "duration": 8,
    "start_time": "2022-01-23T17:55:25.116Z"
   },
   {
    "duration": 7,
    "start_time": "2022-01-23T17:55:25.127Z"
   },
   {
    "duration": 6,
    "start_time": "2022-01-23T17:55:25.136Z"
   },
   {
    "duration": 809,
    "start_time": "2022-01-23T17:56:04.828Z"
   },
   {
    "duration": 202,
    "start_time": "2022-01-23T17:56:05.639Z"
   },
   {
    "duration": 43,
    "start_time": "2022-01-23T17:56:05.845Z"
   },
   {
    "duration": 32,
    "start_time": "2022-01-23T17:56:05.891Z"
   },
   {
    "duration": 8,
    "start_time": "2022-01-23T17:56:05.925Z"
   },
   {
    "duration": 58,
    "start_time": "2022-01-23T17:56:05.935Z"
   },
   {
    "duration": 5,
    "start_time": "2022-01-23T17:56:05.996Z"
   },
   {
    "duration": 32,
    "start_time": "2022-01-23T17:56:06.005Z"
   },
   {
    "duration": 29,
    "start_time": "2022-01-23T17:56:06.064Z"
   },
   {
    "duration": 33,
    "start_time": "2022-01-23T17:56:06.095Z"
   },
   {
    "duration": 118,
    "start_time": "2022-01-23T17:56:06.130Z"
   },
   {
    "duration": 141,
    "start_time": "2022-01-23T17:56:06.251Z"
   },
   {
    "duration": 103,
    "start_time": "2022-01-23T17:56:06.395Z"
   },
   {
    "duration": 9,
    "start_time": "2022-01-23T17:56:06.500Z"
   },
   {
    "duration": 4,
    "start_time": "2022-01-23T17:56:06.512Z"
   },
   {
    "duration": 14,
    "start_time": "2022-01-23T17:56:06.518Z"
   },
   {
    "duration": 44,
    "start_time": "2022-01-23T17:56:06.535Z"
   },
   {
    "duration": 956,
    "start_time": "2022-01-23T17:59:05.132Z"
   },
   {
    "duration": 231,
    "start_time": "2022-01-23T17:59:06.091Z"
   },
   {
    "duration": 26,
    "start_time": "2022-01-23T17:59:06.325Z"
   },
   {
    "duration": 39,
    "start_time": "2022-01-23T17:59:06.366Z"
   },
   {
    "duration": 8,
    "start_time": "2022-01-23T17:59:06.408Z"
   },
   {
    "duration": 53,
    "start_time": "2022-01-23T17:59:06.418Z"
   },
   {
    "duration": 12,
    "start_time": "2022-01-23T17:59:06.475Z"
   },
   {
    "duration": 38,
    "start_time": "2022-01-23T17:59:06.491Z"
   },
   {
    "duration": 50,
    "start_time": "2022-01-23T17:59:06.533Z"
   },
   {
    "duration": 36,
    "start_time": "2022-01-23T17:59:06.588Z"
   },
   {
    "duration": 113,
    "start_time": "2022-01-23T17:59:06.626Z"
   },
   {
    "duration": 144,
    "start_time": "2022-01-23T17:59:06.742Z"
   },
   {
    "duration": 100,
    "start_time": "2022-01-23T17:59:06.889Z"
   },
   {
    "duration": 11,
    "start_time": "2022-01-23T17:59:06.992Z"
   },
   {
    "duration": 7,
    "start_time": "2022-01-23T17:59:07.006Z"
   },
   {
    "duration": 19,
    "start_time": "2022-01-23T17:59:07.016Z"
   },
   {
    "duration": 14,
    "start_time": "2022-01-23T17:59:07.066Z"
   },
   {
    "duration": 8,
    "start_time": "2022-01-23T17:59:14.668Z"
   },
   {
    "duration": 49,
    "start_time": "2022-01-23T17:59:27.632Z"
   },
   {
    "duration": 18,
    "start_time": "2022-01-23T18:01:09.917Z"
   },
   {
    "duration": 5,
    "start_time": "2022-01-23T18:03:45.779Z"
   },
   {
    "duration": 757,
    "start_time": "2022-01-23T18:04:18.785Z"
   },
   {
    "duration": 196,
    "start_time": "2022-01-23T18:04:19.545Z"
   },
   {
    "duration": 37,
    "start_time": "2022-01-23T18:04:19.744Z"
   },
   {
    "duration": 40,
    "start_time": "2022-01-23T18:04:19.784Z"
   },
   {
    "duration": 12,
    "start_time": "2022-01-23T18:04:19.827Z"
   },
   {
    "duration": 50,
    "start_time": "2022-01-23T18:04:19.842Z"
   },
   {
    "duration": 6,
    "start_time": "2022-01-23T18:04:19.895Z"
   },
   {
    "duration": 37,
    "start_time": "2022-01-23T18:04:19.905Z"
   },
   {
    "duration": 52,
    "start_time": "2022-01-23T18:04:19.945Z"
   },
   {
    "duration": 32,
    "start_time": "2022-01-23T18:04:20.000Z"
   },
   {
    "duration": 120,
    "start_time": "2022-01-23T18:04:20.034Z"
   },
   {
    "duration": 151,
    "start_time": "2022-01-23T18:04:20.156Z"
   },
   {
    "duration": 111,
    "start_time": "2022-01-23T18:04:20.309Z"
   },
   {
    "duration": 10,
    "start_time": "2022-01-23T18:04:20.423Z"
   },
   {
    "duration": 9,
    "start_time": "2022-01-23T18:04:20.435Z"
   },
   {
    "duration": 31,
    "start_time": "2022-01-23T18:04:20.446Z"
   },
   {
    "duration": 23,
    "start_time": "2022-01-23T18:04:20.481Z"
   },
   {
    "duration": 38,
    "start_time": "2022-01-23T18:04:20.507Z"
   },
   {
    "duration": 31,
    "start_time": "2022-01-23T18:04:20.547Z"
   },
   {
    "duration": 680,
    "start_time": "2022-01-23T18:06:19.541Z"
   },
   {
    "duration": 21,
    "start_time": "2022-01-23T18:06:36.565Z"
   },
   {
    "duration": 780,
    "start_time": "2022-01-23T18:42:42.018Z"
   },
   {
    "duration": 173,
    "start_time": "2022-01-23T18:42:42.801Z"
   },
   {
    "duration": 26,
    "start_time": "2022-01-23T18:42:42.977Z"
   },
   {
    "duration": 31,
    "start_time": "2022-01-23T18:42:43.006Z"
   },
   {
    "duration": 26,
    "start_time": "2022-01-23T18:42:43.040Z"
   },
   {
    "duration": 27,
    "start_time": "2022-01-23T18:42:43.068Z"
   },
   {
    "duration": 10,
    "start_time": "2022-01-23T18:42:43.097Z"
   },
   {
    "duration": 29,
    "start_time": "2022-01-23T18:42:43.111Z"
   },
   {
    "duration": 21,
    "start_time": "2022-01-23T18:42:43.166Z"
   },
   {
    "duration": 27,
    "start_time": "2022-01-23T18:42:43.190Z"
   },
   {
    "duration": 108,
    "start_time": "2022-01-23T18:42:43.220Z"
   },
   {
    "duration": 116,
    "start_time": "2022-01-23T18:42:43.330Z"
   },
   {
    "duration": 81,
    "start_time": "2022-01-23T18:42:43.449Z"
   },
   {
    "duration": 9,
    "start_time": "2022-01-23T18:42:43.532Z"
   },
   {
    "duration": 22,
    "start_time": "2022-01-23T18:42:43.544Z"
   },
   {
    "duration": 19,
    "start_time": "2022-01-23T18:42:43.568Z"
   },
   {
    "duration": 9,
    "start_time": "2022-01-23T18:42:43.589Z"
   },
   {
    "duration": 30,
    "start_time": "2022-01-23T18:42:43.600Z"
   },
   {
    "duration": 42,
    "start_time": "2022-01-23T18:42:43.633Z"
   },
   {
    "duration": 15,
    "start_time": "2022-01-23T18:42:43.678Z"
   },
   {
    "duration": 4,
    "start_time": "2022-01-23T18:42:43.695Z"
   },
   {
    "duration": 7668,
    "start_time": "2022-01-23T18:42:43.702Z"
   },
   {
    "duration": -1217,
    "start_time": "2022-01-23T18:42:52.591Z"
   },
   {
    "duration": -1220,
    "start_time": "2022-01-23T18:42:52.595Z"
   },
   {
    "duration": -1220,
    "start_time": "2022-01-23T18:42:52.598Z"
   },
   {
    "duration": -1220,
    "start_time": "2022-01-23T18:42:52.600Z"
   },
   {
    "duration": -1218,
    "start_time": "2022-01-23T18:42:52.601Z"
   },
   {
    "duration": 710,
    "start_time": "2022-01-23T18:43:29.074Z"
   },
   {
    "duration": 176,
    "start_time": "2022-01-23T18:43:29.787Z"
   },
   {
    "duration": 27,
    "start_time": "2022-01-23T18:43:29.966Z"
   },
   {
    "duration": 33,
    "start_time": "2022-01-23T18:43:29.996Z"
   },
   {
    "duration": 36,
    "start_time": "2022-01-23T18:43:30.032Z"
   },
   {
    "duration": 34,
    "start_time": "2022-01-23T18:43:30.071Z"
   },
   {
    "duration": 14,
    "start_time": "2022-01-23T18:43:30.108Z"
   },
   {
    "duration": 47,
    "start_time": "2022-01-23T18:43:30.126Z"
   },
   {
    "duration": 42,
    "start_time": "2022-01-23T18:43:30.177Z"
   },
   {
    "duration": 31,
    "start_time": "2022-01-23T18:43:30.221Z"
   },
   {
    "duration": 102,
    "start_time": "2022-01-23T18:43:30.254Z"
   },
   {
    "duration": 119,
    "start_time": "2022-01-23T18:43:30.358Z"
   },
   {
    "duration": 102,
    "start_time": "2022-01-23T18:43:30.479Z"
   },
   {
    "duration": 11,
    "start_time": "2022-01-23T18:43:30.584Z"
   },
   {
    "duration": 6,
    "start_time": "2022-01-23T18:43:30.599Z"
   },
   {
    "duration": 27,
    "start_time": "2022-01-23T18:43:30.608Z"
   },
   {
    "duration": 34,
    "start_time": "2022-01-23T18:43:30.638Z"
   },
   {
    "duration": 32,
    "start_time": "2022-01-23T18:43:30.675Z"
   },
   {
    "duration": 24,
    "start_time": "2022-01-23T18:43:30.710Z"
   },
   {
    "duration": 41,
    "start_time": "2022-01-23T18:43:30.737Z"
   },
   {
    "duration": 19,
    "start_time": "2022-01-23T18:43:30.781Z"
   },
   {
    "duration": 51,
    "start_time": "2022-01-23T18:43:30.802Z"
   },
   {
    "duration": 21,
    "start_time": "2022-01-23T18:43:30.858Z"
   },
   {
    "duration": 25,
    "start_time": "2022-01-23T18:43:30.882Z"
   },
   {
    "duration": 25,
    "start_time": "2022-01-23T18:43:30.909Z"
   },
   {
    "duration": 31,
    "start_time": "2022-01-23T18:43:30.937Z"
   },
   {
    "duration": 21,
    "start_time": "2022-01-23T18:43:30.970Z"
   },
   {
    "duration": 735,
    "start_time": "2022-01-23T18:50:54.320Z"
   },
   {
    "duration": 200,
    "start_time": "2022-01-23T18:50:55.058Z"
   },
   {
    "duration": 46,
    "start_time": "2022-01-23T18:50:55.262Z"
   },
   {
    "duration": 55,
    "start_time": "2022-01-23T18:50:55.311Z"
   },
   {
    "duration": 15,
    "start_time": "2022-01-23T18:50:55.369Z"
   },
   {
    "duration": 35,
    "start_time": "2022-01-23T18:50:55.387Z"
   },
   {
    "duration": 28,
    "start_time": "2022-01-23T18:50:55.425Z"
   },
   {
    "duration": 59,
    "start_time": "2022-01-23T18:50:55.458Z"
   },
   {
    "duration": 43,
    "start_time": "2022-01-23T18:50:55.521Z"
   },
   {
    "duration": 36,
    "start_time": "2022-01-23T18:50:55.568Z"
   },
   {
    "duration": 108,
    "start_time": "2022-01-23T18:50:55.606Z"
   },
   {
    "duration": 124,
    "start_time": "2022-01-23T18:50:55.717Z"
   },
   {
    "duration": 95,
    "start_time": "2022-01-23T18:50:55.843Z"
   },
   {
    "duration": 9,
    "start_time": "2022-01-23T18:50:55.940Z"
   },
   {
    "duration": 4,
    "start_time": "2022-01-23T18:50:55.965Z"
   },
   {
    "duration": 17,
    "start_time": "2022-01-23T18:50:55.972Z"
   },
   {
    "duration": 10,
    "start_time": "2022-01-23T18:50:55.992Z"
   },
   {
    "duration": 60,
    "start_time": "2022-01-23T18:50:56.005Z"
   },
   {
    "duration": 19,
    "start_time": "2022-01-23T18:50:56.068Z"
   },
   {
    "duration": 17,
    "start_time": "2022-01-23T18:50:56.090Z"
   },
   {
    "duration": 5,
    "start_time": "2022-01-23T18:50:56.110Z"
   },
   {
    "duration": 21,
    "start_time": "2022-01-23T18:50:56.165Z"
   },
   {
    "duration": 20,
    "start_time": "2022-01-23T18:50:56.191Z"
   },
   {
    "duration": 32,
    "start_time": "2022-01-23T18:50:56.213Z"
   },
   {
    "duration": 30,
    "start_time": "2022-01-23T18:50:56.247Z"
   },
   {
    "duration": 22,
    "start_time": "2022-01-23T18:50:56.279Z"
   },
   {
    "duration": 8,
    "start_time": "2022-01-23T18:50:56.304Z"
   },
   {
    "duration": 6,
    "start_time": "2022-01-23T18:51:15.829Z"
   },
   {
    "duration": 6,
    "start_time": "2022-01-23T18:51:18.857Z"
   },
   {
    "duration": 21,
    "start_time": "2022-01-23T18:51:35.401Z"
   },
   {
    "duration": 17,
    "start_time": "2022-01-23T18:51:37.149Z"
   },
   {
    "duration": 20,
    "start_time": "2022-01-23T18:51:55.276Z"
   },
   {
    "duration": 20,
    "start_time": "2022-01-23T18:52:11.489Z"
   },
   {
    "duration": 759,
    "start_time": "2022-01-23T18:52:30.833Z"
   },
   {
    "duration": 177,
    "start_time": "2022-01-23T18:52:31.595Z"
   },
   {
    "duration": 26,
    "start_time": "2022-01-23T18:52:31.775Z"
   },
   {
    "duration": 31,
    "start_time": "2022-01-23T18:52:31.803Z"
   },
   {
    "duration": 30,
    "start_time": "2022-01-23T18:52:31.836Z"
   },
   {
    "duration": 30,
    "start_time": "2022-01-23T18:52:31.868Z"
   },
   {
    "duration": 5,
    "start_time": "2022-01-23T18:52:31.901Z"
   },
   {
    "duration": 56,
    "start_time": "2022-01-23T18:52:31.910Z"
   },
   {
    "duration": 22,
    "start_time": "2022-01-23T18:52:31.969Z"
   },
   {
    "duration": 28,
    "start_time": "2022-01-23T18:52:31.994Z"
   },
   {
    "duration": 107,
    "start_time": "2022-01-23T18:52:32.025Z"
   },
   {
    "duration": 117,
    "start_time": "2022-01-23T18:52:32.135Z"
   },
   {
    "duration": 82,
    "start_time": "2022-01-23T18:52:32.255Z"
   },
   {
    "duration": 26,
    "start_time": "2022-01-23T18:52:32.340Z"
   },
   {
    "duration": 7,
    "start_time": "2022-01-23T18:52:32.368Z"
   },
   {
    "duration": 30,
    "start_time": "2022-01-23T18:52:32.378Z"
   },
   {
    "duration": 10,
    "start_time": "2022-01-23T18:52:32.410Z"
   },
   {
    "duration": 44,
    "start_time": "2022-01-23T18:52:32.422Z"
   },
   {
    "duration": 14,
    "start_time": "2022-01-23T18:52:32.469Z"
   },
   {
    "duration": 13,
    "start_time": "2022-01-23T18:52:32.485Z"
   },
   {
    "duration": 7,
    "start_time": "2022-01-23T18:52:32.501Z"
   },
   {
    "duration": 35,
    "start_time": "2022-01-23T18:52:32.510Z"
   },
   {
    "duration": 18,
    "start_time": "2022-01-23T18:52:32.567Z"
   },
   {
    "duration": 26,
    "start_time": "2022-01-23T18:52:32.589Z"
   },
   {
    "duration": 46,
    "start_time": "2022-01-23T18:52:32.618Z"
   },
   {
    "duration": 21,
    "start_time": "2022-01-23T18:52:32.667Z"
   },
   {
    "duration": 24,
    "start_time": "2022-01-23T18:52:32.690Z"
   },
   {
    "duration": 6,
    "start_time": "2022-01-23T18:53:22.446Z"
   },
   {
    "duration": 6,
    "start_time": "2022-01-23T18:53:25.441Z"
   },
   {
    "duration": 6,
    "start_time": "2022-01-23T18:53:35.798Z"
   },
   {
    "duration": 17,
    "start_time": "2022-01-23T18:53:39.661Z"
   },
   {
    "duration": 12,
    "start_time": "2022-01-23T18:54:13.490Z"
   },
   {
    "duration": 17,
    "start_time": "2022-01-23T18:56:45.738Z"
   },
   {
    "duration": 19,
    "start_time": "2022-01-23T18:56:49.671Z"
   },
   {
    "duration": 12,
    "start_time": "2022-01-23T18:57:17.635Z"
   },
   {
    "duration": 30,
    "start_time": "2022-01-23T18:57:32.855Z"
   },
   {
    "duration": 27,
    "start_time": "2022-01-23T18:57:46.760Z"
   },
   {
    "duration": 791,
    "start_time": "2022-01-23T19:08:30.847Z"
   },
   {
    "duration": 193,
    "start_time": "2022-01-23T19:08:31.641Z"
   },
   {
    "duration": 36,
    "start_time": "2022-01-23T19:08:31.837Z"
   },
   {
    "duration": 33,
    "start_time": "2022-01-23T19:08:31.876Z"
   },
   {
    "duration": 5,
    "start_time": "2022-01-23T19:08:31.912Z"
   },
   {
    "duration": 59,
    "start_time": "2022-01-23T19:08:31.920Z"
   },
   {
    "duration": 12,
    "start_time": "2022-01-23T19:08:31.981Z"
   },
   {
    "duration": 41,
    "start_time": "2022-01-23T19:08:31.995Z"
   },
   {
    "duration": 36,
    "start_time": "2022-01-23T19:08:32.042Z"
   },
   {
    "duration": 30,
    "start_time": "2022-01-23T19:08:32.081Z"
   },
   {
    "duration": 107,
    "start_time": "2022-01-23T19:08:32.113Z"
   },
   {
    "duration": 130,
    "start_time": "2022-01-23T19:08:32.222Z"
   },
   {
    "duration": 94,
    "start_time": "2022-01-23T19:08:32.355Z"
   },
   {
    "duration": 11,
    "start_time": "2022-01-23T19:08:32.463Z"
   },
   {
    "duration": 4,
    "start_time": "2022-01-23T19:08:32.476Z"
   },
   {
    "duration": 15,
    "start_time": "2022-01-23T19:08:32.483Z"
   },
   {
    "duration": 10,
    "start_time": "2022-01-23T19:08:32.500Z"
   },
   {
    "duration": 73,
    "start_time": "2022-01-23T19:08:32.512Z"
   },
   {
    "duration": 17,
    "start_time": "2022-01-23T19:08:32.588Z"
   },
   {
    "duration": 15,
    "start_time": "2022-01-23T19:08:32.608Z"
   },
   {
    "duration": 5,
    "start_time": "2022-01-23T19:08:32.625Z"
   },
   {
    "duration": 24,
    "start_time": "2022-01-23T19:08:32.664Z"
   },
   {
    "duration": 29,
    "start_time": "2022-01-23T19:08:32.691Z"
   },
   {
    "duration": 48,
    "start_time": "2022-01-23T19:08:32.724Z"
   },
   {
    "duration": 18,
    "start_time": "2022-01-23T19:08:32.775Z"
   },
   {
    "duration": 23,
    "start_time": "2022-01-23T19:08:32.797Z"
   },
   {
    "duration": 51,
    "start_time": "2022-01-23T19:08:32.825Z"
   },
   {
    "duration": 12,
    "start_time": "2022-01-23T19:08:32.880Z"
   },
   {
    "duration": 17,
    "start_time": "2022-01-23T19:08:32.895Z"
   },
   {
    "duration": 12,
    "start_time": "2022-01-23T19:08:32.915Z"
   },
   {
    "duration": 38,
    "start_time": "2022-01-23T19:08:32.929Z"
   },
   {
    "duration": 46,
    "start_time": "2022-01-23T19:08:32.970Z"
   },
   {
    "duration": 28,
    "start_time": "2022-01-23T19:08:33.018Z"
   },
   {
    "duration": 40,
    "start_time": "2022-01-23T19:08:33.049Z"
   },
   {
    "duration": 29,
    "start_time": "2022-01-23T19:09:09.068Z"
   },
   {
    "duration": 731,
    "start_time": "2022-01-23T19:10:08.096Z"
   },
   {
    "duration": 201,
    "start_time": "2022-01-23T19:10:10.056Z"
   },
   {
    "duration": 26,
    "start_time": "2022-01-23T19:10:12.740Z"
   },
   {
    "duration": 35,
    "start_time": "2022-01-23T19:10:15.344Z"
   },
   {
    "duration": 6,
    "start_time": "2022-01-23T19:10:19.679Z"
   },
   {
    "duration": 28,
    "start_time": "2022-01-23T19:10:24.856Z"
   },
   {
    "duration": 7,
    "start_time": "2022-01-23T19:10:26.855Z"
   },
   {
    "duration": 30,
    "start_time": "2022-01-23T19:10:30.364Z"
   },
   {
    "duration": 25,
    "start_time": "2022-01-23T19:10:33.016Z"
   },
   {
    "duration": 31,
    "start_time": "2022-01-23T19:10:35.512Z"
   },
   {
    "duration": 86,
    "start_time": "2022-01-23T19:10:37.864Z"
   },
   {
    "duration": 146,
    "start_time": "2022-01-23T19:10:40.256Z"
   },
   {
    "duration": 80,
    "start_time": "2022-01-23T19:10:42.756Z"
   },
   {
    "duration": 102,
    "start_time": "2022-01-23T19:12:18.317Z"
   },
   {
    "duration": 78,
    "start_time": "2022-01-23T19:12:20.712Z"
   },
   {
    "duration": 74,
    "start_time": "2022-01-23T19:12:22.533Z"
   },
   {
    "duration": 715,
    "start_time": "2022-01-23T19:12:33.984Z"
   },
   {
    "duration": 179,
    "start_time": "2022-01-23T19:12:36.468Z"
   },
   {
    "duration": 26,
    "start_time": "2022-01-23T19:12:38.172Z"
   },
   {
    "duration": 35,
    "start_time": "2022-01-23T19:12:40.663Z"
   },
   {
    "duration": 6,
    "start_time": "2022-01-23T19:12:47.187Z"
   },
   {
    "duration": 25,
    "start_time": "2022-01-23T19:12:49.116Z"
   },
   {
    "duration": 6,
    "start_time": "2022-01-23T19:12:50.819Z"
   },
   {
    "duration": 31,
    "start_time": "2022-01-23T19:12:52.947Z"
   },
   {
    "duration": 22,
    "start_time": "2022-01-23T19:12:55.888Z"
   },
   {
    "duration": 36,
    "start_time": "2022-01-23T19:12:58.631Z"
   },
   {
    "duration": 81,
    "start_time": "2022-01-23T19:13:00.668Z"
   },
   {
    "duration": 100,
    "start_time": "2022-01-23T19:13:02.244Z"
   },
   {
    "duration": 101,
    "start_time": "2022-01-23T19:13:04.104Z"
   },
   {
    "duration": 10,
    "start_time": "2022-01-23T19:13:06.903Z"
   },
   {
    "duration": 5,
    "start_time": "2022-01-23T19:13:10.699Z"
   },
   {
    "duration": 14,
    "start_time": "2022-01-23T19:13:13.228Z"
   },
   {
    "duration": 10,
    "start_time": "2022-01-23T19:13:16.039Z"
   },
   {
    "duration": 11,
    "start_time": "2022-01-23T19:13:20.860Z"
   },
   {
    "duration": 10,
    "start_time": "2022-01-23T19:13:23.952Z"
   },
   {
    "duration": 9,
    "start_time": "2022-01-23T19:13:28.300Z"
   },
   {
    "duration": 30,
    "start_time": "2022-01-23T19:13:31.587Z"
   },
   {
    "duration": 14,
    "start_time": "2022-01-23T19:13:36.716Z"
   },
   {
    "duration": 16,
    "start_time": "2022-01-23T19:13:39.536Z"
   },
   {
    "duration": 5,
    "start_time": "2022-01-23T19:13:42.416Z"
   },
   {
    "duration": 18,
    "start_time": "2022-01-23T19:13:44.576Z"
   },
   {
    "duration": 20,
    "start_time": "2022-01-23T19:13:46.996Z"
   },
   {
    "duration": 21,
    "start_time": "2022-01-23T19:13:48.796Z"
   },
   {
    "duration": 18,
    "start_time": "2022-01-23T19:13:49.504Z"
   },
   {
    "duration": 360,
    "start_time": "2022-01-23T19:14:21.634Z"
   },
   {
    "duration": 1189,
    "start_time": "2022-01-23T19:14:29.763Z"
   },
   {
    "duration": 193,
    "start_time": "2022-01-23T19:14:30.956Z"
   },
   {
    "duration": 25,
    "start_time": "2022-01-23T19:14:31.152Z"
   },
   {
    "duration": 43,
    "start_time": "2022-01-23T19:14:31.181Z"
   },
   {
    "duration": 7,
    "start_time": "2022-01-23T19:14:31.226Z"
   },
   {
    "duration": 60,
    "start_time": "2022-01-23T19:14:31.236Z"
   },
   {
    "duration": 16,
    "start_time": "2022-01-23T19:14:31.299Z"
   },
   {
    "duration": 40,
    "start_time": "2022-01-23T19:14:31.321Z"
   },
   {
    "duration": 27,
    "start_time": "2022-01-23T19:14:31.364Z"
   },
   {
    "duration": 52,
    "start_time": "2022-01-23T19:14:31.393Z"
   },
   {
    "duration": 99,
    "start_time": "2022-01-23T19:14:31.447Z"
   },
   {
    "duration": 104,
    "start_time": "2022-01-23T19:14:31.549Z"
   },
   {
    "duration": 75,
    "start_time": "2022-01-23T19:14:31.664Z"
   },
   {
    "duration": 30,
    "start_time": "2022-01-23T19:14:31.742Z"
   },
   {
    "duration": 5,
    "start_time": "2022-01-23T19:14:31.775Z"
   },
   {
    "duration": 22,
    "start_time": "2022-01-23T19:14:31.784Z"
   },
   {
    "duration": 16,
    "start_time": "2022-01-23T19:14:31.808Z"
   },
   {
    "duration": 49,
    "start_time": "2022-01-23T19:14:31.827Z"
   },
   {
    "duration": 13,
    "start_time": "2022-01-23T19:14:31.879Z"
   },
   {
    "duration": 25,
    "start_time": "2022-01-23T19:14:31.895Z"
   },
   {
    "duration": 4,
    "start_time": "2022-01-23T19:14:31.922Z"
   },
   {
    "duration": 47,
    "start_time": "2022-01-23T19:14:31.929Z"
   },
   {
    "duration": 18,
    "start_time": "2022-01-23T19:14:31.981Z"
   },
   {
    "duration": 19,
    "start_time": "2022-01-23T19:14:32.002Z"
   },
   {
    "duration": 53,
    "start_time": "2022-01-23T19:14:32.023Z"
   },
   {
    "duration": 19,
    "start_time": "2022-01-23T19:14:32.079Z"
   },
   {
    "duration": 17,
    "start_time": "2022-01-23T19:14:32.101Z"
   },
   {
    "duration": 45,
    "start_time": "2022-01-23T19:14:32.120Z"
   },
   {
    "duration": 14,
    "start_time": "2022-01-23T19:14:32.168Z"
   },
   {
    "duration": 13,
    "start_time": "2022-01-23T19:15:23.707Z"
   },
   {
    "duration": 18,
    "start_time": "2022-01-23T19:15:33.256Z"
   },
   {
    "duration": 13,
    "start_time": "2022-01-23T19:15:34.575Z"
   },
   {
    "duration": 8,
    "start_time": "2022-01-23T19:19:07.213Z"
   },
   {
    "duration": 25,
    "start_time": "2022-01-23T19:19:11.844Z"
   },
   {
    "duration": 17,
    "start_time": "2022-01-23T19:19:14.733Z"
   },
   {
    "duration": 22,
    "start_time": "2022-01-23T19:19:16.693Z"
   },
   {
    "duration": 17,
    "start_time": "2022-01-23T19:19:18.560Z"
   },
   {
    "duration": 419,
    "start_time": "2022-01-23T19:21:55.359Z"
   },
   {
    "duration": 779,
    "start_time": "2022-01-23T19:22:24.003Z"
   },
   {
    "duration": 180,
    "start_time": "2022-01-23T19:22:24.785Z"
   },
   {
    "duration": 26,
    "start_time": "2022-01-23T19:22:24.968Z"
   },
   {
    "duration": 32,
    "start_time": "2022-01-23T19:22:24.997Z"
   },
   {
    "duration": 37,
    "start_time": "2022-01-23T19:22:25.031Z"
   },
   {
    "duration": 27,
    "start_time": "2022-01-23T19:22:25.070Z"
   },
   {
    "duration": 12,
    "start_time": "2022-01-23T19:22:25.099Z"
   },
   {
    "duration": 56,
    "start_time": "2022-01-23T19:22:25.115Z"
   },
   {
    "duration": 22,
    "start_time": "2022-01-23T19:22:25.174Z"
   },
   {
    "duration": 41,
    "start_time": "2022-01-23T19:22:25.199Z"
   },
   {
    "duration": 154,
    "start_time": "2022-01-23T19:22:25.243Z"
   },
   {
    "duration": 129,
    "start_time": "2022-01-23T19:22:25.401Z"
   },
   {
    "duration": 87,
    "start_time": "2022-01-23T19:22:25.532Z"
   },
   {
    "duration": 12,
    "start_time": "2022-01-23T19:22:25.622Z"
   },
   {
    "duration": 28,
    "start_time": "2022-01-23T19:22:25.637Z"
   },
   {
    "duration": 18,
    "start_time": "2022-01-23T19:22:25.667Z"
   },
   {
    "duration": 12,
    "start_time": "2022-01-23T19:22:25.687Z"
   },
   {
    "duration": 30,
    "start_time": "2022-01-23T19:22:25.702Z"
   },
   {
    "duration": 16,
    "start_time": "2022-01-23T19:22:25.765Z"
   },
   {
    "duration": 14,
    "start_time": "2022-01-23T19:22:25.783Z"
   },
   {
    "duration": 4,
    "start_time": "2022-01-23T19:22:25.800Z"
   },
   {
    "duration": 61,
    "start_time": "2022-01-23T19:22:25.806Z"
   },
   {
    "duration": 19,
    "start_time": "2022-01-23T19:22:25.874Z"
   },
   {
    "duration": 19,
    "start_time": "2022-01-23T19:22:25.896Z"
   },
   {
    "duration": 51,
    "start_time": "2022-01-23T19:22:25.917Z"
   },
   {
    "duration": 19,
    "start_time": "2022-01-23T19:22:25.970Z"
   },
   {
    "duration": 17,
    "start_time": "2022-01-23T19:22:25.991Z"
   },
   {
    "duration": 13,
    "start_time": "2022-01-23T19:22:26.010Z"
   },
   {
    "duration": 50,
    "start_time": "2022-01-23T19:22:26.025Z"
   },
   {
    "duration": 13,
    "start_time": "2022-01-23T19:22:26.078Z"
   },
   {
    "duration": 8,
    "start_time": "2022-01-23T19:22:26.093Z"
   },
   {
    "duration": 32,
    "start_time": "2022-01-23T19:22:26.103Z"
   },
   {
    "duration": 42,
    "start_time": "2022-01-23T19:22:26.138Z"
   },
   {
    "duration": 26,
    "start_time": "2022-01-23T19:22:26.183Z"
   },
   {
    "duration": 15,
    "start_time": "2022-01-23T19:22:26.212Z"
   },
   {
    "duration": 12,
    "start_time": "2022-01-23T19:22:26.266Z"
   },
   {
    "duration": 7,
    "start_time": "2022-01-23T19:22:26.280Z"
   },
   {
    "duration": 12,
    "start_time": "2022-01-23T19:22:26.290Z"
   },
   {
    "duration": 7,
    "start_time": "2022-01-23T19:22:26.304Z"
   },
   {
    "duration": 767,
    "start_time": "2022-01-23T19:26:10.298Z"
   },
   {
    "duration": 186,
    "start_time": "2022-01-23T19:26:16.393Z"
   },
   {
    "duration": 35,
    "start_time": "2022-01-23T19:26:19.193Z"
   },
   {
    "duration": 55,
    "start_time": "2022-01-23T19:26:24.990Z"
   },
   {
    "duration": 6,
    "start_time": "2022-01-23T19:26:58.957Z"
   },
   {
    "duration": 25,
    "start_time": "2022-01-23T19:27:13.462Z"
   },
   {
    "duration": 6,
    "start_time": "2022-01-23T19:27:16.222Z"
   },
   {
    "duration": 33,
    "start_time": "2022-01-23T19:27:20.026Z"
   },
   {
    "duration": 22,
    "start_time": "2022-01-23T19:27:35.954Z"
   },
   {
    "duration": 31,
    "start_time": "2022-01-23T19:27:42.958Z"
   },
   {
    "duration": 80,
    "start_time": "2022-01-23T19:27:48.910Z"
   },
   {
    "duration": 101,
    "start_time": "2022-01-23T19:27:51.706Z"
   },
   {
    "duration": 79,
    "start_time": "2022-01-23T19:27:54.010Z"
   },
   {
    "duration": 11,
    "start_time": "2022-01-23T19:28:00.690Z"
   },
   {
    "duration": 4,
    "start_time": "2022-01-23T19:28:05.211Z"
   },
   {
    "duration": 15,
    "start_time": "2022-01-23T19:28:13.058Z"
   },
   {
    "duration": 10,
    "start_time": "2022-01-23T19:28:31.467Z"
   },
   {
    "duration": 490,
    "start_time": "2022-01-23T19:30:29.348Z"
   },
   {
    "duration": 82,
    "start_time": "2022-01-23T19:31:12.587Z"
   },
   {
    "duration": 133,
    "start_time": "2022-01-23T19:33:01.092Z"
   },
   {
    "duration": 10,
    "start_time": "2022-01-23T19:33:16.785Z"
   },
   {
    "duration": 309,
    "start_time": "2022-01-23T19:33:59.664Z"
   },
   {
    "duration": 305,
    "start_time": "2022-01-23T19:34:37.485Z"
   },
   {
    "duration": 297,
    "start_time": "2022-01-23T19:34:57.009Z"
   },
   {
    "duration": 65,
    "start_time": "2022-01-23T19:35:02.142Z"
   },
   {
    "duration": 67,
    "start_time": "2022-01-23T19:35:04.309Z"
   },
   {
    "duration": 307,
    "start_time": "2022-01-23T19:35:27.029Z"
   },
   {
    "duration": 1229,
    "start_time": "2022-01-23T19:35:32.953Z"
   },
   {
    "duration": 46,
    "start_time": "2022-01-23T19:36:44.614Z"
   },
   {
    "duration": 14,
    "start_time": "2022-01-23T19:36:54.202Z"
   },
   {
    "duration": 18,
    "start_time": "2022-01-23T19:37:13.910Z"
   },
   {
    "duration": 327,
    "start_time": "2022-01-23T19:37:59.779Z"
   },
   {
    "duration": 305,
    "start_time": "2022-01-23T19:38:06.515Z"
   },
   {
    "duration": 14,
    "start_time": "2022-01-23T19:40:32.660Z"
   },
   {
    "duration": 17,
    "start_time": "2022-01-23T19:40:42.275Z"
   },
   {
    "duration": 311,
    "start_time": "2022-01-23T19:41:25.532Z"
   },
   {
    "duration": 10,
    "start_time": "2022-01-23T19:42:24.640Z"
   },
   {
    "duration": 6,
    "start_time": "2022-01-23T19:44:52.254Z"
   },
   {
    "duration": 8,
    "start_time": "2022-01-23T19:44:54.274Z"
   },
   {
    "duration": 11,
    "start_time": "2022-01-23T19:45:01.070Z"
   },
   {
    "duration": 297,
    "start_time": "2022-01-23T19:46:41.151Z"
   },
   {
    "duration": 1025,
    "start_time": "2022-01-23T19:48:20.912Z"
   },
   {
    "duration": 203,
    "start_time": "2022-01-23T19:48:21.941Z"
   },
   {
    "duration": 37,
    "start_time": "2022-01-23T19:48:22.148Z"
   },
   {
    "duration": 33,
    "start_time": "2022-01-23T19:48:22.188Z"
   },
   {
    "duration": 10,
    "start_time": "2022-01-23T19:48:22.224Z"
   },
   {
    "duration": 33,
    "start_time": "2022-01-23T19:48:22.266Z"
   },
   {
    "duration": 15,
    "start_time": "2022-01-23T19:48:22.302Z"
   },
   {
    "duration": 53,
    "start_time": "2022-01-23T19:48:22.322Z"
   },
   {
    "duration": 25,
    "start_time": "2022-01-23T19:48:22.380Z"
   },
   {
    "duration": 28,
    "start_time": "2022-01-23T19:48:22.408Z"
   },
   {
    "duration": 101,
    "start_time": "2022-01-23T19:48:22.467Z"
   },
   {
    "duration": 116,
    "start_time": "2022-01-23T19:48:22.571Z"
   },
   {
    "duration": 85,
    "start_time": "2022-01-23T19:48:22.689Z"
   },
   {
    "duration": 13,
    "start_time": "2022-01-23T19:48:22.777Z"
   },
   {
    "duration": 27,
    "start_time": "2022-01-23T19:48:22.792Z"
   },
   {
    "duration": 29,
    "start_time": "2022-01-23T19:48:22.822Z"
   },
   {
    "duration": 16,
    "start_time": "2022-01-23T19:48:22.854Z"
   },
   {
    "duration": 37,
    "start_time": "2022-01-23T19:48:22.873Z"
   },
   {
    "duration": 16,
    "start_time": "2022-01-23T19:48:22.912Z"
   },
   {
    "duration": 47,
    "start_time": "2022-01-23T19:48:22.930Z"
   },
   {
    "duration": 7,
    "start_time": "2022-01-23T19:48:22.980Z"
   },
   {
    "duration": 40,
    "start_time": "2022-01-23T19:48:22.991Z"
   },
   {
    "duration": 56,
    "start_time": "2022-01-23T19:48:23.039Z"
   },
   {
    "duration": 20,
    "start_time": "2022-01-23T19:48:23.098Z"
   },
   {
    "duration": 47,
    "start_time": "2022-01-23T19:48:23.121Z"
   },
   {
    "duration": 27,
    "start_time": "2022-01-23T19:48:23.171Z"
   },
   {
    "duration": 18,
    "start_time": "2022-01-23T19:48:23.201Z"
   },
   {
    "duration": 52,
    "start_time": "2022-01-23T19:48:23.221Z"
   },
   {
    "duration": 31,
    "start_time": "2022-01-23T19:48:23.277Z"
   },
   {
    "duration": 13,
    "start_time": "2022-01-23T19:48:23.312Z"
   },
   {
    "duration": 6,
    "start_time": "2022-01-23T19:48:23.328Z"
   },
   {
    "duration": 49,
    "start_time": "2022-01-23T19:48:23.336Z"
   },
   {
    "duration": 19,
    "start_time": "2022-01-23T19:48:23.389Z"
   },
   {
    "duration": 22,
    "start_time": "2022-01-23T19:48:23.411Z"
   },
   {
    "duration": 23,
    "start_time": "2022-01-23T19:48:23.464Z"
   },
   {
    "duration": 14,
    "start_time": "2022-01-23T19:48:23.490Z"
   },
   {
    "duration": 6,
    "start_time": "2022-01-23T19:48:23.507Z"
   },
   {
    "duration": 53,
    "start_time": "2022-01-23T19:48:23.516Z"
   },
   {
    "duration": 13,
    "start_time": "2022-01-23T19:48:23.572Z"
   },
   {
    "duration": 10,
    "start_time": "2022-01-23T19:50:07.121Z"
   },
   {
    "duration": 774,
    "start_time": "2022-01-23T19:50:56.186Z"
   },
   {
    "duration": 56,
    "start_time": "2022-01-23T19:51:21.286Z"
   },
   {
    "duration": 64,
    "start_time": "2022-01-23T19:51:24.534Z"
   },
   {
    "duration": 56,
    "start_time": "2022-01-23T19:51:47.810Z"
   },
   {
    "duration": 60,
    "start_time": "2022-01-23T19:51:49.430Z"
   },
   {
    "duration": 61,
    "start_time": "2022-01-23T19:51:50.030Z"
   },
   {
    "duration": 59,
    "start_time": "2022-01-23T19:51:50.378Z"
   },
   {
    "duration": 52,
    "start_time": "2022-01-23T19:51:50.602Z"
   },
   {
    "duration": 52,
    "start_time": "2022-01-23T19:51:50.810Z"
   },
   {
    "duration": 344,
    "start_time": "2022-01-23T19:52:02.282Z"
   },
   {
    "duration": 64,
    "start_time": "2022-01-23T19:52:53.055Z"
   },
   {
    "duration": 63,
    "start_time": "2022-01-23T19:53:13.345Z"
   },
   {
    "duration": 1012,
    "start_time": "2022-01-23T19:53:24.600Z"
   },
   {
    "duration": 209,
    "start_time": "2022-01-23T19:53:25.616Z"
   },
   {
    "duration": 41,
    "start_time": "2022-01-23T19:53:25.828Z"
   },
   {
    "duration": 35,
    "start_time": "2022-01-23T19:53:25.874Z"
   },
   {
    "duration": 6,
    "start_time": "2022-01-23T19:53:25.912Z"
   },
   {
    "duration": 69,
    "start_time": "2022-01-23T19:53:25.920Z"
   },
   {
    "duration": 6,
    "start_time": "2022-01-23T19:53:25.992Z"
   },
   {
    "duration": 32,
    "start_time": "2022-01-23T19:53:26.002Z"
   },
   {
    "duration": 55,
    "start_time": "2022-01-23T19:53:26.038Z"
   },
   {
    "duration": 30,
    "start_time": "2022-01-23T19:53:26.096Z"
   },
   {
    "duration": 117,
    "start_time": "2022-01-23T19:53:26.129Z"
   },
   {
    "duration": 117,
    "start_time": "2022-01-23T19:53:26.249Z"
   },
   {
    "duration": 82,
    "start_time": "2022-01-23T19:53:26.370Z"
   },
   {
    "duration": 63,
    "start_time": "2022-01-23T19:53:26.465Z"
   },
   {
    "duration": 4,
    "start_time": "2022-01-23T19:53:26.531Z"
   },
   {
    "duration": 45,
    "start_time": "2022-01-23T19:53:26.537Z"
   },
   {
    "duration": 60,
    "start_time": "2022-01-23T19:53:26.585Z"
   },
   {
    "duration": 37,
    "start_time": "2022-01-23T19:53:26.665Z"
   },
   {
    "duration": 15,
    "start_time": "2022-01-23T19:53:26.705Z"
   },
   {
    "duration": 44,
    "start_time": "2022-01-23T19:53:26.722Z"
   },
   {
    "duration": 7,
    "start_time": "2022-01-23T19:53:26.769Z"
   },
   {
    "duration": 34,
    "start_time": "2022-01-23T19:53:26.779Z"
   },
   {
    "duration": 19,
    "start_time": "2022-01-23T19:53:26.819Z"
   },
   {
    "duration": 47,
    "start_time": "2022-01-23T19:53:26.840Z"
   },
   {
    "duration": 30,
    "start_time": "2022-01-23T19:53:26.889Z"
   },
   {
    "duration": 59,
    "start_time": "2022-01-23T19:53:26.922Z"
   },
   {
    "duration": 22,
    "start_time": "2022-01-23T19:53:26.984Z"
   },
   {
    "duration": 12,
    "start_time": "2022-01-23T19:53:27.009Z"
   },
   {
    "duration": 45,
    "start_time": "2022-01-23T19:53:27.023Z"
   },
   {
    "duration": 21,
    "start_time": "2022-01-23T19:53:27.072Z"
   },
   {
    "duration": 7,
    "start_time": "2022-01-23T19:53:27.095Z"
   },
   {
    "duration": 37,
    "start_time": "2022-01-23T19:53:27.104Z"
   },
   {
    "duration": 39,
    "start_time": "2022-01-23T19:53:27.143Z"
   },
   {
    "duration": 23,
    "start_time": "2022-01-23T19:53:27.185Z"
   },
   {
    "duration": 16,
    "start_time": "2022-01-23T19:53:27.211Z"
   },
   {
    "duration": 51,
    "start_time": "2022-01-23T19:53:27.229Z"
   },
   {
    "duration": 6,
    "start_time": "2022-01-23T19:53:27.284Z"
   },
   {
    "duration": 11,
    "start_time": "2022-01-23T19:53:27.292Z"
   },
   {
    "duration": 7,
    "start_time": "2022-01-23T19:53:27.306Z"
   },
   {
    "duration": 751,
    "start_time": "2022-01-23T19:59:21.980Z"
   },
   {
    "duration": 186,
    "start_time": "2022-01-23T19:59:22.735Z"
   },
   {
    "duration": 43,
    "start_time": "2022-01-23T19:59:22.925Z"
   },
   {
    "duration": 37,
    "start_time": "2022-01-23T19:59:22.972Z"
   },
   {
    "duration": 7,
    "start_time": "2022-01-23T19:59:23.012Z"
   },
   {
    "duration": 63,
    "start_time": "2022-01-23T19:59:23.022Z"
   },
   {
    "duration": 6,
    "start_time": "2022-01-23T19:59:23.088Z"
   },
   {
    "duration": 33,
    "start_time": "2022-01-23T19:59:23.100Z"
   },
   {
    "duration": 56,
    "start_time": "2022-01-23T19:59:23.137Z"
   },
   {
    "duration": 31,
    "start_time": "2022-01-23T19:59:23.196Z"
   },
   {
    "duration": 115,
    "start_time": "2022-01-23T19:59:23.229Z"
   },
   {
    "duration": 107,
    "start_time": "2022-01-23T19:59:23.347Z"
   },
   {
    "duration": 85,
    "start_time": "2022-01-23T19:59:23.456Z"
   },
   {
    "duration": 82,
    "start_time": "2022-01-23T19:59:23.543Z"
   },
   {
    "duration": 4,
    "start_time": "2022-01-23T19:59:23.627Z"
   },
   {
    "duration": 37,
    "start_time": "2022-01-23T19:59:23.634Z"
   },
   {
    "duration": 59,
    "start_time": "2022-01-23T19:59:23.674Z"
   },
   {
    "duration": 63,
    "start_time": "2022-01-23T19:59:23.737Z"
   },
   {
    "duration": 17,
    "start_time": "2022-01-23T19:59:23.803Z"
   },
   {
    "duration": 13,
    "start_time": "2022-01-23T19:59:23.822Z"
   },
   {
    "duration": 7,
    "start_time": "2022-01-23T19:59:23.866Z"
   },
   {
    "duration": 35,
    "start_time": "2022-01-23T19:59:23.876Z"
   },
   {
    "duration": 17,
    "start_time": "2022-01-23T19:59:23.916Z"
   },
   {
    "duration": 44,
    "start_time": "2022-01-23T19:59:23.936Z"
   },
   {
    "duration": 19,
    "start_time": "2022-01-23T19:59:23.983Z"
   },
   {
    "duration": 21,
    "start_time": "2022-01-23T19:59:24.004Z"
   },
   {
    "duration": 55,
    "start_time": "2022-01-23T19:59:24.028Z"
   },
   {
    "duration": 13,
    "start_time": "2022-01-23T19:59:24.086Z"
   },
   {
    "duration": 17,
    "start_time": "2022-01-23T19:59:24.102Z"
   },
   {
    "duration": 46,
    "start_time": "2022-01-23T19:59:24.121Z"
   },
   {
    "duration": 7,
    "start_time": "2022-01-23T19:59:24.170Z"
   },
   {
    "duration": 32,
    "start_time": "2022-01-23T19:59:24.180Z"
   },
   {
    "duration": 16,
    "start_time": "2022-01-23T19:59:24.214Z"
   },
   {
    "duration": 60,
    "start_time": "2022-01-23T19:59:24.233Z"
   },
   {
    "duration": 15,
    "start_time": "2022-01-23T19:59:24.296Z"
   },
   {
    "duration": 11,
    "start_time": "2022-01-23T19:59:24.314Z"
   },
   {
    "duration": 39,
    "start_time": "2022-01-23T19:59:24.327Z"
   },
   {
    "duration": 10,
    "start_time": "2022-01-23T19:59:24.369Z"
   },
   {
    "duration": 11,
    "start_time": "2022-01-23T19:59:24.382Z"
   },
   {
    "duration": 340,
    "start_time": "2022-01-30T19:30:25.716Z"
   },
   {
    "duration": 948,
    "start_time": "2022-01-30T19:31:09.535Z"
   },
   {
    "duration": 174,
    "start_time": "2022-01-30T19:31:10.486Z"
   },
   {
    "duration": 26,
    "start_time": "2022-01-30T19:31:10.663Z"
   },
   {
    "duration": 45,
    "start_time": "2022-01-30T19:31:10.691Z"
   },
   {
    "duration": 6,
    "start_time": "2022-01-30T19:31:10.739Z"
   },
   {
    "duration": 27,
    "start_time": "2022-01-30T19:31:10.749Z"
   },
   {
    "duration": 47,
    "start_time": "2022-01-30T19:31:10.779Z"
   },
   {
    "duration": 31,
    "start_time": "2022-01-30T19:31:10.829Z"
   },
   {
    "duration": 21,
    "start_time": "2022-01-30T19:31:10.864Z"
   },
   {
    "duration": 52,
    "start_time": "2022-01-30T19:31:10.888Z"
   },
   {
    "duration": 92,
    "start_time": "2022-01-30T19:31:10.943Z"
   },
   {
    "duration": 105,
    "start_time": "2022-01-30T19:31:11.037Z"
   },
   {
    "duration": 87,
    "start_time": "2022-01-30T19:31:11.144Z"
   },
   {
    "duration": 55,
    "start_time": "2022-01-30T19:31:11.234Z"
   },
   {
    "duration": 3,
    "start_time": "2022-01-30T19:31:11.292Z"
   },
   {
    "duration": 35,
    "start_time": "2022-01-30T19:31:11.297Z"
   },
   {
    "duration": 55,
    "start_time": "2022-01-30T19:31:11.335Z"
   },
   {
    "duration": 48,
    "start_time": "2022-01-30T19:31:11.392Z"
   },
   {
    "duration": 15,
    "start_time": "2022-01-30T19:31:11.443Z"
   },
   {
    "duration": 14,
    "start_time": "2022-01-30T19:31:11.460Z"
   },
   {
    "duration": 4,
    "start_time": "2022-01-30T19:31:11.477Z"
   },
   {
    "duration": 55,
    "start_time": "2022-01-30T19:31:11.483Z"
   },
   {
    "duration": 17,
    "start_time": "2022-01-30T19:31:11.540Z"
   },
   {
    "duration": 17,
    "start_time": "2022-01-30T19:31:11.560Z"
   },
   {
    "duration": 49,
    "start_time": "2022-01-30T19:31:11.580Z"
   },
   {
    "duration": 19,
    "start_time": "2022-01-30T19:31:11.632Z"
   },
   {
    "duration": 17,
    "start_time": "2022-01-30T19:31:11.656Z"
   },
   {
    "duration": 47,
    "start_time": "2022-01-30T19:31:11.676Z"
   },
   {
    "duration": 16,
    "start_time": "2022-01-30T19:31:11.725Z"
   },
   {
    "duration": 12,
    "start_time": "2022-01-30T19:31:11.743Z"
   },
   {
    "duration": 5,
    "start_time": "2022-01-30T19:31:11.757Z"
   },
   {
    "duration": 32,
    "start_time": "2022-01-30T19:31:11.765Z"
   },
   {
    "duration": 17,
    "start_time": "2022-01-30T19:31:11.824Z"
   },
   {
    "duration": 22,
    "start_time": "2022-01-30T19:31:11.844Z"
   },
   {
    "duration": 16,
    "start_time": "2022-01-30T19:31:11.869Z"
   },
   {
    "duration": 43,
    "start_time": "2022-01-30T19:31:11.887Z"
   },
   {
    "duration": 8,
    "start_time": "2022-01-30T19:31:11.932Z"
   },
   {
    "duration": 9,
    "start_time": "2022-01-30T19:31:11.942Z"
   },
   {
    "duration": 6,
    "start_time": "2022-01-30T19:31:11.953Z"
   },
   {
    "duration": 709,
    "start_time": "2022-01-30T19:39:27.857Z"
   },
   {
    "duration": 174,
    "start_time": "2022-01-30T19:39:28.569Z"
   },
   {
    "duration": 26,
    "start_time": "2022-01-30T19:39:28.751Z"
   },
   {
    "duration": 57,
    "start_time": "2022-01-30T19:39:28.779Z"
   },
   {
    "duration": 5,
    "start_time": "2022-01-30T19:39:28.839Z"
   },
   {
    "duration": 37,
    "start_time": "2022-01-30T19:39:28.845Z"
   },
   {
    "duration": 8,
    "start_time": "2022-01-30T19:39:28.884Z"
   },
   {
    "duration": 51,
    "start_time": "2022-01-30T19:39:28.896Z"
   },
   {
    "duration": 21,
    "start_time": "2022-01-30T19:39:28.950Z"
   },
   {
    "duration": 51,
    "start_time": "2022-01-30T19:39:28.973Z"
   },
   {
    "duration": 77,
    "start_time": "2022-01-30T19:39:29.027Z"
   },
   {
    "duration": 104,
    "start_time": "2022-01-30T19:39:29.107Z"
   },
   {
    "duration": 72,
    "start_time": "2022-01-30T19:39:29.223Z"
   },
   {
    "duration": 68,
    "start_time": "2022-01-30T19:39:29.298Z"
   },
   {
    "duration": 4,
    "start_time": "2022-01-30T19:39:29.369Z"
   },
   {
    "duration": 11,
    "start_time": "2022-01-30T19:39:29.376Z"
   },
   {
    "duration": 85,
    "start_time": "2022-01-30T19:39:29.389Z"
   },
   {
    "duration": 29,
    "start_time": "2022-01-30T19:39:29.477Z"
   },
   {
    "duration": 14,
    "start_time": "2022-01-30T19:39:29.524Z"
   },
   {
    "duration": 14,
    "start_time": "2022-01-30T19:39:29.540Z"
   },
   {
    "duration": 5,
    "start_time": "2022-01-30T19:39:29.556Z"
   },
   {
    "duration": 61,
    "start_time": "2022-01-30T19:39:29.564Z"
   },
   {
    "duration": 19,
    "start_time": "2022-01-30T19:39:29.628Z"
   },
   {
    "duration": 17,
    "start_time": "2022-01-30T19:39:29.650Z"
   },
   {
    "duration": 16,
    "start_time": "2022-01-30T19:39:29.670Z"
   },
   {
    "duration": 21,
    "start_time": "2022-01-30T19:39:29.723Z"
   },
   {
    "duration": 17,
    "start_time": "2022-01-30T19:39:29.748Z"
   },
   {
    "duration": 12,
    "start_time": "2022-01-30T19:39:29.767Z"
   },
   {
    "duration": 46,
    "start_time": "2022-01-30T19:39:29.782Z"
   },
   {
    "duration": 11,
    "start_time": "2022-01-30T19:39:29.831Z"
   },
   {
    "duration": 5,
    "start_time": "2022-01-30T19:39:29.845Z"
   },
   {
    "duration": 28,
    "start_time": "2022-01-30T19:39:29.853Z"
   },
   {
    "duration": 53,
    "start_time": "2022-01-30T19:39:29.883Z"
   },
   {
    "duration": 22,
    "start_time": "2022-01-30T19:39:29.938Z"
   },
   {
    "duration": 15,
    "start_time": "2022-01-30T19:39:29.962Z"
   },
   {
    "duration": 10,
    "start_time": "2022-01-30T19:39:29.979Z"
   },
   {
    "duration": 6,
    "start_time": "2022-01-30T19:39:30.024Z"
   },
   {
    "duration": 16,
    "start_time": "2022-01-30T19:39:30.033Z"
   },
   {
    "duration": 12,
    "start_time": "2022-01-30T19:39:30.052Z"
   },
   {
    "duration": 6,
    "start_time": "2022-01-30T19:49:05.170Z"
   },
   {
    "duration": 777,
    "start_time": "2022-01-30T19:49:39.525Z"
   },
   {
    "duration": 183,
    "start_time": "2022-01-30T19:49:40.305Z"
   },
   {
    "duration": 34,
    "start_time": "2022-01-30T19:49:40.492Z"
   },
   {
    "duration": 42,
    "start_time": "2022-01-30T19:49:40.530Z"
   },
   {
    "duration": 7,
    "start_time": "2022-01-30T19:49:40.574Z"
   },
   {
    "duration": 63,
    "start_time": "2022-01-30T19:49:40.583Z"
   },
   {
    "duration": 7,
    "start_time": "2022-01-30T19:49:40.649Z"
   },
   {
    "duration": 34,
    "start_time": "2022-01-30T19:49:40.659Z"
   },
   {
    "duration": 45,
    "start_time": "2022-01-30T19:49:40.696Z"
   },
   {
    "duration": 35,
    "start_time": "2022-01-30T19:49:40.743Z"
   },
   {
    "duration": 113,
    "start_time": "2022-01-30T19:49:40.781Z"
   },
   {
    "duration": 111,
    "start_time": "2022-01-30T19:49:40.896Z"
   },
   {
    "duration": 79,
    "start_time": "2022-01-30T19:49:41.010Z"
   },
   {
    "duration": 70,
    "start_time": "2022-01-30T19:49:41.091Z"
   },
   {
    "duration": 4,
    "start_time": "2022-01-30T19:49:41.163Z"
   },
   {
    "duration": 14,
    "start_time": "2022-01-30T19:49:41.170Z"
   },
   {
    "duration": 88,
    "start_time": "2022-01-30T19:49:41.187Z"
   },
   {
    "duration": 29,
    "start_time": "2022-01-30T19:49:41.278Z"
   },
   {
    "duration": 16,
    "start_time": "2022-01-30T19:49:41.324Z"
   },
   {
    "duration": 15,
    "start_time": "2022-01-30T19:49:41.343Z"
   },
   {
    "duration": 4,
    "start_time": "2022-01-30T19:49:41.361Z"
   },
   {
    "duration": 62,
    "start_time": "2022-01-30T19:49:41.368Z"
   },
   {
    "duration": 21,
    "start_time": "2022-01-30T19:49:41.435Z"
   },
   {
    "duration": 27,
    "start_time": "2022-01-30T19:49:41.461Z"
   },
   {
    "duration": 43,
    "start_time": "2022-01-30T19:49:41.491Z"
   },
   {
    "duration": 20,
    "start_time": "2022-01-30T19:49:41.537Z"
   },
   {
    "duration": 18,
    "start_time": "2022-01-30T19:49:41.560Z"
   },
   {
    "duration": 52,
    "start_time": "2022-01-30T19:49:41.580Z"
   },
   {
    "duration": 16,
    "start_time": "2022-01-30T19:49:41.634Z"
   },
   {
    "duration": 13,
    "start_time": "2022-01-30T19:49:41.652Z"
   },
   {
    "duration": 13,
    "start_time": "2022-01-30T19:49:41.667Z"
   },
   {
    "duration": 51,
    "start_time": "2022-01-30T19:49:41.683Z"
   },
   {
    "duration": 18,
    "start_time": "2022-01-30T19:49:41.736Z"
   },
   {
    "duration": 23,
    "start_time": "2022-01-30T19:49:41.757Z"
   },
   {
    "duration": 49,
    "start_time": "2022-01-30T19:49:41.782Z"
   },
   {
    "duration": 10,
    "start_time": "2022-01-30T19:49:41.833Z"
   },
   {
    "duration": 6,
    "start_time": "2022-01-30T19:49:41.845Z"
   },
   {
    "duration": 11,
    "start_time": "2022-01-30T19:49:41.853Z"
   },
   {
    "duration": 6,
    "start_time": "2022-01-30T19:49:41.866Z"
   },
   {
    "duration": 740,
    "start_time": "2022-01-30T19:52:28.136Z"
   },
   {
    "duration": 196,
    "start_time": "2022-01-30T19:52:28.879Z"
   },
   {
    "duration": 27,
    "start_time": "2022-01-30T19:52:29.078Z"
   },
   {
    "duration": 34,
    "start_time": "2022-01-30T19:52:29.125Z"
   },
   {
    "duration": 6,
    "start_time": "2022-01-30T19:52:29.162Z"
   },
   {
    "duration": 58,
    "start_time": "2022-01-30T19:52:29.171Z"
   },
   {
    "duration": 8,
    "start_time": "2022-01-30T19:52:29.231Z"
   },
   {
    "duration": 29,
    "start_time": "2022-01-30T19:52:29.243Z"
   },
   {
    "duration": 48,
    "start_time": "2022-01-30T19:52:29.275Z"
   },
   {
    "duration": 29,
    "start_time": "2022-01-30T19:52:29.326Z"
   },
   {
    "duration": 103,
    "start_time": "2022-01-30T19:52:29.358Z"
   },
   {
    "duration": 105,
    "start_time": "2022-01-30T19:52:29.463Z"
   },
   {
    "duration": 74,
    "start_time": "2022-01-30T19:52:29.571Z"
   },
   {
    "duration": 75,
    "start_time": "2022-01-30T19:52:29.648Z"
   },
   {
    "duration": 4,
    "start_time": "2022-01-30T19:52:29.726Z"
   },
   {
    "duration": 14,
    "start_time": "2022-01-30T19:52:29.732Z"
   },
   {
    "duration": 81,
    "start_time": "2022-01-30T19:52:29.749Z"
   },
   {
    "duration": 31,
    "start_time": "2022-01-30T19:52:29.833Z"
   },
   {
    "duration": 15,
    "start_time": "2022-01-30T19:52:29.867Z"
   },
   {
    "duration": 47,
    "start_time": "2022-01-30T19:52:29.884Z"
   },
   {
    "duration": 4,
    "start_time": "2022-01-30T19:52:29.933Z"
   },
   {
    "duration": 24,
    "start_time": "2022-01-30T19:52:29.939Z"
   },
   {
    "duration": 21,
    "start_time": "2022-01-30T19:52:29.968Z"
   },
   {
    "duration": 48,
    "start_time": "2022-01-30T19:52:29.994Z"
   },
   {
    "duration": 19,
    "start_time": "2022-01-30T19:52:30.044Z"
   },
   {
    "duration": 21,
    "start_time": "2022-01-30T19:52:30.065Z"
   },
   {
    "duration": 52,
    "start_time": "2022-01-30T19:52:30.088Z"
   },
   {
    "duration": 11,
    "start_time": "2022-01-30T19:52:30.143Z"
   },
   {
    "duration": 21,
    "start_time": "2022-01-30T19:52:30.157Z"
   },
   {
    "duration": 48,
    "start_time": "2022-01-30T19:52:30.181Z"
   },
   {
    "duration": 7,
    "start_time": "2022-01-30T19:52:30.231Z"
   },
   {
    "duration": 29,
    "start_time": "2022-01-30T19:52:30.241Z"
   },
   {
    "duration": 52,
    "start_time": "2022-01-30T19:52:30.273Z"
   },
   {
    "duration": 27,
    "start_time": "2022-01-30T19:52:30.327Z"
   },
   {
    "duration": 20,
    "start_time": "2022-01-30T19:52:30.357Z"
   },
   {
    "duration": 50,
    "start_time": "2022-01-30T19:52:30.380Z"
   },
   {
    "duration": 6,
    "start_time": "2022-01-30T19:52:30.433Z"
   },
   {
    "duration": 21,
    "start_time": "2022-01-30T19:52:30.441Z"
   },
   {
    "duration": 17,
    "start_time": "2022-01-30T19:52:30.465Z"
   },
   {
    "duration": 83,
    "start_time": "2022-01-30T19:55:52.042Z"
   },
   {
    "duration": 95,
    "start_time": "2022-01-30T19:56:05.722Z"
   },
   {
    "duration": 86,
    "start_time": "2022-01-30T19:56:12.645Z"
   },
   {
    "duration": 722,
    "start_time": "2022-01-30T20:01:51.784Z"
   },
   {
    "duration": 173,
    "start_time": "2022-01-30T20:01:52.509Z"
   },
   {
    "duration": 24,
    "start_time": "2022-01-30T20:01:52.685Z"
   },
   {
    "duration": 32,
    "start_time": "2022-01-30T20:01:52.723Z"
   },
   {
    "duration": 6,
    "start_time": "2022-01-30T20:01:52.757Z"
   },
   {
    "duration": 24,
    "start_time": "2022-01-30T20:01:52.765Z"
   },
   {
    "duration": 34,
    "start_time": "2022-01-30T20:01:52.791Z"
   },
   {
    "duration": 30,
    "start_time": "2022-01-30T20:01:52.829Z"
   },
   {
    "duration": 21,
    "start_time": "2022-01-30T20:01:52.862Z"
   },
   {
    "duration": 55,
    "start_time": "2022-01-30T20:01:52.885Z"
   },
   {
    "duration": 99,
    "start_time": "2022-01-30T20:01:52.943Z"
   },
   {
    "duration": 106,
    "start_time": "2022-01-30T20:01:53.044Z"
   },
   {
    "duration": 86,
    "start_time": "2022-01-30T20:01:53.153Z"
   },
   {
    "duration": 55,
    "start_time": "2022-01-30T20:01:53.242Z"
   },
   {
    "duration": 24,
    "start_time": "2022-01-30T20:01:53.300Z"
   },
   {
    "duration": 13,
    "start_time": "2022-01-30T20:01:53.326Z"
   },
   {
    "duration": 56,
    "start_time": "2022-01-30T20:01:53.342Z"
   },
   {
    "duration": 45,
    "start_time": "2022-01-30T20:01:53.401Z"
   },
   {
    "duration": 14,
    "start_time": "2022-01-30T20:01:53.449Z"
   },
   {
    "duration": 13,
    "start_time": "2022-01-30T20:01:53.466Z"
   },
   {
    "duration": 4,
    "start_time": "2022-01-30T20:01:53.482Z"
   },
   {
    "duration": 25,
    "start_time": "2022-01-30T20:01:53.523Z"
   },
   {
    "duration": 16,
    "start_time": "2022-01-30T20:01:53.553Z"
   },
   {
    "duration": 18,
    "start_time": "2022-01-30T20:01:53.572Z"
   },
   {
    "duration": 42,
    "start_time": "2022-01-30T20:01:53.592Z"
   },
   {
    "duration": 19,
    "start_time": "2022-01-30T20:01:53.637Z"
   },
   {
    "duration": 16,
    "start_time": "2022-01-30T20:01:53.659Z"
   },
   {
    "duration": 46,
    "start_time": "2022-01-30T20:01:53.678Z"
   },
   {
    "duration": 16,
    "start_time": "2022-01-30T20:01:53.726Z"
   },
   {
    "duration": 12,
    "start_time": "2022-01-30T20:01:53.744Z"
   },
   {
    "duration": 5,
    "start_time": "2022-01-30T20:01:53.758Z"
   },
   {
    "duration": 59,
    "start_time": "2022-01-30T20:01:53.765Z"
   },
   {
    "duration": 17,
    "start_time": "2022-01-30T20:01:53.827Z"
   },
   {
    "duration": 22,
    "start_time": "2022-01-30T20:01:53.846Z"
   },
   {
    "duration": 16,
    "start_time": "2022-01-30T20:01:53.870Z"
   },
   {
    "duration": 43,
    "start_time": "2022-01-30T20:01:53.889Z"
   },
   {
    "duration": 6,
    "start_time": "2022-01-30T20:01:53.934Z"
   },
   {
    "duration": 11,
    "start_time": "2022-01-30T20:01:53.943Z"
   },
   {
    "duration": 7,
    "start_time": "2022-01-30T20:01:53.956Z"
   }
  ],
  "colab": {
   "collapsed_sections": [
    "E0vqbgi9ay0H",
    "VUC88oWjTJw2"
   ],
   "name": "yandex_music_project_2021.2.ipynb",
   "provenance": []
  },
  "kernelspec": {
   "display_name": "Python 3 (ipykernel)",
   "language": "python",
   "name": "python3"
  },
  "language_info": {
   "codemirror_mode": {
    "name": "ipython",
    "version": 3
   },
   "file_extension": ".py",
   "mimetype": "text/x-python",
   "name": "python",
   "nbconvert_exporter": "python",
   "pygments_lexer": "ipython3",
   "version": "3.9.12"
  },
  "toc": {
   "base_numbering": 1,
   "nav_menu": {},
   "number_sections": true,
   "sideBar": true,
   "skip_h1_title": true,
   "title_cell": "Table of Contents",
   "title_sidebar": "Contents",
   "toc_cell": false,
   "toc_position": {
    "height": "calc(100% - 180px)",
    "left": "10px",
    "top": "150px",
    "width": "289.6px"
   },
   "toc_section_display": true,
   "toc_window_display": false
  }
 },
 "nbformat": 4,
 "nbformat_minor": 1
}
