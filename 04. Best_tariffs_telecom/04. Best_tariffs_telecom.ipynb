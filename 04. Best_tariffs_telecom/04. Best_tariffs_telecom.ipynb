{
 "cells": [
  {
   "cell_type": "markdown",
   "metadata": {},
   "source": [
    " # Проект № 4: Определение перспективного тарифа для телеком-компании"
   ]
  },
  {
   "cell_type": "markdown",
   "metadata": {},
   "source": [
    "## Описание проекта"
   ]
  },
  {
   "cell_type": "markdown",
   "metadata": {},
   "source": [
    "Я аналитик компании «Мегалайн» — федерального оператора сотовой связи. Клиентам предлагают два тарифных плана: «Смарт» и «Ультра». Чтобы скорректировать рекламный бюджет, коммерческий департамент хочет понять, какой тариф приносит больше денег.\n",
    "Нам предстоит сделать предварительный анализ тарифов на небольшой выборке клиентов.  \n",
    "\n",
    "**Задача:** Нужно проанализировать поведение клиентов и сделать вывод — какой тариф лучше.\n",
    "\n",
    "**Исходные данные:** В нашем распоряжении данные 500 пользователей «Мегалайна»: кто они, откуда, каким тарифом пользуются, сколько звонков и сообщений каждый отправил за 2018 год."
   ]
  },
  {
   "cell_type": "markdown",
   "metadata": {},
   "source": [
    "## Описание тарифов"
   ]
  },
  {
   "cell_type": "markdown",
   "metadata": {},
   "source": [
    "**Тариф «Смарт»**\n",
    "1. Ежемесячная плата: 550 рублей\n",
    "2. Включено 500 минут разговора, 50 сообщений и 15 Гб интернет-трафика\n",
    "3. Стоимость услуг сверх тарифного пакета:\n",
    "   * минута разговора: 3 рубля\n",
    "   * сообщение: 3 рубля\n",
    "   * 1 Гб интернет-трафика: 200 рублей\n",
    "\n",
    "**Тариф «Ультра»**\n",
    "1. Ежемесячная плата: 1950 рублей\n",
    "2. Включено 3000 минут разговора, 1000 сообщений и 30 Гб интернет-трафика\n",
    "3. Стоимость услуг сверх тарифного пакета:\n",
    "   * минута разговора: 1 рубль\n",
    "   * сообщение: 1 рубль\n",
    "   * 1 Гб интернет-трафика: 150 рублей"
   ]
  },
  {
   "cell_type": "markdown",
   "metadata": {},
   "source": [
    "## Описание данных"
   ]
  },
  {
   "cell_type": "markdown",
   "metadata": {},
   "source": [
    "1. Таблица **`users`** (информация о пользователях):\n",
    "* `user_id` — уникальный идентификатор пользователя\n",
    "* `first_name` — имя пользователя\n",
    "* `last_name` — фамилия пользователя\n",
    "* `age` — возраст пользователя (годы)\n",
    "* `reg_date` — дата подключения тарифа (день, месяц, год)\n",
    "* `churn_date` — дата прекращения пользования тарифом (если значение пропущено, то тариф ещё действовал на момент выгрузки данных)\n",
    "* `city` — город проживания пользователя\n",
    "* `tariff` — название тарифного плана\n",
    "2. Таблица **`calls`** (информация о звонках):\n",
    "* `id` — уникальный номер звонка\n",
    "* `call_date` — дата звонка\n",
    "* `duration` — длительность звонка в минутах\n",
    "* `user_id` — идентификатор пользователя, сделавшего звонок\n",
    "3. Таблица **`messages`** (информация о сообщениях):\n",
    "* `id` — уникальный номер сообщения\n",
    "* `message_date` — дата сообщения\n",
    "* `user_id` — идентификатор пользователя, отправившего сообщение\n",
    "4. Таблица **`internet`** (информация об интернет-сессиях):\n",
    "* `id` — уникальный номер сессии\n",
    "* `mb_used` — объём потраченного за сессию интернет-трафика (в мегабайтах)\n",
    "* `session_date` — дата интернет-сессии\n",
    "* `user_id` — идентификатор пользователя\n",
    "5. Таблица **`tariffs`** (информация о тарифах):\n",
    "* `tariff_name` — название тарифа\n",
    "* `rub_monthly_fee` — ежемесячная абонентская плата в рублях\n",
    "* `minutes_included` — количество минут разговора в месяц, включённых в абонентскую плату\n",
    "* `messages_included` — количество сообщений в месяц, включённых в абонентскую плату\n",
    "* `mb_per_month_included` — объём интернет-трафика, включённого в абонентскую плату (в мегабайтах)\n",
    "* `rub_per_minute` — стоимость минуты разговора сверх тарифного пакета (например, если в тарифе 100 минут разговора в месяц, то со 101 минуты будет взиматься плата)\n",
    "* `rub_per_message` — стоимость отправки сообщения сверх тарифного пакета\n",
    "* `rub_per_gb` — стоимость дополнительного гигабайта интернет-трафика сверх тарифного пакета (1 гигабайт = 1024 мегабайта)"
   ]
  },
  {
   "cell_type": "markdown",
   "metadata": {},
   "source": [
    "## Обзор и изучение общей информации о данных"
   ]
  },
  {
   "cell_type": "code",
   "execution_count": 1,
   "metadata": {},
   "outputs": [],
   "source": [
    "# импортируем необходимые для работы библиотеки\n",
    "import pandas as pd\n",
    "import numpy as np\n",
    "import math \n",
    "import scipy.stats as st\n",
    "from functools import reduce\n",
    "idx = pd.IndexSlice\n",
    "\n",
    "import warnings\n",
    "warnings.simplefilter('ignore')\n",
    "\n",
    "import matplotlib.pyplot as plt\n",
    "import seaborn as sns\n",
    "sns.set(color_codes=True)\n",
    "\n",
    "# откроем файлы с данными и сохраним их в соответствующие переменные\n",
    "users = pd.read_csv('users.csv')\n",
    "calls = pd.read_csv('calls.csv')\n",
    "messages = pd.read_csv('messages.csv')\n",
    "internet = pd.read_csv('internet.csv')\n",
    "tariffs = pd.read_csv('tariffs.csv')"
   ]
  },
  {
   "cell_type": "code",
   "execution_count": 2,
   "metadata": {
    "scrolled": false
   },
   "outputs": [
    {
     "name": "stdout",
     "output_type": "stream",
     "text": [
      "----------------------------------------\n",
      "     user_id  age  churn_date         city first_name  last_name    reg_date  \\\n",
      "0       1000   52         NaN    Краснодар     Рафаил  Верещагин  2018-05-25   \n",
      "1       1001   41         NaN       Москва       Иван       Ежов  2018-11-01   \n",
      "2       1002   59         NaN  Стерлитамак    Евгений  Абрамович  2018-06-17   \n",
      "3       1003   23         NaN       Москва      Белла   Белякова  2018-08-17   \n",
      "4       1004   68         NaN  Новокузнецк    Татьяна   Авдеенко  2018-05-14   \n",
      "..       ...  ...         ...          ...        ...        ...         ...   \n",
      "495     1495   65         NaN      Иркутск  Авксентий      Фокин  2018-08-28   \n",
      "496     1496   36         NaN      Вологда     Трифон     Блохин  2018-01-27   \n",
      "497     1497   32         NaN    Челябинск   Каролина     Агеева  2018-10-09   \n",
      "498     1498   68  2018-10-25  Владикавказ   Всеволод    Акимчин  2018-07-19   \n",
      "499     1499   35         NaN        Пермь     Гектор   Корнилов  2018-09-27   \n",
      "\n",
      "    tariff  \n",
      "0    ultra  \n",
      "1    smart  \n",
      "2    smart  \n",
      "3    ultra  \n",
      "4    ultra  \n",
      "..     ...  \n",
      "495  ultra  \n",
      "496  smart  \n",
      "497  smart  \n",
      "498  smart  \n",
      "499  smart  \n",
      "\n",
      "[500 rows x 8 columns]\n",
      "<class 'pandas.core.frame.DataFrame'>\n",
      "RangeIndex: 500 entries, 0 to 499\n",
      "Data columns (total 8 columns):\n",
      " #   Column      Non-Null Count  Dtype \n",
      "---  ------      --------------  ----- \n",
      " 0   user_id     500 non-null    int64 \n",
      " 1   age         500 non-null    int64 \n",
      " 2   churn_date  38 non-null     object\n",
      " 3   city        500 non-null    object\n",
      " 4   first_name  500 non-null    object\n",
      " 5   last_name   500 non-null    object\n",
      " 6   reg_date    500 non-null    object\n",
      " 7   tariff      500 non-null    object\n",
      "dtypes: int64(2), object(6)\n",
      "memory usage: 31.4+ KB\n",
      "None\n"
     ]
    },
    {
     "data": {
      "text/html": [
       "<div>\n",
       "<style scoped>\n",
       "    .dataframe tbody tr th:only-of-type {\n",
       "        vertical-align: middle;\n",
       "    }\n",
       "\n",
       "    .dataframe tbody tr th {\n",
       "        vertical-align: top;\n",
       "    }\n",
       "\n",
       "    .dataframe thead th {\n",
       "        text-align: right;\n",
       "    }\n",
       "</style>\n",
       "<table border=\"1\" class=\"dataframe\">\n",
       "  <thead>\n",
       "    <tr style=\"text-align: right;\">\n",
       "      <th></th>\n",
       "      <th>user_id</th>\n",
       "      <th>age</th>\n",
       "      <th>churn_date</th>\n",
       "      <th>city</th>\n",
       "      <th>first_name</th>\n",
       "      <th>last_name</th>\n",
       "      <th>reg_date</th>\n",
       "      <th>tariff</th>\n",
       "    </tr>\n",
       "  </thead>\n",
       "  <tbody>\n",
       "    <tr>\n",
       "      <th>0</th>\n",
       "      <td>1000</td>\n",
       "      <td>52</td>\n",
       "      <td>NaN</td>\n",
       "      <td>Краснодар</td>\n",
       "      <td>Рафаил</td>\n",
       "      <td>Верещагин</td>\n",
       "      <td>2018-05-25</td>\n",
       "      <td>ultra</td>\n",
       "    </tr>\n",
       "    <tr>\n",
       "      <th>1</th>\n",
       "      <td>1001</td>\n",
       "      <td>41</td>\n",
       "      <td>NaN</td>\n",
       "      <td>Москва</td>\n",
       "      <td>Иван</td>\n",
       "      <td>Ежов</td>\n",
       "      <td>2018-11-01</td>\n",
       "      <td>smart</td>\n",
       "    </tr>\n",
       "    <tr>\n",
       "      <th>2</th>\n",
       "      <td>1002</td>\n",
       "      <td>59</td>\n",
       "      <td>NaN</td>\n",
       "      <td>Стерлитамак</td>\n",
       "      <td>Евгений</td>\n",
       "      <td>Абрамович</td>\n",
       "      <td>2018-06-17</td>\n",
       "      <td>smart</td>\n",
       "    </tr>\n",
       "    <tr>\n",
       "      <th>3</th>\n",
       "      <td>1003</td>\n",
       "      <td>23</td>\n",
       "      <td>NaN</td>\n",
       "      <td>Москва</td>\n",
       "      <td>Белла</td>\n",
       "      <td>Белякова</td>\n",
       "      <td>2018-08-17</td>\n",
       "      <td>ultra</td>\n",
       "    </tr>\n",
       "    <tr>\n",
       "      <th>4</th>\n",
       "      <td>1004</td>\n",
       "      <td>68</td>\n",
       "      <td>NaN</td>\n",
       "      <td>Новокузнецк</td>\n",
       "      <td>Татьяна</td>\n",
       "      <td>Авдеенко</td>\n",
       "      <td>2018-05-14</td>\n",
       "      <td>ultra</td>\n",
       "    </tr>\n",
       "  </tbody>\n",
       "</table>\n",
       "</div>"
      ],
      "text/plain": [
       "   user_id  age churn_date         city first_name  last_name    reg_date  \\\n",
       "0     1000   52        NaN    Краснодар     Рафаил  Верещагин  2018-05-25   \n",
       "1     1001   41        NaN       Москва       Иван       Ежов  2018-11-01   \n",
       "2     1002   59        NaN  Стерлитамак    Евгений  Абрамович  2018-06-17   \n",
       "3     1003   23        NaN       Москва      Белла   Белякова  2018-08-17   \n",
       "4     1004   68        NaN  Новокузнецк    Татьяна   Авдеенко  2018-05-14   \n",
       "\n",
       "  tariff  \n",
       "0  ultra  \n",
       "1  smart  \n",
       "2  smart  \n",
       "3  ultra  \n",
       "4  ultra  "
      ]
     },
     "metadata": {},
     "output_type": "display_data"
    },
    {
     "name": "stdout",
     "output_type": "stream",
     "text": [
      "\n",
      "----------------------------------------\n",
      "              id   call_date  duration  user_id\n",
      "0         1000_0  2018-07-25      0.00     1000\n",
      "1         1000_1  2018-08-17      0.00     1000\n",
      "2         1000_2  2018-06-11      2.85     1000\n",
      "3         1000_3  2018-09-21     13.80     1000\n",
      "4         1000_4  2018-12-15      5.18     1000\n",
      "...          ...         ...       ...      ...\n",
      "202602  1499_215  2018-12-26      0.76     1499\n",
      "202603  1499_216  2018-10-18     18.83     1499\n",
      "202604  1499_217  2018-11-10     10.81     1499\n",
      "202605  1499_218  2018-10-06      4.27     1499\n",
      "202606  1499_219  2018-12-14     19.62     1499\n",
      "\n",
      "[202607 rows x 4 columns]\n",
      "<class 'pandas.core.frame.DataFrame'>\n",
      "RangeIndex: 202607 entries, 0 to 202606\n",
      "Data columns (total 4 columns):\n",
      " #   Column     Non-Null Count   Dtype  \n",
      "---  ------     --------------   -----  \n",
      " 0   id         202607 non-null  object \n",
      " 1   call_date  202607 non-null  object \n",
      " 2   duration   202607 non-null  float64\n",
      " 3   user_id    202607 non-null  int64  \n",
      "dtypes: float64(1), int64(1), object(2)\n",
      "memory usage: 6.2+ MB\n",
      "None\n"
     ]
    },
    {
     "data": {
      "text/html": [
       "<div>\n",
       "<style scoped>\n",
       "    .dataframe tbody tr th:only-of-type {\n",
       "        vertical-align: middle;\n",
       "    }\n",
       "\n",
       "    .dataframe tbody tr th {\n",
       "        vertical-align: top;\n",
       "    }\n",
       "\n",
       "    .dataframe thead th {\n",
       "        text-align: right;\n",
       "    }\n",
       "</style>\n",
       "<table border=\"1\" class=\"dataframe\">\n",
       "  <thead>\n",
       "    <tr style=\"text-align: right;\">\n",
       "      <th></th>\n",
       "      <th>id</th>\n",
       "      <th>call_date</th>\n",
       "      <th>duration</th>\n",
       "      <th>user_id</th>\n",
       "    </tr>\n",
       "  </thead>\n",
       "  <tbody>\n",
       "    <tr>\n",
       "      <th>0</th>\n",
       "      <td>1000_0</td>\n",
       "      <td>2018-07-25</td>\n",
       "      <td>0.00</td>\n",
       "      <td>1000</td>\n",
       "    </tr>\n",
       "    <tr>\n",
       "      <th>1</th>\n",
       "      <td>1000_1</td>\n",
       "      <td>2018-08-17</td>\n",
       "      <td>0.00</td>\n",
       "      <td>1000</td>\n",
       "    </tr>\n",
       "    <tr>\n",
       "      <th>2</th>\n",
       "      <td>1000_2</td>\n",
       "      <td>2018-06-11</td>\n",
       "      <td>2.85</td>\n",
       "      <td>1000</td>\n",
       "    </tr>\n",
       "    <tr>\n",
       "      <th>3</th>\n",
       "      <td>1000_3</td>\n",
       "      <td>2018-09-21</td>\n",
       "      <td>13.80</td>\n",
       "      <td>1000</td>\n",
       "    </tr>\n",
       "    <tr>\n",
       "      <th>4</th>\n",
       "      <td>1000_4</td>\n",
       "      <td>2018-12-15</td>\n",
       "      <td>5.18</td>\n",
       "      <td>1000</td>\n",
       "    </tr>\n",
       "  </tbody>\n",
       "</table>\n",
       "</div>"
      ],
      "text/plain": [
       "       id   call_date  duration  user_id\n",
       "0  1000_0  2018-07-25      0.00     1000\n",
       "1  1000_1  2018-08-17      0.00     1000\n",
       "2  1000_2  2018-06-11      2.85     1000\n",
       "3  1000_3  2018-09-21     13.80     1000\n",
       "4  1000_4  2018-12-15      5.18     1000"
      ]
     },
     "metadata": {},
     "output_type": "display_data"
    },
    {
     "name": "stdout",
     "output_type": "stream",
     "text": [
      "\n",
      "----------------------------------------\n",
      "              id message_date  user_id\n",
      "0         1000_0   2018-06-27     1000\n",
      "1         1000_1   2018-10-08     1000\n",
      "2         1000_2   2018-08-04     1000\n",
      "3         1000_3   2018-06-16     1000\n",
      "4         1000_4   2018-12-05     1000\n",
      "...          ...          ...      ...\n",
      "123031  1499_179   2018-12-12     1499\n",
      "123032  1499_180   2018-09-28     1499\n",
      "123033  1499_181   2018-09-27     1499\n",
      "123034  1499_182   2018-11-15     1499\n",
      "123035  1499_183   2018-11-16     1499\n",
      "\n",
      "[123036 rows x 3 columns]\n",
      "<class 'pandas.core.frame.DataFrame'>\n",
      "RangeIndex: 123036 entries, 0 to 123035\n",
      "Data columns (total 3 columns):\n",
      " #   Column        Non-Null Count   Dtype \n",
      "---  ------        --------------   ----- \n",
      " 0   id            123036 non-null  object\n",
      " 1   message_date  123036 non-null  object\n",
      " 2   user_id       123036 non-null  int64 \n",
      "dtypes: int64(1), object(2)\n",
      "memory usage: 2.8+ MB\n",
      "None\n"
     ]
    },
    {
     "data": {
      "text/html": [
       "<div>\n",
       "<style scoped>\n",
       "    .dataframe tbody tr th:only-of-type {\n",
       "        vertical-align: middle;\n",
       "    }\n",
       "\n",
       "    .dataframe tbody tr th {\n",
       "        vertical-align: top;\n",
       "    }\n",
       "\n",
       "    .dataframe thead th {\n",
       "        text-align: right;\n",
       "    }\n",
       "</style>\n",
       "<table border=\"1\" class=\"dataframe\">\n",
       "  <thead>\n",
       "    <tr style=\"text-align: right;\">\n",
       "      <th></th>\n",
       "      <th>id</th>\n",
       "      <th>message_date</th>\n",
       "      <th>user_id</th>\n",
       "    </tr>\n",
       "  </thead>\n",
       "  <tbody>\n",
       "    <tr>\n",
       "      <th>0</th>\n",
       "      <td>1000_0</td>\n",
       "      <td>2018-06-27</td>\n",
       "      <td>1000</td>\n",
       "    </tr>\n",
       "    <tr>\n",
       "      <th>1</th>\n",
       "      <td>1000_1</td>\n",
       "      <td>2018-10-08</td>\n",
       "      <td>1000</td>\n",
       "    </tr>\n",
       "    <tr>\n",
       "      <th>2</th>\n",
       "      <td>1000_2</td>\n",
       "      <td>2018-08-04</td>\n",
       "      <td>1000</td>\n",
       "    </tr>\n",
       "    <tr>\n",
       "      <th>3</th>\n",
       "      <td>1000_3</td>\n",
       "      <td>2018-06-16</td>\n",
       "      <td>1000</td>\n",
       "    </tr>\n",
       "    <tr>\n",
       "      <th>4</th>\n",
       "      <td>1000_4</td>\n",
       "      <td>2018-12-05</td>\n",
       "      <td>1000</td>\n",
       "    </tr>\n",
       "  </tbody>\n",
       "</table>\n",
       "</div>"
      ],
      "text/plain": [
       "       id message_date  user_id\n",
       "0  1000_0   2018-06-27     1000\n",
       "1  1000_1   2018-10-08     1000\n",
       "2  1000_2   2018-08-04     1000\n",
       "3  1000_3   2018-06-16     1000\n",
       "4  1000_4   2018-12-05     1000"
      ]
     },
     "metadata": {},
     "output_type": "display_data"
    },
    {
     "name": "stdout",
     "output_type": "stream",
     "text": [
      "\n",
      "----------------------------------------\n",
      "        Unnamed: 0        id  mb_used session_date  user_id\n",
      "0                0    1000_0   112.95   2018-11-25     1000\n",
      "1                1    1000_1  1052.81   2018-09-07     1000\n",
      "2                2    1000_2  1197.26   2018-06-25     1000\n",
      "3                3    1000_3   550.27   2018-08-22     1000\n",
      "4                4    1000_4   302.56   2018-09-24     1000\n",
      "...            ...       ...      ...          ...      ...\n",
      "149391      149391  1499_152   318.90   2018-10-03     1499\n",
      "149392      149392  1499_153   490.13   2018-12-14     1499\n",
      "149393      149393  1499_154     0.00   2018-10-27     1499\n",
      "149394      149394  1499_155  1246.32   2018-11-26     1499\n",
      "149395      149395  1499_156   544.37   2018-10-26     1499\n",
      "\n",
      "[149396 rows x 5 columns]\n",
      "<class 'pandas.core.frame.DataFrame'>\n",
      "RangeIndex: 149396 entries, 0 to 149395\n",
      "Data columns (total 5 columns):\n",
      " #   Column        Non-Null Count   Dtype  \n",
      "---  ------        --------------   -----  \n",
      " 0   Unnamed: 0    149396 non-null  int64  \n",
      " 1   id            149396 non-null  object \n",
      " 2   mb_used       149396 non-null  float64\n",
      " 3   session_date  149396 non-null  object \n",
      " 4   user_id       149396 non-null  int64  \n",
      "dtypes: float64(1), int64(2), object(2)\n",
      "memory usage: 5.7+ MB\n",
      "None\n"
     ]
    },
    {
     "data": {
      "text/html": [
       "<div>\n",
       "<style scoped>\n",
       "    .dataframe tbody tr th:only-of-type {\n",
       "        vertical-align: middle;\n",
       "    }\n",
       "\n",
       "    .dataframe tbody tr th {\n",
       "        vertical-align: top;\n",
       "    }\n",
       "\n",
       "    .dataframe thead th {\n",
       "        text-align: right;\n",
       "    }\n",
       "</style>\n",
       "<table border=\"1\" class=\"dataframe\">\n",
       "  <thead>\n",
       "    <tr style=\"text-align: right;\">\n",
       "      <th></th>\n",
       "      <th>Unnamed: 0</th>\n",
       "      <th>id</th>\n",
       "      <th>mb_used</th>\n",
       "      <th>session_date</th>\n",
       "      <th>user_id</th>\n",
       "    </tr>\n",
       "  </thead>\n",
       "  <tbody>\n",
       "    <tr>\n",
       "      <th>0</th>\n",
       "      <td>0</td>\n",
       "      <td>1000_0</td>\n",
       "      <td>112.95</td>\n",
       "      <td>2018-11-25</td>\n",
       "      <td>1000</td>\n",
       "    </tr>\n",
       "    <tr>\n",
       "      <th>1</th>\n",
       "      <td>1</td>\n",
       "      <td>1000_1</td>\n",
       "      <td>1052.81</td>\n",
       "      <td>2018-09-07</td>\n",
       "      <td>1000</td>\n",
       "    </tr>\n",
       "    <tr>\n",
       "      <th>2</th>\n",
       "      <td>2</td>\n",
       "      <td>1000_2</td>\n",
       "      <td>1197.26</td>\n",
       "      <td>2018-06-25</td>\n",
       "      <td>1000</td>\n",
       "    </tr>\n",
       "    <tr>\n",
       "      <th>3</th>\n",
       "      <td>3</td>\n",
       "      <td>1000_3</td>\n",
       "      <td>550.27</td>\n",
       "      <td>2018-08-22</td>\n",
       "      <td>1000</td>\n",
       "    </tr>\n",
       "    <tr>\n",
       "      <th>4</th>\n",
       "      <td>4</td>\n",
       "      <td>1000_4</td>\n",
       "      <td>302.56</td>\n",
       "      <td>2018-09-24</td>\n",
       "      <td>1000</td>\n",
       "    </tr>\n",
       "  </tbody>\n",
       "</table>\n",
       "</div>"
      ],
      "text/plain": [
       "   Unnamed: 0      id  mb_used session_date  user_id\n",
       "0           0  1000_0   112.95   2018-11-25     1000\n",
       "1           1  1000_1  1052.81   2018-09-07     1000\n",
       "2           2  1000_2  1197.26   2018-06-25     1000\n",
       "3           3  1000_3   550.27   2018-08-22     1000\n",
       "4           4  1000_4   302.56   2018-09-24     1000"
      ]
     },
     "metadata": {},
     "output_type": "display_data"
    },
    {
     "name": "stdout",
     "output_type": "stream",
     "text": [
      "\n",
      "----------------------------------------\n",
      "   messages_included  mb_per_month_included  minutes_included  \\\n",
      "0                 50                  15360               500   \n",
      "1               1000                  30720              3000   \n",
      "\n",
      "   rub_monthly_fee  rub_per_gb  rub_per_message  rub_per_minute tariff_name  \n",
      "0              550         200                3               3       smart  \n",
      "1             1950         150                1               1       ultra  \n",
      "<class 'pandas.core.frame.DataFrame'>\n",
      "RangeIndex: 2 entries, 0 to 1\n",
      "Data columns (total 8 columns):\n",
      " #   Column                 Non-Null Count  Dtype \n",
      "---  ------                 --------------  ----- \n",
      " 0   messages_included      2 non-null      int64 \n",
      " 1   mb_per_month_included  2 non-null      int64 \n",
      " 2   minutes_included       2 non-null      int64 \n",
      " 3   rub_monthly_fee        2 non-null      int64 \n",
      " 4   rub_per_gb             2 non-null      int64 \n",
      " 5   rub_per_message        2 non-null      int64 \n",
      " 6   rub_per_minute         2 non-null      int64 \n",
      " 7   tariff_name            2 non-null      object\n",
      "dtypes: int64(7), object(1)\n",
      "memory usage: 256.0+ bytes\n",
      "None\n"
     ]
    },
    {
     "data": {
      "text/html": [
       "<div>\n",
       "<style scoped>\n",
       "    .dataframe tbody tr th:only-of-type {\n",
       "        vertical-align: middle;\n",
       "    }\n",
       "\n",
       "    .dataframe tbody tr th {\n",
       "        vertical-align: top;\n",
       "    }\n",
       "\n",
       "    .dataframe thead th {\n",
       "        text-align: right;\n",
       "    }\n",
       "</style>\n",
       "<table border=\"1\" class=\"dataframe\">\n",
       "  <thead>\n",
       "    <tr style=\"text-align: right;\">\n",
       "      <th></th>\n",
       "      <th>messages_included</th>\n",
       "      <th>mb_per_month_included</th>\n",
       "      <th>minutes_included</th>\n",
       "      <th>rub_monthly_fee</th>\n",
       "      <th>rub_per_gb</th>\n",
       "      <th>rub_per_message</th>\n",
       "      <th>rub_per_minute</th>\n",
       "      <th>tariff_name</th>\n",
       "    </tr>\n",
       "  </thead>\n",
       "  <tbody>\n",
       "    <tr>\n",
       "      <th>0</th>\n",
       "      <td>50</td>\n",
       "      <td>15360</td>\n",
       "      <td>500</td>\n",
       "      <td>550</td>\n",
       "      <td>200</td>\n",
       "      <td>3</td>\n",
       "      <td>3</td>\n",
       "      <td>smart</td>\n",
       "    </tr>\n",
       "    <tr>\n",
       "      <th>1</th>\n",
       "      <td>1000</td>\n",
       "      <td>30720</td>\n",
       "      <td>3000</td>\n",
       "      <td>1950</td>\n",
       "      <td>150</td>\n",
       "      <td>1</td>\n",
       "      <td>1</td>\n",
       "      <td>ultra</td>\n",
       "    </tr>\n",
       "  </tbody>\n",
       "</table>\n",
       "</div>"
      ],
      "text/plain": [
       "   messages_included  mb_per_month_included  minutes_included  \\\n",
       "0                 50                  15360               500   \n",
       "1               1000                  30720              3000   \n",
       "\n",
       "   rub_monthly_fee  rub_per_gb  rub_per_message  rub_per_minute tariff_name  \n",
       "0              550         200                3               3       smart  \n",
       "1             1950         150                1               1       ultra  "
      ]
     },
     "metadata": {},
     "output_type": "display_data"
    },
    {
     "name": "stdout",
     "output_type": "stream",
     "text": [
      "\n"
     ]
    }
   ],
   "source": [
    "# напишем функцию для первичного ознакомления (общая информация и первые пять строк датасета)\n",
    "def dataset_info(dataset_name):\n",
    "    print(dataset_name.info())\n",
    "    display(dataset_name.head())\n",
    "\n",
    "# с помощью цикла пройдёмся по всем датасетам    \n",
    "for dataset in [users, calls, messages, internet, tariffs]:\n",
    "    print('----------------------------------------')\n",
    "    print(dataset)\n",
    "    dataset_info(dataset)\n",
    "    print()"
   ]
  },
  {
   "cell_type": "markdown",
   "metadata": {},
   "source": [
    "### Вывод"
   ]
  },
  {
   "cell_type": "markdown",
   "metadata": {},
   "source": [
    "Представлены данные по 500 пользователям, в которых содержится информация о том, какой тариф выбрал клиент, как часто пользуется предлагаемыми услугами по предоставлению связи, смс-сообщений и интернета.\n",
    "\n",
    "После первичного знакомства с данными можно заметить, что пропуски наблюдаются только в датасете с информацией о пользователях `users`, в столбце **_churn_date_**. В описании данных было сказано, что если значение в дате прекращения пользования тарифом **_churn_date_** пропущено, то тариф ещё действовал на момент выгрузки данных. Следовательно, необходимо заполнить пропуски нулями.\n",
    "\n",
    "Так же округлим значения минут разговора и мегабайт использованного трафика в большую сторону, так как тарифы считаются по минутам и мегабайтам, согласно примечанию от компании «Мегалайн».\n",
    "\n",
    "Присутствуют не совсем корректные типы данных в столбцах с датой и временем. Потребуется заменить тип данных в них на _datatime64_).\n",
    "\n",
    "Всё вышеописанное будет исправлено на этапе предобработки данных."
   ]
  },
  {
   "cell_type": "markdown",
   "metadata": {},
   "source": [
    "## Предобработка данных"
   ]
  },
  {
   "cell_type": "markdown",
   "metadata": {},
   "source": [
    "Проверим данные во всех предоставленных датасетах. Перед использованием их в работе необходимо убедиться, что нет дубликатов и аномалий. "
   ]
  },
  {
   "cell_type": "markdown",
   "metadata": {},
   "source": [
    "### Таблица `users`"
   ]
  },
  {
   "cell_type": "code",
   "execution_count": 3,
   "metadata": {},
   "outputs": [
    {
     "name": "stdout",
     "output_type": "stream",
     "text": [
      "<class 'pandas.core.frame.DataFrame'>\n",
      "RangeIndex: 500 entries, 0 to 499\n",
      "Data columns (total 8 columns):\n",
      " #   Column      Non-Null Count  Dtype \n",
      "---  ------      --------------  ----- \n",
      " 0   user_id     500 non-null    int64 \n",
      " 1   age         500 non-null    int64 \n",
      " 2   churn_date  38 non-null     object\n",
      " 3   city        500 non-null    object\n",
      " 4   first_name  500 non-null    object\n",
      " 5   last_name   500 non-null    object\n",
      " 6   reg_date    500 non-null    object\n",
      " 7   tariff      500 non-null    object\n",
      "dtypes: int64(2), object(6)\n",
      "memory usage: 31.4+ KB\n",
      "None\n"
     ]
    },
    {
     "data": {
      "text/html": [
       "<div>\n",
       "<style scoped>\n",
       "    .dataframe tbody tr th:only-of-type {\n",
       "        vertical-align: middle;\n",
       "    }\n",
       "\n",
       "    .dataframe tbody tr th {\n",
       "        vertical-align: top;\n",
       "    }\n",
       "\n",
       "    .dataframe thead th {\n",
       "        text-align: right;\n",
       "    }\n",
       "</style>\n",
       "<table border=\"1\" class=\"dataframe\">\n",
       "  <thead>\n",
       "    <tr style=\"text-align: right;\">\n",
       "      <th></th>\n",
       "      <th>user_id</th>\n",
       "      <th>age</th>\n",
       "      <th>churn_date</th>\n",
       "      <th>city</th>\n",
       "      <th>first_name</th>\n",
       "      <th>last_name</th>\n",
       "      <th>reg_date</th>\n",
       "      <th>tariff</th>\n",
       "    </tr>\n",
       "  </thead>\n",
       "  <tbody>\n",
       "    <tr>\n",
       "      <th>0</th>\n",
       "      <td>1000</td>\n",
       "      <td>52</td>\n",
       "      <td>NaN</td>\n",
       "      <td>Краснодар</td>\n",
       "      <td>Рафаил</td>\n",
       "      <td>Верещагин</td>\n",
       "      <td>2018-05-25</td>\n",
       "      <td>ultra</td>\n",
       "    </tr>\n",
       "    <tr>\n",
       "      <th>1</th>\n",
       "      <td>1001</td>\n",
       "      <td>41</td>\n",
       "      <td>NaN</td>\n",
       "      <td>Москва</td>\n",
       "      <td>Иван</td>\n",
       "      <td>Ежов</td>\n",
       "      <td>2018-11-01</td>\n",
       "      <td>smart</td>\n",
       "    </tr>\n",
       "    <tr>\n",
       "      <th>2</th>\n",
       "      <td>1002</td>\n",
       "      <td>59</td>\n",
       "      <td>NaN</td>\n",
       "      <td>Стерлитамак</td>\n",
       "      <td>Евгений</td>\n",
       "      <td>Абрамович</td>\n",
       "      <td>2018-06-17</td>\n",
       "      <td>smart</td>\n",
       "    </tr>\n",
       "    <tr>\n",
       "      <th>3</th>\n",
       "      <td>1003</td>\n",
       "      <td>23</td>\n",
       "      <td>NaN</td>\n",
       "      <td>Москва</td>\n",
       "      <td>Белла</td>\n",
       "      <td>Белякова</td>\n",
       "      <td>2018-08-17</td>\n",
       "      <td>ultra</td>\n",
       "    </tr>\n",
       "    <tr>\n",
       "      <th>4</th>\n",
       "      <td>1004</td>\n",
       "      <td>68</td>\n",
       "      <td>NaN</td>\n",
       "      <td>Новокузнецк</td>\n",
       "      <td>Татьяна</td>\n",
       "      <td>Авдеенко</td>\n",
       "      <td>2018-05-14</td>\n",
       "      <td>ultra</td>\n",
       "    </tr>\n",
       "  </tbody>\n",
       "</table>\n",
       "</div>"
      ],
      "text/plain": [
       "   user_id  age churn_date         city first_name  last_name    reg_date  \\\n",
       "0     1000   52        NaN    Краснодар     Рафаил  Верещагин  2018-05-25   \n",
       "1     1001   41        NaN       Москва       Иван       Ежов  2018-11-01   \n",
       "2     1002   59        NaN  Стерлитамак    Евгений  Абрамович  2018-06-17   \n",
       "3     1003   23        NaN       Москва      Белла   Белякова  2018-08-17   \n",
       "4     1004   68        NaN  Новокузнецк    Татьяна   Авдеенко  2018-05-14   \n",
       "\n",
       "  tariff  \n",
       "0  ultra  \n",
       "1  smart  \n",
       "2  smart  \n",
       "3  ultra  \n",
       "4  ultra  "
      ]
     },
     "metadata": {},
     "output_type": "display_data"
    }
   ],
   "source": [
    "# изучим таблицу подробнее с помощью раннее созданной функции\n",
    "dataset_info(users)"
   ]
  },
  {
   "cell_type": "markdown",
   "metadata": {},
   "source": [
    "Названия столбцов имеют корректный формат, вносить изменения не требуется. Тип данных в столбцах *`churn_date`* и *`reg_date`* поменяем на datetime64 (значения даты и времени). Дополнительно проверим столбцы на наличие дубликатов и аномалий."
   ]
  },
  {
   "cell_type": "markdown",
   "metadata": {},
   "source": [
    "#### Столбец `user_id` — уникальный идентификатор пользователя"
   ]
  },
  {
   "cell_type": "code",
   "execution_count": 4,
   "metadata": {},
   "outputs": [],
   "source": [
    "# напишем функцию id_unique для проверки столбца с уникальным идентификатором пользователя\n",
    "def id_unique(id_column): \n",
    "    print(id_column.value_counts())\n",
    "    print()\n",
    "    print(id_column.describe())\n",
    "    print()\n",
    "    print('Количество уникальных значений:', len(id_column.unique()))"
   ]
  },
  {
   "cell_type": "code",
   "execution_count": 5,
   "metadata": {},
   "outputs": [
    {
     "name": "stdout",
     "output_type": "stream",
     "text": [
      "1000    1\n",
      "1329    1\n",
      "1342    1\n",
      "1341    1\n",
      "1340    1\n",
      "       ..\n",
      "1161    1\n",
      "1160    1\n",
      "1159    1\n",
      "1158    1\n",
      "1499    1\n",
      "Name: user_id, Length: 500, dtype: int64\n",
      "\n",
      "count     500.000000\n",
      "mean     1249.500000\n",
      "std       144.481833\n",
      "min      1000.000000\n",
      "25%      1124.750000\n",
      "50%      1249.500000\n",
      "75%      1374.250000\n",
      "max      1499.000000\n",
      "Name: user_id, dtype: float64\n",
      "\n",
      "Количество уникальных значений: 500\n"
     ]
    }
   ],
   "source": [
    "id_unique(users['user_id'])"
   ]
  },
  {
   "cell_type": "markdown",
   "metadata": {},
   "source": [
    "В столбце находится 500 уникальных пользователей, дубликаты отсутствуют. Столбец корректен."
   ]
  },
  {
   "cell_type": "markdown",
   "metadata": {},
   "source": [
    "#### Столбец `age` — возраст пользователя "
   ]
  },
  {
   "cell_type": "code",
   "execution_count": 6,
   "metadata": {},
   "outputs": [
    {
     "data": {
      "text/plain": [
       "count    500.00000\n",
       "mean      46.58800\n",
       "std       16.66763\n",
       "min       18.00000\n",
       "25%       32.00000\n",
       "50%       46.00000\n",
       "75%       62.00000\n",
       "max       75.00000\n",
       "Name: age, dtype: float64"
      ]
     },
     "execution_count": 6,
     "metadata": {},
     "output_type": "execute_result"
    }
   ],
   "source": [
    "# посмотрим возраст пользователей\n",
    "users['age'].describe()"
   ]
  },
  {
   "cell_type": "markdown",
   "metadata": {},
   "source": [
    "Никаких аномалий в столбце не наблюдается."
   ]
  },
  {
   "cell_type": "markdown",
   "metadata": {},
   "source": [
    "#### Столбец `churn_date` — дата прекращения пользования тарифом"
   ]
  },
  {
   "cell_type": "code",
   "execution_count": 7,
   "metadata": {},
   "outputs": [
    {
     "data": {
      "text/plain": [
       "0             NaN\n",
       "1             NaN\n",
       "2             NaN\n",
       "3             NaN\n",
       "4             NaN\n",
       "          ...    \n",
       "495           NaN\n",
       "496           NaN\n",
       "497           NaN\n",
       "498    2018-10-25\n",
       "499           NaN\n",
       "Name: churn_date, Length: 500, dtype: object"
      ]
     },
     "metadata": {},
     "output_type": "display_data"
    },
    {
     "data": {
      "text/html": [
       "<div>\n",
       "<style scoped>\n",
       "    .dataframe tbody tr th:only-of-type {\n",
       "        vertical-align: middle;\n",
       "    }\n",
       "\n",
       "    .dataframe tbody tr th {\n",
       "        vertical-align: top;\n",
       "    }\n",
       "\n",
       "    .dataframe thead th {\n",
       "        text-align: right;\n",
       "    }\n",
       "</style>\n",
       "<table border=\"1\" class=\"dataframe\">\n",
       "  <thead>\n",
       "    <tr style=\"text-align: right;\">\n",
       "      <th></th>\n",
       "      <th>user_id</th>\n",
       "      <th>age</th>\n",
       "      <th>churn_date</th>\n",
       "      <th>city</th>\n",
       "      <th>first_name</th>\n",
       "      <th>last_name</th>\n",
       "      <th>reg_date</th>\n",
       "      <th>tariff</th>\n",
       "    </tr>\n",
       "  </thead>\n",
       "  <tbody>\n",
       "    <tr>\n",
       "      <th>19</th>\n",
       "      <td>1019</td>\n",
       "      <td>63</td>\n",
       "      <td>2018-10-05</td>\n",
       "      <td>Томск</td>\n",
       "      <td>Игнатий</td>\n",
       "      <td>Круглов</td>\n",
       "      <td>2018-05-16</td>\n",
       "      <td>ultra</td>\n",
       "    </tr>\n",
       "    <tr>\n",
       "      <th>20</th>\n",
       "      <td>1020</td>\n",
       "      <td>59</td>\n",
       "      <td>2018-12-18</td>\n",
       "      <td>Чита</td>\n",
       "      <td>Тала</td>\n",
       "      <td>Костина</td>\n",
       "      <td>2018-10-22</td>\n",
       "      <td>smart</td>\n",
       "    </tr>\n",
       "    <tr>\n",
       "      <th>34</th>\n",
       "      <td>1034</td>\n",
       "      <td>66</td>\n",
       "      <td>2018-11-21</td>\n",
       "      <td>Вологда</td>\n",
       "      <td>Святослав</td>\n",
       "      <td>Бондарев</td>\n",
       "      <td>2018-08-26</td>\n",
       "      <td>smart</td>\n",
       "    </tr>\n",
       "    <tr>\n",
       "      <th>50</th>\n",
       "      <td>1050</td>\n",
       "      <td>44</td>\n",
       "      <td>2018-10-03</td>\n",
       "      <td>Тюмень</td>\n",
       "      <td>Рузана</td>\n",
       "      <td>Аничкина</td>\n",
       "      <td>2018-06-16</td>\n",
       "      <td>ultra</td>\n",
       "    </tr>\n",
       "    <tr>\n",
       "      <th>51</th>\n",
       "      <td>1051</td>\n",
       "      <td>37</td>\n",
       "      <td>2018-10-14</td>\n",
       "      <td>Москва</td>\n",
       "      <td>Кристина</td>\n",
       "      <td>Сомова</td>\n",
       "      <td>2018-05-28</td>\n",
       "      <td>smart</td>\n",
       "    </tr>\n",
       "    <tr>\n",
       "      <th>56</th>\n",
       "      <td>1056</td>\n",
       "      <td>73</td>\n",
       "      <td>2018-10-14</td>\n",
       "      <td>Иркутск</td>\n",
       "      <td>Радислав</td>\n",
       "      <td>Артемьев</td>\n",
       "      <td>2018-04-13</td>\n",
       "      <td>smart</td>\n",
       "    </tr>\n",
       "    <tr>\n",
       "      <th>62</th>\n",
       "      <td>1062</td>\n",
       "      <td>24</td>\n",
       "      <td>2018-12-09</td>\n",
       "      <td>Москва</td>\n",
       "      <td>Александр</td>\n",
       "      <td>Коршунов</td>\n",
       "      <td>2018-11-16</td>\n",
       "      <td>smart</td>\n",
       "    </tr>\n",
       "    <tr>\n",
       "      <th>63</th>\n",
       "      <td>1063</td>\n",
       "      <td>45</td>\n",
       "      <td>2018-12-11</td>\n",
       "      <td>Тула</td>\n",
       "      <td>Таира</td>\n",
       "      <td>Климова</td>\n",
       "      <td>2018-04-12</td>\n",
       "      <td>ultra</td>\n",
       "    </tr>\n",
       "    <tr>\n",
       "      <th>64</th>\n",
       "      <td>1064</td>\n",
       "      <td>55</td>\n",
       "      <td>2018-12-26</td>\n",
       "      <td>Якутск</td>\n",
       "      <td>Динара</td>\n",
       "      <td>Алфеева</td>\n",
       "      <td>2018-03-17</td>\n",
       "      <td>smart</td>\n",
       "    </tr>\n",
       "    <tr>\n",
       "      <th>65</th>\n",
       "      <td>1065</td>\n",
       "      <td>53</td>\n",
       "      <td>2018-12-09</td>\n",
       "      <td>Москва</td>\n",
       "      <td>Роза</td>\n",
       "      <td>Игнатова</td>\n",
       "      <td>2018-03-08</td>\n",
       "      <td>smart</td>\n",
       "    </tr>\n",
       "  </tbody>\n",
       "</table>\n",
       "</div>"
      ],
      "text/plain": [
       "    user_id  age  churn_date     city first_name last_name    reg_date tariff\n",
       "19     1019   63  2018-10-05    Томск    Игнатий   Круглов  2018-05-16  ultra\n",
       "20     1020   59  2018-12-18     Чита       Тала   Костина  2018-10-22  smart\n",
       "34     1034   66  2018-11-21  Вологда  Святослав  Бондарев  2018-08-26  smart\n",
       "50     1050   44  2018-10-03   Тюмень     Рузана  Аничкина  2018-06-16  ultra\n",
       "51     1051   37  2018-10-14   Москва   Кристина    Сомова  2018-05-28  smart\n",
       "56     1056   73  2018-10-14  Иркутск   Радислав  Артемьев  2018-04-13  smart\n",
       "62     1062   24  2018-12-09   Москва  Александр  Коршунов  2018-11-16  smart\n",
       "63     1063   45  2018-12-11     Тула      Таира   Климова  2018-04-12  ultra\n",
       "64     1064   55  2018-12-26   Якутск     Динара   Алфеева  2018-03-17  smart\n",
       "65     1065   53  2018-12-09   Москва       Роза  Игнатова  2018-03-08  smart"
      ]
     },
     "metadata": {},
     "output_type": "display_data"
    },
    {
     "name": "stdout",
     "output_type": "stream",
     "text": [
      "count             38\n",
      "unique            33\n",
      "top       2018-12-03\n",
      "freq               2\n",
      "Name: churn_date, dtype: object\n"
     ]
    }
   ],
   "source": [
    "# посмотрим строки столбца без пропусков\n",
    "display(users['churn_date'])\n",
    "display(users.query('churn_date.isna() == False').head(10))\n",
    "print(users['churn_date'].describe())"
   ]
  },
  {
   "cell_type": "code",
   "execution_count": 8,
   "metadata": {},
   "outputs": [],
   "source": [
    "# поменяем тип данных на datetime64 \n",
    "users['churn_date'] = pd.to_datetime(users['churn_date'], format='%Y-%m-%d')"
   ]
  },
  {
   "cell_type": "code",
   "execution_count": 9,
   "metadata": {},
   "outputs": [
    {
     "data": {
      "text/plain": [
       "count                      38\n",
       "unique                     33\n",
       "top       2018-12-03 00:00:00\n",
       "freq                        2\n",
       "first     2018-08-17 00:00:00\n",
       "last      2018-12-30 00:00:00\n",
       "Name: churn_date, dtype: object"
      ]
     },
     "execution_count": 9,
     "metadata": {},
     "output_type": "execute_result"
    }
   ],
   "source": [
    "# проверим изменения\n",
    "users['churn_date'].describe()"
   ]
  },
  {
   "cell_type": "markdown",
   "metadata": {},
   "source": [
    "Столбец корректен и имеет подходящий тип данных."
   ]
  },
  {
   "cell_type": "markdown",
   "metadata": {},
   "source": [
    "#### Столбец `city` — город проживания пользователя"
   ]
  },
  {
   "cell_type": "code",
   "execution_count": 10,
   "metadata": {},
   "outputs": [
    {
     "data": {
      "text/plain": [
       "0        Краснодар\n",
       "1           Москва\n",
       "2      Стерлитамак\n",
       "3           Москва\n",
       "4      Новокузнецк\n",
       "          ...     \n",
       "495        Иркутск\n",
       "496        Вологда\n",
       "497      Челябинск\n",
       "498    Владикавказ\n",
       "499          Пермь\n",
       "Name: city, Length: 500, dtype: object"
      ]
     },
     "metadata": {},
     "output_type": "display_data"
    },
    {
     "name": "stdout",
     "output_type": "stream",
     "text": [
      "count        500\n",
      "unique        76\n",
      "top       Москва\n",
      "freq          99\n",
      "Name: city, dtype: object\n"
     ]
    }
   ],
   "source": [
    "# посмотрим данные столбца\n",
    "display(users['city'])\n",
    "print(users['city'].describe())"
   ]
  },
  {
   "cell_type": "code",
   "execution_count": 11,
   "metadata": {},
   "outputs": [],
   "source": [
    "# импортируем библиотеку для лемматизации\n",
    "from pymystem3 import Mystem\n",
    "m = Mystem()"
   ]
  },
  {
   "cell_type": "markdown",
   "metadata": {},
   "source": [
    "Добавим в новый датафрейм столбцы: `original`- оригиналы названий городов, `lemm`- лемматизированные строки. Лемматизируем строки, проверим совпадает ли количество строк в обоих столбцов."
   ]
  },
  {
   "cell_type": "code",
   "execution_count": 12,
   "metadata": {},
   "outputs": [
    {
     "name": "stdout",
     "output_type": "stream",
     "text": [
      "Количество уникальных городов: 76\n"
     ]
    },
    {
     "data": {
      "text/html": [
       "<div>\n",
       "<style scoped>\n",
       "    .dataframe tbody tr th:only-of-type {\n",
       "        vertical-align: middle;\n",
       "    }\n",
       "\n",
       "    .dataframe tbody tr th {\n",
       "        vertical-align: top;\n",
       "    }\n",
       "\n",
       "    .dataframe thead th {\n",
       "        text-align: right;\n",
       "    }\n",
       "</style>\n",
       "<table border=\"1\" class=\"dataframe\">\n",
       "  <thead>\n",
       "    <tr style=\"text-align: right;\">\n",
       "      <th></th>\n",
       "      <th>original</th>\n",
       "      <th>lemm</th>\n",
       "    </tr>\n",
       "  </thead>\n",
       "  <tbody>\n",
       "    <tr>\n",
       "      <th>0</th>\n",
       "      <td>Архангельск</td>\n",
       "      <td>NaN</td>\n",
       "    </tr>\n",
       "    <tr>\n",
       "      <th>1</th>\n",
       "      <td>Астрахань</td>\n",
       "      <td>NaN</td>\n",
       "    </tr>\n",
       "    <tr>\n",
       "      <th>2</th>\n",
       "      <td>Балашиха</td>\n",
       "      <td>NaN</td>\n",
       "    </tr>\n",
       "    <tr>\n",
       "      <th>3</th>\n",
       "      <td>Барнаул</td>\n",
       "      <td>NaN</td>\n",
       "    </tr>\n",
       "    <tr>\n",
       "      <th>4</th>\n",
       "      <td>Белгород</td>\n",
       "      <td>NaN</td>\n",
       "    </tr>\n",
       "    <tr>\n",
       "      <th>...</th>\n",
       "      <td>...</td>\n",
       "      <td>...</td>\n",
       "    </tr>\n",
       "    <tr>\n",
       "      <th>71</th>\n",
       "      <td>Челябинск</td>\n",
       "      <td>NaN</td>\n",
       "    </tr>\n",
       "    <tr>\n",
       "      <th>72</th>\n",
       "      <td>Череповец</td>\n",
       "      <td>NaN</td>\n",
       "    </tr>\n",
       "    <tr>\n",
       "      <th>73</th>\n",
       "      <td>Чита</td>\n",
       "      <td>NaN</td>\n",
       "    </tr>\n",
       "    <tr>\n",
       "      <th>74</th>\n",
       "      <td>Якутск</td>\n",
       "      <td>NaN</td>\n",
       "    </tr>\n",
       "    <tr>\n",
       "      <th>75</th>\n",
       "      <td>Ярославль</td>\n",
       "      <td>NaN</td>\n",
       "    </tr>\n",
       "  </tbody>\n",
       "</table>\n",
       "<p>76 rows × 2 columns</p>\n",
       "</div>"
      ],
      "text/plain": [
       "       original lemm\n",
       "0   Архангельск  NaN\n",
       "1     Астрахань  NaN\n",
       "2      Балашиха  NaN\n",
       "3       Барнаул  NaN\n",
       "4      Белгород  NaN\n",
       "..          ...  ...\n",
       "71    Челябинск  NaN\n",
       "72    Череповец  NaN\n",
       "73         Чита  NaN\n",
       "74       Якутск  NaN\n",
       "75    Ярославль  NaN\n",
       "\n",
       "[76 rows x 2 columns]"
      ]
     },
     "metadata": {},
     "output_type": "display_data"
    }
   ],
   "source": [
    "# проверим количество уникальных значений\n",
    "cities = pd.DataFrame(columns = ['original', 'lemm'])\n",
    "cities['original'] = users['city'].sort_values().unique()\n",
    "print('Количество уникальных городов:', len(cities['original']))\n",
    "display(cities)"
   ]
  },
  {
   "cell_type": "code",
   "execution_count": 13,
   "metadata": {},
   "outputs": [],
   "source": [
    "# лемматизируем названия городов, сравним их количество с количеством оригиналов\n",
    "def lemm_list(st):\n",
    "    w = m.lemmatize(st)\n",
    "    w.pop()\n",
    "    return ''.join(w)"
   ]
  },
  {
   "cell_type": "code",
   "execution_count": 14,
   "metadata": {},
   "outputs": [],
   "source": [
    "# добавим новый столбец с леммами\n",
    "cities['lemm'] = cities['original'].apply(lemm_list)"
   ]
  },
  {
   "cell_type": "code",
   "execution_count": 15,
   "metadata": {},
   "outputs": [
    {
     "data": {
      "text/html": [
       "<div>\n",
       "<style scoped>\n",
       "    .dataframe tbody tr th:only-of-type {\n",
       "        vertical-align: middle;\n",
       "    }\n",
       "\n",
       "    .dataframe tbody tr th {\n",
       "        vertical-align: top;\n",
       "    }\n",
       "\n",
       "    .dataframe thead th {\n",
       "        text-align: right;\n",
       "    }\n",
       "</style>\n",
       "<table border=\"1\" class=\"dataframe\">\n",
       "  <thead>\n",
       "    <tr style=\"text-align: right;\">\n",
       "      <th></th>\n",
       "      <th>original</th>\n",
       "      <th>lemm</th>\n",
       "    </tr>\n",
       "  </thead>\n",
       "  <tbody>\n",
       "    <tr>\n",
       "      <th>0</th>\n",
       "      <td>Архангельск</td>\n",
       "      <td>архангельск</td>\n",
       "    </tr>\n",
       "    <tr>\n",
       "      <th>1</th>\n",
       "      <td>Астрахань</td>\n",
       "      <td>астрахань</td>\n",
       "    </tr>\n",
       "    <tr>\n",
       "      <th>2</th>\n",
       "      <td>Балашиха</td>\n",
       "      <td>балашиха</td>\n",
       "    </tr>\n",
       "    <tr>\n",
       "      <th>3</th>\n",
       "      <td>Барнаул</td>\n",
       "      <td>барнаул</td>\n",
       "    </tr>\n",
       "    <tr>\n",
       "      <th>4</th>\n",
       "      <td>Белгород</td>\n",
       "      <td>белгород</td>\n",
       "    </tr>\n",
       "    <tr>\n",
       "      <th>...</th>\n",
       "      <td>...</td>\n",
       "      <td>...</td>\n",
       "    </tr>\n",
       "    <tr>\n",
       "      <th>71</th>\n",
       "      <td>Челябинск</td>\n",
       "      <td>челябинск</td>\n",
       "    </tr>\n",
       "    <tr>\n",
       "      <th>72</th>\n",
       "      <td>Череповец</td>\n",
       "      <td>череповец</td>\n",
       "    </tr>\n",
       "    <tr>\n",
       "      <th>73</th>\n",
       "      <td>Чита</td>\n",
       "      <td>чита</td>\n",
       "    </tr>\n",
       "    <tr>\n",
       "      <th>74</th>\n",
       "      <td>Якутск</td>\n",
       "      <td>якутск</td>\n",
       "    </tr>\n",
       "    <tr>\n",
       "      <th>75</th>\n",
       "      <td>Ярославль</td>\n",
       "      <td>ярославль</td>\n",
       "    </tr>\n",
       "  </tbody>\n",
       "</table>\n",
       "<p>76 rows × 2 columns</p>\n",
       "</div>"
      ],
      "text/plain": [
       "       original         lemm\n",
       "0   Архангельск  архангельск\n",
       "1     Астрахань    астрахань\n",
       "2      Балашиха     балашиха\n",
       "3       Барнаул      барнаул\n",
       "4      Белгород     белгород\n",
       "..          ...          ...\n",
       "71    Челябинск    челябинск\n",
       "72    Череповец    череповец\n",
       "73         Чита         чита\n",
       "74       Якутск       якутск\n",
       "75    Ярославль    ярославль\n",
       "\n",
       "[76 rows x 2 columns]"
      ]
     },
     "metadata": {},
     "output_type": "display_data"
    }
   ],
   "source": [
    "# посмотрим количество городов\n",
    "display(cities)"
   ]
  },
  {
   "cell_type": "markdown",
   "metadata": {},
   "source": [
    "Количество городов одинаковое. Следовательно, дубликатов нет и столбец корректен."
   ]
  },
  {
   "cell_type": "markdown",
   "metadata": {},
   "source": [
    "#### Столбцы `first_name`, `last_name` — имя и фамилия пользователя"
   ]
  },
  {
   "cell_type": "code",
   "execution_count": 16,
   "metadata": {},
   "outputs": [
    {
     "name": "stdout",
     "output_type": "stream",
     "text": [
      "Уникальные имена и фамилии пользователей:\n"
     ]
    },
    {
     "data": {
      "text/plain": [
       "0       Верещагин Рафаил\n",
       "1              Ежов Иван\n",
       "2      Абрамович Евгений\n",
       "3         Белякова Белла\n",
       "4       Авдеенко Татьяна\n",
       "             ...        \n",
       "495      Фокин Авксентий\n",
       "496        Блохин Трифон\n",
       "497      Агеева Каролина\n",
       "498     Акимчин Всеволод\n",
       "499      Корнилов Гектор\n",
       "Name: original, Length: 500, dtype: object"
      ]
     },
     "metadata": {},
     "output_type": "display_data"
    }
   ],
   "source": [
    "# проверим количество уникальных значений\n",
    "full_name = pd.DataFrame(columns = ['original', 'lemm'])\n",
    "full_name['original'] = users['last_name'] + ' ' + users['first_name']\n",
    "print('Уникальные имена и фамилии пользователей:')\n",
    "display(full_name['original'])"
   ]
  },
  {
   "cell_type": "markdown",
   "metadata": {},
   "source": [
    "Все имена и фамилии пользователей уникальны - столбец корректен."
   ]
  },
  {
   "cell_type": "markdown",
   "metadata": {},
   "source": [
    "#### Столбец `reg_date` — дата подключения тарифа (день, месяц, год)"
   ]
  },
  {
   "cell_type": "code",
   "execution_count": 17,
   "metadata": {},
   "outputs": [
    {
     "data": {
      "text/html": [
       "<div>\n",
       "<style scoped>\n",
       "    .dataframe tbody tr th:only-of-type {\n",
       "        vertical-align: middle;\n",
       "    }\n",
       "\n",
       "    .dataframe tbody tr th {\n",
       "        vertical-align: top;\n",
       "    }\n",
       "\n",
       "    .dataframe thead th {\n",
       "        text-align: right;\n",
       "    }\n",
       "</style>\n",
       "<table border=\"1\" class=\"dataframe\">\n",
       "  <thead>\n",
       "    <tr style=\"text-align: right;\">\n",
       "      <th></th>\n",
       "      <th>user_id</th>\n",
       "      <th>age</th>\n",
       "      <th>churn_date</th>\n",
       "      <th>city</th>\n",
       "      <th>first_name</th>\n",
       "      <th>last_name</th>\n",
       "      <th>reg_date</th>\n",
       "      <th>tariff</th>\n",
       "    </tr>\n",
       "  </thead>\n",
       "  <tbody>\n",
       "    <tr>\n",
       "      <th>0</th>\n",
       "      <td>1000</td>\n",
       "      <td>52</td>\n",
       "      <td>NaT</td>\n",
       "      <td>Краснодар</td>\n",
       "      <td>Рафаил</td>\n",
       "      <td>Верещагин</td>\n",
       "      <td>2018-05-25</td>\n",
       "      <td>ultra</td>\n",
       "    </tr>\n",
       "    <tr>\n",
       "      <th>1</th>\n",
       "      <td>1001</td>\n",
       "      <td>41</td>\n",
       "      <td>NaT</td>\n",
       "      <td>Москва</td>\n",
       "      <td>Иван</td>\n",
       "      <td>Ежов</td>\n",
       "      <td>2018-11-01</td>\n",
       "      <td>smart</td>\n",
       "    </tr>\n",
       "    <tr>\n",
       "      <th>2</th>\n",
       "      <td>1002</td>\n",
       "      <td>59</td>\n",
       "      <td>NaT</td>\n",
       "      <td>Стерлитамак</td>\n",
       "      <td>Евгений</td>\n",
       "      <td>Абрамович</td>\n",
       "      <td>2018-06-17</td>\n",
       "      <td>smart</td>\n",
       "    </tr>\n",
       "    <tr>\n",
       "      <th>3</th>\n",
       "      <td>1003</td>\n",
       "      <td>23</td>\n",
       "      <td>NaT</td>\n",
       "      <td>Москва</td>\n",
       "      <td>Белла</td>\n",
       "      <td>Белякова</td>\n",
       "      <td>2018-08-17</td>\n",
       "      <td>ultra</td>\n",
       "    </tr>\n",
       "    <tr>\n",
       "      <th>4</th>\n",
       "      <td>1004</td>\n",
       "      <td>68</td>\n",
       "      <td>NaT</td>\n",
       "      <td>Новокузнецк</td>\n",
       "      <td>Татьяна</td>\n",
       "      <td>Авдеенко</td>\n",
       "      <td>2018-05-14</td>\n",
       "      <td>ultra</td>\n",
       "    </tr>\n",
       "  </tbody>\n",
       "</table>\n",
       "</div>"
      ],
      "text/plain": [
       "   user_id  age churn_date         city first_name  last_name    reg_date  \\\n",
       "0     1000   52        NaT    Краснодар     Рафаил  Верещагин  2018-05-25   \n",
       "1     1001   41        NaT       Москва       Иван       Ежов  2018-11-01   \n",
       "2     1002   59        NaT  Стерлитамак    Евгений  Абрамович  2018-06-17   \n",
       "3     1003   23        NaT       Москва      Белла   Белякова  2018-08-17   \n",
       "4     1004   68        NaT  Новокузнецк    Татьяна   Авдеенко  2018-05-14   \n",
       "\n",
       "  tariff  \n",
       "0  ultra  \n",
       "1  smart  \n",
       "2  smart  \n",
       "3  ultra  \n",
       "4  ultra  "
      ]
     },
     "metadata": {},
     "output_type": "display_data"
    },
    {
     "data": {
      "text/plain": [
       "0      2018-05-25\n",
       "1      2018-11-01\n",
       "2      2018-06-17\n",
       "3      2018-08-17\n",
       "4      2018-05-14\n",
       "          ...    \n",
       "495    2018-08-28\n",
       "496    2018-01-27\n",
       "497    2018-10-09\n",
       "498    2018-07-19\n",
       "499    2018-09-27\n",
       "Name: reg_date, Length: 500, dtype: object"
      ]
     },
     "metadata": {},
     "output_type": "display_data"
    }
   ],
   "source": [
    "# посмотрим данные столбца\n",
    "display(users.head())\n",
    "display(users['reg_date'])"
   ]
  },
  {
   "cell_type": "code",
   "execution_count": 18,
   "metadata": {},
   "outputs": [],
   "source": [
    "# поменяем тип данных на datetime64\n",
    "users['reg_date'] = pd.to_datetime(users['reg_date'], format='%Y-%m-%d')"
   ]
  },
  {
   "cell_type": "code",
   "execution_count": 19,
   "metadata": {},
   "outputs": [
    {
     "data": {
      "text/plain": [
       "count                     500\n",
       "unique                    270\n",
       "top       2018-05-28 00:00:00\n",
       "freq                        8\n",
       "first     2018-01-01 00:00:00\n",
       "last      2018-12-31 00:00:00\n",
       "Name: reg_date, dtype: object"
      ]
     },
     "execution_count": 19,
     "metadata": {},
     "output_type": "execute_result"
    }
   ],
   "source": [
    "# проверим изменения\n",
    "users['reg_date'].describe()"
   ]
  },
  {
   "cell_type": "markdown",
   "metadata": {},
   "source": [
    "Столбец корректен, имеет подходящий тип данных."
   ]
  },
  {
   "cell_type": "markdown",
   "metadata": {},
   "source": [
    "#### Столбец `tariff` — название тарифного плана"
   ]
  },
  {
   "cell_type": "code",
   "execution_count": 20,
   "metadata": {},
   "outputs": [
    {
     "data": {
      "text/plain": [
       "smart    351\n",
       "ultra    149\n",
       "Name: tariff, dtype: int64"
      ]
     },
     "execution_count": 20,
     "metadata": {},
     "output_type": "execute_result"
    }
   ],
   "source": [
    "# проверим количество уникальных значений, всего должно быть два тарифа и 500 строк\n",
    "users['tariff'].value_counts()"
   ]
  },
  {
   "cell_type": "markdown",
   "metadata": {},
   "source": [
    "Столбец содержит 500 записей и только два типа тарифа."
   ]
  },
  {
   "cell_type": "code",
   "execution_count": 21,
   "metadata": {},
   "outputs": [
    {
     "name": "stdout",
     "output_type": "stream",
     "text": [
      "<class 'pandas.core.frame.DataFrame'>\n",
      "RangeIndex: 500 entries, 0 to 499\n",
      "Data columns (total 8 columns):\n",
      " #   Column      Non-Null Count  Dtype         \n",
      "---  ------      --------------  -----         \n",
      " 0   user_id     500 non-null    int64         \n",
      " 1   age         500 non-null    int64         \n",
      " 2   churn_date  38 non-null     datetime64[ns]\n",
      " 3   city        500 non-null    object        \n",
      " 4   first_name  500 non-null    object        \n",
      " 5   last_name   500 non-null    object        \n",
      " 6   reg_date    500 non-null    datetime64[ns]\n",
      " 7   tariff      500 non-null    object        \n",
      "dtypes: datetime64[ns](2), int64(2), object(4)\n",
      "memory usage: 31.4+ KB\n"
     ]
    }
   ],
   "source": [
    "# проверим всю таблицу\n",
    "users.info()"
   ]
  },
  {
   "cell_type": "code",
   "execution_count": 22,
   "metadata": {},
   "outputs": [
    {
     "name": "stdout",
     "output_type": "stream",
     "text": [
      "Количество дубликатов: 0\n"
     ]
    }
   ],
   "source": [
    "print('Количество дубликатов:', users.loc[:,['age', 'churn_date', 'city', 'first_name', \\\n",
    "                                          'last_name', 'reg_date', 'tariff']].duplicated().sum())"
   ]
  },
  {
   "cell_type": "markdown",
   "metadata": {},
   "source": [
    "**Вывод:**\n",
    "\n",
    "Таблица `users` полностью готова к работе. Дубликаты отсутствуют, тип данных изменен на наиболее подходящий."
   ]
  },
  {
   "cell_type": "markdown",
   "metadata": {},
   "source": [
    "### Таблица `calls`"
   ]
  },
  {
   "cell_type": "code",
   "execution_count": 23,
   "metadata": {
    "scrolled": true
   },
   "outputs": [
    {
     "name": "stdout",
     "output_type": "stream",
     "text": [
      "<class 'pandas.core.frame.DataFrame'>\n",
      "RangeIndex: 202607 entries, 0 to 202606\n",
      "Data columns (total 4 columns):\n",
      " #   Column     Non-Null Count   Dtype  \n",
      "---  ------     --------------   -----  \n",
      " 0   id         202607 non-null  object \n",
      " 1   call_date  202607 non-null  object \n",
      " 2   duration   202607 non-null  float64\n",
      " 3   user_id    202607 non-null  int64  \n",
      "dtypes: float64(1), int64(1), object(2)\n",
      "memory usage: 6.2+ MB\n",
      "None\n"
     ]
    },
    {
     "data": {
      "text/html": [
       "<div>\n",
       "<style scoped>\n",
       "    .dataframe tbody tr th:only-of-type {\n",
       "        vertical-align: middle;\n",
       "    }\n",
       "\n",
       "    .dataframe tbody tr th {\n",
       "        vertical-align: top;\n",
       "    }\n",
       "\n",
       "    .dataframe thead th {\n",
       "        text-align: right;\n",
       "    }\n",
       "</style>\n",
       "<table border=\"1\" class=\"dataframe\">\n",
       "  <thead>\n",
       "    <tr style=\"text-align: right;\">\n",
       "      <th></th>\n",
       "      <th>id</th>\n",
       "      <th>call_date</th>\n",
       "      <th>duration</th>\n",
       "      <th>user_id</th>\n",
       "    </tr>\n",
       "  </thead>\n",
       "  <tbody>\n",
       "    <tr>\n",
       "      <th>0</th>\n",
       "      <td>1000_0</td>\n",
       "      <td>2018-07-25</td>\n",
       "      <td>0.00</td>\n",
       "      <td>1000</td>\n",
       "    </tr>\n",
       "    <tr>\n",
       "      <th>1</th>\n",
       "      <td>1000_1</td>\n",
       "      <td>2018-08-17</td>\n",
       "      <td>0.00</td>\n",
       "      <td>1000</td>\n",
       "    </tr>\n",
       "    <tr>\n",
       "      <th>2</th>\n",
       "      <td>1000_2</td>\n",
       "      <td>2018-06-11</td>\n",
       "      <td>2.85</td>\n",
       "      <td>1000</td>\n",
       "    </tr>\n",
       "    <tr>\n",
       "      <th>3</th>\n",
       "      <td>1000_3</td>\n",
       "      <td>2018-09-21</td>\n",
       "      <td>13.80</td>\n",
       "      <td>1000</td>\n",
       "    </tr>\n",
       "    <tr>\n",
       "      <th>4</th>\n",
       "      <td>1000_4</td>\n",
       "      <td>2018-12-15</td>\n",
       "      <td>5.18</td>\n",
       "      <td>1000</td>\n",
       "    </tr>\n",
       "  </tbody>\n",
       "</table>\n",
       "</div>"
      ],
      "text/plain": [
       "       id   call_date  duration  user_id\n",
       "0  1000_0  2018-07-25      0.00     1000\n",
       "1  1000_1  2018-08-17      0.00     1000\n",
       "2  1000_2  2018-06-11      2.85     1000\n",
       "3  1000_3  2018-09-21     13.80     1000\n",
       "4  1000_4  2018-12-15      5.18     1000"
      ]
     },
     "metadata": {},
     "output_type": "display_data"
    }
   ],
   "source": [
    "# изучим таблицу подробнее с помощью раннее созданной функции\n",
    "dataset_info(calls)"
   ]
  },
  {
   "cell_type": "markdown",
   "metadata": {},
   "source": [
    "#### Столбец `id` — уникальный номер звонка"
   ]
  },
  {
   "cell_type": "code",
   "execution_count": 24,
   "metadata": {},
   "outputs": [
    {
     "data": {
      "text/plain": [
       "1000_0      1\n",
       "1344_881    1\n",
       "1344_883    1\n",
       "1344_884    1\n",
       "1344_885    1\n",
       "           ..\n",
       "1171_562    1\n",
       "1171_563    1\n",
       "1171_564    1\n",
       "1171_565    1\n",
       "1499_219    1\n",
       "Name: id, Length: 202607, dtype: int64"
      ]
     },
     "execution_count": 24,
     "metadata": {},
     "output_type": "execute_result"
    }
   ],
   "source": [
    "# проверим уникальность номеров звонков\n",
    "calls['id'].value_counts()"
   ]
  },
  {
   "cell_type": "markdown",
   "metadata": {},
   "source": [
    "Все идентификаторы уникальны и в одном экземпляре - столбец корректен."
   ]
  },
  {
   "cell_type": "markdown",
   "metadata": {},
   "source": [
    "#### Столбец `call_date` — дата звонка"
   ]
  },
  {
   "cell_type": "code",
   "execution_count": 25,
   "metadata": {},
   "outputs": [],
   "source": [
    "# поменяем тип данных столбца на datetime64\n",
    "calls['call_date'] = pd.to_datetime(calls['call_date'], format='%Y-%m-%d')"
   ]
  },
  {
   "cell_type": "code",
   "execution_count": 26,
   "metadata": {},
   "outputs": [
    {
     "data": {
      "text/plain": [
       "13160   2018-09-16\n",
       "78156   2018-12-09\n",
       "89525   2018-11-25\n",
       "7360    2018-12-07\n",
       "91829   2018-07-25\n",
       "Name: call_date, dtype: datetime64[ns]"
      ]
     },
     "metadata": {},
     "output_type": "display_data"
    },
    {
     "name": "stdout",
     "output_type": "stream",
     "text": [
      "count                  202607\n",
      "unique                    365\n",
      "top       2018-12-31 00:00:00\n",
      "freq                     1435\n",
      "first     2018-01-01 00:00:00\n",
      "last      2018-12-31 00:00:00\n",
      "Name: call_date, dtype: object\n"
     ]
    }
   ],
   "source": [
    "# проверим изменения, возьмём пять случайных строк таблицы\n",
    "display(calls['call_date'].sample(5))\n",
    "print(calls['call_date'].describe())"
   ]
  },
  {
   "cell_type": "markdown",
   "metadata": {},
   "source": [
    "Поменяли тип данных, количество уникальных значений - 365. C 01.01.2018 по 31.12.2018."
   ]
  },
  {
   "cell_type": "markdown",
   "metadata": {},
   "source": [
    "#### Столбец `duration` — длительность звонка в минутах"
   ]
  },
  {
   "cell_type": "code",
   "execution_count": 27,
   "metadata": {},
   "outputs": [
    {
     "data": {
      "text/plain": [
       "0          0.00\n",
       "1          0.00\n",
       "2          2.85\n",
       "3         13.80\n",
       "4          5.18\n",
       "          ...  \n",
       "202602     0.76\n",
       "202603    18.83\n",
       "202604    10.81\n",
       "202605     4.27\n",
       "202606    19.62\n",
       "Name: duration, Length: 202607, dtype: float64"
      ]
     },
     "metadata": {},
     "output_type": "display_data"
    },
    {
     "data": {
      "text/plain": [
       "count    202607.000000\n",
       "mean          6.755887\n",
       "std           5.843365\n",
       "min           0.000000\n",
       "25%           1.300000\n",
       "50%           6.000000\n",
       "75%          10.700000\n",
       "max          38.000000\n",
       "Name: duration, dtype: float64"
      ]
     },
     "metadata": {},
     "output_type": "display_data"
    }
   ],
   "source": [
    "# посмотрим содержимое столбца\n",
    "display(calls['duration'])\n",
    "display(calls['duration'].describe())"
   ]
  },
  {
   "cell_type": "markdown",
   "metadata": {},
   "source": [
    "Аномальных значений не наблюдается. Длительность звонков - от 0 минут до 38 минут. Как следует из предоставленных данных - нулями обозначены пропущенные звонки, поэтому их не нужно удалять.\n",
    "\n",
    "К тому же сказано, что «Мегалайн» всегда округляет секунды до минут. Каждый звонок округляется отдельно: даже если он длился всего 1 секунду, будет засчитан как 1 минута. "
   ]
  },
  {
   "cell_type": "code",
   "execution_count": 28,
   "metadata": {},
   "outputs": [
    {
     "name": "stdout",
     "output_type": "stream",
     "text": [
      "              id  call_date  duration  user_id\n",
      "0         1000_0 2018-07-25         0     1000\n",
      "1         1000_1 2018-08-17         0     1000\n",
      "2         1000_2 2018-06-11         3     1000\n",
      "3         1000_3 2018-09-21        14     1000\n",
      "4         1000_4 2018-12-15         6     1000\n",
      "...          ...        ...       ...      ...\n",
      "202602  1499_215 2018-12-26         1     1499\n",
      "202603  1499_216 2018-10-18        19     1499\n",
      "202604  1499_217 2018-11-10        11     1499\n",
      "202605  1499_218 2018-10-06         5     1499\n",
      "202606  1499_219 2018-12-14        20     1499\n",
      "\n",
      "[202607 rows x 4 columns]\n"
     ]
    }
   ],
   "source": [
    "# округлим значения в бо́льшую сторону\n",
    "calls['duration'] = calls['duration'].apply(np.ceil).astype(int)\n",
    "print(calls)"
   ]
  },
  {
   "cell_type": "markdown",
   "metadata": {},
   "source": [
    "Длительность звонков округлена в бо́льшую сторону согласно условиям «Мегалайн»."
   ]
  },
  {
   "cell_type": "markdown",
   "metadata": {},
   "source": [
    "#### Столбец `user_id` — идентификатор пользователя, сделавшего звонок"
   ]
  },
  {
   "cell_type": "code",
   "execution_count": 29,
   "metadata": {},
   "outputs": [
    {
     "name": "stdout",
     "output_type": "stream",
     "text": [
      "1377    1760\n",
      "1168    1692\n",
      "1375    1560\n",
      "1453    1440\n",
      "1196    1240\n",
      "        ... \n",
      "1397      33\n",
      "1442      28\n",
      "1373      24\n",
      "1016      20\n",
      "1257      14\n",
      "Name: user_id, Length: 492, dtype: int64\n",
      "\n",
      "count    202607.000000\n",
      "mean       1253.940619\n",
      "std         144.722751\n",
      "min        1000.000000\n",
      "25%        1126.000000\n",
      "50%        1260.000000\n",
      "75%        1379.000000\n",
      "max        1499.000000\n",
      "Name: user_id, dtype: float64\n",
      "\n",
      "Количество уникальных значений: 492\n"
     ]
    }
   ],
   "source": [
    "# проверим уникальные идентификаторы, используя написанную функцию id_unique\n",
    "id_unique(calls['user_id'])"
   ]
  },
  {
   "cell_type": "markdown",
   "metadata": {},
   "source": [
    "Присутствует только 492 уникальных значения. Скорее всего, 8 пользователей ни разу не пользовались звонками за год. Вполне возможно, что это могут быть пользователи, которым не нужна телефонная связь и они пользуются только интернетом (например, могут использовать 4G-модемы)."
   ]
  },
  {
   "cell_type": "code",
   "execution_count": 30,
   "metadata": {},
   "outputs": [
    {
     "name": "stdout",
     "output_type": "stream",
     "text": [
      "<class 'pandas.core.frame.DataFrame'>\n",
      "RangeIndex: 202607 entries, 0 to 202606\n",
      "Data columns (total 4 columns):\n",
      " #   Column     Non-Null Count   Dtype         \n",
      "---  ------     --------------   -----         \n",
      " 0   id         202607 non-null  object        \n",
      " 1   call_date  202607 non-null  datetime64[ns]\n",
      " 2   duration   202607 non-null  int32         \n",
      " 3   user_id    202607 non-null  int64         \n",
      "dtypes: datetime64[ns](1), int32(1), int64(1), object(1)\n",
      "memory usage: 5.4+ MB\n"
     ]
    }
   ],
   "source": [
    "# проверим всю таблицу\n",
    "calls.info()"
   ]
  },
  {
   "cell_type": "markdown",
   "metadata": {},
   "source": [
    "**Вывод:**\n",
    "\n",
    "Таблица готова к работе. Проверили данные на наличие дубликатов, поменяли тип данных в столбце `call_date`. 8 уникальных абонентов не пользовались за год телефонными звонками."
   ]
  },
  {
   "cell_type": "markdown",
   "metadata": {},
   "source": [
    "### Таблица `messages`"
   ]
  },
  {
   "cell_type": "code",
   "execution_count": 31,
   "metadata": {},
   "outputs": [
    {
     "name": "stdout",
     "output_type": "stream",
     "text": [
      "<class 'pandas.core.frame.DataFrame'>\n",
      "RangeIndex: 123036 entries, 0 to 123035\n",
      "Data columns (total 3 columns):\n",
      " #   Column        Non-Null Count   Dtype \n",
      "---  ------        --------------   ----- \n",
      " 0   id            123036 non-null  object\n",
      " 1   message_date  123036 non-null  object\n",
      " 2   user_id       123036 non-null  int64 \n",
      "dtypes: int64(1), object(2)\n",
      "memory usage: 2.8+ MB\n",
      "None\n"
     ]
    },
    {
     "data": {
      "text/html": [
       "<div>\n",
       "<style scoped>\n",
       "    .dataframe tbody tr th:only-of-type {\n",
       "        vertical-align: middle;\n",
       "    }\n",
       "\n",
       "    .dataframe tbody tr th {\n",
       "        vertical-align: top;\n",
       "    }\n",
       "\n",
       "    .dataframe thead th {\n",
       "        text-align: right;\n",
       "    }\n",
       "</style>\n",
       "<table border=\"1\" class=\"dataframe\">\n",
       "  <thead>\n",
       "    <tr style=\"text-align: right;\">\n",
       "      <th></th>\n",
       "      <th>id</th>\n",
       "      <th>message_date</th>\n",
       "      <th>user_id</th>\n",
       "    </tr>\n",
       "  </thead>\n",
       "  <tbody>\n",
       "    <tr>\n",
       "      <th>0</th>\n",
       "      <td>1000_0</td>\n",
       "      <td>2018-06-27</td>\n",
       "      <td>1000</td>\n",
       "    </tr>\n",
       "    <tr>\n",
       "      <th>1</th>\n",
       "      <td>1000_1</td>\n",
       "      <td>2018-10-08</td>\n",
       "      <td>1000</td>\n",
       "    </tr>\n",
       "    <tr>\n",
       "      <th>2</th>\n",
       "      <td>1000_2</td>\n",
       "      <td>2018-08-04</td>\n",
       "      <td>1000</td>\n",
       "    </tr>\n",
       "    <tr>\n",
       "      <th>3</th>\n",
       "      <td>1000_3</td>\n",
       "      <td>2018-06-16</td>\n",
       "      <td>1000</td>\n",
       "    </tr>\n",
       "    <tr>\n",
       "      <th>4</th>\n",
       "      <td>1000_4</td>\n",
       "      <td>2018-12-05</td>\n",
       "      <td>1000</td>\n",
       "    </tr>\n",
       "  </tbody>\n",
       "</table>\n",
       "</div>"
      ],
      "text/plain": [
       "       id message_date  user_id\n",
       "0  1000_0   2018-06-27     1000\n",
       "1  1000_1   2018-10-08     1000\n",
       "2  1000_2   2018-08-04     1000\n",
       "3  1000_3   2018-06-16     1000\n",
       "4  1000_4   2018-12-05     1000"
      ]
     },
     "metadata": {},
     "output_type": "display_data"
    }
   ],
   "source": [
    "# изучим таблицу подробнее с помощью раннее созданной функции\n",
    "dataset_info(messages)"
   ]
  },
  {
   "cell_type": "markdown",
   "metadata": {},
   "source": [
    "#### Столбец `id` — уникальный номер сообщения"
   ]
  },
  {
   "cell_type": "code",
   "execution_count": 32,
   "metadata": {},
   "outputs": [
    {
     "data": {
      "text/plain": [
       "1000_0      1\n",
       "1344_248    1\n",
       "1344_96     1\n",
       "1344_95     1\n",
       "1344_94     1\n",
       "           ..\n",
       "1174_352    1\n",
       "1174_351    1\n",
       "1174_350    1\n",
       "1174_349    1\n",
       "1499_183    1\n",
       "Name: id, Length: 123036, dtype: int64"
      ]
     },
     "execution_count": 32,
     "metadata": {},
     "output_type": "execute_result"
    }
   ],
   "source": [
    "# проверим уникальность значений\n",
    "messages['id'].value_counts()"
   ]
  },
  {
   "cell_type": "markdown",
   "metadata": {},
   "source": [
    "Все идентификаторы уникальны и в одном экземпляре - столбец корректен."
   ]
  },
  {
   "cell_type": "markdown",
   "metadata": {},
   "source": [
    "#### Столбец `message_date` — дата сообщения"
   ]
  },
  {
   "cell_type": "code",
   "execution_count": 33,
   "metadata": {
    "scrolled": true
   },
   "outputs": [
    {
     "data": {
      "text/plain": [
       "14103    2018-10-01\n",
       "92507    2018-12-18\n",
       "96278    2018-09-27\n",
       "3840     2018-07-27\n",
       "4702     2018-09-24\n",
       "Name: message_date, dtype: object"
      ]
     },
     "metadata": {},
     "output_type": "display_data"
    },
    {
     "name": "stdout",
     "output_type": "stream",
     "text": [
      "count         123036\n",
      "unique           364\n",
      "top       2018-12-31\n",
      "freq             859\n",
      "Name: message_date, dtype: object\n"
     ]
    }
   ],
   "source": [
    "# посмотрим пять случайных значений и описание столбца\n",
    "display(messages['message_date'].sample(5))\n",
    "print(messages['message_date'].describe())"
   ]
  },
  {
   "cell_type": "markdown",
   "metadata": {},
   "source": [
    "Данные есть только на 364 дня. Вполне возможно, что за один день информация отсутствует."
   ]
  },
  {
   "cell_type": "code",
   "execution_count": 34,
   "metadata": {},
   "outputs": [],
   "source": [
    "# изменим тип данных на datetime64\n",
    "messages['message_date'] = pd.to_datetime(messages['message_date'], format='%Y-%m-%d')"
   ]
  },
  {
   "cell_type": "code",
   "execution_count": 35,
   "metadata": {
    "scrolled": true
   },
   "outputs": [
    {
     "data": {
      "text/plain": [
       "81565   2018-11-09\n",
       "54099   2018-09-11\n",
       "39275   2018-01-31\n",
       "38913   2018-10-23\n",
       "17370   2018-05-17\n",
       "Name: message_date, dtype: datetime64[ns]"
      ]
     },
     "metadata": {},
     "output_type": "display_data"
    },
    {
     "data": {
      "text/html": [
       "<div>\n",
       "<style scoped>\n",
       "    .dataframe tbody tr th:only-of-type {\n",
       "        vertical-align: middle;\n",
       "    }\n",
       "\n",
       "    .dataframe tbody tr th {\n",
       "        vertical-align: top;\n",
       "    }\n",
       "\n",
       "    .dataframe thead th {\n",
       "        text-align: right;\n",
       "    }\n",
       "</style>\n",
       "<table border=\"1\" class=\"dataframe\">\n",
       "  <thead>\n",
       "    <tr style=\"text-align: right;\">\n",
       "      <th></th>\n",
       "      <th>id</th>\n",
       "      <th>message_date</th>\n",
       "      <th>user_id</th>\n",
       "    </tr>\n",
       "  </thead>\n",
       "  <tbody>\n",
       "    <tr>\n",
       "      <th>0</th>\n",
       "      <td>1000_0</td>\n",
       "      <td>2018-06-27</td>\n",
       "      <td>1000</td>\n",
       "    </tr>\n",
       "    <tr>\n",
       "      <th>1</th>\n",
       "      <td>1000_1</td>\n",
       "      <td>2018-10-08</td>\n",
       "      <td>1000</td>\n",
       "    </tr>\n",
       "    <tr>\n",
       "      <th>2</th>\n",
       "      <td>1000_2</td>\n",
       "      <td>2018-08-04</td>\n",
       "      <td>1000</td>\n",
       "    </tr>\n",
       "    <tr>\n",
       "      <th>3</th>\n",
       "      <td>1000_3</td>\n",
       "      <td>2018-06-16</td>\n",
       "      <td>1000</td>\n",
       "    </tr>\n",
       "    <tr>\n",
       "      <th>4</th>\n",
       "      <td>1000_4</td>\n",
       "      <td>2018-12-05</td>\n",
       "      <td>1000</td>\n",
       "    </tr>\n",
       "  </tbody>\n",
       "</table>\n",
       "</div>"
      ],
      "text/plain": [
       "       id message_date  user_id\n",
       "0  1000_0   2018-06-27     1000\n",
       "1  1000_1   2018-10-08     1000\n",
       "2  1000_2   2018-08-04     1000\n",
       "3  1000_3   2018-06-16     1000\n",
       "4  1000_4   2018-12-05     1000"
      ]
     },
     "metadata": {},
     "output_type": "display_data"
    },
    {
     "name": "stdout",
     "output_type": "stream",
     "text": [
      "count                  123036\n",
      "unique                    364\n",
      "top       2018-12-31 00:00:00\n",
      "freq                      859\n",
      "first     2018-01-02 00:00:00\n",
      "last      2018-12-31 00:00:00\n",
      "Name: message_date, dtype: object\n"
     ]
    }
   ],
   "source": [
    "# посмотрим описание таблицы\n",
    "display(messages['message_date'].sample(5))\n",
    "display(messages.head())\n",
    "print(messages['message_date'].describe())"
   ]
  },
  {
   "cell_type": "markdown",
   "metadata": {},
   "source": [
    "Можно увидеть, что отсутствуют данные за 1 января 2018 года. Вполне возможно, что в этот день была сильная нагрузка в связи с празднованием Нового года и произошёл сбой в сборе данных."
   ]
  },
  {
   "cell_type": "markdown",
   "metadata": {},
   "source": [
    "#### Столбец `user_id` — идентификатор пользователя, отправившего сообщение "
   ]
  },
  {
   "cell_type": "code",
   "execution_count": 36,
   "metadata": {},
   "outputs": [
    {
     "name": "stdout",
     "output_type": "stream",
     "text": [
      "1277    1463\n",
      "1089    1408\n",
      "1231    1384\n",
      "1385    1380\n",
      "1356    1224\n",
      "        ... \n",
      "1389       6\n",
      "1279       5\n",
      "1074       3\n",
      "1159       2\n",
      "1141       1\n",
      "Name: user_id, Length: 426, dtype: int64\n",
      "\n",
      "count    123036.000000\n",
      "mean       1256.989410\n",
      "std         143.523967\n",
      "min        1000.000000\n",
      "25%        1134.000000\n",
      "50%        1271.000000\n",
      "75%        1381.000000\n",
      "max        1499.000000\n",
      "Name: user_id, dtype: float64\n",
      "\n",
      "Количество уникальных значений: 426\n"
     ]
    }
   ],
   "source": [
    "# проверим уникальность значений с помощью написанной функции id_unique()\n",
    "id_unique(messages['user_id'])"
   ]
  },
  {
   "cell_type": "markdown",
   "metadata": {},
   "source": [
    "Каких либо аномалий в значениях не наблюдается. Большое количество отправленных сообщений может означать, что с этого номера отправляют массовую рассылку смс-сообщений. 74 абонента за год не отправили ни одного сообщения. Можно предположить, что в связи с распространением мессенджеров, всё больше и больше людей не используют отправку смс-сообщений."
   ]
  },
  {
   "cell_type": "code",
   "execution_count": 37,
   "metadata": {},
   "outputs": [
    {
     "name": "stdout",
     "output_type": "stream",
     "text": [
      "<class 'pandas.core.frame.DataFrame'>\n",
      "RangeIndex: 123036 entries, 0 to 123035\n",
      "Data columns (total 3 columns):\n",
      " #   Column        Non-Null Count   Dtype         \n",
      "---  ------        --------------   -----         \n",
      " 0   id            123036 non-null  object        \n",
      " 1   message_date  123036 non-null  datetime64[ns]\n",
      " 2   user_id       123036 non-null  int64         \n",
      "dtypes: datetime64[ns](1), int64(1), object(1)\n",
      "memory usage: 2.8+ MB\n"
     ]
    }
   ],
   "source": [
    "# проверим всю таблицу\n",
    "messages.info()"
   ]
  },
  {
   "cell_type": "markdown",
   "metadata": {},
   "source": [
    "**Вывод:** \n",
    "\n",
    "Таблица готова к работе. Дубликаты отсутствуют, поменяли тип данных в столбце `message_date`. 74 уникальных абонентов не пользовались за год смс-сообщениями."
   ]
  },
  {
   "cell_type": "markdown",
   "metadata": {},
   "source": [
    "### Таблица `internet`"
   ]
  },
  {
   "cell_type": "code",
   "execution_count": 38,
   "metadata": {},
   "outputs": [
    {
     "name": "stdout",
     "output_type": "stream",
     "text": [
      "<class 'pandas.core.frame.DataFrame'>\n",
      "RangeIndex: 149396 entries, 0 to 149395\n",
      "Data columns (total 5 columns):\n",
      " #   Column        Non-Null Count   Dtype  \n",
      "---  ------        --------------   -----  \n",
      " 0   Unnamed: 0    149396 non-null  int64  \n",
      " 1   id            149396 non-null  object \n",
      " 2   mb_used       149396 non-null  float64\n",
      " 3   session_date  149396 non-null  object \n",
      " 4   user_id       149396 non-null  int64  \n",
      "dtypes: float64(1), int64(2), object(2)\n",
      "memory usage: 5.7+ MB\n",
      "None\n"
     ]
    },
    {
     "data": {
      "text/html": [
       "<div>\n",
       "<style scoped>\n",
       "    .dataframe tbody tr th:only-of-type {\n",
       "        vertical-align: middle;\n",
       "    }\n",
       "\n",
       "    .dataframe tbody tr th {\n",
       "        vertical-align: top;\n",
       "    }\n",
       "\n",
       "    .dataframe thead th {\n",
       "        text-align: right;\n",
       "    }\n",
       "</style>\n",
       "<table border=\"1\" class=\"dataframe\">\n",
       "  <thead>\n",
       "    <tr style=\"text-align: right;\">\n",
       "      <th></th>\n",
       "      <th>Unnamed: 0</th>\n",
       "      <th>id</th>\n",
       "      <th>mb_used</th>\n",
       "      <th>session_date</th>\n",
       "      <th>user_id</th>\n",
       "    </tr>\n",
       "  </thead>\n",
       "  <tbody>\n",
       "    <tr>\n",
       "      <th>0</th>\n",
       "      <td>0</td>\n",
       "      <td>1000_0</td>\n",
       "      <td>112.95</td>\n",
       "      <td>2018-11-25</td>\n",
       "      <td>1000</td>\n",
       "    </tr>\n",
       "    <tr>\n",
       "      <th>1</th>\n",
       "      <td>1</td>\n",
       "      <td>1000_1</td>\n",
       "      <td>1052.81</td>\n",
       "      <td>2018-09-07</td>\n",
       "      <td>1000</td>\n",
       "    </tr>\n",
       "    <tr>\n",
       "      <th>2</th>\n",
       "      <td>2</td>\n",
       "      <td>1000_2</td>\n",
       "      <td>1197.26</td>\n",
       "      <td>2018-06-25</td>\n",
       "      <td>1000</td>\n",
       "    </tr>\n",
       "    <tr>\n",
       "      <th>3</th>\n",
       "      <td>3</td>\n",
       "      <td>1000_3</td>\n",
       "      <td>550.27</td>\n",
       "      <td>2018-08-22</td>\n",
       "      <td>1000</td>\n",
       "    </tr>\n",
       "    <tr>\n",
       "      <th>4</th>\n",
       "      <td>4</td>\n",
       "      <td>1000_4</td>\n",
       "      <td>302.56</td>\n",
       "      <td>2018-09-24</td>\n",
       "      <td>1000</td>\n",
       "    </tr>\n",
       "  </tbody>\n",
       "</table>\n",
       "</div>"
      ],
      "text/plain": [
       "   Unnamed: 0      id  mb_used session_date  user_id\n",
       "0           0  1000_0   112.95   2018-11-25     1000\n",
       "1           1  1000_1  1052.81   2018-09-07     1000\n",
       "2           2  1000_2  1197.26   2018-06-25     1000\n",
       "3           3  1000_3   550.27   2018-08-22     1000\n",
       "4           4  1000_4   302.56   2018-09-24     1000"
      ]
     },
     "metadata": {},
     "output_type": "display_data"
    }
   ],
   "source": [
    "# изучим таблицу подробнее с помощью раннее созданной функции\n",
    "dataset_info(internet)"
   ]
  },
  {
   "cell_type": "markdown",
   "metadata": {},
   "source": [
    "Согласно исходным данным в таблице должно быть 4 столбца. Присутствует лишний столбец *`Unnamed: 0`*, данные в котором повторяют индексы. "
   ]
  },
  {
   "cell_type": "code",
   "execution_count": 39,
   "metadata": {
    "scrolled": true
   },
   "outputs": [
    {
     "data": {
      "text/html": [
       "<div>\n",
       "<style scoped>\n",
       "    .dataframe tbody tr th:only-of-type {\n",
       "        vertical-align: middle;\n",
       "    }\n",
       "\n",
       "    .dataframe tbody tr th {\n",
       "        vertical-align: top;\n",
       "    }\n",
       "\n",
       "    .dataframe thead th {\n",
       "        text-align: right;\n",
       "    }\n",
       "</style>\n",
       "<table border=\"1\" class=\"dataframe\">\n",
       "  <thead>\n",
       "    <tr style=\"text-align: right;\">\n",
       "      <th></th>\n",
       "      <th>id</th>\n",
       "      <th>mb_used</th>\n",
       "      <th>session_date</th>\n",
       "      <th>user_id</th>\n",
       "    </tr>\n",
       "  </thead>\n",
       "  <tbody>\n",
       "    <tr>\n",
       "      <th>0</th>\n",
       "      <td>1000_0</td>\n",
       "      <td>112.95</td>\n",
       "      <td>2018-11-25</td>\n",
       "      <td>1000</td>\n",
       "    </tr>\n",
       "    <tr>\n",
       "      <th>1</th>\n",
       "      <td>1000_1</td>\n",
       "      <td>1052.81</td>\n",
       "      <td>2018-09-07</td>\n",
       "      <td>1000</td>\n",
       "    </tr>\n",
       "    <tr>\n",
       "      <th>2</th>\n",
       "      <td>1000_2</td>\n",
       "      <td>1197.26</td>\n",
       "      <td>2018-06-25</td>\n",
       "      <td>1000</td>\n",
       "    </tr>\n",
       "    <tr>\n",
       "      <th>3</th>\n",
       "      <td>1000_3</td>\n",
       "      <td>550.27</td>\n",
       "      <td>2018-08-22</td>\n",
       "      <td>1000</td>\n",
       "    </tr>\n",
       "    <tr>\n",
       "      <th>4</th>\n",
       "      <td>1000_4</td>\n",
       "      <td>302.56</td>\n",
       "      <td>2018-09-24</td>\n",
       "      <td>1000</td>\n",
       "    </tr>\n",
       "    <tr>\n",
       "      <th>...</th>\n",
       "      <td>...</td>\n",
       "      <td>...</td>\n",
       "      <td>...</td>\n",
       "      <td>...</td>\n",
       "    </tr>\n",
       "    <tr>\n",
       "      <th>149391</th>\n",
       "      <td>1499_152</td>\n",
       "      <td>318.90</td>\n",
       "      <td>2018-10-03</td>\n",
       "      <td>1499</td>\n",
       "    </tr>\n",
       "    <tr>\n",
       "      <th>149392</th>\n",
       "      <td>1499_153</td>\n",
       "      <td>490.13</td>\n",
       "      <td>2018-12-14</td>\n",
       "      <td>1499</td>\n",
       "    </tr>\n",
       "    <tr>\n",
       "      <th>149393</th>\n",
       "      <td>1499_154</td>\n",
       "      <td>0.00</td>\n",
       "      <td>2018-10-27</td>\n",
       "      <td>1499</td>\n",
       "    </tr>\n",
       "    <tr>\n",
       "      <th>149394</th>\n",
       "      <td>1499_155</td>\n",
       "      <td>1246.32</td>\n",
       "      <td>2018-11-26</td>\n",
       "      <td>1499</td>\n",
       "    </tr>\n",
       "    <tr>\n",
       "      <th>149395</th>\n",
       "      <td>1499_156</td>\n",
       "      <td>544.37</td>\n",
       "      <td>2018-10-26</td>\n",
       "      <td>1499</td>\n",
       "    </tr>\n",
       "  </tbody>\n",
       "</table>\n",
       "<p>149396 rows × 4 columns</p>\n",
       "</div>"
      ],
      "text/plain": [
       "              id  mb_used session_date  user_id\n",
       "0         1000_0   112.95   2018-11-25     1000\n",
       "1         1000_1  1052.81   2018-09-07     1000\n",
       "2         1000_2  1197.26   2018-06-25     1000\n",
       "3         1000_3   550.27   2018-08-22     1000\n",
       "4         1000_4   302.56   2018-09-24     1000\n",
       "...          ...      ...          ...      ...\n",
       "149391  1499_152   318.90   2018-10-03     1499\n",
       "149392  1499_153   490.13   2018-12-14     1499\n",
       "149393  1499_154     0.00   2018-10-27     1499\n",
       "149394  1499_155  1246.32   2018-11-26     1499\n",
       "149395  1499_156   544.37   2018-10-26     1499\n",
       "\n",
       "[149396 rows x 4 columns]"
      ]
     },
     "metadata": {},
     "output_type": "display_data"
    }
   ],
   "source": [
    "# удалим лишний столбец\n",
    "internet.drop('Unnamed: 0', axis=1, inplace=True)\n",
    "display(internet)"
   ]
  },
  {
   "cell_type": "code",
   "execution_count": 40,
   "metadata": {},
   "outputs": [
    {
     "data": {
      "text/html": [
       "<div>\n",
       "<style scoped>\n",
       "    .dataframe tbody tr th:only-of-type {\n",
       "        vertical-align: middle;\n",
       "    }\n",
       "\n",
       "    .dataframe tbody tr th {\n",
       "        vertical-align: top;\n",
       "    }\n",
       "\n",
       "    .dataframe thead th {\n",
       "        text-align: right;\n",
       "    }\n",
       "</style>\n",
       "<table border=\"1\" class=\"dataframe\">\n",
       "  <thead>\n",
       "    <tr style=\"text-align: right;\">\n",
       "      <th></th>\n",
       "      <th>mb_used</th>\n",
       "      <th>user_id</th>\n",
       "    </tr>\n",
       "  </thead>\n",
       "  <tbody>\n",
       "    <tr>\n",
       "      <th>count</th>\n",
       "      <td>149396.000000</td>\n",
       "      <td>149396.000000</td>\n",
       "    </tr>\n",
       "    <tr>\n",
       "      <th>mean</th>\n",
       "      <td>370.192426</td>\n",
       "      <td>1252.099842</td>\n",
       "    </tr>\n",
       "    <tr>\n",
       "      <th>std</th>\n",
       "      <td>278.300951</td>\n",
       "      <td>144.050823</td>\n",
       "    </tr>\n",
       "    <tr>\n",
       "      <th>min</th>\n",
       "      <td>0.000000</td>\n",
       "      <td>1000.000000</td>\n",
       "    </tr>\n",
       "    <tr>\n",
       "      <th>25%</th>\n",
       "      <td>138.187500</td>\n",
       "      <td>1130.000000</td>\n",
       "    </tr>\n",
       "    <tr>\n",
       "      <th>50%</th>\n",
       "      <td>348.015000</td>\n",
       "      <td>1251.000000</td>\n",
       "    </tr>\n",
       "    <tr>\n",
       "      <th>75%</th>\n",
       "      <td>559.552500</td>\n",
       "      <td>1380.000000</td>\n",
       "    </tr>\n",
       "    <tr>\n",
       "      <th>max</th>\n",
       "      <td>1724.830000</td>\n",
       "      <td>1499.000000</td>\n",
       "    </tr>\n",
       "  </tbody>\n",
       "</table>\n",
       "</div>"
      ],
      "text/plain": [
       "             mb_used        user_id\n",
       "count  149396.000000  149396.000000\n",
       "mean      370.192426    1252.099842\n",
       "std       278.300951     144.050823\n",
       "min         0.000000    1000.000000\n",
       "25%       138.187500    1130.000000\n",
       "50%       348.015000    1251.000000\n",
       "75%       559.552500    1380.000000\n",
       "max      1724.830000    1499.000000"
      ]
     },
     "execution_count": 40,
     "metadata": {},
     "output_type": "execute_result"
    }
   ],
   "source": [
    "# посмотрим общие данные о таблице\n",
    "internet.describe()"
   ]
  },
  {
   "cell_type": "markdown",
   "metadata": {},
   "source": [
    "0 МБ могли получиться, когда соединение было установлено с интернетом, а потом сразу прервано, не успев получить или передать даже байт."
   ]
  },
  {
   "cell_type": "markdown",
   "metadata": {},
   "source": [
    "#### Столбец `id` — уникальный номер сообщения"
   ]
  },
  {
   "cell_type": "code",
   "execution_count": 41,
   "metadata": {},
   "outputs": [
    {
     "data": {
      "text/plain": [
       "1000_0      1\n",
       "1333_109    1\n",
       "1334_0      1\n",
       "1334_1      1\n",
       "1334_2      1\n",
       "           ..\n",
       "1172_80     1\n",
       "1172_81     1\n",
       "1172_82     1\n",
       "1172_83     1\n",
       "1499_156    1\n",
       "Name: id, Length: 149396, dtype: int64"
      ]
     },
     "execution_count": 41,
     "metadata": {},
     "output_type": "execute_result"
    }
   ],
   "source": [
    "# проверим уникальность значений\n",
    "internet['id'].value_counts()"
   ]
  },
  {
   "cell_type": "markdown",
   "metadata": {},
   "source": [
    "Все идентификаторы уникальны и в одном экземпляре - столбец корректен."
   ]
  },
  {
   "cell_type": "markdown",
   "metadata": {},
   "source": [
    "#### Столбец `mb_used` — объём потраченного за сессию интернет-трафика (в мегабайтах) "
   ]
  },
  {
   "cell_type": "markdown",
   "metadata": {},
   "source": [
    "«Мегалайн» всегда округляет мегабайты до гигабайт. Для веб-трафика отдельные сессии не считаются. Вместо этого общая сумма за месяц округляется в бо́льшую сторону. Если абонент использует 1025 мегабайт в этом месяце, с него возьмут плату за 2 гигабайта."
   ]
  },
  {
   "cell_type": "code",
   "execution_count": 42,
   "metadata": {},
   "outputs": [
    {
     "data": {
      "text/plain": [
       "0          113\n",
       "1         1053\n",
       "2         1198\n",
       "3          551\n",
       "4          303\n",
       "          ... \n",
       "149391     319\n",
       "149392     491\n",
       "149393       0\n",
       "149394    1247\n",
       "149395     545\n",
       "Name: mb_used, Length: 149396, dtype: int32"
      ]
     },
     "metadata": {},
     "output_type": "display_data"
    }
   ],
   "source": [
    "# округлим значения в бо́льшую сторону\n",
    "internet['mb_used'] = internet['mb_used'].apply(np.ceil).astype(int)\n",
    "display(internet['mb_used'])"
   ]
  },
  {
   "cell_type": "markdown",
   "metadata": {},
   "source": [
    "Объём потраченного за сессию интернет-трафика округлён в бо́льшую сторону и соответствует условиям «Мегалайн»."
   ]
  },
  {
   "cell_type": "markdown",
   "metadata": {},
   "source": [
    "#### Столбец `session_date` — дата интернет-сессии "
   ]
  },
  {
   "cell_type": "code",
   "execution_count": 43,
   "metadata": {},
   "outputs": [
    {
     "data": {
      "text/plain": [
       "0         2018-11-25\n",
       "1         2018-09-07\n",
       "2         2018-06-25\n",
       "3         2018-08-22\n",
       "4         2018-09-24\n",
       "             ...    \n",
       "149391    2018-10-03\n",
       "149392    2018-12-14\n",
       "149393    2018-10-27\n",
       "149394    2018-11-26\n",
       "149395    2018-10-26\n",
       "Name: session_date, Length: 149396, dtype: object"
      ]
     },
     "execution_count": 43,
     "metadata": {},
     "output_type": "execute_result"
    }
   ],
   "source": [
    "# посмотрим данные в столбце\n",
    "internet['session_date']"
   ]
  },
  {
   "cell_type": "code",
   "execution_count": 44,
   "metadata": {
    "scrolled": true
   },
   "outputs": [
    {
     "data": {
      "text/plain": [
       "12249     2018-08-05\n",
       "116718    2018-02-21\n",
       "100141    2018-10-03\n",
       "89860     2018-11-24\n",
       "39892     2018-12-03\n",
       "Name: session_date, dtype: object"
      ]
     },
     "metadata": {},
     "output_type": "display_data"
    },
    {
     "name": "stdout",
     "output_type": "stream",
     "text": [
      "count         149396\n",
      "unique           365\n",
      "top       2018-12-31\n",
      "freq            1057\n",
      "Name: session_date, dtype: object\n"
     ]
    }
   ],
   "source": [
    "# посмотрим описание таблицы, возьмём пять случайных значений\n",
    "display(internet['session_date'].sample(5))\n",
    "print(internet['session_date'].describe())"
   ]
  },
  {
   "cell_type": "code",
   "execution_count": 45,
   "metadata": {},
   "outputs": [],
   "source": [
    "# поменяем тип данных на datetime64\n",
    "internet['session_date'] = pd.to_datetime(internet['session_date'], format='%Y-%m-%d')"
   ]
  },
  {
   "cell_type": "code",
   "execution_count": 46,
   "metadata": {},
   "outputs": [
    {
     "data": {
      "text/plain": [
       "31300    2018-08-07\n",
       "44555    2018-06-24\n",
       "136121   2018-11-26\n",
       "97651    2018-10-18\n",
       "136890   2018-11-04\n",
       "Name: session_date, dtype: datetime64[ns]"
      ]
     },
     "metadata": {},
     "output_type": "display_data"
    },
    {
     "data": {
      "text/html": [
       "<div>\n",
       "<style scoped>\n",
       "    .dataframe tbody tr th:only-of-type {\n",
       "        vertical-align: middle;\n",
       "    }\n",
       "\n",
       "    .dataframe tbody tr th {\n",
       "        vertical-align: top;\n",
       "    }\n",
       "\n",
       "    .dataframe thead th {\n",
       "        text-align: right;\n",
       "    }\n",
       "</style>\n",
       "<table border=\"1\" class=\"dataframe\">\n",
       "  <thead>\n",
       "    <tr style=\"text-align: right;\">\n",
       "      <th></th>\n",
       "      <th>id</th>\n",
       "      <th>mb_used</th>\n",
       "      <th>session_date</th>\n",
       "      <th>user_id</th>\n",
       "    </tr>\n",
       "  </thead>\n",
       "  <tbody>\n",
       "    <tr>\n",
       "      <th>0</th>\n",
       "      <td>1000_0</td>\n",
       "      <td>113</td>\n",
       "      <td>2018-11-25</td>\n",
       "      <td>1000</td>\n",
       "    </tr>\n",
       "    <tr>\n",
       "      <th>1</th>\n",
       "      <td>1000_1</td>\n",
       "      <td>1053</td>\n",
       "      <td>2018-09-07</td>\n",
       "      <td>1000</td>\n",
       "    </tr>\n",
       "    <tr>\n",
       "      <th>2</th>\n",
       "      <td>1000_2</td>\n",
       "      <td>1198</td>\n",
       "      <td>2018-06-25</td>\n",
       "      <td>1000</td>\n",
       "    </tr>\n",
       "    <tr>\n",
       "      <th>3</th>\n",
       "      <td>1000_3</td>\n",
       "      <td>551</td>\n",
       "      <td>2018-08-22</td>\n",
       "      <td>1000</td>\n",
       "    </tr>\n",
       "  </tbody>\n",
       "</table>\n",
       "</div>"
      ],
      "text/plain": [
       "       id  mb_used session_date  user_id\n",
       "0  1000_0      113   2018-11-25     1000\n",
       "1  1000_1     1053   2018-09-07     1000\n",
       "2  1000_2     1198   2018-06-25     1000\n",
       "3  1000_3      551   2018-08-22     1000"
      ]
     },
     "metadata": {},
     "output_type": "display_data"
    },
    {
     "name": "stdout",
     "output_type": "stream",
     "text": [
      "count                  149396\n",
      "unique                    365\n",
      "top       2018-12-31 00:00:00\n",
      "freq                     1057\n",
      "first     2018-01-01 00:00:00\n",
      "last      2018-12-31 00:00:00\n",
      "Name: session_date, dtype: object\n"
     ]
    }
   ],
   "source": [
    "# проверим изменения\n",
    "display(internet['session_date'].sample(5))\n",
    "display(internet.head(4))\n",
    "print(internet['session_date'].describe())"
   ]
  },
  {
   "cell_type": "markdown",
   "metadata": {},
   "source": [
    "В столбце присутствуют значения за все 365 дней. Никаких аномалий нет."
   ]
  },
  {
   "cell_type": "markdown",
   "metadata": {},
   "source": [
    "#### Столбец `user_id` — идентификатор пользователя "
   ]
  },
  {
   "cell_type": "code",
   "execution_count": 47,
   "metadata": {},
   "outputs": [
    {
     "name": "stdout",
     "output_type": "stream",
     "text": [
      "1496    834\n",
      "1227    812\n",
      "1204    789\n",
      "1240    764\n",
      "1251    759\n",
      "       ... \n",
      "1151     35\n",
      "1467     27\n",
      "1343     26\n",
      "1192     22\n",
      "1399      8\n",
      "Name: user_id, Length: 497, dtype: int64\n",
      "\n",
      "count    149396.000000\n",
      "mean       1252.099842\n",
      "std         144.050823\n",
      "min        1000.000000\n",
      "25%        1130.000000\n",
      "50%        1251.000000\n",
      "75%        1380.000000\n",
      "max        1499.000000\n",
      "Name: user_id, dtype: float64\n",
      "\n",
      "Количество уникальных значений: 497\n"
     ]
    }
   ],
   "source": [
    "# проверим данные\n",
    "id_unique(internet['user_id'])"
   ]
  },
  {
   "cell_type": "markdown",
   "metadata": {},
   "source": [
    "Из 500 абонентов всего 3 не пользовалиcь интернетом за год. Вполне возможно есть люди, которые далеки от всех этих новомодных вещей. Столбец корректен, дубликатов нет."
   ]
  },
  {
   "cell_type": "code",
   "execution_count": 48,
   "metadata": {},
   "outputs": [
    {
     "name": "stdout",
     "output_type": "stream",
     "text": [
      "<class 'pandas.core.frame.DataFrame'>\n",
      "RangeIndex: 149396 entries, 0 to 149395\n",
      "Data columns (total 4 columns):\n",
      " #   Column        Non-Null Count   Dtype         \n",
      "---  ------        --------------   -----         \n",
      " 0   id            149396 non-null  object        \n",
      " 1   mb_used       149396 non-null  int32         \n",
      " 2   session_date  149396 non-null  datetime64[ns]\n",
      " 3   user_id       149396 non-null  int64         \n",
      "dtypes: datetime64[ns](1), int32(1), int64(1), object(1)\n",
      "memory usage: 4.0+ MB\n"
     ]
    }
   ],
   "source": [
    "# проверим всю таблицу\n",
    "internet.info()"
   ]
  },
  {
   "cell_type": "markdown",
   "metadata": {},
   "source": [
    "**Вывод:**\n",
    "\n",
    "Таблица готова к работе. Дубликаты отсутствуют, поменяли тип данных в столбце *`session_date`*. 3 уникальных абонента не пользовались за год интернетом. Столбец *`mb_used`* округлён в бо́льшую сторону, согласно условиям «Мегалайн»."
   ]
  },
  {
   "cell_type": "markdown",
   "metadata": {},
   "source": [
    "### Таблица `tariffs`"
   ]
  },
  {
   "cell_type": "code",
   "execution_count": 49,
   "metadata": {},
   "outputs": [
    {
     "name": "stdout",
     "output_type": "stream",
     "text": [
      "<class 'pandas.core.frame.DataFrame'>\n",
      "RangeIndex: 2 entries, 0 to 1\n",
      "Data columns (total 8 columns):\n",
      " #   Column                 Non-Null Count  Dtype \n",
      "---  ------                 --------------  ----- \n",
      " 0   messages_included      2 non-null      int64 \n",
      " 1   mb_per_month_included  2 non-null      int64 \n",
      " 2   minutes_included       2 non-null      int64 \n",
      " 3   rub_monthly_fee        2 non-null      int64 \n",
      " 4   rub_per_gb             2 non-null      int64 \n",
      " 5   rub_per_message        2 non-null      int64 \n",
      " 6   rub_per_minute         2 non-null      int64 \n",
      " 7   tariff_name            2 non-null      object\n",
      "dtypes: int64(7), object(1)\n",
      "memory usage: 256.0+ bytes\n",
      "None\n"
     ]
    },
    {
     "data": {
      "text/html": [
       "<div>\n",
       "<style scoped>\n",
       "    .dataframe tbody tr th:only-of-type {\n",
       "        vertical-align: middle;\n",
       "    }\n",
       "\n",
       "    .dataframe tbody tr th {\n",
       "        vertical-align: top;\n",
       "    }\n",
       "\n",
       "    .dataframe thead th {\n",
       "        text-align: right;\n",
       "    }\n",
       "</style>\n",
       "<table border=\"1\" class=\"dataframe\">\n",
       "  <thead>\n",
       "    <tr style=\"text-align: right;\">\n",
       "      <th></th>\n",
       "      <th>messages_included</th>\n",
       "      <th>mb_per_month_included</th>\n",
       "      <th>minutes_included</th>\n",
       "      <th>rub_monthly_fee</th>\n",
       "      <th>rub_per_gb</th>\n",
       "      <th>rub_per_message</th>\n",
       "      <th>rub_per_minute</th>\n",
       "      <th>tariff_name</th>\n",
       "    </tr>\n",
       "  </thead>\n",
       "  <tbody>\n",
       "    <tr>\n",
       "      <th>0</th>\n",
       "      <td>50</td>\n",
       "      <td>15360</td>\n",
       "      <td>500</td>\n",
       "      <td>550</td>\n",
       "      <td>200</td>\n",
       "      <td>3</td>\n",
       "      <td>3</td>\n",
       "      <td>smart</td>\n",
       "    </tr>\n",
       "    <tr>\n",
       "      <th>1</th>\n",
       "      <td>1000</td>\n",
       "      <td>30720</td>\n",
       "      <td>3000</td>\n",
       "      <td>1950</td>\n",
       "      <td>150</td>\n",
       "      <td>1</td>\n",
       "      <td>1</td>\n",
       "      <td>ultra</td>\n",
       "    </tr>\n",
       "  </tbody>\n",
       "</table>\n",
       "</div>"
      ],
      "text/plain": [
       "   messages_included  mb_per_month_included  minutes_included  \\\n",
       "0                 50                  15360               500   \n",
       "1               1000                  30720              3000   \n",
       "\n",
       "   rub_monthly_fee  rub_per_gb  rub_per_message  rub_per_minute tariff_name  \n",
       "0              550         200                3               3       smart  \n",
       "1             1950         150                1               1       ultra  "
      ]
     },
     "metadata": {},
     "output_type": "display_data"
    }
   ],
   "source": [
    "# изучим ещё раз таблицу с помощью раннее созданной функции\n",
    "dataset_info(tariffs)"
   ]
  },
  {
   "cell_type": "markdown",
   "metadata": {},
   "source": [
    "**Вывод:**\n",
    "\n",
    "Таблица с тарифами корректна, никакий аномалий нет. Условия тарифа соответствуют предоставленным данным."
   ]
  },
  {
   "cell_type": "markdown",
   "metadata": {},
   "source": [
    "### **Вывод:**"
   ]
  },
  {
   "cell_type": "markdown",
   "metadata": {},
   "source": [
    "Проверены все таблицы на наличие дубликатов и очевидных аномалий в строках. Данные в целом хорошие, дубликаты не были замечены. В основном была проблема с типом данных для хранения времени и даты. Их тип был изменён на *datetime64*. \n",
    "\n",
    "Данные в датасете корректны и с ними можно начинать работать."
   ]
  },
  {
   "cell_type": "markdown",
   "metadata": {},
   "source": [
    "## Расчёт показателей для каждого пользователя"
   ]
  },
  {
   "cell_type": "markdown",
   "metadata": {},
   "source": [
    "Посчитаем для каждого пользователя:\n",
    "* количество сделанных звонков и израсходованных минут разговора по месяцам;\n",
    "* количество отправленных сообщений по месяцам;\n",
    "* объём израсходованного интернет-трафика по месяцам;\n",
    "* помесячную выручку с каждого пользователя (вычтем бесплатный лимит из суммарного количества звонков, сообщений и интернет-трафика; остаток умножим на значение из тарифного плана; прибавим абонентскую плату, соответствующую тарифному плану).\n",
    "\n",
    "Поместим данные расчёты в сводную таблицу **_user_month_**.\n",
    "\n",
    "Предварительно добавим в таблицы *`calls`*, *`messages`*, *`internet`* столбец с указанием месяца *`month`*. Затем создадим сводные таблицы *`calls_month, messages_month, internet_month`* для слияния в общую таблицу `user_month`, в которой будут отображаться данные по каждому пользователю по месяцам года."
   ]
  },
  {
   "cell_type": "markdown",
   "metadata": {},
   "source": [
    "### Таблицы `calls, messages, internet` по месяцам года"
   ]
  },
  {
   "cell_type": "code",
   "execution_count": 50,
   "metadata": {
    "scrolled": true
   },
   "outputs": [
    {
     "data": {
      "text/html": [
       "<div>\n",
       "<style scoped>\n",
       "    .dataframe tbody tr th:only-of-type {\n",
       "        vertical-align: middle;\n",
       "    }\n",
       "\n",
       "    .dataframe tbody tr th {\n",
       "        vertical-align: top;\n",
       "    }\n",
       "\n",
       "    .dataframe thead th {\n",
       "        text-align: right;\n",
       "    }\n",
       "</style>\n",
       "<table border=\"1\" class=\"dataframe\">\n",
       "  <thead>\n",
       "    <tr style=\"text-align: right;\">\n",
       "      <th></th>\n",
       "      <th>id</th>\n",
       "      <th>call_date</th>\n",
       "      <th>duration</th>\n",
       "      <th>user_id</th>\n",
       "      <th>month</th>\n",
       "    </tr>\n",
       "  </thead>\n",
       "  <tbody>\n",
       "    <tr>\n",
       "      <th>63079</th>\n",
       "      <td>1159_21</td>\n",
       "      <td>2018-12-30</td>\n",
       "      <td>21</td>\n",
       "      <td>1159</td>\n",
       "      <td>12</td>\n",
       "    </tr>\n",
       "    <tr>\n",
       "      <th>89206</th>\n",
       "      <td>1224_123</td>\n",
       "      <td>2018-12-16</td>\n",
       "      <td>5</td>\n",
       "      <td>1224</td>\n",
       "      <td>12</td>\n",
       "    </tr>\n",
       "    <tr>\n",
       "      <th>157024</th>\n",
       "      <td>1388_184</td>\n",
       "      <td>2018-09-10</td>\n",
       "      <td>1</td>\n",
       "      <td>1388</td>\n",
       "      <td>9</td>\n",
       "    </tr>\n",
       "    <tr>\n",
       "      <th>171879</th>\n",
       "      <td>1425_491</td>\n",
       "      <td>2018-09-14</td>\n",
       "      <td>15</td>\n",
       "      <td>1425</td>\n",
       "      <td>9</td>\n",
       "    </tr>\n",
       "    <tr>\n",
       "      <th>17182</th>\n",
       "      <td>1047_224</td>\n",
       "      <td>2018-11-15</td>\n",
       "      <td>11</td>\n",
       "      <td>1047</td>\n",
       "      <td>11</td>\n",
       "    </tr>\n",
       "  </tbody>\n",
       "</table>\n",
       "</div>"
      ],
      "text/plain": [
       "              id  call_date  duration  user_id  month\n",
       "63079    1159_21 2018-12-30        21     1159     12\n",
       "89206   1224_123 2018-12-16         5     1224     12\n",
       "157024  1388_184 2018-09-10         1     1388      9\n",
       "171879  1425_491 2018-09-14        15     1425      9\n",
       "17182   1047_224 2018-11-15        11     1047     11"
      ]
     },
     "metadata": {},
     "output_type": "display_data"
    },
    {
     "data": {
      "text/html": [
       "<div>\n",
       "<style scoped>\n",
       "    .dataframe tbody tr th:only-of-type {\n",
       "        vertical-align: middle;\n",
       "    }\n",
       "\n",
       "    .dataframe tbody tr th {\n",
       "        vertical-align: top;\n",
       "    }\n",
       "\n",
       "    .dataframe thead th {\n",
       "        text-align: right;\n",
       "    }\n",
       "</style>\n",
       "<table border=\"1\" class=\"dataframe\">\n",
       "  <thead>\n",
       "    <tr style=\"text-align: right;\">\n",
       "      <th></th>\n",
       "      <th>id</th>\n",
       "      <th>message_date</th>\n",
       "      <th>user_id</th>\n",
       "      <th>month</th>\n",
       "    </tr>\n",
       "  </thead>\n",
       "  <tbody>\n",
       "    <tr>\n",
       "      <th>85036</th>\n",
       "      <td>1356_53</td>\n",
       "      <td>2018-08-19</td>\n",
       "      <td>1356</td>\n",
       "      <td>8</td>\n",
       "    </tr>\n",
       "    <tr>\n",
       "      <th>60259</th>\n",
       "      <td>1265_155</td>\n",
       "      <td>2018-09-03</td>\n",
       "      <td>1265</td>\n",
       "      <td>9</td>\n",
       "    </tr>\n",
       "    <tr>\n",
       "      <th>119905</th>\n",
       "      <td>1484_426</td>\n",
       "      <td>2018-08-04</td>\n",
       "      <td>1484</td>\n",
       "      <td>8</td>\n",
       "    </tr>\n",
       "    <tr>\n",
       "      <th>117795</th>\n",
       "      <td>1478_147</td>\n",
       "      <td>2018-09-22</td>\n",
       "      <td>1478</td>\n",
       "      <td>9</td>\n",
       "    </tr>\n",
       "    <tr>\n",
       "      <th>55208</th>\n",
       "      <td>1244_374</td>\n",
       "      <td>2018-08-18</td>\n",
       "      <td>1244</td>\n",
       "      <td>8</td>\n",
       "    </tr>\n",
       "  </tbody>\n",
       "</table>\n",
       "</div>"
      ],
      "text/plain": [
       "              id message_date  user_id  month\n",
       "85036    1356_53   2018-08-19     1356      8\n",
       "60259   1265_155   2018-09-03     1265      9\n",
       "119905  1484_426   2018-08-04     1484      8\n",
       "117795  1478_147   2018-09-22     1478      9\n",
       "55208   1244_374   2018-08-18     1244      8"
      ]
     },
     "metadata": {},
     "output_type": "display_data"
    },
    {
     "data": {
      "text/html": [
       "<div>\n",
       "<style scoped>\n",
       "    .dataframe tbody tr th:only-of-type {\n",
       "        vertical-align: middle;\n",
       "    }\n",
       "\n",
       "    .dataframe tbody tr th {\n",
       "        vertical-align: top;\n",
       "    }\n",
       "\n",
       "    .dataframe thead th {\n",
       "        text-align: right;\n",
       "    }\n",
       "</style>\n",
       "<table border=\"1\" class=\"dataframe\">\n",
       "  <thead>\n",
       "    <tr style=\"text-align: right;\">\n",
       "      <th></th>\n",
       "      <th>id</th>\n",
       "      <th>mb_used</th>\n",
       "      <th>session_date</th>\n",
       "      <th>user_id</th>\n",
       "      <th>month</th>\n",
       "    </tr>\n",
       "  </thead>\n",
       "  <tbody>\n",
       "    <tr>\n",
       "      <th>42317</th>\n",
       "      <td>1147_273</td>\n",
       "      <td>0</td>\n",
       "      <td>2018-10-04</td>\n",
       "      <td>1147</td>\n",
       "      <td>10</td>\n",
       "    </tr>\n",
       "    <tr>\n",
       "      <th>14235</th>\n",
       "      <td>1050_62</td>\n",
       "      <td>534</td>\n",
       "      <td>2018-08-12</td>\n",
       "      <td>1050</td>\n",
       "      <td>8</td>\n",
       "    </tr>\n",
       "    <tr>\n",
       "      <th>55778</th>\n",
       "      <td>1186_243</td>\n",
       "      <td>0</td>\n",
       "      <td>2018-05-11</td>\n",
       "      <td>1186</td>\n",
       "      <td>5</td>\n",
       "    </tr>\n",
       "    <tr>\n",
       "      <th>148103</th>\n",
       "      <td>1496_51</td>\n",
       "      <td>110</td>\n",
       "      <td>2018-12-18</td>\n",
       "      <td>1496</td>\n",
       "      <td>12</td>\n",
       "    </tr>\n",
       "    <tr>\n",
       "      <th>28823</th>\n",
       "      <td>1100_189</td>\n",
       "      <td>373</td>\n",
       "      <td>2018-09-13</td>\n",
       "      <td>1100</td>\n",
       "      <td>9</td>\n",
       "    </tr>\n",
       "  </tbody>\n",
       "</table>\n",
       "</div>"
      ],
      "text/plain": [
       "              id  mb_used session_date  user_id  month\n",
       "42317   1147_273        0   2018-10-04     1147     10\n",
       "14235    1050_62      534   2018-08-12     1050      8\n",
       "55778   1186_243        0   2018-05-11     1186      5\n",
       "148103   1496_51      110   2018-12-18     1496     12\n",
       "28823   1100_189      373   2018-09-13     1100      9"
      ]
     },
     "metadata": {},
     "output_type": "display_data"
    }
   ],
   "source": [
    "# добавим в таблицы новый столбец с указанием месяца `month`\n",
    "calls['month'] = pd.DatetimeIndex(calls['call_date']).month\n",
    "messages['month'] = pd.DatetimeIndex(messages['message_date']).month\n",
    "internet['month'] = pd.DatetimeIndex(internet['session_date']).month\n",
    "display(calls.sample(5), messages.sample(5), internet.sample(5))"
   ]
  },
  {
   "cell_type": "code",
   "execution_count": 51,
   "metadata": {},
   "outputs": [
    {
     "data": {
      "text/plain": [
       "0          0.0\n",
       "1          0.0\n",
       "2          3.0\n",
       "3         14.0\n",
       "4          6.0\n",
       "          ... \n",
       "202602     1.0\n",
       "202603    19.0\n",
       "202604    11.0\n",
       "202605     5.0\n",
       "202606    20.0\n",
       "Name: duration, Length: 202607, dtype: float64"
      ]
     },
     "execution_count": 51,
     "metadata": {},
     "output_type": "execute_result"
    }
   ],
   "source": [
    "np.ceil(calls['duration'])"
   ]
  },
  {
   "cell_type": "code",
   "execution_count": 52,
   "metadata": {
    "scrolled": true
   },
   "outputs": [
    {
     "name": "stdout",
     "output_type": "stream",
     "text": [
      "----------------------------------------\n",
      "\n"
     ]
    },
    {
     "data": {
      "text/html": [
       "<div>\n",
       "<style scoped>\n",
       "    .dataframe tbody tr th:only-of-type {\n",
       "        vertical-align: middle;\n",
       "    }\n",
       "\n",
       "    .dataframe tbody tr th {\n",
       "        vertical-align: top;\n",
       "    }\n",
       "\n",
       "    .dataframe thead th {\n",
       "        text-align: right;\n",
       "    }\n",
       "</style>\n",
       "<table border=\"1\" class=\"dataframe\">\n",
       "  <thead>\n",
       "    <tr style=\"text-align: right;\">\n",
       "      <th></th>\n",
       "      <th></th>\n",
       "      <th>duration</th>\n",
       "      <th>calls</th>\n",
       "    </tr>\n",
       "    <tr>\n",
       "      <th>user_id</th>\n",
       "      <th>month</th>\n",
       "      <th></th>\n",
       "      <th></th>\n",
       "    </tr>\n",
       "  </thead>\n",
       "  <tbody>\n",
       "    <tr>\n",
       "      <th rowspan=\"5\" valign=\"top\">1000</th>\n",
       "      <th>5</th>\n",
       "      <td>159</td>\n",
       "      <td>22</td>\n",
       "    </tr>\n",
       "    <tr>\n",
       "      <th>6</th>\n",
       "      <td>172</td>\n",
       "      <td>43</td>\n",
       "    </tr>\n",
       "    <tr>\n",
       "      <th>7</th>\n",
       "      <td>340</td>\n",
       "      <td>47</td>\n",
       "    </tr>\n",
       "    <tr>\n",
       "      <th>8</th>\n",
       "      <td>408</td>\n",
       "      <td>52</td>\n",
       "    </tr>\n",
       "    <tr>\n",
       "      <th>9</th>\n",
       "      <td>466</td>\n",
       "      <td>58</td>\n",
       "    </tr>\n",
       "  </tbody>\n",
       "</table>\n",
       "</div>"
      ],
      "text/plain": [
       "               duration  calls\n",
       "user_id month                 \n",
       "1000    5           159     22\n",
       "        6           172     43\n",
       "        7           340     47\n",
       "        8           408     52\n",
       "        9           466     58"
      ]
     },
     "metadata": {},
     "output_type": "display_data"
    },
    {
     "name": "stdout",
     "output_type": "stream",
     "text": [
      "\n",
      "----------------------------------------\n",
      "\n"
     ]
    },
    {
     "data": {
      "text/html": [
       "<div>\n",
       "<style scoped>\n",
       "    .dataframe tbody tr th:only-of-type {\n",
       "        vertical-align: middle;\n",
       "    }\n",
       "\n",
       "    .dataframe tbody tr th {\n",
       "        vertical-align: top;\n",
       "    }\n",
       "\n",
       "    .dataframe thead th {\n",
       "        text-align: right;\n",
       "    }\n",
       "</style>\n",
       "<table border=\"1\" class=\"dataframe\">\n",
       "  <thead>\n",
       "    <tr style=\"text-align: right;\">\n",
       "      <th></th>\n",
       "      <th></th>\n",
       "      <th>messages</th>\n",
       "    </tr>\n",
       "    <tr>\n",
       "      <th>user_id</th>\n",
       "      <th>month</th>\n",
       "      <th></th>\n",
       "    </tr>\n",
       "  </thead>\n",
       "  <tbody>\n",
       "    <tr>\n",
       "      <th rowspan=\"5\" valign=\"top\">1000</th>\n",
       "      <th>5</th>\n",
       "      <td>22</td>\n",
       "    </tr>\n",
       "    <tr>\n",
       "      <th>6</th>\n",
       "      <td>60</td>\n",
       "    </tr>\n",
       "    <tr>\n",
       "      <th>7</th>\n",
       "      <td>75</td>\n",
       "    </tr>\n",
       "    <tr>\n",
       "      <th>8</th>\n",
       "      <td>81</td>\n",
       "    </tr>\n",
       "    <tr>\n",
       "      <th>9</th>\n",
       "      <td>57</td>\n",
       "    </tr>\n",
       "  </tbody>\n",
       "</table>\n",
       "</div>"
      ],
      "text/plain": [
       "               messages\n",
       "user_id month          \n",
       "1000    5            22\n",
       "        6            60\n",
       "        7            75\n",
       "        8            81\n",
       "        9            57"
      ]
     },
     "metadata": {},
     "output_type": "display_data"
    },
    {
     "name": "stdout",
     "output_type": "stream",
     "text": [
      "\n",
      "----------------------------------------\n",
      "\n"
     ]
    },
    {
     "data": {
      "text/html": [
       "<div>\n",
       "<style scoped>\n",
       "    .dataframe tbody tr th:only-of-type {\n",
       "        vertical-align: middle;\n",
       "    }\n",
       "\n",
       "    .dataframe tbody tr th {\n",
       "        vertical-align: top;\n",
       "    }\n",
       "\n",
       "    .dataframe thead th {\n",
       "        text-align: right;\n",
       "    }\n",
       "</style>\n",
       "<table border=\"1\" class=\"dataframe\">\n",
       "  <thead>\n",
       "    <tr style=\"text-align: right;\">\n",
       "      <th></th>\n",
       "      <th></th>\n",
       "      <th>mb_used</th>\n",
       "    </tr>\n",
       "    <tr>\n",
       "      <th>user_id</th>\n",
       "      <th>month</th>\n",
       "      <th></th>\n",
       "    </tr>\n",
       "  </thead>\n",
       "  <tbody>\n",
       "    <tr>\n",
       "      <th rowspan=\"5\" valign=\"top\">1000</th>\n",
       "      <th>5</th>\n",
       "      <td>2256</td>\n",
       "    </tr>\n",
       "    <tr>\n",
       "      <th>6</th>\n",
       "      <td>23257</td>\n",
       "    </tr>\n",
       "    <tr>\n",
       "      <th>7</th>\n",
       "      <td>14016</td>\n",
       "    </tr>\n",
       "    <tr>\n",
       "      <th>8</th>\n",
       "      <td>14070</td>\n",
       "    </tr>\n",
       "    <tr>\n",
       "      <th>9</th>\n",
       "      <td>14581</td>\n",
       "    </tr>\n",
       "  </tbody>\n",
       "</table>\n",
       "</div>"
      ],
      "text/plain": [
       "               mb_used\n",
       "user_id month         \n",
       "1000    5         2256\n",
       "        6        23257\n",
       "        7        14016\n",
       "        8        14070\n",
       "        9        14581"
      ]
     },
     "metadata": {},
     "output_type": "display_data"
    },
    {
     "name": "stdout",
     "output_type": "stream",
     "text": [
      "\n"
     ]
    }
   ],
   "source": [
    "# для подсчёта при создании сводной таблицы сформируем уникальный код из имени пользователя и населённого пункта\n",
    "users['unique_name'] = users['city'] + users['first_name'] + users['last_name']\n",
    "\n",
    "# создадим сводную таблицу по звонкам\n",
    "calls_temp = calls.merge(users, on='user_id', how='inner')\n",
    "calls_month = calls_temp.pivot_table(values=['unique_name', 'duration'], \n",
    "                       index=['user_id', 'month'], \n",
    "                       aggfunc={'unique_name': 'count', 'duration': 'sum'})\n",
    "calls_month.columns = ['duration', 'calls']\n",
    "\n",
    "# создадим сводную таблицу по сообщениям\n",
    "messages['month'] = messages['message_date'].dt.month\n",
    "messages_temp = messages.merge(users, on='user_id', how='inner')\n",
    "messages_month = messages_temp.pivot_table(values='unique_name', \n",
    "                       index=['user_id', 'month'], \n",
    "                       aggfunc={'unique_name': 'count'})\n",
    "messages_month.columns = ['messages']\n",
    "\n",
    "# создадим сводную таблицу по интернет-трафику\n",
    "internet['month'] = internet['session_date'].dt.month\n",
    "internet_temp = internet.merge(users, on='user_id', how='inner')\n",
    "internet_month = internet_temp.pivot_table(values='mb_used', \n",
    "                       index=['user_id', 'month'], \n",
    "                       aggfunc={'mb_used': 'sum'})\n",
    "internet_month.columns = ['mb_used']\n",
    "\n",
    "# с помощью цикла выведем все созданные сводные таблицы   \n",
    "for dataset in [calls_month, messages_month, internet_month]:\n",
    "    print('----------------------------------------')\n",
    "    print()\n",
    "    display(dataset.head())\n",
    "    print()"
   ]
  },
  {
   "cell_type": "markdown",
   "metadata": {},
   "source": [
    "### Сводная таблица `user_month`"
   ]
  },
  {
   "cell_type": "code",
   "execution_count": 53,
   "metadata": {},
   "outputs": [
    {
     "data": {
      "text/html": [
       "<div>\n",
       "<style scoped>\n",
       "    .dataframe tbody tr th:only-of-type {\n",
       "        vertical-align: middle;\n",
       "    }\n",
       "\n",
       "    .dataframe tbody tr th {\n",
       "        vertical-align: top;\n",
       "    }\n",
       "\n",
       "    .dataframe thead th {\n",
       "        text-align: right;\n",
       "    }\n",
       "</style>\n",
       "<table border=\"1\" class=\"dataframe\">\n",
       "  <thead>\n",
       "    <tr style=\"text-align: right;\">\n",
       "      <th></th>\n",
       "      <th></th>\n",
       "      <th>duration</th>\n",
       "      <th>calls</th>\n",
       "      <th>messages</th>\n",
       "      <th>mb_used</th>\n",
       "    </tr>\n",
       "    <tr>\n",
       "      <th>user_id</th>\n",
       "      <th>month</th>\n",
       "      <th></th>\n",
       "      <th></th>\n",
       "      <th></th>\n",
       "      <th></th>\n",
       "    </tr>\n",
       "  </thead>\n",
       "  <tbody>\n",
       "    <tr>\n",
       "      <th rowspan=\"8\" valign=\"top\">1000</th>\n",
       "      <th>5</th>\n",
       "      <td>159.0</td>\n",
       "      <td>22.0</td>\n",
       "      <td>22.0</td>\n",
       "      <td>2256.0</td>\n",
       "    </tr>\n",
       "    <tr>\n",
       "      <th>6</th>\n",
       "      <td>172.0</td>\n",
       "      <td>43.0</td>\n",
       "      <td>60.0</td>\n",
       "      <td>23257.0</td>\n",
       "    </tr>\n",
       "    <tr>\n",
       "      <th>7</th>\n",
       "      <td>340.0</td>\n",
       "      <td>47.0</td>\n",
       "      <td>75.0</td>\n",
       "      <td>14016.0</td>\n",
       "    </tr>\n",
       "    <tr>\n",
       "      <th>8</th>\n",
       "      <td>408.0</td>\n",
       "      <td>52.0</td>\n",
       "      <td>81.0</td>\n",
       "      <td>14070.0</td>\n",
       "    </tr>\n",
       "    <tr>\n",
       "      <th>9</th>\n",
       "      <td>466.0</td>\n",
       "      <td>58.0</td>\n",
       "      <td>57.0</td>\n",
       "      <td>14581.0</td>\n",
       "    </tr>\n",
       "    <tr>\n",
       "      <th>10</th>\n",
       "      <td>350.0</td>\n",
       "      <td>57.0</td>\n",
       "      <td>73.0</td>\n",
       "      <td>14717.0</td>\n",
       "    </tr>\n",
       "    <tr>\n",
       "      <th>11</th>\n",
       "      <td>338.0</td>\n",
       "      <td>43.0</td>\n",
       "      <td>58.0</td>\n",
       "      <td>14768.0</td>\n",
       "    </tr>\n",
       "    <tr>\n",
       "      <th>12</th>\n",
       "      <td>333.0</td>\n",
       "      <td>46.0</td>\n",
       "      <td>70.0</td>\n",
       "      <td>9827.0</td>\n",
       "    </tr>\n",
       "    <tr>\n",
       "      <th rowspan=\"2\" valign=\"top\">1001</th>\n",
       "      <th>11</th>\n",
       "      <td>430.0</td>\n",
       "      <td>59.0</td>\n",
       "      <td>NaN</td>\n",
       "      <td>18452.0</td>\n",
       "    </tr>\n",
       "    <tr>\n",
       "      <th>12</th>\n",
       "      <td>414.0</td>\n",
       "      <td>63.0</td>\n",
       "      <td>NaN</td>\n",
       "      <td>14053.0</td>\n",
       "    </tr>\n",
       "  </tbody>\n",
       "</table>\n",
       "</div>"
      ],
      "text/plain": [
       "               duration  calls  messages  mb_used\n",
       "user_id month                                    \n",
       "1000    5         159.0   22.0      22.0   2256.0\n",
       "        6         172.0   43.0      60.0  23257.0\n",
       "        7         340.0   47.0      75.0  14016.0\n",
       "        8         408.0   52.0      81.0  14070.0\n",
       "        9         466.0   58.0      57.0  14581.0\n",
       "        10        350.0   57.0      73.0  14717.0\n",
       "        11        338.0   43.0      58.0  14768.0\n",
       "        12        333.0   46.0      70.0   9827.0\n",
       "1001    11        430.0   59.0       NaN  18452.0\n",
       "        12        414.0   63.0       NaN  14053.0"
      ]
     },
     "execution_count": 53,
     "metadata": {},
     "output_type": "execute_result"
    }
   ],
   "source": [
    "# объединим все три сводные таблицы в одну\n",
    "dataframes = [calls_month, messages_month, internet_month]\n",
    "user_month = reduce(lambda left,right: pd.merge(left,right,on=['user_id', 'month'], how='outer'), dataframes)\n",
    "user_month.head(10)"
   ]
  },
  {
   "cell_type": "markdown",
   "metadata": {},
   "source": [
    "Общая сводная таблица `user_month` создана, приступим к расчёту помесячной выручки с каждого пользователя."
   ]
  },
  {
   "cell_type": "code",
   "execution_count": 54,
   "metadata": {},
   "outputs": [
    {
     "data": {
      "text/plain": [
       "(3214, 4)"
      ]
     },
     "execution_count": 54,
     "metadata": {},
     "output_type": "execute_result"
    }
   ],
   "source": [
    "user_month.shape"
   ]
  },
  {
   "cell_type": "code",
   "execution_count": 55,
   "metadata": {},
   "outputs": [
    {
     "data": {
      "text/plain": [
       "498"
      ]
     },
     "execution_count": 55,
     "metadata": {},
     "output_type": "execute_result"
    }
   ],
   "source": [
    "user_month.reset_index().user_id.nunique()"
   ]
  },
  {
   "cell_type": "markdown",
   "metadata": {},
   "source": [
    "### Расчёт помесячной выручки с каждого пользователя `income`"
   ]
  },
  {
   "cell_type": "markdown",
   "metadata": {},
   "source": [
    "Теперь для каждого пользователя посчитаем помесячную выручку (вычтем бесплатный лимит из суммарного количества звонков, сообщений и интернет-трафика; остаток умножим на значение из тарифного плана; прибавим абонентскую плату, соответствующую тарифному плану)."
   ]
  },
  {
   "cell_type": "code",
   "execution_count": 56,
   "metadata": {},
   "outputs": [],
   "source": [
    "# пропущенные значения заменяем на нули\n",
    "user_month.loc[user_month['duration'].isna(), 'duration'] = 0\n",
    "user_month.loc[user_month['messages'].isna(), 'messages'] = 0\n",
    "user_month.loc[user_month['mb_used'].isna(), 'mb_used'] = 0\n",
    "user_month.loc[user_month['calls'].isna(), 'calls'] = 0"
   ]
  },
  {
   "cell_type": "code",
   "execution_count": 57,
   "metadata": {},
   "outputs": [
    {
     "name": "stdout",
     "output_type": "stream",
     "text": [
      "<class 'pandas.core.frame.DataFrame'>\n",
      "MultiIndex: 3214 entries, (1000, 5) to (1476, 4)\n",
      "Data columns (total 4 columns):\n",
      " #   Column    Non-Null Count  Dtype  \n",
      "---  ------    --------------  -----  \n",
      " 0   duration  3214 non-null   float64\n",
      " 1   calls     3214 non-null   float64\n",
      " 2   messages  3214 non-null   float64\n",
      " 3   mb_used   3214 non-null   float64\n",
      "dtypes: float64(4)\n",
      "memory usage: 130.4 KB\n"
     ]
    }
   ],
   "source": [
    "# проверим на наличие пропусков\n",
    "user_month.info()"
   ]
  },
  {
   "cell_type": "code",
   "execution_count": 58,
   "metadata": {},
   "outputs": [
    {
     "data": {
      "text/html": [
       "<div>\n",
       "<style scoped>\n",
       "    .dataframe tbody tr th:only-of-type {\n",
       "        vertical-align: middle;\n",
       "    }\n",
       "\n",
       "    .dataframe tbody tr th {\n",
       "        vertical-align: top;\n",
       "    }\n",
       "\n",
       "    .dataframe thead th {\n",
       "        text-align: right;\n",
       "    }\n",
       "</style>\n",
       "<table border=\"1\" class=\"dataframe\">\n",
       "  <thead>\n",
       "    <tr style=\"text-align: right;\">\n",
       "      <th></th>\n",
       "      <th></th>\n",
       "      <th>duration</th>\n",
       "      <th>calls</th>\n",
       "      <th>messages</th>\n",
       "      <th>mb_used</th>\n",
       "      <th>tariff</th>\n",
       "      <th>income</th>\n",
       "    </tr>\n",
       "    <tr>\n",
       "      <th>user_id</th>\n",
       "      <th>month</th>\n",
       "      <th></th>\n",
       "      <th></th>\n",
       "      <th></th>\n",
       "      <th></th>\n",
       "      <th></th>\n",
       "      <th></th>\n",
       "    </tr>\n",
       "  </thead>\n",
       "  <tbody>\n",
       "    <tr>\n",
       "      <th rowspan=\"8\" valign=\"top\">1000</th>\n",
       "      <th>5</th>\n",
       "      <td>159.0</td>\n",
       "      <td>22.0</td>\n",
       "      <td>22.0</td>\n",
       "      <td>2256.0</td>\n",
       "      <td>ultra</td>\n",
       "      <td>1950.000000</td>\n",
       "    </tr>\n",
       "    <tr>\n",
       "      <th>6</th>\n",
       "      <td>172.0</td>\n",
       "      <td>43.0</td>\n",
       "      <td>60.0</td>\n",
       "      <td>23257.0</td>\n",
       "      <td>ultra</td>\n",
       "      <td>1950.000000</td>\n",
       "    </tr>\n",
       "    <tr>\n",
       "      <th>7</th>\n",
       "      <td>340.0</td>\n",
       "      <td>47.0</td>\n",
       "      <td>75.0</td>\n",
       "      <td>14016.0</td>\n",
       "      <td>ultra</td>\n",
       "      <td>1950.000000</td>\n",
       "    </tr>\n",
       "    <tr>\n",
       "      <th>8</th>\n",
       "      <td>408.0</td>\n",
       "      <td>52.0</td>\n",
       "      <td>81.0</td>\n",
       "      <td>14070.0</td>\n",
       "      <td>ultra</td>\n",
       "      <td>1950.000000</td>\n",
       "    </tr>\n",
       "    <tr>\n",
       "      <th>9</th>\n",
       "      <td>466.0</td>\n",
       "      <td>58.0</td>\n",
       "      <td>57.0</td>\n",
       "      <td>14581.0</td>\n",
       "      <td>ultra</td>\n",
       "      <td>1950.000000</td>\n",
       "    </tr>\n",
       "    <tr>\n",
       "      <th>10</th>\n",
       "      <td>350.0</td>\n",
       "      <td>57.0</td>\n",
       "      <td>73.0</td>\n",
       "      <td>14717.0</td>\n",
       "      <td>ultra</td>\n",
       "      <td>1950.000000</td>\n",
       "    </tr>\n",
       "    <tr>\n",
       "      <th>11</th>\n",
       "      <td>338.0</td>\n",
       "      <td>43.0</td>\n",
       "      <td>58.0</td>\n",
       "      <td>14768.0</td>\n",
       "      <td>ultra</td>\n",
       "      <td>1950.000000</td>\n",
       "    </tr>\n",
       "    <tr>\n",
       "      <th>12</th>\n",
       "      <td>333.0</td>\n",
       "      <td>46.0</td>\n",
       "      <td>70.0</td>\n",
       "      <td>9827.0</td>\n",
       "      <td>ultra</td>\n",
       "      <td>1950.000000</td>\n",
       "    </tr>\n",
       "    <tr>\n",
       "      <th rowspan=\"2\" valign=\"top\">1001</th>\n",
       "      <th>11</th>\n",
       "      <td>430.0</td>\n",
       "      <td>59.0</td>\n",
       "      <td>0.0</td>\n",
       "      <td>18452.0</td>\n",
       "      <td>smart</td>\n",
       "      <td>1153.906250</td>\n",
       "    </tr>\n",
       "    <tr>\n",
       "      <th>12</th>\n",
       "      <td>414.0</td>\n",
       "      <td>63.0</td>\n",
       "      <td>0.0</td>\n",
       "      <td>14053.0</td>\n",
       "      <td>smart</td>\n",
       "      <td>550.000000</td>\n",
       "    </tr>\n",
       "    <tr>\n",
       "      <th rowspan=\"7\" valign=\"top\">1002</th>\n",
       "      <th>6</th>\n",
       "      <td>117.0</td>\n",
       "      <td>15.0</td>\n",
       "      <td>4.0</td>\n",
       "      <td>10871.0</td>\n",
       "      <td>smart</td>\n",
       "      <td>550.000000</td>\n",
       "    </tr>\n",
       "    <tr>\n",
       "      <th>7</th>\n",
       "      <td>214.0</td>\n",
       "      <td>26.0</td>\n",
       "      <td>11.0</td>\n",
       "      <td>17601.0</td>\n",
       "      <td>smart</td>\n",
       "      <td>987.695312</td>\n",
       "    </tr>\n",
       "    <tr>\n",
       "      <th>8</th>\n",
       "      <td>289.0</td>\n",
       "      <td>42.0</td>\n",
       "      <td>13.0</td>\n",
       "      <td>20347.0</td>\n",
       "      <td>smart</td>\n",
       "      <td>1524.023438</td>\n",
       "    </tr>\n",
       "    <tr>\n",
       "      <th>9</th>\n",
       "      <td>206.0</td>\n",
       "      <td>36.0</td>\n",
       "      <td>4.0</td>\n",
       "      <td>16712.0</td>\n",
       "      <td>smart</td>\n",
       "      <td>814.062500</td>\n",
       "    </tr>\n",
       "    <tr>\n",
       "      <th>10</th>\n",
       "      <td>212.0</td>\n",
       "      <td>33.0</td>\n",
       "      <td>10.0</td>\n",
       "      <td>13905.0</td>\n",
       "      <td>smart</td>\n",
       "      <td>550.000000</td>\n",
       "    </tr>\n",
       "    <tr>\n",
       "      <th>11</th>\n",
       "      <td>243.0</td>\n",
       "      <td>32.0</td>\n",
       "      <td>16.0</td>\n",
       "      <td>18610.0</td>\n",
       "      <td>smart</td>\n",
       "      <td>1184.765625</td>\n",
       "    </tr>\n",
       "    <tr>\n",
       "      <th>12</th>\n",
       "      <td>236.0</td>\n",
       "      <td>33.0</td>\n",
       "      <td>12.0</td>\n",
       "      <td>18137.0</td>\n",
       "      <td>smart</td>\n",
       "      <td>1092.382812</td>\n",
       "    </tr>\n",
       "    <tr>\n",
       "      <th rowspan=\"3\" valign=\"top\">1003</th>\n",
       "      <th>8</th>\n",
       "      <td>380.0</td>\n",
       "      <td>55.0</td>\n",
       "      <td>37.0</td>\n",
       "      <td>8571.0</td>\n",
       "      <td>ultra</td>\n",
       "      <td>1950.000000</td>\n",
       "    </tr>\n",
       "    <tr>\n",
       "      <th>9</th>\n",
       "      <td>961.0</td>\n",
       "      <td>134.0</td>\n",
       "      <td>91.0</td>\n",
       "      <td>12479.0</td>\n",
       "      <td>ultra</td>\n",
       "      <td>1950.000000</td>\n",
       "    </tr>\n",
       "    <tr>\n",
       "      <th>10</th>\n",
       "      <td>855.0</td>\n",
       "      <td>108.0</td>\n",
       "      <td>83.0</td>\n",
       "      <td>14779.0</td>\n",
       "      <td>ultra</td>\n",
       "      <td>1950.000000</td>\n",
       "    </tr>\n",
       "  </tbody>\n",
       "</table>\n",
       "</div>"
      ],
      "text/plain": [
       "               duration  calls  messages  mb_used tariff       income\n",
       "user_id month                                                        \n",
       "1000    5         159.0   22.0      22.0   2256.0  ultra  1950.000000\n",
       "        6         172.0   43.0      60.0  23257.0  ultra  1950.000000\n",
       "        7         340.0   47.0      75.0  14016.0  ultra  1950.000000\n",
       "        8         408.0   52.0      81.0  14070.0  ultra  1950.000000\n",
       "        9         466.0   58.0      57.0  14581.0  ultra  1950.000000\n",
       "        10        350.0   57.0      73.0  14717.0  ultra  1950.000000\n",
       "        11        338.0   43.0      58.0  14768.0  ultra  1950.000000\n",
       "        12        333.0   46.0      70.0   9827.0  ultra  1950.000000\n",
       "1001    11        430.0   59.0       0.0  18452.0  smart  1153.906250\n",
       "        12        414.0   63.0       0.0  14053.0  smart   550.000000\n",
       "1002    6         117.0   15.0       4.0  10871.0  smart   550.000000\n",
       "        7         214.0   26.0      11.0  17601.0  smart   987.695312\n",
       "        8         289.0   42.0      13.0  20347.0  smart  1524.023438\n",
       "        9         206.0   36.0       4.0  16712.0  smart   814.062500\n",
       "        10        212.0   33.0      10.0  13905.0  smart   550.000000\n",
       "        11        243.0   32.0      16.0  18610.0  smart  1184.765625\n",
       "        12        236.0   33.0      12.0  18137.0  smart  1092.382812\n",
       "1003    8         380.0   55.0      37.0   8571.0  ultra  1950.000000\n",
       "        9         961.0  134.0      91.0  12479.0  ultra  1950.000000\n",
       "        10        855.0  108.0      83.0  14779.0  ultra  1950.000000"
      ]
     },
     "execution_count": 58,
     "metadata": {},
     "output_type": "execute_result"
    }
   ],
   "source": [
    "# добавим наименование используемого тарифа для каждого пользователя\n",
    "for user in user_month.index:\n",
    "    user_month.loc[user, 'tariff'] = users.loc[user[0]-1000, 'tariff']\n",
    "\n",
    "# напишем функцию подсчёта выручки с каждого пользователя в месяц в зависимости от тарифа\n",
    "def user_income(row):\n",
    "    messages = row['messages']\n",
    "    mb_used = row['mb_used']\n",
    "    tariff = row['tariff']\n",
    "    duration = row['duration']\n",
    "    calls = row['calls']\n",
    "    \n",
    "    if tariff == 'smart':\n",
    "        extra_duration = duration - tariffs.loc[0, 'minutes_included']\n",
    "        extra_mb = mb_used - tariffs.loc[0, 'mb_per_month_included']\n",
    "        extra_messages = messages - tariffs.loc[0, 'messages_included']\n",
    "        \n",
    "        if extra_duration < 0: extra_duration = 0\n",
    "        if extra_mb < 0: extra_mb = 0\n",
    "        if extra_messages < 0: extra_messages = 0\n",
    "        \n",
    "        return (tariffs.loc[0, 'rub_per_message'] * extra_messages + \n",
    "                   (tariffs.loc[0, 'rub_per_gb'] / 1024) * extra_mb + \n",
    "                   tariffs.loc[0, 'rub_per_minute'] * extra_duration + \n",
    "                   tariffs.loc[0, 'rub_monthly_fee']\n",
    "                  ) \n",
    "    else:\n",
    "        extra_duration = duration - tariffs.loc[1, 'minutes_included']\n",
    "        extra_mb = mb_used - tariffs.loc[1, 'mb_per_month_included']\n",
    "        extra_messages = messages - tariffs.loc[1, 'messages_included']\n",
    "        \n",
    "        if extra_duration < 0: extra_duration = 0\n",
    "        if extra_mb < 0: extra_mb = 0\n",
    "        if extra_messages < 0: extra_messages = 0\n",
    "        \n",
    "        return (tariffs.loc[1, 'rub_per_message'] * extra_messages + \n",
    "                   (tariffs.loc[1, 'rub_per_gb'] / 1024) * extra_mb + \n",
    "                   tariffs.loc[1, 'rub_per_minute'] * extra_duration + \n",
    "                   tariffs.loc[1, 'rub_monthly_fee']\n",
    "                  )\n",
    "\n",
    "user_month['income'] = user_month.apply(user_income, axis=1)\n",
    "user_month.head(20)"
   ]
  },
  {
   "cell_type": "code",
   "execution_count": 59,
   "metadata": {},
   "outputs": [
    {
     "data": {
      "text/plain": [
       "count    3214.000000\n",
       "mean     1486.856871\n",
       "std       783.963070\n",
       "min       550.000000\n",
       "25%       694.000000\n",
       "50%      1563.175781\n",
       "75%      1950.000000\n",
       "max      6711.015625\n",
       "Name: income, dtype: float64"
      ]
     },
     "execution_count": 59,
     "metadata": {},
     "output_type": "execute_result"
    }
   ],
   "source": [
    "user_month['income'].describe()"
   ]
  },
  {
   "cell_type": "markdown",
   "metadata": {},
   "source": [
    "### **Вывод:** \n",
    "\n",
    "Для дальнейшего выполнения анализа предоставленных данных была создана новая сводная таблица `user_month`. В ней сгруппировали данные по каждому пользователю за каждый месяц использования по предоставляемым услугам. Расчитали и добавили следующие столбцы:\n",
    "* количество сделанных звонков и израсходованных минут разговора по месяцам года;\n",
    "* количество отправленных сообщений по месяцам года;\n",
    "* объём израсходованного интернет-трафика по месяцам года;\n",
    "* помесячную выручку с каждого пользователя."
   ]
  },
  {
   "cell_type": "markdown",
   "metadata": {},
   "source": [
    "## Анализ данных"
   ]
  },
  {
   "cell_type": "markdown",
   "metadata": {},
   "source": [
    "Опишем поведение клиентов оператора, исходя из выборки. Сколько минут разговора, сколько сообщений и какой объём интернет-трафика требуется пользователям каждого тарифа в месяц? Посчитаем среднее количество, дисперсию и стандартное отклонение. Построим гистограммы, опишим распределения."
   ]
  },
  {
   "cell_type": "markdown",
   "metadata": {},
   "source": [
    "### Расчёт медианного помесячного расхода минут разговора, сообщений и объёма интернет-трафика пользователя для каждого тарифа"
   ]
  },
  {
   "cell_type": "code",
   "execution_count": 60,
   "metadata": {},
   "outputs": [
    {
     "data": {
      "text/html": [
       "<div>\n",
       "<style scoped>\n",
       "    .dataframe tbody tr th:only-of-type {\n",
       "        vertical-align: middle;\n",
       "    }\n",
       "\n",
       "    .dataframe tbody tr th {\n",
       "        vertical-align: top;\n",
       "    }\n",
       "\n",
       "    .dataframe thead th {\n",
       "        text-align: right;\n",
       "    }\n",
       "</style>\n",
       "<table border=\"1\" class=\"dataframe\">\n",
       "  <thead>\n",
       "    <tr style=\"text-align: right;\">\n",
       "      <th></th>\n",
       "      <th>duration</th>\n",
       "      <th>income</th>\n",
       "      <th>mb_used</th>\n",
       "      <th>messages</th>\n",
       "      <th>tariff</th>\n",
       "    </tr>\n",
       "    <tr>\n",
       "      <th>user_id</th>\n",
       "      <th></th>\n",
       "      <th></th>\n",
       "      <th></th>\n",
       "      <th></th>\n",
       "      <th></th>\n",
       "    </tr>\n",
       "  </thead>\n",
       "  <tbody>\n",
       "    <tr>\n",
       "      <th>1000</th>\n",
       "      <td>339.0</td>\n",
       "      <td>1950.000000</td>\n",
       "      <td>14325.5</td>\n",
       "      <td>65.0</td>\n",
       "      <td>ultra</td>\n",
       "    </tr>\n",
       "    <tr>\n",
       "      <th>1001</th>\n",
       "      <td>422.0</td>\n",
       "      <td>851.953125</td>\n",
       "      <td>16252.5</td>\n",
       "      <td>0.0</td>\n",
       "      <td>smart</td>\n",
       "    </tr>\n",
       "    <tr>\n",
       "      <th>1002</th>\n",
       "      <td>214.0</td>\n",
       "      <td>987.695312</td>\n",
       "      <td>17601.0</td>\n",
       "      <td>11.0</td>\n",
       "      <td>smart</td>\n",
       "    </tr>\n",
       "    <tr>\n",
       "      <th>1003</th>\n",
       "      <td>824.0</td>\n",
       "      <td>1950.000000</td>\n",
       "      <td>11368.0</td>\n",
       "      <td>83.0</td>\n",
       "      <td>ultra</td>\n",
       "    </tr>\n",
       "    <tr>\n",
       "      <th>1004</th>\n",
       "      <td>132.5</td>\n",
       "      <td>1950.000000</td>\n",
       "      <td>17828.5</td>\n",
       "      <td>154.5</td>\n",
       "      <td>ultra</td>\n",
       "    </tr>\n",
       "  </tbody>\n",
       "</table>\n",
       "</div>"
      ],
      "text/plain": [
       "         duration       income  mb_used  messages tariff\n",
       "user_id                                                 \n",
       "1000        339.0  1950.000000  14325.5      65.0  ultra\n",
       "1001        422.0   851.953125  16252.5       0.0  smart\n",
       "1002        214.0   987.695312  17601.0      11.0  smart\n",
       "1003        824.0  1950.000000  11368.0      83.0  ultra\n",
       "1004        132.5  1950.000000  17828.5     154.5  ultra"
      ]
     },
     "execution_count": 60,
     "metadata": {},
     "output_type": "execute_result"
    }
   ],
   "source": [
    "# рассчитаем сколько каждому пользователю требуется минут, сообщений и мегабайт в месяц\n",
    "medians = user_month.pivot_table(index='user_id', values=['duration', 'messages', 'mb_used', 'income'], aggfunc='median')\n",
    "for user_id in users['user_id']:\n",
    "    medians.loc[user_id, 'tariff'] = users.loc[user_id-1000, 'tariff']\n",
    "medians.head()"
   ]
  },
  {
   "cell_type": "markdown",
   "metadata": {},
   "source": [
    "### Расчёт медианного значения, дисперсии и стандартного отклонения"
   ]
  },
  {
   "cell_type": "code",
   "execution_count": 61,
   "metadata": {},
   "outputs": [
    {
     "data": {
      "text/html": [
       "<div>\n",
       "<style scoped>\n",
       "    .dataframe tbody tr th:only-of-type {\n",
       "        vertical-align: middle;\n",
       "    }\n",
       "\n",
       "    .dataframe tbody tr th {\n",
       "        vertical-align: top;\n",
       "    }\n",
       "\n",
       "    .dataframe thead th {\n",
       "        text-align: right;\n",
       "    }\n",
       "</style>\n",
       "<table border=\"1\" class=\"dataframe\">\n",
       "  <thead>\n",
       "    <tr style=\"text-align: right;\">\n",
       "      <th></th>\n",
       "      <th>tariff</th>\n",
       "      <th>smart</th>\n",
       "      <th>ultra</th>\n",
       "    </tr>\n",
       "  </thead>\n",
       "  <tbody>\n",
       "    <tr>\n",
       "      <th rowspan=\"3\" valign=\"top\">duration</th>\n",
       "      <th>median</th>\n",
       "      <td>440.0</td>\n",
       "      <td>535.0</td>\n",
       "    </tr>\n",
       "    <tr>\n",
       "      <th>std</th>\n",
       "      <td>160.0</td>\n",
       "      <td>304.0</td>\n",
       "    </tr>\n",
       "    <tr>\n",
       "      <th>var</th>\n",
       "      <td>25685.0</td>\n",
       "      <td>92291.0</td>\n",
       "    </tr>\n",
       "    <tr>\n",
       "      <th rowspan=\"3\" valign=\"top\">mb_used</th>\n",
       "      <th>median</th>\n",
       "      <td>16948.0</td>\n",
       "      <td>19750.0</td>\n",
       "    </tr>\n",
       "    <tr>\n",
       "      <th>std</th>\n",
       "      <td>4180.0</td>\n",
       "      <td>8901.0</td>\n",
       "    </tr>\n",
       "    <tr>\n",
       "      <th>var</th>\n",
       "      <td>17468577.0</td>\n",
       "      <td>79230804.0</td>\n",
       "    </tr>\n",
       "    <tr>\n",
       "      <th rowspan=\"3\" valign=\"top\">messages</th>\n",
       "      <th>median</th>\n",
       "      <td>28.0</td>\n",
       "      <td>48.0</td>\n",
       "    </tr>\n",
       "    <tr>\n",
       "      <th>std</th>\n",
       "      <td>28.0</td>\n",
       "      <td>49.0</td>\n",
       "    </tr>\n",
       "    <tr>\n",
       "      <th>var</th>\n",
       "      <td>785.0</td>\n",
       "      <td>2424.0</td>\n",
       "    </tr>\n",
       "  </tbody>\n",
       "</table>\n",
       "</div>"
      ],
      "text/plain": [
       "tariff                smart       ultra\n",
       "duration median       440.0       535.0\n",
       "         std          160.0       304.0\n",
       "         var        25685.0     92291.0\n",
       "mb_used  median     16948.0     19750.0\n",
       "         std         4180.0      8901.0\n",
       "         var     17468577.0  79230804.0\n",
       "messages median        28.0        48.0\n",
       "         std           28.0        49.0\n",
       "         var          785.0      2424.0"
      ]
     },
     "execution_count": 61,
     "metadata": {},
     "output_type": "execute_result"
    }
   ],
   "source": [
    "# описательная статистика\n",
    "medians.dropna(subset=['duration'], inplace=True)\n",
    "describe_stat = medians.pivot_table(index=['tariff'], values=['duration', 'mb_used', 'messages'], \n",
    "                    aggfunc={'duration': [np.median, np.var, np.std], \n",
    "                             'mb_used': [np.median, np.var, np.std], \n",
    "                             'messages': [np.median, np.var, np.std]})\n",
    "describe_stat.T.round()"
   ]
  },
  {
   "cell_type": "markdown",
   "metadata": {},
   "source": [
    "### Распределение по тарифам, построение гистограмм"
   ]
  },
  {
   "cell_type": "code",
   "execution_count": 62,
   "metadata": {
    "scrolled": true
   },
   "outputs": [
    {
     "data": {
      "image/png": "[encoded data removed]",
      "text/plain": [
       "<Figure size 360x360 with 1 Axes>"
      ]
     },
     "metadata": {},
     "output_type": "display_data"
    },
    {
     "data": {
      "image/png": "[encoded data removed]",
      "text/plain": [
       "<Figure size 360x360 with 1 Axes>"
      ]
     },
     "metadata": {},
     "output_type": "display_data"
    },
    {
     "data": {
      "image/png": "[encoded data removed]",
      "text/plain": [
       "<Figure size 360x360 with 1 Axes>"
      ]
     },
     "metadata": {},
     "output_type": "display_data"
    }
   ],
   "source": [
    "# построим графики по каждому тарифу\n",
    "for column in ['duration', 'mb_used', 'messages']:    \n",
    "    sns.catplot(x=\"tariff\", y=column, kind=\"box\", data=medians, orient='v')\n",
    "    plt.title('Медианная длительность звонка в минутах');"
   ]
  },
  {
   "cell_type": "markdown",
   "metadata": {},
   "source": [
    "На графиках видно, что тариф «Ультра» имеет большую дисперсию, чем тариф «Смарт». Медианы по вышеперечисленным признакам также смещены в большую сторону. Кроме того, выбросов в рамках более дешевого тарифа существенно больше."
   ]
  },
  {
   "cell_type": "code",
   "execution_count": 63,
   "metadata": {
    "scrolled": true
   },
   "outputs": [
    {
     "data": {
      "image/png": "[encoded data removed]",
      "text/plain": [
       "<Figure size 432x288 with 1 Axes>"
      ]
     },
     "metadata": {},
     "output_type": "display_data"
    }
   ],
   "source": [
    "# построим гистограммы по каждому тарифу по продолжительности звонков\n",
    "for tariff in ['ultra', 'smart']:\n",
    "    sns.distplot(medians.query('tariff == @tariff')['duration'], kde=False, label=tariff)\n",
    "_ = plt.legend(['ultra', 'smart'])\n",
    "plt.title('Медианная длительность звонка в минутах');"
   ]
  },
  {
   "cell_type": "code",
   "execution_count": 64,
   "metadata": {
    "scrolled": true
   },
   "outputs": [
    {
     "data": {
      "image/png": "[encoded data removed]",
      "text/plain": [
       "<Figure size 432x288 with 1 Axes>"
      ]
     },
     "metadata": {},
     "output_type": "display_data"
    }
   ],
   "source": [
    "# построим гистограммы по каждому тарифу по количествам использованных мегабайт\n",
    "for tariff in ['ultra', 'smart']:\n",
    "    sns.distplot(medians.query('tariff == @tariff')['mb_used'], kde=False)\n",
    "_ = plt.legend(['ultra', 'smart'])\n",
    "plt.title('Объём потраченного за сессию интернет-трафика (в мегабайтах)');"
   ]
  },
  {
   "cell_type": "code",
   "execution_count": 65,
   "metadata": {
    "scrolled": true
   },
   "outputs": [
    {
     "data": {
      "image/png": "[encoded data removed]",
      "text/plain": [
       "<Figure size 432x288 with 1 Axes>"
      ]
     },
     "metadata": {},
     "output_type": "display_data"
    }
   ],
   "source": [
    "# построим гистограммы по каждому тарифу по количеству отправленных смс-сообщений\n",
    "for tariff in ['ultra', 'smart']:\n",
    "    sns.distplot(medians.query('tariff == @tariff')['messages'], kde=False, label=tariff)\n",
    "_ = plt.legend(['ultra', 'smart'])\n",
    "plt.title('Объём потраченного за сессию интернет-трафика (в мегабайтах)');"
   ]
  },
  {
   "cell_type": "markdown",
   "metadata": {},
   "source": [
    "### Вывод"
   ]
  },
  {
   "cell_type": "markdown",
   "metadata": {},
   "source": [
    "По графикам видно, что разброс значений тарифа «Смарт» меньше, чем у пользователей тарифа «Ультра» по всем показателям: по количеству использованных минут, количеству смс-сообщений и использованному интернет-трафику. \n",
    "\n",
    "Поведение пользователей тарифа «Ультра» более разнообразное. Пользователи дорогого тарифа более свободны в выборе того, как именно использовать объемы тарифного пакета: возможно, использование дорогого тарифа помогает им не думать о том, что в какой-то момент у них отключится интернет или закончится пакет по минутам разговора.\n",
    "\n",
    "Так же заметно, что пользователи более дешёвого тарифа намного меньше отправляют смс-сообщений. Зачем тратить деньги, если есть интернет. \n",
    "\n",
    "Медианные значения пользователей тарифа «Смарт» приходятся как раз на те значения, которые ограничены тарифов. Поэтому после этого идёт уменьшение количества людей, которые пользуются услугами сверх тарифного пакета."
   ]
  },
  {
   "cell_type": "markdown",
   "metadata": {},
   "source": [
    "## Проверка гипотез"
   ]
  },
  {
   "cell_type": "markdown",
   "metadata": {},
   "source": [
    "Проверим следующие гипотезы:\n",
    "* средняя выручка пользователей тарифов «Ультра» и «Смарт» различаются;\n",
    "* средняя выручка пользователей из Москвы отличается от выручки пользователей из других регионов."
   ]
  },
  {
   "cell_type": "markdown",
   "metadata": {},
   "source": [
    "### Гипотеза №1: средняя выручка пользователей тарифов «Ультра» и «Смарт» различается "
   ]
  },
  {
   "cell_type": "markdown",
   "metadata": {
    "scrolled": true
   },
   "source": [
    "**Сформулируем гипотезы:**\n",
    "\n",
    "**H0**  — средняя выручка пользователей тарифа «Ультра» равна средней выручке пользователей тарифа «Смарт».\n",
    "\n",
    "**H1**  — средняя выручка пользователей тарифов «Ультра» и «Смарт» различается."
   ]
  },
  {
   "cell_type": "code",
   "execution_count": 66,
   "metadata": {},
   "outputs": [
    {
     "name": "stdout",
     "output_type": "stream",
     "text": [
      "p-значение: 1.172655564462924e-190\n",
      "Отвергаем нулевую гипотезу\n"
     ]
    }
   ],
   "source": [
    "# проверим гипотезу\n",
    "ultra = user_month.query('tariff == \"ultra\"')['income']\n",
    "smart = user_month.query('tariff == \"smart\"')['income']\n",
    "\n",
    "alpha = .05\n",
    "\n",
    "results = st.ttest_ind(\n",
    "    ultra, \n",
    "    smart)\n",
    "\n",
    "print('p-значение:', results.pvalue)\n",
    "\n",
    "if results.pvalue < alpha:\n",
    "    print(\"Отвергаем нулевую гипотезу\")\n",
    "else:\n",
    "    print(\"Не получилось отвергнуть нулевую гипотезу\")"
   ]
  },
  {
   "cell_type": "code",
   "execution_count": 67,
   "metadata": {
    "scrolled": true
   },
   "outputs": [
    {
     "data": {
      "text/html": [
       "<div>\n",
       "<style scoped>\n",
       "    .dataframe tbody tr th:only-of-type {\n",
       "        vertical-align: middle;\n",
       "    }\n",
       "\n",
       "    .dataframe tbody tr th {\n",
       "        vertical-align: top;\n",
       "    }\n",
       "\n",
       "    .dataframe thead th {\n",
       "        text-align: right;\n",
       "    }\n",
       "</style>\n",
       "<table border=\"1\" class=\"dataframe\">\n",
       "  <thead>\n",
       "    <tr style=\"text-align: right;\">\n",
       "      <th></th>\n",
       "      <th>income</th>\n",
       "    </tr>\n",
       "    <tr>\n",
       "      <th>tariff</th>\n",
       "      <th></th>\n",
       "    </tr>\n",
       "  </thead>\n",
       "  <tbody>\n",
       "    <tr>\n",
       "      <th>smart</th>\n",
       "      <td>959.898438</td>\n",
       "    </tr>\n",
       "    <tr>\n",
       "      <th>ultra</th>\n",
       "      <td>1950.000000</td>\n",
       "    </tr>\n",
       "  </tbody>\n",
       "</table>\n",
       "</div>"
      ],
      "text/plain": [
       "             income\n",
       "tariff             \n",
       "smart    959.898438\n",
       "ultra   1950.000000"
      ]
     },
     "execution_count": 67,
     "metadata": {},
     "output_type": "execute_result"
    }
   ],
   "source": [
    "# сгруппируем таблицу по медианному доходу и выбранному тарифу\n",
    "user_month.pivot_table(index='tariff', values='income', aggfunc='median')"
   ]
  },
  {
   "cell_type": "code",
   "execution_count": 68,
   "metadata": {},
   "outputs": [
    {
     "data": {
      "image/png": "[encoded data removed]",
      "text/plain": [
       "<Figure size 360x360 with 1 Axes>"
      ]
     },
     "metadata": {},
     "output_type": "display_data"
    }
   ],
   "source": [
    "# построим графики для наглядности\n",
    "_ = sns.catplot(x=\"tariff\", y='income', kind=\"box\", data=user_month, orient='v')"
   ]
  },
  {
   "cell_type": "markdown",
   "metadata": {},
   "source": [
    "**Вывод:** \n",
    "\n",
    "Нулевая гипотеза была отвергнута - средняя выручка пользователей двух тарифов не равна. Следовательно, альтернативная гипотеза не была опровергнута - средняя выручка пользователей тарифов «Ультра» и «Смарт» на предоставленных данных различается.\n",
    "\n",
    "Видно, что средние значения выручки по тарифам различаются, примерно в два раза. Это означает,  что пользователь тарифа «Смарт» с абонентской платой в 550 рублей скорее всего по итогам месяца заплатит гораздо больше из-за нехватки услуг в рамках тарифного пакета."
   ]
  },
  {
   "cell_type": "markdown",
   "metadata": {},
   "source": [
    "## Гипотеза №2: средняя выручка пользователей из Москвы отличается от выручки пользователей из других регионов"
   ]
  },
  {
   "cell_type": "markdown",
   "metadata": {},
   "source": [
    "**Сформулируем гипотезы:**\n",
    "\n",
    "**H0**  — средняя выручка пользователей из Москвы равна средней выручке пользователей из других регионов.\n",
    "\n",
    "**H1** — средняя выручка пользователей из Москвы отличается от средней выручке пользователей из других регионов."
   ]
  },
  {
   "cell_type": "code",
   "execution_count": 69,
   "metadata": {
    "scrolled": false
   },
   "outputs": [
    {
     "name": "stdout",
     "output_type": "stream",
     "text": [
      "p-значение: 0.4549775646471024\n",
      "Не получилось отвергнуть нулевую гипотезу\n"
     ]
    }
   ],
   "source": [
    "# добавим наименование населенного пункта для каждого пользователя\n",
    "for user in user_month.index:\n",
    "    user_month.loc[user, 'city'] = users.loc[user[0]-1000, 'city']\n",
    "\n",
    "moscow = user_month.query('city == \"Москва\"')['income']\n",
    "region = user_month.query('city != \"Москва\"')['income']\n",
    "\n",
    "alpha = .05\n",
    "\n",
    "results = st.ttest_ind(\n",
    "    moscow, \n",
    "    region, \n",
    "    equal_var=False)\n",
    "\n",
    "print('p-значение:', results.pvalue)\n",
    "\n",
    "if (results.pvalue < alpha):\n",
    "    print(\"Отвергаем нулевую гипотезу\")\n",
    "else:\n",
    "    print(\"Не получилось отвергнуть нулевую гипотезу\")"
   ]
  },
  {
   "cell_type": "code",
   "execution_count": 70,
   "metadata": {},
   "outputs": [
    {
     "data": {
      "text/html": [
       "<div>\n",
       "<style scoped>\n",
       "    .dataframe tbody tr th:only-of-type {\n",
       "        vertical-align: middle;\n",
       "    }\n",
       "\n",
       "    .dataframe tbody tr th {\n",
       "        vertical-align: top;\n",
       "    }\n",
       "\n",
       "    .dataframe thead th {\n",
       "        text-align: right;\n",
       "    }\n",
       "</style>\n",
       "<table border=\"1\" class=\"dataframe\">\n",
       "  <thead>\n",
       "    <tr style=\"text-align: right;\">\n",
       "      <th></th>\n",
       "      <th>income</th>\n",
       "    </tr>\n",
       "    <tr>\n",
       "      <th>region</th>\n",
       "      <th></th>\n",
       "    </tr>\n",
       "  </thead>\n",
       "  <tbody>\n",
       "    <tr>\n",
       "      <th>Москва</th>\n",
       "      <td>1704.632812</td>\n",
       "    </tr>\n",
       "    <tr>\n",
       "      <th>Регионы</th>\n",
       "      <td>1518.078125</td>\n",
       "    </tr>\n",
       "  </tbody>\n",
       "</table>\n",
       "</div>"
      ],
      "text/plain": [
       "              income\n",
       "region              \n",
       "Москва   1704.632812\n",
       "Регионы  1518.078125"
      ]
     },
     "execution_count": 70,
     "metadata": {},
     "output_type": "execute_result"
    }
   ],
   "source": [
    "# напишем функцию для категоризации населённых пунктов на две категории столица - Москва и регионы \n",
    "def region(city):\n",
    "    if city == 'Москва': return 'Москва'\n",
    "    else: return 'Регионы'\n",
    "    \n",
    "user_month['region'] = user_month['city'].apply(region)\n",
    "user_month.pivot_table(index='region', values='income', aggfunc='median')"
   ]
  },
  {
   "cell_type": "code",
   "execution_count": 71,
   "metadata": {},
   "outputs": [
    {
     "data": {
      "image/png": "[encoded data removed]",
      "text/plain": [
       "<Figure size 360x360 with 1 Axes>"
      ]
     },
     "metadata": {},
     "output_type": "display_data"
    }
   ],
   "source": [
    "# построим график\n",
    "_ = sns.catplot(x=\"region\", y='income', kind=\"box\", data=user_month, orient='v')"
   ]
  },
  {
   "cell_type": "markdown",
   "metadata": {},
   "source": [
    "**Вывод:** \n",
    "\n",
    "Нулевая гипотеза не была отвергнута, так как средняя выручка пользователей Москвы и других городов равны на предоставленных данных не отличается, альтернативная гипотеза была отвергнута.\n",
    "\n",
    "Цены на тарифы по всей стране одинаковые, почти каждый житель страны пользуется телефоном и услугами мобильных операторов, поэтому выручка компании «Мегалайн» от предоставленных услуг не зависит от региона, а скорее всего зависит от количество пользователей в этом регионе. Но это уже совсем другая гипотеза..."
   ]
  },
  {
   "cell_type": "markdown",
   "metadata": {},
   "source": [
    "## Общий вывод"
   ]
  },
  {
   "cell_type": "markdown",
   "metadata": {},
   "source": [
    "- Перед началом исследования нам была предоставлена небольшая выборка 500 пользователей компании «Мегалайн». Пользователи пользуются телефонной связью, смс-сообщениями, мобильным интернетом. Всего существует два тарифа - *«Ультра»* и *«Смарт»*, каждый имеет свои особенности, которые представлены в описании тарифов.\n",
    "\n",
    "- Задачей исследования являлся анализ поведения клиентов, на основе которого можно сделать вывод — какой тариф лучше с целью скорректировать рекламный бюджет, коммерческий департамент хочет понять, какой тариф приносит больше денег. \n",
    "\n",
    "- Основная часть данных изначально была в хорошем состоянии. На этапе предобработки данных изменены только типы в столбцах с датами на datetime64, проверена корректность данных, наличие дубликатов.\n",
    "\n",
    "- Была создана сводная таблица `user_month` - в которую сгруппировали данные по каждому клиенту за каждый месяц пользования. Рассчитали 4 столбца по месяцам года: количество использованных минут, отправленных смс-сообщений, объём использованного интернет-трафика и выручку за месяц - столбец **_income_**.\n",
    "\n",
    "- В процессе анализа были выявлены следующие особенности использования предлагаемых тарифов:\n",
    "1. **Звонки.** В тарифе *«Смарт»* подавляющее большинство абонентов укладываются в лимит 500 минут разговора (медианное значение за 2018 год - 440 минут), да и в тарифе *«Ультра»* не сильно ушли от этого значения - медианное значение 535 минут (обратим внимание, что лимит на тарифе - 3000 минут).\n",
    "2. **Смс-сообщения.** Отправка смс-сообщений не сильно пользуется спросом. Абоненты тарифа *«Смарт»* вполне укладываются в лимит 50 смс-сообщений (медианное значение - 28 смс-сообщений в месяц), даже абоненты тарифа *«Ультра»* редко превышают порог в 50 смс-сообщений (медианное значение - 47 смс-сообщений в месяц). \n",
    "3. **Интернет** Абоненты тарифа *«Смарт»* любят посидеть в интернете и часто превышают лимиты в 15 Гб; медианный расход интернет-трафика на *«Смарт»* около 17 Гб. Медианный расход интернет-трафика не превышает порог в 30 Гб и составляет около 19 Гб в месяц. Большинство абонентов расходуют от 11 до 23 Гб интернет-трафика в месяц.\n",
    "4. **Выручка.** Выручка от предоставления услуг абонента *«Ультра»* имеет медианное значение 1950 рублей. Можно сделать вывод, что они редко пользуются услугами сверх тарифного пакета. В то же время, абоненты тарифа *«Смарт»* очень часто платят сверх абонентской платы (медианное значение равно 960 рублей). 960 - 550 = 410 рублей. Такая переплата происходит в основном из-за того, что людям не хватает тарифных пакетор интернет-трафика. \n",
    "\n",
    "- В целом, многие абоненты тарифа *«Ультра»* могли бы перейти на тариф *«Смарт»* и платили бы меньше - если исходить из медианных  значений: 535 мин - 75 рублей переплаты. Трафик 19 Гб - примерно 800 рублей Итого получается 550 + 75 + 800 = 1425 рублей вместо 1950 рублей. При этом появляется больше гибкости, не все используют тарифный пакет в полном объёме. Поэтому тариф *«Смарт»* так и называется, людям дают базовые условия и дальше каждый может его подстроить под свои нужны. Такие вот умные технологии.\n",
    "\n",
    "- В исследовании так же были проверены две гипотезы:\n",
    "  1. Гипотеза № 1: средняя выручка пользователей тарифов «Ультра» и «Смарт» различается: гипотеза не была опровергнута.\n",
    "  2. Гипотеза № 2: средняя выручка пользователей из Москвы отличается от выручки пользователей из других регионов: гипотеза не подтвердилась. На предоставленных данных различий не было выявлено. Нулевую гипотезу не удалось опровергнуть.\n",
    "\n",
    "\n",
    "- По итогам исследования можно рекомендовать оператору продвигать тариф «Смарт». Такой тариф приносит больше прибыли (это очень весомый фактор для компании), абоненты «Смарт» часто переплачивают сверх лимита, в отличие от абонентов «Ультра», которые очень редко превышают свой лимит. Так же абонентская плата за тариф «Смарт» выглядит более привлекательно для абонентов. Не каждый готов платить 1950 рублей в месяц, а 550 рублей - вполне доступно и не так отпугивает. Но при всех преимуществах может наблюдаться и обратный эффект, пользователи могут разочароваться в том, что постоянно приходится переплачивать, что не хватает пакетов интернет-трафика и найти что-то более выгодное у компании-конкурента. Может возникнуть ситуация, что по тарифу *«Смарт»* не устраивает тарифный пакет, а по тарифу *«Ультра»* не устраивает цена.\n",
    "- Дополнительно можно провести исследования, чтобы выявить, какой объём интернет-трафика будет комфортным и для компании, и для клиента. Чтобы не растерять свою базу и не остаться в убытках.\n",
    "- Так же можно сократить количество смс-сообщений в тарифном плане, потому что пользователи не проявляют особую активность в их использовании."
   ]
  }
 ],
 "metadata": {
  "ExecuteTimeLog": [
   {
    "duration": 5,
    "start_time": "2022-03-13T11:15:18.603Z"
   },
   {
    "duration": 102,
    "start_time": "2022-03-13T11:15:42.035Z"
   },
   {
    "duration": 3,
    "start_time": "2022-03-13T11:43:22.455Z"
   },
   {
    "duration": 3,
    "start_time": "2022-03-13T11:44:19.427Z"
   },
   {
    "duration": 1815,
    "start_time": "2022-03-13T11:49:58.253Z"
   },
   {
    "duration": 492,
    "start_time": "2022-03-13T11:50:31.838Z"
   },
   {
    "duration": 4,
    "start_time": "2022-03-13T11:51:21.266Z"
   },
   {
    "duration": 279,
    "start_time": "2022-03-13T11:51:52.442Z"
   },
   {
    "duration": 21,
    "start_time": "2022-03-13T11:51:57.966Z"
   },
   {
    "duration": 36,
    "start_time": "2022-03-13T11:53:16.156Z"
   },
   {
    "duration": 271,
    "start_time": "2022-03-13T11:53:25.852Z"
   },
   {
    "duration": 101,
    "start_time": "2022-03-13T11:53:33.043Z"
   },
   {
    "duration": 56,
    "start_time": "2022-03-13T11:53:35.999Z"
   },
   {
    "duration": 68,
    "start_time": "2022-03-13T11:55:53.872Z"
   },
   {
    "duration": 62,
    "start_time": "2022-03-13T11:57:35.621Z"
   },
   {
    "duration": 365,
    "start_time": "2022-03-13T15:49:13.997Z"
   },
   {
    "duration": 1590,
    "start_time": "2022-03-13T15:49:20.049Z"
   },
   {
    "duration": 109,
    "start_time": "2022-03-13T15:49:21.657Z"
   },
   {
    "duration": 124,
    "start_time": "2022-03-13T15:49:38.306Z"
   },
   {
    "duration": 98,
    "start_time": "2022-03-13T15:49:43.210Z"
   },
   {
    "duration": 83,
    "start_time": "2022-03-13T15:49:56.297Z"
   },
   {
    "duration": 3,
    "start_time": "2022-03-13T15:59:23.201Z"
   },
   {
    "duration": 13,
    "start_time": "2022-03-13T16:03:28.669Z"
   },
   {
    "duration": 4,
    "start_time": "2022-03-13T16:04:37.752Z"
   },
   {
    "duration": 4,
    "start_time": "2022-03-13T16:12:33.323Z"
   },
   {
    "duration": 10,
    "start_time": "2022-03-13T16:12:47.887Z"
   },
   {
    "duration": 8,
    "start_time": "2022-03-13T17:06:05.319Z"
   },
   {
    "duration": 361,
    "start_time": "2022-03-13T17:10:00.736Z"
   },
   {
    "duration": 3,
    "start_time": "2022-03-13T17:10:06.185Z"
   },
   {
    "duration": 9,
    "start_time": "2022-03-13T17:10:07.756Z"
   },
   {
    "duration": 9,
    "start_time": "2022-03-13T17:10:21.364Z"
   },
   {
    "duration": 20,
    "start_time": "2022-03-13T17:13:55.337Z"
   },
   {
    "duration": 5,
    "start_time": "2022-03-13T17:14:55.894Z"
   },
   {
    "duration": 4,
    "start_time": "2022-03-13T17:15:12.082Z"
   },
   {
    "duration": 28,
    "start_time": "2022-03-13T17:15:22.823Z"
   },
   {
    "duration": 1009,
    "start_time": "2022-03-13T17:15:50.133Z"
   },
   {
    "duration": 8,
    "start_time": "2022-03-13T17:15:53.694Z"
   },
   {
    "duration": 3,
    "start_time": "2022-03-13T17:17:39.935Z"
   },
   {
    "duration": 8,
    "start_time": "2022-03-13T17:30:01.577Z"
   },
   {
    "duration": 1448,
    "start_time": "2022-03-13T17:31:31.050Z"
   },
   {
    "duration": 79,
    "start_time": "2022-03-13T17:31:32.500Z"
   },
   {
    "duration": 26,
    "start_time": "2022-03-13T17:31:32.581Z"
   },
   {
    "duration": 6,
    "start_time": "2022-03-13T17:31:32.609Z"
   },
   {
    "duration": 12,
    "start_time": "2022-03-13T17:31:32.617Z"
   },
   {
    "duration": 6,
    "start_time": "2022-03-13T17:31:32.631Z"
   },
   {
    "duration": 19,
    "start_time": "2022-03-13T17:31:32.638Z"
   },
   {
    "duration": 4,
    "start_time": "2022-03-13T17:31:32.660Z"
   },
   {
    "duration": 9,
    "start_time": "2022-03-13T17:31:32.666Z"
   },
   {
    "duration": 9,
    "start_time": "2022-03-13T17:31:32.706Z"
   },
   {
    "duration": 4,
    "start_time": "2022-03-13T17:31:32.717Z"
   },
   {
    "duration": 13,
    "start_time": "2022-03-13T17:35:23.271Z"
   },
   {
    "duration": 3,
    "start_time": "2022-03-13T17:36:28.548Z"
   },
   {
    "duration": 1295,
    "start_time": "2022-03-13T17:36:42.868Z"
   },
   {
    "duration": 9,
    "start_time": "2022-03-13T17:36:58.776Z"
   },
   {
    "duration": 10,
    "start_time": "2022-03-13T17:40:53.885Z"
   },
   {
    "duration": 10,
    "start_time": "2022-03-13T17:47:08.996Z"
   },
   {
    "duration": 236,
    "start_time": "2022-03-13T17:48:03.428Z"
   },
   {
    "duration": 1843,
    "start_time": "2022-03-13T17:50:27.928Z"
   },
   {
    "duration": 140,
    "start_time": "2022-03-13T17:50:29.774Z"
   },
   {
    "duration": 13,
    "start_time": "2022-03-13T17:50:29.916Z"
   },
   {
    "duration": 3,
    "start_time": "2022-03-13T17:50:29.931Z"
   },
   {
    "duration": 11,
    "start_time": "2022-03-13T17:50:29.936Z"
   },
   {
    "duration": 8,
    "start_time": "2022-03-13T17:50:29.949Z"
   },
   {
    "duration": 61,
    "start_time": "2022-03-13T17:50:29.958Z"
   },
   {
    "duration": 5,
    "start_time": "2022-03-13T17:50:42.940Z"
   },
   {
    "duration": 9,
    "start_time": "2022-03-13T17:50:44.512Z"
   },
   {
    "duration": 5,
    "start_time": "2022-03-13T17:50:58.804Z"
   },
   {
    "duration": 1877,
    "start_time": "2022-03-13T17:52:52.505Z"
   },
   {
    "duration": 123,
    "start_time": "2022-03-13T17:52:54.384Z"
   },
   {
    "duration": 13,
    "start_time": "2022-03-13T17:52:54.510Z"
   },
   {
    "duration": 5,
    "start_time": "2022-03-13T17:52:54.525Z"
   },
   {
    "duration": 11,
    "start_time": "2022-03-13T17:52:54.532Z"
   },
   {
    "duration": 7,
    "start_time": "2022-03-13T17:52:54.546Z"
   },
   {
    "duration": 58,
    "start_time": "2022-03-13T17:52:54.555Z"
   },
   {
    "duration": 4,
    "start_time": "2022-03-13T17:52:54.616Z"
   },
   {
    "duration": 13,
    "start_time": "2022-03-13T17:52:54.622Z"
   },
   {
    "duration": 14,
    "start_time": "2022-03-13T17:52:54.637Z"
   },
   {
    "duration": 6,
    "start_time": "2022-03-13T17:52:54.653Z"
   },
   {
    "duration": 46,
    "start_time": "2022-03-13T17:52:54.661Z"
   },
   {
    "duration": 3,
    "start_time": "2022-03-13T17:52:54.708Z"
   },
   {
    "duration": 674,
    "start_time": "2022-03-13T17:52:54.713Z"
   },
   {
    "duration": 18,
    "start_time": "2022-03-13T17:52:55.389Z"
   },
   {
    "duration": 13,
    "start_time": "2022-03-13T17:52:55.409Z"
   },
   {
    "duration": 170,
    "start_time": "2022-03-13T17:52:55.424Z"
   },
   {
    "duration": 9,
    "start_time": "2022-03-13T17:53:00.125Z"
   },
   {
    "duration": 10,
    "start_time": "2022-03-13T17:53:10.185Z"
   },
   {
    "duration": 10,
    "start_time": "2022-03-13T17:53:27.873Z"
   },
   {
    "duration": 9,
    "start_time": "2022-03-13T17:53:49.614Z"
   },
   {
    "duration": 9,
    "start_time": "2022-03-13T17:54:03.710Z"
   },
   {
    "duration": 9,
    "start_time": "2022-03-13T17:54:33.266Z"
   },
   {
    "duration": 9,
    "start_time": "2022-03-13T17:54:36.554Z"
   },
   {
    "duration": 12,
    "start_time": "2022-03-13T17:55:03.290Z"
   },
   {
    "duration": 6,
    "start_time": "2022-03-13T17:55:47.470Z"
   },
   {
    "duration": 22,
    "start_time": "2022-03-13T17:55:58.206Z"
   },
   {
    "duration": 6,
    "start_time": "2022-03-13T17:57:52.407Z"
   },
   {
    "duration": 6,
    "start_time": "2022-03-13T17:58:44.696Z"
   },
   {
    "duration": 8,
    "start_time": "2022-03-13T17:59:12.152Z"
   },
   {
    "duration": 1540,
    "start_time": "2022-03-13T18:00:46.209Z"
   },
   {
    "duration": 85,
    "start_time": "2022-03-13T18:00:47.752Z"
   },
   {
    "duration": 12,
    "start_time": "2022-03-13T18:00:47.839Z"
   },
   {
    "duration": 5,
    "start_time": "2022-03-13T18:00:47.853Z"
   },
   {
    "duration": 13,
    "start_time": "2022-03-13T18:00:47.859Z"
   },
   {
    "duration": 36,
    "start_time": "2022-03-13T18:00:47.874Z"
   },
   {
    "duration": 20,
    "start_time": "2022-03-13T18:00:47.912Z"
   },
   {
    "duration": 4,
    "start_time": "2022-03-13T18:00:47.935Z"
   },
   {
    "duration": 10,
    "start_time": "2022-03-13T18:00:47.941Z"
   },
   {
    "duration": 10,
    "start_time": "2022-03-13T18:00:47.953Z"
   },
   {
    "duration": 42,
    "start_time": "2022-03-13T18:00:47.965Z"
   },
   {
    "duration": 13,
    "start_time": "2022-03-13T18:00:48.009Z"
   },
   {
    "duration": 3,
    "start_time": "2022-03-13T18:00:48.024Z"
   },
   {
    "duration": 652,
    "start_time": "2022-03-13T18:00:48.028Z"
   },
   {
    "duration": 8,
    "start_time": "2022-03-13T18:00:48.682Z"
   },
   {
    "duration": 18,
    "start_time": "2022-03-13T18:00:48.692Z"
   },
   {
    "duration": 145,
    "start_time": "2022-03-13T18:00:48.712Z"
   },
   {
    "duration": 11,
    "start_time": "2022-03-13T18:00:48.858Z"
   },
   {
    "duration": 5,
    "start_time": "2022-03-13T18:00:48.871Z"
   },
   {
    "duration": 35,
    "start_time": "2022-03-13T18:00:48.878Z"
   },
   {
    "duration": 6,
    "start_time": "2022-03-13T18:00:48.915Z"
   },
   {
    "duration": 12,
    "start_time": "2022-03-13T18:00:48.923Z"
   },
   {
    "duration": 8,
    "start_time": "2022-03-13T18:00:48.938Z"
   },
   {
    "duration": 18,
    "start_time": "2022-03-13T18:09:19.648Z"
   },
   {
    "duration": 11,
    "start_time": "2022-03-13T18:10:30.677Z"
   },
   {
    "duration": 6,
    "start_time": "2022-03-13T18:11:02.277Z"
   },
   {
    "duration": 6,
    "start_time": "2022-03-13T18:11:14.637Z"
   },
   {
    "duration": 6,
    "start_time": "2022-03-13T18:11:25.349Z"
   },
   {
    "duration": 8,
    "start_time": "2022-03-13T18:12:14.069Z"
   },
   {
    "duration": 6,
    "start_time": "2022-03-13T18:12:21.074Z"
   },
   {
    "duration": 10,
    "start_time": "2022-03-13T18:13:20.411Z"
   },
   {
    "duration": 3,
    "start_time": "2022-03-14T02:18:55.892Z"
   },
   {
    "duration": 337,
    "start_time": "2022-03-14T02:19:24.860Z"
   },
   {
    "duration": 1435,
    "start_time": "2022-03-14T02:23:34.158Z"
   },
   {
    "duration": 374,
    "start_time": "2022-03-14T02:23:43.294Z"
   },
   {
    "duration": 74,
    "start_time": "2022-03-14T02:23:43.670Z"
   },
   {
    "duration": 11,
    "start_time": "2022-03-14T02:23:43.746Z"
   },
   {
    "duration": 3,
    "start_time": "2022-03-14T02:23:43.758Z"
   },
   {
    "duration": 11,
    "start_time": "2022-03-14T02:23:43.762Z"
   },
   {
    "duration": 30,
    "start_time": "2022-03-14T02:23:43.774Z"
   },
   {
    "duration": 24,
    "start_time": "2022-03-14T02:23:43.805Z"
   },
   {
    "duration": 4,
    "start_time": "2022-03-14T02:23:43.832Z"
   },
   {
    "duration": 9,
    "start_time": "2022-03-14T02:23:43.837Z"
   },
   {
    "duration": 9,
    "start_time": "2022-03-14T02:23:43.848Z"
   },
   {
    "duration": 3,
    "start_time": "2022-03-14T02:23:43.859Z"
   },
   {
    "duration": 42,
    "start_time": "2022-03-14T02:23:43.864Z"
   },
   {
    "duration": 2,
    "start_time": "2022-03-14T02:23:43.908Z"
   },
   {
    "duration": 630,
    "start_time": "2022-03-14T02:23:43.912Z"
   },
   {
    "duration": 8,
    "start_time": "2022-03-14T02:23:44.544Z"
   },
   {
    "duration": 12,
    "start_time": "2022-03-14T02:23:44.553Z"
   },
   {
    "duration": 127,
    "start_time": "2022-03-14T02:23:44.567Z"
   },
   {
    "duration": 12,
    "start_time": "2022-03-14T02:23:44.696Z"
   },
   {
    "duration": 5,
    "start_time": "2022-03-14T02:23:44.710Z"
   },
   {
    "duration": 9,
    "start_time": "2022-03-14T02:23:44.716Z"
   },
   {
    "duration": 5,
    "start_time": "2022-03-14T02:23:44.726Z"
   },
   {
    "duration": 8,
    "start_time": "2022-03-14T02:23:44.733Z"
   },
   {
    "duration": 10,
    "start_time": "2022-03-14T02:23:44.743Z"
   },
   {
    "duration": 66,
    "start_time": "2022-03-14T02:23:44.755Z"
   },
   {
    "duration": 149,
    "start_time": "2022-03-14T02:25:03.823Z"
   },
   {
    "duration": 26,
    "start_time": "2022-03-14T02:28:18.424Z"
   },
   {
    "duration": 9,
    "start_time": "2022-03-14T02:28:25.268Z"
   },
   {
    "duration": 16,
    "start_time": "2022-03-14T02:29:18.404Z"
   },
   {
    "duration": 317,
    "start_time": "2022-03-14T05:55:36.352Z"
   },
   {
    "duration": 2101,
    "start_time": "2022-03-14T05:55:44.078Z"
   },
   {
    "duration": 172,
    "start_time": "2022-03-14T05:55:46.182Z"
   },
   {
    "duration": 24,
    "start_time": "2022-03-14T05:55:46.358Z"
   },
   {
    "duration": 5,
    "start_time": "2022-03-14T05:55:46.385Z"
   },
   {
    "duration": 16,
    "start_time": "2022-03-14T05:55:46.393Z"
   },
   {
    "duration": 12,
    "start_time": "2022-03-14T05:55:46.451Z"
   },
   {
    "duration": 35,
    "start_time": "2022-03-14T05:55:46.466Z"
   },
   {
    "duration": 6,
    "start_time": "2022-03-14T05:55:46.503Z"
   },
   {
    "duration": 43,
    "start_time": "2022-03-14T05:55:46.512Z"
   },
   {
    "duration": 11,
    "start_time": "2022-03-14T05:55:46.558Z"
   },
   {
    "duration": 5,
    "start_time": "2022-03-14T05:55:46.572Z"
   },
   {
    "duration": 21,
    "start_time": "2022-03-14T05:55:46.579Z"
   },
   {
    "duration": 4,
    "start_time": "2022-03-14T05:55:46.602Z"
   },
   {
    "duration": 954,
    "start_time": "2022-03-14T05:55:46.608Z"
   },
   {
    "duration": 16,
    "start_time": "2022-03-14T05:55:47.565Z"
   },
   {
    "duration": 19,
    "start_time": "2022-03-14T05:55:47.584Z"
   },
   {
    "duration": 208,
    "start_time": "2022-03-14T05:55:47.606Z"
   },
   {
    "duration": 37,
    "start_time": "2022-03-14T05:55:47.817Z"
   },
   {
    "duration": 6,
    "start_time": "2022-03-14T05:55:47.856Z"
   },
   {
    "duration": 19,
    "start_time": "2022-03-14T05:55:47.864Z"
   },
   {
    "duration": 18,
    "start_time": "2022-03-14T05:55:47.885Z"
   },
   {
    "duration": 14,
    "start_time": "2022-03-14T05:55:47.905Z"
   },
   {
    "duration": 35,
    "start_time": "2022-03-14T05:55:47.921Z"
   },
   {
    "duration": 57,
    "start_time": "2022-03-14T05:55:47.959Z"
   },
   {
    "duration": 300,
    "start_time": "2022-03-14T05:55:48.019Z"
   },
   {
    "duration": 59,
    "start_time": "2022-03-14T05:55:48.323Z"
   },
   {
    "duration": 24,
    "start_time": "2022-03-14T05:55:48.386Z"
   },
   {
    "duration": 48,
    "start_time": "2022-03-14T05:55:48.413Z"
   },
   {
    "duration": 302,
    "start_time": "2022-03-14T06:06:57.551Z"
   },
   {
    "duration": 30,
    "start_time": "2022-03-14T06:11:07.916Z"
   },
   {
    "duration": 712,
    "start_time": "2022-03-14T06:16:44.487Z"
   },
   {
    "duration": 610,
    "start_time": "2022-03-14T06:16:49.812Z"
   },
   {
    "duration": 33,
    "start_time": "2022-03-14T06:17:30.718Z"
   },
   {
    "duration": 30,
    "start_time": "2022-03-14T06:23:34.587Z"
   },
   {
    "duration": 3,
    "start_time": "2022-03-14T06:24:16.772Z"
   },
   {
    "duration": 92,
    "start_time": "2022-03-14T06:24:58.915Z"
   },
   {
    "duration": 31,
    "start_time": "2022-03-14T06:27:12.434Z"
   },
   {
    "duration": 36,
    "start_time": "2022-03-14T07:18:59.256Z"
   },
   {
    "duration": 35,
    "start_time": "2022-03-14T07:20:23.989Z"
   },
   {
    "duration": 2025,
    "start_time": "2022-03-14T07:20:34.809Z"
   },
   {
    "duration": 145,
    "start_time": "2022-03-14T07:20:36.837Z"
   },
   {
    "duration": 17,
    "start_time": "2022-03-14T07:20:36.985Z"
   },
   {
    "duration": 4,
    "start_time": "2022-03-14T07:20:37.005Z"
   },
   {
    "duration": 49,
    "start_time": "2022-03-14T07:20:37.012Z"
   },
   {
    "duration": 11,
    "start_time": "2022-03-14T07:20:37.064Z"
   },
   {
    "duration": 31,
    "start_time": "2022-03-14T07:20:37.078Z"
   },
   {
    "duration": 8,
    "start_time": "2022-03-14T07:20:37.152Z"
   },
   {
    "duration": 12,
    "start_time": "2022-03-14T07:20:37.167Z"
   },
   {
    "duration": 13,
    "start_time": "2022-03-14T07:20:37.182Z"
   },
   {
    "duration": 8,
    "start_time": "2022-03-14T07:20:37.197Z"
   },
   {
    "duration": 64,
    "start_time": "2022-03-14T07:20:37.208Z"
   },
   {
    "duration": 8,
    "start_time": "2022-03-14T07:20:37.274Z"
   },
   {
    "duration": 956,
    "start_time": "2022-03-14T07:20:37.285Z"
   },
   {
    "duration": 19,
    "start_time": "2022-03-14T07:20:38.244Z"
   },
   {
    "duration": 19,
    "start_time": "2022-03-14T07:20:38.266Z"
   },
   {
    "duration": 191,
    "start_time": "2022-03-14T07:20:38.288Z"
   },
   {
    "duration": 18,
    "start_time": "2022-03-14T07:20:38.482Z"
   },
   {
    "duration": 9,
    "start_time": "2022-03-14T07:20:38.502Z"
   },
   {
    "duration": 39,
    "start_time": "2022-03-14T07:20:38.513Z"
   },
   {
    "duration": 7,
    "start_time": "2022-03-14T07:20:38.555Z"
   },
   {
    "duration": 13,
    "start_time": "2022-03-14T07:20:38.565Z"
   },
   {
    "duration": 16,
    "start_time": "2022-03-14T07:20:38.580Z"
   },
   {
    "duration": 68,
    "start_time": "2022-03-14T07:20:38.598Z"
   },
   {
    "duration": 238,
    "start_time": "2022-03-14T07:20:38.669Z"
   },
   {
    "duration": 51,
    "start_time": "2022-03-14T07:20:38.909Z"
   },
   {
    "duration": 21,
    "start_time": "2022-03-14T07:20:38.965Z"
   },
   {
    "duration": 23,
    "start_time": "2022-03-14T07:20:38.989Z"
   },
   {
    "duration": 196,
    "start_time": "2022-03-14T07:20:39.014Z"
   },
   {
    "duration": 21,
    "start_time": "2022-03-14T07:20:39.212Z"
   },
   {
    "duration": 602,
    "start_time": "2022-03-14T07:20:39.253Z"
   },
   {
    "duration": 24,
    "start_time": "2022-03-14T07:20:39.858Z"
   },
   {
    "duration": 30,
    "start_time": "2022-03-14T07:20:39.885Z"
   },
   {
    "duration": 111,
    "start_time": "2022-03-14T07:20:39.953Z"
   },
   {
    "duration": 34,
    "start_time": "2022-03-14T07:20:40.068Z"
   },
   {
    "duration": 60,
    "start_time": "2022-03-14T07:20:40.105Z"
   },
   {
    "duration": 29,
    "start_time": "2022-03-14T07:20:40.168Z"
   },
   {
    "duration": 16,
    "start_time": "2022-03-14T07:24:15.626Z"
   },
   {
    "duration": 596,
    "start_time": "2022-03-14T07:27:40.081Z"
   },
   {
    "duration": 402,
    "start_time": "2022-03-14T07:28:01.777Z"
   },
   {
    "duration": 515,
    "start_time": "2022-03-14T07:30:49.831Z"
   },
   {
    "duration": 140,
    "start_time": "2022-03-14T07:30:50.349Z"
   },
   {
    "duration": 19,
    "start_time": "2022-03-14T07:30:50.491Z"
   },
   {
    "duration": 5,
    "start_time": "2022-03-14T07:30:50.513Z"
   },
   {
    "duration": 13,
    "start_time": "2022-03-14T07:30:50.552Z"
   },
   {
    "duration": 14,
    "start_time": "2022-03-14T07:30:50.568Z"
   },
   {
    "duration": 68,
    "start_time": "2022-03-14T07:30:50.585Z"
   },
   {
    "duration": 6,
    "start_time": "2022-03-14T07:30:50.656Z"
   },
   {
    "duration": 22,
    "start_time": "2022-03-14T07:30:50.664Z"
   },
   {
    "duration": 17,
    "start_time": "2022-03-14T07:30:50.688Z"
   },
   {
    "duration": 64,
    "start_time": "2022-03-14T07:30:50.708Z"
   },
   {
    "duration": 22,
    "start_time": "2022-03-14T07:30:50.774Z"
   },
   {
    "duration": 29,
    "start_time": "2022-03-14T07:30:50.799Z"
   },
   {
    "duration": 913,
    "start_time": "2022-03-14T07:30:50.830Z"
   },
   {
    "duration": 18,
    "start_time": "2022-03-14T07:30:51.746Z"
   },
   {
    "duration": 19,
    "start_time": "2022-03-14T07:30:51.766Z"
   },
   {
    "duration": 187,
    "start_time": "2022-03-14T07:30:51.787Z"
   },
   {
    "duration": 18,
    "start_time": "2022-03-14T07:30:51.976Z"
   },
   {
    "duration": 7,
    "start_time": "2022-03-14T07:30:51.996Z"
   },
   {
    "duration": 15,
    "start_time": "2022-03-14T07:30:52.005Z"
   },
   {
    "duration": 8,
    "start_time": "2022-03-14T07:30:52.051Z"
   },
   {
    "duration": 16,
    "start_time": "2022-03-14T07:30:52.063Z"
   },
   {
    "duration": 13,
    "start_time": "2022-03-14T07:30:52.082Z"
   },
   {
    "duration": 76,
    "start_time": "2022-03-14T07:30:52.097Z"
   },
   {
    "duration": 245,
    "start_time": "2022-03-14T07:30:52.175Z"
   },
   {
    "duration": 49,
    "start_time": "2022-03-14T07:30:52.423Z"
   },
   {
    "duration": 23,
    "start_time": "2022-03-14T07:30:52.475Z"
   },
   {
    "duration": 46,
    "start_time": "2022-03-14T07:30:52.505Z"
   },
   {
    "duration": 159,
    "start_time": "2022-03-14T07:30:52.554Z"
   },
   {
    "duration": 20,
    "start_time": "2022-03-14T07:30:52.715Z"
   },
   {
    "duration": 720,
    "start_time": "2022-03-14T07:30:52.752Z"
   },
   {
    "duration": 23,
    "start_time": "2022-03-14T07:30:53.474Z"
   },
   {
    "duration": 53,
    "start_time": "2022-03-14T07:30:53.500Z"
   },
   {
    "duration": 105,
    "start_time": "2022-03-14T07:30:53.556Z"
   },
   {
    "duration": 34,
    "start_time": "2022-03-14T07:30:53.663Z"
   },
   {
    "duration": 55,
    "start_time": "2022-03-14T07:30:53.700Z"
   },
   {
    "duration": 26,
    "start_time": "2022-03-14T07:30:53.758Z"
   },
   {
    "duration": 15,
    "start_time": "2022-03-14T07:30:53.787Z"
   },
   {
    "duration": 416,
    "start_time": "2022-03-14T07:30:53.805Z"
   },
   {
    "duration": 28,
    "start_time": "2022-03-14T07:30:54.223Z"
   },
   {
    "duration": 33,
    "start_time": "2022-03-14T07:31:35.119Z"
   },
   {
    "duration": 23,
    "start_time": "2022-03-14T07:33:27.351Z"
   },
   {
    "duration": 32,
    "start_time": "2022-03-14T07:34:44.431Z"
   },
   {
    "duration": 120,
    "start_time": "2022-03-14T07:38:56.349Z"
   },
   {
    "duration": 1989,
    "start_time": "2022-03-14T07:39:32.240Z"
   },
   {
    "duration": 142,
    "start_time": "2022-03-14T07:39:34.232Z"
   },
   {
    "duration": 19,
    "start_time": "2022-03-14T07:39:34.377Z"
   },
   {
    "duration": 4,
    "start_time": "2022-03-14T07:39:34.399Z"
   },
   {
    "duration": 50,
    "start_time": "2022-03-14T07:39:34.406Z"
   },
   {
    "duration": 10,
    "start_time": "2022-03-14T07:39:34.458Z"
   },
   {
    "duration": 32,
    "start_time": "2022-03-14T07:39:34.470Z"
   },
   {
    "duration": 6,
    "start_time": "2022-03-14T07:39:34.504Z"
   },
   {
    "duration": 12,
    "start_time": "2022-03-14T07:39:34.550Z"
   },
   {
    "duration": 11,
    "start_time": "2022-03-14T07:39:34.565Z"
   },
   {
    "duration": 6,
    "start_time": "2022-03-14T07:39:34.578Z"
   },
   {
    "duration": 63,
    "start_time": "2022-03-14T07:39:34.588Z"
   },
   {
    "duration": 4,
    "start_time": "2022-03-14T07:39:34.653Z"
   },
   {
    "duration": 923,
    "start_time": "2022-03-14T07:39:34.659Z"
   },
   {
    "duration": 15,
    "start_time": "2022-03-14T07:39:35.585Z"
   },
   {
    "duration": 30,
    "start_time": "2022-03-14T07:39:35.603Z"
   },
   {
    "duration": 175,
    "start_time": "2022-03-14T07:39:35.636Z"
   },
   {
    "duration": 38,
    "start_time": "2022-03-14T07:39:35.813Z"
   },
   {
    "duration": 6,
    "start_time": "2022-03-14T07:39:35.854Z"
   },
   {
    "duration": 39,
    "start_time": "2022-03-14T07:39:35.862Z"
   },
   {
    "duration": 25,
    "start_time": "2022-03-14T07:39:35.904Z"
   },
   {
    "duration": 42,
    "start_time": "2022-03-14T07:39:35.931Z"
   },
   {
    "duration": 32,
    "start_time": "2022-03-14T07:39:35.976Z"
   },
   {
    "duration": 50,
    "start_time": "2022-03-14T07:39:36.010Z"
   },
   {
    "duration": 242,
    "start_time": "2022-03-14T07:39:36.062Z"
   },
   {
    "duration": 52,
    "start_time": "2022-03-14T07:39:36.307Z"
   },
   {
    "duration": 24,
    "start_time": "2022-03-14T07:39:36.365Z"
   },
   {
    "duration": 31,
    "start_time": "2022-03-14T07:39:36.392Z"
   },
   {
    "duration": 210,
    "start_time": "2022-03-14T07:39:36.426Z"
   },
   {
    "duration": 28,
    "start_time": "2022-03-14T07:39:36.639Z"
   },
   {
    "duration": 590,
    "start_time": "2022-03-14T07:39:36.669Z"
   },
   {
    "duration": 22,
    "start_time": "2022-03-14T07:39:37.261Z"
   },
   {
    "duration": 27,
    "start_time": "2022-03-14T07:39:37.286Z"
   },
   {
    "duration": 120,
    "start_time": "2022-03-14T07:39:37.315Z"
   },
   {
    "duration": 47,
    "start_time": "2022-03-14T07:39:37.438Z"
   },
   {
    "duration": 24,
    "start_time": "2022-03-14T07:39:37.487Z"
   },
   {
    "duration": 50,
    "start_time": "2022-03-14T07:39:37.513Z"
   },
   {
    "duration": 15,
    "start_time": "2022-03-14T07:39:37.565Z"
   },
   {
    "duration": 441,
    "start_time": "2022-03-14T07:39:37.582Z"
   },
   {
    "duration": 27,
    "start_time": "2022-03-14T07:39:38.025Z"
   },
   {
    "duration": 34,
    "start_time": "2022-03-14T07:39:38.054Z"
   },
   {
    "duration": 24,
    "start_time": "2022-03-14T07:39:38.091Z"
   },
   {
    "duration": 60,
    "start_time": "2022-03-14T07:39:38.117Z"
   },
   {
    "duration": 126,
    "start_time": "2022-03-14T07:39:38.179Z"
   },
   {
    "duration": 3,
    "start_time": "2022-03-14T07:42:31.252Z"
   },
   {
    "duration": 139,
    "start_time": "2022-03-14T07:44:32.778Z"
   },
   {
    "duration": 1961,
    "start_time": "2022-03-14T07:46:15.304Z"
   },
   {
    "duration": 132,
    "start_time": "2022-03-14T07:46:17.268Z"
   },
   {
    "duration": 18,
    "start_time": "2022-03-14T07:46:17.403Z"
   },
   {
    "duration": 29,
    "start_time": "2022-03-14T07:46:17.423Z"
   },
   {
    "duration": 14,
    "start_time": "2022-03-14T07:46:17.455Z"
   },
   {
    "duration": 14,
    "start_time": "2022-03-14T07:46:17.472Z"
   },
   {
    "duration": 68,
    "start_time": "2022-03-14T07:46:17.488Z"
   },
   {
    "duration": 7,
    "start_time": "2022-03-14T07:46:17.558Z"
   },
   {
    "duration": 27,
    "start_time": "2022-03-14T07:46:17.568Z"
   },
   {
    "duration": 23,
    "start_time": "2022-03-14T07:46:17.598Z"
   },
   {
    "duration": 20,
    "start_time": "2022-03-14T07:46:17.624Z"
   },
   {
    "duration": 28,
    "start_time": "2022-03-14T07:46:17.646Z"
   },
   {
    "duration": 20,
    "start_time": "2022-03-14T07:46:17.677Z"
   },
   {
    "duration": 943,
    "start_time": "2022-03-14T07:46:17.700Z"
   },
   {
    "duration": 13,
    "start_time": "2022-03-14T07:46:18.651Z"
   },
   {
    "duration": 20,
    "start_time": "2022-03-14T07:46:18.667Z"
   },
   {
    "duration": 193,
    "start_time": "2022-03-14T07:46:18.691Z"
   },
   {
    "duration": 22,
    "start_time": "2022-03-14T07:46:18.888Z"
   },
   {
    "duration": 7,
    "start_time": "2022-03-14T07:46:18.913Z"
   },
   {
    "duration": 41,
    "start_time": "2022-03-14T07:46:18.923Z"
   },
   {
    "duration": 10,
    "start_time": "2022-03-14T07:46:18.967Z"
   },
   {
    "duration": 12,
    "start_time": "2022-03-14T07:46:18.979Z"
   },
   {
    "duration": 13,
    "start_time": "2022-03-14T07:46:18.994Z"
   },
   {
    "duration": 42,
    "start_time": "2022-03-14T07:46:19.051Z"
   },
   {
    "duration": 259,
    "start_time": "2022-03-14T07:46:19.095Z"
   },
   {
    "duration": 38,
    "start_time": "2022-03-14T07:46:19.357Z"
   },
   {
    "duration": 51,
    "start_time": "2022-03-14T07:46:19.400Z"
   },
   {
    "duration": 24,
    "start_time": "2022-03-14T07:46:19.454Z"
   },
   {
    "duration": 188,
    "start_time": "2022-03-14T07:46:19.481Z"
   },
   {
    "duration": 21,
    "start_time": "2022-03-14T07:46:19.672Z"
   },
   {
    "duration": 629,
    "start_time": "2022-03-14T07:46:19.697Z"
   },
   {
    "duration": 38,
    "start_time": "2022-03-14T07:46:20.329Z"
   },
   {
    "duration": 30,
    "start_time": "2022-03-14T07:46:20.370Z"
   },
   {
    "duration": 127,
    "start_time": "2022-03-14T07:46:20.402Z"
   },
   {
    "duration": 43,
    "start_time": "2022-03-14T07:46:20.531Z"
   },
   {
    "duration": 24,
    "start_time": "2022-03-14T07:46:20.577Z"
   },
   {
    "duration": 49,
    "start_time": "2022-03-14T07:46:20.603Z"
   },
   {
    "duration": 16,
    "start_time": "2022-03-14T07:46:20.655Z"
   },
   {
    "duration": 422,
    "start_time": "2022-03-14T07:46:20.674Z"
   },
   {
    "duration": 14,
    "start_time": "2022-03-14T07:46:21.099Z"
   },
   {
    "duration": 55,
    "start_time": "2022-03-14T07:46:21.115Z"
   },
   {
    "duration": 24,
    "start_time": "2022-03-14T07:46:21.172Z"
   },
   {
    "duration": 60,
    "start_time": "2022-03-14T07:46:21.198Z"
   },
   {
    "duration": 131,
    "start_time": "2022-03-14T07:46:21.260Z"
   },
   {
    "duration": 147,
    "start_time": "2022-03-14T07:46:21.393Z"
   },
   {
    "duration": 8,
    "start_time": "2022-03-14T07:48:56.018Z"
   },
   {
    "duration": 36,
    "start_time": "2022-03-14T07:49:37.618Z"
   },
   {
    "duration": 28,
    "start_time": "2022-03-14T07:50:17.569Z"
   },
   {
    "duration": 32,
    "start_time": "2022-03-14T07:50:33.670Z"
   },
   {
    "duration": 23,
    "start_time": "2022-03-14T07:52:23.808Z"
   },
   {
    "duration": 802,
    "start_time": "2022-03-14T07:53:44.425Z"
   },
   {
    "duration": 16,
    "start_time": "2022-03-14T07:54:44.831Z"
   },
   {
    "duration": 16,
    "start_time": "2022-03-14T07:57:50.465Z"
   },
   {
    "duration": 17,
    "start_time": "2022-03-14T07:59:37.468Z"
   },
   {
    "duration": 114,
    "start_time": "2022-03-14T08:20:12.797Z"
   },
   {
    "duration": 102,
    "start_time": "2022-03-14T08:24:39.212Z"
   },
   {
    "duration": 104,
    "start_time": "2022-03-14T08:27:02.907Z"
   },
   {
    "duration": 402,
    "start_time": "2022-03-14T08:29:42.641Z"
   },
   {
    "duration": 92,
    "start_time": "2022-03-14T08:30:37.993Z"
   },
   {
    "duration": 48,
    "start_time": "2022-03-14T08:31:09.808Z"
   },
   {
    "duration": 6,
    "start_time": "2022-03-14T08:33:06.319Z"
   },
   {
    "duration": 8,
    "start_time": "2022-03-14T08:34:24.055Z"
   },
   {
    "duration": 22,
    "start_time": "2022-03-14T08:42:37.141Z"
   },
   {
    "duration": 309,
    "start_time": "2022-03-14T08:53:38.903Z"
   },
   {
    "duration": 560,
    "start_time": "2022-03-14T08:53:53.871Z"
   },
   {
    "duration": 578,
    "start_time": "2022-03-14T08:54:15.255Z"
   },
   {
    "duration": 610,
    "start_time": "2022-03-14T08:54:20.223Z"
   },
   {
    "duration": 25,
    "start_time": "2022-03-14T08:54:27.926Z"
   },
   {
    "duration": 777,
    "start_time": "2022-03-14T08:54:57.056Z"
   },
   {
    "duration": 30,
    "start_time": "2022-03-14T08:54:58.591Z"
   },
   {
    "duration": 3,
    "start_time": "2022-03-14T09:26:43.586Z"
   },
   {
    "duration": 3,
    "start_time": "2022-03-14T09:31:50.943Z"
   },
   {
    "duration": 29,
    "start_time": "2022-03-14T09:32:10.300Z"
   },
   {
    "duration": 31,
    "start_time": "2022-03-14T09:34:10.142Z"
   },
   {
    "duration": 11,
    "start_time": "2022-03-14T09:34:53.590Z"
   },
   {
    "duration": 21,
    "start_time": "2022-03-14T09:35:07.421Z"
   },
   {
    "duration": 25,
    "start_time": "2022-03-14T09:35:31.248Z"
   },
   {
    "duration": 19,
    "start_time": "2022-03-14T09:35:42.237Z"
   },
   {
    "duration": 367,
    "start_time": "2022-03-14T09:36:58.518Z"
   },
   {
    "duration": 288,
    "start_time": "2022-03-14T09:37:05.294Z"
   },
   {
    "duration": 1835,
    "start_time": "2022-03-14T09:37:14.581Z"
   },
   {
    "duration": 8,
    "start_time": "2022-03-14T09:37:40.365Z"
   },
   {
    "duration": 34,
    "start_time": "2022-03-14T09:40:09.868Z"
   },
   {
    "duration": 7752,
    "start_time": "2022-03-14T09:41:10.843Z"
   },
   {
    "duration": 859,
    "start_time": "2022-03-14T09:41:27.484Z"
   },
   {
    "duration": 25,
    "start_time": "2022-03-14T10:41:40.973Z"
   },
   {
    "duration": 10,
    "start_time": "2022-03-14T10:42:10.693Z"
   },
   {
    "duration": 15,
    "start_time": "2022-03-14T10:42:17.404Z"
   },
   {
    "duration": 15,
    "start_time": "2022-03-14T10:42:20.732Z"
   },
   {
    "duration": 11,
    "start_time": "2022-03-14T10:42:28.404Z"
   },
   {
    "duration": 2353,
    "start_time": "2022-03-14T10:45:11.317Z"
   },
   {
    "duration": 10,
    "start_time": "2022-03-14T10:46:17.996Z"
   },
   {
    "duration": 3,
    "start_time": "2022-03-14T10:46:42.363Z"
   },
   {
    "duration": 26,
    "start_time": "2022-03-14T10:47:07.474Z"
   },
   {
    "duration": 250,
    "start_time": "2022-03-14T10:47:51.134Z"
   },
   {
    "duration": 261,
    "start_time": "2022-03-14T10:47:55.651Z"
   },
   {
    "duration": 3014,
    "start_time": "2022-03-14T10:48:04.476Z"
   },
   {
    "duration": 70,
    "start_time": "2022-03-14T10:49:43.522Z"
   },
   {
    "duration": 16,
    "start_time": "2022-03-14T10:50:09.724Z"
   },
   {
    "duration": 4,
    "start_time": "2022-03-14T10:51:05.227Z"
   },
   {
    "duration": 6,
    "start_time": "2022-03-14T10:52:38.737Z"
   },
   {
    "duration": 3,
    "start_time": "2022-03-14T10:52:44.249Z"
   },
   {
    "duration": 3,
    "start_time": "2022-03-14T10:53:33.609Z"
   },
   {
    "duration": 27,
    "start_time": "2022-03-14T10:53:51.553Z"
   },
   {
    "duration": 11,
    "start_time": "2022-03-14T10:54:24.761Z"
   },
   {
    "duration": 6,
    "start_time": "2022-03-14T10:54:46.729Z"
   },
   {
    "duration": 7,
    "start_time": "2022-03-14T10:55:05.712Z"
   },
   {
    "duration": 129,
    "start_time": "2022-03-14T10:55:15.344Z"
   },
   {
    "duration": 12,
    "start_time": "2022-03-14T11:02:58.549Z"
   },
   {
    "duration": 5,
    "start_time": "2022-03-14T11:03:13.245Z"
   },
   {
    "duration": 8,
    "start_time": "2022-03-14T11:03:37.765Z"
   },
   {
    "duration": 5,
    "start_time": "2022-03-14T11:03:56.957Z"
   },
   {
    "duration": 19,
    "start_time": "2022-03-14T11:04:02.669Z"
   },
   {
    "duration": 1886,
    "start_time": "2022-03-14T12:28:12.829Z"
   },
   {
    "duration": 135,
    "start_time": "2022-03-14T12:29:37.216Z"
   },
   {
    "duration": 363,
    "start_time": "2022-03-14T12:41:46.811Z"
   },
   {
    "duration": 2485,
    "start_time": "2022-03-14T12:41:55.225Z"
   },
   {
    "duration": 178,
    "start_time": "2022-03-14T12:41:57.713Z"
   },
   {
    "duration": 23,
    "start_time": "2022-03-14T12:41:57.894Z"
   },
   {
    "duration": 4,
    "start_time": "2022-03-14T12:43:50.655Z"
   },
   {
    "duration": 17,
    "start_time": "2022-03-14T12:44:03.374Z"
   },
   {
    "duration": 12,
    "start_time": "2022-03-14T12:45:03.261Z"
   },
   {
    "duration": 41,
    "start_time": "2022-03-14T12:45:27.742Z"
   },
   {
    "duration": 31,
    "start_time": "2022-03-14T12:46:58.651Z"
   },
   {
    "duration": 377,
    "start_time": "2022-03-14T16:31:37.325Z"
   },
   {
    "duration": 2458,
    "start_time": "2022-03-14T16:31:45.594Z"
   },
   {
    "duration": 203,
    "start_time": "2022-03-14T16:31:48.055Z"
   },
   {
    "duration": 21,
    "start_time": "2022-03-14T16:31:48.262Z"
   },
   {
    "duration": 11,
    "start_time": "2022-03-14T16:31:48.286Z"
   },
   {
    "duration": 53,
    "start_time": "2022-03-14T16:31:48.300Z"
   },
   {
    "duration": 20,
    "start_time": "2022-03-14T16:31:48.356Z"
   },
   {
    "duration": 52,
    "start_time": "2022-03-14T16:31:48.379Z"
   },
   {
    "duration": 12,
    "start_time": "2022-03-14T16:31:48.436Z"
   },
   {
    "duration": 6,
    "start_time": "2022-03-14T16:31:51.029Z"
   },
   {
    "duration": 12,
    "start_time": "2022-03-14T16:31:53.129Z"
   },
   {
    "duration": 16,
    "start_time": "2022-03-14T16:32:26.334Z"
   },
   {
    "duration": 8,
    "start_time": "2022-03-14T16:32:38.393Z"
   },
   {
    "duration": 22,
    "start_time": "2022-03-14T16:33:32.954Z"
   },
   {
    "duration": 5,
    "start_time": "2022-03-14T16:33:38.306Z"
   },
   {
    "duration": 1027,
    "start_time": "2022-03-14T16:33:40.978Z"
   },
   {
    "duration": 17,
    "start_time": "2022-03-14T16:33:45.798Z"
   },
   {
    "duration": 2402,
    "start_time": "2022-03-14T16:34:30.505Z"
   },
   {
    "duration": 151,
    "start_time": "2022-03-14T16:34:32.911Z"
   },
   {
    "duration": 23,
    "start_time": "2022-03-14T16:34:33.065Z"
   },
   {
    "duration": 5,
    "start_time": "2022-03-14T16:34:33.090Z"
   },
   {
    "duration": 58,
    "start_time": "2022-03-14T16:34:33.098Z"
   },
   {
    "duration": 11,
    "start_time": "2022-03-14T16:34:33.159Z"
   },
   {
    "duration": 34,
    "start_time": "2022-03-14T16:34:33.173Z"
   },
   {
    "duration": 33,
    "start_time": "2022-03-14T16:34:33.211Z"
   },
   {
    "duration": 13,
    "start_time": "2022-03-14T16:34:33.247Z"
   },
   {
    "duration": 13,
    "start_time": "2022-03-14T16:34:33.262Z"
   },
   {
    "duration": 6,
    "start_time": "2022-03-14T16:34:33.277Z"
   },
   {
    "duration": 70,
    "start_time": "2022-03-14T16:34:33.286Z"
   },
   {
    "duration": 3,
    "start_time": "2022-03-14T16:34:33.359Z"
   },
   {
    "duration": 952,
    "start_time": "2022-03-14T16:34:33.365Z"
   },
   {
    "duration": 25,
    "start_time": "2022-03-14T16:34:34.320Z"
   },
   {
    "duration": 18,
    "start_time": "2022-03-14T16:35:11.211Z"
   },
   {
    "duration": 221,
    "start_time": "2022-03-14T16:35:13.735Z"
   },
   {
    "duration": 18,
    "start_time": "2022-03-14T16:35:39.511Z"
   },
   {
    "duration": 21,
    "start_time": "2022-03-14T16:36:08.503Z"
   },
   {
    "duration": 6,
    "start_time": "2022-03-14T16:36:13.523Z"
   },
   {
    "duration": 16,
    "start_time": "2022-03-14T16:36:15.167Z"
   },
   {
    "duration": 8,
    "start_time": "2022-03-14T16:36:45.619Z"
   },
   {
    "duration": 2134,
    "start_time": "2022-03-14T16:38:00.541Z"
   },
   {
    "duration": 126,
    "start_time": "2022-03-14T16:38:02.678Z"
   },
   {
    "duration": 49,
    "start_time": "2022-03-14T16:38:02.808Z"
   },
   {
    "duration": 4,
    "start_time": "2022-03-14T16:38:02.860Z"
   },
   {
    "duration": 16,
    "start_time": "2022-03-14T16:38:02.866Z"
   },
   {
    "duration": 10,
    "start_time": "2022-03-14T16:38:02.885Z"
   },
   {
    "duration": 77,
    "start_time": "2022-03-14T16:38:02.897Z"
   },
   {
    "duration": 7,
    "start_time": "2022-03-14T16:38:02.977Z"
   },
   {
    "duration": 16,
    "start_time": "2022-03-14T16:38:02.987Z"
   },
   {
    "duration": 45,
    "start_time": "2022-03-14T16:38:03.005Z"
   },
   {
    "duration": 6,
    "start_time": "2022-03-14T16:38:03.053Z"
   },
   {
    "duration": 27,
    "start_time": "2022-03-14T16:38:03.062Z"
   },
   {
    "duration": 6,
    "start_time": "2022-03-14T16:38:03.092Z"
   },
   {
    "duration": 1064,
    "start_time": "2022-03-14T16:38:03.101Z"
   },
   {
    "duration": 17,
    "start_time": "2022-03-14T16:38:04.168Z"
   },
   {
    "duration": 55,
    "start_time": "2022-03-14T16:38:04.188Z"
   },
   {
    "duration": 178,
    "start_time": "2022-03-14T16:38:04.245Z"
   },
   {
    "duration": 31,
    "start_time": "2022-03-14T16:38:04.426Z"
   },
   {
    "duration": 5,
    "start_time": "2022-03-14T16:38:04.460Z"
   },
   {
    "duration": 16,
    "start_time": "2022-03-14T16:38:04.468Z"
   },
   {
    "duration": 6,
    "start_time": "2022-03-14T16:38:07.860Z"
   },
   {
    "duration": 14,
    "start_time": "2022-03-14T16:38:09.357Z"
   },
   {
    "duration": 9,
    "start_time": "2022-03-14T16:38:14.448Z"
   },
   {
    "duration": 10,
    "start_time": "2022-03-14T16:38:18.020Z"
   },
   {
    "duration": 11,
    "start_time": "2022-03-14T16:38:50.865Z"
   },
   {
    "duration": 2116,
    "start_time": "2022-03-14T16:39:21.180Z"
   },
   {
    "duration": 163,
    "start_time": "2022-03-14T16:39:23.299Z"
   },
   {
    "duration": 24,
    "start_time": "2022-03-14T16:39:23.469Z"
   },
   {
    "duration": 8,
    "start_time": "2022-03-14T16:39:23.496Z"
   },
   {
    "duration": 47,
    "start_time": "2022-03-14T16:39:23.507Z"
   },
   {
    "duration": 10,
    "start_time": "2022-03-14T16:39:23.556Z"
   },
   {
    "duration": 37,
    "start_time": "2022-03-14T16:39:23.570Z"
   },
   {
    "duration": 7,
    "start_time": "2022-03-14T16:39:23.644Z"
   },
   {
    "duration": 20,
    "start_time": "2022-03-14T16:39:23.654Z"
   },
   {
    "duration": 12,
    "start_time": "2022-03-14T16:39:23.677Z"
   },
   {
    "duration": 16,
    "start_time": "2022-03-14T16:39:23.692Z"
   },
   {
    "duration": 55,
    "start_time": "2022-03-14T16:39:23.711Z"
   },
   {
    "duration": 14,
    "start_time": "2022-03-14T16:39:23.768Z"
   },
   {
    "duration": 1377,
    "start_time": "2022-03-14T16:39:23.785Z"
   },
   {
    "duration": 13,
    "start_time": "2022-03-14T16:39:25.165Z"
   },
   {
    "duration": 17,
    "start_time": "2022-03-14T16:39:25.180Z"
   },
   {
    "duration": 210,
    "start_time": "2022-03-14T16:39:25.200Z"
   },
   {
    "duration": 44,
    "start_time": "2022-03-14T16:39:25.412Z"
   },
   {
    "duration": 7,
    "start_time": "2022-03-14T16:39:25.459Z"
   },
   {
    "duration": 15,
    "start_time": "2022-03-14T16:39:25.468Z"
   },
   {
    "duration": 8,
    "start_time": "2022-03-14T16:39:25.486Z"
   },
   {
    "duration": 49,
    "start_time": "2022-03-14T16:39:25.497Z"
   },
   {
    "duration": 14,
    "start_time": "2022-03-14T16:39:25.549Z"
   },
   {
    "duration": 60,
    "start_time": "2022-03-14T16:40:04.902Z"
   },
   {
    "duration": 231,
    "start_time": "2022-03-14T16:40:28.115Z"
   },
   {
    "duration": 358,
    "start_time": "2022-03-14T16:40:44.859Z"
   },
   {
    "duration": 44,
    "start_time": "2022-03-14T16:41:10.171Z"
   },
   {
    "duration": 27,
    "start_time": "2022-03-14T16:41:12.967Z"
   },
   {
    "duration": 26,
    "start_time": "2022-03-14T16:42:10.635Z"
   },
   {
    "duration": 169,
    "start_time": "2022-03-14T16:42:29.975Z"
   },
   {
    "duration": 21,
    "start_time": "2022-03-14T16:42:53.584Z"
   },
   {
    "duration": 23,
    "start_time": "2022-03-14T16:43:57.957Z"
   },
   {
    "duration": 433,
    "start_time": "2022-03-14T16:45:39.664Z"
   },
   {
    "duration": 2300,
    "start_time": "2022-03-14T16:45:50.681Z"
   },
   {
    "duration": 123,
    "start_time": "2022-03-14T16:45:52.984Z"
   },
   {
    "duration": 19,
    "start_time": "2022-03-14T16:45:53.110Z"
   },
   {
    "duration": 12,
    "start_time": "2022-03-14T16:45:53.132Z"
   },
   {
    "duration": 15,
    "start_time": "2022-03-14T16:45:53.146Z"
   },
   {
    "duration": 11,
    "start_time": "2022-03-14T16:45:53.164Z"
   },
   {
    "duration": 41,
    "start_time": "2022-03-14T16:45:53.177Z"
   },
   {
    "duration": 6,
    "start_time": "2022-03-14T16:45:53.223Z"
   },
   {
    "duration": 21,
    "start_time": "2022-03-14T16:45:53.232Z"
   },
   {
    "duration": 13,
    "start_time": "2022-03-14T16:45:53.255Z"
   },
   {
    "duration": 6,
    "start_time": "2022-03-14T16:45:53.271Z"
   },
   {
    "duration": 71,
    "start_time": "2022-03-14T16:45:53.279Z"
   },
   {
    "duration": 4,
    "start_time": "2022-03-14T16:45:53.352Z"
   },
   {
    "duration": 1309,
    "start_time": "2022-03-14T16:45:53.358Z"
   },
   {
    "duration": 13,
    "start_time": "2022-03-14T16:45:54.670Z"
   },
   {
    "duration": 18,
    "start_time": "2022-03-14T16:45:54.686Z"
   },
   {
    "duration": 203,
    "start_time": "2022-03-14T16:45:54.707Z"
   },
   {
    "duration": 37,
    "start_time": "2022-03-14T16:45:54.912Z"
   },
   {
    "duration": 5,
    "start_time": "2022-03-14T16:45:54.952Z"
   },
   {
    "duration": 15,
    "start_time": "2022-03-14T16:45:54.959Z"
   },
   {
    "duration": 11,
    "start_time": "2022-03-14T16:45:54.976Z"
   },
   {
    "duration": 17,
    "start_time": "2022-03-14T16:45:54.990Z"
   },
   {
    "duration": 14,
    "start_time": "2022-03-14T16:45:55.047Z"
   },
   {
    "duration": 44,
    "start_time": "2022-03-14T16:45:55.064Z"
   },
   {
    "duration": 319,
    "start_time": "2022-03-14T16:45:55.112Z"
   },
   {
    "duration": 48,
    "start_time": "2022-03-14T16:45:55.434Z"
   },
   {
    "duration": 23,
    "start_time": "2022-03-14T16:45:55.484Z"
   },
   {
    "duration": 47,
    "start_time": "2022-03-14T16:45:55.509Z"
   },
   {
    "duration": 178,
    "start_time": "2022-03-14T16:45:55.559Z"
   },
   {
    "duration": 26,
    "start_time": "2022-03-14T16:45:55.743Z"
   },
   {
    "duration": 30,
    "start_time": "2022-03-14T16:45:55.772Z"
   },
   {
    "duration": 42,
    "start_time": "2022-03-14T16:46:00.914Z"
   },
   {
    "duration": 97,
    "start_time": "2022-03-14T16:46:11.436Z"
   },
   {
    "duration": 144,
    "start_time": "2022-03-14T16:46:17.245Z"
   },
   {
    "duration": 205,
    "start_time": "2022-03-14T16:46:24.989Z"
   },
   {
    "duration": 35,
    "start_time": "2022-03-14T16:46:30.605Z"
   },
   {
    "duration": 26,
    "start_time": "2022-03-14T16:46:40.345Z"
   },
   {
    "duration": 26,
    "start_time": "2022-03-14T16:46:42.365Z"
   },
   {
    "duration": 15,
    "start_time": "2022-03-14T16:46:59.078Z"
   },
   {
    "duration": 2093,
    "start_time": "2022-03-14T16:47:49.127Z"
   },
   {
    "duration": 190,
    "start_time": "2022-03-14T16:47:51.223Z"
   },
   {
    "duration": 45,
    "start_time": "2022-03-14T16:47:51.416Z"
   },
   {
    "duration": 12,
    "start_time": "2022-03-14T16:47:51.464Z"
   },
   {
    "duration": 27,
    "start_time": "2022-03-14T16:47:51.479Z"
   },
   {
    "duration": 38,
    "start_time": "2022-03-14T16:47:51.508Z"
   },
   {
    "duration": 54,
    "start_time": "2022-03-14T16:47:51.549Z"
   },
   {
    "duration": 7,
    "start_time": "2022-03-14T16:47:51.606Z"
   },
   {
    "duration": 36,
    "start_time": "2022-03-14T16:47:51.616Z"
   },
   {
    "duration": 41,
    "start_time": "2022-03-14T16:47:51.654Z"
   },
   {
    "duration": 24,
    "start_time": "2022-03-14T16:47:51.697Z"
   },
   {
    "duration": 35,
    "start_time": "2022-03-14T16:47:51.724Z"
   },
   {
    "duration": 15,
    "start_time": "2022-03-14T16:47:51.761Z"
   },
   {
    "duration": 975,
    "start_time": "2022-03-14T16:47:51.778Z"
   },
   {
    "duration": 13,
    "start_time": "2022-03-14T16:47:52.756Z"
   },
   {
    "duration": 16,
    "start_time": "2022-03-14T16:47:52.771Z"
   },
   {
    "duration": 189,
    "start_time": "2022-03-14T16:47:52.790Z"
   },
   {
    "duration": 22,
    "start_time": "2022-03-14T16:47:52.982Z"
   },
   {
    "duration": 8,
    "start_time": "2022-03-14T16:47:53.007Z"
   },
   {
    "duration": 12,
    "start_time": "2022-03-14T16:47:53.044Z"
   },
   {
    "duration": 10,
    "start_time": "2022-03-14T16:47:53.059Z"
   },
   {
    "duration": 13,
    "start_time": "2022-03-14T16:47:53.071Z"
   },
   {
    "duration": 13,
    "start_time": "2022-03-14T16:47:53.090Z"
   },
   {
    "duration": 61,
    "start_time": "2022-03-14T16:47:53.145Z"
   },
   {
    "duration": 434,
    "start_time": "2022-03-14T16:47:53.209Z"
   },
   {
    "duration": 42,
    "start_time": "2022-03-14T16:47:53.645Z"
   },
   {
    "duration": 53,
    "start_time": "2022-03-14T16:47:53.690Z"
   },
   {
    "duration": 23,
    "start_time": "2022-03-14T16:47:53.745Z"
   },
   {
    "duration": 285,
    "start_time": "2022-03-14T16:47:53.771Z"
   },
   {
    "duration": 24,
    "start_time": "2022-03-14T16:47:54.059Z"
   },
   {
    "duration": 23,
    "start_time": "2022-03-14T16:47:54.087Z"
   },
   {
    "duration": 72,
    "start_time": "2022-03-14T16:47:54.113Z"
   },
   {
    "duration": 212,
    "start_time": "2022-03-14T16:47:54.188Z"
   },
   {
    "duration": 45,
    "start_time": "2022-03-14T16:47:54.402Z"
   },
   {
    "duration": 25,
    "start_time": "2022-03-14T16:47:54.449Z"
   },
   {
    "duration": 26,
    "start_time": "2022-03-14T16:47:54.476Z"
   },
   {
    "duration": 48,
    "start_time": "2022-03-14T16:47:54.505Z"
   },
   {
    "duration": 16,
    "start_time": "2022-03-14T16:47:56.733Z"
   },
   {
    "duration": 37,
    "start_time": "2022-03-14T16:47:58.673Z"
   },
   {
    "duration": 35,
    "start_time": "2022-03-14T16:49:06.850Z"
   },
   {
    "duration": 47,
    "start_time": "2022-03-14T16:49:21.778Z"
   },
   {
    "duration": 157,
    "start_time": "2022-03-14T16:49:57.830Z"
   },
   {
    "duration": 185,
    "start_time": "2022-03-14T16:50:07.177Z"
   },
   {
    "duration": 252,
    "start_time": "2022-03-14T16:50:24.751Z"
   },
   {
    "duration": 8,
    "start_time": "2022-03-14T16:51:03.856Z"
   },
   {
    "duration": 56,
    "start_time": "2022-03-14T16:51:08.330Z"
   },
   {
    "duration": 28,
    "start_time": "2022-03-14T16:51:11.798Z"
   },
   {
    "duration": 33,
    "start_time": "2022-03-14T16:51:18.895Z"
   },
   {
    "duration": 19,
    "start_time": "2022-03-14T16:51:53.594Z"
   },
   {
    "duration": 18,
    "start_time": "2022-03-14T16:52:32.963Z"
   },
   {
    "duration": 22,
    "start_time": "2022-03-14T16:53:20.291Z"
   },
   {
    "duration": 2492,
    "start_time": "2022-03-14T16:54:37.034Z"
   },
   {
    "duration": 181,
    "start_time": "2022-03-14T16:54:39.529Z"
   },
   {
    "duration": 45,
    "start_time": "2022-03-14T16:54:39.713Z"
   },
   {
    "duration": 5,
    "start_time": "2022-03-14T16:54:39.761Z"
   },
   {
    "duration": 22,
    "start_time": "2022-03-14T16:54:39.769Z"
   },
   {
    "duration": 9,
    "start_time": "2022-03-14T16:54:39.794Z"
   },
   {
    "duration": 68,
    "start_time": "2022-03-14T16:54:39.805Z"
   },
   {
    "duration": 6,
    "start_time": "2022-03-14T16:54:39.877Z"
   },
   {
    "duration": 17,
    "start_time": "2022-03-14T16:54:39.885Z"
   },
   {
    "duration": 40,
    "start_time": "2022-03-14T16:54:39.904Z"
   },
   {
    "duration": 7,
    "start_time": "2022-03-14T16:54:39.947Z"
   },
   {
    "duration": 25,
    "start_time": "2022-03-14T16:54:39.956Z"
   },
   {
    "duration": 6,
    "start_time": "2022-03-14T16:54:39.984Z"
   },
   {
    "duration": 1013,
    "start_time": "2022-03-14T16:54:39.992Z"
   },
   {
    "duration": 18,
    "start_time": "2022-03-14T16:54:41.008Z"
   },
   {
    "duration": 20,
    "start_time": "2022-03-14T16:54:41.043Z"
   },
   {
    "duration": 214,
    "start_time": "2022-03-14T16:54:41.066Z"
   },
   {
    "duration": 19,
    "start_time": "2022-03-14T16:54:41.283Z"
   },
   {
    "duration": 5,
    "start_time": "2022-03-14T16:54:41.305Z"
   },
   {
    "duration": 41,
    "start_time": "2022-03-14T16:54:41.313Z"
   },
   {
    "duration": 13,
    "start_time": "2022-03-14T16:54:41.357Z"
   },
   {
    "duration": 9,
    "start_time": "2022-03-14T16:54:41.372Z"
   },
   {
    "duration": 12,
    "start_time": "2022-03-14T16:54:41.387Z"
   },
   {
    "duration": 82,
    "start_time": "2022-03-14T16:54:41.402Z"
   },
   {
    "duration": 326,
    "start_time": "2022-03-14T16:54:41.486Z"
   },
   {
    "duration": 47,
    "start_time": "2022-03-14T16:54:41.815Z"
   },
   {
    "duration": 24,
    "start_time": "2022-03-14T16:54:41.865Z"
   },
   {
    "duration": 54,
    "start_time": "2022-03-14T16:54:41.892Z"
   },
   {
    "duration": 172,
    "start_time": "2022-03-14T16:54:41.949Z"
   },
   {
    "duration": 29,
    "start_time": "2022-03-14T16:54:42.124Z"
   },
   {
    "duration": 21,
    "start_time": "2022-03-14T16:54:42.155Z"
   },
   {
    "duration": 28,
    "start_time": "2022-03-14T16:54:42.178Z"
   },
   {
    "duration": 165,
    "start_time": "2022-03-14T16:54:42.208Z"
   },
   {
    "duration": 32,
    "start_time": "2022-03-14T16:54:42.375Z"
   },
   {
    "duration": 55,
    "start_time": "2022-03-14T16:54:42.410Z"
   },
   {
    "duration": 33,
    "start_time": "2022-03-14T16:54:42.469Z"
   },
   {
    "duration": 44,
    "start_time": "2022-03-14T16:54:42.505Z"
   },
   {
    "duration": 20,
    "start_time": "2022-03-14T16:54:42.552Z"
   },
   {
    "duration": 72,
    "start_time": "2022-03-14T16:54:42.575Z"
   },
   {
    "duration": 33,
    "start_time": "2022-03-14T16:54:42.650Z"
   },
   {
    "duration": 71,
    "start_time": "2022-03-14T16:54:42.686Z"
   },
   {
    "duration": 207,
    "start_time": "2022-03-14T16:54:42.759Z"
   },
   {
    "duration": 151,
    "start_time": "2022-03-14T16:54:42.969Z"
   },
   {
    "duration": 7,
    "start_time": "2022-03-14T16:54:43.122Z"
   },
   {
    "duration": 41,
    "start_time": "2022-03-14T16:54:43.143Z"
   },
   {
    "duration": 57,
    "start_time": "2022-03-14T16:54:43.186Z"
   },
   {
    "duration": 30,
    "start_time": "2022-03-14T16:54:43.246Z"
   },
   {
    "duration": 20,
    "start_time": "2022-03-14T16:54:43.279Z"
   },
   {
    "duration": 52,
    "start_time": "2022-03-14T16:54:43.301Z"
   },
   {
    "duration": 17,
    "start_time": "2022-03-14T16:54:43.356Z"
   },
   {
    "duration": 119,
    "start_time": "2022-03-14T16:57:47.263Z"
   },
   {
    "duration": 107,
    "start_time": "2022-03-14T16:58:03.511Z"
   },
   {
    "duration": 79,
    "start_time": "2022-03-14T16:58:22.547Z"
   },
   {
    "duration": 50,
    "start_time": "2022-03-14T16:59:49.023Z"
   },
   {
    "duration": 48,
    "start_time": "2022-03-14T16:59:57.708Z"
   },
   {
    "duration": 6,
    "start_time": "2022-03-14T17:00:16.924Z"
   },
   {
    "duration": 9,
    "start_time": "2022-03-14T17:00:38.448Z"
   },
   {
    "duration": 20,
    "start_time": "2022-03-14T17:00:52.924Z"
   },
   {
    "duration": 601,
    "start_time": "2022-03-14T17:02:16.249Z"
   },
   {
    "duration": 26,
    "start_time": "2022-03-14T17:02:27.932Z"
   },
   {
    "duration": 21,
    "start_time": "2022-03-14T17:02:36.921Z"
   },
   {
    "duration": 2062,
    "start_time": "2022-03-14T17:03:19.887Z"
   },
   {
    "duration": 134,
    "start_time": "2022-03-14T17:03:21.952Z"
   },
   {
    "duration": 19,
    "start_time": "2022-03-14T17:03:22.089Z"
   },
   {
    "duration": 33,
    "start_time": "2022-03-14T17:03:22.111Z"
   },
   {
    "duration": 14,
    "start_time": "2022-03-14T17:03:22.147Z"
   },
   {
    "duration": 11,
    "start_time": "2022-03-14T17:03:22.164Z"
   },
   {
    "duration": 69,
    "start_time": "2022-03-14T17:03:22.178Z"
   },
   {
    "duration": 6,
    "start_time": "2022-03-14T17:03:22.251Z"
   },
   {
    "duration": 14,
    "start_time": "2022-03-14T17:03:22.260Z"
   },
   {
    "duration": 13,
    "start_time": "2022-03-14T17:03:22.276Z"
   },
   {
    "duration": 6,
    "start_time": "2022-03-14T17:03:22.291Z"
   },
   {
    "duration": 21,
    "start_time": "2022-03-14T17:03:22.343Z"
   },
   {
    "duration": 8,
    "start_time": "2022-03-14T17:03:22.366Z"
   },
   {
    "duration": 969,
    "start_time": "2022-03-14T17:03:22.377Z"
   },
   {
    "duration": 14,
    "start_time": "2022-03-14T17:03:23.349Z"
   },
   {
    "duration": 19,
    "start_time": "2022-03-14T17:03:23.366Z"
   },
   {
    "duration": 194,
    "start_time": "2022-03-14T17:03:23.388Z"
   },
   {
    "duration": 18,
    "start_time": "2022-03-14T17:03:23.584Z"
   },
   {
    "duration": 5,
    "start_time": "2022-03-14T17:03:23.605Z"
   },
   {
    "duration": 37,
    "start_time": "2022-03-14T17:03:23.613Z"
   },
   {
    "duration": 11,
    "start_time": "2022-03-14T17:03:23.652Z"
   },
   {
    "duration": 11,
    "start_time": "2022-03-14T17:03:23.665Z"
   },
   {
    "duration": 9,
    "start_time": "2022-03-14T17:03:23.683Z"
   },
   {
    "duration": 97,
    "start_time": "2022-03-14T17:03:23.696Z"
   },
   {
    "duration": 414,
    "start_time": "2022-03-14T17:03:23.795Z"
   },
   {
    "duration": 53,
    "start_time": "2022-03-14T17:03:24.212Z"
   },
   {
    "duration": 27,
    "start_time": "2022-03-14T17:03:24.267Z"
   },
   {
    "duration": 49,
    "start_time": "2022-03-14T17:03:24.297Z"
   },
   {
    "duration": 195,
    "start_time": "2022-03-14T17:03:24.349Z"
   },
   {
    "duration": 20,
    "start_time": "2022-03-14T17:03:24.547Z"
   },
   {
    "duration": 22,
    "start_time": "2022-03-14T17:03:24.569Z"
   },
   {
    "duration": 53,
    "start_time": "2022-03-14T17:03:24.593Z"
   },
   {
    "duration": 161,
    "start_time": "2022-03-14T17:03:24.648Z"
   },
   {
    "duration": 60,
    "start_time": "2022-03-14T17:03:24.812Z"
   },
   {
    "duration": 35,
    "start_time": "2022-03-14T17:03:24.876Z"
   },
   {
    "duration": 47,
    "start_time": "2022-03-14T17:03:24.915Z"
   },
   {
    "duration": 17,
    "start_time": "2022-03-14T17:03:24.965Z"
   },
   {
    "duration": 17,
    "start_time": "2022-03-14T17:03:24.984Z"
   },
   {
    "duration": 75,
    "start_time": "2022-03-14T17:03:25.004Z"
   },
   {
    "duration": 26,
    "start_time": "2022-03-14T17:03:25.082Z"
   },
   {
    "duration": 61,
    "start_time": "2022-03-14T17:03:25.110Z"
   },
   {
    "duration": 172,
    "start_time": "2022-03-14T17:03:25.173Z"
   },
   {
    "duration": 155,
    "start_time": "2022-03-14T17:03:25.348Z"
   },
   {
    "duration": 6,
    "start_time": "2022-03-14T17:03:25.505Z"
   },
   {
    "duration": 75,
    "start_time": "2022-03-14T17:03:25.514Z"
   },
   {
    "duration": 53,
    "start_time": "2022-03-14T17:03:25.592Z"
   },
   {
    "duration": 39,
    "start_time": "2022-03-14T17:03:25.648Z"
   },
   {
    "duration": 17,
    "start_time": "2022-03-14T17:03:25.690Z"
   },
   {
    "duration": 51,
    "start_time": "2022-03-14T17:03:25.709Z"
   },
   {
    "duration": 15,
    "start_time": "2022-03-14T17:03:25.763Z"
   },
   {
    "duration": 150,
    "start_time": "2022-03-14T17:03:25.780Z"
   },
   {
    "duration": 84,
    "start_time": "2022-03-14T17:03:25.933Z"
   },
   {
    "duration": 76,
    "start_time": "2022-03-14T17:03:26.021Z"
   },
   {
    "duration": 7,
    "start_time": "2022-03-14T17:03:26.099Z"
   },
   {
    "duration": 39,
    "start_time": "2022-03-14T17:03:26.109Z"
   },
   {
    "duration": 23,
    "start_time": "2022-03-14T17:03:26.151Z"
   },
   {
    "duration": 929,
    "start_time": "2022-03-14T17:03:26.177Z"
   },
   {
    "duration": 28,
    "start_time": "2022-03-14T17:03:46.412Z"
   },
   {
    "duration": 15,
    "start_time": "2022-03-14T17:04:38.496Z"
   },
   {
    "duration": 43,
    "start_time": "2022-03-14T17:04:42.872Z"
   },
   {
    "duration": 12,
    "start_time": "2022-03-14T17:04:47.932Z"
   },
   {
    "duration": 10,
    "start_time": "2022-03-14T17:06:38.297Z"
   },
   {
    "duration": 7961,
    "start_time": "2022-03-14T17:10:52.555Z"
   },
   {
    "duration": 7727,
    "start_time": "2022-03-14T17:11:07.711Z"
   },
   {
    "duration": 9,
    "start_time": "2022-03-14T17:11:21.692Z"
   },
   {
    "duration": 12,
    "start_time": "2022-03-14T17:11:30.319Z"
   },
   {
    "duration": 22,
    "start_time": "2022-03-14T17:11:41.607Z"
   },
   {
    "duration": 27,
    "start_time": "2022-03-14T17:14:53.369Z"
   },
   {
    "duration": 44,
    "start_time": "2022-03-14T17:15:10.889Z"
   },
   {
    "duration": 19,
    "start_time": "2022-03-14T17:15:55.597Z"
   },
   {
    "duration": 23,
    "start_time": "2022-03-14T17:18:18.319Z"
   },
   {
    "duration": 23,
    "start_time": "2022-03-14T17:19:40.791Z"
   },
   {
    "duration": 12,
    "start_time": "2022-03-14T17:20:46.411Z"
   },
   {
    "duration": 10,
    "start_time": "2022-03-14T17:21:01.108Z"
   },
   {
    "duration": 13,
    "start_time": "2022-03-14T17:21:26.556Z"
   },
   {
    "duration": 12,
    "start_time": "2022-03-14T17:21:42.076Z"
   },
   {
    "duration": 12,
    "start_time": "2022-03-14T17:21:50.448Z"
   },
   {
    "duration": 1959,
    "start_time": "2022-03-14T17:22:57.008Z"
   },
   {
    "duration": 2071,
    "start_time": "2022-03-14T17:23:29.077Z"
   },
   {
    "duration": 1816,
    "start_time": "2022-03-14T17:23:33.304Z"
   },
   {
    "duration": 1894,
    "start_time": "2022-03-14T17:24:04.821Z"
   },
   {
    "duration": 2048,
    "start_time": "2022-03-14T17:24:09.421Z"
   },
   {
    "duration": 1880,
    "start_time": "2022-03-14T17:25:06.897Z"
   },
   {
    "duration": 2654,
    "start_time": "2022-03-14T17:25:11.470Z"
   },
   {
    "duration": 1783,
    "start_time": "2022-03-14T17:25:18.225Z"
   },
   {
    "duration": 1839,
    "start_time": "2022-03-14T17:25:30.004Z"
   },
   {
    "duration": 1969,
    "start_time": "2022-03-14T17:25:36.606Z"
   },
   {
    "duration": 1847,
    "start_time": "2022-03-14T17:25:44.646Z"
   },
   {
    "duration": 1940,
    "start_time": "2022-03-14T17:25:56.025Z"
   },
   {
    "duration": 2721,
    "start_time": "2022-03-14T17:26:02.370Z"
   },
   {
    "duration": 2605,
    "start_time": "2022-03-14T17:26:10.642Z"
   },
   {
    "duration": 10,
    "start_time": "2022-03-14T17:26:26.634Z"
   },
   {
    "duration": 33,
    "start_time": "2022-03-14T17:37:28.091Z"
   },
   {
    "duration": 1122,
    "start_time": "2022-03-14T17:38:25.105Z"
   },
   {
    "duration": 37,
    "start_time": "2022-03-14T17:40:31.736Z"
   },
   {
    "duration": 27,
    "start_time": "2022-03-14T17:40:37.555Z"
   },
   {
    "duration": 25,
    "start_time": "2022-03-14T17:40:42.604Z"
   },
   {
    "duration": 29,
    "start_time": "2022-03-14T17:40:51.776Z"
   },
   {
    "duration": 26,
    "start_time": "2022-03-14T17:41:00.012Z"
   },
   {
    "duration": 12,
    "start_time": "2022-03-14T17:44:08.373Z"
   },
   {
    "duration": 27,
    "start_time": "2022-03-14T17:44:27.278Z"
   },
   {
    "duration": 320,
    "start_time": "2022-03-14T17:45:46.050Z"
   },
   {
    "duration": 10,
    "start_time": "2022-03-14T17:45:53.354Z"
   },
   {
    "duration": 9,
    "start_time": "2022-03-14T17:46:11.878Z"
   },
   {
    "duration": 15,
    "start_time": "2022-03-14T17:46:43.510Z"
   },
   {
    "duration": 15,
    "start_time": "2022-03-14T17:46:58.166Z"
   },
   {
    "duration": 11,
    "start_time": "2022-03-14T17:47:00.364Z"
   },
   {
    "duration": 3522,
    "start_time": "2022-03-14T17:48:37.815Z"
   },
   {
    "duration": 2643,
    "start_time": "2022-03-14T17:50:08.524Z"
   },
   {
    "duration": 2671,
    "start_time": "2022-03-14T17:50:39.825Z"
   },
   {
    "duration": 11,
    "start_time": "2022-03-14T17:51:55.513Z"
   },
   {
    "duration": 13,
    "start_time": "2022-03-14T17:52:34.329Z"
   },
   {
    "duration": 10,
    "start_time": "2022-03-14T17:52:49.853Z"
   },
   {
    "duration": 3246,
    "start_time": "2022-03-14T17:55:07.535Z"
   },
   {
    "duration": 3614,
    "start_time": "2022-03-14T18:18:22.404Z"
   },
   {
    "duration": 4179,
    "start_time": "2022-03-14T18:18:32.358Z"
   },
   {
    "duration": 3040,
    "start_time": "2022-03-14T18:18:37.961Z"
   },
   {
    "duration": 4029,
    "start_time": "2022-03-14T18:18:55.045Z"
   },
   {
    "duration": 91,
    "start_time": "2022-03-14T18:24:01.492Z"
   },
   {
    "duration": 93,
    "start_time": "2022-03-14T18:25:28.204Z"
   },
   {
    "duration": 108,
    "start_time": "2022-03-14T18:25:48.904Z"
   },
   {
    "duration": 72,
    "start_time": "2022-03-14T18:26:11.988Z"
   },
   {
    "duration": 70,
    "start_time": "2022-03-14T18:26:20.880Z"
   },
   {
    "duration": 7604,
    "start_time": "2022-03-14T18:27:03.913Z"
   },
   {
    "duration": 16,
    "start_time": "2022-03-14T18:27:12.669Z"
   },
   {
    "duration": 23,
    "start_time": "2022-03-14T18:27:21.677Z"
   },
   {
    "duration": 2321,
    "start_time": "2022-03-14T18:38:02.185Z"
   },
   {
    "duration": 153,
    "start_time": "2022-03-14T18:38:04.509Z"
   },
   {
    "duration": 21,
    "start_time": "2022-03-14T18:38:04.666Z"
   },
   {
    "duration": 4,
    "start_time": "2022-03-14T18:38:04.689Z"
   },
   {
    "duration": 61,
    "start_time": "2022-03-14T18:38:04.695Z"
   },
   {
    "duration": 14,
    "start_time": "2022-03-14T18:38:04.759Z"
   },
   {
    "duration": 45,
    "start_time": "2022-03-14T18:38:04.776Z"
   },
   {
    "duration": 7,
    "start_time": "2022-03-14T18:38:04.846Z"
   },
   {
    "duration": 22,
    "start_time": "2022-03-14T18:38:04.857Z"
   },
   {
    "duration": 15,
    "start_time": "2022-03-14T18:38:04.882Z"
   },
   {
    "duration": 40,
    "start_time": "2022-03-14T18:38:04.903Z"
   },
   {
    "duration": 21,
    "start_time": "2022-03-14T18:38:04.946Z"
   },
   {
    "duration": 10,
    "start_time": "2022-03-14T18:38:04.972Z"
   },
   {
    "duration": 1249,
    "start_time": "2022-03-14T18:38:04.985Z"
   },
   {
    "duration": 17,
    "start_time": "2022-03-14T18:38:06.237Z"
   },
   {
    "duration": 22,
    "start_time": "2022-03-14T18:38:06.257Z"
   },
   {
    "duration": 200,
    "start_time": "2022-03-14T18:38:06.282Z"
   },
   {
    "duration": 20,
    "start_time": "2022-03-14T18:38:06.485Z"
   },
   {
    "duration": 5,
    "start_time": "2022-03-14T18:38:06.509Z"
   },
   {
    "duration": 15,
    "start_time": "2022-03-14T18:38:06.543Z"
   },
   {
    "duration": 7,
    "start_time": "2022-03-14T18:38:06.560Z"
   },
   {
    "duration": 9,
    "start_time": "2022-03-14T18:38:06.570Z"
   },
   {
    "duration": 10,
    "start_time": "2022-03-14T18:38:06.586Z"
   },
   {
    "duration": 100,
    "start_time": "2022-03-14T18:38:06.601Z"
   },
   {
    "duration": 408,
    "start_time": "2022-03-14T18:38:06.703Z"
   },
   {
    "duration": 57,
    "start_time": "2022-03-14T18:38:07.113Z"
   },
   {
    "duration": 23,
    "start_time": "2022-03-14T18:38:07.173Z"
   },
   {
    "duration": 60,
    "start_time": "2022-03-14T18:38:07.199Z"
   },
   {
    "duration": 198,
    "start_time": "2022-03-14T18:38:07.262Z"
   },
   {
    "duration": 26,
    "start_time": "2022-03-14T18:38:07.463Z"
   },
   {
    "duration": 32,
    "start_time": "2022-03-14T18:38:07.492Z"
   },
   {
    "duration": 48,
    "start_time": "2022-03-14T18:38:07.543Z"
   },
   {
    "duration": 168,
    "start_time": "2022-03-14T18:38:07.594Z"
   },
   {
    "duration": 39,
    "start_time": "2022-03-14T18:38:07.765Z"
   },
   {
    "duration": 66,
    "start_time": "2022-03-14T18:38:07.807Z"
   },
   {
    "duration": 29,
    "start_time": "2022-03-14T18:38:07.876Z"
   },
   {
    "duration": 42,
    "start_time": "2022-03-14T18:38:07.907Z"
   },
   {
    "duration": 15,
    "start_time": "2022-03-14T18:38:07.952Z"
   },
   {
    "duration": 44,
    "start_time": "2022-03-14T18:38:07.970Z"
   },
   {
    "duration": 54,
    "start_time": "2022-03-14T18:38:08.017Z"
   },
   {
    "duration": 36,
    "start_time": "2022-03-14T18:38:08.073Z"
   },
   {
    "duration": 186,
    "start_time": "2022-03-14T18:38:08.112Z"
   },
   {
    "duration": 166,
    "start_time": "2022-03-14T18:38:08.300Z"
   },
   {
    "duration": 7,
    "start_time": "2022-03-14T18:38:08.468Z"
   },
   {
    "duration": 36,
    "start_time": "2022-03-14T18:38:08.477Z"
   },
   {
    "duration": 30,
    "start_time": "2022-03-14T18:38:08.543Z"
   },
   {
    "duration": 27,
    "start_time": "2022-03-14T18:38:08.575Z"
   },
   {
    "duration": 49,
    "start_time": "2022-03-14T18:38:08.605Z"
   },
   {
    "duration": 19,
    "start_time": "2022-03-14T18:38:08.656Z"
   },
   {
    "duration": 15,
    "start_time": "2022-03-14T18:38:08.678Z"
   },
   {
    "duration": 159,
    "start_time": "2022-03-14T18:38:08.696Z"
   },
   {
    "duration": 102,
    "start_time": "2022-03-14T18:38:08.857Z"
   },
   {
    "duration": 57,
    "start_time": "2022-03-14T18:38:08.962Z"
   },
   {
    "duration": 7,
    "start_time": "2022-03-14T18:38:09.048Z"
   },
   {
    "duration": 15,
    "start_time": "2022-03-14T18:38:09.057Z"
   },
   {
    "duration": 23,
    "start_time": "2022-03-14T18:38:09.074Z"
   },
   {
    "duration": 619,
    "start_time": "2022-03-14T18:38:09.100Z"
   },
   {
    "duration": 28,
    "start_time": "2022-03-14T18:38:09.722Z"
   },
   {
    "duration": 27,
    "start_time": "2022-03-14T18:38:09.753Z"
   },
   {
    "duration": 21,
    "start_time": "2022-03-14T18:38:09.783Z"
   },
   {
    "duration": 38,
    "start_time": "2022-03-14T18:38:09.807Z"
   },
   {
    "duration": 23,
    "start_time": "2022-03-14T18:38:09.848Z"
   },
   {
    "duration": 10,
    "start_time": "2022-03-14T18:38:09.873Z"
   },
   {
    "duration": 35,
    "start_time": "2022-03-14T18:38:09.885Z"
   },
   {
    "duration": 24,
    "start_time": "2022-03-14T18:38:09.923Z"
   },
   {
    "duration": 1798,
    "start_time": "2022-03-14T18:38:09.949Z"
   },
   {
    "duration": 8,
    "start_time": "2022-03-14T18:38:11.749Z"
   },
   {
    "duration": 29,
    "start_time": "2022-03-14T18:38:11.764Z"
   },
   {
    "duration": 947,
    "start_time": "2022-03-14T18:38:11.796Z"
   },
   {
    "duration": 25,
    "start_time": "2022-03-14T18:38:12.746Z"
   },
   {
    "duration": 9,
    "start_time": "2022-03-14T18:38:12.773Z"
   },
   {
    "duration": 19,
    "start_time": "2022-03-14T18:38:12.784Z"
   },
   {
    "duration": 48,
    "start_time": "2022-03-14T18:38:12.806Z"
   },
   {
    "duration": 499,
    "start_time": "2022-03-14T18:38:12.856Z"
   },
   {
    "duration": -1493,
    "start_time": "2022-03-14T18:38:14.851Z"
   },
   {
    "duration": -1496,
    "start_time": "2022-03-14T18:38:14.855Z"
   },
   {
    "duration": -1504,
    "start_time": "2022-03-14T18:38:14.865Z"
   },
   {
    "duration": -1507,
    "start_time": "2022-03-14T18:38:14.869Z"
   },
   {
    "duration": 306,
    "start_time": "2022-03-14T18:38:42.297Z"
   },
   {
    "duration": 2509,
    "start_time": "2022-03-14T18:39:06.961Z"
   },
   {
    "duration": 2088,
    "start_time": "2022-03-14T18:39:27.937Z"
   },
   {
    "duration": 149,
    "start_time": "2022-03-14T18:39:30.028Z"
   },
   {
    "duration": 18,
    "start_time": "2022-03-14T18:39:30.180Z"
   },
   {
    "duration": 29,
    "start_time": "2022-03-14T18:39:30.201Z"
   },
   {
    "duration": 38,
    "start_time": "2022-03-14T18:39:30.232Z"
   },
   {
    "duration": 19,
    "start_time": "2022-03-14T18:39:30.272Z"
   },
   {
    "duration": 53,
    "start_time": "2022-03-14T18:39:30.293Z"
   },
   {
    "duration": 6,
    "start_time": "2022-03-14T18:39:30.350Z"
   },
   {
    "duration": 44,
    "start_time": "2022-03-14T18:39:30.359Z"
   },
   {
    "duration": 28,
    "start_time": "2022-03-14T18:39:30.406Z"
   },
   {
    "duration": 15,
    "start_time": "2022-03-14T18:39:30.436Z"
   },
   {
    "duration": 49,
    "start_time": "2022-03-14T18:39:30.453Z"
   },
   {
    "duration": 40,
    "start_time": "2022-03-14T18:39:30.505Z"
   },
   {
    "duration": 1422,
    "start_time": "2022-03-14T18:39:30.548Z"
   },
   {
    "duration": 13,
    "start_time": "2022-03-14T18:39:31.973Z"
   },
   {
    "duration": 37,
    "start_time": "2022-03-14T18:39:31.989Z"
   },
   {
    "duration": 186,
    "start_time": "2022-03-14T18:39:32.043Z"
   },
   {
    "duration": 28,
    "start_time": "2022-03-14T18:39:32.231Z"
   },
   {
    "duration": 23,
    "start_time": "2022-03-14T18:39:32.263Z"
   },
   {
    "duration": 37,
    "start_time": "2022-03-14T18:39:32.289Z"
   },
   {
    "duration": 37,
    "start_time": "2022-03-14T18:39:32.328Z"
   },
   {
    "duration": 21,
    "start_time": "2022-03-14T18:39:32.368Z"
   },
   {
    "duration": 25,
    "start_time": "2022-03-14T18:39:32.398Z"
   },
   {
    "duration": 66,
    "start_time": "2022-03-14T18:39:32.428Z"
   },
   {
    "duration": 472,
    "start_time": "2022-03-14T18:39:32.496Z"
   },
   {
    "duration": 74,
    "start_time": "2022-03-14T18:39:32.970Z"
   },
   {
    "duration": 31,
    "start_time": "2022-03-14T18:39:33.047Z"
   },
   {
    "duration": 31,
    "start_time": "2022-03-14T18:39:33.080Z"
   },
   {
    "duration": 317,
    "start_time": "2022-03-14T18:39:33.143Z"
   },
   {
    "duration": 25,
    "start_time": "2022-03-14T18:39:33.463Z"
   },
   {
    "duration": 54,
    "start_time": "2022-03-14T18:39:33.491Z"
   },
   {
    "duration": 41,
    "start_time": "2022-03-14T18:39:33.548Z"
   },
   {
    "duration": 152,
    "start_time": "2022-03-14T18:39:33.592Z"
   },
   {
    "duration": 33,
    "start_time": "2022-03-14T18:39:33.746Z"
   },
   {
    "duration": 26,
    "start_time": "2022-03-14T18:39:33.782Z"
   },
   {
    "duration": 50,
    "start_time": "2022-03-14T18:39:33.810Z"
   },
   {
    "duration": 15,
    "start_time": "2022-03-14T18:39:33.863Z"
   },
   {
    "duration": 17,
    "start_time": "2022-03-14T18:39:33.880Z"
   },
   {
    "duration": 72,
    "start_time": "2022-03-14T18:39:33.899Z"
   },
   {
    "duration": 26,
    "start_time": "2022-03-14T18:39:33.973Z"
   },
   {
    "duration": 66,
    "start_time": "2022-03-14T18:39:34.002Z"
   },
   {
    "duration": 155,
    "start_time": "2022-03-14T18:39:34.071Z"
   },
   {
    "duration": 155,
    "start_time": "2022-03-14T18:39:34.228Z"
   },
   {
    "duration": 7,
    "start_time": "2022-03-14T18:39:34.386Z"
   },
   {
    "duration": 54,
    "start_time": "2022-03-14T18:39:34.395Z"
   },
   {
    "duration": 27,
    "start_time": "2022-03-14T18:39:34.452Z"
   },
   {
    "duration": 27,
    "start_time": "2022-03-14T18:39:34.481Z"
   },
   {
    "duration": 18,
    "start_time": "2022-03-14T18:39:34.543Z"
   },
   {
    "duration": 18,
    "start_time": "2022-03-14T18:39:34.563Z"
   },
   {
    "duration": 17,
    "start_time": "2022-03-14T18:39:34.583Z"
   },
   {
    "duration": 163,
    "start_time": "2022-03-14T18:39:34.602Z"
   },
   {
    "duration": 95,
    "start_time": "2022-03-14T18:39:34.767Z"
   },
   {
    "duration": 46,
    "start_time": "2022-03-14T18:39:34.864Z"
   },
   {
    "duration": 6,
    "start_time": "2022-03-14T18:39:34.912Z"
   },
   {
    "duration": 11,
    "start_time": "2022-03-14T18:39:34.944Z"
   },
   {
    "duration": 19,
    "start_time": "2022-03-14T18:39:34.958Z"
   },
   {
    "duration": 630,
    "start_time": "2022-03-14T18:39:34.980Z"
   },
   {
    "duration": 34,
    "start_time": "2022-03-14T18:39:35.613Z"
   },
   {
    "duration": 11,
    "start_time": "2022-03-14T18:39:35.650Z"
   },
   {
    "duration": 11,
    "start_time": "2022-03-14T18:39:35.664Z"
   },
   {
    "duration": 29,
    "start_time": "2022-03-14T18:39:35.677Z"
   },
   {
    "duration": 24,
    "start_time": "2022-03-14T18:39:35.743Z"
   },
   {
    "duration": 11,
    "start_time": "2022-03-14T18:39:35.769Z"
   },
   {
    "duration": 18,
    "start_time": "2022-03-14T18:39:35.782Z"
   },
   {
    "duration": 43,
    "start_time": "2022-03-14T18:39:35.802Z"
   },
   {
    "duration": 2017,
    "start_time": "2022-03-14T18:39:35.847Z"
   },
   {
    "duration": 9,
    "start_time": "2022-03-14T18:39:37.867Z"
   },
   {
    "duration": 71,
    "start_time": "2022-03-14T18:39:37.886Z"
   },
   {
    "duration": 1286,
    "start_time": "2022-03-14T18:39:37.960Z"
   },
   {
    "duration": 36,
    "start_time": "2022-03-14T18:39:39.248Z"
   },
   {
    "duration": 9,
    "start_time": "2022-03-14T18:39:39.286Z"
   },
   {
    "duration": 53,
    "start_time": "2022-03-14T18:39:39.298Z"
   },
   {
    "duration": 16,
    "start_time": "2022-03-14T18:39:39.353Z"
   },
   {
    "duration": 2727,
    "start_time": "2022-03-14T18:39:39.371Z"
   },
   {
    "duration": 488,
    "start_time": "2022-03-14T18:39:42.100Z"
   },
   {
    "duration": -1479,
    "start_time": "2022-03-14T18:39:44.069Z"
   },
   {
    "duration": -1481,
    "start_time": "2022-03-14T18:39:44.073Z"
   },
   {
    "duration": 326,
    "start_time": "2022-03-14T18:39:44.873Z"
   },
   {
    "duration": 9,
    "start_time": "2022-03-14T18:40:21.873Z"
   },
   {
    "duration": 3336,
    "start_time": "2022-03-14T18:40:53.858Z"
   },
   {
    "duration": 356,
    "start_time": "2022-03-14T18:41:01.025Z"
   },
   {
    "duration": 75,
    "start_time": "2022-03-14T18:41:40.677Z"
   },
   {
    "duration": 18,
    "start_time": "2022-03-14T18:41:44.341Z"
   },
   {
    "duration": 19,
    "start_time": "2022-03-14T18:45:34.759Z"
   },
   {
    "duration": 2034,
    "start_time": "2022-03-15T02:16:50.957Z"
   },
   {
    "duration": 137,
    "start_time": "2022-03-15T02:16:52.993Z"
   },
   {
    "duration": 18,
    "start_time": "2022-03-15T02:16:53.133Z"
   },
   {
    "duration": 34,
    "start_time": "2022-03-15T02:16:53.154Z"
   },
   {
    "duration": 18,
    "start_time": "2022-03-15T02:16:53.191Z"
   },
   {
    "duration": 11,
    "start_time": "2022-03-15T02:16:53.212Z"
   },
   {
    "duration": 62,
    "start_time": "2022-03-15T02:16:53.225Z"
   },
   {
    "duration": 7,
    "start_time": "2022-03-15T02:16:53.291Z"
   },
   {
    "duration": 17,
    "start_time": "2022-03-15T02:16:53.301Z"
   },
   {
    "duration": 17,
    "start_time": "2022-03-15T02:16:53.320Z"
   },
   {
    "duration": 6,
    "start_time": "2022-03-15T02:16:53.340Z"
   },
   {
    "duration": 55,
    "start_time": "2022-03-15T02:16:53.349Z"
   },
   {
    "duration": 5,
    "start_time": "2022-03-15T02:16:53.408Z"
   },
   {
    "duration": 981,
    "start_time": "2022-03-15T02:16:53.416Z"
   },
   {
    "duration": 16,
    "start_time": "2022-03-15T02:16:54.400Z"
   },
   {
    "duration": 20,
    "start_time": "2022-03-15T02:16:54.419Z"
   },
   {
    "duration": 199,
    "start_time": "2022-03-15T02:16:54.442Z"
   },
   {
    "duration": 21,
    "start_time": "2022-03-15T02:16:54.644Z"
   },
   {
    "duration": 8,
    "start_time": "2022-03-15T02:16:54.687Z"
   },
   {
    "duration": 15,
    "start_time": "2022-03-15T02:16:54.698Z"
   },
   {
    "duration": 14,
    "start_time": "2022-03-15T02:16:54.716Z"
   },
   {
    "duration": 12,
    "start_time": "2022-03-15T02:16:54.733Z"
   },
   {
    "duration": 13,
    "start_time": "2022-03-15T02:16:54.794Z"
   },
   {
    "duration": 75,
    "start_time": "2022-03-15T02:16:54.812Z"
   },
   {
    "duration": 331,
    "start_time": "2022-03-15T02:16:54.890Z"
   },
   {
    "duration": 39,
    "start_time": "2022-03-15T02:16:55.224Z"
   },
   {
    "duration": 42,
    "start_time": "2022-03-15T02:16:55.266Z"
   },
   {
    "duration": 23,
    "start_time": "2022-03-15T02:16:55.311Z"
   },
   {
    "duration": 199,
    "start_time": "2022-03-15T02:16:55.337Z"
   },
   {
    "duration": 19,
    "start_time": "2022-03-15T02:16:55.538Z"
   },
   {
    "duration": 42,
    "start_time": "2022-03-15T02:16:55.560Z"
   },
   {
    "duration": 28,
    "start_time": "2022-03-15T02:16:55.605Z"
   },
   {
    "duration": 153,
    "start_time": "2022-03-15T02:16:55.635Z"
   },
   {
    "duration": 31,
    "start_time": "2022-03-15T02:16:55.791Z"
   },
   {
    "duration": 29,
    "start_time": "2022-03-15T02:16:55.824Z"
   },
   {
    "duration": 58,
    "start_time": "2022-03-15T02:16:55.855Z"
   },
   {
    "duration": 17,
    "start_time": "2022-03-15T02:16:55.917Z"
   },
   {
    "duration": 55,
    "start_time": "2022-03-15T02:16:55.936Z"
   },
   {
    "duration": 35,
    "start_time": "2022-03-15T02:16:55.994Z"
   },
   {
    "duration": 55,
    "start_time": "2022-03-15T02:16:56.032Z"
   },
   {
    "duration": 34,
    "start_time": "2022-03-15T02:16:56.089Z"
   },
   {
    "duration": 163,
    "start_time": "2022-03-15T02:16:56.125Z"
   },
   {
    "duration": 144,
    "start_time": "2022-03-15T02:16:56.291Z"
   },
   {
    "duration": 7,
    "start_time": "2022-03-15T02:16:56.437Z"
   },
   {
    "duration": 58,
    "start_time": "2022-03-15T02:16:56.447Z"
   },
   {
    "duration": 27,
    "start_time": "2022-03-15T02:16:56.508Z"
   },
   {
    "duration": 54,
    "start_time": "2022-03-15T02:16:56.538Z"
   },
   {
    "duration": 17,
    "start_time": "2022-03-15T02:16:56.595Z"
   },
   {
    "duration": 18,
    "start_time": "2022-03-15T02:16:56.615Z"
   },
   {
    "duration": 16,
    "start_time": "2022-03-15T02:16:56.635Z"
   },
   {
    "duration": 132,
    "start_time": "2022-03-15T02:16:56.686Z"
   },
   {
    "duration": 89,
    "start_time": "2022-03-15T02:16:56.821Z"
   },
   {
    "duration": 46,
    "start_time": "2022-03-15T02:16:56.913Z"
   },
   {
    "duration": 28,
    "start_time": "2022-03-15T02:16:56.962Z"
   },
   {
    "duration": 8,
    "start_time": "2022-03-15T02:16:56.993Z"
   },
   {
    "duration": 20,
    "start_time": "2022-03-15T02:16:57.004Z"
   },
   {
    "duration": 594,
    "start_time": "2022-03-15T02:16:57.026Z"
   },
   {
    "duration": 20,
    "start_time": "2022-03-15T02:16:57.622Z"
   },
   {
    "duration": 11,
    "start_time": "2022-03-15T02:16:57.645Z"
   },
   {
    "duration": 34,
    "start_time": "2022-03-15T02:16:57.659Z"
   },
   {
    "duration": 33,
    "start_time": "2022-03-15T02:16:57.696Z"
   },
   {
    "duration": 23,
    "start_time": "2022-03-15T02:16:57.731Z"
   },
   {
    "duration": 33,
    "start_time": "2022-03-15T02:16:57.756Z"
   },
   {
    "duration": 14,
    "start_time": "2022-03-15T02:16:57.791Z"
   },
   {
    "duration": 12,
    "start_time": "2022-03-15T02:16:57.808Z"
   },
   {
    "duration": 2336,
    "start_time": "2022-03-15T02:16:57.823Z"
   },
   {
    "duration": 9,
    "start_time": "2022-03-15T02:17:00.161Z"
   },
   {
    "duration": 31,
    "start_time": "2022-03-15T02:17:00.192Z"
   },
   {
    "duration": 957,
    "start_time": "2022-03-15T02:17:00.226Z"
   },
   {
    "duration": 25,
    "start_time": "2022-03-15T02:17:01.188Z"
   },
   {
    "duration": 9,
    "start_time": "2022-03-15T02:17:01.215Z"
   },
   {
    "duration": 36,
    "start_time": "2022-03-15T02:17:01.227Z"
   },
   {
    "duration": 46,
    "start_time": "2022-03-15T02:17:01.266Z"
   },
   {
    "duration": 2990,
    "start_time": "2022-03-15T02:17:01.315Z"
   },
   {
    "duration": 9,
    "start_time": "2022-03-15T02:17:04.308Z"
   },
   {
    "duration": 3663,
    "start_time": "2022-03-15T02:17:04.319Z"
   },
   {
    "duration": 69,
    "start_time": "2022-03-15T02:17:07.985Z"
   },
   {
    "duration": 45,
    "start_time": "2022-03-15T02:17:08.057Z"
   },
   {
    "duration": 36,
    "start_time": "2022-03-15T02:17:08.105Z"
   },
   {
    "duration": 5958,
    "start_time": "2022-03-15T02:17:08.143Z"
   },
   {
    "duration": -2128,
    "start_time": "2022-03-15T02:17:16.232Z"
   },
   {
    "duration": -2131,
    "start_time": "2022-03-15T02:17:16.237Z"
   },
   {
    "duration": -2133,
    "start_time": "2022-03-15T02:17:16.241Z"
   },
   {
    "duration": -2136,
    "start_time": "2022-03-15T02:17:16.245Z"
   },
   {
    "duration": -2138,
    "start_time": "2022-03-15T02:17:16.249Z"
   },
   {
    "duration": -2141,
    "start_time": "2022-03-15T02:17:16.253Z"
   },
   {
    "duration": -2144,
    "start_time": "2022-03-15T02:17:16.258Z"
   },
   {
    "duration": 6,
    "start_time": "2022-03-15T02:31:46.244Z"
   },
   {
    "duration": 14,
    "start_time": "2022-03-15T02:31:55.128Z"
   },
   {
    "duration": 13,
    "start_time": "2022-03-15T02:32:10.600Z"
   },
   {
    "duration": 9,
    "start_time": "2022-03-15T02:33:03.632Z"
   },
   {
    "duration": 9,
    "start_time": "2022-03-15T02:33:06.936Z"
   },
   {
    "duration": 93,
    "start_time": "2022-03-15T02:33:28.712Z"
   },
   {
    "duration": 89,
    "start_time": "2022-03-15T02:33:31.741Z"
   },
   {
    "duration": 9,
    "start_time": "2022-03-15T02:33:40.536Z"
   },
   {
    "duration": 256,
    "start_time": "2022-03-15T02:34:01.145Z"
   },
   {
    "duration": 348,
    "start_time": "2022-03-15T02:35:00.746Z"
   },
   {
    "duration": 402,
    "start_time": "2022-03-15T02:35:27.641Z"
   },
   {
    "duration": 691,
    "start_time": "2022-03-15T02:36:30.666Z"
   },
   {
    "duration": 2041,
    "start_time": "2022-03-15T02:37:22.346Z"
   },
   {
    "duration": 139,
    "start_time": "2022-03-15T02:37:24.390Z"
   },
   {
    "duration": 19,
    "start_time": "2022-03-15T02:37:24.532Z"
   },
   {
    "duration": 5,
    "start_time": "2022-03-15T02:37:24.586Z"
   },
   {
    "duration": 29,
    "start_time": "2022-03-15T02:37:24.593Z"
   },
   {
    "duration": 11,
    "start_time": "2022-03-15T02:37:24.625Z"
   },
   {
    "duration": 60,
    "start_time": "2022-03-15T02:37:24.638Z"
   },
   {
    "duration": 7,
    "start_time": "2022-03-15T02:37:24.702Z"
   },
   {
    "duration": 20,
    "start_time": "2022-03-15T02:37:24.712Z"
   },
   {
    "duration": 14,
    "start_time": "2022-03-15T02:37:24.734Z"
   },
   {
    "duration": 39,
    "start_time": "2022-03-15T02:37:24.751Z"
   },
   {
    "duration": 23,
    "start_time": "2022-03-15T02:37:24.792Z"
   },
   {
    "duration": 4,
    "start_time": "2022-03-15T02:37:24.817Z"
   },
   {
    "duration": 974,
    "start_time": "2022-03-15T02:37:24.823Z"
   },
   {
    "duration": 13,
    "start_time": "2022-03-15T02:37:25.800Z"
   },
   {
    "duration": 21,
    "start_time": "2022-03-15T02:37:25.815Z"
   },
   {
    "duration": 191,
    "start_time": "2022-03-15T02:37:25.838Z"
   },
   {
    "duration": 17,
    "start_time": "2022-03-15T02:37:26.031Z"
   },
   {
    "duration": 6,
    "start_time": "2022-03-15T02:37:26.050Z"
   },
   {
    "duration": 39,
    "start_time": "2022-03-15T02:37:26.058Z"
   },
   {
    "duration": 13,
    "start_time": "2022-03-15T02:37:26.100Z"
   },
   {
    "duration": 11,
    "start_time": "2022-03-15T02:37:26.116Z"
   },
   {
    "duration": 11,
    "start_time": "2022-03-15T02:37:26.132Z"
   },
   {
    "duration": 78,
    "start_time": "2022-03-15T02:37:26.145Z"
   },
   {
    "duration": 357,
    "start_time": "2022-03-15T02:37:26.225Z"
   },
   {
    "duration": 39,
    "start_time": "2022-03-15T02:37:26.584Z"
   },
   {
    "duration": 23,
    "start_time": "2022-03-15T02:37:26.625Z"
   },
   {
    "duration": 51,
    "start_time": "2022-03-15T02:37:26.651Z"
   },
   {
    "duration": 11,
    "start_time": "2022-03-15T02:37:26.704Z"
   },
   {
    "duration": 19,
    "start_time": "2022-03-15T02:37:26.718Z"
   },
   {
    "duration": 58,
    "start_time": "2022-03-15T02:37:26.739Z"
   },
   {
    "duration": 27,
    "start_time": "2022-03-15T02:37:26.801Z"
   },
   {
    "duration": 135,
    "start_time": "2022-03-15T02:37:26.831Z"
   },
   {
    "duration": 45,
    "start_time": "2022-03-15T02:37:26.968Z"
   },
   {
    "duration": 26,
    "start_time": "2022-03-15T02:37:27.015Z"
   },
   {
    "duration": 53,
    "start_time": "2022-03-15T02:37:27.044Z"
   },
   {
    "duration": 15,
    "start_time": "2022-03-15T02:37:27.099Z"
   },
   {
    "duration": 13,
    "start_time": "2022-03-15T02:37:27.116Z"
   },
   {
    "duration": 65,
    "start_time": "2022-03-15T02:37:27.132Z"
   },
   {
    "duration": 25,
    "start_time": "2022-03-15T02:37:27.200Z"
   },
   {
    "duration": 31,
    "start_time": "2022-03-15T02:37:27.227Z"
   },
   {
    "duration": 179,
    "start_time": "2022-03-15T02:37:27.261Z"
   },
   {
    "duration": 10,
    "start_time": "2022-03-15T02:37:27.442Z"
   },
   {
    "duration": 6,
    "start_time": "2022-03-15T02:37:27.454Z"
   },
   {
    "duration": 56,
    "start_time": "2022-03-15T02:37:27.463Z"
   },
   {
    "duration": 30,
    "start_time": "2022-03-15T02:37:27.521Z"
   },
   {
    "duration": 56,
    "start_time": "2022-03-15T02:37:27.554Z"
   },
   {
    "duration": 18,
    "start_time": "2022-03-15T02:37:27.613Z"
   },
   {
    "duration": 56,
    "start_time": "2022-03-15T02:37:27.634Z"
   },
   {
    "duration": 18,
    "start_time": "2022-03-15T02:37:27.694Z"
   },
   {
    "duration": 151,
    "start_time": "2022-03-15T02:37:27.715Z"
   },
   {
    "duration": 858,
    "start_time": "2022-03-15T02:37:27.869Z"
   },
   {
    "duration": 1952,
    "start_time": "2022-03-15T02:38:01.802Z"
   },
   {
    "duration": 133,
    "start_time": "2022-03-15T02:38:03.757Z"
   },
   {
    "duration": 20,
    "start_time": "2022-03-15T02:38:03.893Z"
   },
   {
    "duration": 5,
    "start_time": "2022-03-15T02:38:03.915Z"
   },
   {
    "duration": 13,
    "start_time": "2022-03-15T02:38:03.922Z"
   },
   {
    "duration": 51,
    "start_time": "2022-03-15T02:38:03.938Z"
   },
   {
    "duration": 36,
    "start_time": "2022-03-15T02:38:03.991Z"
   },
   {
    "duration": 6,
    "start_time": "2022-03-15T02:38:04.031Z"
   },
   {
    "duration": 16,
    "start_time": "2022-03-15T02:38:04.040Z"
   },
   {
    "duration": 39,
    "start_time": "2022-03-15T02:38:04.058Z"
   },
   {
    "duration": 10,
    "start_time": "2022-03-15T02:38:04.099Z"
   },
   {
    "duration": 23,
    "start_time": "2022-03-15T02:38:04.111Z"
   },
   {
    "duration": 8,
    "start_time": "2022-03-15T02:38:04.136Z"
   },
   {
    "duration": 953,
    "start_time": "2022-03-15T02:38:04.146Z"
   },
   {
    "duration": 13,
    "start_time": "2022-03-15T02:38:05.102Z"
   },
   {
    "duration": 18,
    "start_time": "2022-03-15T02:38:05.117Z"
   },
   {
    "duration": 181,
    "start_time": "2022-03-15T02:38:05.138Z"
   },
   {
    "duration": 18,
    "start_time": "2022-03-15T02:38:05.322Z"
   },
   {
    "duration": 11,
    "start_time": "2022-03-15T02:38:05.343Z"
   },
   {
    "duration": 34,
    "start_time": "2022-03-15T02:38:05.357Z"
   },
   {
    "duration": 9,
    "start_time": "2022-03-15T02:38:05.394Z"
   },
   {
    "duration": 13,
    "start_time": "2022-03-15T02:38:05.406Z"
   },
   {
    "duration": 12,
    "start_time": "2022-03-15T02:38:05.425Z"
   },
   {
    "duration": 73,
    "start_time": "2022-03-15T02:38:05.440Z"
   },
   {
    "duration": 335,
    "start_time": "2022-03-15T02:38:05.515Z"
   },
   {
    "duration": 54,
    "start_time": "2022-03-15T02:38:05.853Z"
   },
   {
    "duration": 23,
    "start_time": "2022-03-15T02:38:05.909Z"
   },
   {
    "duration": 22,
    "start_time": "2022-03-15T02:38:05.935Z"
   },
   {
    "duration": 37,
    "start_time": "2022-03-15T02:38:05.960Z"
   },
   {
    "duration": 24,
    "start_time": "2022-03-15T02:38:05.999Z"
   },
   {
    "duration": 40,
    "start_time": "2022-03-15T02:38:06.025Z"
   },
   {
    "duration": 39,
    "start_time": "2022-03-15T02:38:06.068Z"
   },
   {
    "duration": 137,
    "start_time": "2022-03-15T02:38:06.109Z"
   },
   {
    "duration": 50,
    "start_time": "2022-03-15T02:38:06.249Z"
   },
   {
    "duration": 38,
    "start_time": "2022-03-15T02:38:06.301Z"
   },
   {
    "duration": 43,
    "start_time": "2022-03-15T02:38:06.342Z"
   },
   {
    "duration": 17,
    "start_time": "2022-03-15T02:38:06.387Z"
   },
   {
    "duration": 21,
    "start_time": "2022-03-15T02:38:06.406Z"
   },
   {
    "duration": 42,
    "start_time": "2022-03-15T02:38:06.429Z"
   },
   {
    "duration": 38,
    "start_time": "2022-03-15T02:38:06.473Z"
   },
   {
    "duration": 34,
    "start_time": "2022-03-15T02:38:06.514Z"
   },
   {
    "duration": 183,
    "start_time": "2022-03-15T02:38:06.551Z"
   },
   {
    "duration": 9,
    "start_time": "2022-03-15T02:38:06.737Z"
   },
   {
    "duration": 29,
    "start_time": "2022-03-15T02:38:06.748Z"
   },
   {
    "duration": 53,
    "start_time": "2022-03-15T02:38:06.779Z"
   },
   {
    "duration": 30,
    "start_time": "2022-03-15T02:38:06.835Z"
   },
   {
    "duration": 34,
    "start_time": "2022-03-15T02:38:06.867Z"
   },
   {
    "duration": 17,
    "start_time": "2022-03-15T02:38:06.903Z"
   },
   {
    "duration": 28,
    "start_time": "2022-03-15T02:38:06.922Z"
   },
   {
    "duration": 42,
    "start_time": "2022-03-15T02:38:06.952Z"
   },
   {
    "duration": 132,
    "start_time": "2022-03-15T02:38:06.997Z"
   },
   {
    "duration": 473,
    "start_time": "2022-03-15T02:38:07.132Z"
   },
   {
    "duration": 371,
    "start_time": "2022-03-15T02:38:07.608Z"
   },
   {
    "duration": -2087,
    "start_time": "2022-03-15T02:38:10.070Z"
   },
   {
    "duration": -2091,
    "start_time": "2022-03-15T02:38:10.075Z"
   },
   {
    "duration": -2129,
    "start_time": "2022-03-15T02:38:10.114Z"
   },
   {
    "duration": -2131,
    "start_time": "2022-03-15T02:38:10.118Z"
   },
   {
    "duration": -2140,
    "start_time": "2022-03-15T02:38:10.128Z"
   },
   {
    "duration": -2142,
    "start_time": "2022-03-15T02:38:10.131Z"
   },
   {
    "duration": -2144,
    "start_time": "2022-03-15T02:38:10.135Z"
   },
   {
    "duration": -2147,
    "start_time": "2022-03-15T02:38:10.139Z"
   },
   {
    "duration": -2150,
    "start_time": "2022-03-15T02:38:10.143Z"
   },
   {
    "duration": -2153,
    "start_time": "2022-03-15T02:38:10.147Z"
   },
   {
    "duration": -2156,
    "start_time": "2022-03-15T02:38:10.151Z"
   },
   {
    "duration": -2158,
    "start_time": "2022-03-15T02:38:10.155Z"
   },
   {
    "duration": -2161,
    "start_time": "2022-03-15T02:38:10.159Z"
   },
   {
    "duration": -2163,
    "start_time": "2022-03-15T02:38:10.162Z"
   },
   {
    "duration": -2167,
    "start_time": "2022-03-15T02:38:10.167Z"
   },
   {
    "duration": -2168,
    "start_time": "2022-03-15T02:38:10.170Z"
   },
   {
    "duration": -2171,
    "start_time": "2022-03-15T02:38:10.174Z"
   },
   {
    "duration": -2173,
    "start_time": "2022-03-15T02:38:10.178Z"
   },
   {
    "duration": -2175,
    "start_time": "2022-03-15T02:38:10.182Z"
   },
   {
    "duration": -2184,
    "start_time": "2022-03-15T02:38:10.193Z"
   },
   {
    "duration": -2186,
    "start_time": "2022-03-15T02:38:10.197Z"
   },
   {
    "duration": -2188,
    "start_time": "2022-03-15T02:38:10.200Z"
   },
   {
    "duration": -2191,
    "start_time": "2022-03-15T02:38:10.204Z"
   },
   {
    "duration": -2204,
    "start_time": "2022-03-15T02:38:10.219Z"
   },
   {
    "duration": -2226,
    "start_time": "2022-03-15T02:38:10.243Z"
   },
   {
    "duration": -2228,
    "start_time": "2022-03-15T02:38:10.246Z"
   },
   {
    "duration": -2231,
    "start_time": "2022-03-15T02:38:10.250Z"
   },
   {
    "duration": -2233,
    "start_time": "2022-03-15T02:38:10.254Z"
   },
   {
    "duration": -2235,
    "start_time": "2022-03-15T02:38:10.258Z"
   },
   {
    "duration": -2237,
    "start_time": "2022-03-15T02:38:10.261Z"
   },
   {
    "duration": -2239,
    "start_time": "2022-03-15T02:38:10.265Z"
   },
   {
    "duration": -2188,
    "start_time": "2022-03-15T02:38:10.275Z"
   },
   {
    "duration": -2195,
    "start_time": "2022-03-15T02:38:10.284Z"
   },
   {
    "duration": -2203,
    "start_time": "2022-03-15T02:38:10.293Z"
   },
   {
    "duration": 76,
    "start_time": "2022-03-15T02:38:25.498Z"
   },
   {
    "duration": 425,
    "start_time": "2022-03-15T02:38:28.694Z"
   },
   {
    "duration": 1866,
    "start_time": "2022-03-15T04:00:21.128Z"
   },
   {
    "duration": 134,
    "start_time": "2022-03-15T04:00:24.694Z"
   },
   {
    "duration": 20,
    "start_time": "2022-03-15T04:07:30.091Z"
   },
   {
    "duration": 22,
    "start_time": "2022-03-15T04:07:40.748Z"
   },
   {
    "duration": 5,
    "start_time": "2022-03-15T04:07:45.282Z"
   },
   {
    "duration": 13,
    "start_time": "2022-03-15T04:07:48.706Z"
   },
   {
    "duration": 12,
    "start_time": "2022-03-15T04:07:51.202Z"
   },
   {
    "duration": 35,
    "start_time": "2022-03-15T04:07:53.451Z"
   },
   {
    "duration": 30,
    "start_time": "2022-03-15T04:08:00.634Z"
   },
   {
    "duration": 7,
    "start_time": "2022-03-15T04:08:05.539Z"
   },
   {
    "duration": 13,
    "start_time": "2022-03-15T04:08:07.443Z"
   },
   {
    "duration": 15,
    "start_time": "2022-03-15T04:08:13.722Z"
   },
   {
    "duration": 9,
    "start_time": "2022-03-15T04:08:15.738Z"
   },
   {
    "duration": 22,
    "start_time": "2022-03-15T04:08:20.707Z"
   },
   {
    "duration": 5,
    "start_time": "2022-03-15T04:08:50.546Z"
   },
   {
    "duration": 941,
    "start_time": "2022-03-15T04:08:52.386Z"
   },
   {
    "duration": 14,
    "start_time": "2022-03-15T04:08:55.834Z"
   },
   {
    "duration": 19,
    "start_time": "2022-03-15T04:09:36.746Z"
   },
   {
    "duration": 178,
    "start_time": "2022-03-15T04:09:39.498Z"
   },
   {
    "duration": 18,
    "start_time": "2022-03-15T04:09:43.811Z"
   },
   {
    "duration": 6,
    "start_time": "2022-03-15T04:09:45.970Z"
   },
   {
    "duration": 11,
    "start_time": "2022-03-15T04:09:48.026Z"
   },
   {
    "duration": 8,
    "start_time": "2022-03-15T04:09:51.306Z"
   },
   {
    "duration": 9,
    "start_time": "2022-03-15T04:09:53.514Z"
   },
   {
    "duration": 40,
    "start_time": "2022-03-15T04:10:28.433Z"
   },
   {
    "duration": 364,
    "start_time": "2022-03-15T04:10:31.113Z"
   },
   {
    "duration": 42,
    "start_time": "2022-03-15T04:10:33.921Z"
   },
   {
    "duration": 24,
    "start_time": "2022-03-15T04:10:35.697Z"
   },
   {
    "duration": 25,
    "start_time": "2022-03-15T04:10:40.897Z"
   },
   {
    "duration": 12,
    "start_time": "2022-03-15T04:10:46.593Z"
   },
   {
    "duration": 12,
    "start_time": "2022-03-15T04:11:16.671Z"
   },
   {
    "duration": 20,
    "start_time": "2022-03-15T04:11:23.057Z"
   },
   {
    "duration": 25,
    "start_time": "2022-03-15T04:11:26.752Z"
   },
   {
    "duration": 29,
    "start_time": "2022-03-15T04:11:33.528Z"
   },
   {
    "duration": 125,
    "start_time": "2022-03-15T04:11:40.544Z"
   },
   {
    "duration": 31,
    "start_time": "2022-03-15T04:11:43.057Z"
   },
   {
    "duration": 26,
    "start_time": "2022-03-15T04:11:49.233Z"
   },
   {
    "duration": 27,
    "start_time": "2022-03-15T04:11:51.112Z"
   },
   {
    "duration": 18,
    "start_time": "2022-03-15T04:12:00.112Z"
   },
   {
    "duration": 14,
    "start_time": "2022-03-15T04:12:12.184Z"
   },
   {
    "duration": 42,
    "start_time": "2022-03-15T04:12:20.396Z"
   },
   {
    "duration": 25,
    "start_time": "2022-03-15T04:12:25.937Z"
   },
   {
    "duration": 34,
    "start_time": "2022-03-15T04:12:28.648Z"
   },
   {
    "duration": 146,
    "start_time": "2022-03-15T04:12:32.740Z"
   },
   {
    "duration": 10,
    "start_time": "2022-03-15T04:12:57.880Z"
   },
   {
    "duration": 7,
    "start_time": "2022-03-15T04:13:30.808Z"
   },
   {
    "duration": 36,
    "start_time": "2022-03-15T04:13:32.716Z"
   },
   {
    "duration": 31,
    "start_time": "2022-03-15T04:13:36.192Z"
   },
   {
    "duration": 30,
    "start_time": "2022-03-15T04:13:37.920Z"
   },
   {
    "duration": 17,
    "start_time": "2022-03-15T04:13:40.663Z"
   },
   {
    "duration": 18,
    "start_time": "2022-03-15T04:13:43.216Z"
   },
   {
    "duration": 17,
    "start_time": "2022-03-15T04:13:45.727Z"
   },
   {
    "duration": 1974,
    "start_time": "2022-03-15T04:14:17.009Z"
   },
   {
    "duration": 137,
    "start_time": "2022-03-15T04:14:18.986Z"
   },
   {
    "duration": 19,
    "start_time": "2022-03-15T04:14:19.126Z"
   },
   {
    "duration": 38,
    "start_time": "2022-03-15T04:14:19.148Z"
   },
   {
    "duration": 15,
    "start_time": "2022-03-15T04:14:19.189Z"
   },
   {
    "duration": 9,
    "start_time": "2022-03-15T04:14:19.207Z"
   },
   {
    "duration": 32,
    "start_time": "2022-03-15T04:14:19.219Z"
   },
   {
    "duration": 7,
    "start_time": "2022-03-15T04:14:19.289Z"
   },
   {
    "duration": 14,
    "start_time": "2022-03-15T04:14:19.300Z"
   },
   {
    "duration": 14,
    "start_time": "2022-03-15T04:14:19.317Z"
   },
   {
    "duration": 54,
    "start_time": "2022-03-15T04:14:19.334Z"
   },
   {
    "duration": 21,
    "start_time": "2022-03-15T04:14:19.391Z"
   },
   {
    "duration": 8,
    "start_time": "2022-03-15T04:14:19.414Z"
   },
   {
    "duration": 949,
    "start_time": "2022-03-15T04:14:19.425Z"
   },
   {
    "duration": 18,
    "start_time": "2022-03-15T04:14:20.377Z"
   },
   {
    "duration": 18,
    "start_time": "2022-03-15T04:14:20.397Z"
   },
   {
    "duration": 186,
    "start_time": "2022-03-15T04:14:20.418Z"
   },
   {
    "duration": 18,
    "start_time": "2022-03-15T04:14:20.606Z"
   },
   {
    "duration": 5,
    "start_time": "2022-03-15T04:14:20.627Z"
   },
   {
    "duration": 21,
    "start_time": "2022-03-15T04:14:20.634Z"
   },
   {
    "duration": 35,
    "start_time": "2022-03-15T04:14:20.657Z"
   },
   {
    "duration": 12,
    "start_time": "2022-03-15T04:14:20.694Z"
   },
   {
    "duration": 41,
    "start_time": "2022-03-15T04:14:20.712Z"
   },
   {
    "duration": 394,
    "start_time": "2022-03-15T04:14:20.756Z"
   },
   {
    "duration": 55,
    "start_time": "2022-03-15T04:14:21.152Z"
   },
   {
    "duration": 24,
    "start_time": "2022-03-15T04:14:21.209Z"
   },
   {
    "duration": 23,
    "start_time": "2022-03-15T04:14:21.235Z"
   },
   {
    "duration": 12,
    "start_time": "2022-03-15T04:14:21.287Z"
   },
   {
    "duration": 22,
    "start_time": "2022-03-15T04:14:21.301Z"
   },
   {
    "duration": 23,
    "start_time": "2022-03-15T04:14:21.325Z"
   },
   {
    "duration": 58,
    "start_time": "2022-03-15T04:14:21.351Z"
   },
   {
    "duration": 153,
    "start_time": "2022-03-15T04:14:21.412Z"
   },
   {
    "duration": 40,
    "start_time": "2022-03-15T04:14:21.568Z"
   },
   {
    "duration": 25,
    "start_time": "2022-03-15T04:14:21.611Z"
   },
   {
    "duration": 50,
    "start_time": "2022-03-15T04:14:21.639Z"
   },
   {
    "duration": 17,
    "start_time": "2022-03-15T04:14:21.692Z"
   },
   {
    "duration": 15,
    "start_time": "2022-03-15T04:14:21.712Z"
   },
   {
    "duration": 67,
    "start_time": "2022-03-15T04:14:21.729Z"
   },
   {
    "duration": 27,
    "start_time": "2022-03-15T04:14:21.799Z"
   },
   {
    "duration": 62,
    "start_time": "2022-03-15T04:14:21.829Z"
   },
   {
    "duration": 153,
    "start_time": "2022-03-15T04:14:21.894Z"
   },
   {
    "duration": 9,
    "start_time": "2022-03-15T04:14:22.050Z"
   },
   {
    "duration": 27,
    "start_time": "2022-03-15T04:14:22.062Z"
   },
   {
    "duration": 37,
    "start_time": "2022-03-15T04:14:22.091Z"
   },
   {
    "duration": 59,
    "start_time": "2022-03-15T04:14:22.131Z"
   },
   {
    "duration": 30,
    "start_time": "2022-03-15T04:14:22.193Z"
   },
   {
    "duration": 16,
    "start_time": "2022-03-15T04:14:22.226Z"
   },
   {
    "duration": 47,
    "start_time": "2022-03-15T04:14:22.244Z"
   },
   {
    "duration": 17,
    "start_time": "2022-03-15T04:14:22.294Z"
   },
   {
    "duration": 565,
    "start_time": "2022-03-15T04:16:52.939Z"
   },
   {
    "duration": 431,
    "start_time": "2022-03-15T04:17:09.864Z"
   },
   {
    "duration": 387,
    "start_time": "2022-03-15T04:17:26.683Z"
   },
   {
    "duration": 113,
    "start_time": "2022-03-15T04:17:33.561Z"
   },
   {
    "duration": 437,
    "start_time": "2022-03-15T04:18:08.010Z"
   },
   {
    "duration": 389,
    "start_time": "2022-03-15T04:19:07.530Z"
   },
   {
    "duration": 429,
    "start_time": "2022-03-15T04:19:14.185Z"
   },
   {
    "duration": 420,
    "start_time": "2022-03-15T04:19:25.586Z"
   },
   {
    "duration": 440,
    "start_time": "2022-03-15T04:19:40.497Z"
   },
   {
    "duration": 399,
    "start_time": "2022-03-15T04:25:40.331Z"
   },
   {
    "duration": 419,
    "start_time": "2022-03-15T04:26:31.845Z"
   },
   {
    "duration": 36,
    "start_time": "2022-03-15T04:38:58.734Z"
   },
   {
    "duration": 236,
    "start_time": "2022-03-15T04:41:56.188Z"
   },
   {
    "duration": 35,
    "start_time": "2022-03-15T04:42:19.361Z"
   },
   {
    "duration": 6237,
    "start_time": "2022-03-15T04:42:20.795Z"
   },
   {
    "duration": 5944,
    "start_time": "2022-03-15T04:42:38.708Z"
   },
   {
    "duration": -2190,
    "start_time": "2022-03-15T04:42:46.844Z"
   },
   {
    "duration": 37,
    "start_time": "2022-03-15T04:42:46.867Z"
   },
   {
    "duration": 5755,
    "start_time": "2022-03-15T04:42:49.451Z"
   },
   {
    "duration": 6442,
    "start_time": "2022-03-15T04:42:56.179Z"
   },
   {
    "duration": 8,
    "start_time": "2022-03-15T04:43:42.715Z"
   },
   {
    "duration": 37,
    "start_time": "2022-03-15T04:47:15.053Z"
   },
   {
    "duration": 8,
    "start_time": "2022-03-15T04:47:42.964Z"
   },
   {
    "duration": 44,
    "start_time": "2022-03-15T04:49:08.401Z"
   },
   {
    "duration": 9,
    "start_time": "2022-03-15T04:49:10.659Z"
   },
   {
    "duration": 3550,
    "start_time": "2022-03-15T04:53:17.808Z"
   },
   {
    "duration": 9214,
    "start_time": "2022-03-15T04:53:38.551Z"
   },
   {
    "duration": 4426,
    "start_time": "2022-03-15T04:54:52.112Z"
   },
   {
    "duration": 4178,
    "start_time": "2022-03-15T04:55:14.927Z"
   },
   {
    "duration": 363,
    "start_time": "2022-03-15T05:05:33.777Z"
   },
   {
    "duration": 353,
    "start_time": "2022-03-15T05:10:14.497Z"
   },
   {
    "duration": 288,
    "start_time": "2022-03-15T05:10:16.907Z"
   },
   {
    "duration": 46,
    "start_time": "2022-03-15T05:10:24.747Z"
   },
   {
    "duration": 1703,
    "start_time": "2022-03-15T05:13:21.440Z"
   },
   {
    "duration": 516,
    "start_time": "2022-03-15T05:18:34.668Z"
   },
   {
    "duration": 641,
    "start_time": "2022-03-15T05:19:48.299Z"
   },
   {
    "duration": 516,
    "start_time": "2022-03-15T05:20:15.913Z"
   },
   {
    "duration": 5935,
    "start_time": "2022-03-15T05:49:11.755Z"
   },
   {
    "duration": 2004,
    "start_time": "2022-03-15T05:49:30.676Z"
   },
   {
    "duration": 138,
    "start_time": "2022-03-15T05:49:32.683Z"
   },
   {
    "duration": 18,
    "start_time": "2022-03-15T05:49:32.824Z"
   },
   {
    "duration": 6,
    "start_time": "2022-03-15T05:49:32.845Z"
   },
   {
    "duration": 13,
    "start_time": "2022-03-15T05:49:32.888Z"
   },
   {
    "duration": 15,
    "start_time": "2022-03-15T05:49:32.903Z"
   },
   {
    "duration": 42,
    "start_time": "2022-03-15T05:49:32.920Z"
   },
   {
    "duration": 6,
    "start_time": "2022-03-15T05:49:32.988Z"
   },
   {
    "duration": 13,
    "start_time": "2022-03-15T05:49:32.998Z"
   },
   {
    "duration": 13,
    "start_time": "2022-03-15T05:49:33.014Z"
   },
   {
    "duration": 5,
    "start_time": "2022-03-15T05:49:33.029Z"
   },
   {
    "duration": 63,
    "start_time": "2022-03-15T05:49:33.036Z"
   },
   {
    "duration": 6,
    "start_time": "2022-03-15T05:49:33.102Z"
   },
   {
    "duration": 987,
    "start_time": "2022-03-15T05:49:33.111Z"
   },
   {
    "duration": 15,
    "start_time": "2022-03-15T05:49:34.101Z"
   },
   {
    "duration": 18,
    "start_time": "2022-03-15T05:49:34.119Z"
   },
   {
    "duration": 196,
    "start_time": "2022-03-15T05:49:34.139Z"
   },
   {
    "duration": 21,
    "start_time": "2022-03-15T05:49:34.338Z"
   },
   {
    "duration": 6,
    "start_time": "2022-03-15T05:49:34.388Z"
   },
   {
    "duration": 15,
    "start_time": "2022-03-15T05:49:34.397Z"
   },
   {
    "duration": 11,
    "start_time": "2022-03-15T05:49:34.415Z"
   },
   {
    "duration": 11,
    "start_time": "2022-03-15T05:49:34.429Z"
   },
   {
    "duration": 52,
    "start_time": "2022-03-15T05:49:34.442Z"
   },
   {
    "duration": 43,
    "start_time": "2022-03-15T05:49:34.497Z"
   },
   {
    "duration": 346,
    "start_time": "2022-03-15T05:49:34.542Z"
   },
   {
    "duration": 41,
    "start_time": "2022-03-15T05:49:34.890Z"
   },
   {
    "duration": 25,
    "start_time": "2022-03-15T05:49:34.937Z"
   },
   {
    "duration": 24,
    "start_time": "2022-03-15T05:49:34.988Z"
   },
   {
    "duration": 12,
    "start_time": "2022-03-15T05:49:35.014Z"
   },
   {
    "duration": 21,
    "start_time": "2022-03-15T05:49:35.028Z"
   },
   {
    "duration": 23,
    "start_time": "2022-03-15T05:49:35.088Z"
   },
   {
    "duration": 27,
    "start_time": "2022-03-15T05:49:35.113Z"
   },
   {
    "duration": 163,
    "start_time": "2022-03-15T05:49:35.143Z"
   },
   {
    "duration": 33,
    "start_time": "2022-03-15T05:49:35.308Z"
   },
   {
    "duration": 50,
    "start_time": "2022-03-15T05:49:35.344Z"
   },
   {
    "duration": 27,
    "start_time": "2022-03-15T05:49:35.396Z"
   },
   {
    "duration": 15,
    "start_time": "2022-03-15T05:49:35.425Z"
   },
   {
    "duration": 46,
    "start_time": "2022-03-15T05:49:35.442Z"
   },
   {
    "duration": 38,
    "start_time": "2022-03-15T05:49:35.490Z"
   },
   {
    "duration": 26,
    "start_time": "2022-03-15T05:49:35.531Z"
   },
   {
    "duration": 37,
    "start_time": "2022-03-15T05:49:35.587Z"
   },
   {
    "duration": 173,
    "start_time": "2022-03-15T05:49:35.626Z"
   },
   {
    "duration": 10,
    "start_time": "2022-03-15T05:49:35.801Z"
   },
   {
    "duration": 7,
    "start_time": "2022-03-15T05:49:35.813Z"
   },
   {
    "duration": 67,
    "start_time": "2022-03-15T05:49:35.822Z"
   },
   {
    "duration": 30,
    "start_time": "2022-03-15T05:49:35.891Z"
   },
   {
    "duration": 30,
    "start_time": "2022-03-15T05:49:35.923Z"
   },
   {
    "duration": 51,
    "start_time": "2022-03-15T05:49:35.955Z"
   },
   {
    "duration": 18,
    "start_time": "2022-03-15T05:49:36.009Z"
   },
   {
    "duration": 17,
    "start_time": "2022-03-15T05:49:36.030Z"
   },
   {
    "duration": 133,
    "start_time": "2022-03-15T05:49:36.086Z"
   },
   {
    "duration": 1035,
    "start_time": "2022-03-15T05:49:36.221Z"
   },
   {
    "duration": -2891,
    "start_time": "2022-03-15T05:49:40.150Z"
   },
   {
    "duration": -2892,
    "start_time": "2022-03-15T05:49:40.152Z"
   },
   {
    "duration": -2922,
    "start_time": "2022-03-15T05:49:40.184Z"
   },
   {
    "duration": -2924,
    "start_time": "2022-03-15T05:49:40.187Z"
   },
   {
    "duration": -2926,
    "start_time": "2022-03-15T05:49:40.191Z"
   },
   {
    "duration": -2926,
    "start_time": "2022-03-15T05:49:40.193Z"
   },
   {
    "duration": -2927,
    "start_time": "2022-03-15T05:49:40.195Z"
   },
   {
    "duration": -2927,
    "start_time": "2022-03-15T05:49:40.197Z"
   },
   {
    "duration": -2934,
    "start_time": "2022-03-15T05:49:40.205Z"
   },
   {
    "duration": -2935,
    "start_time": "2022-03-15T05:49:40.208Z"
   },
   {
    "duration": -2936,
    "start_time": "2022-03-15T05:49:40.210Z"
   },
   {
    "duration": 523,
    "start_time": "2022-03-15T05:49:49.155Z"
   },
   {
    "duration": 136,
    "start_time": "2022-03-15T05:49:49.681Z"
   },
   {
    "duration": 19,
    "start_time": "2022-03-15T05:49:49.820Z"
   },
   {
    "duration": 5,
    "start_time": "2022-03-15T05:49:49.841Z"
   },
   {
    "duration": 48,
    "start_time": "2022-03-15T05:49:49.848Z"
   },
   {
    "duration": 25,
    "start_time": "2022-03-15T05:49:49.898Z"
   },
   {
    "duration": 57,
    "start_time": "2022-03-15T05:49:49.925Z"
   },
   {
    "duration": 12,
    "start_time": "2022-03-15T05:49:49.985Z"
   },
   {
    "duration": 19,
    "start_time": "2022-03-15T05:49:50.000Z"
   },
   {
    "duration": 29,
    "start_time": "2022-03-15T05:49:50.022Z"
   },
   {
    "duration": 39,
    "start_time": "2022-03-15T05:49:50.054Z"
   },
   {
    "duration": 21,
    "start_time": "2022-03-15T05:49:50.095Z"
   },
   {
    "duration": 20,
    "start_time": "2022-03-15T05:49:50.118Z"
   },
   {
    "duration": 982,
    "start_time": "2022-03-15T05:49:50.141Z"
   },
   {
    "duration": 15,
    "start_time": "2022-03-15T05:49:51.126Z"
   },
   {
    "duration": 44,
    "start_time": "2022-03-15T05:49:51.143Z"
   },
   {
    "duration": 163,
    "start_time": "2022-03-15T05:49:51.189Z"
   },
   {
    "duration": 35,
    "start_time": "2022-03-15T05:49:51.355Z"
   },
   {
    "duration": 6,
    "start_time": "2022-03-15T05:49:51.392Z"
   },
   {
    "duration": 17,
    "start_time": "2022-03-15T05:49:51.401Z"
   },
   {
    "duration": 42,
    "start_time": "2022-03-15T05:49:51.420Z"
   },
   {
    "duration": 21,
    "start_time": "2022-03-15T05:49:51.465Z"
   },
   {
    "duration": 16,
    "start_time": "2022-03-15T05:49:51.493Z"
   },
   {
    "duration": 49,
    "start_time": "2022-03-15T05:49:51.513Z"
   },
   {
    "duration": 322,
    "start_time": "2022-03-15T05:49:51.565Z"
   },
   {
    "duration": 41,
    "start_time": "2022-03-15T05:49:51.889Z"
   },
   {
    "duration": 24,
    "start_time": "2022-03-15T05:49:51.932Z"
   },
   {
    "duration": 51,
    "start_time": "2022-03-15T05:49:51.959Z"
   },
   {
    "duration": 13,
    "start_time": "2022-03-15T05:49:52.012Z"
   },
   {
    "duration": 20,
    "start_time": "2022-03-15T05:49:52.027Z"
   },
   {
    "duration": 55,
    "start_time": "2022-03-15T05:49:52.049Z"
   },
   {
    "duration": 29,
    "start_time": "2022-03-15T05:49:52.106Z"
   },
   {
    "duration": 172,
    "start_time": "2022-03-15T05:49:52.138Z"
   },
   {
    "duration": 32,
    "start_time": "2022-03-15T05:49:52.312Z"
   },
   {
    "duration": 46,
    "start_time": "2022-03-15T05:49:52.347Z"
   },
   {
    "duration": 28,
    "start_time": "2022-03-15T05:49:52.396Z"
   },
   {
    "duration": 19,
    "start_time": "2022-03-15T05:49:52.427Z"
   },
   {
    "duration": 50,
    "start_time": "2022-03-15T05:49:52.449Z"
   },
   {
    "duration": 38,
    "start_time": "2022-03-15T05:49:52.501Z"
   },
   {
    "duration": 63,
    "start_time": "2022-03-15T05:49:52.542Z"
   },
   {
    "duration": 39,
    "start_time": "2022-03-15T05:49:52.609Z"
   },
   {
    "duration": 192,
    "start_time": "2022-03-15T05:49:52.651Z"
   },
   {
    "duration": 11,
    "start_time": "2022-03-15T05:49:52.846Z"
   },
   {
    "duration": 29,
    "start_time": "2022-03-15T05:49:52.860Z"
   },
   {
    "duration": 61,
    "start_time": "2022-03-15T05:49:52.893Z"
   },
   {
    "duration": 40,
    "start_time": "2022-03-15T05:49:52.957Z"
   },
   {
    "duration": 33,
    "start_time": "2022-03-15T05:49:53.000Z"
   },
   {
    "duration": 51,
    "start_time": "2022-03-15T05:49:53.036Z"
   },
   {
    "duration": 26,
    "start_time": "2022-03-15T05:49:53.090Z"
   },
   {
    "duration": 16,
    "start_time": "2022-03-15T05:49:53.119Z"
   },
   {
    "duration": 153,
    "start_time": "2022-03-15T05:49:53.138Z"
   },
   {
    "duration": 726,
    "start_time": "2022-03-15T05:49:53.293Z"
   },
   {
    "duration": -2174,
    "start_time": "2022-03-15T05:49:56.196Z"
   },
   {
    "duration": -2209,
    "start_time": "2022-03-15T05:49:56.232Z"
   },
   {
    "duration": -2213,
    "start_time": "2022-03-15T05:49:56.238Z"
   },
   {
    "duration": -2215,
    "start_time": "2022-03-15T05:49:56.241Z"
   },
   {
    "duration": -2215,
    "start_time": "2022-03-15T05:49:56.243Z"
   },
   {
    "duration": -2216,
    "start_time": "2022-03-15T05:49:56.245Z"
   },
   {
    "duration": -2217,
    "start_time": "2022-03-15T05:49:56.247Z"
   },
   {
    "duration": -2217,
    "start_time": "2022-03-15T05:49:56.249Z"
   },
   {
    "duration": -2218,
    "start_time": "2022-03-15T05:49:56.251Z"
   },
   {
    "duration": -2220,
    "start_time": "2022-03-15T05:49:56.254Z"
   },
   {
    "duration": 1949,
    "start_time": "2022-03-15T05:50:52.425Z"
   },
   {
    "duration": 136,
    "start_time": "2022-03-15T05:50:54.377Z"
   },
   {
    "duration": 19,
    "start_time": "2022-03-15T05:50:54.516Z"
   },
   {
    "duration": 7,
    "start_time": "2022-03-15T05:50:54.538Z"
   },
   {
    "duration": 47,
    "start_time": "2022-03-15T05:50:54.548Z"
   },
   {
    "duration": 13,
    "start_time": "2022-03-15T05:50:54.597Z"
   },
   {
    "duration": 38,
    "start_time": "2022-03-15T05:50:54.612Z"
   },
   {
    "duration": 6,
    "start_time": "2022-03-15T05:50:54.653Z"
   },
   {
    "duration": 13,
    "start_time": "2022-03-15T05:50:54.690Z"
   },
   {
    "duration": 12,
    "start_time": "2022-03-15T05:50:54.706Z"
   },
   {
    "duration": 5,
    "start_time": "2022-03-15T05:50:54.721Z"
   },
   {
    "duration": 61,
    "start_time": "2022-03-15T05:50:54.729Z"
   },
   {
    "duration": 5,
    "start_time": "2022-03-15T05:50:54.793Z"
   },
   {
    "duration": 972,
    "start_time": "2022-03-15T05:50:54.800Z"
   },
   {
    "duration": 24,
    "start_time": "2022-03-15T05:50:55.775Z"
   },
   {
    "duration": 20,
    "start_time": "2022-03-15T05:50:55.801Z"
   },
   {
    "duration": 183,
    "start_time": "2022-03-15T05:50:55.824Z"
   },
   {
    "duration": 18,
    "start_time": "2022-03-15T05:50:56.010Z"
   },
   {
    "duration": 12,
    "start_time": "2022-03-15T05:50:56.031Z"
   },
   {
    "duration": 15,
    "start_time": "2022-03-15T05:50:56.045Z"
   },
   {
    "duration": 30,
    "start_time": "2022-03-15T05:50:56.063Z"
   },
   {
    "duration": 11,
    "start_time": "2022-03-15T05:50:56.095Z"
   },
   {
    "duration": 10,
    "start_time": "2022-03-15T05:50:56.109Z"
   },
   {
    "duration": 74,
    "start_time": "2022-03-15T05:50:56.121Z"
   },
   {
    "duration": 316,
    "start_time": "2022-03-15T05:50:56.198Z"
   },
   {
    "duration": 48,
    "start_time": "2022-03-15T05:50:56.516Z"
   },
   {
    "duration": 23,
    "start_time": "2022-03-15T05:50:56.586Z"
   },
   {
    "duration": 24,
    "start_time": "2022-03-15T05:50:56.612Z"
   },
   {
    "duration": 12,
    "start_time": "2022-03-15T05:50:56.638Z"
   },
   {
    "duration": 19,
    "start_time": "2022-03-15T05:50:56.688Z"
   },
   {
    "duration": 23,
    "start_time": "2022-03-15T05:50:56.709Z"
   },
   {
    "duration": 56,
    "start_time": "2022-03-15T05:50:56.735Z"
   },
   {
    "duration": 148,
    "start_time": "2022-03-15T05:50:56.794Z"
   },
   {
    "duration": 44,
    "start_time": "2022-03-15T05:50:56.944Z"
   },
   {
    "duration": 27,
    "start_time": "2022-03-15T05:50:56.991Z"
   },
   {
    "duration": 25,
    "start_time": "2022-03-15T05:50:57.020Z"
   },
   {
    "duration": 49,
    "start_time": "2022-03-15T05:50:57.048Z"
   },
   {
    "duration": 15,
    "start_time": "2022-03-15T05:50:57.100Z"
   },
   {
    "duration": 36,
    "start_time": "2022-03-15T05:50:57.117Z"
   },
   {
    "duration": 28,
    "start_time": "2022-03-15T05:50:57.187Z"
   },
   {
    "duration": 33,
    "start_time": "2022-03-15T05:50:57.218Z"
   },
   {
    "duration": 179,
    "start_time": "2022-03-15T05:50:57.254Z"
   },
   {
    "duration": 9,
    "start_time": "2022-03-15T05:50:57.435Z"
   },
   {
    "duration": 7,
    "start_time": "2022-03-15T05:50:57.447Z"
   },
   {
    "duration": 69,
    "start_time": "2022-03-15T05:50:57.456Z"
   },
   {
    "duration": 32,
    "start_time": "2022-03-15T05:50:57.527Z"
   },
   {
    "duration": 47,
    "start_time": "2022-03-15T05:50:57.561Z"
   },
   {
    "duration": 18,
    "start_time": "2022-03-15T05:50:57.610Z"
   },
   {
    "duration": 17,
    "start_time": "2022-03-15T05:50:57.630Z"
   },
   {
    "duration": 51,
    "start_time": "2022-03-15T05:50:57.649Z"
   },
   {
    "duration": 143,
    "start_time": "2022-03-15T05:50:57.703Z"
   },
   {
    "duration": 467,
    "start_time": "2022-03-15T05:50:57.848Z"
   },
   {
    "duration": 35,
    "start_time": "2022-03-15T05:50:58.317Z"
   },
   {
    "duration": 68,
    "start_time": "2022-03-15T05:50:58.355Z"
   },
   {
    "duration": 9,
    "start_time": "2022-03-15T05:50:58.425Z"
   },
   {
    "duration": 4347,
    "start_time": "2022-03-15T05:50:58.436Z"
   },
   {
    "duration": 387,
    "start_time": "2022-03-15T05:51:02.787Z"
   },
   {
    "duration": -2213,
    "start_time": "2022-03-15T05:51:05.389Z"
   },
   {
    "duration": -2214,
    "start_time": "2022-03-15T05:51:05.392Z"
   },
   {
    "duration": -2215,
    "start_time": "2022-03-15T05:51:05.394Z"
   },
   {
    "duration": -2215,
    "start_time": "2022-03-15T05:51:05.396Z"
   },
   {
    "duration": -2215,
    "start_time": "2022-03-15T05:51:05.398Z"
   },
   {
    "duration": 335,
    "start_time": "2022-03-15T05:51:11.526Z"
   },
   {
    "duration": 47,
    "start_time": "2022-03-15T05:51:14.055Z"
   },
   {
    "duration": 1592,
    "start_time": "2022-03-15T05:51:16.702Z"
   },
   {
    "duration": 497,
    "start_time": "2022-03-15T05:51:23.342Z"
   },
   {
    "duration": 148,
    "start_time": "2022-03-15T05:51:23.842Z"
   },
   {
    "duration": 19,
    "start_time": "2022-03-15T05:51:23.993Z"
   },
   {
    "duration": 5,
    "start_time": "2022-03-15T05:51:24.014Z"
   },
   {
    "duration": 16,
    "start_time": "2022-03-15T05:51:24.021Z"
   },
   {
    "duration": 49,
    "start_time": "2022-03-15T05:51:24.039Z"
   },
   {
    "duration": 30,
    "start_time": "2022-03-15T05:51:24.090Z"
   },
   {
    "duration": 7,
    "start_time": "2022-03-15T05:51:24.126Z"
   },
   {
    "duration": 55,
    "start_time": "2022-03-15T05:51:24.137Z"
   },
   {
    "duration": 16,
    "start_time": "2022-03-15T05:51:24.195Z"
   },
   {
    "duration": 33,
    "start_time": "2022-03-15T05:51:24.214Z"
   },
   {
    "duration": 52,
    "start_time": "2022-03-15T05:51:24.249Z"
   },
   {
    "duration": 4,
    "start_time": "2022-03-15T05:51:24.304Z"
   },
   {
    "duration": 987,
    "start_time": "2022-03-15T05:51:24.310Z"
   },
   {
    "duration": 14,
    "start_time": "2022-03-15T05:51:25.300Z"
   },
   {
    "duration": 22,
    "start_time": "2022-03-15T05:51:25.316Z"
   },
   {
    "duration": 200,
    "start_time": "2022-03-15T05:51:25.340Z"
   },
   {
    "duration": 19,
    "start_time": "2022-03-15T05:51:25.543Z"
   },
   {
    "duration": 30,
    "start_time": "2022-03-15T05:51:25.565Z"
   },
   {
    "duration": 15,
    "start_time": "2022-03-15T05:51:25.598Z"
   },
   {
    "duration": 8,
    "start_time": "2022-03-15T05:51:25.615Z"
   },
   {
    "duration": 11,
    "start_time": "2022-03-15T05:51:25.626Z"
   },
   {
    "duration": 48,
    "start_time": "2022-03-15T05:51:25.644Z"
   },
   {
    "duration": 39,
    "start_time": "2022-03-15T05:51:25.696Z"
   },
   {
    "duration": 319,
    "start_time": "2022-03-15T05:51:25.737Z"
   },
   {
    "duration": 52,
    "start_time": "2022-03-15T05:51:26.059Z"
   },
   {
    "duration": 28,
    "start_time": "2022-03-15T05:51:26.114Z"
   },
   {
    "duration": 47,
    "start_time": "2022-03-15T05:51:26.145Z"
   },
   {
    "duration": 12,
    "start_time": "2022-03-15T05:51:26.195Z"
   },
   {
    "duration": 19,
    "start_time": "2022-03-15T05:51:26.209Z"
   },
   {
    "duration": 20,
    "start_time": "2022-03-15T05:51:26.231Z"
   },
   {
    "duration": 29,
    "start_time": "2022-03-15T05:51:26.287Z"
   },
   {
    "duration": 157,
    "start_time": "2022-03-15T05:51:26.318Z"
   },
   {
    "duration": 40,
    "start_time": "2022-03-15T05:51:26.477Z"
   },
   {
    "duration": 26,
    "start_time": "2022-03-15T05:51:26.519Z"
   },
   {
    "duration": 56,
    "start_time": "2022-03-15T05:51:26.548Z"
   },
   {
    "duration": 15,
    "start_time": "2022-03-15T05:51:26.607Z"
   },
   {
    "duration": 13,
    "start_time": "2022-03-15T05:51:26.624Z"
   },
   {
    "duration": 66,
    "start_time": "2022-03-15T05:51:26.640Z"
   },
   {
    "duration": 25,
    "start_time": "2022-03-15T05:51:26.708Z"
   },
   {
    "duration": 60,
    "start_time": "2022-03-15T05:51:26.735Z"
   },
   {
    "duration": 137,
    "start_time": "2022-03-15T05:51:26.798Z"
   },
   {
    "duration": 10,
    "start_time": "2022-03-15T05:51:26.937Z"
   },
   {
    "duration": 7,
    "start_time": "2022-03-15T05:51:26.950Z"
   },
   {
    "duration": 36,
    "start_time": "2022-03-15T05:51:26.987Z"
   },
   {
    "duration": 28,
    "start_time": "2022-03-15T05:51:27.026Z"
   },
   {
    "duration": 57,
    "start_time": "2022-03-15T05:51:27.057Z"
   },
   {
    "duration": 17,
    "start_time": "2022-03-15T05:51:27.117Z"
   },
   {
    "duration": 50,
    "start_time": "2022-03-15T05:51:27.137Z"
   },
   {
    "duration": 17,
    "start_time": "2022-03-15T05:51:27.189Z"
   },
   {
    "duration": 141,
    "start_time": "2022-03-15T05:51:27.209Z"
   },
   {
    "duration": 458,
    "start_time": "2022-03-15T05:51:27.353Z"
   },
   {
    "duration": 36,
    "start_time": "2022-03-15T05:51:27.814Z"
   },
   {
    "duration": 77,
    "start_time": "2022-03-15T05:51:27.853Z"
   },
   {
    "duration": 9,
    "start_time": "2022-03-15T05:51:27.932Z"
   },
   {
    "duration": 4280,
    "start_time": "2022-03-15T05:51:27.943Z"
   },
   {
    "duration": 402,
    "start_time": "2022-03-15T05:51:32.227Z"
   },
   {
    "duration": 61,
    "start_time": "2022-03-15T05:51:32.632Z"
   },
   {
    "duration": 1642,
    "start_time": "2022-03-15T05:51:32.696Z"
   },
   {
    "duration": 503,
    "start_time": "2022-03-15T05:51:34.340Z"
   },
   {
    "duration": 577,
    "start_time": "2022-03-15T05:51:34.845Z"
   },
   {
    "duration": 538,
    "start_time": "2022-03-15T05:51:35.425Z"
   },
   {
    "duration": 16,
    "start_time": "2022-03-15T05:51:36.119Z"
   },
   {
    "duration": 19,
    "start_time": "2022-03-15T05:52:27.863Z"
   },
   {
    "duration": 19,
    "start_time": "2022-03-15T05:53:01.509Z"
   },
   {
    "duration": 323,
    "start_time": "2022-03-15T05:53:23.388Z"
   },
   {
    "duration": 232,
    "start_time": "2022-03-15T05:53:34.540Z"
   },
   {
    "duration": 523,
    "start_time": "2022-03-15T05:53:41.175Z"
   },
   {
    "duration": 3284,
    "start_time": "2022-03-15T06:06:49.088Z"
   },
   {
    "duration": 248,
    "start_time": "2022-03-15T06:08:51.750Z"
   },
   {
    "duration": 272,
    "start_time": "2022-03-15T06:09:11.062Z"
   },
   {
    "duration": 3124,
    "start_time": "2022-03-15T06:10:07.094Z"
   },
   {
    "duration": 23,
    "start_time": "2022-03-15T06:10:28.125Z"
   },
   {
    "duration": 22,
    "start_time": "2022-03-15T06:10:54.621Z"
   },
   {
    "duration": 250,
    "start_time": "2022-03-15T06:12:56.084Z"
   },
   {
    "duration": 490,
    "start_time": "2022-03-15T06:13:03.732Z"
   },
   {
    "duration": 1966,
    "start_time": "2022-03-15T07:34:53.407Z"
   },
   {
    "duration": 143,
    "start_time": "2022-03-15T07:34:55.375Z"
   },
   {
    "duration": 19,
    "start_time": "2022-03-15T07:34:55.521Z"
   },
   {
    "duration": 6,
    "start_time": "2022-03-15T07:34:55.543Z"
   },
   {
    "duration": 46,
    "start_time": "2022-03-15T07:34:55.551Z"
   },
   {
    "duration": 10,
    "start_time": "2022-03-15T07:34:55.599Z"
   },
   {
    "duration": 33,
    "start_time": "2022-03-15T07:34:55.611Z"
   },
   {
    "duration": 40,
    "start_time": "2022-03-15T07:34:55.647Z"
   },
   {
    "duration": 12,
    "start_time": "2022-03-15T07:34:55.691Z"
   },
   {
    "duration": 13,
    "start_time": "2022-03-15T07:34:55.706Z"
   },
   {
    "duration": 7,
    "start_time": "2022-03-15T07:34:55.722Z"
   },
   {
    "duration": 68,
    "start_time": "2022-03-15T07:34:55.732Z"
   },
   {
    "duration": 5,
    "start_time": "2022-03-15T07:34:55.803Z"
   },
   {
    "duration": 985,
    "start_time": "2022-03-15T07:34:55.811Z"
   },
   {
    "duration": 15,
    "start_time": "2022-03-15T07:34:56.799Z"
   },
   {
    "duration": 20,
    "start_time": "2022-03-15T07:34:56.816Z"
   },
   {
    "duration": 187,
    "start_time": "2022-03-15T07:34:56.839Z"
   },
   {
    "duration": 20,
    "start_time": "2022-03-15T07:34:57.028Z"
   },
   {
    "duration": 6,
    "start_time": "2022-03-15T07:34:57.052Z"
   },
   {
    "duration": 41,
    "start_time": "2022-03-15T07:34:57.061Z"
   },
   {
    "duration": 9,
    "start_time": "2022-03-15T07:34:57.105Z"
   },
   {
    "duration": 19,
    "start_time": "2022-03-15T07:34:57.117Z"
   },
   {
    "duration": 48,
    "start_time": "2022-03-15T07:34:57.139Z"
   },
   {
    "duration": 40,
    "start_time": "2022-03-15T07:34:57.190Z"
   },
   {
    "duration": 357,
    "start_time": "2022-03-15T07:34:57.232Z"
   },
   {
    "duration": 40,
    "start_time": "2022-03-15T07:34:57.591Z"
   },
   {
    "duration": 51,
    "start_time": "2022-03-15T07:34:57.637Z"
   },
   {
    "duration": 24,
    "start_time": "2022-03-15T07:34:57.691Z"
   },
   {
    "duration": 11,
    "start_time": "2022-03-15T07:34:57.717Z"
   },
   {
    "duration": 18,
    "start_time": "2022-03-15T07:34:57.731Z"
   },
   {
    "duration": 23,
    "start_time": "2022-03-15T07:34:57.787Z"
   },
   {
    "duration": 28,
    "start_time": "2022-03-15T07:34:57.813Z"
   },
   {
    "duration": 156,
    "start_time": "2022-03-15T07:34:57.843Z"
   },
   {
    "duration": 30,
    "start_time": "2022-03-15T07:34:58.002Z"
   },
   {
    "duration": 52,
    "start_time": "2022-03-15T07:34:58.035Z"
   },
   {
    "duration": 26,
    "start_time": "2022-03-15T07:34:58.089Z"
   },
   {
    "duration": 15,
    "start_time": "2022-03-15T07:34:58.118Z"
   },
   {
    "duration": 51,
    "start_time": "2022-03-15T07:34:58.136Z"
   },
   {
    "duration": 36,
    "start_time": "2022-03-15T07:34:58.189Z"
   },
   {
    "duration": 28,
    "start_time": "2022-03-15T07:34:58.228Z"
   },
   {
    "duration": 35,
    "start_time": "2022-03-15T07:34:58.288Z"
   },
   {
    "duration": 169,
    "start_time": "2022-03-15T07:34:58.326Z"
   },
   {
    "duration": 10,
    "start_time": "2022-03-15T07:34:58.497Z"
   },
   {
    "duration": 7,
    "start_time": "2022-03-15T07:34:58.509Z"
   },
   {
    "duration": 37,
    "start_time": "2022-03-15T07:34:58.518Z"
   },
   {
    "duration": 31,
    "start_time": "2022-03-15T07:34:58.588Z"
   },
   {
    "duration": 30,
    "start_time": "2022-03-15T07:34:58.621Z"
   },
   {
    "duration": 45,
    "start_time": "2022-03-15T07:34:58.654Z"
   },
   {
    "duration": 18,
    "start_time": "2022-03-15T07:34:58.702Z"
   },
   {
    "duration": 17,
    "start_time": "2022-03-15T07:34:58.722Z"
   },
   {
    "duration": 160,
    "start_time": "2022-03-15T07:34:58.742Z"
   },
   {
    "duration": 483,
    "start_time": "2022-03-15T07:34:58.905Z"
   },
   {
    "duration": 50,
    "start_time": "2022-03-15T07:34:59.390Z"
   },
   {
    "duration": 64,
    "start_time": "2022-03-15T07:34:59.443Z"
   },
   {
    "duration": 11,
    "start_time": "2022-03-15T07:34:59.510Z"
   },
   {
    "duration": 4516,
    "start_time": "2022-03-15T07:34:59.524Z"
   },
   {
    "duration": 368,
    "start_time": "2022-03-15T07:35:04.043Z"
   },
   {
    "duration": 49,
    "start_time": "2022-03-15T07:35:04.413Z"
   },
   {
    "duration": 1687,
    "start_time": "2022-03-15T07:35:04.464Z"
   },
   {
    "duration": 533,
    "start_time": "2022-03-15T07:35:06.154Z"
   },
   {
    "duration": 577,
    "start_time": "2022-03-15T07:35:06.689Z"
   },
   {
    "duration": 609,
    "start_time": "2022-03-15T07:35:07.268Z"
   },
   {
    "duration": 15,
    "start_time": "2022-03-15T07:35:07.888Z"
   },
   {
    "duration": 21,
    "start_time": "2022-03-15T07:35:07.906Z"
   },
   {
    "duration": 558,
    "start_time": "2022-03-15T07:35:07.929Z"
   },
   {
    "duration": 3350,
    "start_time": "2022-03-15T07:35:08.489Z"
   },
   {
    "duration": 20,
    "start_time": "2022-03-15T07:35:11.842Z"
   },
   {
    "duration": 553,
    "start_time": "2022-03-15T07:35:11.864Z"
   },
   {
    "duration": 382,
    "start_time": "2022-03-15T07:39:26.666Z"
   },
   {
    "duration": 374,
    "start_time": "2022-03-15T07:39:38.100Z"
   },
   {
    "duration": 366,
    "start_time": "2022-03-15T07:40:00.122Z"
   },
   {
    "duration": 369,
    "start_time": "2022-03-15T07:40:07.812Z"
   },
   {
    "duration": 385,
    "start_time": "2022-03-15T07:41:36.545Z"
   },
   {
    "duration": 1975,
    "start_time": "2022-03-15T09:00:36.143Z"
   },
   {
    "duration": 125,
    "start_time": "2022-03-15T09:00:38.120Z"
   },
   {
    "duration": 49,
    "start_time": "2022-03-15T09:00:38.248Z"
   },
   {
    "duration": 5,
    "start_time": "2022-03-15T09:00:38.299Z"
   },
   {
    "duration": 16,
    "start_time": "2022-03-15T09:00:38.306Z"
   },
   {
    "duration": 10,
    "start_time": "2022-03-15T09:00:38.325Z"
   },
   {
    "duration": 68,
    "start_time": "2022-03-15T09:00:38.337Z"
   },
   {
    "duration": 7,
    "start_time": "2022-03-15T09:00:38.408Z"
   },
   {
    "duration": 26,
    "start_time": "2022-03-15T09:00:38.418Z"
   },
   {
    "duration": 14,
    "start_time": "2022-03-15T09:00:38.447Z"
   },
   {
    "duration": 6,
    "start_time": "2022-03-15T09:00:38.487Z"
   },
   {
    "duration": 23,
    "start_time": "2022-03-15T09:00:38.496Z"
   },
   {
    "duration": 8,
    "start_time": "2022-03-15T09:00:38.521Z"
   },
   {
    "duration": 977,
    "start_time": "2022-03-15T09:00:38.531Z"
   },
   {
    "duration": 16,
    "start_time": "2022-03-15T09:00:39.511Z"
   },
   {
    "duration": 19,
    "start_time": "2022-03-15T09:00:39.531Z"
   },
   {
    "duration": 174,
    "start_time": "2022-03-15T09:00:39.588Z"
   },
   {
    "duration": 31,
    "start_time": "2022-03-15T09:00:39.764Z"
   },
   {
    "duration": 7,
    "start_time": "2022-03-15T09:00:39.799Z"
   },
   {
    "duration": 17,
    "start_time": "2022-03-15T09:00:39.808Z"
   },
   {
    "duration": 9,
    "start_time": "2022-03-15T09:00:39.827Z"
   },
   {
    "duration": 51,
    "start_time": "2022-03-15T09:00:39.839Z"
   },
   {
    "duration": 12,
    "start_time": "2022-03-15T09:00:39.897Z"
   },
   {
    "duration": 40,
    "start_time": "2022-03-15T09:00:39.913Z"
   },
   {
    "duration": 382,
    "start_time": "2022-03-15T09:00:39.956Z"
   },
   {
    "duration": 60,
    "start_time": "2022-03-15T09:00:40.341Z"
   },
   {
    "duration": 25,
    "start_time": "2022-03-15T09:00:40.404Z"
   },
   {
    "duration": 23,
    "start_time": "2022-03-15T09:00:40.432Z"
   },
   {
    "duration": 14,
    "start_time": "2022-03-15T09:00:40.486Z"
   },
   {
    "duration": 21,
    "start_time": "2022-03-15T09:00:40.503Z"
   },
   {
    "duration": 24,
    "start_time": "2022-03-15T09:00:40.526Z"
   },
   {
    "duration": 28,
    "start_time": "2022-03-15T09:00:40.588Z"
   },
   {
    "duration": 151,
    "start_time": "2022-03-15T09:00:40.619Z"
   },
   {
    "duration": 43,
    "start_time": "2022-03-15T09:00:40.773Z"
   },
   {
    "duration": 26,
    "start_time": "2022-03-15T09:00:40.818Z"
   },
   {
    "duration": 55,
    "start_time": "2022-03-15T09:00:40.846Z"
   },
   {
    "duration": 15,
    "start_time": "2022-03-15T09:00:40.904Z"
   },
   {
    "duration": 20,
    "start_time": "2022-03-15T09:00:40.922Z"
   },
   {
    "duration": 69,
    "start_time": "2022-03-15T09:00:40.945Z"
   },
   {
    "duration": 27,
    "start_time": "2022-03-15T09:00:41.016Z"
   },
   {
    "duration": 62,
    "start_time": "2022-03-15T09:00:41.045Z"
   },
   {
    "duration": 165,
    "start_time": "2022-03-15T09:00:41.109Z"
   },
   {
    "duration": 21,
    "start_time": "2022-03-15T09:00:41.276Z"
   },
   {
    "duration": 7,
    "start_time": "2022-03-15T09:00:41.300Z"
   },
   {
    "duration": 38,
    "start_time": "2022-03-15T09:00:41.309Z"
   },
   {
    "duration": 65,
    "start_time": "2022-03-15T09:00:41.349Z"
   },
   {
    "duration": 29,
    "start_time": "2022-03-15T09:00:41.417Z"
   },
   {
    "duration": 48,
    "start_time": "2022-03-15T09:00:41.448Z"
   },
   {
    "duration": 19,
    "start_time": "2022-03-15T09:00:41.498Z"
   },
   {
    "duration": 17,
    "start_time": "2022-03-15T09:00:41.519Z"
   },
   {
    "duration": 154,
    "start_time": "2022-03-15T09:00:41.538Z"
   },
   {
    "duration": 477,
    "start_time": "2022-03-15T09:00:41.694Z"
   },
   {
    "duration": 38,
    "start_time": "2022-03-15T09:00:42.188Z"
   },
   {
    "duration": 69,
    "start_time": "2022-03-15T09:00:42.228Z"
   },
   {
    "duration": 9,
    "start_time": "2022-03-15T09:00:42.299Z"
   },
   {
    "duration": 4368,
    "start_time": "2022-03-15T09:00:42.310Z"
   },
   {
    "duration": 384,
    "start_time": "2022-03-15T09:00:46.686Z"
   },
   {
    "duration": 53,
    "start_time": "2022-03-15T09:00:47.073Z"
   },
   {
    "duration": 1695,
    "start_time": "2022-03-15T09:00:47.129Z"
   },
   {
    "duration": 540,
    "start_time": "2022-03-15T09:00:48.827Z"
   },
   {
    "duration": 574,
    "start_time": "2022-03-15T09:00:49.370Z"
   },
   {
    "duration": 623,
    "start_time": "2022-03-15T09:00:49.946Z"
   },
   {
    "duration": 25,
    "start_time": "2022-03-15T09:00:50.571Z"
   },
   {
    "duration": 28,
    "start_time": "2022-03-15T09:00:50.598Z"
   },
   {
    "duration": 552,
    "start_time": "2022-03-15T09:00:50.628Z"
   },
   {
    "duration": 3284,
    "start_time": "2022-03-15T09:00:51.186Z"
   },
   {
    "duration": 31,
    "start_time": "2022-03-15T09:00:54.472Z"
   },
   {
    "duration": 509,
    "start_time": "2022-03-15T09:00:54.511Z"
   },
   {
    "duration": 1989,
    "start_time": "2022-03-15T09:01:33.594Z"
   },
   {
    "duration": 143,
    "start_time": "2022-03-15T09:01:35.586Z"
   },
   {
    "duration": 19,
    "start_time": "2022-03-15T09:01:35.732Z"
   },
   {
    "duration": 33,
    "start_time": "2022-03-15T09:01:35.754Z"
   },
   {
    "duration": 26,
    "start_time": "2022-03-15T09:01:35.790Z"
   },
   {
    "duration": 13,
    "start_time": "2022-03-15T09:01:35.818Z"
   },
   {
    "duration": 62,
    "start_time": "2022-03-15T09:01:35.834Z"
   },
   {
    "duration": 7,
    "start_time": "2022-03-15T09:01:35.900Z"
   },
   {
    "duration": 16,
    "start_time": "2022-03-15T09:01:35.910Z"
   },
   {
    "duration": 15,
    "start_time": "2022-03-15T09:01:35.929Z"
   },
   {
    "duration": 41,
    "start_time": "2022-03-15T09:01:35.946Z"
   },
   {
    "duration": 22,
    "start_time": "2022-03-15T09:01:35.989Z"
   },
   {
    "duration": 8,
    "start_time": "2022-03-15T09:01:36.013Z"
   },
   {
    "duration": 974,
    "start_time": "2022-03-15T09:01:36.024Z"
   },
   {
    "duration": 14,
    "start_time": "2022-03-15T09:01:37.001Z"
   },
   {
    "duration": 37,
    "start_time": "2022-03-15T09:01:37.017Z"
   },
   {
    "duration": 171,
    "start_time": "2022-03-15T09:01:37.057Z"
   },
   {
    "duration": 20,
    "start_time": "2022-03-15T09:01:37.230Z"
   },
   {
    "duration": 35,
    "start_time": "2022-03-15T09:01:37.252Z"
   },
   {
    "duration": 17,
    "start_time": "2022-03-15T09:01:37.289Z"
   },
   {
    "duration": 19,
    "start_time": "2022-03-15T09:01:37.309Z"
   },
   {
    "duration": 23,
    "start_time": "2022-03-15T09:01:37.330Z"
   },
   {
    "duration": 11,
    "start_time": "2022-03-15T09:01:37.360Z"
   },
   {
    "duration": 41,
    "start_time": "2022-03-15T09:01:37.388Z"
   },
   {
    "duration": 355,
    "start_time": "2022-03-15T09:01:37.432Z"
   },
   {
    "duration": 41,
    "start_time": "2022-03-15T09:01:37.789Z"
   },
   {
    "duration": 23,
    "start_time": "2022-03-15T09:01:37.832Z"
   },
   {
    "duration": 48,
    "start_time": "2022-03-15T09:01:37.858Z"
   },
   {
    "duration": 11,
    "start_time": "2022-03-15T09:01:37.908Z"
   },
   {
    "duration": 21,
    "start_time": "2022-03-15T09:01:37.921Z"
   },
   {
    "duration": 63,
    "start_time": "2022-03-15T09:01:37.944Z"
   },
   {
    "duration": 28,
    "start_time": "2022-03-15T09:01:38.010Z"
   },
   {
    "duration": 170,
    "start_time": "2022-03-15T09:01:38.040Z"
   },
   {
    "duration": 33,
    "start_time": "2022-03-15T09:01:38.212Z"
   },
   {
    "duration": 52,
    "start_time": "2022-03-15T09:01:38.248Z"
   },
   {
    "duration": 27,
    "start_time": "2022-03-15T09:01:38.302Z"
   },
   {
    "duration": 16,
    "start_time": "2022-03-15T09:01:38.331Z"
   },
   {
    "duration": 47,
    "start_time": "2022-03-15T09:01:38.350Z"
   },
   {
    "duration": 38,
    "start_time": "2022-03-15T09:01:38.399Z"
   },
   {
    "duration": 58,
    "start_time": "2022-03-15T09:01:38.439Z"
   },
   {
    "duration": 42,
    "start_time": "2022-03-15T09:01:38.502Z"
   },
   {
    "duration": 183,
    "start_time": "2022-03-15T09:01:38.546Z"
   },
   {
    "duration": 11,
    "start_time": "2022-03-15T09:01:38.731Z"
   },
   {
    "duration": 9,
    "start_time": "2022-03-15T09:01:38.744Z"
   },
   {
    "duration": 62,
    "start_time": "2022-03-15T09:01:38.756Z"
   },
   {
    "duration": 31,
    "start_time": "2022-03-15T09:01:38.820Z"
   },
   {
    "duration": 58,
    "start_time": "2022-03-15T09:01:38.853Z"
   },
   {
    "duration": 17,
    "start_time": "2022-03-15T09:01:38.914Z"
   },
   {
    "duration": 18,
    "start_time": "2022-03-15T09:01:38.933Z"
   },
   {
    "duration": 18,
    "start_time": "2022-03-15T09:01:38.986Z"
   },
   {
    "duration": 152,
    "start_time": "2022-03-15T09:01:39.006Z"
   },
   {
    "duration": 490,
    "start_time": "2022-03-15T09:01:39.161Z"
   },
   {
    "duration": 63,
    "start_time": "2022-03-15T09:01:39.653Z"
   },
   {
    "duration": 69,
    "start_time": "2022-03-15T09:01:39.718Z"
   },
   {
    "duration": 10,
    "start_time": "2022-03-15T09:01:39.790Z"
   },
   {
    "duration": 4601,
    "start_time": "2022-03-15T09:01:39.803Z"
   },
   {
    "duration": 406,
    "start_time": "2022-03-15T09:01:44.407Z"
   },
   {
    "duration": 47,
    "start_time": "2022-03-15T09:01:44.815Z"
   },
   {
    "duration": 1855,
    "start_time": "2022-03-15T09:01:44.864Z"
   },
   {
    "duration": 554,
    "start_time": "2022-03-15T09:01:46.721Z"
   },
   {
    "duration": 969,
    "start_time": "2022-03-15T09:01:47.286Z"
   },
   {
    "duration": 766,
    "start_time": "2022-03-15T09:01:48.257Z"
   },
   {
    "duration": 61,
    "start_time": "2022-03-15T09:01:49.026Z"
   },
   {
    "duration": 20,
    "start_time": "2022-03-15T09:01:49.090Z"
   },
   {
    "duration": 610,
    "start_time": "2022-03-15T09:01:49.113Z"
   },
   {
    "duration": 3308,
    "start_time": "2022-03-15T09:01:49.726Z"
   },
   {
    "duration": 22,
    "start_time": "2022-03-15T09:01:53.036Z"
   },
   {
    "duration": 564,
    "start_time": "2022-03-15T09:01:53.065Z"
   },
   {
    "duration": 2288,
    "start_time": "2022-03-15T09:02:28.810Z"
   },
   {
    "duration": 161,
    "start_time": "2022-03-15T09:02:31.101Z"
   },
   {
    "duration": 29,
    "start_time": "2022-03-15T09:02:31.289Z"
   },
   {
    "duration": 12,
    "start_time": "2022-03-15T09:02:31.323Z"
   },
   {
    "duration": 25,
    "start_time": "2022-03-15T09:02:31.337Z"
   },
   {
    "duration": 33,
    "start_time": "2022-03-15T09:02:31.365Z"
   },
   {
    "duration": 35,
    "start_time": "2022-03-15T09:02:31.401Z"
   },
   {
    "duration": 7,
    "start_time": "2022-03-15T09:02:31.441Z"
   },
   {
    "duration": 13,
    "start_time": "2022-03-15T09:02:31.487Z"
   },
   {
    "duration": 16,
    "start_time": "2022-03-15T09:02:31.503Z"
   },
   {
    "duration": 7,
    "start_time": "2022-03-15T09:02:31.523Z"
   },
   {
    "duration": 66,
    "start_time": "2022-03-15T09:02:31.533Z"
   },
   {
    "duration": 12,
    "start_time": "2022-03-15T09:02:31.601Z"
   },
   {
    "duration": 978,
    "start_time": "2022-03-15T09:02:31.615Z"
   },
   {
    "duration": 16,
    "start_time": "2022-03-15T09:02:32.596Z"
   },
   {
    "duration": 19,
    "start_time": "2022-03-15T09:02:32.615Z"
   },
   {
    "duration": 195,
    "start_time": "2022-03-15T09:02:32.637Z"
   },
   {
    "duration": 17,
    "start_time": "2022-03-15T09:02:32.834Z"
   },
   {
    "duration": 7,
    "start_time": "2022-03-15T09:02:32.854Z"
   },
   {
    "duration": 35,
    "start_time": "2022-03-15T09:02:32.863Z"
   },
   {
    "duration": 9,
    "start_time": "2022-03-15T09:02:32.900Z"
   },
   {
    "duration": 11,
    "start_time": "2022-03-15T09:02:32.911Z"
   },
   {
    "duration": 11,
    "start_time": "2022-03-15T09:02:32.929Z"
   },
   {
    "duration": 82,
    "start_time": "2022-03-15T09:02:32.944Z"
   },
   {
    "duration": 357,
    "start_time": "2022-03-15T09:02:33.029Z"
   },
   {
    "duration": 40,
    "start_time": "2022-03-15T09:02:33.388Z"
   },
   {
    "duration": 23,
    "start_time": "2022-03-15T09:02:33.430Z"
   },
   {
    "duration": 50,
    "start_time": "2022-03-15T09:02:33.456Z"
   },
   {
    "duration": 13,
    "start_time": "2022-03-15T09:02:33.508Z"
   },
   {
    "duration": 22,
    "start_time": "2022-03-15T09:02:33.524Z"
   },
   {
    "duration": 61,
    "start_time": "2022-03-15T09:02:33.548Z"
   },
   {
    "duration": 29,
    "start_time": "2022-03-15T09:02:33.611Z"
   },
   {
    "duration": 167,
    "start_time": "2022-03-15T09:02:33.642Z"
   },
   {
    "duration": 34,
    "start_time": "2022-03-15T09:02:33.811Z"
   },
   {
    "duration": 52,
    "start_time": "2022-03-15T09:02:33.848Z"
   },
   {
    "duration": 28,
    "start_time": "2022-03-15T09:02:33.903Z"
   },
   {
    "duration": 17,
    "start_time": "2022-03-15T09:02:33.934Z"
   },
   {
    "duration": 15,
    "start_time": "2022-03-15T09:02:33.988Z"
   },
   {
    "duration": 34,
    "start_time": "2022-03-15T09:02:34.006Z"
   },
   {
    "duration": 60,
    "start_time": "2022-03-15T09:02:34.043Z"
   },
   {
    "duration": 33,
    "start_time": "2022-03-15T09:02:34.108Z"
   },
   {
    "duration": 202,
    "start_time": "2022-03-15T09:02:34.144Z"
   },
   {
    "duration": 14,
    "start_time": "2022-03-15T09:02:34.350Z"
   },
   {
    "duration": 23,
    "start_time": "2022-03-15T09:02:34.367Z"
   },
   {
    "duration": 63,
    "start_time": "2022-03-15T09:02:34.392Z"
   },
   {
    "duration": 46,
    "start_time": "2022-03-15T09:02:34.458Z"
   },
   {
    "duration": 31,
    "start_time": "2022-03-15T09:02:34.507Z"
   },
   {
    "duration": 33,
    "start_time": "2022-03-15T09:02:34.541Z"
   },
   {
    "duration": 19,
    "start_time": "2022-03-15T09:02:34.588Z"
   },
   {
    "duration": 23,
    "start_time": "2022-03-15T09:02:34.610Z"
   },
   {
    "duration": 152,
    "start_time": "2022-03-15T09:02:34.636Z"
   },
   {
    "duration": 561,
    "start_time": "2022-03-15T09:02:34.790Z"
   },
   {
    "duration": 61,
    "start_time": "2022-03-15T09:02:35.353Z"
   },
   {
    "duration": 42,
    "start_time": "2022-03-15T09:02:35.417Z"
   },
   {
    "duration": 32,
    "start_time": "2022-03-15T09:02:35.461Z"
   },
   {
    "duration": 4280,
    "start_time": "2022-03-15T09:02:35.496Z"
   },
   {
    "duration": 370,
    "start_time": "2022-03-15T09:02:39.778Z"
   },
   {
    "duration": 66,
    "start_time": "2022-03-15T09:02:40.150Z"
   },
   {
    "duration": 1625,
    "start_time": "2022-03-15T09:02:40.218Z"
   },
   {
    "duration": 521,
    "start_time": "2022-03-15T09:02:41.845Z"
   },
   {
    "duration": 566,
    "start_time": "2022-03-15T09:02:42.368Z"
   },
   {
    "duration": 609,
    "start_time": "2022-03-15T09:02:42.937Z"
   },
   {
    "duration": 15,
    "start_time": "2022-03-15T09:02:43.549Z"
   },
   {
    "duration": 44,
    "start_time": "2022-03-15T09:02:43.567Z"
   },
   {
    "duration": 535,
    "start_time": "2022-03-15T09:02:43.613Z"
   },
   {
    "duration": 3350,
    "start_time": "2022-03-15T09:02:44.151Z"
   },
   {
    "duration": 22,
    "start_time": "2022-03-15T09:02:47.504Z"
   },
   {
    "duration": 566,
    "start_time": "2022-03-15T09:02:47.532Z"
   },
   {
    "duration": 1656,
    "start_time": "2022-03-25T15:26:43.624Z"
   },
   {
    "duration": 110,
    "start_time": "2022-03-25T15:26:45.282Z"
   },
   {
    "duration": 14,
    "start_time": "2022-03-25T15:26:45.393Z"
   },
   {
    "duration": 4,
    "start_time": "2022-03-25T15:26:45.409Z"
   },
   {
    "duration": 8,
    "start_time": "2022-03-25T15:26:45.415Z"
   },
   {
    "duration": 6,
    "start_time": "2022-03-25T15:26:45.425Z"
   },
   {
    "duration": 49,
    "start_time": "2022-03-25T15:26:45.432Z"
   },
   {
    "duration": 4,
    "start_time": "2022-03-25T15:26:45.482Z"
   },
   {
    "duration": 11,
    "start_time": "2022-03-25T15:26:45.488Z"
   },
   {
    "duration": 8,
    "start_time": "2022-03-25T15:26:45.500Z"
   },
   {
    "duration": 5,
    "start_time": "2022-03-25T15:26:45.509Z"
   },
   {
    "duration": 11,
    "start_time": "2022-03-25T15:26:45.515Z"
   },
   {
    "duration": 2,
    "start_time": "2022-03-25T15:26:45.527Z"
   },
   {
    "duration": 642,
    "start_time": "2022-03-25T15:26:45.532Z"
   },
   {
    "duration": 11,
    "start_time": "2022-03-25T15:26:46.176Z"
   },
   {
    "duration": 10,
    "start_time": "2022-03-25T15:26:46.188Z"
   },
   {
    "duration": 158,
    "start_time": "2022-03-25T15:26:46.200Z"
   },
   {
    "duration": 24,
    "start_time": "2022-03-25T15:26:46.360Z"
   },
   {
    "duration": 4,
    "start_time": "2022-03-25T15:26:46.386Z"
   },
   {
    "duration": 8,
    "start_time": "2022-03-25T15:26:46.392Z"
   },
   {
    "duration": 6,
    "start_time": "2022-03-25T15:26:46.402Z"
   },
   {
    "duration": 10,
    "start_time": "2022-03-25T15:26:46.410Z"
   },
   {
    "duration": 7,
    "start_time": "2022-03-25T15:26:46.422Z"
   },
   {
    "duration": 67,
    "start_time": "2022-03-25T15:26:46.431Z"
   },
   {
    "duration": 215,
    "start_time": "2022-03-25T15:26:46.500Z"
   },
   {
    "duration": 29,
    "start_time": "2022-03-25T15:26:46.717Z"
   },
   {
    "duration": 34,
    "start_time": "2022-03-25T15:26:46.747Z"
   },
   {
    "duration": 16,
    "start_time": "2022-03-25T15:26:46.783Z"
   },
   {
    "duration": 7,
    "start_time": "2022-03-25T15:26:46.801Z"
   },
   {
    "duration": 12,
    "start_time": "2022-03-25T15:26:46.809Z"
   },
   {
    "duration": 16,
    "start_time": "2022-03-25T15:26:46.822Z"
   },
   {
    "duration": 51,
    "start_time": "2022-03-25T15:26:46.839Z"
   },
   {
    "duration": 91,
    "start_time": "2022-03-25T15:26:46.891Z"
   },
   {
    "duration": 23,
    "start_time": "2022-03-25T15:26:46.983Z"
   },
   {
    "duration": 18,
    "start_time": "2022-03-25T15:26:47.007Z"
   },
   {
    "duration": 16,
    "start_time": "2022-03-25T15:26:47.027Z"
   },
   {
    "duration": 39,
    "start_time": "2022-03-25T15:26:47.044Z"
   },
   {
    "duration": 18,
    "start_time": "2022-03-25T15:26:47.085Z"
   },
   {
    "duration": 26,
    "start_time": "2022-03-25T15:26:47.105Z"
   },
   {
    "duration": 15,
    "start_time": "2022-03-25T15:26:47.133Z"
   },
   {
    "duration": 41,
    "start_time": "2022-03-25T15:26:47.152Z"
   },
   {
    "duration": 104,
    "start_time": "2022-03-25T15:26:47.195Z"
   },
   {
    "duration": 6,
    "start_time": "2022-03-25T15:26:47.301Z"
   },
   {
    "duration": 6,
    "start_time": "2022-03-25T15:26:47.308Z"
   },
   {
    "duration": 25,
    "start_time": "2022-03-25T15:26:47.315Z"
   },
   {
    "duration": 46,
    "start_time": "2022-03-25T15:26:47.342Z"
   },
   {
    "duration": 18,
    "start_time": "2022-03-25T15:26:47.389Z"
   },
   {
    "duration": 9,
    "start_time": "2022-03-25T15:26:47.409Z"
   },
   {
    "duration": 13,
    "start_time": "2022-03-25T15:26:47.420Z"
   },
   {
    "duration": 12,
    "start_time": "2022-03-25T15:26:47.435Z"
   },
   {
    "duration": 106,
    "start_time": "2022-03-25T15:26:47.448Z"
   },
   {
    "duration": 298,
    "start_time": "2022-03-25T15:26:47.556Z"
   },
   {
    "duration": 32,
    "start_time": "2022-03-25T15:26:47.855Z"
   },
   {
    "duration": 5,
    "start_time": "2022-03-25T15:26:47.889Z"
   },
   {
    "duration": 12,
    "start_time": "2022-03-25T15:26:47.896Z"
   },
   {
    "duration": 1160,
    "start_time": "2022-03-25T15:26:47.910Z"
   },
   {
    "duration": 98,
    "start_time": "2022-03-25T15:26:49.072Z"
   },
   {
    "duration": 25,
    "start_time": "2022-03-25T15:26:49.180Z"
   },
   {
    "duration": 1105,
    "start_time": "2022-03-25T15:26:49.206Z"
   },
   {
    "duration": 375,
    "start_time": "2022-03-25T15:26:50.312Z"
   },
   {
    "duration": 402,
    "start_time": "2022-03-25T15:26:50.688Z"
   },
   {
    "duration": 272,
    "start_time": "2022-03-25T15:26:51.092Z"
   },
   {
    "duration": 21,
    "start_time": "2022-03-25T15:26:51.366Z"
   },
   {
    "duration": 13,
    "start_time": "2022-03-25T15:26:51.388Z"
   },
   {
    "duration": 239,
    "start_time": "2022-03-25T15:26:51.402Z"
   },
   {
    "duration": 1086,
    "start_time": "2022-03-25T15:26:51.642Z"
   },
   {
    "duration": 13,
    "start_time": "2022-03-25T15:26:52.729Z"
   },
   {
    "duration": 288,
    "start_time": "2022-03-25T15:26:52.743Z"
   },
   {
    "duration": 3,
    "start_time": "2022-03-25T15:30:36.322Z"
   },
   {
    "duration": 91,
    "start_time": "2022-03-25T15:30:41.095Z"
   },
   {
    "duration": 6,
    "start_time": "2022-03-25T15:30:49.224Z"
   },
   {
    "duration": 8,
    "start_time": "2022-03-25T15:31:24.230Z"
   },
   {
    "duration": 11,
    "start_time": "2022-03-25T15:32:16.442Z"
   },
   {
    "duration": 232,
    "start_time": "2022-03-25T17:09:27.712Z"
   },
   {
    "duration": 167,
    "start_time": "2022-03-25T17:11:11.861Z"
   },
   {
    "duration": 2000,
    "start_time": "2022-03-25T17:16:54.549Z"
   },
   {
    "duration": 136,
    "start_time": "2022-03-25T17:16:56.552Z"
   },
   {
    "duration": 18,
    "start_time": "2022-03-25T17:16:56.689Z"
   },
   {
    "duration": 25,
    "start_time": "2022-03-25T17:16:56.708Z"
   },
   {
    "duration": 19,
    "start_time": "2022-03-25T17:16:56.741Z"
   },
   {
    "duration": 12,
    "start_time": "2022-03-25T17:16:56.762Z"
   },
   {
    "duration": 23,
    "start_time": "2022-03-25T17:16:56.776Z"
   },
   {
    "duration": 6,
    "start_time": "2022-03-25T17:16:56.801Z"
   },
   {
    "duration": 31,
    "start_time": "2022-03-25T17:16:56.808Z"
   },
   {
    "duration": 20,
    "start_time": "2022-03-25T17:16:56.841Z"
   },
   {
    "duration": 8,
    "start_time": "2022-03-25T17:16:56.864Z"
   },
   {
    "duration": 15,
    "start_time": "2022-03-25T17:16:56.874Z"
   },
   {
    "duration": 9,
    "start_time": "2022-03-25T17:16:56.891Z"
   },
   {
    "duration": 786,
    "start_time": "2022-03-25T17:16:56.904Z"
   },
   {
    "duration": 11,
    "start_time": "2022-03-25T17:16:57.692Z"
   },
   {
    "duration": 29,
    "start_time": "2022-03-25T17:16:57.705Z"
   },
   {
    "duration": 146,
    "start_time": "2022-03-25T17:16:57.740Z"
   },
   {
    "duration": 13,
    "start_time": "2022-03-25T17:16:57.888Z"
   },
   {
    "duration": 12,
    "start_time": "2022-03-25T17:16:57.903Z"
   },
   {
    "duration": 30,
    "start_time": "2022-03-25T17:16:57.917Z"
   },
   {
    "duration": 15,
    "start_time": "2022-03-25T17:16:57.950Z"
   },
   {
    "duration": 29,
    "start_time": "2022-03-25T17:16:57.967Z"
   },
   {
    "duration": 24,
    "start_time": "2022-03-25T17:16:57.998Z"
   },
   {
    "duration": 67,
    "start_time": "2022-03-25T17:16:58.024Z"
   },
   {
    "duration": 359,
    "start_time": "2022-03-25T17:16:58.094Z"
   },
   {
    "duration": 36,
    "start_time": "2022-03-25T17:16:58.455Z"
   },
   {
    "duration": 40,
    "start_time": "2022-03-25T17:16:58.493Z"
   },
   {
    "duration": 25,
    "start_time": "2022-03-25T17:16:58.536Z"
   },
   {
    "duration": 11,
    "start_time": "2022-03-25T17:16:58.564Z"
   },
   {
    "duration": 18,
    "start_time": "2022-03-25T17:16:58.577Z"
   },
   {
    "duration": 50,
    "start_time": "2022-03-25T17:16:58.597Z"
   },
   {
    "duration": 41,
    "start_time": "2022-03-25T17:16:58.650Z"
   },
   {
    "duration": 163,
    "start_time": "2022-03-25T17:16:58.693Z"
   },
   {
    "duration": 27,
    "start_time": "2022-03-25T17:16:58.858Z"
   },
   {
    "duration": 45,
    "start_time": "2022-03-25T17:16:58.887Z"
   },
   {
    "duration": 23,
    "start_time": "2022-03-25T17:16:58.934Z"
   },
   {
    "duration": 13,
    "start_time": "2022-03-25T17:16:58.958Z"
   },
   {
    "duration": 16,
    "start_time": "2022-03-25T17:16:58.973Z"
   },
   {
    "duration": 74,
    "start_time": "2022-03-25T17:16:58.991Z"
   },
   {
    "duration": 20,
    "start_time": "2022-03-25T17:16:59.067Z"
   },
   {
    "duration": 54,
    "start_time": "2022-03-25T17:16:59.092Z"
   },
   {
    "duration": 155,
    "start_time": "2022-03-25T17:16:59.148Z"
   },
   {
    "duration": 9,
    "start_time": "2022-03-25T17:16:59.305Z"
   },
   {
    "duration": 6,
    "start_time": "2022-03-25T17:16:59.339Z"
   },
   {
    "duration": 33,
    "start_time": "2022-03-25T17:16:59.347Z"
   },
   {
    "duration": 27,
    "start_time": "2022-03-25T17:16:59.382Z"
   },
   {
    "duration": 41,
    "start_time": "2022-03-25T17:16:59.411Z"
   },
   {
    "duration": 18,
    "start_time": "2022-03-25T17:16:59.454Z"
   },
   {
    "duration": 17,
    "start_time": "2022-03-25T17:16:59.474Z"
   },
   {
    "duration": 57,
    "start_time": "2022-03-25T17:16:59.492Z"
   },
   {
    "duration": 101,
    "start_time": "2022-03-25T17:16:59.551Z"
   },
   {
    "duration": 382,
    "start_time": "2022-03-25T17:16:59.654Z"
   },
   {
    "duration": 28,
    "start_time": "2022-03-25T17:17:00.039Z"
   },
   {
    "duration": 5,
    "start_time": "2022-03-25T17:17:00.069Z"
   },
   {
    "duration": 19,
    "start_time": "2022-03-25T17:17:00.076Z"
   },
   {
    "duration": 19,
    "start_time": "2022-03-25T17:17:00.097Z"
   },
   {
    "duration": 21,
    "start_time": "2022-03-25T17:17:00.118Z"
   },
   {
    "duration": 1464,
    "start_time": "2022-03-25T17:17:00.141Z"
   },
   {
    "duration": 10,
    "start_time": "2022-03-25T17:17:01.607Z"
   },
   {
    "duration": 162,
    "start_time": "2022-03-25T17:17:01.619Z"
   },
   {
    "duration": 34,
    "start_time": "2022-03-25T17:17:01.782Z"
   },
   {
    "duration": 16,
    "start_time": "2022-03-25T17:17:01.835Z"
   },
   {
    "duration": 1139,
    "start_time": "2022-03-25T17:17:01.853Z"
   },
   {
    "duration": 276,
    "start_time": "2022-03-25T17:17:02.993Z"
   },
   {
    "duration": 283,
    "start_time": "2022-03-25T17:17:03.270Z"
   },
   {
    "duration": 263,
    "start_time": "2022-03-25T17:17:03.555Z"
   },
   {
    "duration": 22,
    "start_time": "2022-03-25T17:17:03.820Z"
   },
   {
    "duration": 32,
    "start_time": "2022-03-25T17:17:03.844Z"
   },
   {
    "duration": 385,
    "start_time": "2022-03-25T17:17:03.878Z"
   },
   {
    "duration": 1197,
    "start_time": "2022-03-25T17:17:04.265Z"
   },
   {
    "duration": 16,
    "start_time": "2022-03-25T17:17:05.463Z"
   },
   {
    "duration": 378,
    "start_time": "2022-03-25T17:17:05.481Z"
   },
   {
    "duration": 1850,
    "start_time": "2022-03-25T17:18:10.310Z"
   },
   {
    "duration": 137,
    "start_time": "2022-03-25T17:18:12.163Z"
   },
   {
    "duration": 45,
    "start_time": "2022-03-25T17:18:12.302Z"
   },
   {
    "duration": 3,
    "start_time": "2022-03-25T17:18:12.349Z"
   },
   {
    "duration": 18,
    "start_time": "2022-03-25T17:18:12.354Z"
   },
   {
    "duration": 7,
    "start_time": "2022-03-25T17:18:12.374Z"
   },
   {
    "duration": 31,
    "start_time": "2022-03-25T17:18:12.383Z"
   },
   {
    "duration": 6,
    "start_time": "2022-03-25T17:18:12.431Z"
   },
   {
    "duration": 16,
    "start_time": "2022-03-25T17:18:12.443Z"
   },
   {
    "duration": 18,
    "start_time": "2022-03-25T17:18:12.462Z"
   },
   {
    "duration": 9,
    "start_time": "2022-03-25T17:18:12.483Z"
   },
   {
    "duration": 17,
    "start_time": "2022-03-25T17:18:12.494Z"
   },
   {
    "duration": 4,
    "start_time": "2022-03-25T17:18:12.512Z"
   },
   {
    "duration": 817,
    "start_time": "2022-03-25T17:18:12.533Z"
   },
   {
    "duration": 11,
    "start_time": "2022-03-25T17:18:13.353Z"
   },
   {
    "duration": 12,
    "start_time": "2022-03-25T17:18:13.366Z"
   },
   {
    "duration": 169,
    "start_time": "2022-03-25T17:18:13.380Z"
   },
   {
    "duration": 16,
    "start_time": "2022-03-25T17:18:13.551Z"
   },
   {
    "duration": 8,
    "start_time": "2022-03-25T17:18:13.569Z"
   },
   {
    "duration": 12,
    "start_time": "2022-03-25T17:18:13.579Z"
   },
   {
    "duration": 11,
    "start_time": "2022-03-25T17:18:13.592Z"
   },
   {
    "duration": 53,
    "start_time": "2022-03-25T17:18:13.605Z"
   },
   {
    "duration": 18,
    "start_time": "2022-03-25T17:18:13.660Z"
   },
   {
    "duration": 42,
    "start_time": "2022-03-25T17:18:13.680Z"
   },
   {
    "duration": 356,
    "start_time": "2022-03-25T17:18:13.734Z"
   },
   {
    "duration": 48,
    "start_time": "2022-03-25T17:18:14.091Z"
   },
   {
    "duration": 27,
    "start_time": "2022-03-25T17:18:14.141Z"
   },
   {
    "duration": 22,
    "start_time": "2022-03-25T17:18:14.172Z"
   },
   {
    "duration": 49,
    "start_time": "2022-03-25T17:18:14.196Z"
   },
   {
    "duration": 23,
    "start_time": "2022-03-25T17:18:14.247Z"
   },
   {
    "duration": 23,
    "start_time": "2022-03-25T17:18:14.272Z"
   },
   {
    "duration": 52,
    "start_time": "2022-03-25T17:18:14.297Z"
   },
   {
    "duration": 154,
    "start_time": "2022-03-25T17:18:14.351Z"
   },
   {
    "duration": 39,
    "start_time": "2022-03-25T17:18:14.507Z"
   },
   {
    "duration": 24,
    "start_time": "2022-03-25T17:18:14.548Z"
   },
   {
    "duration": 21,
    "start_time": "2022-03-25T17:18:14.574Z"
   },
   {
    "duration": 46,
    "start_time": "2022-03-25T17:18:14.597Z"
   },
   {
    "duration": 18,
    "start_time": "2022-03-25T17:18:14.645Z"
   },
   {
    "duration": 42,
    "start_time": "2022-03-25T17:18:14.665Z"
   },
   {
    "duration": 44,
    "start_time": "2022-03-25T17:18:14.709Z"
   },
   {
    "duration": 28,
    "start_time": "2022-03-25T17:18:14.755Z"
   },
   {
    "duration": 168,
    "start_time": "2022-03-25T17:18:14.785Z"
   },
   {
    "duration": 7,
    "start_time": "2022-03-25T17:18:14.955Z"
   },
   {
    "duration": 6,
    "start_time": "2022-03-25T17:18:14.964Z"
   },
   {
    "duration": 35,
    "start_time": "2022-03-25T17:18:14.971Z"
   },
   {
    "duration": 36,
    "start_time": "2022-03-25T17:18:15.032Z"
   },
   {
    "duration": 22,
    "start_time": "2022-03-25T17:18:15.070Z"
   },
   {
    "duration": 42,
    "start_time": "2022-03-25T17:18:15.094Z"
   },
   {
    "duration": 21,
    "start_time": "2022-03-25T17:18:15.138Z"
   },
   {
    "duration": 17,
    "start_time": "2022-03-25T17:18:15.161Z"
   },
   {
    "duration": 121,
    "start_time": "2022-03-25T17:18:15.180Z"
   },
   {
    "duration": 364,
    "start_time": "2022-03-25T17:18:15.302Z"
   },
   {
    "duration": 25,
    "start_time": "2022-03-25T17:18:15.668Z"
   },
   {
    "duration": 4,
    "start_time": "2022-03-25T17:18:15.695Z"
   },
   {
    "duration": 51,
    "start_time": "2022-03-25T17:18:15.700Z"
   },
   {
    "duration": 7,
    "start_time": "2022-03-25T17:18:15.753Z"
   },
   {
    "duration": 15,
    "start_time": "2022-03-25T17:18:15.762Z"
   },
   {
    "duration": 1508,
    "start_time": "2022-03-25T17:18:15.778Z"
   },
   {
    "duration": 9,
    "start_time": "2022-03-25T17:18:17.288Z"
   },
   {
    "duration": 136,
    "start_time": "2022-03-25T17:18:17.299Z"
   },
   {
    "duration": 32,
    "start_time": "2022-03-25T17:18:17.437Z"
   },
   {
    "duration": 23,
    "start_time": "2022-03-25T17:18:17.471Z"
   },
   {
    "duration": 1087,
    "start_time": "2022-03-25T17:18:17.496Z"
   },
   {
    "duration": 256,
    "start_time": "2022-03-25T17:18:18.585Z"
   },
   {
    "duration": 279,
    "start_time": "2022-03-25T17:18:18.844Z"
   },
   {
    "duration": 249,
    "start_time": "2022-03-25T17:18:19.126Z"
   },
   {
    "duration": 13,
    "start_time": "2022-03-25T17:18:19.377Z"
   },
   {
    "duration": 18,
    "start_time": "2022-03-25T17:18:19.392Z"
   },
   {
    "duration": 318,
    "start_time": "2022-03-25T17:18:19.439Z"
   },
   {
    "duration": 1204,
    "start_time": "2022-03-25T17:18:19.759Z"
   },
   {
    "duration": 15,
    "start_time": "2022-03-25T17:18:20.965Z"
   },
   {
    "duration": 352,
    "start_time": "2022-03-25T17:18:20.982Z"
   },
   {
    "duration": 1785,
    "start_time": "2022-03-25T17:20:17.696Z"
   },
   {
    "duration": 154,
    "start_time": "2022-03-25T17:20:19.483Z"
   },
   {
    "duration": 21,
    "start_time": "2022-03-25T17:20:19.641Z"
   },
   {
    "duration": 6,
    "start_time": "2022-03-25T17:20:19.665Z"
   },
   {
    "duration": 13,
    "start_time": "2022-03-25T17:20:19.673Z"
   },
   {
    "duration": 10,
    "start_time": "2022-03-25T17:20:19.688Z"
   },
   {
    "duration": 57,
    "start_time": "2022-03-25T17:20:19.700Z"
   },
   {
    "duration": 5,
    "start_time": "2022-03-25T17:20:19.759Z"
   },
   {
    "duration": 11,
    "start_time": "2022-03-25T17:20:19.766Z"
   },
   {
    "duration": 10,
    "start_time": "2022-03-25T17:20:19.780Z"
   },
   {
    "duration": 5,
    "start_time": "2022-03-25T17:20:19.792Z"
   },
   {
    "duration": 46,
    "start_time": "2022-03-25T17:20:19.799Z"
   },
   {
    "duration": 5,
    "start_time": "2022-03-25T17:20:19.850Z"
   },
   {
    "duration": 756,
    "start_time": "2022-03-25T17:20:19.857Z"
   },
   {
    "duration": 21,
    "start_time": "2022-03-25T17:20:20.615Z"
   },
   {
    "duration": 14,
    "start_time": "2022-03-25T17:20:20.638Z"
   },
   {
    "duration": 143,
    "start_time": "2022-03-25T17:20:20.654Z"
   },
   {
    "duration": 12,
    "start_time": "2022-03-25T17:20:20.799Z"
   },
   {
    "duration": 7,
    "start_time": "2022-03-25T17:20:20.813Z"
   },
   {
    "duration": 21,
    "start_time": "2022-03-25T17:20:20.821Z"
   },
   {
    "duration": 10,
    "start_time": "2022-03-25T17:20:20.845Z"
   },
   {
    "duration": 18,
    "start_time": "2022-03-25T17:20:20.857Z"
   },
   {
    "duration": 22,
    "start_time": "2022-03-25T17:20:20.877Z"
   },
   {
    "duration": 46,
    "start_time": "2022-03-25T17:20:20.901Z"
   },
   {
    "duration": 295,
    "start_time": "2022-03-25T17:20:20.949Z"
   },
   {
    "duration": 34,
    "start_time": "2022-03-25T17:20:21.246Z"
   },
   {
    "duration": 19,
    "start_time": "2022-03-25T17:20:21.282Z"
   },
   {
    "duration": 47,
    "start_time": "2022-03-25T17:20:21.307Z"
   },
   {
    "duration": 127,
    "start_time": "2022-03-25T17:20:21.356Z"
   },
   {
    "duration": 0,
    "start_time": "2022-03-25T17:20:21.485Z"
   },
   {
    "duration": 0,
    "start_time": "2022-03-25T17:20:21.486Z"
   },
   {
    "duration": 0,
    "start_time": "2022-03-25T17:20:21.488Z"
   },
   {
    "duration": 0,
    "start_time": "2022-03-25T17:20:21.489Z"
   },
   {
    "duration": 0,
    "start_time": "2022-03-25T17:20:21.490Z"
   },
   {
    "duration": 0,
    "start_time": "2022-03-25T17:20:21.491Z"
   },
   {
    "duration": 0,
    "start_time": "2022-03-25T17:20:21.492Z"
   },
   {
    "duration": 0,
    "start_time": "2022-03-25T17:20:21.494Z"
   },
   {
    "duration": 0,
    "start_time": "2022-03-25T17:20:21.495Z"
   },
   {
    "duration": 0,
    "start_time": "2022-03-25T17:20:21.496Z"
   },
   {
    "duration": 0,
    "start_time": "2022-03-25T17:20:21.497Z"
   },
   {
    "duration": 0,
    "start_time": "2022-03-25T17:20:21.498Z"
   },
   {
    "duration": 0,
    "start_time": "2022-03-25T17:20:21.500Z"
   },
   {
    "duration": 0,
    "start_time": "2022-03-25T17:20:21.501Z"
   },
   {
    "duration": 0,
    "start_time": "2022-03-25T17:20:21.501Z"
   },
   {
    "duration": 0,
    "start_time": "2022-03-25T17:20:21.533Z"
   },
   {
    "duration": 0,
    "start_time": "2022-03-25T17:20:21.534Z"
   },
   {
    "duration": 0,
    "start_time": "2022-03-25T17:20:21.536Z"
   },
   {
    "duration": 0,
    "start_time": "2022-03-25T17:20:21.537Z"
   },
   {
    "duration": 0,
    "start_time": "2022-03-25T17:20:21.538Z"
   },
   {
    "duration": 0,
    "start_time": "2022-03-25T17:20:21.539Z"
   },
   {
    "duration": 0,
    "start_time": "2022-03-25T17:20:21.540Z"
   },
   {
    "duration": 0,
    "start_time": "2022-03-25T17:20:21.543Z"
   },
   {
    "duration": 0,
    "start_time": "2022-03-25T17:20:21.544Z"
   },
   {
    "duration": 0,
    "start_time": "2022-03-25T17:20:21.545Z"
   },
   {
    "duration": 0,
    "start_time": "2022-03-25T17:20:21.550Z"
   },
   {
    "duration": 0,
    "start_time": "2022-03-25T17:20:21.551Z"
   },
   {
    "duration": 0,
    "start_time": "2022-03-25T17:20:21.553Z"
   },
   {
    "duration": 0,
    "start_time": "2022-03-25T17:20:21.555Z"
   },
   {
    "duration": 0,
    "start_time": "2022-03-25T17:20:21.556Z"
   },
   {
    "duration": 0,
    "start_time": "2022-03-25T17:20:21.558Z"
   },
   {
    "duration": 0,
    "start_time": "2022-03-25T17:20:21.559Z"
   },
   {
    "duration": 0,
    "start_time": "2022-03-25T17:20:21.560Z"
   },
   {
    "duration": 0,
    "start_time": "2022-03-25T17:20:21.561Z"
   },
   {
    "duration": 0,
    "start_time": "2022-03-25T17:20:21.562Z"
   },
   {
    "duration": 0,
    "start_time": "2022-03-25T17:20:21.564Z"
   },
   {
    "duration": 0,
    "start_time": "2022-03-25T17:20:21.565Z"
   },
   {
    "duration": 0,
    "start_time": "2022-03-25T17:20:21.566Z"
   },
   {
    "duration": 0,
    "start_time": "2022-03-25T17:20:21.567Z"
   },
   {
    "duration": 0,
    "start_time": "2022-03-25T17:20:21.568Z"
   },
   {
    "duration": 0,
    "start_time": "2022-03-25T17:20:21.569Z"
   },
   {
    "duration": 0,
    "start_time": "2022-03-25T17:20:21.570Z"
   },
   {
    "duration": 0,
    "start_time": "2022-03-25T17:20:21.571Z"
   },
   {
    "duration": 1725,
    "start_time": "2022-03-25T17:20:30.496Z"
   },
   {
    "duration": 144,
    "start_time": "2022-03-25T17:20:32.223Z"
   },
   {
    "duration": 17,
    "start_time": "2022-03-25T17:20:32.369Z"
   },
   {
    "duration": 7,
    "start_time": "2022-03-25T17:20:32.388Z"
   },
   {
    "duration": 18,
    "start_time": "2022-03-25T17:20:32.397Z"
   },
   {
    "duration": 14,
    "start_time": "2022-03-25T17:20:32.439Z"
   },
   {
    "duration": 29,
    "start_time": "2022-03-25T17:20:32.455Z"
   },
   {
    "duration": 27,
    "start_time": "2022-03-25T17:20:32.486Z"
   },
   {
    "duration": 29,
    "start_time": "2022-03-25T17:20:32.515Z"
   },
   {
    "duration": 33,
    "start_time": "2022-03-25T17:20:32.547Z"
   },
   {
    "duration": 23,
    "start_time": "2022-03-25T17:20:32.582Z"
   },
   {
    "duration": 34,
    "start_time": "2022-03-25T17:20:32.607Z"
   },
   {
    "duration": 16,
    "start_time": "2022-03-25T17:20:32.643Z"
   },
   {
    "duration": 761,
    "start_time": "2022-03-25T17:20:32.660Z"
   },
   {
    "duration": 15,
    "start_time": "2022-03-25T17:20:33.423Z"
   },
   {
    "duration": 23,
    "start_time": "2022-03-25T17:20:33.439Z"
   },
   {
    "duration": 127,
    "start_time": "2022-03-25T17:20:33.464Z"
   },
   {
    "duration": 13,
    "start_time": "2022-03-25T17:20:33.593Z"
   },
   {
    "duration": 30,
    "start_time": "2022-03-25T17:20:33.608Z"
   },
   {
    "duration": 15,
    "start_time": "2022-03-25T17:20:33.640Z"
   },
   {
    "duration": 10,
    "start_time": "2022-03-25T17:20:33.657Z"
   },
   {
    "duration": 14,
    "start_time": "2022-03-25T17:20:33.670Z"
   },
   {
    "duration": 12,
    "start_time": "2022-03-25T17:20:33.687Z"
   },
   {
    "duration": 59,
    "start_time": "2022-03-25T17:20:33.701Z"
   },
   {
    "duration": 299,
    "start_time": "2022-03-25T17:20:33.762Z"
   },
   {
    "duration": 33,
    "start_time": "2022-03-25T17:20:34.062Z"
   },
   {
    "duration": 36,
    "start_time": "2022-03-25T17:20:34.096Z"
   },
   {
    "duration": 22,
    "start_time": "2022-03-25T17:20:34.137Z"
   },
   {
    "duration": 156,
    "start_time": "2022-03-25T17:20:34.161Z"
   },
   {
    "duration": 0,
    "start_time": "2022-03-25T17:20:34.319Z"
   },
   {
    "duration": 0,
    "start_time": "2022-03-25T17:20:34.321Z"
   },
   {
    "duration": 0,
    "start_time": "2022-03-25T17:20:34.323Z"
   },
   {
    "duration": 0,
    "start_time": "2022-03-25T17:20:34.331Z"
   },
   {
    "duration": 0,
    "start_time": "2022-03-25T17:20:34.333Z"
   },
   {
    "duration": 0,
    "start_time": "2022-03-25T17:20:34.334Z"
   },
   {
    "duration": 0,
    "start_time": "2022-03-25T17:20:34.335Z"
   },
   {
    "duration": 0,
    "start_time": "2022-03-25T17:20:34.336Z"
   },
   {
    "duration": 0,
    "start_time": "2022-03-25T17:20:34.337Z"
   },
   {
    "duration": 0,
    "start_time": "2022-03-25T17:20:34.343Z"
   },
   {
    "duration": 0,
    "start_time": "2022-03-25T17:20:34.344Z"
   },
   {
    "duration": 0,
    "start_time": "2022-03-25T17:20:34.346Z"
   },
   {
    "duration": 0,
    "start_time": "2022-03-25T17:20:34.348Z"
   },
   {
    "duration": 0,
    "start_time": "2022-03-25T17:20:34.350Z"
   },
   {
    "duration": 0,
    "start_time": "2022-03-25T17:20:34.354Z"
   },
   {
    "duration": 0,
    "start_time": "2022-03-25T17:20:34.355Z"
   },
   {
    "duration": 0,
    "start_time": "2022-03-25T17:20:34.357Z"
   },
   {
    "duration": 0,
    "start_time": "2022-03-25T17:20:34.360Z"
   },
   {
    "duration": 0,
    "start_time": "2022-03-25T17:20:34.361Z"
   },
   {
    "duration": 0,
    "start_time": "2022-03-25T17:20:34.362Z"
   },
   {
    "duration": 0,
    "start_time": "2022-03-25T17:20:34.363Z"
   },
   {
    "duration": 0,
    "start_time": "2022-03-25T17:20:34.365Z"
   },
   {
    "duration": 0,
    "start_time": "2022-03-25T17:20:34.366Z"
   },
   {
    "duration": 0,
    "start_time": "2022-03-25T17:20:34.367Z"
   },
   {
    "duration": 0,
    "start_time": "2022-03-25T17:20:34.369Z"
   },
   {
    "duration": 0,
    "start_time": "2022-03-25T17:20:34.371Z"
   },
   {
    "duration": 0,
    "start_time": "2022-03-25T17:20:34.372Z"
   },
   {
    "duration": 0,
    "start_time": "2022-03-25T17:20:34.374Z"
   },
   {
    "duration": 0,
    "start_time": "2022-03-25T17:20:34.376Z"
   },
   {
    "duration": 0,
    "start_time": "2022-03-25T17:20:34.377Z"
   },
   {
    "duration": 0,
    "start_time": "2022-03-25T17:20:34.433Z"
   },
   {
    "duration": 1,
    "start_time": "2022-03-25T17:20:34.434Z"
   },
   {
    "duration": 0,
    "start_time": "2022-03-25T17:20:34.436Z"
   },
   {
    "duration": 0,
    "start_time": "2022-03-25T17:20:34.438Z"
   },
   {
    "duration": 0,
    "start_time": "2022-03-25T17:20:34.440Z"
   },
   {
    "duration": 0,
    "start_time": "2022-03-25T17:20:34.443Z"
   },
   {
    "duration": 0,
    "start_time": "2022-03-25T17:20:34.444Z"
   },
   {
    "duration": 0,
    "start_time": "2022-03-25T17:20:34.446Z"
   },
   {
    "duration": 0,
    "start_time": "2022-03-25T17:20:34.447Z"
   },
   {
    "duration": 0,
    "start_time": "2022-03-25T17:20:34.448Z"
   },
   {
    "duration": 0,
    "start_time": "2022-03-25T17:20:34.449Z"
   },
   {
    "duration": 0,
    "start_time": "2022-03-25T17:20:34.450Z"
   },
   {
    "duration": 0,
    "start_time": "2022-03-25T17:20:34.452Z"
   },
   {
    "duration": 11,
    "start_time": "2022-03-25T17:20:47.324Z"
   },
   {
    "duration": 9,
    "start_time": "2022-03-25T17:20:54.476Z"
   },
   {
    "duration": 9,
    "start_time": "2022-03-25T17:21:09.724Z"
   },
   {
    "duration": 9,
    "start_time": "2022-03-25T17:21:34.468Z"
   },
   {
    "duration": 9,
    "start_time": "2022-03-25T17:22:23.544Z"
   },
   {
    "duration": 1728,
    "start_time": "2022-03-25T17:22:38.560Z"
   },
   {
    "duration": 117,
    "start_time": "2022-03-25T17:22:40.290Z"
   },
   {
    "duration": 46,
    "start_time": "2022-03-25T17:22:40.408Z"
   },
   {
    "duration": 22,
    "start_time": "2022-03-25T17:22:40.456Z"
   },
   {
    "duration": 16,
    "start_time": "2022-03-25T17:22:40.480Z"
   },
   {
    "duration": 13,
    "start_time": "2022-03-25T17:22:40.498Z"
   },
   {
    "duration": 32,
    "start_time": "2022-03-25T17:22:40.513Z"
   },
   {
    "duration": 5,
    "start_time": "2022-03-25T17:22:40.549Z"
   },
   {
    "duration": 29,
    "start_time": "2022-03-25T17:22:40.555Z"
   },
   {
    "duration": 12,
    "start_time": "2022-03-25T17:22:40.587Z"
   },
   {
    "duration": 17,
    "start_time": "2022-03-25T17:22:40.601Z"
   },
   {
    "duration": 49,
    "start_time": "2022-03-25T17:22:40.620Z"
   },
   {
    "duration": 11,
    "start_time": "2022-03-25T17:22:40.671Z"
   },
   {
    "duration": 779,
    "start_time": "2022-03-25T17:22:40.683Z"
   },
   {
    "duration": 11,
    "start_time": "2022-03-25T17:22:41.464Z"
   },
   {
    "duration": 17,
    "start_time": "2022-03-25T17:22:41.477Z"
   },
   {
    "duration": 163,
    "start_time": "2022-03-25T17:22:41.495Z"
   },
   {
    "duration": 15,
    "start_time": "2022-03-25T17:22:41.660Z"
   },
   {
    "duration": 21,
    "start_time": "2022-03-25T17:22:41.677Z"
   },
   {
    "duration": 27,
    "start_time": "2022-03-25T17:22:41.700Z"
   },
   {
    "duration": 30,
    "start_time": "2022-03-25T17:22:41.729Z"
   },
   {
    "duration": 21,
    "start_time": "2022-03-25T17:22:41.761Z"
   },
   {
    "duration": 29,
    "start_time": "2022-03-25T17:22:41.784Z"
   },
   {
    "duration": 55,
    "start_time": "2022-03-25T17:22:41.815Z"
   },
   {
    "duration": 303,
    "start_time": "2022-03-25T17:22:41.871Z"
   },
   {
    "duration": 34,
    "start_time": "2022-03-25T17:22:42.176Z"
   },
   {
    "duration": 35,
    "start_time": "2022-03-25T17:22:42.211Z"
   },
   {
    "duration": 21,
    "start_time": "2022-03-25T17:22:42.250Z"
   },
   {
    "duration": 9,
    "start_time": "2022-03-25T17:22:44.565Z"
   },
   {
    "duration": 9,
    "start_time": "2022-03-25T17:22:55.856Z"
   },
   {
    "duration": 9,
    "start_time": "2022-03-25T17:22:59.844Z"
   },
   {
    "duration": 10,
    "start_time": "2022-03-25T17:23:08.196Z"
   },
   {
    "duration": 1688,
    "start_time": "2022-03-25T17:27:55.637Z"
   },
   {
    "duration": 134,
    "start_time": "2022-03-25T17:27:57.327Z"
   },
   {
    "duration": 18,
    "start_time": "2022-03-25T17:27:57.463Z"
   },
   {
    "duration": 4,
    "start_time": "2022-03-25T17:27:57.483Z"
   },
   {
    "duration": 16,
    "start_time": "2022-03-25T17:27:57.488Z"
   },
   {
    "duration": 32,
    "start_time": "2022-03-25T17:27:57.506Z"
   },
   {
    "duration": 25,
    "start_time": "2022-03-25T17:27:57.540Z"
   },
   {
    "duration": 5,
    "start_time": "2022-03-25T17:27:57.567Z"
   },
   {
    "duration": 13,
    "start_time": "2022-03-25T17:27:57.573Z"
   },
   {
    "duration": 8,
    "start_time": "2022-03-25T17:27:57.589Z"
   },
   {
    "duration": 36,
    "start_time": "2022-03-25T17:27:57.599Z"
   },
   {
    "duration": 13,
    "start_time": "2022-03-25T17:27:57.637Z"
   },
   {
    "duration": 5,
    "start_time": "2022-03-25T17:27:57.652Z"
   },
   {
    "duration": 755,
    "start_time": "2022-03-25T17:27:57.658Z"
   },
   {
    "duration": 15,
    "start_time": "2022-03-25T17:27:58.416Z"
   },
   {
    "duration": 11,
    "start_time": "2022-03-25T17:27:58.433Z"
   },
   {
    "duration": 135,
    "start_time": "2022-03-25T17:27:58.445Z"
   },
   {
    "duration": 13,
    "start_time": "2022-03-25T17:27:58.582Z"
   },
   {
    "duration": 7,
    "start_time": "2022-03-25T17:27:58.597Z"
   },
   {
    "duration": 27,
    "start_time": "2022-03-25T17:27:58.606Z"
   },
   {
    "duration": 15,
    "start_time": "2022-03-25T17:27:58.635Z"
   },
   {
    "duration": 16,
    "start_time": "2022-03-25T17:27:58.652Z"
   },
   {
    "duration": 10,
    "start_time": "2022-03-25T17:27:58.670Z"
   },
   {
    "duration": 55,
    "start_time": "2022-03-25T17:27:58.682Z"
   },
   {
    "duration": 297,
    "start_time": "2022-03-25T17:27:58.738Z"
   },
   {
    "duration": 34,
    "start_time": "2022-03-25T17:27:59.037Z"
   },
   {
    "duration": 21,
    "start_time": "2022-03-25T17:27:59.072Z"
   },
   {
    "duration": 48,
    "start_time": "2022-03-25T17:27:59.097Z"
   },
   {
    "duration": 9,
    "start_time": "2022-03-25T17:27:59.147Z"
   },
   {
    "duration": 16,
    "start_time": "2022-03-25T17:27:59.158Z"
   },
   {
    "duration": 20,
    "start_time": "2022-03-25T17:27:59.176Z"
   },
   {
    "duration": 61,
    "start_time": "2022-03-25T17:27:59.198Z"
   },
   {
    "duration": 138,
    "start_time": "2022-03-25T17:27:59.261Z"
   },
   {
    "duration": 38,
    "start_time": "2022-03-25T17:27:59.401Z"
   },
   {
    "duration": 21,
    "start_time": "2022-03-25T17:27:59.441Z"
   },
   {
    "duration": 20,
    "start_time": "2022-03-25T17:27:59.463Z"
   },
   {
    "duration": 11,
    "start_time": "2022-03-25T17:27:59.485Z"
   },
   {
    "duration": 46,
    "start_time": "2022-03-25T17:27:59.498Z"
   },
   {
    "duration": 30,
    "start_time": "2022-03-25T17:27:59.546Z"
   },
   {
    "duration": 20,
    "start_time": "2022-03-25T17:27:59.578Z"
   },
   {
    "duration": 28,
    "start_time": "2022-03-25T17:27:59.633Z"
   },
   {
    "duration": 144,
    "start_time": "2022-03-25T17:27:59.663Z"
   },
   {
    "duration": 23,
    "start_time": "2022-03-25T17:27:59.809Z"
   },
   {
    "duration": 6,
    "start_time": "2022-03-25T17:27:59.834Z"
   },
   {
    "duration": 29,
    "start_time": "2022-03-25T17:27:59.842Z"
   },
   {
    "duration": 25,
    "start_time": "2022-03-25T17:27:59.873Z"
   },
   {
    "duration": 47,
    "start_time": "2022-03-25T17:27:59.900Z"
   },
   {
    "duration": 13,
    "start_time": "2022-03-25T17:27:59.948Z"
   },
   {
    "duration": 17,
    "start_time": "2022-03-25T17:27:59.963Z"
   },
   {
    "duration": 51,
    "start_time": "2022-03-25T17:27:59.982Z"
   },
   {
    "duration": 103,
    "start_time": "2022-03-25T17:28:00.035Z"
   },
   {
    "duration": 7,
    "start_time": "2022-03-25T17:28:00.140Z"
   },
   {
    "duration": 343,
    "start_time": "2022-03-25T17:28:00.148Z"
   },
   {
    "duration": 42,
    "start_time": "2022-03-25T17:28:00.492Z"
   },
   {
    "duration": 4,
    "start_time": "2022-03-25T17:28:00.536Z"
   },
   {
    "duration": 19,
    "start_time": "2022-03-25T17:28:00.542Z"
   },
   {
    "duration": 11,
    "start_time": "2022-03-25T17:28:00.563Z"
   },
   {
    "duration": 32,
    "start_time": "2022-03-25T17:28:00.576Z"
   },
   {
    "duration": 1424,
    "start_time": "2022-03-25T17:28:00.609Z"
   },
   {
    "duration": 9,
    "start_time": "2022-03-25T17:28:02.035Z"
   },
   {
    "duration": 155,
    "start_time": "2022-03-25T17:28:02.046Z"
   },
   {
    "duration": 45,
    "start_time": "2022-03-25T17:28:02.203Z"
   },
   {
    "duration": 12,
    "start_time": "2022-03-25T17:28:02.250Z"
   },
   {
    "duration": 1085,
    "start_time": "2022-03-25T17:28:02.264Z"
   },
   {
    "duration": 237,
    "start_time": "2022-03-25T17:28:03.351Z"
   },
   {
    "duration": 255,
    "start_time": "2022-03-25T17:28:03.590Z"
   },
   {
    "duration": 235,
    "start_time": "2022-03-25T17:28:03.847Z"
   },
   {
    "duration": 11,
    "start_time": "2022-03-25T17:28:04.084Z"
   },
   {
    "duration": 49,
    "start_time": "2022-03-25T17:28:04.097Z"
   },
   {
    "duration": 298,
    "start_time": "2022-03-25T17:28:04.149Z"
   },
   {
    "duration": 1393,
    "start_time": "2022-03-25T17:28:04.449Z"
   },
   {
    "duration": 14,
    "start_time": "2022-03-25T17:28:05.844Z"
   },
   {
    "duration": 339,
    "start_time": "2022-03-25T17:28:05.860Z"
   },
   {
    "duration": 1125,
    "start_time": "2022-03-25T17:30:21.742Z"
   },
   {
    "duration": 1003,
    "start_time": "2022-03-25T17:31:16.163Z"
   },
   {
    "duration": 244,
    "start_time": "2022-03-25T17:31:43.039Z"
   },
   {
    "duration": 269,
    "start_time": "2022-03-25T17:32:35.375Z"
   },
   {
    "duration": 240,
    "start_time": "2022-03-25T17:32:41.295Z"
   },
   {
    "duration": 1878,
    "start_time": "2022-03-25T17:35:20.462Z"
   },
   {
    "duration": 125,
    "start_time": "2022-03-25T17:35:22.342Z"
   },
   {
    "duration": 18,
    "start_time": "2022-03-25T17:35:22.469Z"
   },
   {
    "duration": 4,
    "start_time": "2022-03-25T17:35:22.489Z"
   },
   {
    "duration": 39,
    "start_time": "2022-03-25T17:35:22.494Z"
   },
   {
    "duration": 8,
    "start_time": "2022-03-25T17:35:22.535Z"
   },
   {
    "duration": 28,
    "start_time": "2022-03-25T17:35:22.545Z"
   },
   {
    "duration": 5,
    "start_time": "2022-03-25T17:35:22.575Z"
   },
   {
    "duration": 13,
    "start_time": "2022-03-25T17:35:22.582Z"
   },
   {
    "duration": 38,
    "start_time": "2022-03-25T17:35:22.598Z"
   },
   {
    "duration": 5,
    "start_time": "2022-03-25T17:35:22.638Z"
   },
   {
    "duration": 14,
    "start_time": "2022-03-25T17:35:22.645Z"
   },
   {
    "duration": 6,
    "start_time": "2022-03-25T17:35:22.661Z"
   },
   {
    "duration": 758,
    "start_time": "2022-03-25T17:35:22.668Z"
   },
   {
    "duration": 12,
    "start_time": "2022-03-25T17:35:23.429Z"
   },
   {
    "duration": 12,
    "start_time": "2022-03-25T17:35:23.443Z"
   },
   {
    "duration": 154,
    "start_time": "2022-03-25T17:35:23.457Z"
   },
   {
    "duration": 27,
    "start_time": "2022-03-25T17:35:23.613Z"
   },
   {
    "duration": 6,
    "start_time": "2022-03-25T17:35:23.642Z"
   },
   {
    "duration": 11,
    "start_time": "2022-03-25T17:35:23.650Z"
   },
   {
    "duration": 7,
    "start_time": "2022-03-25T17:35:23.663Z"
   },
   {
    "duration": 14,
    "start_time": "2022-03-25T17:35:23.672Z"
   },
   {
    "duration": 13,
    "start_time": "2022-03-25T17:35:23.688Z"
   },
   {
    "duration": 38,
    "start_time": "2022-03-25T17:35:23.732Z"
   },
   {
    "duration": 317,
    "start_time": "2022-03-25T17:35:23.772Z"
   },
   {
    "duration": 43,
    "start_time": "2022-03-25T17:35:24.091Z"
   },
   {
    "duration": 20,
    "start_time": "2022-03-25T17:35:24.136Z"
   },
   {
    "duration": 23,
    "start_time": "2022-03-25T17:35:24.161Z"
   },
   {
    "duration": 12,
    "start_time": "2022-03-25T17:35:24.186Z"
   },
   {
    "duration": 18,
    "start_time": "2022-03-25T17:35:24.232Z"
   },
   {
    "duration": 21,
    "start_time": "2022-03-25T17:35:24.253Z"
   },
   {
    "duration": 57,
    "start_time": "2022-03-25T17:35:24.276Z"
   },
   {
    "duration": 144,
    "start_time": "2022-03-25T17:35:24.335Z"
   },
   {
    "duration": 27,
    "start_time": "2022-03-25T17:35:24.481Z"
   },
   {
    "duration": 41,
    "start_time": "2022-03-25T17:35:24.510Z"
   },
   {
    "duration": 21,
    "start_time": "2022-03-25T17:35:24.553Z"
   },
   {
    "duration": 12,
    "start_time": "2022-03-25T17:35:24.576Z"
   },
   {
    "duration": 50,
    "start_time": "2022-03-25T17:35:24.589Z"
   },
   {
    "duration": 34,
    "start_time": "2022-03-25T17:35:24.641Z"
   },
   {
    "duration": 19,
    "start_time": "2022-03-25T17:35:24.678Z"
   },
   {
    "duration": 60,
    "start_time": "2022-03-25T17:35:24.699Z"
   },
   {
    "duration": 151,
    "start_time": "2022-03-25T17:35:24.761Z"
   },
   {
    "duration": 20,
    "start_time": "2022-03-25T17:35:24.914Z"
   },
   {
    "duration": 6,
    "start_time": "2022-03-25T17:35:24.936Z"
   },
   {
    "duration": 33,
    "start_time": "2022-03-25T17:35:24.944Z"
   },
   {
    "duration": 56,
    "start_time": "2022-03-25T17:35:24.978Z"
   },
   {
    "duration": 24,
    "start_time": "2022-03-25T17:35:25.037Z"
   },
   {
    "duration": 13,
    "start_time": "2022-03-25T17:35:25.063Z"
   },
   {
    "duration": 18,
    "start_time": "2022-03-25T17:35:25.078Z"
   },
   {
    "duration": 51,
    "start_time": "2022-03-25T17:35:25.097Z"
   },
   {
    "duration": 111,
    "start_time": "2022-03-25T17:35:25.150Z"
   },
   {
    "duration": 8,
    "start_time": "2022-03-25T17:35:25.263Z"
   },
   {
    "duration": 368,
    "start_time": "2022-03-25T17:35:25.273Z"
   },
   {
    "duration": 27,
    "start_time": "2022-03-25T17:35:25.644Z"
   },
   {
    "duration": 5,
    "start_time": "2022-03-25T17:35:25.673Z"
   },
   {
    "duration": 26,
    "start_time": "2022-03-25T17:35:25.680Z"
   },
   {
    "duration": 27,
    "start_time": "2022-03-25T17:35:25.708Z"
   },
   {
    "duration": 22,
    "start_time": "2022-03-25T17:35:25.737Z"
   },
   {
    "duration": 1497,
    "start_time": "2022-03-25T17:35:25.761Z"
   },
   {
    "duration": 8,
    "start_time": "2022-03-25T17:35:27.260Z"
   },
   {
    "duration": 137,
    "start_time": "2022-03-25T17:35:27.270Z"
   },
   {
    "duration": 50,
    "start_time": "2022-03-25T17:35:27.409Z"
   },
   {
    "duration": 11,
    "start_time": "2022-03-25T17:35:27.461Z"
   },
   {
    "duration": 1151,
    "start_time": "2022-03-25T17:35:27.473Z"
   },
   {
    "duration": 246,
    "start_time": "2022-03-25T17:35:28.625Z"
   },
   {
    "duration": 291,
    "start_time": "2022-03-25T17:35:28.873Z"
   },
   {
    "duration": 262,
    "start_time": "2022-03-25T17:35:29.166Z"
   },
   {
    "duration": 19,
    "start_time": "2022-03-25T17:35:29.434Z"
   },
   {
    "duration": 1807,
    "start_time": "2022-03-25T17:36:20.487Z"
   },
   {
    "duration": 119,
    "start_time": "2022-03-25T17:36:22.296Z"
   },
   {
    "duration": 32,
    "start_time": "2022-03-25T17:36:22.417Z"
   },
   {
    "duration": 4,
    "start_time": "2022-03-25T17:36:22.451Z"
   },
   {
    "duration": 11,
    "start_time": "2022-03-25T17:36:22.457Z"
   },
   {
    "duration": 11,
    "start_time": "2022-03-25T17:36:22.470Z"
   },
   {
    "duration": 54,
    "start_time": "2022-03-25T17:36:22.483Z"
   },
   {
    "duration": 6,
    "start_time": "2022-03-25T17:36:22.539Z"
   },
   {
    "duration": 12,
    "start_time": "2022-03-25T17:36:22.546Z"
   },
   {
    "duration": 13,
    "start_time": "2022-03-25T17:36:22.560Z"
   },
   {
    "duration": 7,
    "start_time": "2022-03-25T17:36:22.575Z"
   },
   {
    "duration": 14,
    "start_time": "2022-03-25T17:36:22.584Z"
   },
   {
    "duration": 4,
    "start_time": "2022-03-25T17:36:22.632Z"
   },
   {
    "duration": 755,
    "start_time": "2022-03-25T17:36:22.637Z"
   },
   {
    "duration": 12,
    "start_time": "2022-03-25T17:36:23.394Z"
   },
   {
    "duration": 29,
    "start_time": "2022-03-25T17:36:23.407Z"
   },
   {
    "duration": 149,
    "start_time": "2022-03-25T17:36:23.438Z"
   },
   {
    "duration": 13,
    "start_time": "2022-03-25T17:36:23.588Z"
   },
   {
    "duration": 10,
    "start_time": "2022-03-25T17:36:23.603Z"
   },
   {
    "duration": 27,
    "start_time": "2022-03-25T17:36:23.614Z"
   },
   {
    "duration": 8,
    "start_time": "2022-03-25T17:36:23.643Z"
   },
   {
    "duration": 15,
    "start_time": "2022-03-25T17:36:23.653Z"
   },
   {
    "duration": 12,
    "start_time": "2022-03-25T17:36:23.669Z"
   },
   {
    "duration": 63,
    "start_time": "2022-03-25T17:36:23.683Z"
   },
   {
    "duration": 289,
    "start_time": "2022-03-25T17:36:23.748Z"
   },
   {
    "duration": 34,
    "start_time": "2022-03-25T17:36:24.038Z"
   },
   {
    "duration": 20,
    "start_time": "2022-03-25T17:36:24.073Z"
   },
   {
    "duration": 46,
    "start_time": "2022-03-25T17:36:24.097Z"
   },
   {
    "duration": 10,
    "start_time": "2022-03-25T17:36:24.145Z"
   },
   {
    "duration": 16,
    "start_time": "2022-03-25T17:36:24.157Z"
   },
   {
    "duration": 19,
    "start_time": "2022-03-25T17:36:24.175Z"
   },
   {
    "duration": 61,
    "start_time": "2022-03-25T17:36:24.196Z"
   },
   {
    "duration": 145,
    "start_time": "2022-03-25T17:36:24.259Z"
   },
   {
    "duration": 38,
    "start_time": "2022-03-25T17:36:24.406Z"
   },
   {
    "duration": 22,
    "start_time": "2022-03-25T17:36:24.446Z"
   },
   {
    "duration": 20,
    "start_time": "2022-03-25T17:36:24.470Z"
   },
   {
    "duration": 46,
    "start_time": "2022-03-25T17:36:24.491Z"
   },
   {
    "duration": 15,
    "start_time": "2022-03-25T17:36:24.539Z"
   },
   {
    "duration": 32,
    "start_time": "2022-03-25T17:36:24.556Z"
   },
   {
    "duration": 48,
    "start_time": "2022-03-25T17:36:24.590Z"
   },
   {
    "duration": 33,
    "start_time": "2022-03-25T17:36:24.639Z"
   },
   {
    "duration": 157,
    "start_time": "2022-03-25T17:36:24.674Z"
   },
   {
    "duration": 8,
    "start_time": "2022-03-25T17:36:24.833Z"
   },
   {
    "duration": 8,
    "start_time": "2022-03-25T17:36:24.843Z"
   },
   {
    "duration": 32,
    "start_time": "2022-03-25T17:36:24.853Z"
   },
   {
    "duration": 53,
    "start_time": "2022-03-25T17:36:24.887Z"
   },
   {
    "duration": 27,
    "start_time": "2022-03-25T17:36:24.942Z"
   },
   {
    "duration": 18,
    "start_time": "2022-03-25T17:36:24.971Z"
   },
   {
    "duration": 60,
    "start_time": "2022-03-25T17:36:24.991Z"
   },
   {
    "duration": 19,
    "start_time": "2022-03-25T17:36:25.053Z"
   },
   {
    "duration": 115,
    "start_time": "2022-03-25T17:36:25.074Z"
   },
   {
    "duration": 7,
    "start_time": "2022-03-25T17:36:25.190Z"
   },
   {
    "duration": 358,
    "start_time": "2022-03-25T17:36:25.199Z"
   },
   {
    "duration": 26,
    "start_time": "2022-03-25T17:36:25.559Z"
   },
   {
    "duration": 4,
    "start_time": "2022-03-25T17:36:25.587Z"
   },
   {
    "duration": 12,
    "start_time": "2022-03-25T17:36:25.592Z"
   },
   {
    "duration": 8,
    "start_time": "2022-03-25T17:36:25.632Z"
   },
   {
    "duration": 19,
    "start_time": "2022-03-25T17:36:25.642Z"
   },
   {
    "duration": 1524,
    "start_time": "2022-03-25T17:36:25.663Z"
   },
   {
    "duration": 10,
    "start_time": "2022-03-25T17:36:27.189Z"
   },
   {
    "duration": 141,
    "start_time": "2022-03-25T17:36:27.201Z"
   },
   {
    "duration": 32,
    "start_time": "2022-03-25T17:36:27.344Z"
   },
   {
    "duration": 12,
    "start_time": "2022-03-25T17:36:27.378Z"
   },
   {
    "duration": 1081,
    "start_time": "2022-03-25T17:36:27.392Z"
   },
   {
    "duration": 237,
    "start_time": "2022-03-25T17:36:28.475Z"
   },
   {
    "duration": 269,
    "start_time": "2022-03-25T17:36:28.714Z"
   },
   {
    "duration": 248,
    "start_time": "2022-03-25T17:36:28.985Z"
   },
   {
    "duration": 12,
    "start_time": "2022-03-25T17:36:29.235Z"
   },
   {
    "duration": 13,
    "start_time": "2022-03-25T17:36:29.249Z"
   },
   {
    "duration": 348,
    "start_time": "2022-03-25T17:36:29.264Z"
   },
   {
    "duration": 1258,
    "start_time": "2022-03-25T17:36:29.614Z"
   },
   {
    "duration": 17,
    "start_time": "2022-03-25T17:36:30.874Z"
   },
   {
    "duration": 341,
    "start_time": "2022-03-25T17:36:30.893Z"
   },
   {
    "duration": 28,
    "start_time": "2022-03-25T17:37:49.760Z"
   },
   {
    "duration": 1795,
    "start_time": "2022-03-25T17:43:53.809Z"
   },
   {
    "duration": 154,
    "start_time": "2022-03-25T17:43:55.606Z"
   },
   {
    "duration": 19,
    "start_time": "2022-03-25T17:43:55.762Z"
   },
   {
    "duration": 5,
    "start_time": "2022-03-25T17:43:55.784Z"
   },
   {
    "duration": 15,
    "start_time": "2022-03-25T17:43:55.791Z"
   },
   {
    "duration": 30,
    "start_time": "2022-03-25T17:43:55.807Z"
   },
   {
    "duration": 28,
    "start_time": "2022-03-25T17:43:55.842Z"
   },
   {
    "duration": 5,
    "start_time": "2022-03-25T17:43:55.872Z"
   },
   {
    "duration": 11,
    "start_time": "2022-03-25T17:43:55.879Z"
   },
   {
    "duration": 13,
    "start_time": "2022-03-25T17:43:55.893Z"
   },
   {
    "duration": 10,
    "start_time": "2022-03-25T17:43:55.932Z"
   },
   {
    "duration": 34,
    "start_time": "2022-03-25T17:43:55.944Z"
   },
   {
    "duration": 7,
    "start_time": "2022-03-25T17:43:55.980Z"
   },
   {
    "duration": 793,
    "start_time": "2022-03-25T17:43:55.989Z"
   },
   {
    "duration": 11,
    "start_time": "2022-03-25T17:43:56.785Z"
   },
   {
    "duration": 12,
    "start_time": "2022-03-25T17:43:56.799Z"
   },
   {
    "duration": 153,
    "start_time": "2022-03-25T17:43:56.813Z"
   },
   {
    "duration": 12,
    "start_time": "2022-03-25T17:43:56.968Z"
   },
   {
    "duration": 7,
    "start_time": "2022-03-25T17:43:56.982Z"
   },
   {
    "duration": 11,
    "start_time": "2022-03-25T17:43:56.991Z"
   },
   {
    "duration": 30,
    "start_time": "2022-03-25T17:43:57.004Z"
   },
   {
    "duration": 14,
    "start_time": "2022-03-25T17:43:57.038Z"
   },
   {
    "duration": 9,
    "start_time": "2022-03-25T17:43:57.054Z"
   },
   {
    "duration": 38,
    "start_time": "2022-03-25T17:43:57.065Z"
   },
   {
    "duration": 312,
    "start_time": "2022-03-25T17:43:57.105Z"
   },
   {
    "duration": 47,
    "start_time": "2022-03-25T17:43:57.419Z"
   },
   {
    "duration": 18,
    "start_time": "2022-03-25T17:43:57.468Z"
   },
   {
    "duration": 46,
    "start_time": "2022-03-25T17:43:57.491Z"
   },
   {
    "duration": 12,
    "start_time": "2022-03-25T17:43:57.538Z"
   },
   {
    "duration": 18,
    "start_time": "2022-03-25T17:43:57.552Z"
   },
   {
    "duration": 21,
    "start_time": "2022-03-25T17:43:57.571Z"
   },
   {
    "duration": 55,
    "start_time": "2022-03-25T17:43:57.594Z"
   },
   {
    "duration": 149,
    "start_time": "2022-03-25T17:43:57.651Z"
   },
   {
    "duration": 50,
    "start_time": "2022-03-25T17:43:57.802Z"
   },
   {
    "duration": 23,
    "start_time": "2022-03-25T17:43:57.854Z"
   },
   {
    "duration": 20,
    "start_time": "2022-03-25T17:43:57.879Z"
   },
   {
    "duration": 42,
    "start_time": "2022-03-25T17:43:57.901Z"
   },
   {
    "duration": 16,
    "start_time": "2022-03-25T17:43:57.945Z"
   },
   {
    "duration": 33,
    "start_time": "2022-03-25T17:43:57.963Z"
   },
   {
    "duration": 52,
    "start_time": "2022-03-25T17:43:57.997Z"
   },
   {
    "duration": 44,
    "start_time": "2022-03-25T17:43:58.051Z"
   },
   {
    "duration": 174,
    "start_time": "2022-03-25T17:43:58.097Z"
   },
   {
    "duration": 7,
    "start_time": "2022-03-25T17:43:58.273Z"
   },
   {
    "duration": 13,
    "start_time": "2022-03-25T17:43:58.282Z"
   },
   {
    "duration": 53,
    "start_time": "2022-03-25T17:43:58.297Z"
   },
   {
    "duration": 26,
    "start_time": "2022-03-25T17:43:58.352Z"
   },
   {
    "duration": 22,
    "start_time": "2022-03-25T17:43:58.379Z"
   },
   {
    "duration": 45,
    "start_time": "2022-03-25T17:43:58.403Z"
   },
   {
    "duration": 17,
    "start_time": "2022-03-25T17:43:58.451Z"
   },
   {
    "duration": 16,
    "start_time": "2022-03-25T17:43:58.470Z"
   },
   {
    "duration": 132,
    "start_time": "2022-03-25T17:43:58.488Z"
   },
   {
    "duration": 15,
    "start_time": "2022-03-25T17:43:58.622Z"
   },
   {
    "duration": 355,
    "start_time": "2022-03-25T17:43:58.639Z"
   },
   {
    "duration": 47,
    "start_time": "2022-03-25T17:43:58.996Z"
   },
   {
    "duration": 7,
    "start_time": "2022-03-25T17:43:59.045Z"
   },
   {
    "duration": 12,
    "start_time": "2022-03-25T17:43:59.054Z"
   },
   {
    "duration": 10,
    "start_time": "2022-03-25T17:43:59.067Z"
   },
   {
    "duration": 15,
    "start_time": "2022-03-25T17:43:59.079Z"
   },
   {
    "duration": 1634,
    "start_time": "2022-03-25T17:43:59.096Z"
   },
   {
    "duration": 16,
    "start_time": "2022-03-25T17:44:00.732Z"
   },
   {
    "duration": 144,
    "start_time": "2022-03-25T17:44:00.755Z"
   },
   {
    "duration": 49,
    "start_time": "2022-03-25T17:44:00.901Z"
   },
   {
    "duration": 1273,
    "start_time": "2022-03-25T17:44:00.952Z"
   },
   {
    "duration": 254,
    "start_time": "2022-03-25T17:44:02.232Z"
   },
   {
    "duration": 295,
    "start_time": "2022-03-25T17:44:02.488Z"
   },
   {
    "duration": 269,
    "start_time": "2022-03-25T17:44:02.785Z"
   },
   {
    "duration": 13,
    "start_time": "2022-03-25T17:44:03.056Z"
   },
   {
    "duration": 40,
    "start_time": "2022-03-25T17:44:03.071Z"
   },
   {
    "duration": 347,
    "start_time": "2022-03-25T17:44:03.113Z"
   },
   {
    "duration": 1190,
    "start_time": "2022-03-25T17:44:03.462Z"
   },
   {
    "duration": 17,
    "start_time": "2022-03-25T17:44:04.654Z"
   },
   {
    "duration": 368,
    "start_time": "2022-03-25T17:44:04.673Z"
   },
   {
    "duration": 63,
    "start_time": "2022-04-20T16:38:56.767Z"
   }
  ],
  "kernelspec": {
   "display_name": "Python 3 (ipykernel)",
   "language": "python",
   "name": "python3"
  },
  "language_info": {
   "codemirror_mode": {
    "name": "ipython",
    "version": 3
   },
   "file_extension": ".py",
   "mimetype": "text/x-python",
   "name": "python",
   "nbconvert_exporter": "python",
   "pygments_lexer": "ipython3",
   "version": "3.9.12"
  },
  "toc": {
   "base_numbering": 1,
   "nav_menu": {},
   "number_sections": true,
   "sideBar": true,
   "skip_h1_title": true,
   "title_cell": "Table of Contents",
   "title_sidebar": "Contents",
   "toc_cell": false,
   "toc_position": {
    "height": "calc(100% - 180px)",
    "left": "10px",
    "top": "150px",
    "width": "262.6px"
   },
   "toc_section_display": true,
   "toc_window_display": false
  }
 },
 "nbformat": 4,
 "nbformat_minor": 2
}
