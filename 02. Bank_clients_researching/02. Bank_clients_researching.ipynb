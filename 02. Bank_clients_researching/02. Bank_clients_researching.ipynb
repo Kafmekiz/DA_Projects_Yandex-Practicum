{
 "cells": [
  {
   "cell_type": "markdown",
   "id": "d56c9988",
   "metadata": {},
   "source": [
    " # Проект № 2: Исследование надёжности заёмщиков"
   ]
  },
  {
   "cell_type": "markdown",
   "id": "cd38f592",
   "metadata": {},
   "source": [
    "## Описание проекта\n",
    "Кредитный отдел банка предоставил нам датасет со статистикой о платёжеспособности клиентов. Нужно разобраться, влияет ли семейное положение и количество детей клиента на факт погашения кредита в срок. \n",
    "\n",
    "Результаты исследования будут учтены при построении **модели кредитного скоринга** — специальной системы, которая оценивает способность потенциального заёмщика вернуть кредит банку."
   ]
  },
  {
   "cell_type": "markdown",
   "id": "6da16f3b",
   "metadata": {},
   "source": [
    "## Описание данных\n",
    "* `children` — количество детей в семье\n",
    "* `days_employed` — общий трудовой стаж в днях\n",
    "* `dob_years` — возраст клиента в годах\n",
    "* `education` — уровень образования клиента\n",
    "* `education_id` — идентификатор уровня образования\n",
    "* `family_status` — семейное положение\n",
    "* `family_status_id` — идентификатор семейного положения\n",
    "* `gender` — пол клиента\n",
    "* `income_type` — тип занятости\n",
    "* `debt` — имел ли задолженность по возврату кредитов\n",
    "* `total_income` — ежемесячный доход\n",
    "* `purpose` — цель получения кредита"
   ]
  },
  {
   "cell_type": "markdown",
   "id": "b63130d4",
   "metadata": {},
   "source": [
    "## Обзор данных"
   ]
  },
  {
   "cell_type": "markdown",
   "id": "71a4b530",
   "metadata": {},
   "source": [
    "### Обзор и изучение общей информации о данных"
   ]
  },
  {
   "cell_type": "code",
   "execution_count": 1,
   "id": "e6f1e455",
   "metadata": {},
   "outputs": [
    {
     "data": {
      "text/html": [
       "<div>\n",
       "<style scoped>\n",
       "    .dataframe tbody tr th:only-of-type {\n",
       "        vertical-align: middle;\n",
       "    }\n",
       "\n",
       "    .dataframe tbody tr th {\n",
       "        vertical-align: top;\n",
       "    }\n",
       "\n",
       "    .dataframe thead th {\n",
       "        text-align: right;\n",
       "    }\n",
       "</style>\n",
       "<table border=\"1\" class=\"dataframe\">\n",
       "  <thead>\n",
       "    <tr style=\"text-align: right;\">\n",
       "      <th></th>\n",
       "      <th>children</th>\n",
       "      <th>days_employed</th>\n",
       "      <th>dob_years</th>\n",
       "      <th>education</th>\n",
       "      <th>education_id</th>\n",
       "      <th>family_status</th>\n",
       "      <th>family_status_id</th>\n",
       "      <th>gender</th>\n",
       "      <th>income_type</th>\n",
       "      <th>debt</th>\n",
       "      <th>total_income</th>\n",
       "      <th>purpose</th>\n",
       "    </tr>\n",
       "  </thead>\n",
       "  <tbody>\n",
       "    <tr>\n",
       "      <th>0</th>\n",
       "      <td>1</td>\n",
       "      <td>-8437.673028</td>\n",
       "      <td>42</td>\n",
       "      <td>высшее</td>\n",
       "      <td>0</td>\n",
       "      <td>женат / замужем</td>\n",
       "      <td>0</td>\n",
       "      <td>F</td>\n",
       "      <td>сотрудник</td>\n",
       "      <td>0</td>\n",
       "      <td>253875.639453</td>\n",
       "      <td>покупка жилья</td>\n",
       "    </tr>\n",
       "    <tr>\n",
       "      <th>1</th>\n",
       "      <td>1</td>\n",
       "      <td>-4024.803754</td>\n",
       "      <td>36</td>\n",
       "      <td>среднее</td>\n",
       "      <td>1</td>\n",
       "      <td>женат / замужем</td>\n",
       "      <td>0</td>\n",
       "      <td>F</td>\n",
       "      <td>сотрудник</td>\n",
       "      <td>0</td>\n",
       "      <td>112080.014102</td>\n",
       "      <td>приобретение автомобиля</td>\n",
       "    </tr>\n",
       "    <tr>\n",
       "      <th>2</th>\n",
       "      <td>0</td>\n",
       "      <td>-5623.422610</td>\n",
       "      <td>33</td>\n",
       "      <td>Среднее</td>\n",
       "      <td>1</td>\n",
       "      <td>женат / замужем</td>\n",
       "      <td>0</td>\n",
       "      <td>M</td>\n",
       "      <td>сотрудник</td>\n",
       "      <td>0</td>\n",
       "      <td>145885.952297</td>\n",
       "      <td>покупка жилья</td>\n",
       "    </tr>\n",
       "    <tr>\n",
       "      <th>3</th>\n",
       "      <td>3</td>\n",
       "      <td>-4124.747207</td>\n",
       "      <td>32</td>\n",
       "      <td>среднее</td>\n",
       "      <td>1</td>\n",
       "      <td>женат / замужем</td>\n",
       "      <td>0</td>\n",
       "      <td>M</td>\n",
       "      <td>сотрудник</td>\n",
       "      <td>0</td>\n",
       "      <td>267628.550329</td>\n",
       "      <td>дополнительное образование</td>\n",
       "    </tr>\n",
       "    <tr>\n",
       "      <th>4</th>\n",
       "      <td>0</td>\n",
       "      <td>340266.072047</td>\n",
       "      <td>53</td>\n",
       "      <td>среднее</td>\n",
       "      <td>1</td>\n",
       "      <td>гражданский брак</td>\n",
       "      <td>1</td>\n",
       "      <td>F</td>\n",
       "      <td>пенсионер</td>\n",
       "      <td>0</td>\n",
       "      <td>158616.077870</td>\n",
       "      <td>сыграть свадьбу</td>\n",
       "    </tr>\n",
       "    <tr>\n",
       "      <th>5</th>\n",
       "      <td>0</td>\n",
       "      <td>-926.185831</td>\n",
       "      <td>27</td>\n",
       "      <td>высшее</td>\n",
       "      <td>0</td>\n",
       "      <td>гражданский брак</td>\n",
       "      <td>1</td>\n",
       "      <td>M</td>\n",
       "      <td>компаньон</td>\n",
       "      <td>0</td>\n",
       "      <td>255763.565419</td>\n",
       "      <td>покупка жилья</td>\n",
       "    </tr>\n",
       "    <tr>\n",
       "      <th>6</th>\n",
       "      <td>0</td>\n",
       "      <td>-2879.202052</td>\n",
       "      <td>43</td>\n",
       "      <td>высшее</td>\n",
       "      <td>0</td>\n",
       "      <td>женат / замужем</td>\n",
       "      <td>0</td>\n",
       "      <td>F</td>\n",
       "      <td>компаньон</td>\n",
       "      <td>0</td>\n",
       "      <td>240525.971920</td>\n",
       "      <td>операции с жильем</td>\n",
       "    </tr>\n",
       "    <tr>\n",
       "      <th>7</th>\n",
       "      <td>0</td>\n",
       "      <td>-152.779569</td>\n",
       "      <td>50</td>\n",
       "      <td>СРЕДНЕЕ</td>\n",
       "      <td>1</td>\n",
       "      <td>женат / замужем</td>\n",
       "      <td>0</td>\n",
       "      <td>M</td>\n",
       "      <td>сотрудник</td>\n",
       "      <td>0</td>\n",
       "      <td>135823.934197</td>\n",
       "      <td>образование</td>\n",
       "    </tr>\n",
       "    <tr>\n",
       "      <th>8</th>\n",
       "      <td>2</td>\n",
       "      <td>-6929.865299</td>\n",
       "      <td>35</td>\n",
       "      <td>ВЫСШЕЕ</td>\n",
       "      <td>0</td>\n",
       "      <td>гражданский брак</td>\n",
       "      <td>1</td>\n",
       "      <td>F</td>\n",
       "      <td>сотрудник</td>\n",
       "      <td>0</td>\n",
       "      <td>95856.832424</td>\n",
       "      <td>на проведение свадьбы</td>\n",
       "    </tr>\n",
       "    <tr>\n",
       "      <th>9</th>\n",
       "      <td>0</td>\n",
       "      <td>-2188.756445</td>\n",
       "      <td>41</td>\n",
       "      <td>среднее</td>\n",
       "      <td>1</td>\n",
       "      <td>женат / замужем</td>\n",
       "      <td>0</td>\n",
       "      <td>M</td>\n",
       "      <td>сотрудник</td>\n",
       "      <td>0</td>\n",
       "      <td>144425.938277</td>\n",
       "      <td>покупка жилья для семьи</td>\n",
       "    </tr>\n",
       "  </tbody>\n",
       "</table>\n",
       "</div>"
      ],
      "text/plain": [
       "   children  days_employed  dob_years education  education_id  \\\n",
       "0         1   -8437.673028         42    высшее             0   \n",
       "1         1   -4024.803754         36   среднее             1   \n",
       "2         0   -5623.422610         33   Среднее             1   \n",
       "3         3   -4124.747207         32   среднее             1   \n",
       "4         0  340266.072047         53   среднее             1   \n",
       "5         0    -926.185831         27    высшее             0   \n",
       "6         0   -2879.202052         43    высшее             0   \n",
       "7         0    -152.779569         50   СРЕДНЕЕ             1   \n",
       "8         2   -6929.865299         35    ВЫСШЕЕ             0   \n",
       "9         0   -2188.756445         41   среднее             1   \n",
       "\n",
       "      family_status  family_status_id gender income_type  debt   total_income  \\\n",
       "0   женат / замужем                 0      F   сотрудник     0  253875.639453   \n",
       "1   женат / замужем                 0      F   сотрудник     0  112080.014102   \n",
       "2   женат / замужем                 0      M   сотрудник     0  145885.952297   \n",
       "3   женат / замужем                 0      M   сотрудник     0  267628.550329   \n",
       "4  гражданский брак                 1      F   пенсионер     0  158616.077870   \n",
       "5  гражданский брак                 1      M   компаньон     0  255763.565419   \n",
       "6   женат / замужем                 0      F   компаньон     0  240525.971920   \n",
       "7   женат / замужем                 0      M   сотрудник     0  135823.934197   \n",
       "8  гражданский брак                 1      F   сотрудник     0   95856.832424   \n",
       "9   женат / замужем                 0      M   сотрудник     0  144425.938277   \n",
       "\n",
       "                      purpose  \n",
       "0               покупка жилья  \n",
       "1     приобретение автомобиля  \n",
       "2               покупка жилья  \n",
       "3  дополнительное образование  \n",
       "4             сыграть свадьбу  \n",
       "5               покупка жилья  \n",
       "6           операции с жильем  \n",
       "7                 образование  \n",
       "8       на проведение свадьбы  \n",
       "9     покупка жилья для семьи  "
      ]
     },
     "execution_count": 1,
     "metadata": {},
     "output_type": "execute_result"
    }
   ],
   "source": [
    "# импортируем необходимые для работы библиотеки\n",
    "import pandas as pd\n",
    "\n",
    "import matplotlib.pyplot as plt\n",
    "import seaborn as sns\n",
    "\n",
    "import warnings\n",
    "warnings.filterwarnings('ignore')\n",
    "\n",
    "# прочитаем таблицу и сохраним её в переменную data\n",
    "data = pd.read_csv('data.csv')\n",
    "\n",
    "# выведем первые 10 строк датасета\n",
    "data.head(10)"
   ]
  },
  {
   "cell_type": "code",
   "execution_count": 2,
   "id": "a0f192b7",
   "metadata": {
    "scrolled": false
   },
   "outputs": [
    {
     "name": "stdout",
     "output_type": "stream",
     "text": [
      "<class 'pandas.core.frame.DataFrame'>\n",
      "RangeIndex: 21525 entries, 0 to 21524\n",
      "Data columns (total 12 columns):\n",
      " #   Column            Non-Null Count  Dtype  \n",
      "---  ------            --------------  -----  \n",
      " 0   children          21525 non-null  int64  \n",
      " 1   days_employed     19351 non-null  float64\n",
      " 2   dob_years         21525 non-null  int64  \n",
      " 3   education         21525 non-null  object \n",
      " 4   education_id      21525 non-null  int64  \n",
      " 5   family_status     21525 non-null  object \n",
      " 6   family_status_id  21525 non-null  int64  \n",
      " 7   gender            21525 non-null  object \n",
      " 8   income_type       21525 non-null  object \n",
      " 9   debt              21525 non-null  int64  \n",
      " 10  total_income      19351 non-null  float64\n",
      " 11  purpose           21525 non-null  object \n",
      "dtypes: float64(2), int64(5), object(5)\n",
      "memory usage: 2.0+ MB\n"
     ]
    }
   ],
   "source": [
    "# посмотрим общие сведения о таблице\n",
    "data.info()"
   ]
  },
  {
   "cell_type": "code",
   "execution_count": 3,
   "id": "8dd1dc94",
   "metadata": {},
   "outputs": [
    {
     "data": {
      "text/html": [
       "<div>\n",
       "<style scoped>\n",
       "    .dataframe tbody tr th:only-of-type {\n",
       "        vertical-align: middle;\n",
       "    }\n",
       "\n",
       "    .dataframe tbody tr th {\n",
       "        vertical-align: top;\n",
       "    }\n",
       "\n",
       "    .dataframe thead th {\n",
       "        text-align: right;\n",
       "    }\n",
       "</style>\n",
       "<table border=\"1\" class=\"dataframe\">\n",
       "  <thead>\n",
       "    <tr style=\"text-align: right;\">\n",
       "      <th></th>\n",
       "      <th>children</th>\n",
       "      <th>days_employed</th>\n",
       "      <th>dob_years</th>\n",
       "      <th>education_id</th>\n",
       "      <th>family_status_id</th>\n",
       "      <th>debt</th>\n",
       "      <th>total_income</th>\n",
       "    </tr>\n",
       "  </thead>\n",
       "  <tbody>\n",
       "    <tr>\n",
       "      <th>count</th>\n",
       "      <td>21525.000000</td>\n",
       "      <td>19351.000000</td>\n",
       "      <td>21525.000000</td>\n",
       "      <td>21525.000000</td>\n",
       "      <td>21525.000000</td>\n",
       "      <td>21525.000000</td>\n",
       "      <td>1.935100e+04</td>\n",
       "    </tr>\n",
       "    <tr>\n",
       "      <th>mean</th>\n",
       "      <td>0.538908</td>\n",
       "      <td>63046.497661</td>\n",
       "      <td>43.293380</td>\n",
       "      <td>0.817236</td>\n",
       "      <td>0.972544</td>\n",
       "      <td>0.080883</td>\n",
       "      <td>1.674223e+05</td>\n",
       "    </tr>\n",
       "    <tr>\n",
       "      <th>std</th>\n",
       "      <td>1.381587</td>\n",
       "      <td>140827.311974</td>\n",
       "      <td>12.574584</td>\n",
       "      <td>0.548138</td>\n",
       "      <td>1.420324</td>\n",
       "      <td>0.272661</td>\n",
       "      <td>1.029716e+05</td>\n",
       "    </tr>\n",
       "    <tr>\n",
       "      <th>min</th>\n",
       "      <td>-1.000000</td>\n",
       "      <td>-18388.949901</td>\n",
       "      <td>0.000000</td>\n",
       "      <td>0.000000</td>\n",
       "      <td>0.000000</td>\n",
       "      <td>0.000000</td>\n",
       "      <td>2.066726e+04</td>\n",
       "    </tr>\n",
       "    <tr>\n",
       "      <th>25%</th>\n",
       "      <td>0.000000</td>\n",
       "      <td>-2747.423625</td>\n",
       "      <td>33.000000</td>\n",
       "      <td>1.000000</td>\n",
       "      <td>0.000000</td>\n",
       "      <td>0.000000</td>\n",
       "      <td>1.030532e+05</td>\n",
       "    </tr>\n",
       "    <tr>\n",
       "      <th>50%</th>\n",
       "      <td>0.000000</td>\n",
       "      <td>-1203.369529</td>\n",
       "      <td>42.000000</td>\n",
       "      <td>1.000000</td>\n",
       "      <td>0.000000</td>\n",
       "      <td>0.000000</td>\n",
       "      <td>1.450179e+05</td>\n",
       "    </tr>\n",
       "    <tr>\n",
       "      <th>75%</th>\n",
       "      <td>1.000000</td>\n",
       "      <td>-291.095954</td>\n",
       "      <td>53.000000</td>\n",
       "      <td>1.000000</td>\n",
       "      <td>1.000000</td>\n",
       "      <td>0.000000</td>\n",
       "      <td>2.034351e+05</td>\n",
       "    </tr>\n",
       "    <tr>\n",
       "      <th>max</th>\n",
       "      <td>20.000000</td>\n",
       "      <td>401755.400475</td>\n",
       "      <td>75.000000</td>\n",
       "      <td>4.000000</td>\n",
       "      <td>4.000000</td>\n",
       "      <td>1.000000</td>\n",
       "      <td>2.265604e+06</td>\n",
       "    </tr>\n",
       "  </tbody>\n",
       "</table>\n",
       "</div>"
      ],
      "text/plain": [
       "           children  days_employed     dob_years  education_id  \\\n",
       "count  21525.000000   19351.000000  21525.000000  21525.000000   \n",
       "mean       0.538908   63046.497661     43.293380      0.817236   \n",
       "std        1.381587  140827.311974     12.574584      0.548138   \n",
       "min       -1.000000  -18388.949901      0.000000      0.000000   \n",
       "25%        0.000000   -2747.423625     33.000000      1.000000   \n",
       "50%        0.000000   -1203.369529     42.000000      1.000000   \n",
       "75%        1.000000    -291.095954     53.000000      1.000000   \n",
       "max       20.000000  401755.400475     75.000000      4.000000   \n",
       "\n",
       "       family_status_id          debt  total_income  \n",
       "count      21525.000000  21525.000000  1.935100e+04  \n",
       "mean           0.972544      0.080883  1.674223e+05  \n",
       "std            1.420324      0.272661  1.029716e+05  \n",
       "min            0.000000      0.000000  2.066726e+04  \n",
       "25%            0.000000      0.000000  1.030532e+05  \n",
       "50%            0.000000      0.000000  1.450179e+05  \n",
       "75%            1.000000      0.000000  2.034351e+05  \n",
       "max            4.000000      1.000000  2.265604e+06  "
      ]
     },
     "execution_count": 3,
     "metadata": {},
     "output_type": "execute_result"
    }
   ],
   "source": [
    "# посмотрим описательную статистику\n",
    "data.describe()"
   ]
  },
  {
   "cell_type": "code",
   "execution_count": 4,
   "id": "42786c7e",
   "metadata": {
    "scrolled": true
   },
   "outputs": [
    {
     "data": {
      "text/plain": [
       "children            0.000000\n",
       "days_employed       0.100999\n",
       "dob_years           0.000000\n",
       "education           0.000000\n",
       "education_id        0.000000\n",
       "family_status       0.000000\n",
       "family_status_id    0.000000\n",
       "gender              0.000000\n",
       "income_type         0.000000\n",
       "debt                0.000000\n",
       "total_income        0.100999\n",
       "purpose             0.000000\n",
       "dtype: float64"
      ]
     },
     "execution_count": 4,
     "metadata": {},
     "output_type": "execute_result"
    }
   ],
   "source": [
    "# посмотрим долю пропущенных значений среди всех данных\n",
    "data.isna().mean()"
   ]
  },
  {
   "cell_type": "markdown",
   "id": "20d0b880",
   "metadata": {},
   "source": [
    "### Вывод"
   ]
  },
  {
   "cell_type": "markdown",
   "id": "4fd6c049",
   "metadata": {},
   "source": [
    "В таблице находятся 21525 строк и 12 столбцов.\n",
    "\n",
    "При первом визуальном осмотре общих данных таблицы мы видим, что есть пропущенные значения в столбцах `days_employed` и `total_income`. Интересно, что количество пропусков одинаковое. Постараемся в следующих шагах выяснить, имеет ли место быть какая-нибудь закономерность, а так же какими данными лучше заполнить пропуски. Вполне возможно, что произошёл технический сбой и от данных можно избавиться, чтобы не испортить результат анализа предоставленной таблицы.\n",
    "\n",
    "В значениях `days_employed` есть выбросы в данных - аномально большой стаж работы и отрицательные значения. Аномально большие значения могут быть связаны с тем, что вместо дней указаны часы. В столбце `education` присутствуют строки с различным регистром написания. Помимо этого, в данных могут присутствовать аномалии или артефакты, которые не видны при первичном ознакомлении. Необходимо проверить данные во всех столбцах и строках и подготовить их для дальнейшей работы.\n",
    "\n",
    "Названия столбов переименовывать не требуется. Их названия хорошо отражают смысл, они записаны в нижнем регистре, составные слова представлены в стиле `snake_case`."
   ]
  },
  {
   "cell_type": "markdown",
   "id": "4c481e62",
   "metadata": {},
   "source": [
    "## Предобработка данных"
   ]
  },
  {
   "cell_type": "markdown",
   "id": "f35797c6",
   "metadata": {},
   "source": [
    "### Заполнение пропусков"
   ]
  },
  {
   "cell_type": "markdown",
   "id": "8a5df6a9",
   "metadata": {},
   "source": [
    "В столбцах `days_employed` и `total_income` были выявлены пропущенные значения. Проверим их долю в данных столбцах, чтобы выяснить, следует ли их удалить, либо оставить и заполнить ячейки медианными значениями."
   ]
  },
  {
   "cell_type": "code",
   "execution_count": 5,
   "id": "705e77ab",
   "metadata": {
    "scrolled": true
   },
   "outputs": [
    {
     "data": {
      "text/plain": [
       "children            2174\n",
       "days_employed          0\n",
       "dob_years           2174\n",
       "education           2174\n",
       "education_id        2174\n",
       "family_status       2174\n",
       "family_status_id    2174\n",
       "gender              2174\n",
       "income_type         2174\n",
       "debt                2174\n",
       "total_income           0\n",
       "purpose             2174\n",
       "dtype: int64"
      ]
     },
     "execution_count": 5,
     "metadata": {},
     "output_type": "execute_result"
    }
   ],
   "source": [
    "# подсчитаем количество строк без указания рабочего стажа\n",
    "data[data['days_employed'].isna()].count()"
   ]
  },
  {
   "cell_type": "code",
   "execution_count": 6,
   "id": "3c44b3f1",
   "metadata": {},
   "outputs": [
    {
     "data": {
      "text/plain": [
       "children            2174\n",
       "days_employed          0\n",
       "dob_years           2174\n",
       "education           2174\n",
       "education_id        2174\n",
       "family_status       2174\n",
       "family_status_id    2174\n",
       "gender              2174\n",
       "income_type         2174\n",
       "debt                2174\n",
       "total_income           0\n",
       "purpose             2174\n",
       "dtype: int64"
      ]
     },
     "execution_count": 6,
     "metadata": {},
     "output_type": "execute_result"
    }
   ],
   "source": [
    "# подсчитаем количество строк без указания ежемесячного дохода\n",
    "data[data['total_income'].isna()].count()"
   ]
  },
  {
   "cell_type": "code",
   "execution_count": 7,
   "id": "c0b3b974",
   "metadata": {
    "scrolled": false
   },
   "outputs": [
    {
     "data": {
      "text/plain": [
       "'10.1%'"
      ]
     },
     "execution_count": 7,
     "metadata": {},
     "output_type": "execute_result"
    }
   ],
   "source": [
    "# проверим какую долю составляют пропущенные значения в столбце data_employed\n",
    "f\"{data['days_employed'].isna().sum() / len(data):.1%}\""
   ]
  },
  {
   "cell_type": "code",
   "execution_count": 8,
   "id": "3ca5ce39",
   "metadata": {
    "scrolled": true
   },
   "outputs": [
    {
     "data": {
      "text/plain": [
       "'10.1%'"
      ]
     },
     "execution_count": 8,
     "metadata": {},
     "output_type": "execute_result"
    }
   ],
   "source": [
    "# проверим какую долю составляют пропущенные значения в столбце total_income\n",
    "f\"{data['total_income'].isna().sum() / len(data):.1%}\""
   ]
  },
  {
   "cell_type": "code",
   "execution_count": 9,
   "id": "dfd8e7b4",
   "metadata": {
    "scrolled": true
   },
   "outputs": [
    {
     "data": {
      "text/html": [
       "<div>\n",
       "<style scoped>\n",
       "    .dataframe tbody tr th:only-of-type {\n",
       "        vertical-align: middle;\n",
       "    }\n",
       "\n",
       "    .dataframe tbody tr th {\n",
       "        vertical-align: top;\n",
       "    }\n",
       "\n",
       "    .dataframe thead th {\n",
       "        text-align: right;\n",
       "    }\n",
       "</style>\n",
       "<table border=\"1\" class=\"dataframe\">\n",
       "  <thead>\n",
       "    <tr style=\"text-align: right;\">\n",
       "      <th></th>\n",
       "      <th>children</th>\n",
       "      <th>days_employed</th>\n",
       "      <th>dob_years</th>\n",
       "      <th>education</th>\n",
       "      <th>education_id</th>\n",
       "      <th>family_status</th>\n",
       "      <th>family_status_id</th>\n",
       "      <th>gender</th>\n",
       "      <th>income_type</th>\n",
       "      <th>debt</th>\n",
       "      <th>total_income</th>\n",
       "      <th>purpose</th>\n",
       "    </tr>\n",
       "  </thead>\n",
       "  <tbody>\n",
       "    <tr>\n",
       "      <th>12</th>\n",
       "      <td>0</td>\n",
       "      <td>NaN</td>\n",
       "      <td>65</td>\n",
       "      <td>среднее</td>\n",
       "      <td>1</td>\n",
       "      <td>гражданский брак</td>\n",
       "      <td>1</td>\n",
       "      <td>M</td>\n",
       "      <td>пенсионер</td>\n",
       "      <td>0</td>\n",
       "      <td>NaN</td>\n",
       "      <td>сыграть свадьбу</td>\n",
       "    </tr>\n",
       "    <tr>\n",
       "      <th>26</th>\n",
       "      <td>0</td>\n",
       "      <td>NaN</td>\n",
       "      <td>41</td>\n",
       "      <td>среднее</td>\n",
       "      <td>1</td>\n",
       "      <td>женат / замужем</td>\n",
       "      <td>0</td>\n",
       "      <td>M</td>\n",
       "      <td>госслужащий</td>\n",
       "      <td>0</td>\n",
       "      <td>NaN</td>\n",
       "      <td>образование</td>\n",
       "    </tr>\n",
       "    <tr>\n",
       "      <th>29</th>\n",
       "      <td>0</td>\n",
       "      <td>NaN</td>\n",
       "      <td>63</td>\n",
       "      <td>среднее</td>\n",
       "      <td>1</td>\n",
       "      <td>Не женат / не замужем</td>\n",
       "      <td>4</td>\n",
       "      <td>F</td>\n",
       "      <td>пенсионер</td>\n",
       "      <td>0</td>\n",
       "      <td>NaN</td>\n",
       "      <td>строительство жилой недвижимости</td>\n",
       "    </tr>\n",
       "    <tr>\n",
       "      <th>41</th>\n",
       "      <td>0</td>\n",
       "      <td>NaN</td>\n",
       "      <td>50</td>\n",
       "      <td>среднее</td>\n",
       "      <td>1</td>\n",
       "      <td>женат / замужем</td>\n",
       "      <td>0</td>\n",
       "      <td>F</td>\n",
       "      <td>госслужащий</td>\n",
       "      <td>0</td>\n",
       "      <td>NaN</td>\n",
       "      <td>сделка с подержанным автомобилем</td>\n",
       "    </tr>\n",
       "    <tr>\n",
       "      <th>55</th>\n",
       "      <td>0</td>\n",
       "      <td>NaN</td>\n",
       "      <td>54</td>\n",
       "      <td>среднее</td>\n",
       "      <td>1</td>\n",
       "      <td>гражданский брак</td>\n",
       "      <td>1</td>\n",
       "      <td>F</td>\n",
       "      <td>пенсионер</td>\n",
       "      <td>1</td>\n",
       "      <td>NaN</td>\n",
       "      <td>сыграть свадьбу</td>\n",
       "    </tr>\n",
       "    <tr>\n",
       "      <th>65</th>\n",
       "      <td>0</td>\n",
       "      <td>NaN</td>\n",
       "      <td>21</td>\n",
       "      <td>среднее</td>\n",
       "      <td>1</td>\n",
       "      <td>Не женат / не замужем</td>\n",
       "      <td>4</td>\n",
       "      <td>M</td>\n",
       "      <td>компаньон</td>\n",
       "      <td>0</td>\n",
       "      <td>NaN</td>\n",
       "      <td>операции с коммерческой недвижимостью</td>\n",
       "    </tr>\n",
       "    <tr>\n",
       "      <th>67</th>\n",
       "      <td>0</td>\n",
       "      <td>NaN</td>\n",
       "      <td>52</td>\n",
       "      <td>высшее</td>\n",
       "      <td>0</td>\n",
       "      <td>женат / замужем</td>\n",
       "      <td>0</td>\n",
       "      <td>F</td>\n",
       "      <td>пенсионер</td>\n",
       "      <td>0</td>\n",
       "      <td>NaN</td>\n",
       "      <td>покупка жилья для семьи</td>\n",
       "    </tr>\n",
       "    <tr>\n",
       "      <th>72</th>\n",
       "      <td>1</td>\n",
       "      <td>NaN</td>\n",
       "      <td>32</td>\n",
       "      <td>высшее</td>\n",
       "      <td>0</td>\n",
       "      <td>женат / замужем</td>\n",
       "      <td>0</td>\n",
       "      <td>M</td>\n",
       "      <td>госслужащий</td>\n",
       "      <td>0</td>\n",
       "      <td>NaN</td>\n",
       "      <td>операции с коммерческой недвижимостью</td>\n",
       "    </tr>\n",
       "    <tr>\n",
       "      <th>82</th>\n",
       "      <td>2</td>\n",
       "      <td>NaN</td>\n",
       "      <td>50</td>\n",
       "      <td>высшее</td>\n",
       "      <td>0</td>\n",
       "      <td>женат / замужем</td>\n",
       "      <td>0</td>\n",
       "      <td>F</td>\n",
       "      <td>сотрудник</td>\n",
       "      <td>0</td>\n",
       "      <td>NaN</td>\n",
       "      <td>жилье</td>\n",
       "    </tr>\n",
       "    <tr>\n",
       "      <th>83</th>\n",
       "      <td>0</td>\n",
       "      <td>NaN</td>\n",
       "      <td>52</td>\n",
       "      <td>среднее</td>\n",
       "      <td>1</td>\n",
       "      <td>женат / замужем</td>\n",
       "      <td>0</td>\n",
       "      <td>M</td>\n",
       "      <td>сотрудник</td>\n",
       "      <td>0</td>\n",
       "      <td>NaN</td>\n",
       "      <td>жилье</td>\n",
       "    </tr>\n",
       "  </tbody>\n",
       "</table>\n",
       "</div>"
      ],
      "text/plain": [
       "    children  days_employed  dob_years education  education_id  \\\n",
       "12         0            NaN         65   среднее             1   \n",
       "26         0            NaN         41   среднее             1   \n",
       "29         0            NaN         63   среднее             1   \n",
       "41         0            NaN         50   среднее             1   \n",
       "55         0            NaN         54   среднее             1   \n",
       "65         0            NaN         21   среднее             1   \n",
       "67         0            NaN         52    высшее             0   \n",
       "72         1            NaN         32    высшее             0   \n",
       "82         2            NaN         50    высшее             0   \n",
       "83         0            NaN         52   среднее             1   \n",
       "\n",
       "            family_status  family_status_id gender  income_type  debt  \\\n",
       "12       гражданский брак                 1      M    пенсионер     0   \n",
       "26        женат / замужем                 0      M  госслужащий     0   \n",
       "29  Не женат / не замужем                 4      F    пенсионер     0   \n",
       "41        женат / замужем                 0      F  госслужащий     0   \n",
       "55       гражданский брак                 1      F    пенсионер     1   \n",
       "65  Не женат / не замужем                 4      M    компаньон     0   \n",
       "67        женат / замужем                 0      F    пенсионер     0   \n",
       "72        женат / замужем                 0      M  госслужащий     0   \n",
       "82        женат / замужем                 0      F    сотрудник     0   \n",
       "83        женат / замужем                 0      M    сотрудник     0   \n",
       "\n",
       "    total_income                                purpose  \n",
       "12           NaN                        сыграть свадьбу  \n",
       "26           NaN                            образование  \n",
       "29           NaN       строительство жилой недвижимости  \n",
       "41           NaN       сделка с подержанным автомобилем  \n",
       "55           NaN                        сыграть свадьбу  \n",
       "65           NaN  операции с коммерческой недвижимостью  \n",
       "67           NaN                покупка жилья для семьи  \n",
       "72           NaN  операции с коммерческой недвижимостью  \n",
       "82           NaN                                  жилье  \n",
       "83           NaN                                  жилье  "
      ]
     },
     "execution_count": 9,
     "metadata": {},
     "output_type": "execute_result"
    }
   ],
   "source": [
    "# так как пропущенные значения в столбцах с доходом и стажем одинаков - посмотрим, есть ли какая-нибудь закономерность\n",
    "data.loc[(data['days_employed'].isna()) & (data['total_income'].isna())].head(10)"
   ]
  },
  {
   "cell_type": "markdown",
   "id": "9bfed8e1",
   "metadata": {},
   "source": [
    "Мы вывели 10 первых строчек с условием, чтобы все пропущенные значения одновременно присутствовали в обоих столбцах `total_income` и `days_employed`. \n",
    "\n",
    "По столбцу `dob_years` видно, что возраст варьируется от 21 до 65. Предположение о том, что это никогда неработавшие люди не является верным (например, студенты или девушки, которые ушли в декретный отпуск не начав карьеру). \n",
    "\n",
    "Во всех остальных столбцах также не прослеживается никакой закономерности. Здесь и пенсионеры, и госслужащие: у всех разные цели для получения кредита, разный уровень образования. \n",
    "\n",
    "По условию задания необходимо разобраться, влияет ли семейное положение и количество детей клиента на факт погашения кредита в срок, следовательно, можно заменить пропуски на медианные значения, чтобы не потерять информацию из тех столбцов, которые пригодятся в дальнейшем исследовании. "
   ]
  },
  {
   "cell_type": "code",
   "execution_count": 10,
   "id": "003e6cdf",
   "metadata": {
    "scrolled": true
   },
   "outputs": [
    {
     "name": "stdout",
     "output_type": "stream",
     "text": [
      "Минимальный ежемесячный доход: 20667.26379327158\n",
      "Максимальный ежемесячный доход: 2265604.028722744\n"
     ]
    }
   ],
   "source": [
    "print('Минимальный ежемесячный доход:', data['total_income'].min())\n",
    "print('Максимальный ежемесячный доход:', data['total_income'].max())"
   ]
  },
  {
   "cell_type": "markdown",
   "id": "bb11dff5",
   "metadata": {},
   "source": [
    "По уровню ежемесячного дохода никаких аномалий не наблюдается."
   ]
  },
  {
   "cell_type": "code",
   "execution_count": 11,
   "id": "99159369",
   "metadata": {},
   "outputs": [],
   "source": [
    "# переведём все отрицательные значения в положительные по модулю\n",
    "data['days_employed'] = abs(data['days_employed'])"
   ]
  },
  {
   "cell_type": "code",
   "execution_count": 12,
   "id": "56c97e93",
   "metadata": {},
   "outputs": [],
   "source": [
    "# найдём среднее значение и медиану дохода и стажа \n",
    "total_income_median = data['total_income'].median()\n",
    "days_employed_median = data['days_employed'].median()\n",
    "\n",
    "# заменим пропущенные значения на медианные\n",
    "data['total_income'] = data['total_income'].fillna(total_income_median)\n",
    "data['days_employed'] = data['days_employed'].fillna(days_employed_median)"
   ]
  },
  {
   "cell_type": "code",
   "execution_count": 13,
   "id": "b157ae15",
   "metadata": {
    "scrolled": true
   },
   "outputs": [
    {
     "name": "stdout",
     "output_type": "stream",
     "text": [
      "<class 'pandas.core.frame.DataFrame'>\n",
      "RangeIndex: 21525 entries, 0 to 21524\n",
      "Data columns (total 12 columns):\n",
      " #   Column            Non-Null Count  Dtype  \n",
      "---  ------            --------------  -----  \n",
      " 0   children          21525 non-null  int64  \n",
      " 1   days_employed     21525 non-null  float64\n",
      " 2   dob_years         21525 non-null  int64  \n",
      " 3   education         21525 non-null  object \n",
      " 4   education_id      21525 non-null  int64  \n",
      " 5   family_status     21525 non-null  object \n",
      " 6   family_status_id  21525 non-null  int64  \n",
      " 7   gender            21525 non-null  object \n",
      " 8   income_type       21525 non-null  object \n",
      " 9   debt              21525 non-null  int64  \n",
      " 10  total_income      21525 non-null  float64\n",
      " 11  purpose           21525 non-null  object \n",
      "dtypes: float64(2), int64(5), object(5)\n",
      "memory usage: 2.0+ MB\n"
     ]
    }
   ],
   "source": [
    "# проверим данные на наличие пропусков\n",
    "data.info()"
   ]
  },
  {
   "cell_type": "markdown",
   "id": "1e58fcd4",
   "metadata": {},
   "source": [
    "#### Вывод"
   ]
  },
  {
   "cell_type": "markdown",
   "id": "5875b0ee",
   "metadata": {},
   "source": [
    "Выявлено, что пропущенные значения составляют 10.1% от общего числа значений в столбцах `days_employed` и `total_income`. \n",
    "\n",
    "Пропущенные значения могли появиться по нескольким причинам. Например, человек не захотел указывать данные по каким-либо причинам: человек не работает и соответственно не имеет рабочего стажа (например, студенты); человек работает неофициально и не показывает свой официальный заработок. Вполне возможны и технические сбои при сборе данных. Пропущено одинаковое количество строк, но никакой закономерности в этом выявлено не было. Следовательно, точно сказать о природе пропущенных значений не представляется возможным. \n",
    "\n",
    "При удалении строк с пропущенными значениями мы бы потеряем значительную часть ценных данных. Точные причины возникновения пропусков мы не знаем, соответственно, в данной ситуации заменили данные на медианные - они подойдут лучше, чем средние или нулевые."
   ]
  },
  {
   "cell_type": "markdown",
   "id": "af6bd19f",
   "metadata": {},
   "source": [
    "### Проверка данных на аномалии и исправления"
   ]
  },
  {
   "cell_type": "markdown",
   "id": "07e2e6dc",
   "metadata": {},
   "source": [
    "В этом шаге проверим все столбцы таблицы на аномалии."
   ]
  },
  {
   "cell_type": "code",
   "execution_count": 14,
   "id": "e0f68fe1",
   "metadata": {},
   "outputs": [
    {
     "data": {
      "text/plain": [
       "array([ 1,  0,  3,  2, -1,  4, 20,  5], dtype=int64)"
      ]
     },
     "execution_count": 14,
     "metadata": {},
     "output_type": "execute_result"
    }
   ],
   "source": [
    "# проверим по количеству детей в столбце 'children' \n",
    "data['children'].unique()"
   ]
  },
  {
   "cell_type": "markdown",
   "id": "42f7dbda",
   "metadata": {},
   "source": [
    "В столбце с количеством детей присутствуют отрицательные значения. К тому же, часть из них имеет 20 детей, что тоже наводит на мысль об ошибке при сборе данных. Например, иногда при наборе на `Numpad` пальцем можно задеть кнопку `0` при скоростной печати."
   ]
  },
  {
   "cell_type": "code",
   "execution_count": 15,
   "id": "c5e04cd3",
   "metadata": {},
   "outputs": [
    {
     "data": {
      "text/plain": [
       " 0     14149\n",
       " 1      4818\n",
       " 2      2055\n",
       " 3       330\n",
       " 20       76\n",
       "-1        47\n",
       " 4        41\n",
       " 5         9\n",
       "Name: children, dtype: int64"
      ]
     },
     "execution_count": 15,
     "metadata": {},
     "output_type": "execute_result"
    }
   ],
   "source": [
    "# посмотрим, сколько строк имеют такие аномальные значения\n",
    "data['children'].value_counts()"
   ]
  },
  {
   "cell_type": "markdown",
   "id": "fa70de2e",
   "metadata": {},
   "source": [
    "Отрицательные значения переведём в положительные по модулю. Строки с 20 детьми заменим на 2. В целом, всего 76 строк и их изменение не должны исказить результат анализа данных. Предполагаем, что при внесении данных ошибочно был добавлен ноль."
   ]
  },
  {
   "cell_type": "code",
   "execution_count": 16,
   "id": "c15a057a",
   "metadata": {},
   "outputs": [],
   "source": [
    "# переведём все отрицательные значения в положительные по модулю\n",
    "data['children'] = abs(data['children'])"
   ]
  },
  {
   "cell_type": "code",
   "execution_count": 17,
   "id": "04aa58a5",
   "metadata": {},
   "outputs": [],
   "source": [
    "# заменим количество детей на 2 в тех строках, где их значение составляет 20.\n",
    "data.loc[data['children'] == 20, 'children'] = 2 "
   ]
  },
  {
   "cell_type": "code",
   "execution_count": 18,
   "id": "02cfffac",
   "metadata": {
    "scrolled": true
   },
   "outputs": [
    {
     "data": {
      "text/plain": [
       "array([1, 0, 3, 2, 4, 5], dtype=int64)"
      ]
     },
     "execution_count": 18,
     "metadata": {},
     "output_type": "execute_result"
    }
   ],
   "source": [
    "# проверим ещё раз уникальные значения в столбце children\n",
    "data['children'].unique()"
   ]
  },
  {
   "cell_type": "markdown",
   "id": "ab41cba2",
   "metadata": {},
   "source": [
    "Отрицательных и аномальных значений в количестве детей теперь нет - столбец пригоден для работы"
   ]
  },
  {
   "cell_type": "code",
   "execution_count": 19,
   "id": "b28a57eb",
   "metadata": {
    "scrolled": true
   },
   "outputs": [
    {
     "name": "stdout",
     "output_type": "stream",
     "text": [
      "Минимальный рабочий стаж: 24.14163324048118\n",
      "Максимальный рабочий стаж: 401755.40047533\n"
     ]
    }
   ],
   "source": [
    "# проверим данные по минимальному и максимальному рабочему стажу для выявления аномалий\n",
    "print('Минимальный рабочий стаж:', data['days_employed'].min())\n",
    "print('Максимальный рабочий стаж:', data['days_employed'].max())"
   ]
  },
  {
   "cell_type": "markdown",
   "id": "29ccff3f",
   "metadata": {},
   "source": [
    "В этом столбце присутствуют аномально высокие значения. Предположим, что аномально высокие значения указаны в часах, а не в днях. Переведём все данные в количество лет. "
   ]
  },
  {
   "cell_type": "code",
   "execution_count": 20,
   "id": "fbfb0fbe",
   "metadata": {},
   "outputs": [],
   "source": [
    "# переведём рабочий стаж из часов в дни\n",
    "data['days_employed'] = data['days_employed'] / 24"
   ]
  },
  {
   "cell_type": "code",
   "execution_count": 21,
   "id": "e4ec1af4",
   "metadata": {},
   "outputs": [],
   "source": [
    "# переведём рабочий стаж из дней в годы\n",
    "data['days_employed'] = data['days_employed'] / 365"
   ]
  },
  {
   "cell_type": "code",
   "execution_count": 22,
   "id": "1273c9e4",
   "metadata": {
    "scrolled": true
   },
   "outputs": [
    {
     "name": "stdout",
     "output_type": "stream",
     "text": [
      "Минимальный рабочий стаж: 0.0027558942055343812\n",
      "Максимальный рабочий стаж: 45.8624886387363\n"
     ]
    }
   ],
   "source": [
    "print('Минимальный рабочий стаж:', data['days_employed'].min())\n",
    "print('Максимальный рабочий стаж:', data['days_employed'].max())"
   ]
  },
  {
   "cell_type": "markdown",
   "id": "ca4d909a",
   "metadata": {},
   "source": [
    "Теперь данные больше похожи на реальные: максимальный стаж - 45 вместо прежних почти 1000 лет."
   ]
  },
  {
   "cell_type": "code",
   "execution_count": 23,
   "id": "9a72f41e",
   "metadata": {
    "scrolled": true
   },
   "outputs": [
    {
     "data": {
      "text/html": [
       "<div>\n",
       "<style scoped>\n",
       "    .dataframe tbody tr th:only-of-type {\n",
       "        vertical-align: middle;\n",
       "    }\n",
       "\n",
       "    .dataframe tbody tr th {\n",
       "        vertical-align: top;\n",
       "    }\n",
       "\n",
       "    .dataframe thead th {\n",
       "        text-align: right;\n",
       "    }\n",
       "</style>\n",
       "<table border=\"1\" class=\"dataframe\">\n",
       "  <thead>\n",
       "    <tr style=\"text-align: right;\">\n",
       "      <th></th>\n",
       "      <th>children</th>\n",
       "      <th>days_employed</th>\n",
       "      <th>dob_years</th>\n",
       "      <th>education</th>\n",
       "      <th>education_id</th>\n",
       "      <th>family_status</th>\n",
       "      <th>family_status_id</th>\n",
       "      <th>gender</th>\n",
       "      <th>income_type</th>\n",
       "      <th>debt</th>\n",
       "      <th>total_income</th>\n",
       "      <th>purpose</th>\n",
       "    </tr>\n",
       "  </thead>\n",
       "  <tbody>\n",
       "    <tr>\n",
       "      <th>99</th>\n",
       "      <td>0</td>\n",
       "      <td>39.559546</td>\n",
       "      <td>0</td>\n",
       "      <td>Среднее</td>\n",
       "      <td>1</td>\n",
       "      <td>женат / замужем</td>\n",
       "      <td>0</td>\n",
       "      <td>F</td>\n",
       "      <td>пенсионер</td>\n",
       "      <td>0</td>\n",
       "      <td>71291.522491</td>\n",
       "      <td>автомобиль</td>\n",
       "    </tr>\n",
       "    <tr>\n",
       "      <th>149</th>\n",
       "      <td>0</td>\n",
       "      <td>0.304141</td>\n",
       "      <td>0</td>\n",
       "      <td>среднее</td>\n",
       "      <td>1</td>\n",
       "      <td>в разводе</td>\n",
       "      <td>3</td>\n",
       "      <td>F</td>\n",
       "      <td>сотрудник</td>\n",
       "      <td>0</td>\n",
       "      <td>70176.435951</td>\n",
       "      <td>операции с жильем</td>\n",
       "    </tr>\n",
       "    <tr>\n",
       "      <th>157</th>\n",
       "      <td>0</td>\n",
       "      <td>39.773291</td>\n",
       "      <td>38</td>\n",
       "      <td>среднее</td>\n",
       "      <td>1</td>\n",
       "      <td>женат / замужем</td>\n",
       "      <td>0</td>\n",
       "      <td>F</td>\n",
       "      <td>пенсионер</td>\n",
       "      <td>1</td>\n",
       "      <td>113560.650035</td>\n",
       "      <td>сделка с автомобилем</td>\n",
       "    </tr>\n",
       "    <tr>\n",
       "      <th>270</th>\n",
       "      <td>3</td>\n",
       "      <td>0.213774</td>\n",
       "      <td>0</td>\n",
       "      <td>среднее</td>\n",
       "      <td>1</td>\n",
       "      <td>женат / замужем</td>\n",
       "      <td>0</td>\n",
       "      <td>F</td>\n",
       "      <td>сотрудник</td>\n",
       "      <td>0</td>\n",
       "      <td>102166.458894</td>\n",
       "      <td>ремонт жилью</td>\n",
       "    </tr>\n",
       "    <tr>\n",
       "      <th>578</th>\n",
       "      <td>0</td>\n",
       "      <td>45.417416</td>\n",
       "      <td>0</td>\n",
       "      <td>среднее</td>\n",
       "      <td>1</td>\n",
       "      <td>женат / замужем</td>\n",
       "      <td>0</td>\n",
       "      <td>F</td>\n",
       "      <td>пенсионер</td>\n",
       "      <td>0</td>\n",
       "      <td>97620.687042</td>\n",
       "      <td>строительство собственной недвижимости</td>\n",
       "    </tr>\n",
       "    <tr>\n",
       "      <th>751</th>\n",
       "      <td>0</td>\n",
       "      <td>44.606788</td>\n",
       "      <td>41</td>\n",
       "      <td>среднее</td>\n",
       "      <td>1</td>\n",
       "      <td>женат / замужем</td>\n",
       "      <td>0</td>\n",
       "      <td>M</td>\n",
       "      <td>пенсионер</td>\n",
       "      <td>0</td>\n",
       "      <td>151898.693438</td>\n",
       "      <td>операции со своей недвижимостью</td>\n",
       "    </tr>\n",
       "    <tr>\n",
       "      <th>776</th>\n",
       "      <td>0</td>\n",
       "      <td>41.705087</td>\n",
       "      <td>38</td>\n",
       "      <td>среднее</td>\n",
       "      <td>1</td>\n",
       "      <td>женат / замужем</td>\n",
       "      <td>0</td>\n",
       "      <td>F</td>\n",
       "      <td>пенсионер</td>\n",
       "      <td>0</td>\n",
       "      <td>73859.425084</td>\n",
       "      <td>покупка недвижимости</td>\n",
       "    </tr>\n",
       "    <tr>\n",
       "      <th>1040</th>\n",
       "      <td>0</td>\n",
       "      <td>0.132195</td>\n",
       "      <td>0</td>\n",
       "      <td>высшее</td>\n",
       "      <td>0</td>\n",
       "      <td>в разводе</td>\n",
       "      <td>3</td>\n",
       "      <td>F</td>\n",
       "      <td>компаньон</td>\n",
       "      <td>0</td>\n",
       "      <td>303994.134987</td>\n",
       "      <td>свой автомобиль</td>\n",
       "    </tr>\n",
       "    <tr>\n",
       "      <th>1149</th>\n",
       "      <td>0</td>\n",
       "      <td>0.106696</td>\n",
       "      <td>0</td>\n",
       "      <td>среднее</td>\n",
       "      <td>1</td>\n",
       "      <td>женат / замужем</td>\n",
       "      <td>0</td>\n",
       "      <td>F</td>\n",
       "      <td>компаньон</td>\n",
       "      <td>0</td>\n",
       "      <td>201852.430096</td>\n",
       "      <td>покупка недвижимости</td>\n",
       "    </tr>\n",
       "    <tr>\n",
       "      <th>1175</th>\n",
       "      <td>0</td>\n",
       "      <td>42.337843</td>\n",
       "      <td>0</td>\n",
       "      <td>среднее</td>\n",
       "      <td>1</td>\n",
       "      <td>женат / замужем</td>\n",
       "      <td>0</td>\n",
       "      <td>F</td>\n",
       "      <td>пенсионер</td>\n",
       "      <td>0</td>\n",
       "      <td>313949.845188</td>\n",
       "      <td>получение дополнительного образования</td>\n",
       "    </tr>\n",
       "  </tbody>\n",
       "</table>\n",
       "</div>"
      ],
      "text/plain": [
       "      children  days_employed  dob_years education  education_id  \\\n",
       "99           0      39.559546          0   Среднее             1   \n",
       "149          0       0.304141          0   среднее             1   \n",
       "157          0      39.773291         38   среднее             1   \n",
       "270          3       0.213774          0   среднее             1   \n",
       "578          0      45.417416          0   среднее             1   \n",
       "751          0      44.606788         41   среднее             1   \n",
       "776          0      41.705087         38   среднее             1   \n",
       "1040         0       0.132195          0    высшее             0   \n",
       "1149         0       0.106696          0   среднее             1   \n",
       "1175         0      42.337843          0   среднее             1   \n",
       "\n",
       "        family_status  family_status_id gender income_type  debt  \\\n",
       "99    женат / замужем                 0      F   пенсионер     0   \n",
       "149         в разводе                 3      F   сотрудник     0   \n",
       "157   женат / замужем                 0      F   пенсионер     1   \n",
       "270   женат / замужем                 0      F   сотрудник     0   \n",
       "578   женат / замужем                 0      F   пенсионер     0   \n",
       "751   женат / замужем                 0      M   пенсионер     0   \n",
       "776   женат / замужем                 0      F   пенсионер     0   \n",
       "1040        в разводе                 3      F   компаньон     0   \n",
       "1149  женат / замужем                 0      F   компаньон     0   \n",
       "1175  женат / замужем                 0      F   пенсионер     0   \n",
       "\n",
       "       total_income                                 purpose  \n",
       "99     71291.522491                              автомобиль  \n",
       "149    70176.435951                       операции с жильем  \n",
       "157   113560.650035                    сделка с автомобилем  \n",
       "270   102166.458894                            ремонт жилью  \n",
       "578    97620.687042  строительство собственной недвижимости  \n",
       "751   151898.693438         операции со своей недвижимостью  \n",
       "776    73859.425084                    покупка недвижимости  \n",
       "1040  303994.134987                         свой автомобиль  \n",
       "1149  201852.430096                    покупка недвижимости  \n",
       "1175  313949.845188   получение дополнительного образования  "
      ]
     },
     "execution_count": 23,
     "metadata": {},
     "output_type": "execute_result"
    }
   ],
   "source": [
    "# проверим, есть ли такие аномалии, когда стаж больше возраста человека\n",
    "data[(data['dob_years'] - data['days_employed']) < 0].head(10)"
   ]
  },
  {
   "cell_type": "code",
   "execution_count": 24,
   "id": "52b975c3",
   "metadata": {
    "scrolled": true
   },
   "outputs": [
    {
     "data": {
      "text/plain": [
       "children            155\n",
       "days_employed       155\n",
       "dob_years           155\n",
       "education           155\n",
       "education_id        155\n",
       "family_status       155\n",
       "family_status_id    155\n",
       "gender              155\n",
       "income_type         155\n",
       "debt                155\n",
       "total_income        155\n",
       "purpose             155\n",
       "dtype: int64"
      ]
     },
     "execution_count": 24,
     "metadata": {},
     "output_type": "execute_result"
    }
   ],
   "source": [
    "# посчитаем, сколько строк с таким несоответствием\n",
    "# данные несоответствия исправим чуть ниже\n",
    "data[(data['dob_years'] - data['days_employed']) < 0].count()"
   ]
  },
  {
   "cell_type": "code",
   "execution_count": 25,
   "id": "862aeb7f",
   "metadata": {
    "scrolled": true
   },
   "outputs": [
    {
     "name": "stdout",
     "output_type": "stream",
     "text": [
      "Минимальный возраст: 0\n",
      "Максимальный возраст: 75\n"
     ]
    }
   ],
   "source": [
    "# проверим данные по возрасту клиентов\n",
    "print('Минимальный возраст:', data['dob_years'].min())\n",
    "print('Максимальный возраст:', data['dob_years'].max())"
   ]
  },
  {
   "cell_type": "code",
   "execution_count": 26,
   "id": "f476a43c",
   "metadata": {},
   "outputs": [
    {
     "data": {
      "text/plain": [
       "0     101\n",
       "19     14\n",
       "20     51\n",
       "21    111\n",
       "22    183\n",
       "23    254\n",
       "24    264\n",
       "25    357\n",
       "26    408\n",
       "27    493\n",
       "28    503\n",
       "29    545\n",
       "30    540\n",
       "31    560\n",
       "32    510\n",
       "33    581\n",
       "34    603\n",
       "35    617\n",
       "36    555\n",
       "37    537\n",
       "38    598\n",
       "39    573\n",
       "40    609\n",
       "41    607\n",
       "42    597\n",
       "43    513\n",
       "44    547\n",
       "45    497\n",
       "46    475\n",
       "47    480\n",
       "48    538\n",
       "49    508\n",
       "50    514\n",
       "51    448\n",
       "52    484\n",
       "53    459\n",
       "54    479\n",
       "55    443\n",
       "56    487\n",
       "57    460\n",
       "58    461\n",
       "59    444\n",
       "60    377\n",
       "61    355\n",
       "62    352\n",
       "63    269\n",
       "64    265\n",
       "65    194\n",
       "66    183\n",
       "67    167\n",
       "68     99\n",
       "69     85\n",
       "70     65\n",
       "71     58\n",
       "72     33\n",
       "73      8\n",
       "74      6\n",
       "75      1\n",
       "Name: dob_years, dtype: int64"
      ]
     },
     "execution_count": 26,
     "metadata": {},
     "output_type": "execute_result"
    }
   ],
   "source": [
    "data['dob_years'].value_counts().sort_index()"
   ]
  },
  {
   "cell_type": "markdown",
   "id": "545ce00f",
   "metadata": {},
   "source": [
    "Похоже, кто-то не указал свой возраст, поэтому имеем нулевые значения. Максимальный возраст не имеет аномалий."
   ]
  },
  {
   "cell_type": "code",
   "execution_count": 27,
   "id": "628b68f6",
   "metadata": {
    "scrolled": true
   },
   "outputs": [
    {
     "data": {
      "text/plain": [
       "сотрудник      55\n",
       "пенсионер      20\n",
       "компаньон      20\n",
       "госслужащий     6\n",
       "Name: income_type, dtype: int64"
      ]
     },
     "execution_count": 27,
     "metadata": {},
     "output_type": "execute_result"
    }
   ],
   "source": [
    "# посмотрим, какой тип занятости имеют клиенты с ошибочным возрастом\n",
    "data.loc[data['dob_years'] == 0, 'income_type'].value_counts()"
   ]
  },
  {
   "cell_type": "code",
   "execution_count": 28,
   "id": "8bbfbaf3",
   "metadata": {
    "scrolled": false
   },
   "outputs": [
    {
     "data": {
      "text/plain": [
       "income_type\n",
       "безработный        38.0\n",
       "в декрете          39.0\n",
       "госслужащий        40.0\n",
       "компаньон          39.0\n",
       "пенсионер          60.0\n",
       "предприниматель    42.5\n",
       "сотрудник          39.0\n",
       "студент            22.0\n",
       "Name: dob_years, dtype: float64"
      ]
     },
     "execution_count": 28,
     "metadata": {},
     "output_type": "execute_result"
    }
   ],
   "source": [
    "# найдём медианы возраста по типам занятости\n",
    "dob_years_medians = data.groupby('income_type')['dob_years'].median()\n",
    "dob_years_medians"
   ]
  },
  {
   "cell_type": "code",
   "execution_count": 29,
   "id": "8cd12e2b",
   "metadata": {},
   "outputs": [],
   "source": [
    "# заменим значения\n",
    "data.loc[(data['dob_years'] == 0) & (data['income_type'] == 'сотрудник'), 'dob_years'] = dob_years_medians[6]\n",
    "data.loc[(data['dob_years'] == 0) & (data['income_type'] == 'пенсионер'), 'dob_years'] = dob_years_medians[4]\n",
    "data.loc[(data['dob_years'] == 0) & (data['income_type'] == 'компаньон'), 'dob_years'] = dob_years_medians[3]\n",
    "data.loc[(data['dob_years'] == 0) & (data['income_type'] == 'госслужащий'), 'dob_years'] = dob_years_medians[2]"
   ]
  },
  {
   "cell_type": "code",
   "execution_count": 30,
   "id": "c42ec347",
   "metadata": {},
   "outputs": [
    {
     "name": "stdout",
     "output_type": "stream",
     "text": [
      "Минимальный возраст: 19\n"
     ]
    }
   ],
   "source": [
    "# проверим минимальный возраст теперь\n",
    "print('Минимальный возраст:', data['dob_years'].min())"
   ]
  },
  {
   "cell_type": "code",
   "execution_count": 31,
   "id": "7015daf2",
   "metadata": {
    "scrolled": true
   },
   "outputs": [
    {
     "data": {
      "text/plain": [
       "income_type\n",
       "безработный        42.0\n",
       "в декрете           0.0\n",
       "госслужащий         0.0\n",
       "компаньон           0.0\n",
       "пенсионер          41.0\n",
       "предприниматель     0.0\n",
       "сотрудник           0.0\n",
       "студент             0.0\n",
       "Name: days_employed, dtype: float64"
      ]
     },
     "execution_count": 31,
     "metadata": {},
     "output_type": "execute_result"
    }
   ],
   "source": [
    "# найдём медианное значение трудового стажа для типа занятости\n",
    "medians_days_employed = data.groupby('income_type')['days_employed'].median()\n",
    "round(medians_days_employed, 0)"
   ]
  },
  {
   "cell_type": "code",
   "execution_count": 32,
   "id": "8e40ef9e",
   "metadata": {},
   "outputs": [],
   "source": [
    "# заменим нули медианными значениями\n",
    "data.loc[(data['days_employed'].isna()) & (data['income_type'] == 'сотрудник'), 'days_employed'] = medians_days_employed[6]\n",
    "data.loc[(data['days_employed'].isna()) & (data['income_type'] == 'компаньон'), 'days_employed'] = medians_days_employed[3]\n",
    "data.loc[(data['days_employed'].isna()) & (data['income_type'] == 'пенсионер'), 'days_employed'] = medians_days_employed[4]\n",
    "data.loc[(data['days_employed'].isna()) & (data['income_type'] == 'госслужащий'), 'days_employed'] = medians_days_employed[2]\n",
    "data.loc[(data['days_employed'].isna()) & (data['income_type'] == 'предприниматель'), 'days_employed'] = medians_days_employed[5]"
   ]
  },
  {
   "cell_type": "code",
   "execution_count": 33,
   "id": "874da1c5",
   "metadata": {
    "scrolled": false
   },
   "outputs": [
    {
     "data": {
      "text/plain": [
       "19     14\n",
       "20     51\n",
       "21    111\n",
       "22    183\n",
       "23    254\n",
       "24    264\n",
       "25    357\n",
       "26    408\n",
       "27    493\n",
       "28    503\n",
       "29    545\n",
       "30    540\n",
       "31    560\n",
       "32    510\n",
       "33    581\n",
       "34    603\n",
       "35    617\n",
       "36    555\n",
       "37    537\n",
       "38    598\n",
       "39    648\n",
       "40    615\n",
       "41    607\n",
       "42    597\n",
       "43    513\n",
       "44    547\n",
       "45    497\n",
       "46    475\n",
       "47    480\n",
       "48    538\n",
       "49    508\n",
       "50    514\n",
       "51    448\n",
       "52    484\n",
       "53    459\n",
       "54    479\n",
       "55    443\n",
       "56    487\n",
       "57    460\n",
       "58    461\n",
       "59    444\n",
       "60    397\n",
       "61    355\n",
       "62    352\n",
       "63    269\n",
       "64    265\n",
       "65    194\n",
       "66    183\n",
       "67    167\n",
       "68     99\n",
       "69     85\n",
       "70     65\n",
       "71     58\n",
       "72     33\n",
       "73      8\n",
       "74      6\n",
       "75      1\n",
       "Name: dob_years, dtype: int64"
      ]
     },
     "execution_count": 33,
     "metadata": {},
     "output_type": "execute_result"
    }
   ],
   "source": [
    "# проверим, заменились ли значения по возрасту людей\n",
    "data['dob_years'].value_counts().sort_index()"
   ]
  },
  {
   "cell_type": "code",
   "execution_count": 34,
   "id": "7200460e",
   "metadata": {},
   "outputs": [],
   "source": [
    "# создадим функцию, которая заменит значения рабочего стажа, превышающие возраст человека\n",
    "data.loc[(data['days_employed'] >= (data['dob_years'])), 'days_employed'] = days_employed_median"
   ]
  },
  {
   "cell_type": "code",
   "execution_count": 35,
   "id": "850a967e",
   "metadata": {},
   "outputs": [],
   "source": [
    "# переведём рабочий стаж из годы в дни\n",
    "data['days_employed'] = data['days_employed'] * 365"
   ]
  },
  {
   "cell_type": "code",
   "execution_count": 36,
   "id": "a02dae48",
   "metadata": {
    "scrolled": true
   },
   "outputs": [
    {
     "data": {
      "text/plain": [
       "среднее                13750\n",
       "высшее                  4718\n",
       "СРЕДНЕЕ                  772\n",
       "Среднее                  711\n",
       "неоконченное высшее      668\n",
       "ВЫСШЕЕ                   274\n",
       "Высшее                   268\n",
       "начальное                250\n",
       "Неоконченное высшее       47\n",
       "НЕОКОНЧЕННОЕ ВЫСШЕЕ       29\n",
       "НАЧАЛЬНОЕ                 17\n",
       "Начальное                 15\n",
       "ученая степень             4\n",
       "Ученая степень             1\n",
       "УЧЕНАЯ СТЕПЕНЬ             1\n",
       "Name: education, dtype: int64"
      ]
     },
     "execution_count": 36,
     "metadata": {},
     "output_type": "execute_result"
    }
   ],
   "source": [
    "# проверим столбец с образованием\n",
    "data['education'].value_counts()"
   ]
  },
  {
   "cell_type": "markdown",
   "id": "3b3b9d2d",
   "metadata": {},
   "source": [
    " Значения, записанные по-разному: с использованием заглавных и строчных букв будут исправлены в шаге 2.4."
   ]
  },
  {
   "cell_type": "code",
   "execution_count": 37,
   "id": "24b94962",
   "metadata": {
    "scrolled": true
   },
   "outputs": [
    {
     "data": {
      "text/plain": [
       "array([0, 1, 2, 3, 4], dtype=int64)"
      ]
     },
     "execution_count": 37,
     "metadata": {},
     "output_type": "execute_result"
    }
   ],
   "source": [
    "# проверим столбец с индексами образования\n",
    "data['education_id'].unique()"
   ]
  },
  {
   "cell_type": "markdown",
   "id": "dc805f0b",
   "metadata": {},
   "source": [
    "C этим столбцом всё в порядке. "
   ]
  },
  {
   "cell_type": "code",
   "execution_count": 38,
   "id": "62a7890d",
   "metadata": {
    "scrolled": true
   },
   "outputs": [
    {
     "data": {
      "text/plain": [
       "женат / замужем          12380\n",
       "гражданский брак          4177\n",
       "Не женат / не замужем     2813\n",
       "в разводе                 1195\n",
       "вдовец / вдова             960\n",
       "Name: family_status, dtype: int64"
      ]
     },
     "execution_count": 38,
     "metadata": {},
     "output_type": "execute_result"
    }
   ],
   "source": [
    "# проверим столбец с семейным положением\n",
    "data['family_status'].value_counts()"
   ]
  },
  {
   "cell_type": "markdown",
   "id": "116510e1",
   "metadata": {},
   "source": [
    "C этим столбцом всё в порядке."
   ]
  },
  {
   "cell_type": "code",
   "execution_count": 39,
   "id": "f77bf4c9",
   "metadata": {
    "scrolled": true
   },
   "outputs": [
    {
     "data": {
      "text/plain": [
       "array([0, 1, 2, 3, 4], dtype=int64)"
      ]
     },
     "execution_count": 39,
     "metadata": {},
     "output_type": "execute_result"
    }
   ],
   "source": [
    "# проверим столбец с индексами семейного положения\n",
    "data['family_status_id'].unique()"
   ]
  },
  {
   "cell_type": "markdown",
   "id": "7a406ea1",
   "metadata": {},
   "source": [
    "C этим столбцом всё в порядке."
   ]
  },
  {
   "cell_type": "code",
   "execution_count": 40,
   "id": "25506bcd",
   "metadata": {
    "scrolled": true
   },
   "outputs": [
    {
     "data": {
      "text/plain": [
       "F      14236\n",
       "M       7288\n",
       "XNA        1\n",
       "Name: gender, dtype: int64"
      ]
     },
     "execution_count": 40,
     "metadata": {},
     "output_type": "execute_result"
    }
   ],
   "source": [
    "# проверим столбец с указанием пола\n",
    "data['gender'].value_counts()"
   ]
  },
  {
   "cell_type": "markdown",
   "id": "f2756627",
   "metadata": {},
   "source": [
    "Здесь появляется странная аномалия в виде XNA. Хорошо, что встречается всего лишь в одной строке."
   ]
  },
  {
   "cell_type": "code",
   "execution_count": 41,
   "id": "b36dd220",
   "metadata": {},
   "outputs": [],
   "source": [
    "# так как это всего одна строка, её удаление не повляет на результаты анализа наших данных\n",
    "data = data.loc[data['gender'] != 'XNA']"
   ]
  },
  {
   "cell_type": "code",
   "execution_count": 42,
   "id": "37411325",
   "metadata": {
    "scrolled": true
   },
   "outputs": [
    {
     "data": {
      "text/plain": [
       "array(['F', 'M'], dtype=object)"
      ]
     },
     "execution_count": 42,
     "metadata": {},
     "output_type": "execute_result"
    }
   ],
   "source": [
    "# проверим ещё раз столбец с указанием пола\n",
    "data['gender'].unique()"
   ]
  },
  {
   "cell_type": "markdown",
   "id": "777ae957",
   "metadata": {},
   "source": [
    "Теперь остался только мужской и женский пол."
   ]
  },
  {
   "cell_type": "code",
   "execution_count": 43,
   "id": "d650fc93",
   "metadata": {
    "scrolled": true
   },
   "outputs": [
    {
     "data": {
      "text/plain": [
       "сотрудник          11119\n",
       "компаньон           5084\n",
       "пенсионер           3856\n",
       "госслужащий         1459\n",
       "безработный            2\n",
       "предприниматель        2\n",
       "студент                1\n",
       "в декрете              1\n",
       "Name: income_type, dtype: int64"
      ]
     },
     "execution_count": 43,
     "metadata": {},
     "output_type": "execute_result"
    }
   ],
   "source": [
    "# проверим столбец с указанием типа занятости\n",
    "data['income_type'].value_counts()"
   ]
  },
  {
   "cell_type": "markdown",
   "id": "b8238a3d",
   "metadata": {},
   "source": [
    "В столбце аномалий не выявлено."
   ]
  },
  {
   "cell_type": "code",
   "execution_count": 44,
   "id": "75c8ea06",
   "metadata": {
    "scrolled": false
   },
   "outputs": [
    {
     "data": {
      "text/plain": [
       "0    19783\n",
       "1     1741\n",
       "Name: debt, dtype: int64"
      ]
     },
     "execution_count": 44,
     "metadata": {},
     "output_type": "execute_result"
    }
   ],
   "source": [
    "# проверим столбец с указанием задолженностей\n",
    "data['debt'].value_counts()"
   ]
  },
  {
   "cell_type": "markdown",
   "id": "ca2060f9",
   "metadata": {},
   "source": [
    "В столбце аномалий не выявлено."
   ]
  },
  {
   "cell_type": "markdown",
   "id": "5247bb10",
   "metadata": {},
   "source": [
    "#### Вывод"
   ]
  },
  {
   "cell_type": "markdown",
   "id": "c5f5e0ea",
   "metadata": {},
   "source": [
    "Мы изучили данные и избавились от аномалий - заменили отрицательные значения на положительные, убрали выбросы в виде слишком больших значений рабочего стажа (основной причиной было то, что некоторые данные были указаны в часах, а не днях, в других случаях, возможно, ошибки были вызваны сбоем) и артефакты. Пропущенные значения заменили на медианные в соответствии с типом занятости. \n",
    "\n",
    "Продолжим подготовку данных к дальнейшему анализу."
   ]
  },
  {
   "cell_type": "markdown",
   "id": "2388b3db",
   "metadata": {},
   "source": [
    "### Изменение типов данных"
   ]
  },
  {
   "cell_type": "code",
   "execution_count": 45,
   "id": "1b449cc5",
   "metadata": {
    "scrolled": false
   },
   "outputs": [],
   "source": [
    "# заменим вещественный тип данных в столбце с ежемесячным доходом на целочисленный\n",
    "data['total_income'] = data['total_income'].astype('int')"
   ]
  },
  {
   "cell_type": "code",
   "execution_count": 46,
   "id": "1311f89c",
   "metadata": {},
   "outputs": [],
   "source": [
    "# заменим вещественный тип данных в столбце с рабочим стажем на целочисленный\n",
    "data['days_employed'] = data['days_employed'].astype('int')"
   ]
  },
  {
   "cell_type": "code",
   "execution_count": 47,
   "id": "e42f60cd",
   "metadata": {},
   "outputs": [],
   "source": [
    "# заменим вещественный тип данных в столбце возраста клиента на целочисленный\n",
    "data['dob_years'] = data['dob_years'].astype('int')"
   ]
  },
  {
   "cell_type": "code",
   "execution_count": 48,
   "id": "ab1e3d48",
   "metadata": {
    "scrolled": true
   },
   "outputs": [
    {
     "name": "stdout",
     "output_type": "stream",
     "text": [
      "<class 'pandas.core.frame.DataFrame'>\n",
      "Int64Index: 21524 entries, 0 to 21524\n",
      "Data columns (total 12 columns):\n",
      " #   Column            Non-Null Count  Dtype \n",
      "---  ------            --------------  ----- \n",
      " 0   children          21524 non-null  int64 \n",
      " 1   days_employed     21524 non-null  int32 \n",
      " 2   dob_years         21524 non-null  int32 \n",
      " 3   education         21524 non-null  object\n",
      " 4   education_id      21524 non-null  int64 \n",
      " 5   family_status     21524 non-null  object\n",
      " 6   family_status_id  21524 non-null  int64 \n",
      " 7   gender            21524 non-null  object\n",
      " 8   income_type       21524 non-null  object\n",
      " 9   debt              21524 non-null  int64 \n",
      " 10  total_income      21524 non-null  int32 \n",
      " 11  purpose           21524 non-null  object\n",
      "dtypes: int32(3), int64(4), object(5)\n",
      "memory usage: 1.9+ MB\n"
     ]
    }
   ],
   "source": [
    "# проверим изменился ли тип данных в столбце total_income\n",
    "data.info()"
   ]
  },
  {
   "cell_type": "markdown",
   "id": "dd12fea2",
   "metadata": {},
   "source": [
    "### Удаление дубликатов"
   ]
  },
  {
   "cell_type": "code",
   "execution_count": 49,
   "id": "8153a13f",
   "metadata": {},
   "outputs": [],
   "source": [
    "# в таблице 21525 строк, мы не можем просмотреть все, поэтому переведём в нижний регистр все столбцы содержащие слова\n",
    "data['education'] = data['education'].str.lower()\n",
    "data['family_status'] = data['family_status'].str.lower()\n",
    "data['income_type'] = data['income_type'].str.lower()\n",
    "data['purpose'] = data['purpose'].str.lower()"
   ]
  },
  {
   "cell_type": "code",
   "execution_count": 50,
   "id": "3d297e43",
   "metadata": {},
   "outputs": [
    {
     "data": {
      "text/plain": [
       "71"
      ]
     },
     "execution_count": 50,
     "metadata": {},
     "output_type": "execute_result"
    }
   ],
   "source": [
    "# найдём общую сумму дубликатов в таблице\n",
    "data.duplicated().sum()"
   ]
  },
  {
   "cell_type": "code",
   "execution_count": 51,
   "id": "729924a3",
   "metadata": {},
   "outputs": [],
   "source": [
    "# удаляем все дубликаты\n",
    "data = data.drop_duplicates()"
   ]
  },
  {
   "cell_type": "code",
   "execution_count": 52,
   "id": "3fe9fb30",
   "metadata": {
    "scrolled": true
   },
   "outputs": [
    {
     "data": {
      "text/plain": [
       "0"
      ]
     },
     "execution_count": 52,
     "metadata": {},
     "output_type": "execute_result"
    }
   ],
   "source": [
    "#проверим остались ли дубликаты\n",
    "data.duplicated().sum()"
   ]
  },
  {
   "cell_type": "markdown",
   "id": "cdb2db12",
   "metadata": {},
   "source": [
    "#### Вывод"
   ]
  },
  {
   "cell_type": "markdown",
   "id": "9aa58b5c",
   "metadata": {},
   "source": [
    "Для выявления дубликатов мы применили метод `duplicated()` вместе с `sum()`, чтобы подсчитать количество дубликатов в таблице, без применения `sum()` мы можем увидеть все строки таблицы с булевыми значениями, где True это дубликат. Для удаления дубликатов используем `drop_duplicates()`. Основные причины возникновения дубликатов — повторные представления, неправильное соединение данных из разных источников, ошибки пользователя при занесении информации.\n",
    "\n",
    "Теперь данные полностью очищены, приведены в порядок и подготовлены для работы."
   ]
  },
  {
   "cell_type": "markdown",
   "id": "c4ca5cf6",
   "metadata": {},
   "source": [
    "### Лемматизация"
   ]
  },
  {
   "cell_type": "code",
   "execution_count": 53,
   "id": "cd7d4425",
   "metadata": {
    "scrolled": true
   },
   "outputs": [
    {
     "data": {
      "text/plain": [
       "свадьба                                   791\n",
       "на проведение свадьбы                     768\n",
       "сыграть свадьбу                           765\n",
       "операции с недвижимостью                  675\n",
       "покупка коммерческой недвижимости         661\n",
       "операции с жильем                         652\n",
       "покупка жилья для сдачи                   651\n",
       "операции с коммерческой недвижимостью     650\n",
       "покупка жилья                             646\n",
       "жилье                                     646\n",
       "покупка жилья для семьи                   638\n",
       "строительство собственной недвижимости    635\n",
       "недвижимость                              633\n",
       "операции со своей недвижимостью           627\n",
       "строительство жилой недвижимости          624\n",
       "покупка недвижимости                      620\n",
       "покупка своего жилья                      620\n",
       "строительство недвижимости                619\n",
       "ремонт жилью                              607\n",
       "покупка жилой недвижимости                606\n",
       "на покупку своего автомобиля              505\n",
       "заняться высшим образованием              496\n",
       "автомобиль                                494\n",
       "сделка с подержанным автомобилем          486\n",
       "свой автомобиль                           478\n",
       "на покупку подержанного автомобиля        478\n",
       "автомобили                                478\n",
       "на покупку автомобиля                     471\n",
       "приобретение автомобиля                   461\n",
       "дополнительное образование                460\n",
       "сделка с автомобилем                      455\n",
       "высшее образование                        452\n",
       "образование                               447\n",
       "получение дополнительного образования     446\n",
       "получение образования                     442\n",
       "профильное образование                    436\n",
       "получение высшего образования             426\n",
       "заняться образованием                     408\n",
       "Name: purpose, dtype: int64"
      ]
     },
     "execution_count": 53,
     "metadata": {},
     "output_type": "execute_result"
    }
   ],
   "source": [
    "# посмотрим для каких целей люди берут кредиты\n",
    "data['purpose'].value_counts()"
   ]
  },
  {
   "cell_type": "code",
   "execution_count": 54,
   "id": "73a067ea",
   "metadata": {},
   "outputs": [],
   "source": [
    "# импортируем библиотеку pymystem3 \n",
    "from pymystem3 import Mystem\n",
    "m = Mystem() "
   ]
  },
  {
   "cell_type": "code",
   "execution_count": 55,
   "id": "f58ee3c6",
   "metadata": {},
   "outputs": [
    {
     "data": {
      "text/plain": [
       "array(['покупка жилья', 'приобретение автомобиля',\n",
       "       'дополнительное образование', 'сыграть свадьбу',\n",
       "       'операции с жильем', 'образование', 'на проведение свадьбы',\n",
       "       'покупка жилья для семьи', 'покупка недвижимости',\n",
       "       'покупка коммерческой недвижимости', 'покупка жилой недвижимости',\n",
       "       'строительство собственной недвижимости', 'недвижимость',\n",
       "       'строительство недвижимости', 'на покупку подержанного автомобиля',\n",
       "       'на покупку своего автомобиля',\n",
       "       'операции с коммерческой недвижимостью',\n",
       "       'строительство жилой недвижимости', 'жилье',\n",
       "       'операции со своей недвижимостью', 'автомобили',\n",
       "       'заняться образованием', 'сделка с подержанным автомобилем',\n",
       "       'получение образования', 'автомобиль', 'свадьба',\n",
       "       'получение дополнительного образования', 'покупка своего жилья',\n",
       "       'операции с недвижимостью', 'получение высшего образования',\n",
       "       'свой автомобиль', 'сделка с автомобилем',\n",
       "       'профильное образование', 'высшее образование',\n",
       "       'покупка жилья для сдачи', 'на покупку автомобиля', 'ремонт жилью',\n",
       "       'заняться высшим образованием'], dtype=object)"
      ]
     },
     "execution_count": 55,
     "metadata": {},
     "output_type": "execute_result"
    }
   ],
   "source": [
    "# посмотрим уникальные значения в столбце 'purpose' с целью получения кредита \n",
    "data['purpose'].unique()"
   ]
  },
  {
   "cell_type": "code",
   "execution_count": 56,
   "id": "2eaa6fed",
   "metadata": {
    "scrolled": true
   },
   "outputs": [
    {
     "data": {
      "text/plain": [
       "[(' ', 59),\n",
       " (',', 37),\n",
       " ('покупка', 10),\n",
       " ('недвижимость', 10),\n",
       " ('автомобиль', 9),\n",
       " ('образование', 9),\n",
       " ('жилье', 7),\n",
       " ('с', 5),\n",
       " ('операция', 4),\n",
       " ('на', 4),\n",
       " ('свой', 4),\n",
       " ('свадьба', 3),\n",
       " ('строительство', 3),\n",
       " ('получение', 3),\n",
       " ('высокий', 3),\n",
       " ('дополнительный', 2),\n",
       " ('для', 2),\n",
       " ('коммерческий', 2),\n",
       " ('жилой', 2),\n",
       " ('подержать', 2),\n",
       " ('заниматься', 2),\n",
       " ('сделка', 2),\n",
       " ('приобретение', 1),\n",
       " ('сыграть', 1),\n",
       " ('проведение', 1),\n",
       " ('семья', 1),\n",
       " ('собственный', 1),\n",
       " ('со', 1),\n",
       " ('профильный', 1),\n",
       " ('сдача', 1),\n",
       " ('ремонт', 1),\n",
       " ('\\n', 1)]"
      ]
     },
     "execution_count": 56,
     "metadata": {},
     "output_type": "execute_result"
    }
   ],
   "source": [
    "# найдём леммы\n",
    "purpose_unique = data['purpose'].unique()\n",
    "text = ','.join(purpose_unique)\n",
    "lemmas = m.lemmatize(text)\n",
    "\n",
    "# подсчитаем количество лемм и выведем результат в порядке убывания\n",
    "from collections import Counter\n",
    "Counter(lemmas).most_common()"
   ]
  },
  {
   "cell_type": "markdown",
   "id": "a3f70b6e",
   "metadata": {},
   "source": [
    "#### Вывод"
   ]
  },
  {
   "cell_type": "markdown",
   "id": "1d00562b",
   "metadata": {},
   "source": [
    "Список целей на получение кредита можно разбить на 4 основные категории: _недвижимость, образование, авто и свадьба_. \n",
    "\n",
    "При анализе лемм видно, что категории недвижимость, образование и авто так же можно разбить на подкатегории, если это представляет для нас интерес. Однако в категории недвижимость есть нюансы: не везде указано точно, связана ли цель именно со строительством или покупкой, личное жильё или коммерческое. Поэтому результаты могут быть искажены. Самые популярные встречающиеся леммы - покупка, недвижимость, автомобиль, образование."
   ]
  },
  {
   "cell_type": "markdown",
   "id": "294f2442",
   "metadata": {},
   "source": [
    "### Формирование дополнительных датафреймов словарей, декомпозиция исходного датафрейма"
   ]
  },
  {
   "cell_type": "code",
   "execution_count": 57,
   "id": "cd140f97",
   "metadata": {
    "scrolled": true
   },
   "outputs": [
    {
     "data": {
      "text/html": [
       "<div>\n",
       "<style scoped>\n",
       "    .dataframe tbody tr th:only-of-type {\n",
       "        vertical-align: middle;\n",
       "    }\n",
       "\n",
       "    .dataframe tbody tr th {\n",
       "        vertical-align: top;\n",
       "    }\n",
       "\n",
       "    .dataframe thead th {\n",
       "        text-align: right;\n",
       "    }\n",
       "</style>\n",
       "<table border=\"1\" class=\"dataframe\">\n",
       "  <thead>\n",
       "    <tr style=\"text-align: right;\">\n",
       "      <th></th>\n",
       "      <th>education_id</th>\n",
       "      <th>education</th>\n",
       "    </tr>\n",
       "  </thead>\n",
       "  <tbody>\n",
       "    <tr>\n",
       "      <th>0</th>\n",
       "      <td>0</td>\n",
       "      <td>высшее</td>\n",
       "    </tr>\n",
       "    <tr>\n",
       "      <th>1</th>\n",
       "      <td>1</td>\n",
       "      <td>среднее</td>\n",
       "    </tr>\n",
       "    <tr>\n",
       "      <th>2</th>\n",
       "      <td>2</td>\n",
       "      <td>неоконченное высшее</td>\n",
       "    </tr>\n",
       "    <tr>\n",
       "      <th>3</th>\n",
       "      <td>3</td>\n",
       "      <td>начальное</td>\n",
       "    </tr>\n",
       "    <tr>\n",
       "      <th>4</th>\n",
       "      <td>4</td>\n",
       "      <td>ученая степень</td>\n",
       "    </tr>\n",
       "  </tbody>\n",
       "</table>\n",
       "</div>"
      ],
      "text/plain": [
       "   education_id            education\n",
       "0             0               высшее\n",
       "1             1              среднее\n",
       "2             2  неоконченное высшее\n",
       "3             3            начальное\n",
       "4             4       ученая степень"
      ]
     },
     "metadata": {},
     "output_type": "display_data"
    }
   ],
   "source": [
    "# создадим два новых датафрейма\n",
    "df_education = data[['education_id', 'education']]\n",
    "df_education = df_education.drop_duplicates().reset_index(drop=True)\n",
    "display(df_education.sort_values('education_id'))"
   ]
  },
  {
   "cell_type": "code",
   "execution_count": 58,
   "id": "d943a3fc",
   "metadata": {},
   "outputs": [
    {
     "data": {
      "text/html": [
       "<div>\n",
       "<style scoped>\n",
       "    .dataframe tbody tr th:only-of-type {\n",
       "        vertical-align: middle;\n",
       "    }\n",
       "\n",
       "    .dataframe tbody tr th {\n",
       "        vertical-align: top;\n",
       "    }\n",
       "\n",
       "    .dataframe thead th {\n",
       "        text-align: right;\n",
       "    }\n",
       "</style>\n",
       "<table border=\"1\" class=\"dataframe\">\n",
       "  <thead>\n",
       "    <tr style=\"text-align: right;\">\n",
       "      <th></th>\n",
       "      <th>family_status</th>\n",
       "      <th>family_status_id</th>\n",
       "    </tr>\n",
       "  </thead>\n",
       "  <tbody>\n",
       "    <tr>\n",
       "      <th>0</th>\n",
       "      <td>женат / замужем</td>\n",
       "      <td>0</td>\n",
       "    </tr>\n",
       "    <tr>\n",
       "      <th>1</th>\n",
       "      <td>гражданский брак</td>\n",
       "      <td>1</td>\n",
       "    </tr>\n",
       "    <tr>\n",
       "      <th>2</th>\n",
       "      <td>вдовец / вдова</td>\n",
       "      <td>2</td>\n",
       "    </tr>\n",
       "    <tr>\n",
       "      <th>3</th>\n",
       "      <td>в разводе</td>\n",
       "      <td>3</td>\n",
       "    </tr>\n",
       "    <tr>\n",
       "      <th>4</th>\n",
       "      <td>не женат / не замужем</td>\n",
       "      <td>4</td>\n",
       "    </tr>\n",
       "  </tbody>\n",
       "</table>\n",
       "</div>"
      ],
      "text/plain": [
       "           family_status  family_status_id\n",
       "0        женат / замужем                 0\n",
       "1       гражданский брак                 1\n",
       "2         вдовец / вдова                 2\n",
       "3              в разводе                 3\n",
       "4  не женат / не замужем                 4"
      ]
     },
     "metadata": {},
     "output_type": "display_data"
    }
   ],
   "source": [
    "df_family_status = data[['family_status', 'family_status_id']]\n",
    "df_family_status = df_family_status.drop_duplicates().reset_index(drop=True)\n",
    "display(df_family_status.sort_values('family_status_id'))"
   ]
  },
  {
   "cell_type": "markdown",
   "id": "56e588c1",
   "metadata": {},
   "source": [
    "### Категоризация дохода"
   ]
  },
  {
   "cell_type": "code",
   "execution_count": 59,
   "id": "13613ddd",
   "metadata": {
    "scrolled": false
   },
   "outputs": [
    {
     "data": {
      "text/html": [
       "<div>\n",
       "<style scoped>\n",
       "    .dataframe tbody tr th:only-of-type {\n",
       "        vertical-align: middle;\n",
       "    }\n",
       "\n",
       "    .dataframe tbody tr th {\n",
       "        vertical-align: top;\n",
       "    }\n",
       "\n",
       "    .dataframe thead th {\n",
       "        text-align: right;\n",
       "    }\n",
       "</style>\n",
       "<table border=\"1\" class=\"dataframe\">\n",
       "  <thead>\n",
       "    <tr style=\"text-align: right;\">\n",
       "      <th></th>\n",
       "      <th>children</th>\n",
       "      <th>days_employed</th>\n",
       "      <th>dob_years</th>\n",
       "      <th>education</th>\n",
       "      <th>education_id</th>\n",
       "      <th>family_status</th>\n",
       "      <th>family_status_id</th>\n",
       "      <th>gender</th>\n",
       "      <th>income_type</th>\n",
       "      <th>debt</th>\n",
       "      <th>total_income</th>\n",
       "      <th>purpose</th>\n",
       "      <th>total_income_category</th>\n",
       "    </tr>\n",
       "  </thead>\n",
       "  <tbody>\n",
       "    <tr>\n",
       "      <th>0</th>\n",
       "      <td>1</td>\n",
       "      <td>351</td>\n",
       "      <td>42</td>\n",
       "      <td>высшее</td>\n",
       "      <td>0</td>\n",
       "      <td>женат / замужем</td>\n",
       "      <td>0</td>\n",
       "      <td>F</td>\n",
       "      <td>сотрудник</td>\n",
       "      <td>0</td>\n",
       "      <td>253875</td>\n",
       "      <td>покупка жилья</td>\n",
       "      <td>B</td>\n",
       "    </tr>\n",
       "    <tr>\n",
       "      <th>1</th>\n",
       "      <td>1</td>\n",
       "      <td>167</td>\n",
       "      <td>36</td>\n",
       "      <td>среднее</td>\n",
       "      <td>1</td>\n",
       "      <td>женат / замужем</td>\n",
       "      <td>0</td>\n",
       "      <td>F</td>\n",
       "      <td>сотрудник</td>\n",
       "      <td>0</td>\n",
       "      <td>112080</td>\n",
       "      <td>приобретение автомобиля</td>\n",
       "      <td>C</td>\n",
       "    </tr>\n",
       "    <tr>\n",
       "      <th>2</th>\n",
       "      <td>0</td>\n",
       "      <td>234</td>\n",
       "      <td>33</td>\n",
       "      <td>среднее</td>\n",
       "      <td>1</td>\n",
       "      <td>женат / замужем</td>\n",
       "      <td>0</td>\n",
       "      <td>M</td>\n",
       "      <td>сотрудник</td>\n",
       "      <td>0</td>\n",
       "      <td>145885</td>\n",
       "      <td>покупка жилья</td>\n",
       "      <td>C</td>\n",
       "    </tr>\n",
       "    <tr>\n",
       "      <th>3</th>\n",
       "      <td>3</td>\n",
       "      <td>171</td>\n",
       "      <td>32</td>\n",
       "      <td>среднее</td>\n",
       "      <td>1</td>\n",
       "      <td>женат / замужем</td>\n",
       "      <td>0</td>\n",
       "      <td>M</td>\n",
       "      <td>сотрудник</td>\n",
       "      <td>0</td>\n",
       "      <td>267628</td>\n",
       "      <td>дополнительное образование</td>\n",
       "      <td>B</td>\n",
       "    </tr>\n",
       "    <tr>\n",
       "      <th>4</th>\n",
       "      <td>0</td>\n",
       "      <td>14177</td>\n",
       "      <td>53</td>\n",
       "      <td>среднее</td>\n",
       "      <td>1</td>\n",
       "      <td>гражданский брак</td>\n",
       "      <td>1</td>\n",
       "      <td>F</td>\n",
       "      <td>пенсионер</td>\n",
       "      <td>0</td>\n",
       "      <td>158616</td>\n",
       "      <td>сыграть свадьбу</td>\n",
       "      <td>C</td>\n",
       "    </tr>\n",
       "  </tbody>\n",
       "</table>\n",
       "</div>"
      ],
      "text/plain": [
       "   children  days_employed  dob_years education  education_id  \\\n",
       "0         1            351         42    высшее             0   \n",
       "1         1            167         36   среднее             1   \n",
       "2         0            234         33   среднее             1   \n",
       "3         3            171         32   среднее             1   \n",
       "4         0          14177         53   среднее             1   \n",
       "\n",
       "      family_status  family_status_id gender income_type  debt  total_income  \\\n",
       "0   женат / замужем                 0      F   сотрудник     0        253875   \n",
       "1   женат / замужем                 0      F   сотрудник     0        112080   \n",
       "2   женат / замужем                 0      M   сотрудник     0        145885   \n",
       "3   женат / замужем                 0      M   сотрудник     0        267628   \n",
       "4  гражданский брак                 1      F   пенсионер     0        158616   \n",
       "\n",
       "                      purpose total_income_category  \n",
       "0               покупка жилья                     B  \n",
       "1     приобретение автомобиля                     C  \n",
       "2               покупка жилья                     C  \n",
       "3  дополнительное образование                     B  \n",
       "4             сыграть свадьбу                     C  "
      ]
     },
     "execution_count": 59,
     "metadata": {},
     "output_type": "execute_result"
    }
   ],
   "source": [
    "# напишем функцию, которая распределяет уровень дохода по категориям 'A', 'B', 'C', 'D', 'E'.\n",
    "\n",
    "def total_income_category(data):\n",
    "    \n",
    "    if 0 <= data['total_income'] <= 30000:\n",
    "        return 'E'\n",
    "    elif 30001 <= data['total_income'] <= 50000:\n",
    "        return 'D'\n",
    "    elif 50001 <= data['total_income'] <= 200000:\n",
    "        return 'C'\n",
    "    elif 200001 <= data['total_income'] <= 1000000:\n",
    "        return 'B'\n",
    "    else:\n",
    "        return 'A'\n",
    "\n",
    "# добавим новый столбец в таблицу\n",
    "data['total_income_category'] = data.apply(total_income_category, axis=1)\n",
    "\n",
    "# выведем первые 5 строк таблицы\n",
    "data.head()"
   ]
  },
  {
   "cell_type": "code",
   "execution_count": 60,
   "id": "6d08dac4",
   "metadata": {},
   "outputs": [
    {
     "data": {
      "text/plain": [
       "C    16016\n",
       "B     5040\n",
       "D      350\n",
       "A       25\n",
       "E       22\n",
       "Name: total_income_category, dtype: int64"
      ]
     },
     "execution_count": 60,
     "metadata": {},
     "output_type": "execute_result"
    }
   ],
   "source": [
    "data['total_income_category'].value_counts()"
   ]
  },
  {
   "cell_type": "markdown",
   "id": "670704c8",
   "metadata": {},
   "source": [
    "#### Вывод"
   ]
  },
  {
   "cell_type": "markdown",
   "id": "ebaf9d07",
   "metadata": {},
   "source": [
    "По результатам категоризации в таблицу был добавлен новый столбец: `total_income_category` - каждому человеку присвоены категории, в зависимости от уровня доходов `total_income`.\n",
    "\n",
    "Большая часть людей получает от 50 000 до 200 000 рублей в месяц. Если это данные из Москвы, то предположим, что аномалий нет."
   ]
  },
  {
   "cell_type": "markdown",
   "id": "5fbfd380",
   "metadata": {},
   "source": [
    "### Категоризация целей кредита"
   ]
  },
  {
   "cell_type": "code",
   "execution_count": 61,
   "id": "fe2137cc",
   "metadata": {},
   "outputs": [
    {
     "data": {
      "text/html": [
       "<div>\n",
       "<style scoped>\n",
       "    .dataframe tbody tr th:only-of-type {\n",
       "        vertical-align: middle;\n",
       "    }\n",
       "\n",
       "    .dataframe tbody tr th {\n",
       "        vertical-align: top;\n",
       "    }\n",
       "\n",
       "    .dataframe thead th {\n",
       "        text-align: right;\n",
       "    }\n",
       "</style>\n",
       "<table border=\"1\" class=\"dataframe\">\n",
       "  <thead>\n",
       "    <tr style=\"text-align: right;\">\n",
       "      <th></th>\n",
       "      <th>children</th>\n",
       "      <th>days_employed</th>\n",
       "      <th>dob_years</th>\n",
       "      <th>education</th>\n",
       "      <th>education_id</th>\n",
       "      <th>family_status</th>\n",
       "      <th>family_status_id</th>\n",
       "      <th>gender</th>\n",
       "      <th>income_type</th>\n",
       "      <th>debt</th>\n",
       "      <th>total_income</th>\n",
       "      <th>purpose</th>\n",
       "      <th>total_income_category</th>\n",
       "      <th>purpose_category</th>\n",
       "    </tr>\n",
       "  </thead>\n",
       "  <tbody>\n",
       "    <tr>\n",
       "      <th>0</th>\n",
       "      <td>1</td>\n",
       "      <td>351</td>\n",
       "      <td>42</td>\n",
       "      <td>высшее</td>\n",
       "      <td>0</td>\n",
       "      <td>женат / замужем</td>\n",
       "      <td>0</td>\n",
       "      <td>F</td>\n",
       "      <td>сотрудник</td>\n",
       "      <td>0</td>\n",
       "      <td>253875</td>\n",
       "      <td>покупка жилья</td>\n",
       "      <td>B</td>\n",
       "      <td>операции с недвижимостью</td>\n",
       "    </tr>\n",
       "    <tr>\n",
       "      <th>1</th>\n",
       "      <td>1</td>\n",
       "      <td>167</td>\n",
       "      <td>36</td>\n",
       "      <td>среднее</td>\n",
       "      <td>1</td>\n",
       "      <td>женат / замужем</td>\n",
       "      <td>0</td>\n",
       "      <td>F</td>\n",
       "      <td>сотрудник</td>\n",
       "      <td>0</td>\n",
       "      <td>112080</td>\n",
       "      <td>приобретение автомобиля</td>\n",
       "      <td>C</td>\n",
       "      <td>операции с автомобилем</td>\n",
       "    </tr>\n",
       "    <tr>\n",
       "      <th>2</th>\n",
       "      <td>0</td>\n",
       "      <td>234</td>\n",
       "      <td>33</td>\n",
       "      <td>среднее</td>\n",
       "      <td>1</td>\n",
       "      <td>женат / замужем</td>\n",
       "      <td>0</td>\n",
       "      <td>M</td>\n",
       "      <td>сотрудник</td>\n",
       "      <td>0</td>\n",
       "      <td>145885</td>\n",
       "      <td>покупка жилья</td>\n",
       "      <td>C</td>\n",
       "      <td>операции с недвижимостью</td>\n",
       "    </tr>\n",
       "    <tr>\n",
       "      <th>3</th>\n",
       "      <td>3</td>\n",
       "      <td>171</td>\n",
       "      <td>32</td>\n",
       "      <td>среднее</td>\n",
       "      <td>1</td>\n",
       "      <td>женат / замужем</td>\n",
       "      <td>0</td>\n",
       "      <td>M</td>\n",
       "      <td>сотрудник</td>\n",
       "      <td>0</td>\n",
       "      <td>267628</td>\n",
       "      <td>дополнительное образование</td>\n",
       "      <td>B</td>\n",
       "      <td>получение образования</td>\n",
       "    </tr>\n",
       "    <tr>\n",
       "      <th>4</th>\n",
       "      <td>0</td>\n",
       "      <td>14177</td>\n",
       "      <td>53</td>\n",
       "      <td>среднее</td>\n",
       "      <td>1</td>\n",
       "      <td>гражданский брак</td>\n",
       "      <td>1</td>\n",
       "      <td>F</td>\n",
       "      <td>пенсионер</td>\n",
       "      <td>0</td>\n",
       "      <td>158616</td>\n",
       "      <td>сыграть свадьбу</td>\n",
       "      <td>C</td>\n",
       "      <td>проведение свадьбы</td>\n",
       "    </tr>\n",
       "  </tbody>\n",
       "</table>\n",
       "</div>"
      ],
      "text/plain": [
       "   children  days_employed  dob_years education  education_id  \\\n",
       "0         1            351         42    высшее             0   \n",
       "1         1            167         36   среднее             1   \n",
       "2         0            234         33   среднее             1   \n",
       "3         3            171         32   среднее             1   \n",
       "4         0          14177         53   среднее             1   \n",
       "\n",
       "      family_status  family_status_id gender income_type  debt  total_income  \\\n",
       "0   женат / замужем                 0      F   сотрудник     0        253875   \n",
       "1   женат / замужем                 0      F   сотрудник     0        112080   \n",
       "2   женат / замужем                 0      M   сотрудник     0        145885   \n",
       "3   женат / замужем                 0      M   сотрудник     0        267628   \n",
       "4  гражданский брак                 1      F   пенсионер     0        158616   \n",
       "\n",
       "                      purpose total_income_category          purpose_category  \n",
       "0               покупка жилья                     B  операции с недвижимостью  \n",
       "1     приобретение автомобиля                     C    операции с автомобилем  \n",
       "2               покупка жилья                     C  операции с недвижимостью  \n",
       "3  дополнительное образование                     B     получение образования  \n",
       "4             сыграть свадьбу                     C        проведение свадьбы  "
      ]
     },
     "metadata": {},
     "output_type": "display_data"
    }
   ],
   "source": [
    "# напишем функцию, которая распределяет цели для получения кредита по категориям\n",
    "\n",
    "def purpose_category(row):\n",
    "    \n",
    "    if 'автомоб' in row:\n",
    "        return 'операции с автомобилем'\n",
    "    elif 'жиль' in row:\n",
    "        return 'операции с недвижимостью'\n",
    "    elif 'свадьб' in row:\n",
    "        return 'проведение свадьбы'\n",
    "    elif 'образован' in row:\n",
    "        return 'получение образования'\n",
    "        \n",
    "data['purpose_category'] = data['purpose'].apply(purpose_category)\n",
    "purpose_category = data.groupby(['purpose_category'], as_index = False).agg({'debt':'sum', 'purpose': 'count'})\n",
    "data_pivot = data.pivot_table(index='purpose_category', columns='debt', values='purpose', aggfunc='count')\n",
    "display(data.head())    "
   ]
  },
  {
   "cell_type": "code",
   "execution_count": 62,
   "id": "41c2d5e2",
   "metadata": {
    "scrolled": true
   },
   "outputs": [
    {
     "data": {
      "text/plain": [
       "операции с недвижимостью    4460\n",
       "операции с автомобилем      4306\n",
       "получение образования       4013\n",
       "проведение свадьбы          2324\n",
       "Name: purpose_category, dtype: int64"
      ]
     },
     "execution_count": 62,
     "metadata": {},
     "output_type": "execute_result"
    }
   ],
   "source": [
    "# проверим удачно ли добавлены категории в новый столбец\n",
    "data['purpose_category'].value_counts()"
   ]
  },
  {
   "cell_type": "markdown",
   "id": "42e737ba",
   "metadata": {},
   "source": [
    "#### Вывод"
   ]
  },
  {
   "cell_type": "markdown",
   "id": "28097686",
   "metadata": {},
   "source": [
    "По результатам категоризации в таблицу был добавлен новый столбец: `purpose_category`- в нём отображены основные цели для получения кредита. В основном все берут ипотечный кредит, кредит на покупку автомобиля и получение образования."
   ]
  },
  {
   "cell_type": "markdown",
   "id": "c76b3723",
   "metadata": {},
   "source": [
    "## Ответы на вопросы"
   ]
  },
  {
   "cell_type": "markdown",
   "id": "62ae3124",
   "metadata": {},
   "source": [
    "### Вопрос 1. Есть ли зависимость между количеством детей и возвратом кредита в срок?"
   ]
  },
  {
   "cell_type": "code",
   "execution_count": 63,
   "id": "997012c7",
   "metadata": {
    "scrolled": true
   },
   "outputs": [
    {
     "data": {
      "text/html": [
       "<div>\n",
       "<style scoped>\n",
       "    .dataframe tbody tr th:only-of-type {\n",
       "        vertical-align: middle;\n",
       "    }\n",
       "\n",
       "    .dataframe tbody tr th {\n",
       "        vertical-align: top;\n",
       "    }\n",
       "\n",
       "    .dataframe thead th {\n",
       "        text-align: right;\n",
       "    }\n",
       "</style>\n",
       "<table border=\"1\" class=\"dataframe\">\n",
       "  <thead>\n",
       "    <tr style=\"text-align: right;\">\n",
       "      <th></th>\n",
       "      <th>children</th>\n",
       "      <th>days_employed</th>\n",
       "      <th>dob_years</th>\n",
       "      <th>education</th>\n",
       "      <th>education_id</th>\n",
       "      <th>family_status</th>\n",
       "      <th>family_status_id</th>\n",
       "      <th>gender</th>\n",
       "      <th>income_type</th>\n",
       "      <th>debt</th>\n",
       "      <th>total_income</th>\n",
       "      <th>purpose</th>\n",
       "      <th>total_income_category</th>\n",
       "      <th>purpose_category</th>\n",
       "      <th>children_category</th>\n",
       "    </tr>\n",
       "  </thead>\n",
       "  <tbody>\n",
       "    <tr>\n",
       "      <th>0</th>\n",
       "      <td>1</td>\n",
       "      <td>351</td>\n",
       "      <td>42</td>\n",
       "      <td>высшее</td>\n",
       "      <td>0</td>\n",
       "      <td>женат / замужем</td>\n",
       "      <td>0</td>\n",
       "      <td>F</td>\n",
       "      <td>сотрудник</td>\n",
       "      <td>0</td>\n",
       "      <td>253875</td>\n",
       "      <td>покупка жилья</td>\n",
       "      <td>B</td>\n",
       "      <td>операции с недвижимостью</td>\n",
       "      <td>один или два ребёнка</td>\n",
       "    </tr>\n",
       "    <tr>\n",
       "      <th>1</th>\n",
       "      <td>1</td>\n",
       "      <td>167</td>\n",
       "      <td>36</td>\n",
       "      <td>среднее</td>\n",
       "      <td>1</td>\n",
       "      <td>женат / замужем</td>\n",
       "      <td>0</td>\n",
       "      <td>F</td>\n",
       "      <td>сотрудник</td>\n",
       "      <td>0</td>\n",
       "      <td>112080</td>\n",
       "      <td>приобретение автомобиля</td>\n",
       "      <td>C</td>\n",
       "      <td>операции с автомобилем</td>\n",
       "      <td>один или два ребёнка</td>\n",
       "    </tr>\n",
       "    <tr>\n",
       "      <th>2</th>\n",
       "      <td>0</td>\n",
       "      <td>234</td>\n",
       "      <td>33</td>\n",
       "      <td>среднее</td>\n",
       "      <td>1</td>\n",
       "      <td>женат / замужем</td>\n",
       "      <td>0</td>\n",
       "      <td>M</td>\n",
       "      <td>сотрудник</td>\n",
       "      <td>0</td>\n",
       "      <td>145885</td>\n",
       "      <td>покупка жилья</td>\n",
       "      <td>C</td>\n",
       "      <td>операции с недвижимостью</td>\n",
       "      <td>без детей</td>\n",
       "    </tr>\n",
       "    <tr>\n",
       "      <th>3</th>\n",
       "      <td>3</td>\n",
       "      <td>171</td>\n",
       "      <td>32</td>\n",
       "      <td>среднее</td>\n",
       "      <td>1</td>\n",
       "      <td>женат / замужем</td>\n",
       "      <td>0</td>\n",
       "      <td>M</td>\n",
       "      <td>сотрудник</td>\n",
       "      <td>0</td>\n",
       "      <td>267628</td>\n",
       "      <td>дополнительное образование</td>\n",
       "      <td>B</td>\n",
       "      <td>получение образования</td>\n",
       "      <td>многодетные</td>\n",
       "    </tr>\n",
       "    <tr>\n",
       "      <th>4</th>\n",
       "      <td>0</td>\n",
       "      <td>14177</td>\n",
       "      <td>53</td>\n",
       "      <td>среднее</td>\n",
       "      <td>1</td>\n",
       "      <td>гражданский брак</td>\n",
       "      <td>1</td>\n",
       "      <td>F</td>\n",
       "      <td>пенсионер</td>\n",
       "      <td>0</td>\n",
       "      <td>158616</td>\n",
       "      <td>сыграть свадьбу</td>\n",
       "      <td>C</td>\n",
       "      <td>проведение свадьбы</td>\n",
       "      <td>без детей</td>\n",
       "    </tr>\n",
       "  </tbody>\n",
       "</table>\n",
       "</div>"
      ],
      "text/plain": [
       "   children  days_employed  dob_years education  education_id  \\\n",
       "0         1            351         42    высшее             0   \n",
       "1         1            167         36   среднее             1   \n",
       "2         0            234         33   среднее             1   \n",
       "3         3            171         32   среднее             1   \n",
       "4         0          14177         53   среднее             1   \n",
       "\n",
       "      family_status  family_status_id gender income_type  debt  total_income  \\\n",
       "0   женат / замужем                 0      F   сотрудник     0        253875   \n",
       "1   женат / замужем                 0      F   сотрудник     0        112080   \n",
       "2   женат / замужем                 0      M   сотрудник     0        145885   \n",
       "3   женат / замужем                 0      M   сотрудник     0        267628   \n",
       "4  гражданский брак                 1      F   пенсионер     0        158616   \n",
       "\n",
       "                      purpose total_income_category          purpose_category  \\\n",
       "0               покупка жилья                     B  операции с недвижимостью   \n",
       "1     приобретение автомобиля                     C    операции с автомобилем   \n",
       "2               покупка жилья                     C  операции с недвижимостью   \n",
       "3  дополнительное образование                     B     получение образования   \n",
       "4             сыграть свадьбу                     C        проведение свадьбы   \n",
       "\n",
       "      children_category  \n",
       "0  один или два ребёнка  \n",
       "1  один или два ребёнка  \n",
       "2             без детей  \n",
       "3           многодетные  \n",
       "4             без детей  "
      ]
     },
     "execution_count": 63,
     "metadata": {},
     "output_type": "execute_result"
    }
   ],
   "source": [
    "# напишем функцию, распределим клиентов по количеству детей\n",
    "\n",
    "def children_category(data):\n",
    "    \n",
    "    if data['children'] == 0:\n",
    "        return 'без детей'\n",
    "    \n",
    "    elif data['children'] <= 2:\n",
    "        return 'один или два ребёнка'\n",
    "    \n",
    "    # если три и более детей, то такая семья считается многодетной\n",
    "    else:\n",
    "        return 'многодетные'\n",
    "\n",
    "# добавим новый столбец в таблицу\n",
    "data['children_category'] = data.apply(children_category, axis=1)\n",
    "\n",
    "# выведем первые 5 строк таблицы\n",
    "data.head()"
   ]
  },
  {
   "cell_type": "code",
   "execution_count": 64,
   "id": "3b463a4c",
   "metadata": {
    "scrolled": true
   },
   "outputs": [
    {
     "data": {
      "text/plain": [
       "без детей               14090\n",
       "один или два ребёнка     6983\n",
       "многодетные               380\n",
       "Name: children_category, dtype: int64"
      ]
     },
     "execution_count": 64,
     "metadata": {},
     "output_type": "execute_result"
    }
   ],
   "source": [
    "# подсчитаем число клиентов по категориям количества детей\n",
    "data['children_category'].value_counts()"
   ]
  },
  {
   "cell_type": "code",
   "execution_count": 65,
   "id": "a33c5470",
   "metadata": {
    "scrolled": true
   },
   "outputs": [
    {
     "data": {
      "image/png": "[encoded data removed]",
      "text/plain": [
       "<Figure size 432x288 with 1 Axes>"
      ]
     },
     "metadata": {
      "needs_background": "light"
     },
     "output_type": "display_data"
    }
   ],
   "source": [
    "# визуализируем данные\n",
    "sns.countplot(x = 'children_category', data = data, palette = 'dark');"
   ]
  },
  {
   "cell_type": "code",
   "execution_count": 66,
   "id": "9db4eeb2",
   "metadata": {
    "scrolled": false
   },
   "outputs": [
    {
     "data": {
      "text/html": [
       "<div>\n",
       "<style scoped>\n",
       "    .dataframe tbody tr th:only-of-type {\n",
       "        vertical-align: middle;\n",
       "    }\n",
       "\n",
       "    .dataframe tbody tr th {\n",
       "        vertical-align: top;\n",
       "    }\n",
       "\n",
       "    .dataframe thead th {\n",
       "        text-align: right;\n",
       "    }\n",
       "</style>\n",
       "<table border=\"1\" class=\"dataframe\">\n",
       "  <thead>\n",
       "    <tr style=\"text-align: right;\">\n",
       "      <th></th>\n",
       "      <th>children</th>\n",
       "      <th>days_employed</th>\n",
       "      <th>dob_years</th>\n",
       "      <th>education</th>\n",
       "      <th>education_id</th>\n",
       "      <th>family_status</th>\n",
       "      <th>family_status_id</th>\n",
       "      <th>gender</th>\n",
       "      <th>income_type</th>\n",
       "      <th>debt</th>\n",
       "      <th>total_income</th>\n",
       "      <th>purpose</th>\n",
       "      <th>total_income_category</th>\n",
       "      <th>purpose_category</th>\n",
       "      <th>children_category</th>\n",
       "      <th>children_and_debt</th>\n",
       "    </tr>\n",
       "  </thead>\n",
       "  <tbody>\n",
       "    <tr>\n",
       "      <th>0</th>\n",
       "      <td>1</td>\n",
       "      <td>351</td>\n",
       "      <td>42</td>\n",
       "      <td>высшее</td>\n",
       "      <td>0</td>\n",
       "      <td>женат / замужем</td>\n",
       "      <td>0</td>\n",
       "      <td>F</td>\n",
       "      <td>сотрудник</td>\n",
       "      <td>0</td>\n",
       "      <td>253875</td>\n",
       "      <td>покупка жилья</td>\n",
       "      <td>B</td>\n",
       "      <td>операции с недвижимостью</td>\n",
       "      <td>один или два ребёнка</td>\n",
       "      <td>добросовестный - один или два ребёнка</td>\n",
       "    </tr>\n",
       "    <tr>\n",
       "      <th>1</th>\n",
       "      <td>1</td>\n",
       "      <td>167</td>\n",
       "      <td>36</td>\n",
       "      <td>среднее</td>\n",
       "      <td>1</td>\n",
       "      <td>женат / замужем</td>\n",
       "      <td>0</td>\n",
       "      <td>F</td>\n",
       "      <td>сотрудник</td>\n",
       "      <td>0</td>\n",
       "      <td>112080</td>\n",
       "      <td>приобретение автомобиля</td>\n",
       "      <td>C</td>\n",
       "      <td>операции с автомобилем</td>\n",
       "      <td>один или два ребёнка</td>\n",
       "      <td>добросовестный - один или два ребёнка</td>\n",
       "    </tr>\n",
       "    <tr>\n",
       "      <th>2</th>\n",
       "      <td>0</td>\n",
       "      <td>234</td>\n",
       "      <td>33</td>\n",
       "      <td>среднее</td>\n",
       "      <td>1</td>\n",
       "      <td>женат / замужем</td>\n",
       "      <td>0</td>\n",
       "      <td>M</td>\n",
       "      <td>сотрудник</td>\n",
       "      <td>0</td>\n",
       "      <td>145885</td>\n",
       "      <td>покупка жилья</td>\n",
       "      <td>C</td>\n",
       "      <td>операции с недвижимостью</td>\n",
       "      <td>без детей</td>\n",
       "      <td>добросовестный - без детей</td>\n",
       "    </tr>\n",
       "    <tr>\n",
       "      <th>3</th>\n",
       "      <td>3</td>\n",
       "      <td>171</td>\n",
       "      <td>32</td>\n",
       "      <td>среднее</td>\n",
       "      <td>1</td>\n",
       "      <td>женат / замужем</td>\n",
       "      <td>0</td>\n",
       "      <td>M</td>\n",
       "      <td>сотрудник</td>\n",
       "      <td>0</td>\n",
       "      <td>267628</td>\n",
       "      <td>дополнительное образование</td>\n",
       "      <td>B</td>\n",
       "      <td>получение образования</td>\n",
       "      <td>многодетные</td>\n",
       "      <td>добросовестный - многодетный</td>\n",
       "    </tr>\n",
       "    <tr>\n",
       "      <th>4</th>\n",
       "      <td>0</td>\n",
       "      <td>14177</td>\n",
       "      <td>53</td>\n",
       "      <td>среднее</td>\n",
       "      <td>1</td>\n",
       "      <td>гражданский брак</td>\n",
       "      <td>1</td>\n",
       "      <td>F</td>\n",
       "      <td>пенсионер</td>\n",
       "      <td>0</td>\n",
       "      <td>158616</td>\n",
       "      <td>сыграть свадьбу</td>\n",
       "      <td>C</td>\n",
       "      <td>проведение свадьбы</td>\n",
       "      <td>без детей</td>\n",
       "      <td>добросовестный - без детей</td>\n",
       "    </tr>\n",
       "  </tbody>\n",
       "</table>\n",
       "</div>"
      ],
      "text/plain": [
       "   children  days_employed  dob_years education  education_id  \\\n",
       "0         1            351         42    высшее             0   \n",
       "1         1            167         36   среднее             1   \n",
       "2         0            234         33   среднее             1   \n",
       "3         3            171         32   среднее             1   \n",
       "4         0          14177         53   среднее             1   \n",
       "\n",
       "      family_status  family_status_id gender income_type  debt  total_income  \\\n",
       "0   женат / замужем                 0      F   сотрудник     0        253875   \n",
       "1   женат / замужем                 0      F   сотрудник     0        112080   \n",
       "2   женат / замужем                 0      M   сотрудник     0        145885   \n",
       "3   женат / замужем                 0      M   сотрудник     0        267628   \n",
       "4  гражданский брак                 1      F   пенсионер     0        158616   \n",
       "\n",
       "                      purpose total_income_category          purpose_category  \\\n",
       "0               покупка жилья                     B  операции с недвижимостью   \n",
       "1     приобретение автомобиля                     C    операции с автомобилем   \n",
       "2               покупка жилья                     C  операции с недвижимостью   \n",
       "3  дополнительное образование                     B     получение образования   \n",
       "4             сыграть свадьбу                     C        проведение свадьбы   \n",
       "\n",
       "      children_category                      children_and_debt  \n",
       "0  один или два ребёнка  добросовестный - один или два ребёнка  \n",
       "1  один или два ребёнка  добросовестный - один или два ребёнка  \n",
       "2             без детей             добросовестный - без детей  \n",
       "3           многодетные           добросовестный - многодетный  \n",
       "4             без детей             добросовестный - без детей  "
      ]
     },
     "execution_count": 66,
     "metadata": {},
     "output_type": "execute_result"
    }
   ],
   "source": [
    "# напишем функцию, распределим на категории плательщиков по платежеспособности и задолженностям \n",
    "# в зависимости от количества детей\n",
    "\n",
    "def children_and_debt(row):\n",
    "    children_category = row['children_category']\n",
    "    debt = row['debt']\n",
    "   \n",
    "    # без детей\n",
    "    if children_category == 'без детей':\n",
    "        if debt == 1:\n",
    "            return 'должник - без детей'\n",
    "        \n",
    "    if children_category == 'без детей':\n",
    "        if debt == 0:\n",
    "            return 'добросовестный - без детей'\n",
    "        \n",
    "    # есть дети (1-2 ребёнка)\n",
    "    if children_category == 'один или два ребёнка':\n",
    "        if debt == 1:\n",
    "            return 'должник - один или два ребёнка'\n",
    "        \n",
    "    if children_category == 'один или два ребёнка':\n",
    "        if debt == 0:\n",
    "            return 'добросовестный - один или два ребёнка'\n",
    "        \n",
    "    # многодетные (более 3 детей)\n",
    "    if children_category == 'многодетные':\n",
    "        if debt == 1:\n",
    "            return 'должник - многодетный'\n",
    "        \n",
    "    if children_category == 'многодетные':\n",
    "        if debt == 0:\n",
    "            return 'добросовестный - многодетный'\n",
    "         \n",
    "# добавим новый столбец\n",
    "data['children_and_debt'] = data.apply(children_and_debt, axis=1)\n",
    "\n",
    "# выведем первые 5 строк таблицы, чтобы проверить новый столбец\n",
    "data.head()    "
   ]
  },
  {
   "cell_type": "code",
   "execution_count": 67,
   "id": "c6da0947",
   "metadata": {
    "scrolled": true
   },
   "outputs": [
    {
     "name": "stdout",
     "output_type": "stream",
     "text": [
      "Процент должников не имеющих детей: 7.6%\n",
      "Процент должников имеющих одного или двух детей: 9.3%\n",
      "Процент многодетных должников: 8.2%\n"
     ]
    }
   ],
   "source": [
    "# найдём процент должников\n",
    "\n",
    "# без детей\n",
    "debt_without_children = (data.loc[(data['children_and_debt'] == 'должник - без детей')].count().sum() / data.loc[(data['children_category'] == 'без детей')].count().sum())\n",
    "print(f'Процент должников не имеющих детей: {debt_without_children:.1%}')\n",
    "\n",
    "# есть дети\n",
    "debt_with_children = (data.loc[(data['children_and_debt'] == 'должник - один или два ребёнка')].count().sum() / data.loc[(data['children_category'] == 'один или два ребёнка')].count().sum())\n",
    "print(f'Процент должников имеющих одного или двух детей: {debt_with_children:.1%}')\n",
    "\n",
    "#многодетные\n",
    "debt_with_many_children = (data.loc[(data['children_and_debt'] == 'должник - многодетный')].count().sum() / data.loc[(data['children_category'] == 'многодетные')].count().sum())\n",
    "print(f'Процент многодетных должников: {debt_with_many_children:.1%}')"
   ]
  },
  {
   "cell_type": "code",
   "execution_count": 68,
   "id": "559cf08e",
   "metadata": {
    "scrolled": true
   },
   "outputs": [
    {
     "data": {
      "text/html": [
       "<div>\n",
       "<style scoped>\n",
       "    .dataframe tbody tr th:only-of-type {\n",
       "        vertical-align: middle;\n",
       "    }\n",
       "\n",
       "    .dataframe tbody tr th {\n",
       "        vertical-align: top;\n",
       "    }\n",
       "\n",
       "    .dataframe thead th {\n",
       "        text-align: right;\n",
       "    }\n",
       "</style>\n",
       "<table border=\"1\" class=\"dataframe\">\n",
       "  <thead>\n",
       "    <tr style=\"text-align: right;\">\n",
       "      <th></th>\n",
       "      <th>debt_count</th>\n",
       "      <th>debt_sum</th>\n",
       "      <th>debt_percentage</th>\n",
       "    </tr>\n",
       "    <tr>\n",
       "      <th>children</th>\n",
       "      <th></th>\n",
       "      <th></th>\n",
       "      <th></th>\n",
       "    </tr>\n",
       "  </thead>\n",
       "  <tbody>\n",
       "    <tr>\n",
       "      <th>4</th>\n",
       "      <td>41</td>\n",
       "      <td>4</td>\n",
       "      <td>9.756098</td>\n",
       "    </tr>\n",
       "    <tr>\n",
       "      <th>2</th>\n",
       "      <td>2128</td>\n",
       "      <td>202</td>\n",
       "      <td>9.492481</td>\n",
       "    </tr>\n",
       "    <tr>\n",
       "      <th>1</th>\n",
       "      <td>4855</td>\n",
       "      <td>445</td>\n",
       "      <td>9.165808</td>\n",
       "    </tr>\n",
       "    <tr>\n",
       "      <th>3</th>\n",
       "      <td>330</td>\n",
       "      <td>27</td>\n",
       "      <td>8.181818</td>\n",
       "    </tr>\n",
       "    <tr>\n",
       "      <th>0</th>\n",
       "      <td>14090</td>\n",
       "      <td>1063</td>\n",
       "      <td>7.544358</td>\n",
       "    </tr>\n",
       "    <tr>\n",
       "      <th>5</th>\n",
       "      <td>9</td>\n",
       "      <td>0</td>\n",
       "      <td>0.000000</td>\n",
       "    </tr>\n",
       "  </tbody>\n",
       "</table>\n",
       "</div>"
      ],
      "text/plain": [
       "          debt_count  debt_sum  debt_percentage\n",
       "children                                       \n",
       "4                 41         4         9.756098\n",
       "2               2128       202         9.492481\n",
       "1               4855       445         9.165808\n",
       "3                330        27         8.181818\n",
       "0              14090      1063         7.544358\n",
       "5                  9         0         0.000000"
      ]
     },
     "execution_count": 68,
     "metadata": {},
     "output_type": "execute_result"
    }
   ],
   "source": [
    "# найдём средний процент должников в зависимости от количества детей\n",
    "debt_from_children = pd.DataFrame()\n",
    "debt_from_children['debt_count'] = data.groupby('children')['debt'].count()\n",
    "debt_from_children['debt_sum'] = data.groupby('children')['debt'].sum()\n",
    "debt_from_children['debt_percentage'] = (debt_from_children['debt_sum'] / debt_from_children['debt_count']) * 100\n",
    "debt_from_children.sort_values('debt_percentage', ascending = False)"
   ]
  },
  {
   "cell_type": "markdown",
   "id": "717594ce",
   "metadata": {},
   "source": [
    "**Вывод**\n",
    "\n",
    "В представленной выборке клиенты не имеющие детей берут кредиты чаще, чем клиенты у которых есть дети. \n",
    "При этом процент должников среди данной категории клиентов ниже. Это можно объяснить тем, что в тяжёлой финансовой ситуации человек имеющий детей предпочтёт потратить деньги на семью, нежели потратить средства на выплату долга по кредиту банку.\n",
    "\n",
    "Стоит сказать, что данные неоднородны, особенно те, что касаются 3, 4, 5 детей. В этих категориях не так много строк, чтобы можно было полноценно оценить влияет ли количество детей на возврат кредита в срок. \n",
    "\n",
    "Но если смотреть на те категории семей, где есть один или два ребёнка, то здесь можно сделать вывод, что доля просрочек по выплате кредитов больше, чем у тех людей, которые не имеют детей."
   ]
  },
  {
   "cell_type": "markdown",
   "id": "1772b152",
   "metadata": {},
   "source": [
    "### Вопрос 2. Есть ли зависимость между семейным положением и возвратом кредита в срок?"
   ]
  },
  {
   "cell_type": "code",
   "execution_count": 69,
   "id": "f7f01eed",
   "metadata": {
    "scrolled": true
   },
   "outputs": [
    {
     "data": {
      "text/html": [
       "<div>\n",
       "<style scoped>\n",
       "    .dataframe tbody tr th:only-of-type {\n",
       "        vertical-align: middle;\n",
       "    }\n",
       "\n",
       "    .dataframe tbody tr th {\n",
       "        vertical-align: top;\n",
       "    }\n",
       "\n",
       "    .dataframe thead th {\n",
       "        text-align: right;\n",
       "    }\n",
       "</style>\n",
       "<table border=\"1\" class=\"dataframe\">\n",
       "  <thead>\n",
       "    <tr style=\"text-align: right;\">\n",
       "      <th></th>\n",
       "      <th>children</th>\n",
       "      <th>days_employed</th>\n",
       "      <th>dob_years</th>\n",
       "      <th>education</th>\n",
       "      <th>education_id</th>\n",
       "      <th>family_status</th>\n",
       "      <th>family_status_id</th>\n",
       "      <th>gender</th>\n",
       "      <th>income_type</th>\n",
       "      <th>debt</th>\n",
       "      <th>total_income</th>\n",
       "      <th>purpose</th>\n",
       "      <th>total_income_category</th>\n",
       "      <th>purpose_category</th>\n",
       "      <th>children_category</th>\n",
       "      <th>children_and_debt</th>\n",
       "      <th>family_status_debt</th>\n",
       "    </tr>\n",
       "  </thead>\n",
       "  <tbody>\n",
       "    <tr>\n",
       "      <th>0</th>\n",
       "      <td>1</td>\n",
       "      <td>351</td>\n",
       "      <td>42</td>\n",
       "      <td>высшее</td>\n",
       "      <td>0</td>\n",
       "      <td>женат / замужем</td>\n",
       "      <td>0</td>\n",
       "      <td>F</td>\n",
       "      <td>сотрудник</td>\n",
       "      <td>0</td>\n",
       "      <td>253875</td>\n",
       "      <td>покупка жилья</td>\n",
       "      <td>B</td>\n",
       "      <td>операции с недвижимостью</td>\n",
       "      <td>один или два ребёнка</td>\n",
       "      <td>добросовестный - один или два ребёнка</td>\n",
       "      <td>добросовестный - в браке</td>\n",
       "    </tr>\n",
       "    <tr>\n",
       "      <th>1</th>\n",
       "      <td>1</td>\n",
       "      <td>167</td>\n",
       "      <td>36</td>\n",
       "      <td>среднее</td>\n",
       "      <td>1</td>\n",
       "      <td>женат / замужем</td>\n",
       "      <td>0</td>\n",
       "      <td>F</td>\n",
       "      <td>сотрудник</td>\n",
       "      <td>0</td>\n",
       "      <td>112080</td>\n",
       "      <td>приобретение автомобиля</td>\n",
       "      <td>C</td>\n",
       "      <td>операции с автомобилем</td>\n",
       "      <td>один или два ребёнка</td>\n",
       "      <td>добросовестный - один или два ребёнка</td>\n",
       "      <td>добросовестный - в браке</td>\n",
       "    </tr>\n",
       "    <tr>\n",
       "      <th>2</th>\n",
       "      <td>0</td>\n",
       "      <td>234</td>\n",
       "      <td>33</td>\n",
       "      <td>среднее</td>\n",
       "      <td>1</td>\n",
       "      <td>женат / замужем</td>\n",
       "      <td>0</td>\n",
       "      <td>M</td>\n",
       "      <td>сотрудник</td>\n",
       "      <td>0</td>\n",
       "      <td>145885</td>\n",
       "      <td>покупка жилья</td>\n",
       "      <td>C</td>\n",
       "      <td>операции с недвижимостью</td>\n",
       "      <td>без детей</td>\n",
       "      <td>добросовестный - без детей</td>\n",
       "      <td>добросовестный - в браке</td>\n",
       "    </tr>\n",
       "    <tr>\n",
       "      <th>3</th>\n",
       "      <td>3</td>\n",
       "      <td>171</td>\n",
       "      <td>32</td>\n",
       "      <td>среднее</td>\n",
       "      <td>1</td>\n",
       "      <td>женат / замужем</td>\n",
       "      <td>0</td>\n",
       "      <td>M</td>\n",
       "      <td>сотрудник</td>\n",
       "      <td>0</td>\n",
       "      <td>267628</td>\n",
       "      <td>дополнительное образование</td>\n",
       "      <td>B</td>\n",
       "      <td>получение образования</td>\n",
       "      <td>многодетные</td>\n",
       "      <td>добросовестный - многодетный</td>\n",
       "      <td>добросовестный - в браке</td>\n",
       "    </tr>\n",
       "    <tr>\n",
       "      <th>4</th>\n",
       "      <td>0</td>\n",
       "      <td>14177</td>\n",
       "      <td>53</td>\n",
       "      <td>среднее</td>\n",
       "      <td>1</td>\n",
       "      <td>гражданский брак</td>\n",
       "      <td>1</td>\n",
       "      <td>F</td>\n",
       "      <td>пенсионер</td>\n",
       "      <td>0</td>\n",
       "      <td>158616</td>\n",
       "      <td>сыграть свадьбу</td>\n",
       "      <td>C</td>\n",
       "      <td>проведение свадьбы</td>\n",
       "      <td>без детей</td>\n",
       "      <td>добросовестный - без детей</td>\n",
       "      <td>добросовестный - в гражданском браке</td>\n",
       "    </tr>\n",
       "  </tbody>\n",
       "</table>\n",
       "</div>"
      ],
      "text/plain": [
       "   children  days_employed  dob_years education  education_id  \\\n",
       "0         1            351         42    высшее             0   \n",
       "1         1            167         36   среднее             1   \n",
       "2         0            234         33   среднее             1   \n",
       "3         3            171         32   среднее             1   \n",
       "4         0          14177         53   среднее             1   \n",
       "\n",
       "      family_status  family_status_id gender income_type  debt  total_income  \\\n",
       "0   женат / замужем                 0      F   сотрудник     0        253875   \n",
       "1   женат / замужем                 0      F   сотрудник     0        112080   \n",
       "2   женат / замужем                 0      M   сотрудник     0        145885   \n",
       "3   женат / замужем                 0      M   сотрудник     0        267628   \n",
       "4  гражданский брак                 1      F   пенсионер     0        158616   \n",
       "\n",
       "                      purpose total_income_category          purpose_category  \\\n",
       "0               покупка жилья                     B  операции с недвижимостью   \n",
       "1     приобретение автомобиля                     C    операции с автомобилем   \n",
       "2               покупка жилья                     C  операции с недвижимостью   \n",
       "3  дополнительное образование                     B     получение образования   \n",
       "4             сыграть свадьбу                     C        проведение свадьбы   \n",
       "\n",
       "      children_category                      children_and_debt  \\\n",
       "0  один или два ребёнка  добросовестный - один или два ребёнка   \n",
       "1  один или два ребёнка  добросовестный - один или два ребёнка   \n",
       "2             без детей             добросовестный - без детей   \n",
       "3           многодетные           добросовестный - многодетный   \n",
       "4             без детей             добросовестный - без детей   \n",
       "\n",
       "                     family_status_debt  \n",
       "0              добросовестный - в браке  \n",
       "1              добросовестный - в браке  \n",
       "2              добросовестный - в браке  \n",
       "3              добросовестный - в браке  \n",
       "4  добросовестный - в гражданском браке  "
      ]
     },
     "execution_count": 69,
     "metadata": {},
     "output_type": "execute_result"
    }
   ],
   "source": [
    "# напишем функцию, распределим на категории по платежеспособности и задолженности в зависимости от семейного положения\n",
    "\n",
    "def family_status_debt(row):\n",
    "    status = row['family_status_id']\n",
    "    debt = row['debt']\n",
    "   \n",
    "    # в браке\n",
    "    if status == 0:\n",
    "        if debt == 1:\n",
    "            return 'должник - в браке'\n",
    "    if status == 0:\n",
    "        if debt == 0:\n",
    "            return 'добросовестный - в браке'\n",
    "        \n",
    "    # в гражданском браке\n",
    "    if status == 1:\n",
    "        if debt == 1:\n",
    "            return 'должник - в гражданском браке'\n",
    "    if status == 1:\n",
    "        if debt == 0:\n",
    "            return 'добросовестный - в гражданском браке'\n",
    "        \n",
    "    # вдовец / вдова\n",
    "    if status == 2:\n",
    "        if debt == 1:\n",
    "            return 'должник - вдовец / вдова'\n",
    "    if status == 2:\n",
    "        if debt == 0:\n",
    "            return 'добросовестный - вдовец / вдова'\n",
    "    \n",
    "    # в разводе\n",
    "    if status == 3:\n",
    "        if debt == 1:\n",
    "            return 'должник - в разводе'\n",
    "    if status == 3:\n",
    "        if debt == 0:\n",
    "            return 'добросовестный - в разводе'\n",
    "        \n",
    "    # не женат / не замужем\n",
    "    if status == 4:\n",
    "        if debt == 1:\n",
    "            return 'должник - не женат / не замужем'\n",
    "    if status == 4:\n",
    "        if debt == 0:\n",
    "            return 'добросовестный - не женат / не замужем'\n",
    "    \n",
    "    \n",
    "# добавим новый столбец\n",
    "data['family_status_debt'] = data.apply(family_status_debt, axis=1)\n",
    "\n",
    "# выведем первые 5 строк таблицы, чтобы проверить новый столбец\n",
    "data.head()    "
   ]
  },
  {
   "cell_type": "code",
   "execution_count": 70,
   "id": "0c0b383b",
   "metadata": {},
   "outputs": [
    {
     "data": {
      "text/plain": [
       "женат / замужем          12339\n",
       "гражданский брак          4150\n",
       "не женат / не замужем     2810\n",
       "в разводе                 1195\n",
       "вдовец / вдова             959\n",
       "Name: family_status, dtype: int64"
      ]
     },
     "execution_count": 70,
     "metadata": {},
     "output_type": "execute_result"
    }
   ],
   "source": [
    "# подсчитаем число клиентов по категориям\n",
    "data['family_status'].value_counts()"
   ]
  },
  {
   "cell_type": "code",
   "execution_count": 71,
   "id": "786b0920",
   "metadata": {},
   "outputs": [
    {
     "data": {
      "text/plain": [
       "(array([0, 1, 2, 3, 4]),\n",
       " [Text(0, 0, 'женат / замужем'),\n",
       "  Text(1, 0, 'гражданский брак'),\n",
       "  Text(2, 0, 'не женат / не замужем'),\n",
       "  Text(3, 0, 'в разводе'),\n",
       "  Text(4, 0, 'вдовец / вдова')])"
      ]
     },
     "execution_count": 71,
     "metadata": {},
     "output_type": "execute_result"
    },
    {
     "data": {
      "image/png": "[encoded data removed]",
      "text/plain": [
       "<Figure size 432x288 with 1 Axes>"
      ]
     },
     "metadata": {
      "needs_background": "light"
     },
     "output_type": "display_data"
    }
   ],
   "source": [
    "# визуализируем данные\n",
    "sns.countplot('family_status',data=data,palette='winter_d', order = data['family_status'].value_counts().index)\n",
    "plt.xticks(rotation=90)"
   ]
  },
  {
   "cell_type": "code",
   "execution_count": 72,
   "id": "f44bc554",
   "metadata": {
    "scrolled": false
   },
   "outputs": [
    {
     "name": "stdout",
     "output_type": "stream",
     "text": [
      "Процент должников в браке:: 7.6%\n",
      "Процент должников в гражданском браке:: 9.3%\n",
      "Процент холостых должников:: 9.8%\n",
      "Процент должников в разводе: 7.1%\n",
      "Процент вдовствующих должников: 6.6%\n"
     ]
    }
   ],
   "source": [
    "# найдём процент должников\n",
    "\n",
    "# в браке\n",
    "debt_marriage = (data.loc[(data['family_status_debt'] == 'должник - в браке')].count().sum() / data.loc[(data['family_status'] == 'женат / замужем')].count().sum())\n",
    "print(f'Процент должников в браке:: {debt_marriage:.1%}')\n",
    "\n",
    "# в гражданском браке\n",
    "debt_civil_marriage = (data.loc[(data['family_status_debt'] == 'должник - в гражданском браке')].count().sum() / data.loc[(data['family_status'] == 'гражданский брак')].count().sum()) \n",
    "print(f'Процент должников в гражданском браке:: {debt_civil_marriage:.1%}')\n",
    "\n",
    "# холостые\n",
    "debt_single = (data.loc[(data['family_status_debt'] == 'должник - не женат / не замужем')].count().sum() / data.loc[(data['family_status'] == 'не женат / не замужем')].count().sum())\n",
    "print(f'Процент холостых должников:: {debt_single:.1%}')\n",
    "\n",
    "# в разводе\n",
    "debt_divorced = (data.loc[(data['family_status_debt'] == 'должник - в разводе')].count().sum() / data.loc[(data['family_status'] == 'в разводе')].count().sum())\n",
    "print(f'Процент должников в разводе: {debt_divorced:.1%}')\n",
    "\n",
    "# вдовец / вдова\n",
    "debt_widower = (data.loc[(data['family_status_debt'] == 'должник - вдовец / вдова')].count().sum() / data.loc[(data['family_status'] == 'вдовец / вдова')].count().sum()) \n",
    "print(f'Процент вдовствующих должников: {debt_widower:.1%}')"
   ]
  },
  {
   "cell_type": "code",
   "execution_count": 73,
   "id": "12fb1262",
   "metadata": {
    "scrolled": true
   },
   "outputs": [
    {
     "data": {
      "text/html": [
       "<div>\n",
       "<style scoped>\n",
       "    .dataframe tbody tr th:only-of-type {\n",
       "        vertical-align: middle;\n",
       "    }\n",
       "\n",
       "    .dataframe tbody tr th {\n",
       "        vertical-align: top;\n",
       "    }\n",
       "\n",
       "    .dataframe thead th {\n",
       "        text-align: right;\n",
       "    }\n",
       "</style>\n",
       "<table border=\"1\" class=\"dataframe\">\n",
       "  <thead>\n",
       "    <tr style=\"text-align: right;\">\n",
       "      <th></th>\n",
       "      <th>family_status_sum</th>\n",
       "      <th>family_status_count</th>\n",
       "      <th>family_status_percentage</th>\n",
       "    </tr>\n",
       "    <tr>\n",
       "      <th>family_status</th>\n",
       "      <th></th>\n",
       "      <th></th>\n",
       "      <th></th>\n",
       "    </tr>\n",
       "  </thead>\n",
       "  <tbody>\n",
       "    <tr>\n",
       "      <th>не женат / не замужем</th>\n",
       "      <td>274</td>\n",
       "      <td>2810</td>\n",
       "      <td>9.750890</td>\n",
       "    </tr>\n",
       "    <tr>\n",
       "      <th>гражданский брак</th>\n",
       "      <td>388</td>\n",
       "      <td>4150</td>\n",
       "      <td>9.349398</td>\n",
       "    </tr>\n",
       "    <tr>\n",
       "      <th>женат / замужем</th>\n",
       "      <td>931</td>\n",
       "      <td>12339</td>\n",
       "      <td>7.545182</td>\n",
       "    </tr>\n",
       "    <tr>\n",
       "      <th>в разводе</th>\n",
       "      <td>85</td>\n",
       "      <td>1195</td>\n",
       "      <td>7.112971</td>\n",
       "    </tr>\n",
       "    <tr>\n",
       "      <th>вдовец / вдова</th>\n",
       "      <td>63</td>\n",
       "      <td>959</td>\n",
       "      <td>6.569343</td>\n",
       "    </tr>\n",
       "  </tbody>\n",
       "</table>\n",
       "</div>"
      ],
      "text/plain": [
       "                       family_status_sum  family_status_count  \\\n",
       "family_status                                                   \n",
       "не женат / не замужем                274                 2810   \n",
       "гражданский брак                     388                 4150   \n",
       "женат / замужем                      931                12339   \n",
       "в разводе                             85                 1195   \n",
       "вдовец / вдова                        63                  959   \n",
       "\n",
       "                       family_status_percentage  \n",
       "family_status                                    \n",
       "не женат / не замужем                  9.750890  \n",
       "гражданский брак                       9.349398  \n",
       "женат / замужем                        7.545182  \n",
       "в разводе                              7.112971  \n",
       "вдовец / вдова                         6.569343  "
      ]
     },
     "execution_count": 73,
     "metadata": {},
     "output_type": "execute_result"
    }
   ],
   "source": [
    "# найдём средний процент должников в зависимости от количества детей\n",
    "debt_family_status = pd.DataFrame()\n",
    "debt_family_status['family_status_sum'] = data.groupby('family_status')['debt'].sum()\n",
    "debt_family_status['family_status_count'] = data.groupby('family_status')['debt'].count()\n",
    "debt_family_status['family_status_percentage'] = (debt_family_status['family_status_sum'] / debt_family_status['family_status_count']) * 100 \n",
    "debt_family_status.sort_values('family_status_percentage', ascending = False)"
   ]
  },
  {
   "cell_type": "markdown",
   "id": "33dfae0b",
   "metadata": {},
   "source": [
    "#### Вывод"
   ]
  },
  {
   "cell_type": "markdown",
   "id": "31eeaac1",
   "metadata": {},
   "source": [
    "По результатам исследования данной выборки можно сделать вывод, что семейный статус влияет на то - платит ли клиент по кредиту в срок или нет. Например, люди, официально состоящие в браке, вдовствующие или в разводе реже позволяют себе отнестись безответственно и просрочить выплату кредита. Можно предположить, что это связано с тем, что они имеют опыт совместного быта, опыт использования общего бюджета с другим человеком, да и чтобы взять кредит, то уже нужно спросить мнение другого человек. Как правило, у этой категории людей ещё есть дети и тоже отвественно подходят к таким вещам. Интересно, что люди, которые имели более негативный опыт в жизни подходят к выплате долга более ответственно, чем те, кто не был в браке или находится в браке.\n",
    "\n",
    "Больше всего задолжностей по кредиту имеют холостые люди, либо те, кто состоит в гражданском браке. \n",
    "\n",
    "Меньше ответственности в жизни - меньше ответственности к выплате кредитов вовремя. :)"
   ]
  },
  {
   "cell_type": "markdown",
   "id": "afa0919d",
   "metadata": {},
   "source": [
    "### Вопрос 3. Есть ли зависимость между уровнем дохода и возвратом кредита в срок?"
   ]
  },
  {
   "cell_type": "markdown",
   "id": "33acbdbc",
   "metadata": {
    "scrolled": true
   },
   "source": [
    "Ранее уже была проведена категоризация клиентов банка по уровню дохода."
   ]
  },
  {
   "cell_type": "code",
   "execution_count": 74,
   "id": "1f30246f",
   "metadata": {},
   "outputs": [
    {
     "data": {
      "text/html": [
       "<div>\n",
       "<style scoped>\n",
       "    .dataframe tbody tr th:only-of-type {\n",
       "        vertical-align: middle;\n",
       "    }\n",
       "\n",
       "    .dataframe tbody tr th {\n",
       "        vertical-align: top;\n",
       "    }\n",
       "\n",
       "    .dataframe thead th {\n",
       "        text-align: right;\n",
       "    }\n",
       "</style>\n",
       "<table border=\"1\" class=\"dataframe\">\n",
       "  <thead>\n",
       "    <tr style=\"text-align: right;\">\n",
       "      <th></th>\n",
       "      <th>children</th>\n",
       "      <th>days_employed</th>\n",
       "      <th>dob_years</th>\n",
       "      <th>education</th>\n",
       "      <th>education_id</th>\n",
       "      <th>family_status</th>\n",
       "      <th>family_status_id</th>\n",
       "      <th>gender</th>\n",
       "      <th>income_type</th>\n",
       "      <th>debt</th>\n",
       "      <th>total_income</th>\n",
       "      <th>purpose</th>\n",
       "      <th>total_income_category</th>\n",
       "      <th>purpose_category</th>\n",
       "      <th>children_category</th>\n",
       "      <th>children_and_debt</th>\n",
       "      <th>family_status_debt</th>\n",
       "      <th>income_category_debt</th>\n",
       "    </tr>\n",
       "  </thead>\n",
       "  <tbody>\n",
       "    <tr>\n",
       "      <th>0</th>\n",
       "      <td>1</td>\n",
       "      <td>351</td>\n",
       "      <td>42</td>\n",
       "      <td>высшее</td>\n",
       "      <td>0</td>\n",
       "      <td>женат / замужем</td>\n",
       "      <td>0</td>\n",
       "      <td>F</td>\n",
       "      <td>сотрудник</td>\n",
       "      <td>0</td>\n",
       "      <td>253875</td>\n",
       "      <td>покупка жилья</td>\n",
       "      <td>B</td>\n",
       "      <td>операции с недвижимостью</td>\n",
       "      <td>один или два ребёнка</td>\n",
       "      <td>добросовестный - один или два ребёнка</td>\n",
       "      <td>добросовестный - в браке</td>\n",
       "      <td>добросовестный - категория B</td>\n",
       "    </tr>\n",
       "    <tr>\n",
       "      <th>1</th>\n",
       "      <td>1</td>\n",
       "      <td>167</td>\n",
       "      <td>36</td>\n",
       "      <td>среднее</td>\n",
       "      <td>1</td>\n",
       "      <td>женат / замужем</td>\n",
       "      <td>0</td>\n",
       "      <td>F</td>\n",
       "      <td>сотрудник</td>\n",
       "      <td>0</td>\n",
       "      <td>112080</td>\n",
       "      <td>приобретение автомобиля</td>\n",
       "      <td>C</td>\n",
       "      <td>операции с автомобилем</td>\n",
       "      <td>один или два ребёнка</td>\n",
       "      <td>добросовестный - один или два ребёнка</td>\n",
       "      <td>добросовестный - в браке</td>\n",
       "      <td>добросовестный - категория C</td>\n",
       "    </tr>\n",
       "    <tr>\n",
       "      <th>2</th>\n",
       "      <td>0</td>\n",
       "      <td>234</td>\n",
       "      <td>33</td>\n",
       "      <td>среднее</td>\n",
       "      <td>1</td>\n",
       "      <td>женат / замужем</td>\n",
       "      <td>0</td>\n",
       "      <td>M</td>\n",
       "      <td>сотрудник</td>\n",
       "      <td>0</td>\n",
       "      <td>145885</td>\n",
       "      <td>покупка жилья</td>\n",
       "      <td>C</td>\n",
       "      <td>операции с недвижимостью</td>\n",
       "      <td>без детей</td>\n",
       "      <td>добросовестный - без детей</td>\n",
       "      <td>добросовестный - в браке</td>\n",
       "      <td>добросовестный - категория C</td>\n",
       "    </tr>\n",
       "    <tr>\n",
       "      <th>3</th>\n",
       "      <td>3</td>\n",
       "      <td>171</td>\n",
       "      <td>32</td>\n",
       "      <td>среднее</td>\n",
       "      <td>1</td>\n",
       "      <td>женат / замужем</td>\n",
       "      <td>0</td>\n",
       "      <td>M</td>\n",
       "      <td>сотрудник</td>\n",
       "      <td>0</td>\n",
       "      <td>267628</td>\n",
       "      <td>дополнительное образование</td>\n",
       "      <td>B</td>\n",
       "      <td>получение образования</td>\n",
       "      <td>многодетные</td>\n",
       "      <td>добросовестный - многодетный</td>\n",
       "      <td>добросовестный - в браке</td>\n",
       "      <td>добросовестный - категория B</td>\n",
       "    </tr>\n",
       "    <tr>\n",
       "      <th>4</th>\n",
       "      <td>0</td>\n",
       "      <td>14177</td>\n",
       "      <td>53</td>\n",
       "      <td>среднее</td>\n",
       "      <td>1</td>\n",
       "      <td>гражданский брак</td>\n",
       "      <td>1</td>\n",
       "      <td>F</td>\n",
       "      <td>пенсионер</td>\n",
       "      <td>0</td>\n",
       "      <td>158616</td>\n",
       "      <td>сыграть свадьбу</td>\n",
       "      <td>C</td>\n",
       "      <td>проведение свадьбы</td>\n",
       "      <td>без детей</td>\n",
       "      <td>добросовестный - без детей</td>\n",
       "      <td>добросовестный - в гражданском браке</td>\n",
       "      <td>добросовестный - категория C</td>\n",
       "    </tr>\n",
       "  </tbody>\n",
       "</table>\n",
       "</div>"
      ],
      "text/plain": [
       "   children  days_employed  dob_years education  education_id  \\\n",
       "0         1            351         42    высшее             0   \n",
       "1         1            167         36   среднее             1   \n",
       "2         0            234         33   среднее             1   \n",
       "3         3            171         32   среднее             1   \n",
       "4         0          14177         53   среднее             1   \n",
       "\n",
       "      family_status  family_status_id gender income_type  debt  total_income  \\\n",
       "0   женат / замужем                 0      F   сотрудник     0        253875   \n",
       "1   женат / замужем                 0      F   сотрудник     0        112080   \n",
       "2   женат / замужем                 0      M   сотрудник     0        145885   \n",
       "3   женат / замужем                 0      M   сотрудник     0        267628   \n",
       "4  гражданский брак                 1      F   пенсионер     0        158616   \n",
       "\n",
       "                      purpose total_income_category          purpose_category  \\\n",
       "0               покупка жилья                     B  операции с недвижимостью   \n",
       "1     приобретение автомобиля                     C    операции с автомобилем   \n",
       "2               покупка жилья                     C  операции с недвижимостью   \n",
       "3  дополнительное образование                     B     получение образования   \n",
       "4             сыграть свадьбу                     C        проведение свадьбы   \n",
       "\n",
       "      children_category                      children_and_debt  \\\n",
       "0  один или два ребёнка  добросовестный - один или два ребёнка   \n",
       "1  один или два ребёнка  добросовестный - один или два ребёнка   \n",
       "2             без детей             добросовестный - без детей   \n",
       "3           многодетные           добросовестный - многодетный   \n",
       "4             без детей             добросовестный - без детей   \n",
       "\n",
       "                     family_status_debt          income_category_debt  \n",
       "0              добросовестный - в браке  добросовестный - категория B  \n",
       "1              добросовестный - в браке  добросовестный - категория C  \n",
       "2              добросовестный - в браке  добросовестный - категория C  \n",
       "3              добросовестный - в браке  добросовестный - категория B  \n",
       "4  добросовестный - в гражданском браке  добросовестный - категория C  "
      ]
     },
     "execution_count": 74,
     "metadata": {},
     "output_type": "execute_result"
    }
   ],
   "source": [
    "# напишем функцию, разобьём на категории по платежеспособности и задолженности в зависимости от уровня дохода\n",
    "\n",
    "def income_category_debt(row):\n",
    "    income = row['total_income_category']\n",
    "    debt = row['debt']\n",
    "   \n",
    "    # категория дохода A\n",
    "    if income == 'А':\n",
    "        if debt == 1:\n",
    "            return 'должник - категория А'\n",
    "    if income == 'A':\n",
    "        if debt == 0:\n",
    "            return 'добросовестный - категория А'\n",
    "        \n",
    "    # категория дохода B\n",
    "    if income == 'B':\n",
    "        if debt == 1:\n",
    "            return 'должник - категория B'\n",
    "    if income == 'B':\n",
    "        if debt == 0:\n",
    "            return 'добросовестный - категория B'\n",
    "        \n",
    "    # категория дохода C\n",
    "    if income == 'C':\n",
    "        if debt == 1:\n",
    "            return 'должник - категория C'\n",
    "    if income == 'C':\n",
    "        if debt == 0:\n",
    "            return 'добросовестный - категория C'\n",
    "     \n",
    "    # категория дохода D\n",
    "    if income == 'D':\n",
    "        if debt == 1:\n",
    "            return 'должник - категория D'\n",
    "    if income == 'D':\n",
    "        if debt == 0:\n",
    "            return 'добросовестный - категория D'\n",
    "    \n",
    "    # категория дохода E\n",
    "    if income == 'E':\n",
    "        if debt == 1:\n",
    "            return 'должник - категория E'\n",
    "    if income == 'E':\n",
    "        if debt == 0:\n",
    "            return 'добросовестный - категория E'\n",
    "\n",
    "# добавим новый столбец\n",
    "data['income_category_debt'] = data.apply(income_category_debt, axis=1)\n",
    "\n",
    "# выведем первые 5 строк таблицы, чтобы проверить новый столбец\n",
    "data.head()    "
   ]
  },
  {
   "cell_type": "code",
   "execution_count": 75,
   "id": "3b1c73dc",
   "metadata": {
    "scrolled": true
   },
   "outputs": [
    {
     "data": {
      "text/plain": [
       "C    16016\n",
       "B     5040\n",
       "D      350\n",
       "A       25\n",
       "E       22\n",
       "Name: total_income_category, dtype: int64"
      ]
     },
     "execution_count": 75,
     "metadata": {},
     "output_type": "execute_result"
    }
   ],
   "source": [
    "# подсчитаем количество клиентов в каждой категории дохода \n",
    "data['total_income_category'].value_counts()"
   ]
  },
  {
   "cell_type": "code",
   "execution_count": 76,
   "id": "640d21dd",
   "metadata": {
    "scrolled": true
   },
   "outputs": [
    {
     "data": {
      "image/png": "[encoded data removed]",
      "text/plain": [
       "<Figure size 432x288 with 1 Axes>"
      ]
     },
     "metadata": {
      "needs_background": "light"
     },
     "output_type": "display_data"
    }
   ],
   "source": [
    "# визуализируем данные\n",
    "sns.countplot('total_income_category',data=data,palette='winter_d', order = data['total_income_category'].value_counts().index)\n",
    "plt.xticks(rotation=90);"
   ]
  },
  {
   "cell_type": "code",
   "execution_count": 77,
   "id": "bf084bdc",
   "metadata": {
    "scrolled": false
   },
   "outputs": [
    {
     "name": "stdout",
     "output_type": "stream",
     "text": [
      "Процент должников в категории дохода A: 0.0%\n",
      "Процент должников в категории дохода В: 7.1%\n",
      "Процент должников в категории дохода С: 8.5%\n",
      "Процент должников в категории дохода D: 6.0%\n",
      "Процент должников в категории дохода E: 8.8%\n"
     ]
    }
   ],
   "source": [
    "# категория дохода A\n",
    "category_A = (data.loc[(data['income_category_debt'] == 'должник - категория A')].count().sum() / data.loc[(data['total_income_category'] == 'A')].count().sum()) \n",
    "print(f'Процент должников в категории дохода A: {category_A:.1%}')\n",
    "\n",
    "# категория дохода B\n",
    "category_B = (data.loc[(data['income_category_debt'] == 'должник - категория B')].count().sum() / data.loc[(data['total_income_category'] == 'B')].count().sum()) \n",
    "print(f'Процент должников в категории дохода В: {category_B:.1%}')\n",
    "\n",
    "# категория дохода C\n",
    "category_C = (data.loc[(data['income_category_debt'] == 'должник - категория C')].count().sum() / data.loc[(data['total_income_category'] == 'C')].count().sum()) \n",
    "print(f'Процент должников в категории дохода С: {category_C:.1%}')\n",
    "\n",
    "# категория дохода D\n",
    "category_D = (data.loc[(data['income_category_debt'] == 'должник - категория D')].count().sum() / data.loc[(data['total_income_category'] == 'D')].count().sum()) \n",
    "print(f'Процент должников в категории дохода D: {category_D:.1%}')\n",
    "\n",
    "# категория дохода E\n",
    "category_E = (data.loc[(data['income_category_debt'] == 'должник - категория E')].count().sum() / data.loc[(data['total_income_category'] == 'E')].count().sum()) \n",
    "print(f'Процент должников в категории дохода E: {category_E:.1%}')"
   ]
  },
  {
   "cell_type": "code",
   "execution_count": 78,
   "id": "8fa791c9",
   "metadata": {},
   "outputs": [
    {
     "data": {
      "text/html": [
       "<div>\n",
       "<style scoped>\n",
       "    .dataframe tbody tr th:only-of-type {\n",
       "        vertical-align: middle;\n",
       "    }\n",
       "\n",
       "    .dataframe tbody tr th {\n",
       "        vertical-align: top;\n",
       "    }\n",
       "\n",
       "    .dataframe thead th {\n",
       "        text-align: right;\n",
       "    }\n",
       "</style>\n",
       "<table border=\"1\" class=\"dataframe\">\n",
       "  <thead>\n",
       "    <tr style=\"text-align: right;\">\n",
       "      <th></th>\n",
       "      <th>total_income_category_sum</th>\n",
       "      <th>total_income_category_count</th>\n",
       "      <th>total_income_category_percentage</th>\n",
       "    </tr>\n",
       "    <tr>\n",
       "      <th>total_income_category</th>\n",
       "      <th></th>\n",
       "      <th></th>\n",
       "      <th></th>\n",
       "    </tr>\n",
       "  </thead>\n",
       "  <tbody>\n",
       "    <tr>\n",
       "      <th>E</th>\n",
       "      <td>2</td>\n",
       "      <td>22</td>\n",
       "      <td>9.090909</td>\n",
       "    </tr>\n",
       "    <tr>\n",
       "      <th>C</th>\n",
       "      <td>1360</td>\n",
       "      <td>16016</td>\n",
       "      <td>8.491508</td>\n",
       "    </tr>\n",
       "    <tr>\n",
       "      <th>A</th>\n",
       "      <td>2</td>\n",
       "      <td>25</td>\n",
       "      <td>8.000000</td>\n",
       "    </tr>\n",
       "    <tr>\n",
       "      <th>B</th>\n",
       "      <td>356</td>\n",
       "      <td>5040</td>\n",
       "      <td>7.063492</td>\n",
       "    </tr>\n",
       "    <tr>\n",
       "      <th>D</th>\n",
       "      <td>21</td>\n",
       "      <td>350</td>\n",
       "      <td>6.000000</td>\n",
       "    </tr>\n",
       "  </tbody>\n",
       "</table>\n",
       "</div>"
      ],
      "text/plain": [
       "                       total_income_category_sum  total_income_category_count  \\\n",
       "total_income_category                                                           \n",
       "E                                              2                           22   \n",
       "C                                           1360                        16016   \n",
       "A                                              2                           25   \n",
       "B                                            356                         5040   \n",
       "D                                             21                          350   \n",
       "\n",
       "                       total_income_category_percentage  \n",
       "total_income_category                                    \n",
       "E                                              9.090909  \n",
       "C                                              8.491508  \n",
       "A                                              8.000000  \n",
       "B                                              7.063492  \n",
       "D                                              6.000000  "
      ]
     },
     "execution_count": 78,
     "metadata": {},
     "output_type": "execute_result"
    }
   ],
   "source": [
    "# найдём средний процент должников в зависимости от категории дохода\n",
    "income_category_debt = pd.DataFrame()\n",
    "income_category_debt['total_income_category_sum'] = data.groupby('total_income_category')['debt'].sum()\n",
    "income_category_debt['total_income_category_count'] = data.groupby('total_income_category')['debt'].count()\n",
    "income_category_debt['total_income_category_percentage'] = (income_category_debt['total_income_category_sum'] / income_category_debt['total_income_category_count']) * 100 \n",
    "income_category_debt.sort_values('total_income_category_percentage', ascending = False)"
   ]
  },
  {
   "cell_type": "markdown",
   "id": "3c6a65f9",
   "metadata": {},
   "source": [
    "#### Вывод"
   ]
  },
  {
   "cell_type": "markdown",
   "id": "05d5db39",
   "metadata": {},
   "source": [
    "В данной выборке больше всего кредиты берут люди с категорией дохода С. Месячный заработок от 50 001 до 200 000 рублей. \n",
    "\n",
    "Зависимость трудно определить, потому что очень много значений попадает именно в  эту категорию. Можно лишь сказать, что просрочка по этим кредитам выше у людей с другими категориями дохода. Более бедные с категорией дохода E стараются жить по средствам, не делать новых долгов. Более богатые имеют больше возможностей выплачивать кредит в срок.\n",
    "\n",
    "Богатые люди с категорией дохода А всегда возвращают кредит вовремя."
   ]
  },
  {
   "cell_type": "markdown",
   "id": "d042bd49",
   "metadata": {},
   "source": [
    "### Вопрос 4. Как разные цели кредита влияют на его возврат в срок?"
   ]
  },
  {
   "cell_type": "code",
   "execution_count": 79,
   "id": "13d6404d",
   "metadata": {},
   "outputs": [
    {
     "data": {
      "text/html": [
       "<div>\n",
       "<style scoped>\n",
       "    .dataframe tbody tr th:only-of-type {\n",
       "        vertical-align: middle;\n",
       "    }\n",
       "\n",
       "    .dataframe tbody tr th {\n",
       "        vertical-align: top;\n",
       "    }\n",
       "\n",
       "    .dataframe thead th {\n",
       "        text-align: right;\n",
       "    }\n",
       "</style>\n",
       "<table border=\"1\" class=\"dataframe\">\n",
       "  <thead>\n",
       "    <tr style=\"text-align: right;\">\n",
       "      <th></th>\n",
       "      <th>children</th>\n",
       "      <th>days_employed</th>\n",
       "      <th>dob_years</th>\n",
       "      <th>education</th>\n",
       "      <th>education_id</th>\n",
       "      <th>family_status</th>\n",
       "      <th>family_status_id</th>\n",
       "      <th>gender</th>\n",
       "      <th>income_type</th>\n",
       "      <th>debt</th>\n",
       "      <th>total_income</th>\n",
       "      <th>purpose</th>\n",
       "      <th>total_income_category</th>\n",
       "      <th>purpose_category</th>\n",
       "      <th>children_category</th>\n",
       "      <th>children_and_debt</th>\n",
       "      <th>family_status_debt</th>\n",
       "      <th>income_category_debt</th>\n",
       "      <th>purpose_category_debt</th>\n",
       "    </tr>\n",
       "  </thead>\n",
       "  <tbody>\n",
       "    <tr>\n",
       "      <th>0</th>\n",
       "      <td>1</td>\n",
       "      <td>351</td>\n",
       "      <td>42</td>\n",
       "      <td>высшее</td>\n",
       "      <td>0</td>\n",
       "      <td>женат / замужем</td>\n",
       "      <td>0</td>\n",
       "      <td>F</td>\n",
       "      <td>сотрудник</td>\n",
       "      <td>0</td>\n",
       "      <td>253875</td>\n",
       "      <td>покупка жилья</td>\n",
       "      <td>B</td>\n",
       "      <td>операции с недвижимостью</td>\n",
       "      <td>один или два ребёнка</td>\n",
       "      <td>добросовестный - один или два ребёнка</td>\n",
       "      <td>добросовестный - в браке</td>\n",
       "      <td>добросовестный - категория B</td>\n",
       "      <td>добросовестный - операции с автомобилем</td>\n",
       "    </tr>\n",
       "    <tr>\n",
       "      <th>1</th>\n",
       "      <td>1</td>\n",
       "      <td>167</td>\n",
       "      <td>36</td>\n",
       "      <td>среднее</td>\n",
       "      <td>1</td>\n",
       "      <td>женат / замужем</td>\n",
       "      <td>0</td>\n",
       "      <td>F</td>\n",
       "      <td>сотрудник</td>\n",
       "      <td>0</td>\n",
       "      <td>112080</td>\n",
       "      <td>приобретение автомобиля</td>\n",
       "      <td>C</td>\n",
       "      <td>операции с автомобилем</td>\n",
       "      <td>один или два ребёнка</td>\n",
       "      <td>добросовестный - один или два ребёнка</td>\n",
       "      <td>добросовестный - в браке</td>\n",
       "      <td>добросовестный - категория C</td>\n",
       "      <td>добросовестный - операции с автомобилем</td>\n",
       "    </tr>\n",
       "    <tr>\n",
       "      <th>2</th>\n",
       "      <td>0</td>\n",
       "      <td>234</td>\n",
       "      <td>33</td>\n",
       "      <td>среднее</td>\n",
       "      <td>1</td>\n",
       "      <td>женат / замужем</td>\n",
       "      <td>0</td>\n",
       "      <td>M</td>\n",
       "      <td>сотрудник</td>\n",
       "      <td>0</td>\n",
       "      <td>145885</td>\n",
       "      <td>покупка жилья</td>\n",
       "      <td>C</td>\n",
       "      <td>операции с недвижимостью</td>\n",
       "      <td>без детей</td>\n",
       "      <td>добросовестный - без детей</td>\n",
       "      <td>добросовестный - в браке</td>\n",
       "      <td>добросовестный - категория C</td>\n",
       "      <td>добросовестный - операции с автомобилем</td>\n",
       "    </tr>\n",
       "    <tr>\n",
       "      <th>3</th>\n",
       "      <td>3</td>\n",
       "      <td>171</td>\n",
       "      <td>32</td>\n",
       "      <td>среднее</td>\n",
       "      <td>1</td>\n",
       "      <td>женат / замужем</td>\n",
       "      <td>0</td>\n",
       "      <td>M</td>\n",
       "      <td>сотрудник</td>\n",
       "      <td>0</td>\n",
       "      <td>267628</td>\n",
       "      <td>дополнительное образование</td>\n",
       "      <td>B</td>\n",
       "      <td>получение образования</td>\n",
       "      <td>многодетные</td>\n",
       "      <td>добросовестный - многодетный</td>\n",
       "      <td>добросовестный - в браке</td>\n",
       "      <td>добросовестный - категория B</td>\n",
       "      <td>добросовестный - получение образования</td>\n",
       "    </tr>\n",
       "    <tr>\n",
       "      <th>4</th>\n",
       "      <td>0</td>\n",
       "      <td>14177</td>\n",
       "      <td>53</td>\n",
       "      <td>среднее</td>\n",
       "      <td>1</td>\n",
       "      <td>гражданский брак</td>\n",
       "      <td>1</td>\n",
       "      <td>F</td>\n",
       "      <td>пенсионер</td>\n",
       "      <td>0</td>\n",
       "      <td>158616</td>\n",
       "      <td>сыграть свадьбу</td>\n",
       "      <td>C</td>\n",
       "      <td>проведение свадьбы</td>\n",
       "      <td>без детей</td>\n",
       "      <td>добросовестный - без детей</td>\n",
       "      <td>добросовестный - в гражданском браке</td>\n",
       "      <td>добросовестный - категория C</td>\n",
       "      <td>добросовестный - проведение свадьбы</td>\n",
       "    </tr>\n",
       "  </tbody>\n",
       "</table>\n",
       "</div>"
      ],
      "text/plain": [
       "   children  days_employed  dob_years education  education_id  \\\n",
       "0         1            351         42    высшее             0   \n",
       "1         1            167         36   среднее             1   \n",
       "2         0            234         33   среднее             1   \n",
       "3         3            171         32   среднее             1   \n",
       "4         0          14177         53   среднее             1   \n",
       "\n",
       "      family_status  family_status_id gender income_type  debt  total_income  \\\n",
       "0   женат / замужем                 0      F   сотрудник     0        253875   \n",
       "1   женат / замужем                 0      F   сотрудник     0        112080   \n",
       "2   женат / замужем                 0      M   сотрудник     0        145885   \n",
       "3   женат / замужем                 0      M   сотрудник     0        267628   \n",
       "4  гражданский брак                 1      F   пенсионер     0        158616   \n",
       "\n",
       "                      purpose total_income_category          purpose_category  \\\n",
       "0               покупка жилья                     B  операции с недвижимостью   \n",
       "1     приобретение автомобиля                     C    операции с автомобилем   \n",
       "2               покупка жилья                     C  операции с недвижимостью   \n",
       "3  дополнительное образование                     B     получение образования   \n",
       "4             сыграть свадьбу                     C        проведение свадьбы   \n",
       "\n",
       "      children_category                      children_and_debt  \\\n",
       "0  один или два ребёнка  добросовестный - один или два ребёнка   \n",
       "1  один или два ребёнка  добросовестный - один или два ребёнка   \n",
       "2             без детей             добросовестный - без детей   \n",
       "3           многодетные           добросовестный - многодетный   \n",
       "4             без детей             добросовестный - без детей   \n",
       "\n",
       "                     family_status_debt          income_category_debt  \\\n",
       "0              добросовестный - в браке  добросовестный - категория B   \n",
       "1              добросовестный - в браке  добросовестный - категория C   \n",
       "2              добросовестный - в браке  добросовестный - категория C   \n",
       "3              добросовестный - в браке  добросовестный - категория B   \n",
       "4  добросовестный - в гражданском браке  добросовестный - категория C   \n",
       "\n",
       "                     purpose_category_debt  \n",
       "0  добросовестный - операции с автомобилем  \n",
       "1  добросовестный - операции с автомобилем  \n",
       "2  добросовестный - операции с автомобилем  \n",
       "3   добросовестный - получение образования  \n",
       "4      добросовестный - проведение свадьбы  "
      ]
     },
     "execution_count": 79,
     "metadata": {},
     "output_type": "execute_result"
    }
   ],
   "source": [
    "# напишем функцию, которая разбивает на категории по платежеспособности и задолженности в зависимости от уровня дохода\n",
    "\n",
    "def purpose_category_debt(row):\n",
    "    purpose = row['purpose_category']\n",
    "    debt = row['debt']\n",
    "   \n",
    "    # автомобиль\n",
    "    if purpose == 'операции с автомобилем':\n",
    "        if debt == 1:\n",
    "            return 'должник - операции с автомобилем'\n",
    "    if purpose == 'операции с автомобилем':\n",
    "        if debt == 0:\n",
    "            return 'добросовестный - операции с автомобилем'\n",
    "        \n",
    "    # недвижимость\n",
    "    if purpose == 'операции с недвижимостью':\n",
    "        if debt == 1:\n",
    "            return 'должник - операции с недвижимостью'\n",
    "    if purpose == 'операции с недвижимостью':\n",
    "        if debt == 0:\n",
    "            return 'добросовестный - операции с автомобилем'\n",
    "        \n",
    "    # свадьба\n",
    "    if purpose == 'проведение свадьбы':\n",
    "        if debt == 1:\n",
    "            return 'должник - проведение свадьбы'\n",
    "    if purpose == 'проведение свадьбы':\n",
    "        if debt == 0:\n",
    "            return 'добросовестный - проведение свадьбы'\n",
    "        \n",
    "    # образование\n",
    "    if purpose == 'получение образования':\n",
    "        if debt == 1:\n",
    "            return 'должник - получение образования'\n",
    "    if purpose == 'получение образования':\n",
    "        if debt == 0:\n",
    "            return 'добросовестный - получение образования'\n",
    "        \n",
    "# добавим новый столбец\n",
    "data['purpose_category_debt'] = data.apply(purpose_category_debt, axis=1)\n",
    "\n",
    "# выведем первые 5 строк таблицы, чтобы проверить новый столбец\n",
    "data.head()"
   ]
  },
  {
   "cell_type": "code",
   "execution_count": 80,
   "id": "c2d121a0",
   "metadata": {},
   "outputs": [
    {
     "data": {
      "text/plain": [
       "операции с недвижимостью    4460\n",
       "операции с автомобилем      4306\n",
       "получение образования       4013\n",
       "проведение свадьбы          2324\n",
       "Name: purpose_category, dtype: int64"
      ]
     },
     "execution_count": 80,
     "metadata": {},
     "output_type": "execute_result"
    }
   ],
   "source": [
    "# подсчитаем количество заявок по каждой категории\n",
    "data['purpose_category'].value_counts()"
   ]
  },
  {
   "cell_type": "code",
   "execution_count": 81,
   "id": "276273bd",
   "metadata": {},
   "outputs": [
    {
     "data": {
      "image/png": "[encoded data removed]",
      "text/plain": [
       "<Figure size 432x288 with 1 Axes>"
      ]
     },
     "metadata": {
      "needs_background": "light"
     },
     "output_type": "display_data"
    }
   ],
   "source": [
    "# визуализируем данные\n",
    "sns.countplot('purpose_category',data=data,palette='winter_d', order = data['purpose_category'].value_counts().index)\n",
    "plt.xticks(rotation=90);"
   ]
  },
  {
   "cell_type": "code",
   "execution_count": 82,
   "id": "930f3231",
   "metadata": {
    "scrolled": true
   },
   "outputs": [
    {
     "name": "stdout",
     "output_type": "stream",
     "text": [
      "Процент должников в операциях с автомобилями: 9.4%\n",
      "Процент должников в операциях с недвижимостью: 6.9%\n",
      "Процент должников за проведение свадьбы: 8.0%\n",
      "Процент должников за получение образования: 9.2%\n"
     ]
    }
   ],
   "source": [
    "# найдём процент должников\n",
    "\n",
    "# автомобиль\n",
    "car_debt = (data.loc[(data['purpose_category_debt'] == 'должник - операции с автомобилем')].count().sum() / data.loc[(data['purpose_category'] == 'операции с автомобилем')].count().sum()) \n",
    "print(f'Процент должников в операциях с автомобилями: {car_debt:.1%}')\n",
    "\n",
    "# недвижимость\n",
    "realty_debt = (data.loc[(data['purpose_category_debt'] == 'должник - операции с недвижимостью')].count().sum() / data.loc[(data['purpose_category'] == 'операции с недвижимостью')].count().sum()) \n",
    "print(f'Процент должников в операциях с недвижимостью: {realty_debt:.1%}')\n",
    "\n",
    "# свадьба\n",
    "wedding_debt = (data.loc[(data['purpose_category_debt'] == 'должник - проведение свадьбы')].count().sum() / data.loc[(data['purpose_category'] == 'проведение свадьбы')].count().sum()) \n",
    "print(f'Процент должников за проведение свадьбы: {wedding_debt:.1%}')\n",
    "\n",
    "# образование\n",
    "education_debt = (data.loc[(data['purpose_category_debt'] == 'должник - получение образования')].count().sum() / data.loc[(data['purpose_category'] == 'получение образования')].count().sum()) \n",
    "print(f'Процент должников за получение образования: {education_debt:.1%}')"
   ]
  },
  {
   "cell_type": "code",
   "execution_count": 83,
   "id": "54c76c7b",
   "metadata": {
    "scrolled": true
   },
   "outputs": [
    {
     "data": {
      "text/html": [
       "<div>\n",
       "<style scoped>\n",
       "    .dataframe tbody tr th:only-of-type {\n",
       "        vertical-align: middle;\n",
       "    }\n",
       "\n",
       "    .dataframe tbody tr th {\n",
       "        vertical-align: top;\n",
       "    }\n",
       "\n",
       "    .dataframe thead th {\n",
       "        text-align: right;\n",
       "    }\n",
       "</style>\n",
       "<table border=\"1\" class=\"dataframe\">\n",
       "  <thead>\n",
       "    <tr style=\"text-align: right;\">\n",
       "      <th></th>\n",
       "      <th>purpose_category_sum</th>\n",
       "      <th>purpose_category_count</th>\n",
       "      <th>purpose_category_percentage</th>\n",
       "    </tr>\n",
       "    <tr>\n",
       "      <th>purpose_category</th>\n",
       "      <th></th>\n",
       "      <th></th>\n",
       "      <th></th>\n",
       "    </tr>\n",
       "  </thead>\n",
       "  <tbody>\n",
       "    <tr>\n",
       "      <th>операции с автомобилем</th>\n",
       "      <td>403</td>\n",
       "      <td>4306</td>\n",
       "      <td>9.359034</td>\n",
       "    </tr>\n",
       "    <tr>\n",
       "      <th>получение образования</th>\n",
       "      <td>370</td>\n",
       "      <td>4013</td>\n",
       "      <td>9.220035</td>\n",
       "    </tr>\n",
       "    <tr>\n",
       "      <th>проведение свадьбы</th>\n",
       "      <td>186</td>\n",
       "      <td>2324</td>\n",
       "      <td>8.003442</td>\n",
       "    </tr>\n",
       "    <tr>\n",
       "      <th>операции с недвижимостью</th>\n",
       "      <td>308</td>\n",
       "      <td>4460</td>\n",
       "      <td>6.905830</td>\n",
       "    </tr>\n",
       "  </tbody>\n",
       "</table>\n",
       "</div>"
      ],
      "text/plain": [
       "                          purpose_category_sum  purpose_category_count  \\\n",
       "purpose_category                                                         \n",
       "операции с автомобилем                     403                    4306   \n",
       "получение образования                      370                    4013   \n",
       "проведение свадьбы                         186                    2324   \n",
       "операции с недвижимостью                   308                    4460   \n",
       "\n",
       "                          purpose_category_percentage  \n",
       "purpose_category                                       \n",
       "операции с автомобилем                       9.359034  \n",
       "получение образования                        9.220035  \n",
       "проведение свадьбы                           8.003442  \n",
       "операции с недвижимостью                     6.905830  "
      ]
     },
     "execution_count": 83,
     "metadata": {},
     "output_type": "execute_result"
    }
   ],
   "source": [
    "# найдём средний процент должников в зависимости от цели кредита\n",
    "purpose_category_debt = pd.DataFrame()\n",
    "purpose_category_debt['purpose_category_sum'] = data.groupby('purpose_category')['debt'].sum()\n",
    "purpose_category_debt['purpose_category_count'] = data.groupby('purpose_category')['debt'].count()\n",
    "purpose_category_debt['purpose_category_percentage'] = (purpose_category_debt['purpose_category_sum'] / purpose_category_debt['purpose_category_count']) * 100 \n",
    "purpose_category_debt.sort_values('purpose_category_percentage', ascending = False)"
   ]
  },
  {
   "cell_type": "markdown",
   "id": "9a28d7f6",
   "metadata": {},
   "source": [
    "#### Вывод"
   ]
  },
  {
   "cell_type": "markdown",
   "id": "2861ae85",
   "metadata": {},
   "source": [
    "По результатам исследования данной выборки мы видим, что чаще всего люди берут кредиты на недвижимость. Улучшение жилищных условий очень актуальная тема для всех слоёв населения. Банки строго регулируют кому выдавать кредит, иногда даже применяют возможности искусственного интеллекта для составления портрета клиента и рисков работы с ним. В связи с чем, просрочка по ипотечному кредита самая низкая из представленных категорий. Реже всего берут кредиты на свадьбы, выплаты по кредитам взятых на эту цель совершают довольно исправно.\n",
    "\n",
    "Больше всего просроченных кредитов приходится на операции с автомобилями и на получение образования. Можно предположить, что без автомобиля сейчас никуда, с его приобретением появляется больше расходов, включая амортизацию самого транспортного средства.\n",
    "Люди получают образования для повышения уровня своего дохода и своей жизни, поэтому временно могут испытывать финансовые трудности во время обучения."
   ]
  },
  {
   "cell_type": "markdown",
   "id": "4c4bf917",
   "metadata": {},
   "source": [
    "## Общий вывод"
   ]
  },
  {
   "cell_type": "markdown",
   "id": "43d02908",
   "metadata": {},
   "source": [
    "В общем поставленная задача выполнена. В ходе процесса мы провели обзор и предобработку данных. Поменяли в трёх столбцах типы - для лучшей наглядности и более быстрой обработки. Удалили дубликаты, ошибки в регистре написания, применяли лемматизацию и категоризации по количеству детей, уровню дохода и цели получения кредита. После подготовки данных, сделали сводные таблицы, использовали функцию и графики для ответа на все 4 поставленных вопроса. \n",
    "\n",
    "Были выявлены следующие закономерности в просрочках по кредитам:\n",
    "\n",
    "* _Наличие детей_ - по результатам исследования является скорее минусом, так как в случае возникновения финансовых проблем клиент предпочтёт потратить средства на нужды своей семьи.\n",
    "* _Семейное положение_ - клиенты, состоящие в официальном браке или состоявшие в нем раньше более ответственные. Холостые и люди, живущие в гражданском браке чаще имеют задолженности по кредитам.\n",
    "* _Уровень достатка_ - клиенты с доходом от 50 001 до 200 000 рублей в месяц чаще остальных берут кредиты, однако выплачивают их не очень исправно. Клиенты с низким уровнем дохода имеют меньше просрочек по выплатам. \n",
    "* _Цель кредита_ - больше всего пользуется спросом кредит для операций с недвижимостью. По этой цели так же и меньше всего просрочек с выплатами. Можно предположить, что вопрос улучшения желищных условий действительно важен для людей. К тому же банки тщательнее контролируют выдачу таких кредитов: тщательнее проверяет клиентов, страхует жизнь заёмщиков, если что, то недвижимость может учти с аукциона и банк не потеряет деньги. \n",
    "\n",
    "По результатам изучения предоставленных банком данных можно сделать вывод, что все изученные факторы являются важными в оценке рисков и принятии решений при выдаче кредита. \n",
    "\n",
    "Можно утвержать, что чаще всего кредитные услугами пользуются люди со средним достатком с целью проведения операций с недвижимостью, покупки автомобиля или получения образования, не состоящие в официальном браке и не имеющие детей. Самыми надежными клиентами являются люди состоящие в официальном браке (ныне или ранее), без детей, с низким или чуть выше среднего уровнем достатка и целью получения кредита на недвижимость. Следует быть аккуратнее с холостыми, либо состоящими в гражданском браке людьми, со средним уровнем дохода, с детьми и берущие кредит с целью покупки автомобиля или получения образования.\n",
    "\n"
   ]
  }
 ],
 "metadata": {
  "ExecuteTimeLog": [
   {
    "duration": 102,
    "start_time": "2022-02-06T09:39:34.401Z"
   },
   {
    "duration": 743,
    "start_time": "2022-02-06T09:42:22.763Z"
   },
   {
    "duration": 3,
    "start_time": "2022-02-06T09:42:52.668Z"
   },
   {
    "duration": 6,
    "start_time": "2022-02-06T09:42:58.295Z"
   },
   {
    "duration": 111,
    "start_time": "2022-02-06T09:48:19.214Z"
   },
   {
    "duration": 1476,
    "start_time": "2022-02-06T09:56:20.008Z"
   },
   {
    "duration": 76,
    "start_time": "2022-02-06T09:56:27.920Z"
   },
   {
    "duration": 16,
    "start_time": "2022-02-06T09:58:11.532Z"
   },
   {
    "duration": 4,
    "start_time": "2022-02-06T09:59:23.920Z"
   },
   {
    "duration": 81,
    "start_time": "2022-02-06T10:06:39.796Z"
   },
   {
    "duration": 77,
    "start_time": "2022-02-06T10:15:14.431Z"
   },
   {
    "duration": 15,
    "start_time": "2022-02-06T10:15:18.279Z"
   },
   {
    "duration": 297,
    "start_time": "2022-02-06T10:17:25.820Z"
   },
   {
    "duration": 20,
    "start_time": "2022-02-06T10:41:41.398Z"
   },
   {
    "duration": 19,
    "start_time": "2022-02-06T10:41:55.291Z"
   },
   {
    "duration": 34,
    "start_time": "2022-02-06T10:42:05.583Z"
   },
   {
    "duration": 12,
    "start_time": "2022-02-06T10:42:21.363Z"
   },
   {
    "duration": 99,
    "start_time": "2022-02-06T10:46:39.937Z"
   },
   {
    "duration": 561,
    "start_time": "2022-02-06T10:46:55.474Z"
   },
   {
    "duration": 6,
    "start_time": "2022-02-06T10:47:06.645Z"
   },
   {
    "duration": 7,
    "start_time": "2022-02-06T10:49:27.013Z"
   },
   {
    "duration": 6,
    "start_time": "2022-02-06T10:49:58.986Z"
   },
   {
    "duration": 7,
    "start_time": "2022-02-06T10:50:17.518Z"
   },
   {
    "duration": 8,
    "start_time": "2022-02-06T10:50:43.919Z"
   },
   {
    "duration": 6,
    "start_time": "2022-02-06T10:51:39.483Z"
   },
   {
    "duration": 6,
    "start_time": "2022-02-06T10:52:14.059Z"
   },
   {
    "duration": 8,
    "start_time": "2022-02-06T10:52:35.987Z"
   },
   {
    "duration": 8,
    "start_time": "2022-02-06T10:52:45.299Z"
   },
   {
    "duration": 8,
    "start_time": "2022-02-06T10:52:56.375Z"
   },
   {
    "duration": 12,
    "start_time": "2022-02-06T10:55:30.353Z"
   },
   {
    "duration": 16,
    "start_time": "2022-02-06T10:55:51.124Z"
   },
   {
    "duration": 6,
    "start_time": "2022-02-06T10:55:56.845Z"
   },
   {
    "duration": 17,
    "start_time": "2022-02-06T10:55:58.497Z"
   },
   {
    "duration": 40,
    "start_time": "2022-02-06T10:56:23.873Z"
   },
   {
    "duration": 256,
    "start_time": "2022-02-06T10:59:35.199Z"
   },
   {
    "duration": 13,
    "start_time": "2022-02-06T10:59:39.014Z"
   },
   {
    "duration": 7,
    "start_time": "2022-02-06T11:00:01.239Z"
   },
   {
    "duration": 6,
    "start_time": "2022-02-06T11:02:23.152Z"
   },
   {
    "duration": 8,
    "start_time": "2022-02-06T11:02:43.503Z"
   },
   {
    "duration": 6,
    "start_time": "2022-02-06T11:03:09.932Z"
   },
   {
    "duration": 6,
    "start_time": "2022-02-06T11:03:32.572Z"
   },
   {
    "duration": 104,
    "start_time": "2022-02-06T11:06:39.669Z"
   },
   {
    "duration": 96,
    "start_time": "2022-02-06T11:06:45.117Z"
   },
   {
    "duration": 7,
    "start_time": "2022-02-06T11:06:51.545Z"
   },
   {
    "duration": 7,
    "start_time": "2022-02-06T11:07:58.425Z"
   },
   {
    "duration": 434,
    "start_time": "2022-02-06T16:18:41.907Z"
   },
   {
    "duration": 1513,
    "start_time": "2022-02-06T16:19:10.305Z"
   },
   {
    "duration": 18,
    "start_time": "2022-02-06T16:19:14.509Z"
   },
   {
    "duration": 8,
    "start_time": "2022-02-06T16:19:16.733Z"
   },
   {
    "duration": 6,
    "start_time": "2022-02-06T16:19:19.029Z"
   },
   {
    "duration": 17,
    "start_time": "2022-02-06T16:26:56.248Z"
   },
   {
    "duration": 28,
    "start_time": "2022-02-06T16:27:14.273Z"
   },
   {
    "duration": 38,
    "start_time": "2022-02-06T16:29:36.688Z"
   },
   {
    "duration": 6,
    "start_time": "2022-02-06T16:31:02.971Z"
   },
   {
    "duration": 4,
    "start_time": "2022-02-06T16:32:50.236Z"
   },
   {
    "duration": 5,
    "start_time": "2022-02-06T16:32:52.903Z"
   },
   {
    "duration": 5,
    "start_time": "2022-02-06T16:32:54.523Z"
   },
   {
    "duration": 6,
    "start_time": "2022-02-06T16:33:25.588Z"
   },
   {
    "duration": 6,
    "start_time": "2022-02-06T16:36:57.766Z"
   },
   {
    "duration": 6,
    "start_time": "2022-02-06T16:38:36.130Z"
   },
   {
    "duration": 3,
    "start_time": "2022-02-06T16:39:04.838Z"
   },
   {
    "duration": 3,
    "start_time": "2022-02-06T16:39:07.166Z"
   },
   {
    "duration": 6,
    "start_time": "2022-02-06T16:39:12.130Z"
   },
   {
    "duration": 6,
    "start_time": "2022-02-06T16:40:36.223Z"
   },
   {
    "duration": 7,
    "start_time": "2022-02-06T16:41:40.971Z"
   },
   {
    "duration": 589,
    "start_time": "2022-02-06T16:43:04.735Z"
   },
   {
    "duration": 18,
    "start_time": "2022-02-06T16:43:21.128Z"
   },
   {
    "duration": 27,
    "start_time": "2022-02-06T16:44:25.936Z"
   },
   {
    "duration": 78,
    "start_time": "2022-02-06T16:48:11.058Z"
   },
   {
    "duration": 16,
    "start_time": "2022-02-06T16:48:20.342Z"
   },
   {
    "duration": 395,
    "start_time": "2022-02-06T17:07:16.558Z"
   },
   {
    "duration": 6618,
    "start_time": "2022-02-06T17:07:22.796Z"
   },
   {
    "duration": 298,
    "start_time": "2022-02-06T17:07:29.124Z"
   },
   {
    "duration": 99,
    "start_time": "2022-02-06T17:08:55.255Z"
   },
   {
    "duration": 6271,
    "start_time": "2022-02-06T17:09:01.167Z"
   },
   {
    "duration": 217,
    "start_time": "2022-02-06T17:09:07.226Z"
   },
   {
    "duration": 6,
    "start_time": "2022-02-06T17:09:24.555Z"
   },
   {
    "duration": 5,
    "start_time": "2022-02-06T17:09:27.343Z"
   },
   {
    "duration": 6,
    "start_time": "2022-02-06T17:09:28.848Z"
   },
   {
    "duration": 5,
    "start_time": "2022-02-06T17:10:04.659Z"
   },
   {
    "duration": 8,
    "start_time": "2022-02-06T17:10:13.923Z"
   },
   {
    "duration": 4,
    "start_time": "2022-02-06T17:10:23.992Z"
   },
   {
    "duration": 6,
    "start_time": "2022-02-06T17:10:29.532Z"
   },
   {
    "duration": 8,
    "start_time": "2022-02-06T17:10:33.736Z"
   },
   {
    "duration": 7,
    "start_time": "2022-02-06T17:10:44.932Z"
   },
   {
    "duration": 7,
    "start_time": "2022-02-06T17:10:52.260Z"
   },
   {
    "duration": 605,
    "start_time": "2022-02-06T17:11:38.064Z"
   },
   {
    "duration": 18,
    "start_time": "2022-02-06T17:11:47.644Z"
   },
   {
    "duration": 20,
    "start_time": "2022-02-06T17:11:53.652Z"
   },
   {
    "duration": 7,
    "start_time": "2022-02-06T17:12:06.728Z"
   },
   {
    "duration": 1539,
    "start_time": "2022-02-06T17:12:17.466Z"
   },
   {
    "duration": 14,
    "start_time": "2022-02-06T17:12:19.008Z"
   },
   {
    "duration": 5,
    "start_time": "2022-02-06T17:12:19.025Z"
   },
   {
    "duration": 6,
    "start_time": "2022-02-06T17:12:19.033Z"
   },
   {
    "duration": 6,
    "start_time": "2022-02-06T17:12:19.070Z"
   },
   {
    "duration": 5,
    "start_time": "2022-02-06T17:12:19.078Z"
   },
   {
    "duration": 12,
    "start_time": "2022-02-06T17:12:19.085Z"
   },
   {
    "duration": 7,
    "start_time": "2022-02-06T17:12:19.101Z"
   },
   {
    "duration": 4,
    "start_time": "2022-02-06T17:12:26.027Z"
   },
   {
    "duration": 8,
    "start_time": "2022-02-06T17:13:22.563Z"
   },
   {
    "duration": 6446,
    "start_time": "2022-02-06T17:13:43.467Z"
   },
   {
    "duration": 7,
    "start_time": "2022-02-06T17:13:55.052Z"
   },
   {
    "duration": 6,
    "start_time": "2022-02-06T17:14:06.132Z"
   },
   {
    "duration": 6,
    "start_time": "2022-02-06T17:14:15.548Z"
   },
   {
    "duration": 6,
    "start_time": "2022-02-06T17:14:19.971Z"
   },
   {
    "duration": 6,
    "start_time": "2022-02-06T17:14:30.372Z"
   },
   {
    "duration": 6,
    "start_time": "2022-02-06T17:14:31.760Z"
   },
   {
    "duration": 6,
    "start_time": "2022-02-06T17:14:33.792Z"
   },
   {
    "duration": 8,
    "start_time": "2022-02-06T17:14:36.364Z"
   },
   {
    "duration": 5,
    "start_time": "2022-02-06T17:14:38.136Z"
   },
   {
    "duration": 1573,
    "start_time": "2022-02-06T17:14:58.541Z"
   },
   {
    "duration": 15,
    "start_time": "2022-02-06T17:15:00.117Z"
   },
   {
    "duration": 18,
    "start_time": "2022-02-06T17:15:00.135Z"
   },
   {
    "duration": 23,
    "start_time": "2022-02-06T17:15:00.156Z"
   },
   {
    "duration": 14,
    "start_time": "2022-02-06T17:15:00.182Z"
   },
   {
    "duration": 17,
    "start_time": "2022-02-06T17:15:00.199Z"
   },
   {
    "duration": 28,
    "start_time": "2022-02-06T17:15:00.218Z"
   },
   {
    "duration": 6,
    "start_time": "2022-02-06T17:15:02.462Z"
   },
   {
    "duration": 4,
    "start_time": "2022-02-06T17:15:05.479Z"
   },
   {
    "duration": 7,
    "start_time": "2022-02-06T17:15:07.725Z"
   },
   {
    "duration": 7,
    "start_time": "2022-02-06T17:15:17.009Z"
   },
   {
    "duration": 75,
    "start_time": "2022-02-06T17:21:26.328Z"
   },
   {
    "duration": 615,
    "start_time": "2022-02-06T17:22:44.561Z"
   },
   {
    "duration": 18,
    "start_time": "2022-02-06T17:22:51.069Z"
   },
   {
    "duration": 5,
    "start_time": "2022-02-06T17:22:59.457Z"
   },
   {
    "duration": 613,
    "start_time": "2022-02-06T17:23:00.641Z"
   },
   {
    "duration": 17,
    "start_time": "2022-02-06T17:23:04.213Z"
   },
   {
    "duration": 666,
    "start_time": "2022-02-06T17:23:42.789Z"
   },
   {
    "duration": 667,
    "start_time": "2022-02-06T17:23:44.269Z"
   },
   {
    "duration": 19,
    "start_time": "2022-02-06T17:23:45.753Z"
   },
   {
    "duration": 809,
    "start_time": "2022-02-06T17:23:53.771Z"
   },
   {
    "duration": 724,
    "start_time": "2022-02-06T17:23:55.365Z"
   },
   {
    "duration": 21,
    "start_time": "2022-02-06T17:23:56.623Z"
   },
   {
    "duration": 802,
    "start_time": "2022-02-06T17:23:58.920Z"
   },
   {
    "duration": 27,
    "start_time": "2022-02-06T17:24:01.533Z"
   },
   {
    "duration": 8,
    "start_time": "2022-02-06T17:24:04.569Z"
   },
   {
    "duration": 1705,
    "start_time": "2022-02-06T17:24:20.011Z"
   },
   {
    "duration": 14,
    "start_time": "2022-02-06T17:24:21.718Z"
   },
   {
    "duration": 6,
    "start_time": "2022-02-06T17:24:21.735Z"
   },
   {
    "duration": 28,
    "start_time": "2022-02-06T17:24:21.743Z"
   },
   {
    "duration": 6,
    "start_time": "2022-02-06T17:24:21.773Z"
   },
   {
    "duration": 12,
    "start_time": "2022-02-06T17:24:21.781Z"
   },
   {
    "duration": 7,
    "start_time": "2022-02-06T17:24:21.795Z"
   },
   {
    "duration": 7,
    "start_time": "2022-02-06T17:24:21.806Z"
   },
   {
    "duration": 5,
    "start_time": "2022-02-06T17:24:21.815Z"
   },
   {
    "duration": 629,
    "start_time": "2022-02-06T17:24:21.822Z"
   },
   {
    "duration": 17,
    "start_time": "2022-02-06T17:24:24.071Z"
   },
   {
    "duration": 7,
    "start_time": "2022-02-06T17:24:34.906Z"
   },
   {
    "duration": 1570,
    "start_time": "2022-02-06T17:25:52.367Z"
   },
   {
    "duration": 28,
    "start_time": "2022-02-06T17:25:53.941Z"
   },
   {
    "duration": 6,
    "start_time": "2022-02-06T17:25:53.972Z"
   },
   {
    "duration": 6,
    "start_time": "2022-02-06T17:25:53.980Z"
   },
   {
    "duration": 6,
    "start_time": "2022-02-06T17:25:53.988Z"
   },
   {
    "duration": 5,
    "start_time": "2022-02-06T17:25:53.997Z"
   },
   {
    "duration": 8,
    "start_time": "2022-02-06T17:25:54.005Z"
   },
   {
    "duration": 56,
    "start_time": "2022-02-06T17:25:54.018Z"
   },
   {
    "duration": 5,
    "start_time": "2022-02-06T17:25:54.078Z"
   },
   {
    "duration": 727,
    "start_time": "2022-02-06T17:25:54.086Z"
   },
   {
    "duration": 6,
    "start_time": "2022-02-06T17:25:57.660Z"
   },
   {
    "duration": 17,
    "start_time": "2022-02-06T17:26:52.264Z"
   },
   {
    "duration": 22,
    "start_time": "2022-02-06T17:27:20.048Z"
   },
   {
    "duration": 22,
    "start_time": "2022-02-06T17:27:26.272Z"
   },
   {
    "duration": 6,
    "start_time": "2022-02-06T17:29:06.749Z"
   },
   {
    "duration": 9,
    "start_time": "2022-02-06T17:30:46.101Z"
   },
   {
    "duration": 392,
    "start_time": "2022-02-06T17:30:56.354Z"
   },
   {
    "duration": 12,
    "start_time": "2022-02-06T17:31:10.906Z"
   },
   {
    "duration": 9,
    "start_time": "2022-02-06T17:32:12.778Z"
   },
   {
    "duration": 5,
    "start_time": "2022-02-06T17:32:14.254Z"
   },
   {
    "duration": 6,
    "start_time": "2022-02-06T17:32:23.226Z"
   },
   {
    "duration": 581,
    "start_time": "2022-02-06T17:32:30.158Z"
   },
   {
    "duration": 17,
    "start_time": "2022-02-06T17:32:36.239Z"
   },
   {
    "duration": 291,
    "start_time": "2022-02-06T17:32:47.983Z"
   },
   {
    "duration": 1654,
    "start_time": "2022-02-06T17:33:01.191Z"
   },
   {
    "duration": 25,
    "start_time": "2022-02-06T17:33:02.849Z"
   },
   {
    "duration": 5,
    "start_time": "2022-02-06T17:33:02.877Z"
   },
   {
    "duration": 24,
    "start_time": "2022-02-06T17:33:02.885Z"
   },
   {
    "duration": 32,
    "start_time": "2022-02-06T17:33:02.911Z"
   },
   {
    "duration": 27,
    "start_time": "2022-02-06T17:33:02.945Z"
   },
   {
    "duration": 23,
    "start_time": "2022-02-06T17:33:02.974Z"
   },
   {
    "duration": 23,
    "start_time": "2022-02-06T17:33:03.002Z"
   },
   {
    "duration": 21,
    "start_time": "2022-02-06T17:33:03.028Z"
   },
   {
    "duration": 20,
    "start_time": "2022-02-06T17:33:03.051Z"
   },
   {
    "duration": 26,
    "start_time": "2022-02-06T17:33:03.074Z"
   },
   {
    "duration": 611,
    "start_time": "2022-02-06T17:33:03.103Z"
   },
   {
    "duration": 17,
    "start_time": "2022-02-06T17:33:06.886Z"
   },
   {
    "duration": 1535,
    "start_time": "2022-02-06T17:35:09.496Z"
   },
   {
    "duration": 15,
    "start_time": "2022-02-06T17:35:11.033Z"
   },
   {
    "duration": 17,
    "start_time": "2022-02-06T17:35:11.052Z"
   },
   {
    "duration": 5,
    "start_time": "2022-02-06T17:35:11.072Z"
   },
   {
    "duration": 8,
    "start_time": "2022-02-06T17:35:11.079Z"
   },
   {
    "duration": 5,
    "start_time": "2022-02-06T17:35:11.089Z"
   },
   {
    "duration": 16,
    "start_time": "2022-02-06T17:35:11.096Z"
   },
   {
    "duration": 9,
    "start_time": "2022-02-06T17:35:11.115Z"
   },
   {
    "duration": 6,
    "start_time": "2022-02-06T17:35:11.126Z"
   },
   {
    "duration": 11,
    "start_time": "2022-02-06T17:35:11.170Z"
   },
   {
    "duration": 13,
    "start_time": "2022-02-06T17:35:11.183Z"
   },
   {
    "duration": 581,
    "start_time": "2022-02-06T17:35:11.198Z"
   },
   {
    "duration": 18,
    "start_time": "2022-02-06T17:35:13.744Z"
   },
   {
    "duration": 22,
    "start_time": "2022-02-06T17:36:15.145Z"
   },
   {
    "duration": 21,
    "start_time": "2022-02-06T17:36:20.646Z"
   },
   {
    "duration": 14,
    "start_time": "2022-02-06T17:37:06.385Z"
   },
   {
    "duration": 6,
    "start_time": "2022-02-06T17:38:28.873Z"
   },
   {
    "duration": 30,
    "start_time": "2022-02-06T17:39:41.322Z"
   },
   {
    "duration": 28,
    "start_time": "2022-02-06T17:40:13.834Z"
   },
   {
    "duration": 28,
    "start_time": "2022-02-06T17:40:16.215Z"
   },
   {
    "duration": 9,
    "start_time": "2022-02-06T17:40:25.427Z"
   },
   {
    "duration": 12,
    "start_time": "2022-02-06T17:41:15.567Z"
   },
   {
    "duration": 11,
    "start_time": "2022-02-06T17:41:25.471Z"
   },
   {
    "duration": 43,
    "start_time": "2022-02-06T17:41:31.364Z"
   },
   {
    "duration": 39,
    "start_time": "2022-02-06T17:41:37.612Z"
   },
   {
    "duration": 5,
    "start_time": "2022-02-06T17:41:42.036Z"
   },
   {
    "duration": 11,
    "start_time": "2022-02-06T17:41:52.548Z"
   },
   {
    "duration": 1992,
    "start_time": "2022-02-06T17:42:32.362Z"
   },
   {
    "duration": 20,
    "start_time": "2022-02-06T17:42:34.358Z"
   },
   {
    "duration": 6,
    "start_time": "2022-02-06T17:42:34.381Z"
   },
   {
    "duration": 12,
    "start_time": "2022-02-06T17:42:34.390Z"
   },
   {
    "duration": 11,
    "start_time": "2022-02-06T17:42:34.404Z"
   },
   {
    "duration": 6,
    "start_time": "2022-02-06T17:42:34.417Z"
   },
   {
    "duration": 46,
    "start_time": "2022-02-06T17:42:34.425Z"
   },
   {
    "duration": 8,
    "start_time": "2022-02-06T17:42:34.477Z"
   },
   {
    "duration": 6,
    "start_time": "2022-02-06T17:42:34.489Z"
   },
   {
    "duration": 10,
    "start_time": "2022-02-06T17:42:34.498Z"
   },
   {
    "duration": 7,
    "start_time": "2022-02-06T17:42:34.511Z"
   },
   {
    "duration": 643,
    "start_time": "2022-02-06T17:42:34.521Z"
   },
   {
    "duration": 18,
    "start_time": "2022-02-06T17:42:35.169Z"
   },
   {
    "duration": 23,
    "start_time": "2022-02-06T17:42:35.191Z"
   },
   {
    "duration": 12,
    "start_time": "2022-02-06T17:42:35.217Z"
   },
   {
    "duration": 855,
    "start_time": "2022-02-06T17:42:35.231Z"
   },
   {
    "duration": 8,
    "start_time": "2022-02-06T17:42:36.088Z"
   },
   {
    "duration": 32,
    "start_time": "2022-02-06T17:42:36.099Z"
   },
   {
    "duration": 41,
    "start_time": "2022-02-06T17:42:36.134Z"
   },
   {
    "duration": 14,
    "start_time": "2022-02-06T17:42:36.179Z"
   },
   {
    "duration": 30,
    "start_time": "2022-02-06T17:42:36.196Z"
   },
   {
    "duration": 5,
    "start_time": "2022-02-06T17:42:36.228Z"
   },
   {
    "duration": 11,
    "start_time": "2022-02-06T17:42:39.279Z"
   },
   {
    "duration": 6,
    "start_time": "2022-02-06T17:43:02.407Z"
   },
   {
    "duration": 6,
    "start_time": "2022-02-06T17:44:02.072Z"
   },
   {
    "duration": 9,
    "start_time": "2022-02-06T17:44:33.715Z"
   },
   {
    "duration": 6,
    "start_time": "2022-02-06T17:44:59.315Z"
   },
   {
    "duration": 9,
    "start_time": "2022-02-06T17:45:14.448Z"
   },
   {
    "duration": 7,
    "start_time": "2022-02-06T17:45:17.062Z"
   },
   {
    "duration": 15,
    "start_time": "2022-02-06T17:45:48.380Z"
   },
   {
    "duration": 9,
    "start_time": "2022-02-06T17:45:58.288Z"
   },
   {
    "duration": 10,
    "start_time": "2022-02-06T17:46:16.580Z"
   },
   {
    "duration": 7,
    "start_time": "2022-02-06T17:46:24.584Z"
   },
   {
    "duration": 7,
    "start_time": "2022-02-06T17:48:07.309Z"
   },
   {
    "duration": 6,
    "start_time": "2022-02-06T17:48:20.397Z"
   },
   {
    "duration": 7,
    "start_time": "2022-02-06T17:48:32.821Z"
   },
   {
    "duration": 6,
    "start_time": "2022-02-06T17:48:49.137Z"
   },
   {
    "duration": 10,
    "start_time": "2022-02-06T17:49:22.870Z"
   },
   {
    "duration": 12,
    "start_time": "2022-02-06T17:49:46.657Z"
   },
   {
    "duration": 33,
    "start_time": "2022-02-06T17:49:59.566Z"
   },
   {
    "duration": 20,
    "start_time": "2022-02-06T17:50:06.126Z"
   },
   {
    "duration": 19,
    "start_time": "2022-02-06T17:50:15.022Z"
   },
   {
    "duration": 14,
    "start_time": "2022-02-06T17:50:18.510Z"
   },
   {
    "duration": 1576,
    "start_time": "2022-02-06T17:50:52.754Z"
   },
   {
    "duration": 17,
    "start_time": "2022-02-06T17:50:54.334Z"
   },
   {
    "duration": 21,
    "start_time": "2022-02-06T17:50:54.353Z"
   },
   {
    "duration": 8,
    "start_time": "2022-02-06T17:50:54.377Z"
   },
   {
    "duration": 8,
    "start_time": "2022-02-06T17:50:54.388Z"
   },
   {
    "duration": 5,
    "start_time": "2022-02-06T17:50:54.399Z"
   },
   {
    "duration": 65,
    "start_time": "2022-02-06T17:50:54.407Z"
   },
   {
    "duration": 7,
    "start_time": "2022-02-06T17:50:54.478Z"
   },
   {
    "duration": 5,
    "start_time": "2022-02-06T17:50:54.489Z"
   },
   {
    "duration": 8,
    "start_time": "2022-02-06T17:50:54.497Z"
   },
   {
    "duration": 8,
    "start_time": "2022-02-06T17:50:54.507Z"
   },
   {
    "duration": 656,
    "start_time": "2022-02-06T17:50:54.518Z"
   },
   {
    "duration": 18,
    "start_time": "2022-02-06T17:50:55.177Z"
   },
   {
    "duration": 21,
    "start_time": "2022-02-06T17:50:55.198Z"
   },
   {
    "duration": 11,
    "start_time": "2022-02-06T17:50:55.221Z"
   },
   {
    "duration": 815,
    "start_time": "2022-02-06T17:50:55.270Z"
   },
   {
    "duration": 7,
    "start_time": "2022-02-06T17:50:56.088Z"
   },
   {
    "duration": 32,
    "start_time": "2022-02-06T17:50:56.098Z"
   },
   {
    "duration": 44,
    "start_time": "2022-02-06T17:50:56.133Z"
   },
   {
    "duration": 13,
    "start_time": "2022-02-06T17:50:56.180Z"
   },
   {
    "duration": 29,
    "start_time": "2022-02-06T17:50:56.196Z"
   },
   {
    "duration": 45,
    "start_time": "2022-02-06T17:50:56.227Z"
   },
   {
    "duration": 10,
    "start_time": "2022-02-06T17:50:56.277Z"
   },
   {
    "duration": 7,
    "start_time": "2022-02-06T17:50:56.290Z"
   },
   {
    "duration": 8,
    "start_time": "2022-02-06T17:50:56.299Z"
   },
   {
    "duration": 11,
    "start_time": "2022-02-06T17:50:56.309Z"
   },
   {
    "duration": 48,
    "start_time": "2022-02-06T17:50:56.323Z"
   },
   {
    "duration": 5,
    "start_time": "2022-02-06T17:50:56.374Z"
   },
   {
    "duration": 20,
    "start_time": "2022-02-06T17:50:56.381Z"
   },
   {
    "duration": 18,
    "start_time": "2022-02-06T17:50:56.403Z"
   },
   {
    "duration": 7,
    "start_time": "2022-02-06T17:50:56.424Z"
   },
   {
    "duration": 17,
    "start_time": "2022-02-06T17:50:56.433Z"
   },
   {
    "duration": 5,
    "start_time": "2022-02-06T17:50:56.470Z"
   },
   {
    "duration": 6,
    "start_time": "2022-02-06T17:50:56.477Z"
   },
   {
    "duration": 6,
    "start_time": "2022-02-06T17:50:56.486Z"
   },
   {
    "duration": 9,
    "start_time": "2022-02-06T17:50:56.494Z"
   },
   {
    "duration": 11,
    "start_time": "2022-02-06T17:50:56.505Z"
   },
   {
    "duration": 83,
    "start_time": "2022-02-06T17:50:56.518Z"
   },
   {
    "duration": 21,
    "start_time": "2022-02-06T17:50:56.604Z"
   },
   {
    "duration": 14,
    "start_time": "2022-02-06T17:50:59.742Z"
   },
   {
    "duration": 18,
    "start_time": "2022-02-06T17:52:13.715Z"
   },
   {
    "duration": 432,
    "start_time": "2022-02-06T17:52:42.214Z"
   },
   {
    "duration": 312,
    "start_time": "2022-02-06T17:52:44.450Z"
   },
   {
    "duration": 266,
    "start_time": "2022-02-06T17:52:51.895Z"
   },
   {
    "duration": 1546,
    "start_time": "2022-02-06T17:53:08.909Z"
   },
   {
    "duration": 19,
    "start_time": "2022-02-06T17:53:10.457Z"
   },
   {
    "duration": 6,
    "start_time": "2022-02-06T17:53:10.479Z"
   },
   {
    "duration": 13,
    "start_time": "2022-02-06T17:53:10.488Z"
   },
   {
    "duration": 17,
    "start_time": "2022-02-06T17:53:10.504Z"
   },
   {
    "duration": 9,
    "start_time": "2022-02-06T17:53:10.524Z"
   },
   {
    "duration": 36,
    "start_time": "2022-02-06T17:53:10.536Z"
   },
   {
    "duration": 9,
    "start_time": "2022-02-06T17:53:10.576Z"
   },
   {
    "duration": 15,
    "start_time": "2022-02-06T17:53:10.589Z"
   },
   {
    "duration": 13,
    "start_time": "2022-02-06T17:53:10.606Z"
   },
   {
    "duration": 10,
    "start_time": "2022-02-06T17:53:10.622Z"
   },
   {
    "duration": 717,
    "start_time": "2022-02-06T17:53:10.635Z"
   },
   {
    "duration": 28,
    "start_time": "2022-02-06T17:53:11.354Z"
   },
   {
    "duration": 31,
    "start_time": "2022-02-06T17:53:11.385Z"
   },
   {
    "duration": 12,
    "start_time": "2022-02-06T17:53:11.418Z"
   },
   {
    "duration": 963,
    "start_time": "2022-02-06T17:53:11.433Z"
   },
   {
    "duration": 7,
    "start_time": "2022-02-06T17:53:12.399Z"
   },
   {
    "duration": 36,
    "start_time": "2022-02-06T17:53:12.408Z"
   },
   {
    "duration": 9,
    "start_time": "2022-02-06T17:53:12.470Z"
   },
   {
    "duration": 19,
    "start_time": "2022-02-06T17:53:12.482Z"
   },
   {
    "duration": 29,
    "start_time": "2022-02-06T17:53:12.503Z"
   },
   {
    "duration": 38,
    "start_time": "2022-02-06T17:53:12.535Z"
   },
   {
    "duration": 14,
    "start_time": "2022-02-06T17:53:12.581Z"
   },
   {
    "duration": 9,
    "start_time": "2022-02-06T17:53:12.599Z"
   },
   {
    "duration": 7,
    "start_time": "2022-02-06T17:53:12.611Z"
   },
   {
    "duration": 54,
    "start_time": "2022-02-06T17:53:12.620Z"
   },
   {
    "duration": 6,
    "start_time": "2022-02-06T17:53:12.677Z"
   },
   {
    "duration": 9,
    "start_time": "2022-02-06T17:53:12.686Z"
   },
   {
    "duration": 10,
    "start_time": "2022-02-06T17:53:12.697Z"
   },
   {
    "duration": 13,
    "start_time": "2022-02-06T17:53:12.710Z"
   },
   {
    "duration": 8,
    "start_time": "2022-02-06T17:53:12.770Z"
   },
   {
    "duration": 6,
    "start_time": "2022-02-06T17:53:12.781Z"
   },
   {
    "duration": 9,
    "start_time": "2022-02-06T17:53:12.790Z"
   },
   {
    "duration": 8,
    "start_time": "2022-02-06T17:53:12.802Z"
   },
   {
    "duration": 7,
    "start_time": "2022-02-06T17:53:12.813Z"
   },
   {
    "duration": 10,
    "start_time": "2022-02-06T17:53:12.870Z"
   },
   {
    "duration": 12,
    "start_time": "2022-02-06T17:53:12.882Z"
   },
   {
    "duration": 73,
    "start_time": "2022-02-06T17:53:12.896Z"
   },
   {
    "duration": 21,
    "start_time": "2022-02-06T17:53:12.972Z"
   },
   {
    "duration": 15,
    "start_time": "2022-02-06T17:53:12.995Z"
   },
   {
    "duration": 15,
    "start_time": "2022-02-06T17:53:13.014Z"
   },
   {
    "duration": 490,
    "start_time": "2022-02-06T17:53:15.394Z"
   },
   {
    "duration": 5,
    "start_time": "2022-02-06T17:56:59.539Z"
   },
   {
    "duration": 17,
    "start_time": "2022-02-06T17:57:08.027Z"
   },
   {
    "duration": 14,
    "start_time": "2022-02-06T17:58:01.824Z"
   },
   {
    "duration": 16,
    "start_time": "2022-02-06T17:58:05.631Z"
   },
   {
    "duration": 14,
    "start_time": "2022-02-06T17:58:33.200Z"
   },
   {
    "duration": 24,
    "start_time": "2022-02-06T17:59:09.455Z"
   },
   {
    "duration": 1658,
    "start_time": "2022-02-06T18:04:24.961Z"
   },
   {
    "duration": 17,
    "start_time": "2022-02-06T18:04:30.454Z"
   },
   {
    "duration": 7,
    "start_time": "2022-02-06T18:08:13.551Z"
   },
   {
    "duration": 7,
    "start_time": "2022-02-06T18:08:15.076Z"
   },
   {
    "duration": 14,
    "start_time": "2022-02-06T18:09:50.308Z"
   },
   {
    "duration": 1557,
    "start_time": "2022-02-06T18:10:33.565Z"
   },
   {
    "duration": 15,
    "start_time": "2022-02-06T18:10:35.125Z"
   },
   {
    "duration": 28,
    "start_time": "2022-02-06T18:10:35.143Z"
   },
   {
    "duration": 11,
    "start_time": "2022-02-06T18:10:35.173Z"
   },
   {
    "duration": 6,
    "start_time": "2022-02-06T18:10:35.186Z"
   },
   {
    "duration": 8,
    "start_time": "2022-02-06T18:10:35.194Z"
   },
   {
    "duration": 7,
    "start_time": "2022-02-06T18:12:35.840Z"
   },
   {
    "duration": 6,
    "start_time": "2022-02-06T18:12:51.189Z"
   },
   {
    "duration": 7,
    "start_time": "2022-02-06T18:12:52.949Z"
   },
   {
    "duration": 8,
    "start_time": "2022-02-06T18:12:58.849Z"
   },
   {
    "duration": 4,
    "start_time": "2022-02-06T18:15:28.966Z"
   },
   {
    "duration": 11,
    "start_time": "2022-02-06T18:15:30.397Z"
   },
   {
    "duration": 8,
    "start_time": "2022-02-06T18:15:32.526Z"
   },
   {
    "duration": 573,
    "start_time": "2022-02-06T18:16:02.674Z"
   },
   {
    "duration": 18,
    "start_time": "2022-02-06T18:16:31.086Z"
   },
   {
    "duration": 31,
    "start_time": "2022-02-06T18:16:56.554Z"
   },
   {
    "duration": 21,
    "start_time": "2022-02-06T18:17:14.484Z"
   },
   {
    "duration": 6,
    "start_time": "2022-02-06T18:17:25.899Z"
   },
   {
    "duration": 30,
    "start_time": "2022-02-06T18:17:55.210Z"
   },
   {
    "duration": 28,
    "start_time": "2022-02-06T18:19:13.403Z"
   },
   {
    "duration": 27,
    "start_time": "2022-02-06T18:19:14.903Z"
   },
   {
    "duration": 29,
    "start_time": "2022-02-06T18:19:16.243Z"
   },
   {
    "duration": 9,
    "start_time": "2022-02-06T18:19:22.795Z"
   },
   {
    "duration": 13,
    "start_time": "2022-02-06T18:19:35.523Z"
   },
   {
    "duration": 28,
    "start_time": "2022-02-06T18:19:41.215Z"
   },
   {
    "duration": 6,
    "start_time": "2022-02-06T18:19:42.819Z"
   },
   {
    "duration": 14,
    "start_time": "2022-02-06T18:19:44.471Z"
   },
   {
    "duration": 7,
    "start_time": "2022-02-06T18:19:48.203Z"
   },
   {
    "duration": 7,
    "start_time": "2022-02-06T18:20:52.176Z"
   },
   {
    "duration": 9,
    "start_time": "2022-02-06T18:21:01.533Z"
   },
   {
    "duration": 8,
    "start_time": "2022-02-06T18:21:03.952Z"
   },
   {
    "duration": 8,
    "start_time": "2022-02-06T18:21:05.820Z"
   },
   {
    "duration": 10,
    "start_time": "2022-02-06T18:21:09.496Z"
   },
   {
    "duration": 10,
    "start_time": "2022-02-06T18:21:12.556Z"
   },
   {
    "duration": 6,
    "start_time": "2022-02-06T18:21:15.113Z"
   },
   {
    "duration": 10,
    "start_time": "2022-02-06T18:21:23.740Z"
   },
   {
    "duration": 7,
    "start_time": "2022-02-06T18:21:35.440Z"
   },
   {
    "duration": 6,
    "start_time": "2022-02-06T18:21:39.505Z"
   },
   {
    "duration": 8,
    "start_time": "2022-02-06T18:21:41.736Z"
   },
   {
    "duration": 7,
    "start_time": "2022-02-06T18:21:44.219Z"
   },
   {
    "duration": 9,
    "start_time": "2022-02-06T18:22:55.333Z"
   },
   {
    "duration": 9,
    "start_time": "2022-02-06T18:23:02.217Z"
   },
   {
    "duration": 9,
    "start_time": "2022-02-06T18:23:09.461Z"
   },
   {
    "duration": 10,
    "start_time": "2022-02-06T18:23:10.868Z"
   },
   {
    "duration": 1530,
    "start_time": "2022-02-06T18:23:27.684Z"
   },
   {
    "duration": 14,
    "start_time": "2022-02-06T18:23:29.217Z"
   },
   {
    "duration": 11,
    "start_time": "2022-02-06T18:23:29.234Z"
   },
   {
    "duration": 10,
    "start_time": "2022-02-06T18:23:29.271Z"
   },
   {
    "duration": 6,
    "start_time": "2022-02-06T18:23:29.283Z"
   },
   {
    "duration": 6,
    "start_time": "2022-02-06T18:23:29.292Z"
   },
   {
    "duration": 6,
    "start_time": "2022-02-06T18:23:29.300Z"
   },
   {
    "duration": 8,
    "start_time": "2022-02-06T18:23:29.310Z"
   },
   {
    "duration": 7,
    "start_time": "2022-02-06T18:23:29.370Z"
   },
   {
    "duration": 7,
    "start_time": "2022-02-06T18:23:29.379Z"
   },
   {
    "duration": 5,
    "start_time": "2022-02-06T18:23:29.388Z"
   },
   {
    "duration": 14,
    "start_time": "2022-02-06T18:23:29.395Z"
   },
   {
    "duration": 9,
    "start_time": "2022-02-06T18:23:29.412Z"
   },
   {
    "duration": 658,
    "start_time": "2022-02-06T18:23:29.423Z"
   },
   {
    "duration": 18,
    "start_time": "2022-02-06T18:23:30.083Z"
   },
   {
    "duration": 27,
    "start_time": "2022-02-06T18:23:30.103Z"
   },
   {
    "duration": 37,
    "start_time": "2022-02-06T18:23:30.132Z"
   },
   {
    "duration": 799,
    "start_time": "2022-02-06T18:23:30.172Z"
   },
   {
    "duration": 6,
    "start_time": "2022-02-06T18:23:30.973Z"
   },
   {
    "duration": 36,
    "start_time": "2022-02-06T18:23:30.982Z"
   },
   {
    "duration": 9,
    "start_time": "2022-02-06T18:23:31.021Z"
   },
   {
    "duration": 50,
    "start_time": "2022-02-06T18:23:31.033Z"
   },
   {
    "duration": 46,
    "start_time": "2022-02-06T18:23:31.091Z"
   },
   {
    "duration": 31,
    "start_time": "2022-02-06T18:23:31.141Z"
   },
   {
    "duration": 19,
    "start_time": "2022-02-06T18:23:31.175Z"
   },
   {
    "duration": 8,
    "start_time": "2022-02-06T18:23:31.197Z"
   },
   {
    "duration": 6,
    "start_time": "2022-02-06T18:23:31.207Z"
   },
   {
    "duration": 52,
    "start_time": "2022-02-06T18:23:31.216Z"
   },
   {
    "duration": 6,
    "start_time": "2022-02-06T18:23:31.271Z"
   },
   {
    "duration": 10,
    "start_time": "2022-02-06T18:23:31.279Z"
   },
   {
    "duration": 13,
    "start_time": "2022-02-06T18:23:31.292Z"
   },
   {
    "duration": 10,
    "start_time": "2022-02-06T18:23:31.308Z"
   },
   {
    "duration": 6,
    "start_time": "2022-02-06T18:23:31.321Z"
   },
   {
    "duration": 42,
    "start_time": "2022-02-06T18:23:31.329Z"
   },
   {
    "duration": 7,
    "start_time": "2022-02-06T18:23:31.373Z"
   },
   {
    "duration": 12,
    "start_time": "2022-02-06T18:23:31.382Z"
   },
   {
    "duration": 10,
    "start_time": "2022-02-06T18:23:31.397Z"
   },
   {
    "duration": 59,
    "start_time": "2022-02-06T18:23:31.410Z"
   },
   {
    "duration": 11,
    "start_time": "2022-02-06T18:23:46.609Z"
   },
   {
    "duration": 38,
    "start_time": "2022-02-06T18:24:27.241Z"
   },
   {
    "duration": 21,
    "start_time": "2022-02-06T18:24:28.620Z"
   },
   {
    "duration": 14,
    "start_time": "2022-02-06T18:24:33.833Z"
   },
   {
    "duration": 13,
    "start_time": "2022-02-06T18:26:15.598Z"
   },
   {
    "duration": 6,
    "start_time": "2022-02-06T18:26:42.026Z"
   },
   {
    "duration": 17,
    "start_time": "2022-02-06T18:26:44.278Z"
   },
   {
    "duration": 24,
    "start_time": "2022-02-06T18:28:49.815Z"
   },
   {
    "duration": 23,
    "start_time": "2022-02-06T18:28:51.180Z"
   },
   {
    "duration": 25,
    "start_time": "2022-02-06T18:28:54.539Z"
   },
   {
    "duration": 26,
    "start_time": "2022-02-06T18:29:01.235Z"
   },
   {
    "duration": 18,
    "start_time": "2022-02-06T18:29:10.055Z"
   },
   {
    "duration": 87,
    "start_time": "2022-02-06T18:30:50.428Z"
   },
   {
    "duration": 59,
    "start_time": "2022-02-06T18:31:20.776Z"
   },
   {
    "duration": 1574,
    "start_time": "2022-02-06T18:32:38.457Z"
   },
   {
    "duration": 15,
    "start_time": "2022-02-06T18:32:40.034Z"
   },
   {
    "duration": 24,
    "start_time": "2022-02-06T18:32:40.052Z"
   },
   {
    "duration": 10,
    "start_time": "2022-02-06T18:32:40.079Z"
   },
   {
    "duration": 5,
    "start_time": "2022-02-06T18:32:40.092Z"
   },
   {
    "duration": 18,
    "start_time": "2022-02-06T18:32:40.099Z"
   },
   {
    "duration": 8,
    "start_time": "2022-02-06T18:32:40.119Z"
   },
   {
    "duration": 41,
    "start_time": "2022-02-06T18:32:40.131Z"
   },
   {
    "duration": 7,
    "start_time": "2022-02-06T18:32:40.175Z"
   },
   {
    "duration": 7,
    "start_time": "2022-02-06T18:32:40.184Z"
   },
   {
    "duration": 5,
    "start_time": "2022-02-06T18:32:40.193Z"
   },
   {
    "duration": 6,
    "start_time": "2022-02-06T18:32:40.200Z"
   },
   {
    "duration": 5,
    "start_time": "2022-02-06T18:32:40.209Z"
   },
   {
    "duration": 734,
    "start_time": "2022-02-06T18:32:40.216Z"
   },
   {
    "duration": 26,
    "start_time": "2022-02-06T18:32:40.953Z"
   },
   {
    "duration": 24,
    "start_time": "2022-02-06T18:32:40.982Z"
   },
   {
    "duration": 14,
    "start_time": "2022-02-06T18:32:41.009Z"
   },
   {
    "duration": 830,
    "start_time": "2022-02-06T18:32:41.026Z"
   },
   {
    "duration": 5,
    "start_time": "2022-02-06T18:32:41.859Z"
   },
   {
    "duration": 35,
    "start_time": "2022-02-06T18:32:41.871Z"
   },
   {
    "duration": 11,
    "start_time": "2022-02-06T18:32:41.909Z"
   },
   {
    "duration": 56,
    "start_time": "2022-02-06T18:32:41.923Z"
   },
   {
    "duration": 30,
    "start_time": "2022-02-06T18:32:41.986Z"
   },
   {
    "duration": 6,
    "start_time": "2022-02-06T18:32:42.019Z"
   },
   {
    "duration": 45,
    "start_time": "2022-02-06T18:32:42.028Z"
   },
   {
    "duration": 6,
    "start_time": "2022-02-06T18:32:42.076Z"
   },
   {
    "duration": 6,
    "start_time": "2022-02-06T18:32:42.084Z"
   },
   {
    "duration": 9,
    "start_time": "2022-02-06T18:32:42.092Z"
   },
   {
    "duration": 6,
    "start_time": "2022-02-06T18:32:42.103Z"
   },
   {
    "duration": 59,
    "start_time": "2022-02-06T18:32:42.111Z"
   },
   {
    "duration": 10,
    "start_time": "2022-02-06T18:32:42.172Z"
   },
   {
    "duration": 12,
    "start_time": "2022-02-06T18:32:42.185Z"
   },
   {
    "duration": 8,
    "start_time": "2022-02-06T18:32:42.200Z"
   },
   {
    "duration": 8,
    "start_time": "2022-02-06T18:32:42.211Z"
   },
   {
    "duration": 52,
    "start_time": "2022-02-06T18:32:42.222Z"
   },
   {
    "duration": 6,
    "start_time": "2022-02-06T18:32:42.277Z"
   },
   {
    "duration": 6,
    "start_time": "2022-02-06T18:32:42.286Z"
   },
   {
    "duration": 9,
    "start_time": "2022-02-06T18:32:42.294Z"
   },
   {
    "duration": 63,
    "start_time": "2022-02-06T18:32:42.306Z"
   },
   {
    "duration": 32,
    "start_time": "2022-02-06T18:32:42.371Z"
   },
   {
    "duration": 21,
    "start_time": "2022-02-06T18:32:42.405Z"
   },
   {
    "duration": 49,
    "start_time": "2022-02-06T18:32:42.429Z"
   },
   {
    "duration": 14,
    "start_time": "2022-02-06T18:32:42.480Z"
   },
   {
    "duration": 4,
    "start_time": "2022-02-06T18:32:42.497Z"
   },
   {
    "duration": 15,
    "start_time": "2022-02-06T18:32:42.504Z"
   },
   {
    "duration": 100,
    "start_time": "2022-02-06T18:32:42.522Z"
   },
   {
    "duration": 49,
    "start_time": "2022-02-06T18:32:42.624Z"
   },
   {
    "duration": 25,
    "start_time": "2022-02-06T18:32:42.676Z"
   },
   {
    "duration": 28,
    "start_time": "2022-02-06T18:32:42.704Z"
   },
   {
    "duration": 47,
    "start_time": "2022-02-06T18:32:42.735Z"
   },
   {
    "duration": 18,
    "start_time": "2022-02-06T18:33:24.525Z"
   },
   {
    "duration": 8,
    "start_time": "2022-02-06T18:33:36.801Z"
   },
   {
    "duration": 639,
    "start_time": "2022-02-06T18:36:47.931Z"
   },
   {
    "duration": 88,
    "start_time": "2022-02-06T18:37:33.043Z"
   },
   {
    "duration": 3,
    "start_time": "2022-02-06T19:01:12.777Z"
   },
   {
    "duration": 3,
    "start_time": "2022-02-06T19:01:14.949Z"
   },
   {
    "duration": 1601,
    "start_time": "2022-02-06T19:01:39.398Z"
   },
   {
    "duration": 15,
    "start_time": "2022-02-06T19:01:47.570Z"
   },
   {
    "duration": 419,
    "start_time": "2022-02-06T19:01:49.446Z"
   },
   {
    "duration": 6,
    "start_time": "2022-02-06T19:02:34.790Z"
   },
   {
    "duration": 13,
    "start_time": "2022-02-06T19:03:56.895Z"
   },
   {
    "duration": 12,
    "start_time": "2022-02-06T19:03:58.519Z"
   },
   {
    "duration": 7,
    "start_time": "2022-02-06T19:04:03.015Z"
   },
   {
    "duration": 119,
    "start_time": "2022-02-06T19:04:41.876Z"
   },
   {
    "duration": 78,
    "start_time": "2022-02-06T19:05:11.260Z"
   },
   {
    "duration": 81,
    "start_time": "2022-02-06T19:06:09.896Z"
   },
   {
    "duration": 274,
    "start_time": "2022-02-06T19:06:31.364Z"
   },
   {
    "duration": 6,
    "start_time": "2022-02-06T19:07:22.106Z"
   },
   {
    "duration": 5,
    "start_time": "2022-02-06T19:07:23.989Z"
   },
   {
    "duration": 6,
    "start_time": "2022-02-06T19:13:05.823Z"
   },
   {
    "duration": 4,
    "start_time": "2022-02-06T19:13:09.999Z"
   },
   {
    "duration": 6,
    "start_time": "2022-02-06T19:13:11.831Z"
   },
   {
    "duration": 8,
    "start_time": "2022-02-06T19:13:14.512Z"
   },
   {
    "duration": 5,
    "start_time": "2022-02-06T19:13:19.086Z"
   },
   {
    "duration": 9,
    "start_time": "2022-02-06T19:13:20.383Z"
   },
   {
    "duration": 380,
    "start_time": "2022-02-07T02:22:44.173Z"
   },
   {
    "duration": 1146,
    "start_time": "2022-02-07T02:22:49.665Z"
   },
   {
    "duration": 12,
    "start_time": "2022-02-07T02:22:53.945Z"
   },
   {
    "duration": 14,
    "start_time": "2022-02-07T02:22:56.493Z"
   },
   {
    "duration": 11,
    "start_time": "2022-02-07T02:23:07.569Z"
   },
   {
    "duration": 1119,
    "start_time": "2022-02-07T02:23:20.188Z"
   },
   {
    "duration": 19,
    "start_time": "2022-02-07T02:23:24.539Z"
   },
   {
    "duration": 10,
    "start_time": "2022-02-07T02:23:30.048Z"
   },
   {
    "duration": 8,
    "start_time": "2022-02-07T02:24:55.500Z"
   },
   {
    "duration": 7,
    "start_time": "2022-02-07T02:24:58.176Z"
   },
   {
    "duration": 4,
    "start_time": "2022-02-07T02:24:59.926Z"
   },
   {
    "duration": 4,
    "start_time": "2022-02-07T02:25:01.773Z"
   },
   {
    "duration": 4,
    "start_time": "2022-02-07T02:26:04.358Z"
   },
   {
    "duration": 5,
    "start_time": "2022-02-07T02:28:45.042Z"
   },
   {
    "duration": 6,
    "start_time": "2022-02-07T02:35:36.770Z"
   },
   {
    "duration": 4,
    "start_time": "2022-02-07T02:35:38.831Z"
   },
   {
    "duration": 1143,
    "start_time": "2022-02-07T02:35:55.372Z"
   },
   {
    "duration": 10,
    "start_time": "2022-02-07T02:35:56.517Z"
   },
   {
    "duration": 10,
    "start_time": "2022-02-07T02:35:56.530Z"
   },
   {
    "duration": 8,
    "start_time": "2022-02-07T02:35:56.542Z"
   },
   {
    "duration": 8,
    "start_time": "2022-02-07T02:35:56.551Z"
   },
   {
    "duration": 5,
    "start_time": "2022-02-07T02:35:56.560Z"
   },
   {
    "duration": 6,
    "start_time": "2022-02-07T02:35:56.566Z"
   },
   {
    "duration": 5,
    "start_time": "2022-02-07T02:35:56.573Z"
   },
   {
    "duration": 46,
    "start_time": "2022-02-07T02:35:56.581Z"
   },
   {
    "duration": 4,
    "start_time": "2022-02-07T02:35:56.629Z"
   },
   {
    "duration": 6,
    "start_time": "2022-02-07T02:35:56.635Z"
   },
   {
    "duration": 13,
    "start_time": "2022-02-07T02:35:56.643Z"
   },
   {
    "duration": 6,
    "start_time": "2022-02-07T02:36:20.832Z"
   },
   {
    "duration": 4,
    "start_time": "2022-02-07T02:40:10.487Z"
   },
   {
    "duration": 3,
    "start_time": "2022-02-07T02:41:20.806Z"
   },
   {
    "duration": 8,
    "start_time": "2022-02-07T02:41:23.855Z"
   },
   {
    "duration": 4,
    "start_time": "2022-02-07T02:41:25.794Z"
   },
   {
    "duration": 301,
    "start_time": "2022-02-07T02:41:31.282Z"
   },
   {
    "duration": 11,
    "start_time": "2022-02-07T02:41:33.286Z"
   },
   {
    "duration": 12,
    "start_time": "2022-02-07T02:41:37.190Z"
   },
   {
    "duration": 6,
    "start_time": "2022-02-07T02:41:41.675Z"
   },
   {
    "duration": 6,
    "start_time": "2022-02-07T02:42:18.887Z"
   },
   {
    "duration": 4,
    "start_time": "2022-02-07T02:43:19.283Z"
   },
   {
    "duration": 6,
    "start_time": "2022-02-07T02:43:39.271Z"
   },
   {
    "duration": 5,
    "start_time": "2022-02-07T02:43:49.259Z"
   },
   {
    "duration": 5,
    "start_time": "2022-02-07T02:44:27.120Z"
   },
   {
    "duration": 7,
    "start_time": "2022-02-07T02:44:39.955Z"
   },
   {
    "duration": 4,
    "start_time": "2022-02-07T02:44:47.852Z"
   },
   {
    "duration": 4,
    "start_time": "2022-02-07T02:44:51.396Z"
   },
   {
    "duration": 7,
    "start_time": "2022-02-07T02:44:58.117Z"
   },
   {
    "duration": 6,
    "start_time": "2022-02-07T02:45:26.277Z"
   },
   {
    "duration": 4,
    "start_time": "2022-02-07T02:45:28.128Z"
   },
   {
    "duration": 7,
    "start_time": "2022-02-07T02:46:03.864Z"
   },
   {
    "duration": 6,
    "start_time": "2022-02-07T02:46:20.952Z"
   },
   {
    "duration": 6,
    "start_time": "2022-02-07T02:46:49.724Z"
   },
   {
    "duration": 4,
    "start_time": "2022-02-07T02:48:08.129Z"
   },
   {
    "duration": 4,
    "start_time": "2022-02-07T02:48:17.221Z"
   },
   {
    "duration": 6,
    "start_time": "2022-02-07T02:48:31.441Z"
   },
   {
    "duration": 7,
    "start_time": "2022-02-07T02:49:59.286Z"
   },
   {
    "duration": 7,
    "start_time": "2022-02-07T02:51:08.598Z"
   },
   {
    "duration": 1176,
    "start_time": "2022-02-07T05:12:28.431Z"
   },
   {
    "duration": 10,
    "start_time": "2022-02-07T05:12:31.722Z"
   },
   {
    "duration": 10,
    "start_time": "2022-02-07T05:12:33.625Z"
   },
   {
    "duration": 7,
    "start_time": "2022-02-07T05:12:36.433Z"
   },
   {
    "duration": 8,
    "start_time": "2022-02-07T05:12:38.168Z"
   },
   {
    "duration": 5,
    "start_time": "2022-02-07T05:12:40.465Z"
   },
   {
    "duration": 4,
    "start_time": "2022-02-07T05:12:42.241Z"
   },
   {
    "duration": 403,
    "start_time": "2022-02-07T05:12:44.003Z"
   },
   {
    "duration": 314,
    "start_time": "2022-02-07T05:13:34.407Z"
   },
   {
    "duration": 12,
    "start_time": "2022-02-07T05:13:48.185Z"
   },
   {
    "duration": 12,
    "start_time": "2022-02-07T05:13:50.233Z"
   },
   {
    "duration": 6,
    "start_time": "2022-02-07T05:14:14.689Z"
   },
   {
    "duration": 10,
    "start_time": "2022-02-07T05:14:44.153Z"
   },
   {
    "duration": 13,
    "start_time": "2022-02-07T05:14:52.872Z"
   },
   {
    "duration": 10,
    "start_time": "2022-02-07T05:15:52.408Z"
   },
   {
    "duration": 10,
    "start_time": "2022-02-07T05:16:08.120Z"
   },
   {
    "duration": 6,
    "start_time": "2022-02-07T05:17:49.175Z"
   },
   {
    "duration": 9,
    "start_time": "2022-02-07T05:17:51.154Z"
   },
   {
    "duration": 10,
    "start_time": "2022-02-07T05:19:25.982Z"
   },
   {
    "duration": 10,
    "start_time": "2022-02-07T05:19:35.646Z"
   },
   {
    "duration": 1189,
    "start_time": "2022-02-07T05:21:14.613Z"
   },
   {
    "duration": 9,
    "start_time": "2022-02-07T05:21:15.804Z"
   },
   {
    "duration": 12,
    "start_time": "2022-02-07T05:21:15.815Z"
   },
   {
    "duration": 7,
    "start_time": "2022-02-07T05:21:15.828Z"
   },
   {
    "duration": 6,
    "start_time": "2022-02-07T05:21:15.836Z"
   },
   {
    "duration": 3,
    "start_time": "2022-02-07T05:21:15.844Z"
   },
   {
    "duration": 4,
    "start_time": "2022-02-07T05:21:15.849Z"
   },
   {
    "duration": 16,
    "start_time": "2022-02-07T05:21:21.058Z"
   },
   {
    "duration": 15,
    "start_time": "2022-02-07T05:23:12.564Z"
   },
   {
    "duration": 6,
    "start_time": "2022-02-07T05:25:12.888Z"
   },
   {
    "duration": 10,
    "start_time": "2022-02-07T05:25:15.552Z"
   },
   {
    "duration": 4,
    "start_time": "2022-02-07T05:27:06.248Z"
   },
   {
    "duration": 5,
    "start_time": "2022-02-07T05:27:15.575Z"
   },
   {
    "duration": 3,
    "start_time": "2022-02-07T05:27:28.191Z"
   },
   {
    "duration": 6,
    "start_time": "2022-02-07T05:27:29.832Z"
   },
   {
    "duration": 4,
    "start_time": "2022-02-07T05:27:31.775Z"
   },
   {
    "duration": 6,
    "start_time": "2022-02-07T05:27:40.664Z"
   },
   {
    "duration": 3,
    "start_time": "2022-02-07T05:27:43.975Z"
   },
   {
    "duration": 8,
    "start_time": "2022-02-07T05:27:45.487Z"
   },
   {
    "duration": 4,
    "start_time": "2022-02-07T05:27:46.767Z"
   },
   {
    "duration": 302,
    "start_time": "2022-02-07T05:28:16.847Z"
   },
   {
    "duration": 10,
    "start_time": "2022-02-07T05:28:18.374Z"
   },
   {
    "duration": 12,
    "start_time": "2022-02-07T05:28:20.615Z"
   },
   {
    "duration": 7,
    "start_time": "2022-02-07T05:28:24.798Z"
   },
   {
    "duration": 422,
    "start_time": "2022-02-07T05:28:26.799Z"
   },
   {
    "duration": 5,
    "start_time": "2022-02-07T05:28:28.559Z"
   },
   {
    "duration": 6,
    "start_time": "2022-02-07T05:28:30.126Z"
   },
   {
    "duration": 17,
    "start_time": "2022-02-07T05:28:35.494Z"
   },
   {
    "duration": 105,
    "start_time": "2022-02-07T05:36:13.263Z"
   },
   {
    "duration": 5,
    "start_time": "2022-02-07T05:37:44.759Z"
   },
   {
    "duration": 6,
    "start_time": "2022-02-07T05:37:50.943Z"
   },
   {
    "duration": 10,
    "start_time": "2022-02-07T05:38:27.672Z"
   },
   {
    "duration": 1104,
    "start_time": "2022-02-07T05:48:39.297Z"
   },
   {
    "duration": 10,
    "start_time": "2022-02-07T05:48:58.210Z"
   },
   {
    "duration": 10,
    "start_time": "2022-02-07T05:49:01.562Z"
   },
   {
    "duration": 406,
    "start_time": "2022-02-07T05:49:29.682Z"
   },
   {
    "duration": 332,
    "start_time": "2022-02-07T05:49:34.586Z"
   },
   {
    "duration": 4,
    "start_time": "2022-02-07T05:49:40.083Z"
   },
   {
    "duration": 7,
    "start_time": "2022-02-07T05:54:09.654Z"
   },
   {
    "duration": 7,
    "start_time": "2022-02-07T05:54:14.968Z"
   },
   {
    "duration": 4,
    "start_time": "2022-02-07T05:54:17.895Z"
   },
   {
    "duration": 4,
    "start_time": "2022-02-07T05:54:20.024Z"
   },
   {
    "duration": 16,
    "start_time": "2022-02-07T05:54:48.528Z"
   },
   {
    "duration": 13,
    "start_time": "2022-02-07T05:55:10.238Z"
   },
   {
    "duration": 6,
    "start_time": "2022-02-07T06:02:34.395Z"
   },
   {
    "duration": 10,
    "start_time": "2022-02-07T06:02:36.604Z"
   },
   {
    "duration": 4,
    "start_time": "2022-02-07T06:04:55.292Z"
   },
   {
    "duration": 6,
    "start_time": "2022-02-07T06:05:03.163Z"
   },
   {
    "duration": 5,
    "start_time": "2022-02-07T06:05:11.171Z"
   },
   {
    "duration": 6,
    "start_time": "2022-02-07T06:05:13.683Z"
   },
   {
    "duration": 4,
    "start_time": "2022-02-07T06:05:15.372Z"
   },
   {
    "duration": 5,
    "start_time": "2022-02-07T06:05:59.563Z"
   },
   {
    "duration": 3,
    "start_time": "2022-02-07T06:06:09.443Z"
   },
   {
    "duration": 7,
    "start_time": "2022-02-07T06:06:11.179Z"
   },
   {
    "duration": 4,
    "start_time": "2022-02-07T06:06:13.219Z"
   },
   {
    "duration": 308,
    "start_time": "2022-02-07T06:06:29.083Z"
   },
   {
    "duration": 10,
    "start_time": "2022-02-07T06:06:30.395Z"
   },
   {
    "duration": 11,
    "start_time": "2022-02-07T06:06:44.980Z"
   },
   {
    "duration": 11,
    "start_time": "2022-02-07T06:06:56.979Z"
   },
   {
    "duration": 108,
    "start_time": "2022-02-07T06:07:05.371Z"
   },
   {
    "duration": 11,
    "start_time": "2022-02-07T06:07:11.251Z"
   },
   {
    "duration": 4,
    "start_time": "2022-02-07T06:10:33.810Z"
   },
   {
    "duration": 11,
    "start_time": "2022-02-07T06:10:42.042Z"
   },
   {
    "duration": 12,
    "start_time": "2022-02-07T06:16:11.223Z"
   },
   {
    "duration": 11,
    "start_time": "2022-02-07T06:16:14.343Z"
   },
   {
    "duration": 14,
    "start_time": "2022-02-07T06:16:23.960Z"
   },
   {
    "duration": 1112,
    "start_time": "2022-02-07T06:16:37.201Z"
   },
   {
    "duration": 9,
    "start_time": "2022-02-07T06:16:38.314Z"
   },
   {
    "duration": 3,
    "start_time": "2022-02-07T06:16:38.325Z"
   },
   {
    "duration": 7,
    "start_time": "2022-02-07T06:16:38.330Z"
   },
   {
    "duration": 6,
    "start_time": "2022-02-07T06:16:38.339Z"
   },
   {
    "duration": 4,
    "start_time": "2022-02-07T06:16:38.346Z"
   },
   {
    "duration": 4,
    "start_time": "2022-02-07T06:16:38.352Z"
   },
   {
    "duration": 14,
    "start_time": "2022-02-07T06:16:38.358Z"
   },
   {
    "duration": 6,
    "start_time": "2022-02-07T06:16:38.374Z"
   },
   {
    "duration": 12,
    "start_time": "2022-02-07T06:16:38.381Z"
   },
   {
    "duration": 34,
    "start_time": "2022-02-07T06:16:38.394Z"
   },
   {
    "duration": 5,
    "start_time": "2022-02-07T06:16:38.429Z"
   },
   {
    "duration": 3,
    "start_time": "2022-02-07T06:16:38.436Z"
   },
   {
    "duration": 6,
    "start_time": "2022-02-07T06:16:38.440Z"
   },
   {
    "duration": 6,
    "start_time": "2022-02-07T06:16:38.447Z"
   },
   {
    "duration": 7,
    "start_time": "2022-02-07T06:16:38.454Z"
   },
   {
    "duration": 3,
    "start_time": "2022-02-07T06:16:38.462Z"
   },
   {
    "duration": 6,
    "start_time": "2022-02-07T06:16:38.467Z"
   },
   {
    "duration": 5,
    "start_time": "2022-02-07T06:16:38.475Z"
   },
   {
    "duration": 337,
    "start_time": "2022-02-07T06:16:38.481Z"
   },
   {
    "duration": 15,
    "start_time": "2022-02-07T06:16:38.820Z"
   },
   {
    "duration": 12,
    "start_time": "2022-02-07T06:16:51.237Z"
   },
   {
    "duration": 7,
    "start_time": "2022-02-07T06:17:11.733Z"
   },
   {
    "duration": 409,
    "start_time": "2022-02-07T06:17:13.797Z"
   },
   {
    "duration": 5,
    "start_time": "2022-02-07T06:17:15.092Z"
   },
   {
    "duration": 6,
    "start_time": "2022-02-07T06:17:19.300Z"
   },
   {
    "duration": 5,
    "start_time": "2022-02-07T06:17:28.532Z"
   },
   {
    "duration": 1136,
    "start_time": "2022-02-07T06:18:36.074Z"
   },
   {
    "duration": 11,
    "start_time": "2022-02-07T06:18:37.212Z"
   },
   {
    "duration": 5,
    "start_time": "2022-02-07T06:18:37.224Z"
   },
   {
    "duration": 7,
    "start_time": "2022-02-07T06:18:37.231Z"
   },
   {
    "duration": 5,
    "start_time": "2022-02-07T06:18:37.240Z"
   },
   {
    "duration": 4,
    "start_time": "2022-02-07T06:18:37.246Z"
   },
   {
    "duration": 5,
    "start_time": "2022-02-07T06:18:37.251Z"
   },
   {
    "duration": 11,
    "start_time": "2022-02-07T06:18:37.259Z"
   },
   {
    "duration": 5,
    "start_time": "2022-02-07T06:18:37.272Z"
   },
   {
    "duration": 11,
    "start_time": "2022-02-07T06:18:37.278Z"
   },
   {
    "duration": 4,
    "start_time": "2022-02-07T06:18:37.290Z"
   },
   {
    "duration": 35,
    "start_time": "2022-02-07T06:18:37.295Z"
   },
   {
    "duration": 3,
    "start_time": "2022-02-07T06:18:37.331Z"
   },
   {
    "duration": 6,
    "start_time": "2022-02-07T06:18:37.335Z"
   },
   {
    "duration": 7,
    "start_time": "2022-02-07T06:18:37.342Z"
   },
   {
    "duration": 4,
    "start_time": "2022-02-07T06:18:37.350Z"
   },
   {
    "duration": 4,
    "start_time": "2022-02-07T06:18:37.355Z"
   },
   {
    "duration": 9,
    "start_time": "2022-02-07T06:18:37.360Z"
   },
   {
    "duration": 4,
    "start_time": "2022-02-07T06:18:37.370Z"
   },
   {
    "duration": 325,
    "start_time": "2022-02-07T06:18:37.376Z"
   },
   {
    "duration": 12,
    "start_time": "2022-02-07T06:18:37.702Z"
   },
   {
    "duration": 17,
    "start_time": "2022-02-07T06:18:37.715Z"
   },
   {
    "duration": 8,
    "start_time": "2022-02-07T06:18:37.735Z"
   },
   {
    "duration": 424,
    "start_time": "2022-02-07T06:18:37.744Z"
   },
   {
    "duration": 5,
    "start_time": "2022-02-07T06:18:38.169Z"
   },
   {
    "duration": 7,
    "start_time": "2022-02-07T06:18:38.175Z"
   },
   {
    "duration": 6,
    "start_time": "2022-02-07T06:18:50.045Z"
   },
   {
    "duration": 8,
    "start_time": "2022-02-07T06:19:00.108Z"
   },
   {
    "duration": 17,
    "start_time": "2022-02-07T06:19:03.261Z"
   },
   {
    "duration": 4,
    "start_time": "2022-02-07T06:19:06.164Z"
   },
   {
    "duration": 7,
    "start_time": "2022-02-07T06:19:18.468Z"
   },
   {
    "duration": 6,
    "start_time": "2022-02-07T06:19:41.749Z"
   },
   {
    "duration": 4,
    "start_time": "2022-02-07T06:19:45.085Z"
   },
   {
    "duration": 7,
    "start_time": "2022-02-07T06:19:47.846Z"
   },
   {
    "duration": 4,
    "start_time": "2022-02-07T06:19:49.925Z"
   },
   {
    "duration": 6,
    "start_time": "2022-02-07T06:19:51.989Z"
   },
   {
    "duration": 6,
    "start_time": "2022-02-07T06:19:53.996Z"
   },
   {
    "duration": 4,
    "start_time": "2022-02-07T06:19:55.581Z"
   },
   {
    "duration": 7,
    "start_time": "2022-02-07T06:19:57.981Z"
   },
   {
    "duration": 5,
    "start_time": "2022-02-07T06:20:00.229Z"
   },
   {
    "duration": 4,
    "start_time": "2022-02-07T06:20:02.277Z"
   },
   {
    "duration": 6,
    "start_time": "2022-02-07T06:20:40.813Z"
   },
   {
    "duration": 4,
    "start_time": "2022-02-07T06:20:44.373Z"
   },
   {
    "duration": 6,
    "start_time": "2022-02-07T06:20:47.463Z"
   },
   {
    "duration": 7,
    "start_time": "2022-02-07T06:20:49.300Z"
   },
   {
    "duration": 22,
    "start_time": "2022-02-07T06:20:51.412Z"
   },
   {
    "duration": 12,
    "start_time": "2022-02-07T06:20:53.244Z"
   },
   {
    "duration": 8,
    "start_time": "2022-02-07T06:21:10.612Z"
   },
   {
    "duration": 9,
    "start_time": "2022-02-07T06:21:16.869Z"
   },
   {
    "duration": 1226,
    "start_time": "2022-02-07T06:21:58.194Z"
   },
   {
    "duration": 9,
    "start_time": "2022-02-07T06:21:59.421Z"
   },
   {
    "duration": 4,
    "start_time": "2022-02-07T06:21:59.432Z"
   },
   {
    "duration": 11,
    "start_time": "2022-02-07T06:21:59.437Z"
   },
   {
    "duration": 12,
    "start_time": "2022-02-07T06:21:59.449Z"
   },
   {
    "duration": 4,
    "start_time": "2022-02-07T06:21:59.463Z"
   },
   {
    "duration": 11,
    "start_time": "2022-02-07T06:21:59.468Z"
   },
   {
    "duration": 13,
    "start_time": "2022-02-07T06:21:59.482Z"
   },
   {
    "duration": 31,
    "start_time": "2022-02-07T06:21:59.498Z"
   },
   {
    "duration": 10,
    "start_time": "2022-02-07T06:21:59.531Z"
   },
   {
    "duration": 4,
    "start_time": "2022-02-07T06:21:59.543Z"
   },
   {
    "duration": 8,
    "start_time": "2022-02-07T06:21:59.548Z"
   },
   {
    "duration": 5,
    "start_time": "2022-02-07T06:21:59.557Z"
   },
   {
    "duration": 7,
    "start_time": "2022-02-07T06:21:59.564Z"
   },
   {
    "duration": 6,
    "start_time": "2022-02-07T06:21:59.572Z"
   },
   {
    "duration": 6,
    "start_time": "2022-02-07T06:21:59.580Z"
   },
   {
    "duration": 4,
    "start_time": "2022-02-07T06:21:59.588Z"
   },
   {
    "duration": 9,
    "start_time": "2022-02-07T06:21:59.593Z"
   },
   {
    "duration": 28,
    "start_time": "2022-02-07T06:21:59.603Z"
   },
   {
    "duration": 340,
    "start_time": "2022-02-07T06:21:59.632Z"
   },
   {
    "duration": 12,
    "start_time": "2022-02-07T06:21:59.975Z"
   },
   {
    "duration": 15,
    "start_time": "2022-02-07T06:21:59.989Z"
   },
   {
    "duration": 22,
    "start_time": "2022-02-07T06:22:00.008Z"
   },
   {
    "duration": 439,
    "start_time": "2022-02-07T06:22:00.031Z"
   },
   {
    "duration": 4,
    "start_time": "2022-02-07T06:22:00.472Z"
   },
   {
    "duration": 11,
    "start_time": "2022-02-07T06:22:00.478Z"
   },
   {
    "duration": 6,
    "start_time": "2022-02-07T06:22:00.490Z"
   },
   {
    "duration": 23,
    "start_time": "2022-02-07T06:22:00.497Z"
   },
   {
    "duration": 18,
    "start_time": "2022-02-07T06:22:00.522Z"
   },
   {
    "duration": 4,
    "start_time": "2022-02-07T06:22:00.541Z"
   },
   {
    "duration": 22,
    "start_time": "2022-02-07T06:22:00.546Z"
   },
   {
    "duration": 10,
    "start_time": "2022-02-07T06:22:00.570Z"
   },
   {
    "duration": 11,
    "start_time": "2022-02-07T06:22:00.581Z"
   },
   {
    "duration": 15,
    "start_time": "2022-02-07T06:22:00.594Z"
   },
   {
    "duration": 10,
    "start_time": "2022-02-07T06:22:00.611Z"
   },
   {
    "duration": 23,
    "start_time": "2022-02-07T06:22:00.622Z"
   },
   {
    "duration": 15,
    "start_time": "2022-02-07T06:22:00.647Z"
   },
   {
    "duration": 13,
    "start_time": "2022-02-07T06:22:00.664Z"
   },
   {
    "duration": 15,
    "start_time": "2022-02-07T06:22:00.678Z"
   },
   {
    "duration": 16,
    "start_time": "2022-02-07T06:22:00.695Z"
   },
   {
    "duration": 11,
    "start_time": "2022-02-07T06:22:00.712Z"
   },
   {
    "duration": 9,
    "start_time": "2022-02-07T06:22:00.725Z"
   },
   {
    "duration": 14,
    "start_time": "2022-02-07T06:22:00.736Z"
   },
   {
    "duration": 17,
    "start_time": "2022-02-07T06:22:00.751Z"
   },
   {
    "duration": 19,
    "start_time": "2022-02-07T06:22:00.770Z"
   },
   {
    "duration": 15,
    "start_time": "2022-02-07T06:22:00.790Z"
   },
   {
    "duration": 12,
    "start_time": "2022-02-07T06:22:00.807Z"
   },
   {
    "duration": 10,
    "start_time": "2022-02-07T06:22:04.532Z"
   },
   {
    "duration": 405,
    "start_time": "2022-02-07T06:23:38.340Z"
   },
   {
    "duration": 1169,
    "start_time": "2022-02-07T06:25:10.547Z"
   },
   {
    "duration": 10,
    "start_time": "2022-02-07T06:25:30.444Z"
   },
   {
    "duration": 4,
    "start_time": "2022-02-07T06:25:36.555Z"
   },
   {
    "duration": 8,
    "start_time": "2022-02-07T06:31:04.305Z"
   },
   {
    "duration": 8,
    "start_time": "2022-02-07T06:31:07.209Z"
   },
   {
    "duration": 8,
    "start_time": "2022-02-07T06:31:19.401Z"
   },
   {
    "duration": 8,
    "start_time": "2022-02-07T06:31:21.154Z"
   },
   {
    "duration": 5,
    "start_time": "2022-02-07T06:31:24.257Z"
   },
   {
    "duration": 4,
    "start_time": "2022-02-07T06:31:26.185Z"
   },
   {
    "duration": 14,
    "start_time": "2022-02-07T06:31:30.481Z"
   },
   {
    "duration": 6,
    "start_time": "2022-02-07T06:32:47.198Z"
   },
   {
    "duration": 10,
    "start_time": "2022-02-07T06:32:49.000Z"
   },
   {
    "duration": 4,
    "start_time": "2022-02-07T06:34:39.232Z"
   },
   {
    "duration": 6,
    "start_time": "2022-02-07T06:34:49.272Z"
   },
   {
    "duration": 3,
    "start_time": "2022-02-07T06:35:06.519Z"
   },
   {
    "duration": 5,
    "start_time": "2022-02-07T06:35:08.663Z"
   },
   {
    "duration": 4,
    "start_time": "2022-02-07T06:35:10.543Z"
   },
   {
    "duration": 5,
    "start_time": "2022-02-07T06:35:15.871Z"
   },
   {
    "duration": 3,
    "start_time": "2022-02-07T06:35:30.464Z"
   },
   {
    "duration": 7,
    "start_time": "2022-02-07T06:35:32.552Z"
   },
   {
    "duration": 6,
    "start_time": "2022-02-07T06:35:34.711Z"
   },
   {
    "duration": 303,
    "start_time": "2022-02-07T06:35:40.634Z"
   },
   {
    "duration": 11,
    "start_time": "2022-02-07T06:35:42.568Z"
   },
   {
    "duration": 11,
    "start_time": "2022-02-07T06:35:57.663Z"
   },
   {
    "duration": 13,
    "start_time": "2022-02-07T06:36:09.654Z"
   },
   {
    "duration": 8,
    "start_time": "2022-02-07T06:36:24.295Z"
   },
   {
    "duration": 433,
    "start_time": "2022-02-07T06:37:11.254Z"
   },
   {
    "duration": 4,
    "start_time": "2022-02-07T06:37:15.278Z"
   },
   {
    "duration": 7,
    "start_time": "2022-02-07T06:37:18.638Z"
   },
   {
    "duration": 7,
    "start_time": "2022-02-07T06:37:27.430Z"
   },
   {
    "duration": 7,
    "start_time": "2022-02-07T06:37:36.958Z"
   },
   {
    "duration": 17,
    "start_time": "2022-02-07T06:37:40.230Z"
   },
   {
    "duration": 4,
    "start_time": "2022-02-07T06:37:42.918Z"
   },
   {
    "duration": 7,
    "start_time": "2022-02-07T06:37:48.294Z"
   },
   {
    "duration": 10,
    "start_time": "2022-02-07T06:38:05.782Z"
   },
   {
    "duration": 1122,
    "start_time": "2022-02-07T06:38:46.791Z"
   },
   {
    "duration": 9,
    "start_time": "2022-02-07T06:38:47.914Z"
   },
   {
    "duration": 55,
    "start_time": "2022-02-07T06:38:47.925Z"
   },
   {
    "duration": 15,
    "start_time": "2022-02-07T06:38:47.982Z"
   },
   {
    "duration": 7,
    "start_time": "2022-02-07T06:38:47.998Z"
   },
   {
    "duration": 3,
    "start_time": "2022-02-07T06:38:48.007Z"
   },
   {
    "duration": 8,
    "start_time": "2022-02-07T06:38:48.011Z"
   },
   {
    "duration": 13,
    "start_time": "2022-02-07T06:38:48.021Z"
   },
   {
    "duration": 5,
    "start_time": "2022-02-07T06:38:48.036Z"
   },
   {
    "duration": 11,
    "start_time": "2022-02-07T06:38:48.043Z"
   },
   {
    "duration": 3,
    "start_time": "2022-02-07T06:38:48.056Z"
   },
   {
    "duration": 12,
    "start_time": "2022-02-07T06:38:48.060Z"
   },
   {
    "duration": 6,
    "start_time": "2022-02-07T06:38:48.074Z"
   },
   {
    "duration": 7,
    "start_time": "2022-02-07T06:38:48.081Z"
   },
   {
    "duration": 4,
    "start_time": "2022-02-07T06:38:48.090Z"
   },
   {
    "duration": 5,
    "start_time": "2022-02-07T06:38:48.095Z"
   },
   {
    "duration": 3,
    "start_time": "2022-02-07T06:38:48.101Z"
   },
   {
    "duration": 5,
    "start_time": "2022-02-07T06:38:48.127Z"
   },
   {
    "duration": 5,
    "start_time": "2022-02-07T06:38:48.133Z"
   },
   {
    "duration": 421,
    "start_time": "2022-02-07T06:38:48.139Z"
   },
   {
    "duration": 11,
    "start_time": "2022-02-07T06:38:48.562Z"
   },
   {
    "duration": 12,
    "start_time": "2022-02-07T06:38:48.575Z"
   },
   {
    "duration": 5,
    "start_time": "2022-02-07T06:38:48.589Z"
   },
   {
    "duration": 433,
    "start_time": "2022-02-07T06:38:48.596Z"
   },
   {
    "duration": 9,
    "start_time": "2022-02-07T06:39:07.853Z"
   },
   {
    "duration": 9,
    "start_time": "2022-02-07T06:39:21.949Z"
   },
   {
    "duration": 1158,
    "start_time": "2022-02-07T06:39:34.157Z"
   },
   {
    "duration": 9,
    "start_time": "2022-02-07T06:39:35.317Z"
   },
   {
    "duration": 6,
    "start_time": "2022-02-07T06:39:35.328Z"
   },
   {
    "duration": 7,
    "start_time": "2022-02-07T06:39:35.336Z"
   },
   {
    "duration": 6,
    "start_time": "2022-02-07T06:39:35.345Z"
   },
   {
    "duration": 7,
    "start_time": "2022-02-07T06:39:35.352Z"
   },
   {
    "duration": 4,
    "start_time": "2022-02-07T06:39:35.361Z"
   },
   {
    "duration": 21,
    "start_time": "2022-02-07T06:39:35.367Z"
   },
   {
    "duration": 5,
    "start_time": "2022-02-07T06:39:35.391Z"
   },
   {
    "duration": 14,
    "start_time": "2022-02-07T06:39:35.397Z"
   },
   {
    "duration": 3,
    "start_time": "2022-02-07T06:39:35.427Z"
   },
   {
    "duration": 9,
    "start_time": "2022-02-07T06:39:35.431Z"
   },
   {
    "duration": 8,
    "start_time": "2022-02-07T06:39:35.441Z"
   },
   {
    "duration": 11,
    "start_time": "2022-02-07T06:39:35.451Z"
   },
   {
    "duration": 4,
    "start_time": "2022-02-07T06:39:35.464Z"
   },
   {
    "duration": 5,
    "start_time": "2022-02-07T06:39:35.469Z"
   },
   {
    "duration": 3,
    "start_time": "2022-02-07T06:39:35.476Z"
   },
   {
    "duration": 6,
    "start_time": "2022-02-07T06:39:35.480Z"
   },
   {
    "duration": 8,
    "start_time": "2022-02-07T06:39:35.488Z"
   },
   {
    "duration": 323,
    "start_time": "2022-02-07T06:39:35.498Z"
   },
   {
    "duration": 13,
    "start_time": "2022-02-07T06:39:35.823Z"
   },
   {
    "duration": 14,
    "start_time": "2022-02-07T06:39:35.838Z"
   },
   {
    "duration": 12,
    "start_time": "2022-02-07T06:39:35.853Z"
   },
   {
    "duration": 12,
    "start_time": "2022-02-07T06:39:38.183Z"
   },
   {
    "duration": 408,
    "start_time": "2022-02-07T06:41:50.198Z"
   },
   {
    "duration": 10,
    "start_time": "2022-02-07T06:41:55.839Z"
   },
   {
    "duration": 8,
    "start_time": "2022-02-07T06:45:52.748Z"
   },
   {
    "duration": 4,
    "start_time": "2022-02-07T06:46:51.931Z"
   },
   {
    "duration": 7,
    "start_time": "2022-02-07T06:46:54.468Z"
   },
   {
    "duration": 6,
    "start_time": "2022-02-07T06:47:01.293Z"
   },
   {
    "duration": 7,
    "start_time": "2022-02-07T06:47:03.539Z"
   },
   {
    "duration": 4,
    "start_time": "2022-02-07T06:47:06.459Z"
   },
   {
    "duration": 17,
    "start_time": "2022-02-07T06:47:08.716Z"
   },
   {
    "duration": 4,
    "start_time": "2022-02-07T06:47:10.899Z"
   },
   {
    "duration": 7,
    "start_time": "2022-02-07T06:47:13.267Z"
   },
   {
    "duration": 7,
    "start_time": "2022-02-07T06:47:27.531Z"
   },
   {
    "duration": 4,
    "start_time": "2022-02-07T06:47:30.371Z"
   },
   {
    "duration": 6,
    "start_time": "2022-02-07T06:47:32.356Z"
   },
   {
    "duration": 4,
    "start_time": "2022-02-07T06:47:34.651Z"
   },
   {
    "duration": 6,
    "start_time": "2022-02-07T06:47:36.531Z"
   },
   {
    "duration": 6,
    "start_time": "2022-02-07T06:47:38.949Z"
   },
   {
    "duration": 5,
    "start_time": "2022-02-07T06:47:40.635Z"
   },
   {
    "duration": 7,
    "start_time": "2022-02-07T06:47:42.899Z"
   },
   {
    "duration": 5,
    "start_time": "2022-02-07T06:47:47.307Z"
   },
   {
    "duration": 5,
    "start_time": "2022-02-07T06:47:49.274Z"
   },
   {
    "duration": 5,
    "start_time": "2022-02-07T06:47:53.059Z"
   },
   {
    "duration": 6,
    "start_time": "2022-02-07T06:47:59.995Z"
   },
   {
    "duration": 527,
    "start_time": "2022-02-07T06:48:10.267Z"
   },
   {
    "duration": 7,
    "start_time": "2022-02-07T06:48:14.683Z"
   },
   {
    "duration": 18,
    "start_time": "2022-02-07T06:48:16.203Z"
   },
   {
    "duration": 13,
    "start_time": "2022-02-07T06:48:18.243Z"
   },
   {
    "duration": 7,
    "start_time": "2022-02-07T06:48:20.707Z"
   },
   {
    "duration": 11,
    "start_time": "2022-02-07T06:48:23.747Z"
   },
   {
    "duration": 10,
    "start_time": "2022-02-07T06:48:29.059Z"
   },
   {
    "duration": 1163,
    "start_time": "2022-02-07T06:49:14.442Z"
   },
   {
    "duration": 10,
    "start_time": "2022-02-07T06:49:18.274Z"
   },
   {
    "duration": 4,
    "start_time": "2022-02-07T06:49:22.961Z"
   },
   {
    "duration": 7,
    "start_time": "2022-02-07T06:49:34.498Z"
   },
   {
    "duration": 8,
    "start_time": "2022-02-07T06:49:37.337Z"
   },
   {
    "duration": 4,
    "start_time": "2022-02-07T06:49:38.602Z"
   },
   {
    "duration": 5,
    "start_time": "2022-02-07T06:49:40.193Z"
   },
   {
    "duration": 14,
    "start_time": "2022-02-07T06:49:41.210Z"
   },
   {
    "duration": 6,
    "start_time": "2022-02-07T06:49:51.617Z"
   },
   {
    "duration": 10,
    "start_time": "2022-02-07T06:49:54.106Z"
   },
   {
    "duration": 4,
    "start_time": "2022-02-07T06:49:58.153Z"
   },
   {
    "duration": 6,
    "start_time": "2022-02-07T06:50:00.593Z"
   },
   {
    "duration": 4,
    "start_time": "2022-02-07T06:50:04.017Z"
   },
   {
    "duration": 5,
    "start_time": "2022-02-07T06:50:04.914Z"
   },
   {
    "duration": 4,
    "start_time": "2022-02-07T06:50:06.417Z"
   },
   {
    "duration": 5,
    "start_time": "2022-02-07T06:50:10.944Z"
   },
   {
    "duration": 3,
    "start_time": "2022-02-07T06:50:15.713Z"
   },
   {
    "duration": 8,
    "start_time": "2022-02-07T06:51:07.321Z"
   },
   {
    "duration": 4,
    "start_time": "2022-02-07T06:51:15.873Z"
   },
   {
    "duration": 3,
    "start_time": "2022-02-07T06:53:17.560Z"
   },
   {
    "duration": 5,
    "start_time": "2022-02-07T06:53:19.408Z"
   },
   {
    "duration": 4,
    "start_time": "2022-02-07T06:54:02.287Z"
   },
   {
    "duration": 396,
    "start_time": "2022-02-07T06:54:08.967Z"
   },
   {
    "duration": 12,
    "start_time": "2022-02-07T06:54:11.223Z"
   },
   {
    "duration": 10,
    "start_time": "2022-02-07T06:54:23.790Z"
   },
   {
    "duration": 12,
    "start_time": "2022-02-07T06:54:32.607Z"
   },
   {
    "duration": 7,
    "start_time": "2022-02-07T06:54:37.407Z"
   },
   {
    "duration": 10,
    "start_time": "2022-02-07T06:54:41.335Z"
   },
   {
    "duration": 953,
    "start_time": "2022-02-07T06:56:09.591Z"
   },
   {
    "duration": 5,
    "start_time": "2022-02-07T06:56:11.014Z"
   },
   {
    "duration": 4,
    "start_time": "2022-02-07T06:56:40.038Z"
   },
   {
    "duration": 1153,
    "start_time": "2022-02-07T06:56:52.552Z"
   },
   {
    "duration": 9,
    "start_time": "2022-02-07T06:56:53.706Z"
   },
   {
    "duration": 3,
    "start_time": "2022-02-07T06:56:53.717Z"
   },
   {
    "duration": 8,
    "start_time": "2022-02-07T06:56:53.721Z"
   },
   {
    "duration": 7,
    "start_time": "2022-02-07T06:56:53.730Z"
   },
   {
    "duration": 5,
    "start_time": "2022-02-07T06:56:53.738Z"
   },
   {
    "duration": 11,
    "start_time": "2022-02-07T06:56:53.744Z"
   },
   {
    "duration": 13,
    "start_time": "2022-02-07T06:56:53.756Z"
   },
   {
    "duration": 5,
    "start_time": "2022-02-07T06:56:53.772Z"
   },
   {
    "duration": 13,
    "start_time": "2022-02-07T06:56:53.778Z"
   },
   {
    "duration": 4,
    "start_time": "2022-02-07T06:56:53.792Z"
   },
   {
    "duration": 32,
    "start_time": "2022-02-07T06:56:53.797Z"
   },
   {
    "duration": 2,
    "start_time": "2022-02-07T06:56:53.831Z"
   },
   {
    "duration": 6,
    "start_time": "2022-02-07T06:56:53.835Z"
   },
   {
    "duration": 4,
    "start_time": "2022-02-07T06:56:53.843Z"
   },
   {
    "duration": 4,
    "start_time": "2022-02-07T06:56:53.848Z"
   },
   {
    "duration": 4,
    "start_time": "2022-02-07T06:56:53.854Z"
   },
   {
    "duration": 5,
    "start_time": "2022-02-07T06:56:53.859Z"
   },
   {
    "duration": 7,
    "start_time": "2022-02-07T06:56:53.865Z"
   },
   {
    "duration": 6,
    "start_time": "2022-02-07T06:56:53.873Z"
   },
   {
    "duration": 7,
    "start_time": "2022-02-07T06:56:53.880Z"
   },
   {
    "duration": 354,
    "start_time": "2022-02-07T06:56:53.888Z"
   },
   {
    "duration": 12,
    "start_time": "2022-02-07T06:56:54.243Z"
   },
   {
    "duration": 12,
    "start_time": "2022-02-07T06:56:54.257Z"
   },
   {
    "duration": 8,
    "start_time": "2022-02-07T06:56:54.271Z"
   },
   {
    "duration": 452,
    "start_time": "2022-02-07T06:56:54.280Z"
   },
   {
    "duration": 4,
    "start_time": "2022-02-07T06:56:54.735Z"
   },
   {
    "duration": 5,
    "start_time": "2022-02-07T06:56:57.657Z"
   },
   {
    "duration": 11,
    "start_time": "2022-02-07T06:57:07.898Z"
   },
   {
    "duration": 10,
    "start_time": "2022-02-07T06:57:19.739Z"
   },
   {
    "duration": 1147,
    "start_time": "2022-02-07T07:02:04.766Z"
   },
   {
    "duration": 10,
    "start_time": "2022-02-07T07:02:05.915Z"
   },
   {
    "duration": 3,
    "start_time": "2022-02-07T07:02:05.928Z"
   },
   {
    "duration": 8,
    "start_time": "2022-02-07T07:02:05.932Z"
   },
   {
    "duration": 6,
    "start_time": "2022-02-07T07:02:05.941Z"
   },
   {
    "duration": 4,
    "start_time": "2022-02-07T07:02:05.949Z"
   },
   {
    "duration": 8,
    "start_time": "2022-02-07T07:02:05.954Z"
   },
   {
    "duration": 15,
    "start_time": "2022-02-07T07:02:05.963Z"
   },
   {
    "duration": 5,
    "start_time": "2022-02-07T07:02:05.980Z"
   },
   {
    "duration": 11,
    "start_time": "2022-02-07T07:02:05.987Z"
   },
   {
    "duration": 28,
    "start_time": "2022-02-07T07:02:06.000Z"
   },
   {
    "duration": 5,
    "start_time": "2022-02-07T07:02:06.029Z"
   },
   {
    "duration": 6,
    "start_time": "2022-02-07T07:02:06.035Z"
   },
   {
    "duration": 8,
    "start_time": "2022-02-07T07:02:06.043Z"
   },
   {
    "duration": 8,
    "start_time": "2022-02-07T07:02:06.052Z"
   },
   {
    "duration": 5,
    "start_time": "2022-02-07T07:02:06.062Z"
   },
   {
    "duration": 4,
    "start_time": "2022-02-07T07:02:06.068Z"
   },
   {
    "duration": 9,
    "start_time": "2022-02-07T07:02:06.073Z"
   },
   {
    "duration": 2,
    "start_time": "2022-02-07T07:02:06.083Z"
   },
   {
    "duration": 5,
    "start_time": "2022-02-07T07:02:06.087Z"
   },
   {
    "duration": 6,
    "start_time": "2022-02-07T07:02:06.094Z"
   },
   {
    "duration": 320,
    "start_time": "2022-02-07T07:02:06.127Z"
   },
   {
    "duration": 12,
    "start_time": "2022-02-07T07:02:06.448Z"
   },
   {
    "duration": 13,
    "start_time": "2022-02-07T07:02:06.462Z"
   },
   {
    "duration": 7,
    "start_time": "2022-02-07T07:02:06.477Z"
   },
   {
    "duration": 58,
    "start_time": "2022-02-07T07:02:21.417Z"
   },
   {
    "duration": 10,
    "start_time": "2022-02-07T07:02:21.477Z"
   },
   {
    "duration": 4,
    "start_time": "2022-02-07T07:02:21.489Z"
   },
   {
    "duration": 35,
    "start_time": "2022-02-07T07:02:21.495Z"
   },
   {
    "duration": 7,
    "start_time": "2022-02-07T07:02:21.532Z"
   },
   {
    "duration": 4,
    "start_time": "2022-02-07T07:02:21.541Z"
   },
   {
    "duration": 6,
    "start_time": "2022-02-07T07:02:21.547Z"
   },
   {
    "duration": 13,
    "start_time": "2022-02-07T07:02:21.555Z"
   },
   {
    "duration": 7,
    "start_time": "2022-02-07T07:02:21.570Z"
   },
   {
    "duration": 10,
    "start_time": "2022-02-07T07:02:21.578Z"
   },
   {
    "duration": 5,
    "start_time": "2022-02-07T07:02:21.627Z"
   },
   {
    "duration": 7,
    "start_time": "2022-02-07T07:02:21.633Z"
   },
   {
    "duration": 5,
    "start_time": "2022-02-07T07:02:21.641Z"
   },
   {
    "duration": 11,
    "start_time": "2022-02-07T07:02:21.647Z"
   },
   {
    "duration": 16,
    "start_time": "2022-02-07T07:02:21.659Z"
   },
   {
    "duration": 8,
    "start_time": "2022-02-07T07:02:21.677Z"
   },
   {
    "duration": 6,
    "start_time": "2022-02-07T07:02:21.686Z"
   },
   {
    "duration": 7,
    "start_time": "2022-02-07T07:02:21.694Z"
   },
   {
    "duration": 25,
    "start_time": "2022-02-07T07:02:21.702Z"
   },
   {
    "duration": 5,
    "start_time": "2022-02-07T07:02:21.729Z"
   },
   {
    "duration": 5,
    "start_time": "2022-02-07T07:02:21.735Z"
   },
   {
    "duration": 329,
    "start_time": "2022-02-07T07:02:21.742Z"
   },
   {
    "duration": 11,
    "start_time": "2022-02-07T07:02:22.074Z"
   },
   {
    "duration": 14,
    "start_time": "2022-02-07T07:02:22.087Z"
   },
   {
    "duration": 6,
    "start_time": "2022-02-07T07:02:22.102Z"
   },
   {
    "duration": 59,
    "start_time": "2022-02-07T07:02:26.569Z"
   },
   {
    "duration": 11,
    "start_time": "2022-02-07T07:02:26.630Z"
   },
   {
    "duration": 3,
    "start_time": "2022-02-07T07:02:26.643Z"
   },
   {
    "duration": 8,
    "start_time": "2022-02-07T07:02:26.648Z"
   },
   {
    "duration": 6,
    "start_time": "2022-02-07T07:02:26.658Z"
   },
   {
    "duration": 3,
    "start_time": "2022-02-07T07:02:26.666Z"
   },
   {
    "duration": 6,
    "start_time": "2022-02-07T07:02:26.671Z"
   },
   {
    "duration": 49,
    "start_time": "2022-02-07T07:02:26.678Z"
   },
   {
    "duration": 5,
    "start_time": "2022-02-07T07:02:26.730Z"
   },
   {
    "duration": 10,
    "start_time": "2022-02-07T07:02:26.737Z"
   },
   {
    "duration": 8,
    "start_time": "2022-02-07T07:02:26.749Z"
   },
   {
    "duration": 6,
    "start_time": "2022-02-07T07:02:26.758Z"
   },
   {
    "duration": 4,
    "start_time": "2022-02-07T07:02:26.765Z"
   },
   {
    "duration": 6,
    "start_time": "2022-02-07T07:02:26.771Z"
   },
   {
    "duration": 5,
    "start_time": "2022-02-07T07:02:26.778Z"
   },
   {
    "duration": 4,
    "start_time": "2022-02-07T07:02:26.785Z"
   },
   {
    "duration": 3,
    "start_time": "2022-02-07T07:02:26.791Z"
   },
   {
    "duration": 35,
    "start_time": "2022-02-07T07:02:26.795Z"
   },
   {
    "duration": 6,
    "start_time": "2022-02-07T07:02:26.831Z"
   },
   {
    "duration": 10,
    "start_time": "2022-02-07T07:02:26.839Z"
   },
   {
    "duration": 9,
    "start_time": "2022-02-07T07:02:26.850Z"
   },
   {
    "duration": 323,
    "start_time": "2022-02-07T07:02:26.860Z"
   },
   {
    "duration": 12,
    "start_time": "2022-02-07T07:02:27.184Z"
   },
   {
    "duration": 13,
    "start_time": "2022-02-07T07:02:27.197Z"
   },
   {
    "duration": 20,
    "start_time": "2022-02-07T07:02:27.211Z"
   },
   {
    "duration": 109,
    "start_time": "2022-02-07T07:02:27.232Z"
   },
   {
    "duration": -1222,
    "start_time": "2022-02-07T07:02:28.565Z"
   },
   {
    "duration": -1226,
    "start_time": "2022-02-07T07:02:28.569Z"
   },
   {
    "duration": 614,
    "start_time": "2022-02-07T07:02:42.420Z"
   },
   {
    "duration": 445,
    "start_time": "2022-02-07T07:03:44.644Z"
   },
   {
    "duration": 4,
    "start_time": "2022-02-07T07:03:48.643Z"
   },
   {
    "duration": 10,
    "start_time": "2022-02-07T07:03:50.075Z"
   },
   {
    "duration": 1114,
    "start_time": "2022-02-07T07:04:41.366Z"
   },
   {
    "duration": 10,
    "start_time": "2022-02-07T07:04:42.482Z"
   },
   {
    "duration": 6,
    "start_time": "2022-02-07T07:04:42.493Z"
   },
   {
    "duration": 9,
    "start_time": "2022-02-07T07:04:42.500Z"
   },
   {
    "duration": 17,
    "start_time": "2022-02-07T07:04:42.511Z"
   },
   {
    "duration": 3,
    "start_time": "2022-02-07T07:04:42.529Z"
   },
   {
    "duration": 5,
    "start_time": "2022-02-07T07:04:42.534Z"
   },
   {
    "duration": 14,
    "start_time": "2022-02-07T07:04:42.540Z"
   },
   {
    "duration": 5,
    "start_time": "2022-02-07T07:04:42.556Z"
   },
   {
    "duration": 10,
    "start_time": "2022-02-07T07:04:42.562Z"
   },
   {
    "duration": 4,
    "start_time": "2022-02-07T07:04:42.573Z"
   },
   {
    "duration": 7,
    "start_time": "2022-02-07T07:04:42.578Z"
   },
   {
    "duration": 4,
    "start_time": "2022-02-07T07:04:42.586Z"
   },
   {
    "duration": 36,
    "start_time": "2022-02-07T07:04:42.591Z"
   },
   {
    "duration": 5,
    "start_time": "2022-02-07T07:04:42.629Z"
   },
   {
    "duration": 4,
    "start_time": "2022-02-07T07:04:59.744Z"
   },
   {
    "duration": 3,
    "start_time": "2022-02-07T07:05:02.352Z"
   },
   {
    "duration": 7,
    "start_time": "2022-02-07T07:05:11.696Z"
   },
   {
    "duration": 3,
    "start_time": "2022-02-07T07:05:12.528Z"
   },
   {
    "duration": 5,
    "start_time": "2022-02-07T07:05:15.072Z"
   },
   {
    "duration": 309,
    "start_time": "2022-02-07T07:05:40.208Z"
   },
   {
    "duration": 11,
    "start_time": "2022-02-07T07:05:41.360Z"
   },
   {
    "duration": 1099,
    "start_time": "2022-02-07T07:08:14.417Z"
   },
   {
    "duration": 10,
    "start_time": "2022-02-07T07:08:17.689Z"
   },
   {
    "duration": 4,
    "start_time": "2022-02-07T07:08:20.178Z"
   },
   {
    "duration": 7,
    "start_time": "2022-02-07T07:08:35.290Z"
   },
   {
    "duration": 7,
    "start_time": "2022-02-07T07:08:38.914Z"
   },
   {
    "duration": 4,
    "start_time": "2022-02-07T07:08:42.761Z"
   },
   {
    "duration": 4,
    "start_time": "2022-02-07T07:08:43.433Z"
   },
   {
    "duration": 13,
    "start_time": "2022-02-07T07:08:47.577Z"
   },
   {
    "duration": 6,
    "start_time": "2022-02-07T07:08:51.833Z"
   },
   {
    "duration": 9,
    "start_time": "2022-02-07T07:08:52.946Z"
   },
   {
    "duration": 5,
    "start_time": "2022-02-07T07:09:54.403Z"
   },
   {
    "duration": 6,
    "start_time": "2022-02-07T07:09:56.547Z"
   },
   {
    "duration": 3,
    "start_time": "2022-02-07T07:09:59.536Z"
   },
   {
    "duration": 6,
    "start_time": "2022-02-07T07:10:02.121Z"
   },
   {
    "duration": 5,
    "start_time": "2022-02-07T07:10:04.208Z"
   },
   {
    "duration": 5,
    "start_time": "2022-02-07T07:12:09.583Z"
   },
   {
    "duration": 4,
    "start_time": "2022-02-07T07:12:29.719Z"
   },
   {
    "duration": 7,
    "start_time": "2022-02-07T07:12:30.680Z"
   },
   {
    "duration": 3,
    "start_time": "2022-02-07T07:12:44.824Z"
   },
   {
    "duration": 5,
    "start_time": "2022-02-07T07:12:46.850Z"
   },
   {
    "duration": 11,
    "start_time": "2022-02-07T07:13:14.911Z"
   },
   {
    "duration": 12,
    "start_time": "2022-02-07T07:13:22.406Z"
   },
   {
    "duration": 13,
    "start_time": "2022-02-07T07:13:27.522Z"
   },
   {
    "duration": 8,
    "start_time": "2022-02-07T07:13:36.895Z"
   },
   {
    "duration": 3,
    "start_time": "2022-02-07T07:17:33.171Z"
   },
   {
    "duration": 11,
    "start_time": "2022-02-07T07:17:34.963Z"
   },
   {
    "duration": 11,
    "start_time": "2022-02-07T07:17:47.587Z"
   },
   {
    "duration": 4,
    "start_time": "2022-02-07T07:18:10.907Z"
   },
   {
    "duration": 7,
    "start_time": "2022-02-07T07:18:13.154Z"
   },
   {
    "duration": 6,
    "start_time": "2022-02-07T07:18:16.978Z"
   },
   {
    "duration": 8,
    "start_time": "2022-02-07T07:18:19.187Z"
   },
   {
    "duration": 18,
    "start_time": "2022-02-07T07:18:25.402Z"
   },
   {
    "duration": 3,
    "start_time": "2022-02-07T07:18:27.083Z"
   },
   {
    "duration": 11,
    "start_time": "2022-02-07T07:18:31.403Z"
   },
   {
    "duration": 7,
    "start_time": "2022-02-07T07:18:35.195Z"
   },
   {
    "duration": 20,
    "start_time": "2022-02-07T07:20:02.019Z"
   },
   {
    "duration": 19,
    "start_time": "2022-02-07T07:20:10.442Z"
   },
   {
    "duration": 7,
    "start_time": "2022-02-07T07:20:11.938Z"
   },
   {
    "duration": 4,
    "start_time": "2022-02-07T07:20:17.042Z"
   },
   {
    "duration": 9,
    "start_time": "2022-02-07T07:20:19.826Z"
   },
   {
    "duration": 5,
    "start_time": "2022-02-07T07:20:22.057Z"
   },
   {
    "duration": 7,
    "start_time": "2022-02-07T07:20:23.897Z"
   },
   {
    "duration": 7,
    "start_time": "2022-02-07T07:20:26.010Z"
   },
   {
    "duration": 5,
    "start_time": "2022-02-07T07:20:32.257Z"
   },
   {
    "duration": 7,
    "start_time": "2022-02-07T07:20:50.545Z"
   },
   {
    "duration": 6,
    "start_time": "2022-02-07T07:20:52.986Z"
   },
   {
    "duration": 4,
    "start_time": "2022-02-07T07:20:56.786Z"
   },
   {
    "duration": 4,
    "start_time": "2022-02-07T07:20:59.794Z"
   },
   {
    "duration": 6,
    "start_time": "2022-02-07T07:21:05.720Z"
   },
   {
    "duration": 7,
    "start_time": "2022-02-07T07:21:55.258Z"
   },
   {
    "duration": 19,
    "start_time": "2022-02-07T07:21:57.857Z"
   },
   {
    "duration": 12,
    "start_time": "2022-02-07T07:22:00.329Z"
   },
   {
    "duration": 1162,
    "start_time": "2022-02-07T07:22:33.885Z"
   },
   {
    "duration": 10,
    "start_time": "2022-02-07T07:22:35.048Z"
   },
   {
    "duration": 3,
    "start_time": "2022-02-07T07:22:35.060Z"
   },
   {
    "duration": 8,
    "start_time": "2022-02-07T07:22:35.065Z"
   },
   {
    "duration": 7,
    "start_time": "2022-02-07T07:22:35.075Z"
   },
   {
    "duration": 3,
    "start_time": "2022-02-07T07:22:35.084Z"
   },
   {
    "duration": 8,
    "start_time": "2022-02-07T07:22:35.089Z"
   },
   {
    "duration": 34,
    "start_time": "2022-02-07T07:22:35.098Z"
   },
   {
    "duration": 6,
    "start_time": "2022-02-07T07:22:35.134Z"
   },
   {
    "duration": 9,
    "start_time": "2022-02-07T07:22:35.142Z"
   },
   {
    "duration": 4,
    "start_time": "2022-02-07T07:22:35.152Z"
   },
   {
    "duration": 6,
    "start_time": "2022-02-07T07:22:35.157Z"
   },
   {
    "duration": 4,
    "start_time": "2022-02-07T07:22:35.165Z"
   },
   {
    "duration": 9,
    "start_time": "2022-02-07T07:22:35.171Z"
   },
   {
    "duration": 6,
    "start_time": "2022-02-07T07:22:35.182Z"
   },
   {
    "duration": 38,
    "start_time": "2022-02-07T07:22:35.189Z"
   },
   {
    "duration": 4,
    "start_time": "2022-02-07T07:22:35.229Z"
   },
   {
    "duration": 6,
    "start_time": "2022-02-07T07:22:35.235Z"
   },
   {
    "duration": 4,
    "start_time": "2022-02-07T07:22:35.242Z"
   },
   {
    "duration": 6,
    "start_time": "2022-02-07T07:22:35.247Z"
   },
   {
    "duration": 13,
    "start_time": "2022-02-07T07:22:35.254Z"
   },
   {
    "duration": 13,
    "start_time": "2022-02-07T07:22:35.268Z"
   },
   {
    "duration": 6,
    "start_time": "2022-02-07T07:22:35.282Z"
   },
   {
    "duration": 7,
    "start_time": "2022-02-07T07:22:35.290Z"
   },
   {
    "duration": 38,
    "start_time": "2022-02-07T07:22:35.298Z"
   },
   {
    "duration": 4,
    "start_time": "2022-02-07T07:22:35.338Z"
   },
   {
    "duration": 5,
    "start_time": "2022-02-07T07:22:35.345Z"
   },
   {
    "duration": 5,
    "start_time": "2022-02-07T07:22:35.352Z"
   },
   {
    "duration": 10,
    "start_time": "2022-02-07T07:22:35.358Z"
   },
   {
    "duration": 16,
    "start_time": "2022-02-07T07:22:35.370Z"
   },
   {
    "duration": 4,
    "start_time": "2022-02-07T07:22:35.387Z"
   },
   {
    "duration": 39,
    "start_time": "2022-02-07T07:22:35.392Z"
   },
   {
    "duration": 18,
    "start_time": "2022-02-07T07:22:35.432Z"
   },
   {
    "duration": 6,
    "start_time": "2022-02-07T07:22:35.451Z"
   },
   {
    "duration": 9,
    "start_time": "2022-02-07T07:22:35.458Z"
   },
   {
    "duration": 7,
    "start_time": "2022-02-07T07:22:35.469Z"
   },
   {
    "duration": 7,
    "start_time": "2022-02-07T07:22:35.478Z"
   },
   {
    "duration": 12,
    "start_time": "2022-02-07T07:22:35.487Z"
   },
   {
    "duration": 7,
    "start_time": "2022-02-07T07:22:35.500Z"
   },
   {
    "duration": 19,
    "start_time": "2022-02-07T07:22:35.509Z"
   },
   {
    "duration": 11,
    "start_time": "2022-02-07T07:22:35.529Z"
   },
   {
    "duration": 10,
    "start_time": "2022-02-07T07:22:35.541Z"
   },
   {
    "duration": 6,
    "start_time": "2022-02-07T07:22:35.552Z"
   },
   {
    "duration": 5,
    "start_time": "2022-02-07T07:22:35.559Z"
   },
   {
    "duration": 6,
    "start_time": "2022-02-07T07:22:35.566Z"
   },
   {
    "duration": 8,
    "start_time": "2022-02-07T07:22:35.573Z"
   },
   {
    "duration": 12,
    "start_time": "2022-02-07T07:22:39.449Z"
   },
   {
    "duration": 7,
    "start_time": "2022-02-07T07:22:41.385Z"
   },
   {
    "duration": 10,
    "start_time": "2022-02-07T07:22:45.088Z"
   },
   {
    "duration": 21,
    "start_time": "2022-02-07T07:23:12.385Z"
   },
   {
    "duration": 10,
    "start_time": "2022-02-07T07:23:58.049Z"
   },
   {
    "duration": 4,
    "start_time": "2022-02-07T07:24:02.034Z"
   },
   {
    "duration": 4,
    "start_time": "2022-02-07T07:24:03.505Z"
   },
   {
    "duration": 11,
    "start_time": "2022-02-07T07:24:05.137Z"
   },
   {
    "duration": 10,
    "start_time": "2022-02-07T07:24:18.569Z"
   },
   {
    "duration": 37,
    "start_time": "2022-02-07T07:24:36.824Z"
   },
   {
    "duration": 23,
    "start_time": "2022-02-07T07:24:38.640Z"
   },
   {
    "duration": 16,
    "start_time": "2022-02-07T07:24:39.673Z"
   },
   {
    "duration": 19,
    "start_time": "2022-02-07T07:24:40.768Z"
   },
   {
    "duration": 10,
    "start_time": "2022-02-07T07:24:41.705Z"
   },
   {
    "duration": 11,
    "start_time": "2022-02-07T07:24:44.696Z"
   },
   {
    "duration": 2,
    "start_time": "2022-02-07T07:36:43.044Z"
   },
   {
    "duration": 8,
    "start_time": "2022-02-07T07:38:25.348Z"
   },
   {
    "duration": 6,
    "start_time": "2022-02-07T07:39:09.507Z"
   },
   {
    "duration": 6,
    "start_time": "2022-02-07T07:39:23.147Z"
   },
   {
    "duration": 598,
    "start_time": "2022-02-07T07:39:37.947Z"
   },
   {
    "duration": 414,
    "start_time": "2022-02-07T07:45:15.529Z"
   },
   {
    "duration": 492,
    "start_time": "2022-02-07T07:45:29.345Z"
   },
   {
    "duration": 1222,
    "start_time": "2022-02-07T09:06:15.694Z"
   },
   {
    "duration": 11,
    "start_time": "2022-02-07T09:06:19.478Z"
   },
   {
    "duration": 4,
    "start_time": "2022-02-07T09:06:21.629Z"
   },
   {
    "duration": 7,
    "start_time": "2022-02-07T09:06:25.045Z"
   },
   {
    "duration": 7,
    "start_time": "2022-02-07T09:06:26.525Z"
   },
   {
    "duration": 4,
    "start_time": "2022-02-07T09:06:28.140Z"
   },
   {
    "duration": 5,
    "start_time": "2022-02-07T09:06:30.077Z"
   },
   {
    "duration": 13,
    "start_time": "2022-02-07T09:06:31.812Z"
   },
   {
    "duration": 5,
    "start_time": "2022-02-07T09:06:35.965Z"
   },
   {
    "duration": 10,
    "start_time": "2022-02-07T09:06:38.076Z"
   },
   {
    "duration": 4,
    "start_time": "2022-02-07T09:06:42.781Z"
   },
   {
    "duration": 6,
    "start_time": "2022-02-07T09:06:44.613Z"
   },
   {
    "duration": 4,
    "start_time": "2022-02-07T09:06:46.896Z"
   },
   {
    "duration": 6,
    "start_time": "2022-02-07T09:06:48.044Z"
   },
   {
    "duration": 5,
    "start_time": "2022-02-07T09:06:49.300Z"
   },
   {
    "duration": 5,
    "start_time": "2022-02-07T09:08:32.741Z"
   },
   {
    "duration": 4,
    "start_time": "2022-02-07T09:08:35.461Z"
   },
   {
    "duration": 8,
    "start_time": "2022-02-07T09:08:37.413Z"
   },
   {
    "duration": 4,
    "start_time": "2022-02-07T09:08:38.862Z"
   },
   {
    "duration": 4,
    "start_time": "2022-02-07T09:08:40.406Z"
   },
   {
    "duration": 12,
    "start_time": "2022-02-07T09:08:45.853Z"
   },
   {
    "duration": 12,
    "start_time": "2022-02-07T09:09:38.876Z"
   },
   {
    "duration": 7,
    "start_time": "2022-02-07T09:09:42.555Z"
   },
   {
    "duration": 3,
    "start_time": "2022-02-07T09:09:44.732Z"
   },
   {
    "duration": 11,
    "start_time": "2022-02-07T09:09:46.652Z"
   },
   {
    "duration": 5,
    "start_time": "2022-02-07T09:09:49.683Z"
   },
   {
    "duration": 8,
    "start_time": "2022-02-07T09:09:53.084Z"
   },
   {
    "duration": 660,
    "start_time": "2022-02-07T09:14:11.075Z"
   },
   {
    "duration": 651,
    "start_time": "2022-02-07T09:14:35.395Z"
   },
   {
    "duration": 629,
    "start_time": "2022-02-07T09:14:37.650Z"
   },
   {
    "duration": 615,
    "start_time": "2022-02-07T09:14:39.602Z"
   },
   {
    "duration": 12,
    "start_time": "2022-02-07T09:14:41.666Z"
   },
   {
    "duration": 10,
    "start_time": "2022-02-07T09:14:52.602Z"
   },
   {
    "duration": 3,
    "start_time": "2022-02-07T09:16:03.962Z"
   },
   {
    "duration": 11,
    "start_time": "2022-02-07T09:16:05.489Z"
   },
   {
    "duration": 3,
    "start_time": "2022-02-07T09:16:43.633Z"
   },
   {
    "duration": 10,
    "start_time": "2022-02-07T09:16:44.897Z"
   },
   {
    "duration": 8,
    "start_time": "2022-02-07T09:16:56.137Z"
   },
   {
    "duration": 12,
    "start_time": "2022-02-07T09:17:19.537Z"
   },
   {
    "duration": 8,
    "start_time": "2022-02-07T09:17:27.177Z"
   },
   {
    "duration": 1140,
    "start_time": "2022-02-07T09:17:55.781Z"
   },
   {
    "duration": 10,
    "start_time": "2022-02-07T09:17:56.922Z"
   },
   {
    "duration": 3,
    "start_time": "2022-02-07T09:17:56.934Z"
   },
   {
    "duration": 9,
    "start_time": "2022-02-07T09:17:56.939Z"
   },
   {
    "duration": 7,
    "start_time": "2022-02-07T09:17:56.949Z"
   },
   {
    "duration": 4,
    "start_time": "2022-02-07T09:17:56.957Z"
   },
   {
    "duration": 5,
    "start_time": "2022-02-07T09:17:56.962Z"
   },
   {
    "duration": 14,
    "start_time": "2022-02-07T09:17:56.968Z"
   },
   {
    "duration": 5,
    "start_time": "2022-02-07T09:17:56.984Z"
   },
   {
    "duration": 37,
    "start_time": "2022-02-07T09:17:56.991Z"
   },
   {
    "duration": 3,
    "start_time": "2022-02-07T09:17:57.030Z"
   },
   {
    "duration": 6,
    "start_time": "2022-02-07T09:17:57.035Z"
   },
   {
    "duration": 2,
    "start_time": "2022-02-07T09:17:57.043Z"
   },
   {
    "duration": 7,
    "start_time": "2022-02-07T09:17:57.047Z"
   },
   {
    "duration": 5,
    "start_time": "2022-02-07T09:17:57.056Z"
   },
   {
    "duration": 4,
    "start_time": "2022-02-07T09:17:57.063Z"
   },
   {
    "duration": 8,
    "start_time": "2022-02-07T09:17:57.068Z"
   },
   {
    "duration": 5,
    "start_time": "2022-02-07T09:17:57.077Z"
   },
   {
    "duration": 3,
    "start_time": "2022-02-07T09:17:57.083Z"
   },
   {
    "duration": 41,
    "start_time": "2022-02-07T09:17:57.088Z"
   },
   {
    "duration": 15,
    "start_time": "2022-02-07T09:17:57.131Z"
   },
   {
    "duration": 13,
    "start_time": "2022-02-07T09:17:57.148Z"
   },
   {
    "duration": 7,
    "start_time": "2022-02-07T09:17:57.162Z"
   },
   {
    "duration": 5,
    "start_time": "2022-02-07T09:17:57.170Z"
   },
   {
    "duration": 11,
    "start_time": "2022-02-07T09:18:04.545Z"
   },
   {
    "duration": 10,
    "start_time": "2022-02-07T09:18:12.337Z"
   },
   {
    "duration": 1108,
    "start_time": "2022-02-07T09:18:47.766Z"
   },
   {
    "duration": 9,
    "start_time": "2022-02-07T09:18:48.876Z"
   },
   {
    "duration": 3,
    "start_time": "2022-02-07T09:18:48.887Z"
   },
   {
    "duration": 8,
    "start_time": "2022-02-07T09:18:48.891Z"
   },
   {
    "duration": 7,
    "start_time": "2022-02-07T09:18:48.900Z"
   },
   {
    "duration": 21,
    "start_time": "2022-02-07T09:18:48.908Z"
   },
   {
    "duration": 4,
    "start_time": "2022-02-07T09:18:48.930Z"
   },
   {
    "duration": 15,
    "start_time": "2022-02-07T09:18:48.935Z"
   },
   {
    "duration": 6,
    "start_time": "2022-02-07T09:18:48.952Z"
   },
   {
    "duration": 9,
    "start_time": "2022-02-07T09:18:48.960Z"
   },
   {
    "duration": 4,
    "start_time": "2022-02-07T09:18:48.971Z"
   },
   {
    "duration": 7,
    "start_time": "2022-02-07T09:18:48.977Z"
   },
   {
    "duration": 7,
    "start_time": "2022-02-07T09:18:48.985Z"
   },
   {
    "duration": 38,
    "start_time": "2022-02-07T09:18:48.993Z"
   },
   {
    "duration": 4,
    "start_time": "2022-02-07T09:18:49.033Z"
   },
   {
    "duration": 7,
    "start_time": "2022-02-07T09:18:49.039Z"
   },
   {
    "duration": 10,
    "start_time": "2022-02-07T09:18:49.048Z"
   },
   {
    "duration": 9,
    "start_time": "2022-02-07T09:18:49.059Z"
   },
   {
    "duration": 5,
    "start_time": "2022-02-07T09:18:49.069Z"
   },
   {
    "duration": 7,
    "start_time": "2022-02-07T09:18:49.076Z"
   },
   {
    "duration": 14,
    "start_time": "2022-02-07T09:18:49.085Z"
   },
   {
    "duration": 31,
    "start_time": "2022-02-07T09:18:49.100Z"
   },
   {
    "duration": 6,
    "start_time": "2022-02-07T09:18:49.133Z"
   },
   {
    "duration": 5,
    "start_time": "2022-02-07T09:18:49.141Z"
   },
   {
    "duration": 13,
    "start_time": "2022-02-07T09:18:49.147Z"
   },
   {
    "duration": 5,
    "start_time": "2022-02-07T09:19:17.097Z"
   },
   {
    "duration": 6,
    "start_time": "2022-02-07T09:19:18.864Z"
   },
   {
    "duration": 6,
    "start_time": "2022-02-07T09:19:22.128Z"
   },
   {
    "duration": 6,
    "start_time": "2022-02-07T09:19:28.800Z"
   },
   {
    "duration": 7,
    "start_time": "2022-02-07T09:19:32.480Z"
   },
   {
    "duration": 17,
    "start_time": "2022-02-07T09:19:33.975Z"
   },
   {
    "duration": 4,
    "start_time": "2022-02-07T09:19:35.255Z"
   },
   {
    "duration": 7,
    "start_time": "2022-02-07T09:19:36.224Z"
   },
   {
    "duration": 19,
    "start_time": "2022-02-07T09:19:38.576Z"
   },
   {
    "duration": 7,
    "start_time": "2022-02-07T09:19:41.551Z"
   },
   {
    "duration": 7,
    "start_time": "2022-02-07T09:20:07.351Z"
   },
   {
    "duration": 5,
    "start_time": "2022-02-07T09:20:09.959Z"
   },
   {
    "duration": 6,
    "start_time": "2022-02-07T09:20:11.920Z"
   },
   {
    "duration": 5,
    "start_time": "2022-02-07T09:20:13.871Z"
   },
   {
    "duration": 9,
    "start_time": "2022-02-07T09:20:15.559Z"
   },
   {
    "duration": 7,
    "start_time": "2022-02-07T09:20:18.055Z"
   },
   {
    "duration": 5,
    "start_time": "2022-02-07T09:20:22.327Z"
   },
   {
    "duration": 7,
    "start_time": "2022-02-07T09:20:23.871Z"
   },
   {
    "duration": 6,
    "start_time": "2022-02-07T09:20:26.079Z"
   },
   {
    "duration": 5,
    "start_time": "2022-02-07T09:20:27.575Z"
   },
   {
    "duration": 5,
    "start_time": "2022-02-07T09:20:29.519Z"
   },
   {
    "duration": 6,
    "start_time": "2022-02-07T09:20:32.743Z"
   },
   {
    "duration": 7,
    "start_time": "2022-02-07T09:20:38.087Z"
   },
   {
    "duration": 12,
    "start_time": "2022-02-07T09:20:39.999Z"
   },
   {
    "duration": 7,
    "start_time": "2022-02-07T09:20:42.094Z"
   },
   {
    "duration": 10,
    "start_time": "2022-02-07T09:20:51.007Z"
   },
   {
    "duration": 4,
    "start_time": "2022-02-07T09:20:52.943Z"
   },
   {
    "duration": 4,
    "start_time": "2022-02-07T09:20:54.807Z"
   },
   {
    "duration": 12,
    "start_time": "2022-02-07T09:20:55.975Z"
   },
   {
    "duration": 37,
    "start_time": "2022-02-07T09:21:07.166Z"
   },
   {
    "duration": 23,
    "start_time": "2022-02-07T09:21:08.239Z"
   },
   {
    "duration": 16,
    "start_time": "2022-02-07T09:21:08.807Z"
   },
   {
    "duration": 16,
    "start_time": "2022-02-07T09:21:09.159Z"
   },
   {
    "duration": 10,
    "start_time": "2022-02-07T09:21:10.895Z"
   },
   {
    "duration": 15,
    "start_time": "2022-02-07T09:22:14.696Z"
   },
   {
    "duration": 17,
    "start_time": "2022-02-07T09:22:15.559Z"
   },
   {
    "duration": 8,
    "start_time": "2022-02-07T09:22:19.318Z"
   },
   {
    "duration": 81,
    "start_time": "2022-02-07T09:22:22.182Z"
   },
   {
    "duration": 5,
    "start_time": "2022-02-07T09:22:23.526Z"
   },
   {
    "duration": 588,
    "start_time": "2022-02-07T09:22:33.695Z"
   },
   {
    "duration": 323,
    "start_time": "2022-02-07T09:30:45.219Z"
   },
   {
    "duration": 4,
    "start_time": "2022-02-07T09:32:51.866Z"
   },
   {
    "duration": 4,
    "start_time": "2022-02-07T09:33:00.954Z"
   },
   {
    "duration": 15,
    "start_time": "2022-02-07T09:33:02.801Z"
   },
   {
    "duration": 10,
    "start_time": "2022-02-07T09:33:06.394Z"
   },
   {
    "duration": 1167,
    "start_time": "2022-02-07T09:38:48.049Z"
   },
   {
    "duration": 10,
    "start_time": "2022-02-07T09:38:54.689Z"
   },
   {
    "duration": 3,
    "start_time": "2022-02-07T09:38:57.337Z"
   },
   {
    "duration": 8,
    "start_time": "2022-02-07T10:03:55.050Z"
   },
   {
    "duration": 8,
    "start_time": "2022-02-07T10:03:57.274Z"
   },
   {
    "duration": 4,
    "start_time": "2022-02-07T10:03:59.394Z"
   },
   {
    "duration": 4,
    "start_time": "2022-02-07T10:04:01.466Z"
   },
   {
    "duration": 13,
    "start_time": "2022-02-07T10:04:03.090Z"
   },
   {
    "duration": 6,
    "start_time": "2022-02-07T10:05:46.482Z"
   },
   {
    "duration": 10,
    "start_time": "2022-02-07T10:05:47.858Z"
   },
   {
    "duration": 4,
    "start_time": "2022-02-07T10:05:53.681Z"
   },
   {
    "duration": 5,
    "start_time": "2022-02-07T10:05:54.977Z"
   },
   {
    "duration": 3,
    "start_time": "2022-02-07T10:05:56.969Z"
   },
   {
    "duration": 6,
    "start_time": "2022-02-07T10:05:57.585Z"
   },
   {
    "duration": 5,
    "start_time": "2022-02-07T10:05:59.025Z"
   },
   {
    "duration": 5,
    "start_time": "2022-02-07T10:06:03.529Z"
   },
   {
    "duration": 4,
    "start_time": "2022-02-07T10:06:19.248Z"
   },
   {
    "duration": 22,
    "start_time": "2022-02-07T10:06:19.577Z"
   },
   {
    "duration": 3,
    "start_time": "2022-02-07T10:06:19.889Z"
   },
   {
    "duration": 5,
    "start_time": "2022-02-07T10:06:20.282Z"
   },
   {
    "duration": 11,
    "start_time": "2022-02-07T10:06:23.553Z"
   },
   {
    "duration": 13,
    "start_time": "2022-02-07T10:06:40.410Z"
   },
   {
    "duration": 7,
    "start_time": "2022-02-07T10:06:51.673Z"
   },
   {
    "duration": 7,
    "start_time": "2022-02-07T10:07:16.729Z"
   },
   {
    "duration": 410,
    "start_time": "2022-02-07T10:09:33.248Z"
   },
   {
    "duration": 308,
    "start_time": "2022-02-07T10:09:43.336Z"
   },
   {
    "duration": 307,
    "start_time": "2022-02-07T10:09:48.792Z"
   },
   {
    "duration": 1903,
    "start_time": "2022-02-07T10:09:54.464Z"
   },
   {
    "duration": 321,
    "start_time": "2022-02-07T10:10:14.455Z"
   },
   {
    "duration": 2078,
    "start_time": "2022-02-07T10:10:17.999Z"
   },
   {
    "duration": 1489,
    "start_time": "2022-02-07T10:10:29.808Z"
   },
   {
    "duration": 5,
    "start_time": "2022-02-07T10:11:06.776Z"
   },
   {
    "duration": 5,
    "start_time": "2022-02-07T10:11:09.567Z"
   },
   {
    "duration": 6,
    "start_time": "2022-02-07T10:11:18.431Z"
   },
   {
    "duration": 337,
    "start_time": "2022-02-07T10:11:34.999Z"
   },
   {
    "duration": 4,
    "start_time": "2022-02-07T10:11:45.031Z"
   },
   {
    "duration": 12,
    "start_time": "2022-02-07T10:11:58.847Z"
   },
   {
    "duration": 1550,
    "start_time": "2022-02-07T10:12:07.622Z"
   },
   {
    "duration": 8,
    "start_time": "2022-02-07T10:12:24.758Z"
   },
   {
    "duration": 1293,
    "start_time": "2022-02-07T10:14:01.794Z"
   },
   {
    "duration": 11,
    "start_time": "2022-02-07T10:14:03.089Z"
   },
   {
    "duration": 4,
    "start_time": "2022-02-07T10:14:03.102Z"
   },
   {
    "duration": 7,
    "start_time": "2022-02-07T10:14:03.108Z"
   },
   {
    "duration": 7,
    "start_time": "2022-02-07T10:14:03.127Z"
   },
   {
    "duration": 8,
    "start_time": "2022-02-07T10:14:03.135Z"
   },
   {
    "duration": 5,
    "start_time": "2022-02-07T10:14:03.144Z"
   },
   {
    "duration": 15,
    "start_time": "2022-02-07T10:14:03.151Z"
   },
   {
    "duration": 4,
    "start_time": "2022-02-07T10:14:03.168Z"
   },
   {
    "duration": 8,
    "start_time": "2022-02-07T10:14:03.174Z"
   },
   {
    "duration": 4,
    "start_time": "2022-02-07T10:14:03.184Z"
   },
   {
    "duration": 38,
    "start_time": "2022-02-07T10:14:03.190Z"
   },
   {
    "duration": 4,
    "start_time": "2022-02-07T10:14:03.229Z"
   },
   {
    "duration": 7,
    "start_time": "2022-02-07T10:14:03.234Z"
   },
   {
    "duration": 6,
    "start_time": "2022-02-07T10:14:03.242Z"
   },
   {
    "duration": 8,
    "start_time": "2022-02-07T10:14:03.249Z"
   },
   {
    "duration": 8,
    "start_time": "2022-02-07T10:14:03.258Z"
   },
   {
    "duration": 6,
    "start_time": "2022-02-07T10:14:03.268Z"
   },
   {
    "duration": 4,
    "start_time": "2022-02-07T10:14:03.276Z"
   },
   {
    "duration": 7,
    "start_time": "2022-02-07T10:14:03.281Z"
   },
   {
    "duration": 11,
    "start_time": "2022-02-07T10:14:03.289Z"
   },
   {
    "duration": 35,
    "start_time": "2022-02-07T10:14:03.301Z"
   },
   {
    "duration": 5,
    "start_time": "2022-02-07T10:14:03.339Z"
   },
   {
    "duration": 7,
    "start_time": "2022-02-07T10:14:03.346Z"
   },
   {
    "duration": 10,
    "start_time": "2022-02-07T10:14:03.354Z"
   },
   {
    "duration": 9,
    "start_time": "2022-02-07T10:14:03.366Z"
   },
   {
    "duration": 3,
    "start_time": "2022-02-07T10:14:08.549Z"
   },
   {
    "duration": 5,
    "start_time": "2022-02-07T10:14:14.048Z"
   },
   {
    "duration": 6,
    "start_time": "2022-02-07T10:14:17.005Z"
   },
   {
    "duration": 7,
    "start_time": "2022-02-07T10:14:20.709Z"
   },
   {
    "duration": 18,
    "start_time": "2022-02-07T10:14:26.221Z"
   },
   {
    "duration": 3,
    "start_time": "2022-02-07T10:14:27.885Z"
   },
   {
    "duration": 8,
    "start_time": "2022-02-07T10:14:28.892Z"
   },
   {
    "duration": 19,
    "start_time": "2022-02-07T10:14:36.229Z"
   },
   {
    "duration": 6,
    "start_time": "2022-02-07T10:14:36.821Z"
   },
   {
    "duration": 7,
    "start_time": "2022-02-07T10:14:44.660Z"
   },
   {
    "duration": 4,
    "start_time": "2022-02-07T10:14:48.301Z"
   },
   {
    "duration": 7,
    "start_time": "2022-02-07T10:14:50.700Z"
   },
   {
    "duration": 4,
    "start_time": "2022-02-07T10:14:51.780Z"
   },
   {
    "duration": 9,
    "start_time": "2022-02-07T10:14:54.324Z"
   },
   {
    "duration": 5,
    "start_time": "2022-02-07T10:15:46.820Z"
   },
   {
    "duration": 7,
    "start_time": "2022-02-07T10:15:56.668Z"
   },
   {
    "duration": 6,
    "start_time": "2022-02-07T10:15:59.980Z"
   },
   {
    "duration": 5,
    "start_time": "2022-02-07T10:16:02.100Z"
   },
   {
    "duration": 5,
    "start_time": "2022-02-07T10:16:06.044Z"
   },
   {
    "duration": 6,
    "start_time": "2022-02-07T10:16:08.212Z"
   },
   {
    "duration": 8,
    "start_time": "2022-02-07T10:16:31.356Z"
   },
   {
    "duration": 12,
    "start_time": "2022-02-07T10:16:33.028Z"
   },
   {
    "duration": 10,
    "start_time": "2022-02-07T10:17:00.716Z"
   },
   {
    "duration": 7,
    "start_time": "2022-02-07T10:18:01.620Z"
   },
   {
    "duration": 6,
    "start_time": "2022-02-07T10:18:26.067Z"
   },
   {
    "duration": 415,
    "start_time": "2022-02-07T10:18:31.203Z"
   },
   {
    "duration": 338,
    "start_time": "2022-02-07T10:18:33.779Z"
   },
   {
    "duration": 321,
    "start_time": "2022-02-07T10:18:40.370Z"
   },
   {
    "duration": 1179,
    "start_time": "2022-02-07T10:19:54.616Z"
   },
   {
    "duration": 8,
    "start_time": "2022-02-07T10:19:55.797Z"
   },
   {
    "duration": 3,
    "start_time": "2022-02-07T10:19:55.807Z"
   },
   {
    "duration": 7,
    "start_time": "2022-02-07T10:19:55.811Z"
   },
   {
    "duration": 9,
    "start_time": "2022-02-07T10:19:55.820Z"
   },
   {
    "duration": 3,
    "start_time": "2022-02-07T10:19:55.831Z"
   },
   {
    "duration": 5,
    "start_time": "2022-02-07T10:19:55.835Z"
   },
   {
    "duration": 13,
    "start_time": "2022-02-07T10:19:55.841Z"
   },
   {
    "duration": 5,
    "start_time": "2022-02-07T10:19:55.856Z"
   },
   {
    "duration": 10,
    "start_time": "2022-02-07T10:19:55.862Z"
   },
   {
    "duration": 4,
    "start_time": "2022-02-07T10:19:55.874Z"
   },
   {
    "duration": 6,
    "start_time": "2022-02-07T10:19:55.879Z"
   },
   {
    "duration": 41,
    "start_time": "2022-02-07T10:19:55.886Z"
   },
   {
    "duration": 6,
    "start_time": "2022-02-07T10:19:55.929Z"
   },
   {
    "duration": 7,
    "start_time": "2022-02-07T10:19:55.936Z"
   },
   {
    "duration": 11,
    "start_time": "2022-02-07T10:19:55.945Z"
   },
   {
    "duration": 4,
    "start_time": "2022-02-07T10:19:55.957Z"
   },
   {
    "duration": 6,
    "start_time": "2022-02-07T10:19:55.963Z"
   },
   {
    "duration": 4,
    "start_time": "2022-02-07T10:19:55.970Z"
   },
   {
    "duration": 6,
    "start_time": "2022-02-07T10:19:55.975Z"
   },
   {
    "duration": 12,
    "start_time": "2022-02-07T10:19:55.983Z"
   },
   {
    "duration": 41,
    "start_time": "2022-02-07T10:19:55.997Z"
   },
   {
    "duration": 7,
    "start_time": "2022-02-07T10:19:56.041Z"
   },
   {
    "duration": 3,
    "start_time": "2022-02-07T10:19:56.051Z"
   },
   {
    "duration": 10,
    "start_time": "2022-02-07T10:19:56.056Z"
   },
   {
    "duration": 10,
    "start_time": "2022-02-07T10:19:56.068Z"
   },
   {
    "duration": 4,
    "start_time": "2022-02-07T10:19:56.080Z"
   },
   {
    "duration": 8,
    "start_time": "2022-02-07T10:19:56.127Z"
   },
   {
    "duration": 8,
    "start_time": "2022-02-07T10:19:56.136Z"
   },
   {
    "duration": 7,
    "start_time": "2022-02-07T10:19:56.145Z"
   },
   {
    "duration": 16,
    "start_time": "2022-02-07T10:19:56.154Z"
   },
   {
    "duration": 3,
    "start_time": "2022-02-07T10:19:56.172Z"
   },
   {
    "duration": 7,
    "start_time": "2022-02-07T10:19:56.177Z"
   },
   {
    "duration": 52,
    "start_time": "2022-02-07T10:19:56.186Z"
   },
   {
    "duration": 5,
    "start_time": "2022-02-07T10:19:56.239Z"
   },
   {
    "duration": 6,
    "start_time": "2022-02-07T10:19:56.246Z"
   },
   {
    "duration": 7,
    "start_time": "2022-02-07T10:19:56.253Z"
   },
   {
    "duration": 7,
    "start_time": "2022-02-07T10:19:56.261Z"
   },
   {
    "duration": 6,
    "start_time": "2022-02-07T10:19:56.270Z"
   },
   {
    "duration": 7,
    "start_time": "2022-02-07T10:19:56.277Z"
   },
   {
    "duration": 6,
    "start_time": "2022-02-07T10:19:56.286Z"
   },
   {
    "duration": 4,
    "start_time": "2022-02-07T10:19:56.293Z"
   },
   {
    "duration": 7,
    "start_time": "2022-02-07T10:19:56.327Z"
   },
   {
    "duration": 6,
    "start_time": "2022-02-07T10:19:56.336Z"
   },
   {
    "duration": 4,
    "start_time": "2022-02-07T10:19:56.344Z"
   },
   {
    "duration": 5,
    "start_time": "2022-02-07T10:19:56.349Z"
   },
   {
    "duration": 7,
    "start_time": "2022-02-07T10:19:56.355Z"
   },
   {
    "duration": 9,
    "start_time": "2022-02-07T10:19:56.363Z"
   },
   {
    "duration": 8,
    "start_time": "2022-02-07T10:19:56.373Z"
   },
   {
    "duration": 51,
    "start_time": "2022-02-07T10:19:56.382Z"
   },
   {
    "duration": 10,
    "start_time": "2022-02-07T10:19:56.435Z"
   },
   {
    "duration": 4,
    "start_time": "2022-02-07T10:19:56.446Z"
   },
   {
    "duration": 6,
    "start_time": "2022-02-07T10:19:56.451Z"
   },
   {
    "duration": 5,
    "start_time": "2022-02-07T10:19:56.459Z"
   },
   {
    "duration": 14,
    "start_time": "2022-02-07T10:19:56.466Z"
   },
   {
    "duration": 64,
    "start_time": "2022-02-07T10:19:56.481Z"
   },
   {
    "duration": 23,
    "start_time": "2022-02-07T10:19:56.546Z"
   },
   {
    "duration": 15,
    "start_time": "2022-02-07T10:19:56.571Z"
   },
   {
    "duration": 16,
    "start_time": "2022-02-07T10:19:56.588Z"
   },
   {
    "duration": 32,
    "start_time": "2022-02-07T10:19:56.605Z"
   },
   {
    "duration": 12,
    "start_time": "2022-02-07T10:19:56.639Z"
   },
   {
    "duration": 7,
    "start_time": "2022-02-07T10:19:56.652Z"
   },
   {
    "duration": 9,
    "start_time": "2022-02-07T10:19:56.660Z"
   },
   {
    "duration": 612,
    "start_time": "2022-02-07T10:20:00.045Z"
   },
   {
    "duration": 510,
    "start_time": "2022-02-07T10:25:00.539Z"
   },
   {
    "duration": 39,
    "start_time": "2022-02-07T10:29:39.619Z"
   },
   {
    "duration": 114,
    "start_time": "2022-02-07T10:30:10.409Z"
   },
   {
    "duration": 33,
    "start_time": "2022-02-07T10:30:16.097Z"
   },
   {
    "duration": 35,
    "start_time": "2022-02-07T10:30:55.098Z"
   },
   {
    "duration": 4,
    "start_time": "2022-02-07T10:31:02.841Z"
   },
   {
    "duration": 104,
    "start_time": "2022-02-07T10:31:45.136Z"
   },
   {
    "duration": 8,
    "start_time": "2022-02-07T10:31:50.440Z"
   },
   {
    "duration": 343,
    "start_time": "2022-02-07T10:42:47.799Z"
   },
   {
    "duration": 321,
    "start_time": "2022-02-07T10:43:05.088Z"
   },
   {
    "duration": 248,
    "start_time": "2022-02-07T10:43:52.680Z"
   },
   {
    "duration": 272,
    "start_time": "2022-02-07T10:43:58.128Z"
   },
   {
    "duration": 326,
    "start_time": "2022-02-07T10:44:29.784Z"
   },
   {
    "duration": 6,
    "start_time": "2022-02-07T10:44:50.087Z"
   },
   {
    "duration": 131,
    "start_time": "2022-02-07T10:45:03.887Z"
   },
   {
    "duration": 37,
    "start_time": "2022-02-07T10:45:26.679Z"
   },
   {
    "duration": 7,
    "start_time": "2022-02-07T10:45:41.838Z"
   },
   {
    "duration": 129,
    "start_time": "2022-02-07T10:45:55.710Z"
   },
   {
    "duration": 339,
    "start_time": "2022-02-07T10:46:10.527Z"
   },
   {
    "duration": 39,
    "start_time": "2022-02-07T10:46:21.278Z"
   },
   {
    "duration": 7,
    "start_time": "2022-02-07T10:46:41.558Z"
   },
   {
    "duration": 323,
    "start_time": "2022-02-07T10:47:05.877Z"
   },
   {
    "duration": 138,
    "start_time": "2022-02-07T10:47:22.906Z"
   },
   {
    "duration": 49,
    "start_time": "2022-02-07T10:47:33.220Z"
   },
   {
    "duration": 9543,
    "start_time": "2022-02-07T10:48:08.001Z"
   },
   {
    "duration": 8139,
    "start_time": "2022-02-07T10:48:27.329Z"
   },
   {
    "duration": -174,
    "start_time": "2022-02-07T10:48:35.644Z"
   },
   {
    "duration": 7850,
    "start_time": "2022-02-07T10:48:47.849Z"
   },
   {
    "duration": 3,
    "start_time": "2022-02-07T11:17:04.450Z"
   },
   {
    "duration": 2,
    "start_time": "2022-02-07T11:18:45.153Z"
   },
   {
    "duration": 2,
    "start_time": "2022-02-07T11:18:47.305Z"
   },
   {
    "duration": 107,
    "start_time": "2022-02-07T11:21:56.560Z"
   },
   {
    "duration": 328,
    "start_time": "2022-02-07T11:54:38.645Z"
   },
   {
    "duration": 62,
    "start_time": "2022-02-07T11:54:48.438Z"
   },
   {
    "duration": 61,
    "start_time": "2022-02-07T11:54:57.253Z"
   },
   {
    "duration": 57,
    "start_time": "2022-02-07T11:55:08.029Z"
   },
   {
    "duration": 5,
    "start_time": "2022-02-07T11:55:49.532Z"
   },
   {
    "duration": 1319,
    "start_time": "2022-02-07T12:32:24.210Z"
   },
   {
    "duration": 11,
    "start_time": "2022-02-07T12:32:35.537Z"
   },
   {
    "duration": 4,
    "start_time": "2022-02-07T12:32:41.762Z"
   },
   {
    "duration": 7,
    "start_time": "2022-02-07T12:34:38.433Z"
   },
   {
    "duration": 7,
    "start_time": "2022-02-07T12:34:50.249Z"
   },
   {
    "duration": 7,
    "start_time": "2022-02-07T12:34:57.193Z"
   },
   {
    "duration": 8,
    "start_time": "2022-02-07T12:35:00.864Z"
   },
   {
    "duration": 4,
    "start_time": "2022-02-07T12:35:14.200Z"
   },
   {
    "duration": 4,
    "start_time": "2022-02-07T12:35:15.817Z"
   },
   {
    "duration": 13,
    "start_time": "2022-02-07T12:35:21.473Z"
   },
   {
    "duration": 13,
    "start_time": "2022-02-07T12:35:41.258Z"
   },
   {
    "duration": 6,
    "start_time": "2022-02-07T12:37:25.944Z"
   },
   {
    "duration": 9,
    "start_time": "2022-02-07T12:37:28.784Z"
   },
   {
    "duration": 4,
    "start_time": "2022-02-07T12:43:19.694Z"
   },
   {
    "duration": 4,
    "start_time": "2022-02-07T12:43:29.206Z"
   },
   {
    "duration": 6,
    "start_time": "2022-02-07T12:44:05.247Z"
   },
   {
    "duration": 4,
    "start_time": "2022-02-07T12:45:04.085Z"
   },
   {
    "duration": 6,
    "start_time": "2022-02-07T12:45:13.900Z"
   },
   {
    "duration": 5,
    "start_time": "2022-02-07T12:45:19.140Z"
   },
   {
    "duration": 5,
    "start_time": "2022-02-07T12:49:18.775Z"
   },
   {
    "duration": 5,
    "start_time": "2022-02-07T12:50:36.909Z"
   },
   {
    "duration": 3,
    "start_time": "2022-02-07T12:50:41.285Z"
   },
   {
    "duration": 15,
    "start_time": "2022-02-07T12:50:42.382Z"
   },
   {
    "duration": 4,
    "start_time": "2022-02-07T12:50:43.013Z"
   },
   {
    "duration": 5,
    "start_time": "2022-02-07T12:50:43.445Z"
   },
   {
    "duration": 11,
    "start_time": "2022-02-07T12:51:15.093Z"
   },
   {
    "duration": 15,
    "start_time": "2022-02-07T12:51:25.644Z"
   },
   {
    "duration": 7,
    "start_time": "2022-02-07T12:51:30.565Z"
   },
   {
    "duration": 3,
    "start_time": "2022-02-07T12:51:38.484Z"
   },
   {
    "duration": 10,
    "start_time": "2022-02-07T12:51:43.052Z"
   },
   {
    "duration": 10,
    "start_time": "2022-02-07T12:51:47.676Z"
   },
   {
    "duration": 3,
    "start_time": "2022-02-07T12:53:11.243Z"
   },
   {
    "duration": 2,
    "start_time": "2022-02-07T12:53:23.646Z"
   },
   {
    "duration": 509,
    "start_time": "2022-02-07T17:31:23.007Z"
   },
   {
    "duration": 366,
    "start_time": "2022-02-07T17:32:12.636Z"
   },
   {
    "duration": 1557,
    "start_time": "2022-02-07T17:32:52.726Z"
   },
   {
    "duration": 14,
    "start_time": "2022-02-07T17:32:54.286Z"
   },
   {
    "duration": 5,
    "start_time": "2022-02-07T17:32:54.303Z"
   },
   {
    "duration": 40,
    "start_time": "2022-02-07T17:32:54.311Z"
   },
   {
    "duration": 13,
    "start_time": "2022-02-07T17:32:54.354Z"
   },
   {
    "duration": 15,
    "start_time": "2022-02-07T17:32:54.369Z"
   },
   {
    "duration": 8,
    "start_time": "2022-02-07T17:32:54.387Z"
   },
   {
    "duration": 52,
    "start_time": "2022-02-07T17:32:54.399Z"
   },
   {
    "duration": 10,
    "start_time": "2022-02-07T17:32:54.455Z"
   },
   {
    "duration": 19,
    "start_time": "2022-02-07T17:32:54.467Z"
   },
   {
    "duration": 6,
    "start_time": "2022-02-07T17:32:54.489Z"
   },
   {
    "duration": 29,
    "start_time": "2022-02-07T17:32:54.497Z"
   },
   {
    "duration": 22,
    "start_time": "2022-02-07T17:32:54.528Z"
   },
   {
    "duration": 10,
    "start_time": "2022-02-07T17:32:54.553Z"
   },
   {
    "duration": 9,
    "start_time": "2022-02-07T17:32:54.565Z"
   },
   {
    "duration": 7,
    "start_time": "2022-02-07T17:32:54.577Z"
   },
   {
    "duration": 8,
    "start_time": "2022-02-07T17:32:54.586Z"
   },
   {
    "duration": 10,
    "start_time": "2022-02-07T17:32:54.596Z"
   },
   {
    "duration": 40,
    "start_time": "2022-02-07T17:32:54.608Z"
   },
   {
    "duration": 7,
    "start_time": "2022-02-07T17:32:54.651Z"
   },
   {
    "duration": 22,
    "start_time": "2022-02-07T17:32:54.660Z"
   },
   {
    "duration": 30,
    "start_time": "2022-02-07T17:32:54.685Z"
   },
   {
    "duration": 36,
    "start_time": "2022-02-07T17:32:54.721Z"
   },
   {
    "duration": 8,
    "start_time": "2022-02-07T17:32:54.760Z"
   },
   {
    "duration": 6,
    "start_time": "2022-02-07T17:32:54.770Z"
   },
   {
    "duration": 17,
    "start_time": "2022-02-07T17:32:54.778Z"
   },
   {
    "duration": 52,
    "start_time": "2022-02-07T17:32:54.797Z"
   },
   {
    "duration": 6,
    "start_time": "2022-02-07T17:33:48.778Z"
   },
   {
    "duration": 5,
    "start_time": "2022-02-07T17:33:50.085Z"
   },
   {
    "duration": 15,
    "start_time": "2022-02-07T17:33:51.478Z"
   },
   {
    "duration": 18,
    "start_time": "2022-02-07T17:33:54.481Z"
   },
   {
    "duration": 5,
    "start_time": "2022-02-07T17:35:18.718Z"
   },
   {
    "duration": 5,
    "start_time": "2022-02-07T17:35:20.550Z"
   },
   {
    "duration": 421,
    "start_time": "2022-02-07T17:35:26.347Z"
   },
   {
    "duration": 6,
    "start_time": "2022-02-07T17:35:36.026Z"
   },
   {
    "duration": 97,
    "start_time": "2022-02-07T17:36:15.959Z"
   },
   {
    "duration": 5,
    "start_time": "2022-02-07T17:36:20.021Z"
   },
   {
    "duration": 1566,
    "start_time": "2022-02-07T17:36:33.111Z"
   },
   {
    "duration": 16,
    "start_time": "2022-02-07T17:36:34.679Z"
   },
   {
    "duration": 4,
    "start_time": "2022-02-07T17:36:34.698Z"
   },
   {
    "duration": 13,
    "start_time": "2022-02-07T17:36:34.705Z"
   },
   {
    "duration": 34,
    "start_time": "2022-02-07T17:36:34.721Z"
   },
   {
    "duration": 15,
    "start_time": "2022-02-07T17:36:34.758Z"
   },
   {
    "duration": 12,
    "start_time": "2022-02-07T17:36:34.775Z"
   },
   {
    "duration": 34,
    "start_time": "2022-02-07T17:36:34.790Z"
   },
   {
    "duration": 18,
    "start_time": "2022-02-07T17:36:34.827Z"
   },
   {
    "duration": 28,
    "start_time": "2022-02-07T17:36:34.847Z"
   },
   {
    "duration": 15,
    "start_time": "2022-02-07T17:36:34.878Z"
   },
   {
    "duration": 1520,
    "start_time": "2022-02-07T17:51:09.446Z"
   },
   {
    "duration": 15,
    "start_time": "2022-02-07T17:51:18.058Z"
   },
   {
    "duration": 5,
    "start_time": "2022-02-07T17:51:27.479Z"
   },
   {
    "duration": 9,
    "start_time": "2022-02-07T17:51:32.519Z"
   },
   {
    "duration": 12,
    "start_time": "2022-02-07T17:53:36.524Z"
   },
   {
    "duration": 12,
    "start_time": "2022-02-07T17:53:39.280Z"
   },
   {
    "duration": 6,
    "start_time": "2022-02-07T17:53:41.988Z"
   },
   {
    "duration": 6,
    "start_time": "2022-02-07T17:53:43.727Z"
   },
   {
    "duration": 23,
    "start_time": "2022-02-07T17:53:47.180Z"
   },
   {
    "duration": 5,
    "start_time": "2022-02-07T17:56:10.336Z"
   },
   {
    "duration": 9,
    "start_time": "2022-02-07T17:56:14.649Z"
   },
   {
    "duration": 7,
    "start_time": "2022-02-07T17:56:22.629Z"
   },
   {
    "duration": 7,
    "start_time": "2022-02-07T17:56:38.760Z"
   },
   {
    "duration": 6,
    "start_time": "2022-02-07T17:57:06.709Z"
   },
   {
    "duration": 8,
    "start_time": "2022-02-07T17:57:09.009Z"
   },
   {
    "duration": 7,
    "start_time": "2022-02-07T17:57:11.053Z"
   },
   {
    "duration": 7,
    "start_time": "2022-02-07T17:57:14.196Z"
   },
   {
    "duration": 1542,
    "start_time": "2022-02-07T17:59:59.081Z"
   },
   {
    "duration": 22,
    "start_time": "2022-02-07T18:00:00.626Z"
   },
   {
    "duration": 21,
    "start_time": "2022-02-07T18:00:00.652Z"
   },
   {
    "duration": 30,
    "start_time": "2022-02-07T18:00:00.676Z"
   },
   {
    "duration": 37,
    "start_time": "2022-02-07T18:00:00.709Z"
   },
   {
    "duration": 22,
    "start_time": "2022-02-07T18:00:00.749Z"
   },
   {
    "duration": 22,
    "start_time": "2022-02-07T18:00:00.774Z"
   },
   {
    "duration": 30,
    "start_time": "2022-02-07T18:00:00.799Z"
   },
   {
    "duration": 7,
    "start_time": "2022-02-07T18:00:00.832Z"
   },
   {
    "duration": 7,
    "start_time": "2022-02-07T18:00:16.029Z"
   },
   {
    "duration": 5,
    "start_time": "2022-02-07T18:01:32.458Z"
   },
   {
    "duration": 9,
    "start_time": "2022-02-07T18:01:35.233Z"
   },
   {
    "duration": 7,
    "start_time": "2022-02-07T18:01:37.046Z"
   },
   {
    "duration": 15,
    "start_time": "2022-02-07T18:01:48.397Z"
   },
   {
    "duration": 30,
    "start_time": "2022-02-07T18:03:32.750Z"
   },
   {
    "duration": 1637,
    "start_time": "2022-02-07T18:04:26.005Z"
   },
   {
    "duration": 19,
    "start_time": "2022-02-07T18:04:27.646Z"
   },
   {
    "duration": 38,
    "start_time": "2022-02-07T18:04:27.669Z"
   },
   {
    "duration": 35,
    "start_time": "2022-02-07T18:04:27.711Z"
   },
   {
    "duration": 20,
    "start_time": "2022-02-07T18:04:27.749Z"
   },
   {
    "duration": 15,
    "start_time": "2022-02-07T18:04:27.773Z"
   },
   {
    "duration": 17,
    "start_time": "2022-02-07T18:04:27.791Z"
   },
   {
    "duration": 47,
    "start_time": "2022-02-07T18:04:27.813Z"
   },
   {
    "duration": 6,
    "start_time": "2022-02-07T18:04:27.863Z"
   },
   {
    "duration": 10,
    "start_time": "2022-02-07T18:04:27.871Z"
   },
   {
    "duration": 14,
    "start_time": "2022-02-07T18:04:27.883Z"
   },
   {
    "duration": 49,
    "start_time": "2022-02-07T18:04:27.900Z"
   },
   {
    "duration": 6,
    "start_time": "2022-02-07T18:04:35.289Z"
   },
   {
    "duration": 9,
    "start_time": "2022-02-07T18:04:37.073Z"
   },
   {
    "duration": 5,
    "start_time": "2022-02-07T18:04:41.293Z"
   },
   {
    "duration": 8,
    "start_time": "2022-02-07T18:04:42.641Z"
   },
   {
    "duration": 7,
    "start_time": "2022-02-07T18:04:43.564Z"
   },
   {
    "duration": 8,
    "start_time": "2022-02-07T18:04:48.913Z"
   },
   {
    "duration": 10,
    "start_time": "2022-02-07T18:06:24.718Z"
   },
   {
    "duration": 4,
    "start_time": "2022-02-07T18:06:30.990Z"
   },
   {
    "duration": 7,
    "start_time": "2022-02-07T18:06:45.421Z"
   },
   {
    "duration": 20,
    "start_time": "2022-02-07T18:06:54.217Z"
   },
   {
    "duration": 32,
    "start_time": "2022-02-07T18:07:44.671Z"
   },
   {
    "duration": 12,
    "start_time": "2022-02-07T18:07:47.918Z"
   },
   {
    "duration": 8,
    "start_time": "2022-02-07T18:07:57.282Z"
   },
   {
    "duration": 5,
    "start_time": "2022-02-07T18:07:58.461Z"
   },
   {
    "duration": 14,
    "start_time": "2022-02-07T18:07:59.846Z"
   },
   {
    "duration": 18,
    "start_time": "2022-02-07T18:08:03.431Z"
   },
   {
    "duration": 123,
    "start_time": "2022-02-07T18:08:57.075Z"
   },
   {
    "duration": 7,
    "start_time": "2022-02-07T18:09:01.563Z"
   },
   {
    "duration": 1568,
    "start_time": "2022-02-07T18:09:48.203Z"
   },
   {
    "duration": 17,
    "start_time": "2022-02-07T18:09:49.774Z"
   },
   {
    "duration": 7,
    "start_time": "2022-02-07T18:09:49.795Z"
   },
   {
    "duration": 44,
    "start_time": "2022-02-07T18:09:49.805Z"
   },
   {
    "duration": 11,
    "start_time": "2022-02-07T18:09:49.852Z"
   },
   {
    "duration": 6,
    "start_time": "2022-02-07T18:09:49.865Z"
   },
   {
    "duration": 10,
    "start_time": "2022-02-07T18:09:49.874Z"
   },
   {
    "duration": 26,
    "start_time": "2022-02-07T18:09:49.888Z"
   },
   {
    "duration": 7,
    "start_time": "2022-02-07T18:09:49.950Z"
   },
   {
    "duration": 8,
    "start_time": "2022-02-07T18:09:49.960Z"
   },
   {
    "duration": 11,
    "start_time": "2022-02-07T18:09:49.971Z"
   },
   {
    "duration": 19,
    "start_time": "2022-02-07T18:09:49.985Z"
   },
   {
    "duration": 6,
    "start_time": "2022-02-07T18:09:50.049Z"
   },
   {
    "duration": 12,
    "start_time": "2022-02-07T18:09:50.057Z"
   },
   {
    "duration": 6,
    "start_time": "2022-02-07T18:09:50.072Z"
   },
   {
    "duration": 10,
    "start_time": "2022-02-07T18:09:50.081Z"
   },
   {
    "duration": 10,
    "start_time": "2022-02-07T18:09:50.094Z"
   },
   {
    "duration": 46,
    "start_time": "2022-02-07T18:09:50.106Z"
   },
   {
    "duration": 19,
    "start_time": "2022-02-07T18:09:50.155Z"
   },
   {
    "duration": 4,
    "start_time": "2022-02-07T18:09:50.176Z"
   },
   {
    "duration": 8,
    "start_time": "2022-02-07T18:09:50.182Z"
   },
   {
    "duration": 25,
    "start_time": "2022-02-07T18:09:50.192Z"
   },
   {
    "duration": 35,
    "start_time": "2022-02-07T18:09:50.222Z"
   },
   {
    "duration": 7,
    "start_time": "2022-02-07T18:09:50.260Z"
   },
   {
    "duration": 6,
    "start_time": "2022-02-07T18:09:50.270Z"
   },
   {
    "duration": 16,
    "start_time": "2022-02-07T18:09:50.279Z"
   },
   {
    "duration": 18,
    "start_time": "2022-02-07T18:10:14.347Z"
   },
   {
    "duration": 6,
    "start_time": "2022-02-07T18:10:17.027Z"
   },
   {
    "duration": 10,
    "start_time": "2022-02-07T18:10:20.071Z"
   },
   {
    "duration": 12,
    "start_time": "2022-02-07T18:10:27.071Z"
   },
   {
    "duration": 11,
    "start_time": "2022-02-07T18:10:29.187Z"
   },
   {
    "duration": 39,
    "start_time": "2022-02-07T18:10:32.188Z"
   },
   {
    "duration": 5,
    "start_time": "2022-02-07T18:10:34.475Z"
   },
   {
    "duration": 11,
    "start_time": "2022-02-07T18:10:37.035Z"
   },
   {
    "duration": 30,
    "start_time": "2022-02-07T18:10:49.283Z"
   },
   {
    "duration": 10,
    "start_time": "2022-02-07T18:10:50.635Z"
   },
   {
    "duration": 10,
    "start_time": "2022-02-07T18:10:56.195Z"
   },
   {
    "duration": 7,
    "start_time": "2022-02-07T18:11:00.087Z"
   },
   {
    "duration": 6,
    "start_time": "2022-02-07T18:11:11.963Z"
   },
   {
    "duration": 6,
    "start_time": "2022-02-07T18:11:25.248Z"
   },
   {
    "duration": 11,
    "start_time": "2022-02-07T18:11:36.108Z"
   },
   {
    "duration": 6,
    "start_time": "2022-02-07T18:11:38.111Z"
   },
   {
    "duration": 10,
    "start_time": "2022-02-07T18:11:42.412Z"
   },
   {
    "duration": 7,
    "start_time": "2022-02-07T18:12:05.205Z"
   },
   {
    "duration": 9,
    "start_time": "2022-02-07T18:12:11.044Z"
   },
   {
    "duration": 7,
    "start_time": "2022-02-07T18:12:12.320Z"
   },
   {
    "duration": 9,
    "start_time": "2022-02-07T18:12:15.028Z"
   },
   {
    "duration": 8,
    "start_time": "2022-02-07T18:12:17.856Z"
   },
   {
    "duration": 9,
    "start_time": "2022-02-07T18:12:23.352Z"
   },
   {
    "duration": 6,
    "start_time": "2022-02-07T18:12:33.780Z"
   },
   {
    "duration": 9,
    "start_time": "2022-02-07T18:12:50.332Z"
   },
   {
    "duration": 12,
    "start_time": "2022-02-07T18:12:57.856Z"
   },
   {
    "duration": 11,
    "start_time": "2022-02-07T18:13:00.932Z"
   },
   {
    "duration": 11,
    "start_time": "2022-02-07T18:13:03.760Z"
   },
   {
    "duration": 96,
    "start_time": "2022-02-07T18:13:14.828Z"
   },
   {
    "duration": 16,
    "start_time": "2022-02-07T18:13:17.640Z"
   },
   {
    "duration": 19,
    "start_time": "2022-02-07T18:13:32.365Z"
   },
   {
    "duration": 15,
    "start_time": "2022-02-07T18:13:58.649Z"
   },
   {
    "duration": 14,
    "start_time": "2022-02-07T18:16:38.198Z"
   },
   {
    "duration": 5,
    "start_time": "2022-02-07T18:16:45.546Z"
   },
   {
    "duration": 5,
    "start_time": "2022-02-07T18:16:47.054Z"
   },
   {
    "duration": 5,
    "start_time": "2022-02-07T18:16:50.006Z"
   },
   {
    "duration": 16,
    "start_time": "2022-02-07T18:16:52.530Z"
   },
   {
    "duration": 59,
    "start_time": "2022-02-07T18:17:43.566Z"
   },
   {
    "duration": 36,
    "start_time": "2022-02-07T18:17:44.590Z"
   },
   {
    "duration": 25,
    "start_time": "2022-02-07T18:17:46.758Z"
   },
   {
    "duration": 27,
    "start_time": "2022-02-07T18:17:47.450Z"
   },
   {
    "duration": 18,
    "start_time": "2022-02-07T18:17:48.426Z"
   },
   {
    "duration": 14,
    "start_time": "2022-02-07T18:19:08.399Z"
   },
   {
    "duration": 12,
    "start_time": "2022-02-07T18:19:15.959Z"
   },
   {
    "duration": 8,
    "start_time": "2022-02-07T18:19:18.447Z"
   },
   {
    "duration": 1061,
    "start_time": "2022-02-07T18:19:39.579Z"
   },
   {
    "duration": 104,
    "start_time": "2022-02-07T18:28:13.415Z"
   },
   {
    "duration": 94,
    "start_time": "2022-02-07T18:28:36.216Z"
   },
   {
    "duration": 105,
    "start_time": "2022-02-07T18:29:11.044Z"
   },
   {
    "duration": 100,
    "start_time": "2022-02-07T18:29:13.522Z"
   },
   {
    "duration": 158,
    "start_time": "2022-02-07T18:30:54.432Z"
   },
   {
    "duration": 94,
    "start_time": "2022-02-07T18:31:07.145Z"
   },
   {
    "duration": 95,
    "start_time": "2022-02-07T18:31:11.052Z"
   },
   {
    "duration": 97,
    "start_time": "2022-02-07T18:31:15.736Z"
   },
   {
    "duration": 134,
    "start_time": "2022-02-07T18:32:55.449Z"
   },
   {
    "duration": 120,
    "start_time": "2022-02-07T18:32:57.893Z"
   },
   {
    "duration": 162,
    "start_time": "2022-02-07T18:33:09.433Z"
   },
   {
    "duration": 8,
    "start_time": "2022-02-07T18:38:12.913Z"
   },
   {
    "duration": 14,
    "start_time": "2022-02-07T18:38:22.995Z"
   },
   {
    "duration": 28,
    "start_time": "2022-02-07T18:39:37.380Z"
   },
   {
    "duration": 25,
    "start_time": "2022-02-07T18:40:12.553Z"
   },
   {
    "duration": 13,
    "start_time": "2022-02-07T18:40:45.524Z"
   },
   {
    "duration": 13,
    "start_time": "2022-02-07T18:41:23.821Z"
   },
   {
    "duration": 1541,
    "start_time": "2022-02-07T18:41:41.977Z"
   },
   {
    "duration": 29,
    "start_time": "2022-02-07T18:41:43.521Z"
   },
   {
    "duration": 8,
    "start_time": "2022-02-07T18:41:43.555Z"
   },
   {
    "duration": 17,
    "start_time": "2022-02-07T18:41:43.567Z"
   },
   {
    "duration": 21,
    "start_time": "2022-02-07T18:41:43.587Z"
   },
   {
    "duration": 39,
    "start_time": "2022-02-07T18:41:43.611Z"
   },
   {
    "duration": 6,
    "start_time": "2022-02-07T18:41:43.652Z"
   },
   {
    "duration": 37,
    "start_time": "2022-02-07T18:41:43.661Z"
   },
   {
    "duration": 7,
    "start_time": "2022-02-07T18:41:43.702Z"
   },
   {
    "duration": 19,
    "start_time": "2022-02-07T18:41:43.712Z"
   },
   {
    "duration": 14,
    "start_time": "2022-02-07T18:41:43.748Z"
   },
   {
    "duration": 20,
    "start_time": "2022-02-07T18:41:43.765Z"
   },
   {
    "duration": 8,
    "start_time": "2022-02-07T18:41:43.788Z"
   },
   {
    "duration": 24,
    "start_time": "2022-02-07T18:41:43.799Z"
   },
   {
    "duration": 25,
    "start_time": "2022-02-07T18:41:43.826Z"
   },
   {
    "duration": 12,
    "start_time": "2022-02-07T18:41:43.853Z"
   },
   {
    "duration": 8,
    "start_time": "2022-02-07T18:41:43.867Z"
   },
   {
    "duration": 8,
    "start_time": "2022-02-07T18:41:43.879Z"
   },
   {
    "duration": 6,
    "start_time": "2022-02-07T18:41:43.889Z"
   },
   {
    "duration": 51,
    "start_time": "2022-02-07T18:41:43.898Z"
   },
   {
    "duration": 11,
    "start_time": "2022-02-07T18:41:43.952Z"
   },
   {
    "duration": 33,
    "start_time": "2022-02-07T18:41:43.966Z"
   },
   {
    "duration": 20,
    "start_time": "2022-02-07T18:41:44.002Z"
   },
   {
    "duration": 8,
    "start_time": "2022-02-07T18:41:44.050Z"
   },
   {
    "duration": 11,
    "start_time": "2022-02-07T18:41:44.061Z"
   },
   {
    "duration": 31,
    "start_time": "2022-02-07T18:41:44.076Z"
   },
   {
    "duration": 44,
    "start_time": "2022-02-07T18:41:44.114Z"
   },
   {
    "duration": 8,
    "start_time": "2022-02-07T18:41:44.162Z"
   },
   {
    "duration": 10,
    "start_time": "2022-02-07T18:41:44.173Z"
   },
   {
    "duration": 10,
    "start_time": "2022-02-07T18:41:44.186Z"
   },
   {
    "duration": 68,
    "start_time": "2022-02-07T18:41:44.199Z"
   },
   {
    "duration": 29,
    "start_time": "2022-02-07T18:41:44.270Z"
   },
   {
    "duration": 7,
    "start_time": "2022-02-07T18:41:44.302Z"
   },
   {
    "duration": 42,
    "start_time": "2022-02-07T18:41:44.312Z"
   },
   {
    "duration": 43,
    "start_time": "2022-02-07T18:41:44.357Z"
   },
   {
    "duration": 12,
    "start_time": "2022-02-07T18:41:44.403Z"
   },
   {
    "duration": 36,
    "start_time": "2022-02-07T18:41:44.418Z"
   },
   {
    "duration": 10,
    "start_time": "2022-02-07T18:41:44.456Z"
   },
   {
    "duration": 16,
    "start_time": "2022-02-07T18:41:44.469Z"
   },
   {
    "duration": 15,
    "start_time": "2022-02-07T18:41:44.488Z"
   },
   {
    "duration": 42,
    "start_time": "2022-02-07T18:41:44.508Z"
   },
   {
    "duration": 10,
    "start_time": "2022-02-07T18:41:44.553Z"
   },
   {
    "duration": 10,
    "start_time": "2022-02-07T18:41:44.565Z"
   },
   {
    "duration": 10,
    "start_time": "2022-02-07T18:41:44.577Z"
   },
   {
    "duration": 12,
    "start_time": "2022-02-07T18:41:44.590Z"
   },
   {
    "duration": 58,
    "start_time": "2022-02-07T18:41:44.604Z"
   },
   {
    "duration": 5,
    "start_time": "2022-02-07T18:41:44.665Z"
   },
   {
    "duration": 8,
    "start_time": "2022-02-07T18:41:44.674Z"
   },
   {
    "duration": 8,
    "start_time": "2022-02-07T18:41:44.684Z"
   },
   {
    "duration": 56,
    "start_time": "2022-02-07T18:41:44.694Z"
   },
   {
    "duration": 70,
    "start_time": "2022-02-07T18:41:44.753Z"
   },
   {
    "duration": 58,
    "start_time": "2022-02-07T18:41:44.825Z"
   },
   {
    "duration": 31,
    "start_time": "2022-02-07T18:41:44.887Z"
   },
   {
    "duration": 60,
    "start_time": "2022-02-07T18:41:44.922Z"
   },
   {
    "duration": 19,
    "start_time": "2022-02-07T18:41:44.985Z"
   },
   {
    "duration": 41,
    "start_time": "2022-02-07T18:41:45.007Z"
   },
   {
    "duration": 10,
    "start_time": "2022-02-07T18:41:45.051Z"
   },
   {
    "duration": 1173,
    "start_time": "2022-02-07T18:41:45.064Z"
   },
   {
    "duration": 24,
    "start_time": "2022-02-07T18:41:46.240Z"
   },
   {
    "duration": 17,
    "start_time": "2022-02-07T18:41:46.268Z"
   },
   {
    "duration": 813,
    "start_time": "2022-02-07T18:46:36.177Z"
   },
   {
    "duration": 11,
    "start_time": "2022-02-07T18:47:03.520Z"
   },
   {
    "duration": 63,
    "start_time": "2022-02-07T18:51:31.859Z"
   },
   {
    "duration": 56,
    "start_time": "2022-02-07T18:51:45.623Z"
   },
   {
    "duration": 8,
    "start_time": "2022-02-07T18:51:59.740Z"
   },
   {
    "duration": 848,
    "start_time": "2022-02-07T18:54:15.460Z"
   },
   {
    "duration": 443,
    "start_time": "2022-02-07T18:54:31.221Z"
   },
   {
    "duration": 91,
    "start_time": "2022-02-07T18:54:43.844Z"
   },
   {
    "duration": 143,
    "start_time": "2022-02-07T18:54:54.136Z"
   },
   {
    "duration": 98,
    "start_time": "2022-02-07T18:54:59.776Z"
   },
   {
    "duration": 101,
    "start_time": "2022-02-07T18:55:09.694Z"
   },
   {
    "duration": 107,
    "start_time": "2022-02-07T18:55:27.144Z"
   },
   {
    "duration": 98,
    "start_time": "2022-02-07T18:55:32.664Z"
   },
   {
    "duration": -92,
    "start_time": "2022-02-07T18:56:06.321Z"
   },
   {
    "duration": -151,
    "start_time": "2022-02-07T18:56:06.383Z"
   },
   {
    "duration": 22389,
    "start_time": "2022-02-07T18:56:13.801Z"
   },
   {
    "duration": 9,
    "start_time": "2022-02-07T18:56:44.441Z"
   },
   {
    "duration": 1585,
    "start_time": "2022-02-08T04:43:40.266Z"
   },
   {
    "duration": 13,
    "start_time": "2022-02-08T04:43:41.854Z"
   },
   {
    "duration": 8,
    "start_time": "2022-02-08T04:43:41.870Z"
   },
   {
    "duration": 12,
    "start_time": "2022-02-08T04:43:41.880Z"
   },
   {
    "duration": 11,
    "start_time": "2022-02-08T04:43:41.895Z"
   },
   {
    "duration": 52,
    "start_time": "2022-02-08T04:43:41.909Z"
   },
   {
    "duration": 6,
    "start_time": "2022-02-08T04:43:41.963Z"
   },
   {
    "duration": 22,
    "start_time": "2022-02-08T04:43:41.974Z"
   },
   {
    "duration": 7,
    "start_time": "2022-02-08T04:43:42.000Z"
   },
   {
    "duration": 4,
    "start_time": "2022-02-08T04:43:42.009Z"
   },
   {
    "duration": 8,
    "start_time": "2022-02-08T04:43:42.060Z"
   },
   {
    "duration": 15,
    "start_time": "2022-02-08T04:43:42.070Z"
   },
   {
    "duration": 5,
    "start_time": "2022-02-08T04:43:42.087Z"
   },
   {
    "duration": 8,
    "start_time": "2022-02-08T04:43:42.094Z"
   },
   {
    "duration": 7,
    "start_time": "2022-02-08T04:43:42.104Z"
   },
   {
    "duration": 51,
    "start_time": "2022-02-08T04:43:42.113Z"
   },
   {
    "duration": 8,
    "start_time": "2022-02-08T04:43:42.166Z"
   },
   {
    "duration": 7,
    "start_time": "2022-02-08T04:43:42.177Z"
   },
   {
    "duration": 6,
    "start_time": "2022-02-08T04:43:42.188Z"
   },
   {
    "duration": 5,
    "start_time": "2022-02-08T04:43:42.197Z"
   },
   {
    "duration": 55,
    "start_time": "2022-02-08T04:43:42.205Z"
   },
   {
    "duration": 24,
    "start_time": "2022-02-08T04:43:42.264Z"
   },
   {
    "duration": 10,
    "start_time": "2022-02-08T04:43:42.296Z"
   },
   {
    "duration": 50,
    "start_time": "2022-02-08T04:43:42.311Z"
   },
   {
    "duration": 5,
    "start_time": "2022-02-08T04:43:42.364Z"
   },
   {
    "duration": 17,
    "start_time": "2022-02-08T04:43:42.372Z"
   },
   {
    "duration": 17,
    "start_time": "2022-02-08T04:43:42.392Z"
   },
   {
    "duration": 7,
    "start_time": "2022-02-08T04:43:42.411Z"
   },
   {
    "duration": 10,
    "start_time": "2022-02-08T04:43:42.460Z"
   },
   {
    "duration": 9,
    "start_time": "2022-02-08T04:43:42.472Z"
   },
   {
    "duration": 14,
    "start_time": "2022-02-08T04:43:42.483Z"
   },
   {
    "duration": 64,
    "start_time": "2022-02-08T04:43:42.499Z"
   },
   {
    "duration": 5,
    "start_time": "2022-02-08T04:43:42.566Z"
   },
   {
    "duration": 12,
    "start_time": "2022-02-08T04:43:42.573Z"
   },
   {
    "duration": 30,
    "start_time": "2022-02-08T04:43:42.587Z"
   },
   {
    "duration": 41,
    "start_time": "2022-02-08T04:43:42.620Z"
   },
   {
    "duration": 10,
    "start_time": "2022-02-08T04:43:42.663Z"
   },
   {
    "duration": 6,
    "start_time": "2022-02-08T04:43:42.675Z"
   },
   {
    "duration": 11,
    "start_time": "2022-02-08T04:43:42.683Z"
   },
   {
    "duration": 8,
    "start_time": "2022-02-08T04:43:42.696Z"
   },
   {
    "duration": 9,
    "start_time": "2022-02-08T04:43:42.707Z"
   },
   {
    "duration": 9,
    "start_time": "2022-02-08T04:43:42.760Z"
   },
   {
    "duration": 6,
    "start_time": "2022-02-08T04:43:42.772Z"
   },
   {
    "duration": 10,
    "start_time": "2022-02-08T04:43:42.780Z"
   },
   {
    "duration": 13,
    "start_time": "2022-02-08T04:43:42.793Z"
   },
   {
    "duration": 58,
    "start_time": "2022-02-08T04:43:42.809Z"
   },
   {
    "duration": 5,
    "start_time": "2022-02-08T04:43:42.869Z"
   },
   {
    "duration": 8,
    "start_time": "2022-02-08T04:43:42.876Z"
   },
   {
    "duration": 5,
    "start_time": "2022-02-08T04:43:42.886Z"
   },
   {
    "duration": 16,
    "start_time": "2022-02-08T04:43:42.894Z"
   },
   {
    "duration": 98,
    "start_time": "2022-02-08T04:43:42.913Z"
   },
   {
    "duration": 49,
    "start_time": "2022-02-08T04:43:43.013Z"
   },
   {
    "duration": 23,
    "start_time": "2022-02-08T04:43:43.064Z"
   },
   {
    "duration": 23,
    "start_time": "2022-02-08T04:43:43.089Z"
   },
   {
    "duration": 14,
    "start_time": "2022-02-08T04:43:43.114Z"
   },
   {
    "duration": 11,
    "start_time": "2022-02-08T04:43:43.158Z"
   },
   {
    "duration": 7,
    "start_time": "2022-02-08T04:43:43.171Z"
   },
   {
    "duration": 913,
    "start_time": "2022-02-08T04:43:43.181Z"
   },
   {
    "duration": 13,
    "start_time": "2022-02-08T04:43:44.097Z"
   },
   {
    "duration": 14,
    "start_time": "2022-02-08T04:43:44.112Z"
   },
   {
    "duration": 858,
    "start_time": "2022-02-08T04:43:44.128Z"
   },
   {
    "duration": 9,
    "start_time": "2022-02-08T04:43:44.989Z"
   },
   {
    "duration": 83,
    "start_time": "2022-02-08T04:43:45.001Z"
   },
   {
    "duration": 10,
    "start_time": "2022-02-08T04:43:47.947Z"
   },
   {
    "duration": 612,
    "start_time": "2022-02-08T04:44:43.099Z"
   },
   {
    "duration": 460,
    "start_time": "2022-02-08T04:45:54.795Z"
   },
   {
    "duration": 612,
    "start_time": "2022-02-08T04:48:19.113Z"
   },
   {
    "duration": 716,
    "start_time": "2022-02-08T04:48:51.960Z"
   },
   {
    "duration": 10,
    "start_time": "2022-02-08T04:49:00.457Z"
   },
   {
    "duration": 216,
    "start_time": "2022-02-08T04:49:12.424Z"
   },
   {
    "duration": 199,
    "start_time": "2022-02-08T04:50:08.017Z"
   },
   {
    "duration": 532,
    "start_time": "2022-02-08T04:50:16.040Z"
   },
   {
    "duration": 358,
    "start_time": "2022-02-08T04:50:21.408Z"
   },
   {
    "duration": 203,
    "start_time": "2022-02-08T04:50:26.424Z"
   },
   {
    "duration": 43,
    "start_time": "2022-02-08T04:50:39.808Z"
   },
   {
    "duration": 10,
    "start_time": "2022-02-08T04:51:21.039Z"
   },
   {
    "duration": 214,
    "start_time": "2022-02-08T04:51:35.248Z"
   },
   {
    "duration": 601,
    "start_time": "2022-02-08T04:52:08.928Z"
   },
   {
    "duration": 61,
    "start_time": "2022-02-08T04:52:36.207Z"
   },
   {
    "duration": 9,
    "start_time": "2022-02-08T04:52:52.790Z"
   },
   {
    "duration": 9,
    "start_time": "2022-02-08T04:53:00.287Z"
   },
   {
    "duration": 10,
    "start_time": "2022-02-08T04:53:03.928Z"
   },
   {
    "duration": 10434,
    "start_time": "2022-02-08T04:55:34.118Z"
   },
   {
    "duration": 1540,
    "start_time": "2022-02-08T04:58:04.654Z"
   },
   {
    "duration": 17,
    "start_time": "2022-02-08T04:59:09.310Z"
   },
   {
    "duration": 7,
    "start_time": "2022-02-08T04:59:33.526Z"
   },
   {
    "duration": 1584,
    "start_time": "2022-02-08T05:00:07.316Z"
   },
   {
    "duration": 17,
    "start_time": "2022-02-08T05:00:40.252Z"
   },
   {
    "duration": 17,
    "start_time": "2022-02-08T05:03:21.245Z"
   },
   {
    "duration": 11,
    "start_time": "2022-02-08T05:03:26.619Z"
   },
   {
    "duration": 6,
    "start_time": "2022-02-08T05:03:45.114Z"
   },
   {
    "duration": 5,
    "start_time": "2022-02-08T05:03:47.835Z"
   },
   {
    "duration": 25,
    "start_time": "2022-02-08T05:04:15.747Z"
   },
   {
    "duration": 7,
    "start_time": "2022-02-08T05:04:58.138Z"
   },
   {
    "duration": 5,
    "start_time": "2022-02-08T05:05:06.922Z"
   },
   {
    "duration": 10,
    "start_time": "2022-02-08T05:05:29.362Z"
   },
   {
    "duration": 14,
    "start_time": "2022-02-08T05:05:35.610Z"
   },
   {
    "duration": 6,
    "start_time": "2022-02-08T05:06:26.105Z"
   },
   {
    "duration": 8,
    "start_time": "2022-02-08T05:06:35.593Z"
   },
   {
    "duration": 5,
    "start_time": "2022-02-08T05:06:47.400Z"
   },
   {
    "duration": 8,
    "start_time": "2022-02-08T05:06:48.129Z"
   },
   {
    "duration": 7,
    "start_time": "2022-02-08T05:06:49.026Z"
   },
   {
    "duration": 6,
    "start_time": "2022-02-08T05:06:52.882Z"
   },
   {
    "duration": 10,
    "start_time": "2022-02-08T05:07:04.201Z"
   },
   {
    "duration": 5,
    "start_time": "2022-02-08T05:07:08.448Z"
   },
   {
    "duration": 6,
    "start_time": "2022-02-08T05:07:08.881Z"
   },
   {
    "duration": 21,
    "start_time": "2022-02-08T05:07:19.578Z"
   },
   {
    "duration": 11,
    "start_time": "2022-02-08T05:07:22.177Z"
   },
   {
    "duration": 12,
    "start_time": "2022-02-08T05:09:23.229Z"
   },
   {
    "duration": 9,
    "start_time": "2022-02-08T05:09:29.224Z"
   },
   {
    "duration": 10,
    "start_time": "2022-02-08T05:09:38.704Z"
   },
   {
    "duration": 14,
    "start_time": "2022-02-08T05:09:41.176Z"
   },
   {
    "duration": 27,
    "start_time": "2022-02-08T05:09:43.552Z"
   },
   {
    "duration": 6,
    "start_time": "2022-02-08T05:09:44.163Z"
   },
   {
    "duration": 12,
    "start_time": "2022-02-08T05:09:44.729Z"
   },
   {
    "duration": 39,
    "start_time": "2022-02-08T05:09:50.985Z"
   },
   {
    "duration": 10,
    "start_time": "2022-02-08T05:09:51.672Z"
   },
   {
    "duration": 8,
    "start_time": "2022-02-08T05:10:13.741Z"
   },
   {
    "duration": 5,
    "start_time": "2022-02-08T05:10:22.008Z"
   },
   {
    "duration": 19,
    "start_time": "2022-02-08T05:10:31.432Z"
   },
   {
    "duration": 14,
    "start_time": "2022-02-08T05:10:34.368Z"
   },
   {
    "duration": 19,
    "start_time": "2022-02-08T05:10:41.808Z"
   },
   {
    "duration": 12,
    "start_time": "2022-02-08T05:10:56.031Z"
   },
   {
    "duration": 6,
    "start_time": "2022-02-08T05:11:05.023Z"
   },
   {
    "duration": 10,
    "start_time": "2022-02-08T05:11:07.392Z"
   },
   {
    "duration": 6,
    "start_time": "2022-02-08T05:11:11.454Z"
   },
   {
    "duration": 10,
    "start_time": "2022-02-08T05:11:12.894Z"
   },
   {
    "duration": 11,
    "start_time": "2022-02-08T05:11:26.702Z"
   },
   {
    "duration": 6,
    "start_time": "2022-02-08T05:11:28.383Z"
   },
   {
    "duration": 10,
    "start_time": "2022-02-08T05:11:30.567Z"
   },
   {
    "duration": 7,
    "start_time": "2022-02-08T05:11:33.071Z"
   },
   {
    "duration": 22,
    "start_time": "2022-02-08T05:11:39.599Z"
   },
   {
    "duration": 6,
    "start_time": "2022-02-08T05:14:00.442Z"
   },
   {
    "duration": 1482,
    "start_time": "2022-02-08T05:14:23.198Z"
   },
   {
    "duration": 15,
    "start_time": "2022-02-08T05:14:24.682Z"
   },
   {
    "duration": 11,
    "start_time": "2022-02-08T05:14:24.700Z"
   },
   {
    "duration": 11,
    "start_time": "2022-02-08T05:14:24.714Z"
   },
   {
    "duration": 35,
    "start_time": "2022-02-08T05:14:24.727Z"
   },
   {
    "duration": 6,
    "start_time": "2022-02-08T05:14:24.765Z"
   },
   {
    "duration": 22,
    "start_time": "2022-02-08T05:14:24.773Z"
   },
   {
    "duration": 6,
    "start_time": "2022-02-08T05:14:24.799Z"
   },
   {
    "duration": 4,
    "start_time": "2022-02-08T05:14:24.808Z"
   },
   {
    "duration": 7,
    "start_time": "2022-02-08T05:14:24.860Z"
   },
   {
    "duration": 14,
    "start_time": "2022-02-08T05:14:24.870Z"
   },
   {
    "duration": 5,
    "start_time": "2022-02-08T05:14:24.887Z"
   },
   {
    "duration": 16,
    "start_time": "2022-02-08T05:14:24.894Z"
   },
   {
    "duration": 4,
    "start_time": "2022-02-08T05:14:24.912Z"
   },
   {
    "duration": 42,
    "start_time": "2022-02-08T05:14:24.919Z"
   },
   {
    "duration": 7,
    "start_time": "2022-02-08T05:14:24.963Z"
   },
   {
    "duration": 8,
    "start_time": "2022-02-08T05:14:24.973Z"
   },
   {
    "duration": 5,
    "start_time": "2022-02-08T05:14:24.984Z"
   },
   {
    "duration": 4,
    "start_time": "2022-02-08T05:14:24.992Z"
   },
   {
    "duration": 7,
    "start_time": "2022-02-08T05:14:24.998Z"
   },
   {
    "duration": 22,
    "start_time": "2022-02-08T05:14:25.060Z"
   },
   {
    "duration": 13,
    "start_time": "2022-02-08T05:14:25.085Z"
   },
   {
    "duration": 4,
    "start_time": "2022-02-08T05:14:25.103Z"
   },
   {
    "duration": 10,
    "start_time": "2022-02-08T05:14:25.110Z"
   },
   {
    "duration": 9,
    "start_time": "2022-02-08T05:14:25.158Z"
   },
   {
    "duration": 10,
    "start_time": "2022-02-08T05:14:25.169Z"
   },
   {
    "duration": 26,
    "start_time": "2022-02-08T05:14:25.182Z"
   },
   {
    "duration": 5,
    "start_time": "2022-02-08T05:14:25.210Z"
   },
   {
    "duration": 46,
    "start_time": "2022-02-08T05:14:25.217Z"
   },
   {
    "duration": 29,
    "start_time": "2022-02-08T05:14:25.265Z"
   },
   {
    "duration": 9,
    "start_time": "2022-02-08T05:14:25.296Z"
   },
   {
    "duration": 6,
    "start_time": "2022-02-08T05:14:25.307Z"
   },
   {
    "duration": 4,
    "start_time": "2022-02-08T05:14:25.315Z"
   },
   {
    "duration": 46,
    "start_time": "2022-02-08T05:14:25.322Z"
   },
   {
    "duration": 6,
    "start_time": "2022-02-08T05:14:25.370Z"
   },
   {
    "duration": 9,
    "start_time": "2022-02-08T05:14:25.378Z"
   },
   {
    "duration": 5,
    "start_time": "2022-02-08T05:14:25.390Z"
   },
   {
    "duration": 9,
    "start_time": "2022-02-08T05:14:25.397Z"
   },
   {
    "duration": 55,
    "start_time": "2022-02-08T05:14:25.408Z"
   },
   {
    "duration": 6,
    "start_time": "2022-02-08T05:14:25.465Z"
   },
   {
    "duration": 9,
    "start_time": "2022-02-08T05:14:25.474Z"
   },
   {
    "duration": 8,
    "start_time": "2022-02-08T05:14:25.485Z"
   },
   {
    "duration": 18,
    "start_time": "2022-02-08T05:14:25.495Z"
   },
   {
    "duration": 4,
    "start_time": "2022-02-08T05:14:28.018Z"
   },
   {
    "duration": 5,
    "start_time": "2022-02-08T05:14:31.259Z"
   },
   {
    "duration": 5,
    "start_time": "2022-02-08T05:14:31.995Z"
   },
   {
    "duration": 18,
    "start_time": "2022-02-08T05:14:32.547Z"
   },
   {
    "duration": 57,
    "start_time": "2022-02-08T05:14:41.994Z"
   },
   {
    "duration": 33,
    "start_time": "2022-02-08T05:14:43.156Z"
   },
   {
    "duration": 23,
    "start_time": "2022-02-08T05:14:44.811Z"
   },
   {
    "duration": 25,
    "start_time": "2022-02-08T05:14:45.155Z"
   },
   {
    "duration": 13,
    "start_time": "2022-02-08T05:14:53.739Z"
   },
   {
    "duration": 9,
    "start_time": "2022-02-08T05:14:54.931Z"
   },
   {
    "duration": 8,
    "start_time": "2022-02-08T05:14:55.803Z"
   },
   {
    "duration": 1010,
    "start_time": "2022-02-08T05:14:59.466Z"
   },
   {
    "duration": 13,
    "start_time": "2022-02-08T05:15:06.595Z"
   },
   {
    "duration": 12,
    "start_time": "2022-02-08T05:15:09.748Z"
   },
   {
    "duration": 507,
    "start_time": "2022-02-08T05:15:27.995Z"
   },
   {
    "duration": 382,
    "start_time": "2022-02-08T05:15:33.578Z"
   },
   {
    "duration": 12,
    "start_time": "2022-02-08T05:15:39.299Z"
   },
   {
    "duration": 360,
    "start_time": "2022-02-08T05:15:44.243Z"
   },
   {
    "duration": 12,
    "start_time": "2022-02-08T05:15:49.131Z"
   },
   {
    "duration": 360,
    "start_time": "2022-02-08T05:16:29.506Z"
   },
   {
    "duration": 119,
    "start_time": "2022-02-08T05:16:43.658Z"
   },
   {
    "duration": 118,
    "start_time": "2022-02-08T05:16:56.193Z"
   },
   {
    "duration": 118,
    "start_time": "2022-02-08T05:17:06.890Z"
   },
   {
    "duration": 13,
    "start_time": "2022-02-08T05:17:12.570Z"
   },
   {
    "duration": 388,
    "start_time": "2022-02-08T05:19:10.242Z"
   },
   {
    "duration": 125,
    "start_time": "2022-02-08T05:19:37.177Z"
   },
   {
    "duration": 119,
    "start_time": "2022-02-08T05:19:58.017Z"
   },
   {
    "duration": 149,
    "start_time": "2022-02-08T05:23:33.656Z"
   },
   {
    "duration": 359,
    "start_time": "2022-02-08T05:23:45.279Z"
   },
   {
    "duration": 435,
    "start_time": "2022-02-08T05:23:55.183Z"
   },
   {
    "duration": 122,
    "start_time": "2022-02-08T05:24:23.567Z"
   },
   {
    "duration": 384,
    "start_time": "2022-02-08T05:26:55.189Z"
   },
   {
    "duration": 370,
    "start_time": "2022-02-08T05:29:57.044Z"
   },
   {
    "duration": 358,
    "start_time": "2022-02-08T05:32:32.667Z"
   },
   {
    "duration": 30,
    "start_time": "2022-02-08T05:35:43.362Z"
   },
   {
    "duration": 13,
    "start_time": "2022-02-08T05:36:02.854Z"
   },
   {
    "duration": 15,
    "start_time": "2022-02-08T05:36:40.225Z"
   },
   {
    "duration": 380,
    "start_time": "2022-02-08T05:37:10.034Z"
   },
   {
    "duration": 363,
    "start_time": "2022-02-08T05:37:29.314Z"
   },
   {
    "duration": 359,
    "start_time": "2022-02-08T05:37:45.344Z"
   },
   {
    "duration": 13,
    "start_time": "2022-02-08T05:38:05.128Z"
   },
   {
    "duration": 122,
    "start_time": "2022-02-08T05:39:09.421Z"
   },
   {
    "duration": 14,
    "start_time": "2022-02-08T05:39:20.767Z"
   },
   {
    "duration": 1610,
    "start_time": "2022-02-08T05:48:49.384Z"
   },
   {
    "duration": 17,
    "start_time": "2022-02-08T05:48:50.997Z"
   },
   {
    "duration": 12,
    "start_time": "2022-02-08T05:48:51.018Z"
   },
   {
    "duration": 14,
    "start_time": "2022-02-08T05:48:51.061Z"
   },
   {
    "duration": 6,
    "start_time": "2022-02-08T05:48:51.078Z"
   },
   {
    "duration": 6,
    "start_time": "2022-02-08T05:48:51.088Z"
   },
   {
    "duration": 73,
    "start_time": "2022-02-08T05:48:51.097Z"
   },
   {
    "duration": 8,
    "start_time": "2022-02-08T05:48:51.173Z"
   },
   {
    "duration": 5,
    "start_time": "2022-02-08T05:48:51.185Z"
   },
   {
    "duration": 8,
    "start_time": "2022-02-08T05:48:51.194Z"
   },
   {
    "duration": 59,
    "start_time": "2022-02-08T05:48:51.205Z"
   },
   {
    "duration": 5,
    "start_time": "2022-02-08T05:48:51.267Z"
   },
   {
    "duration": 9,
    "start_time": "2022-02-08T05:48:51.275Z"
   },
   {
    "duration": 4,
    "start_time": "2022-02-08T05:48:51.286Z"
   },
   {
    "duration": 8,
    "start_time": "2022-02-08T05:48:51.292Z"
   },
   {
    "duration": 5,
    "start_time": "2022-02-08T05:48:51.302Z"
   },
   {
    "duration": 55,
    "start_time": "2022-02-08T05:48:51.309Z"
   },
   {
    "duration": 6,
    "start_time": "2022-02-08T05:48:51.366Z"
   },
   {
    "duration": 4,
    "start_time": "2022-02-08T05:48:51.374Z"
   },
   {
    "duration": 7,
    "start_time": "2022-02-08T05:48:51.381Z"
   },
   {
    "duration": 22,
    "start_time": "2022-02-08T05:48:51.391Z"
   },
   {
    "duration": 51,
    "start_time": "2022-02-08T05:48:51.416Z"
   },
   {
    "duration": 7,
    "start_time": "2022-02-08T05:48:51.469Z"
   },
   {
    "duration": 9,
    "start_time": "2022-02-08T05:48:51.478Z"
   },
   {
    "duration": 10,
    "start_time": "2022-02-08T05:48:51.489Z"
   },
   {
    "duration": 11,
    "start_time": "2022-02-08T05:48:51.501Z"
   },
   {
    "duration": 27,
    "start_time": "2022-02-08T05:48:51.564Z"
   },
   {
    "duration": 5,
    "start_time": "2022-02-08T05:48:51.594Z"
   },
   {
    "duration": 10,
    "start_time": "2022-02-08T05:48:51.601Z"
   },
   {
    "duration": 67,
    "start_time": "2022-02-08T05:48:51.614Z"
   },
   {
    "duration": 9,
    "start_time": "2022-02-08T05:48:51.683Z"
   },
   {
    "duration": 5,
    "start_time": "2022-02-08T05:48:51.695Z"
   },
   {
    "duration": 5,
    "start_time": "2022-02-08T05:48:51.702Z"
   },
   {
    "duration": 10,
    "start_time": "2022-02-08T05:48:51.709Z"
   },
   {
    "duration": 43,
    "start_time": "2022-02-08T05:48:51.721Z"
   },
   {
    "duration": 10,
    "start_time": "2022-02-08T05:48:51.766Z"
   },
   {
    "duration": 6,
    "start_time": "2022-02-08T05:48:51.778Z"
   },
   {
    "duration": 10,
    "start_time": "2022-02-08T05:48:51.786Z"
   },
   {
    "duration": 13,
    "start_time": "2022-02-08T05:48:51.798Z"
   },
   {
    "duration": 48,
    "start_time": "2022-02-08T05:48:51.813Z"
   },
   {
    "duration": 10,
    "start_time": "2022-02-08T05:48:51.863Z"
   },
   {
    "duration": 7,
    "start_time": "2022-02-08T05:48:51.876Z"
   },
   {
    "duration": 4,
    "start_time": "2022-02-08T05:48:51.886Z"
   },
   {
    "duration": 7,
    "start_time": "2022-02-08T05:48:51.892Z"
   },
   {
    "duration": 4,
    "start_time": "2022-02-08T05:48:51.901Z"
   },
   {
    "duration": 63,
    "start_time": "2022-02-08T05:48:51.907Z"
   },
   {
    "duration": 57,
    "start_time": "2022-02-08T05:48:51.972Z"
   },
   {
    "duration": 52,
    "start_time": "2022-02-08T05:48:52.031Z"
   },
   {
    "duration": 22,
    "start_time": "2022-02-08T05:48:52.085Z"
   },
   {
    "duration": 50,
    "start_time": "2022-02-08T05:48:52.110Z"
   },
   {
    "duration": 14,
    "start_time": "2022-02-08T05:48:52.163Z"
   },
   {
    "duration": 13,
    "start_time": "2022-02-08T05:48:52.179Z"
   },
   {
    "duration": 7,
    "start_time": "2022-02-08T05:48:52.194Z"
   },
   {
    "duration": 937,
    "start_time": "2022-02-08T05:48:52.203Z"
   },
   {
    "duration": 25,
    "start_time": "2022-02-08T05:48:53.143Z"
   },
   {
    "duration": 14,
    "start_time": "2022-02-08T05:48:53.170Z"
   },
   {
    "duration": 850,
    "start_time": "2022-02-08T05:50:06.569Z"
   },
   {
    "duration": 10,
    "start_time": "2022-02-08T05:50:20.513Z"
   },
   {
    "duration": 64,
    "start_time": "2022-02-08T05:52:01.297Z"
   },
   {
    "duration": 9,
    "start_time": "2022-02-08T05:52:09.841Z"
   },
   {
    "duration": 843,
    "start_time": "2022-02-08T05:53:36.016Z"
   },
   {
    "duration": 446,
    "start_time": "2022-02-08T05:54:49.304Z"
   },
   {
    "duration": 443,
    "start_time": "2022-02-08T05:55:17.942Z"
   },
   {
    "duration": 580,
    "start_time": "2022-02-08T05:57:09.303Z"
   },
   {
    "duration": 10,
    "start_time": "2022-02-08T05:57:39.413Z"
   },
   {
    "duration": 209,
    "start_time": "2022-02-08T05:57:47.790Z"
   },
   {
    "duration": 45,
    "start_time": "2022-02-08T06:00:37.661Z"
   },
   {
    "duration": 40,
    "start_time": "2022-02-08T06:02:14.619Z"
   },
   {
    "duration": 125,
    "start_time": "2022-02-08T06:03:57.516Z"
   },
   {
    "duration": 119,
    "start_time": "2022-02-08T06:04:32.555Z"
   },
   {
    "duration": 41,
    "start_time": "2022-02-08T06:04:39.667Z"
   },
   {
    "duration": 39,
    "start_time": "2022-02-08T06:04:59.786Z"
   },
   {
    "duration": 41,
    "start_time": "2022-02-08T06:05:10.236Z"
   },
   {
    "duration": 522,
    "start_time": "2022-02-08T06:05:35.403Z"
   },
   {
    "duration": 41,
    "start_time": "2022-02-08T06:05:53.202Z"
   },
   {
    "duration": 41,
    "start_time": "2022-02-08T06:06:03.091Z"
   },
   {
    "duration": 9,
    "start_time": "2022-02-08T06:08:37.193Z"
   },
   {
    "duration": 217,
    "start_time": "2022-02-08T06:09:30.913Z"
   },
   {
    "duration": 634,
    "start_time": "2022-02-08T06:11:09.761Z"
   },
   {
    "duration": 616,
    "start_time": "2022-02-08T06:11:30.172Z"
   },
   {
    "duration": 593,
    "start_time": "2022-02-08T06:14:09.637Z"
   },
   {
    "duration": 53,
    "start_time": "2022-02-08T06:18:34.405Z"
   },
   {
    "duration": 50,
    "start_time": "2022-02-08T06:19:15.781Z"
   },
   {
    "duration": 852,
    "start_time": "2022-02-08T06:20:02.844Z"
   },
   {
    "duration": 54,
    "start_time": "2022-02-08T06:20:26.740Z"
   },
   {
    "duration": 11,
    "start_time": "2022-02-08T06:20:34.979Z"
   },
   {
    "duration": 11,
    "start_time": "2022-02-08T06:21:24.332Z"
   },
   {
    "duration": 416,
    "start_time": "2022-02-08T06:25:26.393Z"
   },
   {
    "duration": 31,
    "start_time": "2022-02-08T06:25:38.891Z"
   },
   {
    "duration": 27,
    "start_time": "2022-02-08T06:26:59.097Z"
   },
   {
    "duration": 24,
    "start_time": "2022-02-08T06:27:11.945Z"
   },
   {
    "duration": 1591,
    "start_time": "2022-02-08T06:28:33.718Z"
   },
   {
    "duration": 15,
    "start_time": "2022-02-08T06:28:35.312Z"
   },
   {
    "duration": 29,
    "start_time": "2022-02-08T06:28:35.330Z"
   },
   {
    "duration": 10,
    "start_time": "2022-02-08T06:28:35.362Z"
   },
   {
    "duration": 5,
    "start_time": "2022-02-08T06:28:35.374Z"
   },
   {
    "duration": 8,
    "start_time": "2022-02-08T06:28:35.381Z"
   },
   {
    "duration": 22,
    "start_time": "2022-02-08T06:28:35.391Z"
   },
   {
    "duration": 47,
    "start_time": "2022-02-08T06:28:35.417Z"
   },
   {
    "duration": 4,
    "start_time": "2022-02-08T06:28:35.468Z"
   },
   {
    "duration": 12,
    "start_time": "2022-02-08T06:28:35.474Z"
   },
   {
    "duration": 15,
    "start_time": "2022-02-08T06:28:35.488Z"
   },
   {
    "duration": 5,
    "start_time": "2022-02-08T06:28:35.505Z"
   },
   {
    "duration": 53,
    "start_time": "2022-02-08T06:28:35.513Z"
   },
   {
    "duration": 5,
    "start_time": "2022-02-08T06:28:35.568Z"
   },
   {
    "duration": 8,
    "start_time": "2022-02-08T06:28:35.575Z"
   },
   {
    "duration": 6,
    "start_time": "2022-02-08T06:28:35.585Z"
   },
   {
    "duration": 8,
    "start_time": "2022-02-08T06:28:35.593Z"
   },
   {
    "duration": 5,
    "start_time": "2022-02-08T06:28:35.603Z"
   },
   {
    "duration": 5,
    "start_time": "2022-02-08T06:28:35.659Z"
   },
   {
    "duration": 10,
    "start_time": "2022-02-08T06:28:35.666Z"
   },
   {
    "duration": 22,
    "start_time": "2022-02-08T06:28:35.678Z"
   },
   {
    "duration": 9,
    "start_time": "2022-02-08T06:28:35.703Z"
   },
   {
    "duration": 41,
    "start_time": "2022-02-08T06:28:35.717Z"
   },
   {
    "duration": 13,
    "start_time": "2022-02-08T06:28:35.763Z"
   },
   {
    "duration": 10,
    "start_time": "2022-02-08T06:28:35.778Z"
   },
   {
    "duration": 13,
    "start_time": "2022-02-08T06:28:35.791Z"
   },
   {
    "duration": 77,
    "start_time": "2022-02-08T06:28:35.807Z"
   },
   {
    "duration": 5,
    "start_time": "2022-02-08T06:28:35.886Z"
   },
   {
    "duration": 13,
    "start_time": "2022-02-08T06:28:35.894Z"
   },
   {
    "duration": 68,
    "start_time": "2022-02-08T06:28:35.909Z"
   },
   {
    "duration": 11,
    "start_time": "2022-02-08T06:28:35.980Z"
   },
   {
    "duration": 7,
    "start_time": "2022-02-08T06:28:35.993Z"
   },
   {
    "duration": 7,
    "start_time": "2022-02-08T06:28:36.003Z"
   },
   {
    "duration": 50,
    "start_time": "2022-02-08T06:28:36.012Z"
   },
   {
    "duration": 7,
    "start_time": "2022-02-08T06:28:36.065Z"
   },
   {
    "duration": 13,
    "start_time": "2022-02-08T06:28:36.075Z"
   },
   {
    "duration": 7,
    "start_time": "2022-02-08T06:28:36.091Z"
   },
   {
    "duration": 17,
    "start_time": "2022-02-08T06:28:36.100Z"
   },
   {
    "duration": 10,
    "start_time": "2022-02-08T06:28:36.159Z"
   },
   {
    "duration": 7,
    "start_time": "2022-02-08T06:28:36.171Z"
   },
   {
    "duration": 10,
    "start_time": "2022-02-08T06:28:36.180Z"
   },
   {
    "duration": 8,
    "start_time": "2022-02-08T06:28:36.193Z"
   },
   {
    "duration": 56,
    "start_time": "2022-02-08T06:28:36.203Z"
   },
   {
    "duration": 5,
    "start_time": "2022-02-08T06:28:36.262Z"
   },
   {
    "duration": 9,
    "start_time": "2022-02-08T06:28:36.269Z"
   },
   {
    "duration": 16,
    "start_time": "2022-02-08T06:28:36.280Z"
   },
   {
    "duration": 88,
    "start_time": "2022-02-08T06:28:36.299Z"
   },
   {
    "duration": 40,
    "start_time": "2022-02-08T06:28:36.389Z"
   },
   {
    "duration": 40,
    "start_time": "2022-02-08T06:28:36.431Z"
   },
   {
    "duration": 25,
    "start_time": "2022-02-08T06:28:36.473Z"
   },
   {
    "duration": 14,
    "start_time": "2022-02-08T06:28:36.500Z"
   },
   {
    "duration": 19,
    "start_time": "2022-02-08T06:28:36.516Z"
   },
   {
    "duration": 24,
    "start_time": "2022-02-08T06:28:36.537Z"
   },
   {
    "duration": 1127,
    "start_time": "2022-02-08T06:28:36.563Z"
   },
   {
    "duration": 20,
    "start_time": "2022-02-08T06:28:37.693Z"
   },
   {
    "duration": 14,
    "start_time": "2022-02-08T06:28:37.715Z"
   },
   {
    "duration": 893,
    "start_time": "2022-02-08T06:28:37.731Z"
   },
   {
    "duration": 10,
    "start_time": "2022-02-08T06:28:38.627Z"
   },
   {
    "duration": 79,
    "start_time": "2022-02-08T06:28:38.639Z"
   },
   {
    "duration": 10,
    "start_time": "2022-02-08T06:28:38.720Z"
   },
   {
    "duration": 600,
    "start_time": "2022-02-08T06:28:58.335Z"
   },
   {
    "duration": 476,
    "start_time": "2022-02-08T06:29:18.496Z"
   },
   {
    "duration": 656,
    "start_time": "2022-02-08T06:29:44.104Z"
   },
   {
    "duration": 12,
    "start_time": "2022-02-08T06:29:52.184Z"
   },
   {
    "duration": 213,
    "start_time": "2022-02-08T06:29:56.888Z"
   },
   {
    "duration": 51,
    "start_time": "2022-02-08T06:30:05.032Z"
   },
   {
    "duration": 12,
    "start_time": "2022-02-08T06:30:21.824Z"
   },
   {
    "duration": 237,
    "start_time": "2022-02-08T06:30:42.566Z"
   },
   {
    "duration": 604,
    "start_time": "2022-02-08T06:31:17.447Z"
   },
   {
    "duration": 1532,
    "start_time": "2022-02-08T06:34:22.850Z"
   },
   {
    "duration": 14,
    "start_time": "2022-02-08T06:34:24.385Z"
   },
   {
    "duration": 10,
    "start_time": "2022-02-08T06:34:24.402Z"
   },
   {
    "duration": 10,
    "start_time": "2022-02-08T06:34:24.415Z"
   },
   {
    "duration": 35,
    "start_time": "2022-02-08T06:34:24.427Z"
   },
   {
    "duration": 6,
    "start_time": "2022-02-08T06:34:24.465Z"
   },
   {
    "duration": 20,
    "start_time": "2022-02-08T06:34:24.473Z"
   },
   {
    "duration": 6,
    "start_time": "2022-02-08T06:34:24.496Z"
   },
   {
    "duration": 3,
    "start_time": "2022-02-08T06:34:24.506Z"
   },
   {
    "duration": 54,
    "start_time": "2022-02-08T06:34:24.512Z"
   },
   {
    "duration": 15,
    "start_time": "2022-02-08T06:34:24.568Z"
   },
   {
    "duration": 5,
    "start_time": "2022-02-08T06:34:24.586Z"
   },
   {
    "duration": 8,
    "start_time": "2022-02-08T06:34:24.593Z"
   },
   {
    "duration": 56,
    "start_time": "2022-02-08T06:34:24.603Z"
   },
   {
    "duration": 9,
    "start_time": "2022-02-08T06:34:24.663Z"
   },
   {
    "duration": 6,
    "start_time": "2022-02-08T06:34:24.674Z"
   },
   {
    "duration": 7,
    "start_time": "2022-02-08T06:34:24.683Z"
   },
   {
    "duration": 5,
    "start_time": "2022-02-08T06:34:24.692Z"
   },
   {
    "duration": 5,
    "start_time": "2022-02-08T06:34:24.701Z"
   },
   {
    "duration": 50,
    "start_time": "2022-02-08T06:34:24.709Z"
   },
   {
    "duration": 22,
    "start_time": "2022-02-08T06:34:24.762Z"
   },
   {
    "duration": 10,
    "start_time": "2022-02-08T06:34:24.787Z"
   },
   {
    "duration": 6,
    "start_time": "2022-02-08T06:34:24.799Z"
   },
   {
    "duration": 53,
    "start_time": "2022-02-08T06:34:24.807Z"
   },
   {
    "duration": 9,
    "start_time": "2022-02-08T06:34:24.863Z"
   },
   {
    "duration": 12,
    "start_time": "2022-02-08T06:34:24.874Z"
   },
   {
    "duration": 67,
    "start_time": "2022-02-08T06:34:24.892Z"
   },
   {
    "duration": 5,
    "start_time": "2022-02-08T06:34:24.962Z"
   },
   {
    "duration": 12,
    "start_time": "2022-02-08T06:34:24.970Z"
   },
   {
    "duration": 29,
    "start_time": "2022-02-08T06:34:24.985Z"
   },
   {
    "duration": 43,
    "start_time": "2022-02-08T06:34:25.016Z"
   },
   {
    "duration": 7,
    "start_time": "2022-02-08T06:34:25.062Z"
   },
   {
    "duration": 5,
    "start_time": "2022-02-08T06:34:25.071Z"
   },
   {
    "duration": 11,
    "start_time": "2022-02-08T06:34:25.078Z"
   },
   {
    "duration": 5,
    "start_time": "2022-02-08T06:34:25.092Z"
   },
   {
    "duration": 9,
    "start_time": "2022-02-08T06:34:25.099Z"
   },
   {
    "duration": 51,
    "start_time": "2022-02-08T06:34:25.110Z"
   },
   {
    "duration": 12,
    "start_time": "2022-02-08T06:34:25.163Z"
   },
   {
    "duration": 11,
    "start_time": "2022-02-08T06:34:25.177Z"
   },
   {
    "duration": 6,
    "start_time": "2022-02-08T06:34:25.191Z"
   },
   {
    "duration": 9,
    "start_time": "2022-02-08T06:34:25.199Z"
   },
   {
    "duration": 54,
    "start_time": "2022-02-08T06:34:25.210Z"
   },
   {
    "duration": 4,
    "start_time": "2022-02-08T06:34:25.267Z"
   },
   {
    "duration": 7,
    "start_time": "2022-02-08T06:34:25.273Z"
   },
   {
    "duration": 5,
    "start_time": "2022-02-08T06:34:25.282Z"
   },
   {
    "duration": 17,
    "start_time": "2022-02-08T06:34:25.289Z"
   },
   {
    "duration": 95,
    "start_time": "2022-02-08T06:34:25.309Z"
   },
   {
    "duration": 33,
    "start_time": "2022-02-08T06:34:25.407Z"
   },
   {
    "duration": 24,
    "start_time": "2022-02-08T06:34:25.459Z"
   },
   {
    "duration": 24,
    "start_time": "2022-02-08T06:34:25.485Z"
   },
   {
    "duration": 14,
    "start_time": "2022-02-08T06:34:25.512Z"
   },
   {
    "duration": 9,
    "start_time": "2022-02-08T06:34:25.559Z"
   },
   {
    "duration": 14,
    "start_time": "2022-02-08T06:34:25.571Z"
   },
   {
    "duration": 965,
    "start_time": "2022-02-08T06:34:25.588Z"
   },
   {
    "duration": 19,
    "start_time": "2022-02-08T06:34:26.555Z"
   },
   {
    "duration": 14,
    "start_time": "2022-02-08T06:34:26.577Z"
   },
   {
    "duration": 995,
    "start_time": "2022-02-08T06:34:26.593Z"
   },
   {
    "duration": 10,
    "start_time": "2022-02-08T06:34:27.590Z"
   },
   {
    "duration": 90,
    "start_time": "2022-02-08T06:34:27.602Z"
   },
   {
    "duration": 9,
    "start_time": "2022-02-08T06:34:27.694Z"
   },
   {
    "duration": 655,
    "start_time": "2022-02-08T06:34:27.705Z"
   },
   {
    "duration": 474,
    "start_time": "2022-02-08T06:34:28.362Z"
   },
   {
    "duration": 714,
    "start_time": "2022-02-08T06:34:28.839Z"
   },
   {
    "duration": 11,
    "start_time": "2022-02-08T06:34:29.559Z"
   },
   {
    "duration": 244,
    "start_time": "2022-02-08T06:34:29.572Z"
   },
   {
    "duration": 724,
    "start_time": "2022-02-08T06:34:47.356Z"
   },
   {
    "duration": 1809,
    "start_time": "2022-02-08T06:35:28.586Z"
   },
   {
    "duration": 14,
    "start_time": "2022-02-08T06:35:30.398Z"
   },
   {
    "duration": 10,
    "start_time": "2022-02-08T06:35:30.418Z"
   },
   {
    "duration": 38,
    "start_time": "2022-02-08T06:35:30.430Z"
   },
   {
    "duration": 9,
    "start_time": "2022-02-08T06:35:30.470Z"
   },
   {
    "duration": 10,
    "start_time": "2022-02-08T06:35:30.481Z"
   },
   {
    "duration": 28,
    "start_time": "2022-02-08T06:35:30.494Z"
   },
   {
    "duration": 35,
    "start_time": "2022-02-08T06:35:30.526Z"
   },
   {
    "duration": 4,
    "start_time": "2022-02-08T06:35:30.564Z"
   },
   {
    "duration": 29,
    "start_time": "2022-02-08T06:35:30.570Z"
   },
   {
    "duration": 31,
    "start_time": "2022-02-08T06:35:30.601Z"
   },
   {
    "duration": 5,
    "start_time": "2022-02-08T06:35:30.635Z"
   },
   {
    "duration": 22,
    "start_time": "2022-02-08T06:35:30.644Z"
   },
   {
    "duration": 6,
    "start_time": "2022-02-08T06:35:30.668Z"
   },
   {
    "duration": 30,
    "start_time": "2022-02-08T06:35:30.676Z"
   },
   {
    "duration": 20,
    "start_time": "2022-02-08T06:35:30.708Z"
   },
   {
    "duration": 13,
    "start_time": "2022-02-08T06:35:30.731Z"
   },
   {
    "duration": 18,
    "start_time": "2022-02-08T06:35:30.747Z"
   },
   {
    "duration": 4,
    "start_time": "2022-02-08T06:35:30.768Z"
   },
   {
    "duration": 12,
    "start_time": "2022-02-08T06:35:30.775Z"
   },
   {
    "duration": 28,
    "start_time": "2022-02-08T06:35:30.789Z"
   },
   {
    "duration": 16,
    "start_time": "2022-02-08T06:35:30.820Z"
   },
   {
    "duration": 25,
    "start_time": "2022-02-08T06:35:30.838Z"
   },
   {
    "duration": 10,
    "start_time": "2022-02-08T06:35:30.865Z"
   },
   {
    "duration": 9,
    "start_time": "2022-02-08T06:35:30.878Z"
   },
   {
    "duration": 11,
    "start_time": "2022-02-08T06:35:30.893Z"
   },
   {
    "duration": 70,
    "start_time": "2022-02-08T06:35:30.908Z"
   },
   {
    "duration": 5,
    "start_time": "2022-02-08T06:35:30.981Z"
   },
   {
    "duration": 21,
    "start_time": "2022-02-08T06:35:30.989Z"
   },
   {
    "duration": 57,
    "start_time": "2022-02-08T06:35:31.012Z"
   },
   {
    "duration": 12,
    "start_time": "2022-02-08T06:35:31.072Z"
   },
   {
    "duration": 9,
    "start_time": "2022-02-08T06:35:31.087Z"
   },
   {
    "duration": 5,
    "start_time": "2022-02-08T06:35:31.099Z"
   },
   {
    "duration": 14,
    "start_time": "2022-02-08T06:35:31.107Z"
   },
   {
    "duration": 7,
    "start_time": "2022-02-08T06:35:31.161Z"
   },
   {
    "duration": 13,
    "start_time": "2022-02-08T06:35:31.171Z"
   },
   {
    "duration": 14,
    "start_time": "2022-02-08T06:35:31.186Z"
   },
   {
    "duration": 12,
    "start_time": "2022-02-08T06:35:31.203Z"
   },
   {
    "duration": 47,
    "start_time": "2022-02-08T06:35:31.217Z"
   },
   {
    "duration": 6,
    "start_time": "2022-02-08T06:35:31.266Z"
   },
   {
    "duration": 10,
    "start_time": "2022-02-08T06:35:31.275Z"
   },
   {
    "duration": 7,
    "start_time": "2022-02-08T06:35:31.288Z"
   },
   {
    "duration": 7,
    "start_time": "2022-02-08T06:35:31.298Z"
   },
   {
    "duration": 52,
    "start_time": "2022-02-08T06:35:31.307Z"
   },
   {
    "duration": 6,
    "start_time": "2022-02-08T06:35:31.362Z"
   },
   {
    "duration": 17,
    "start_time": "2022-02-08T06:35:31.371Z"
   },
   {
    "duration": 86,
    "start_time": "2022-02-08T06:35:31.391Z"
   },
   {
    "duration": 36,
    "start_time": "2022-02-08T06:35:31.480Z"
   },
   {
    "duration": 54,
    "start_time": "2022-02-08T06:35:31.519Z"
   },
   {
    "duration": 26,
    "start_time": "2022-02-08T06:35:31.576Z"
   },
   {
    "duration": 12,
    "start_time": "2022-02-08T06:35:31.605Z"
   },
   {
    "duration": 7,
    "start_time": "2022-02-08T06:35:31.620Z"
   },
   {
    "duration": 8,
    "start_time": "2022-02-08T06:35:31.659Z"
   },
   {
    "duration": 1033,
    "start_time": "2022-02-08T06:35:31.670Z"
   },
   {
    "duration": 17,
    "start_time": "2022-02-08T06:35:32.706Z"
   },
   {
    "duration": 36,
    "start_time": "2022-02-08T06:35:32.725Z"
   },
   {
    "duration": 889,
    "start_time": "2022-02-08T06:35:32.763Z"
   },
   {
    "duration": 10,
    "start_time": "2022-02-08T06:35:33.659Z"
   },
   {
    "duration": 65,
    "start_time": "2022-02-08T06:35:33.671Z"
   },
   {
    "duration": 25,
    "start_time": "2022-02-08T06:35:33.738Z"
   },
   {
    "duration": 610,
    "start_time": "2022-02-08T06:35:33.766Z"
   },
   {
    "duration": 86,
    "start_time": "2022-02-08T06:35:48.999Z"
   },
   {
    "duration": 14,
    "start_time": "2022-02-08T06:35:49.087Z"
   },
   {
    "duration": 10,
    "start_time": "2022-02-08T06:35:49.104Z"
   },
   {
    "duration": 50,
    "start_time": "2022-02-08T06:35:49.116Z"
   },
   {
    "duration": 5,
    "start_time": "2022-02-08T06:35:49.169Z"
   },
   {
    "duration": 6,
    "start_time": "2022-02-08T06:35:49.176Z"
   },
   {
    "duration": 21,
    "start_time": "2022-02-08T06:35:49.184Z"
   },
   {
    "duration": 54,
    "start_time": "2022-02-08T06:35:49.208Z"
   },
   {
    "duration": 5,
    "start_time": "2022-02-08T06:35:49.267Z"
   },
   {
    "duration": 10,
    "start_time": "2022-02-08T06:35:49.275Z"
   },
   {
    "duration": 12,
    "start_time": "2022-02-08T06:35:49.288Z"
   },
   {
    "duration": 6,
    "start_time": "2022-02-08T06:35:49.302Z"
   },
   {
    "duration": 50,
    "start_time": "2022-02-08T06:35:49.310Z"
   },
   {
    "duration": 5,
    "start_time": "2022-02-08T06:35:49.362Z"
   },
   {
    "duration": 8,
    "start_time": "2022-02-08T06:35:49.370Z"
   },
   {
    "duration": 6,
    "start_time": "2022-02-08T06:35:49.380Z"
   },
   {
    "duration": 6,
    "start_time": "2022-02-08T06:35:49.388Z"
   },
   {
    "duration": 4,
    "start_time": "2022-02-08T06:35:49.397Z"
   },
   {
    "duration": 56,
    "start_time": "2022-02-08T06:35:49.403Z"
   },
   {
    "duration": 7,
    "start_time": "2022-02-08T06:35:49.462Z"
   },
   {
    "duration": 27,
    "start_time": "2022-02-08T06:35:49.471Z"
   },
   {
    "duration": 25,
    "start_time": "2022-02-08T06:35:49.501Z"
   },
   {
    "duration": 44,
    "start_time": "2022-02-08T06:35:49.530Z"
   },
   {
    "duration": 90,
    "start_time": "2022-02-08T06:35:49.577Z"
   },
   {
    "duration": 116,
    "start_time": "2022-02-08T06:35:49.670Z"
   },
   {
    "duration": 121,
    "start_time": "2022-02-08T06:35:49.789Z"
   },
   {
    "duration": 52,
    "start_time": "2022-02-08T06:35:49.920Z"
   },
   {
    "duration": 58,
    "start_time": "2022-02-08T06:35:49.977Z"
   },
   {
    "duration": 29,
    "start_time": "2022-02-08T06:35:50.038Z"
   },
   {
    "duration": 62,
    "start_time": "2022-02-08T06:35:50.070Z"
   },
   {
    "duration": 10,
    "start_time": "2022-02-08T06:35:50.134Z"
   },
   {
    "duration": 7,
    "start_time": "2022-02-08T06:35:50.147Z"
   },
   {
    "duration": 5,
    "start_time": "2022-02-08T06:35:50.159Z"
   },
   {
    "duration": 25,
    "start_time": "2022-02-08T06:35:50.166Z"
   },
   {
    "duration": 9,
    "start_time": "2022-02-08T06:35:50.193Z"
   },
   {
    "duration": 11,
    "start_time": "2022-02-08T06:35:50.204Z"
   },
   {
    "duration": 7,
    "start_time": "2022-02-08T06:35:50.217Z"
   },
   {
    "duration": 38,
    "start_time": "2022-02-08T06:35:50.226Z"
   },
   {
    "duration": 12,
    "start_time": "2022-02-08T06:35:50.266Z"
   },
   {
    "duration": 6,
    "start_time": "2022-02-08T06:35:50.280Z"
   },
   {
    "duration": 10,
    "start_time": "2022-02-08T06:35:50.288Z"
   },
   {
    "duration": 16,
    "start_time": "2022-02-08T06:35:50.300Z"
   },
   {
    "duration": 5,
    "start_time": "2022-02-08T06:35:50.319Z"
   },
   {
    "duration": 38,
    "start_time": "2022-02-08T06:35:50.325Z"
   },
   {
    "duration": 8,
    "start_time": "2022-02-08T06:35:50.365Z"
   },
   {
    "duration": 15,
    "start_time": "2022-02-08T06:35:50.376Z"
   },
   {
    "duration": 74,
    "start_time": "2022-02-08T06:35:50.393Z"
   },
   {
    "duration": 33,
    "start_time": "2022-02-08T06:35:50.470Z"
   },
   {
    "duration": 24,
    "start_time": "2022-02-08T06:35:50.505Z"
   },
   {
    "duration": 47,
    "start_time": "2022-02-08T06:35:50.531Z"
   },
   {
    "duration": 12,
    "start_time": "2022-02-08T06:35:50.581Z"
   },
   {
    "duration": 28,
    "start_time": "2022-02-08T06:35:50.595Z"
   },
   {
    "duration": 37,
    "start_time": "2022-02-08T06:35:50.625Z"
   },
   {
    "duration": 934,
    "start_time": "2022-02-08T06:35:50.664Z"
   },
   {
    "duration": 17,
    "start_time": "2022-02-08T06:35:51.601Z"
   },
   {
    "duration": 13,
    "start_time": "2022-02-08T06:35:51.620Z"
   },
   {
    "duration": 1278,
    "start_time": "2022-02-08T06:35:51.635Z"
   },
   {
    "duration": 10,
    "start_time": "2022-02-08T06:35:52.915Z"
   },
   {
    "duration": 89,
    "start_time": "2022-02-08T06:35:52.927Z"
   },
   {
    "duration": 10,
    "start_time": "2022-02-08T06:35:53.018Z"
   },
   {
    "duration": 628,
    "start_time": "2022-02-08T06:35:53.031Z"
   },
   {
    "duration": 484,
    "start_time": "2022-02-08T06:35:53.662Z"
   },
   {
    "duration": 18,
    "start_time": "2022-02-08T06:35:54.148Z"
   },
   {
    "duration": 248,
    "start_time": "2022-02-08T06:35:54.168Z"
   },
   {
    "duration": 677,
    "start_time": "2022-02-08T06:35:57.709Z"
   },
   {
    "duration": 630,
    "start_time": "2022-02-08T06:36:27.071Z"
   },
   {
    "duration": 1607,
    "start_time": "2022-02-08T06:37:04.508Z"
   },
   {
    "duration": 14,
    "start_time": "2022-02-08T06:37:06.118Z"
   },
   {
    "duration": 30,
    "start_time": "2022-02-08T06:37:06.138Z"
   },
   {
    "duration": 10,
    "start_time": "2022-02-08T06:37:06.171Z"
   },
   {
    "duration": 6,
    "start_time": "2022-02-08T06:37:06.184Z"
   },
   {
    "duration": 5,
    "start_time": "2022-02-08T06:37:06.193Z"
   },
   {
    "duration": 68,
    "start_time": "2022-02-08T06:37:06.200Z"
   },
   {
    "duration": 7,
    "start_time": "2022-02-08T06:37:06.271Z"
   },
   {
    "duration": 4,
    "start_time": "2022-02-08T06:37:06.281Z"
   },
   {
    "duration": 9,
    "start_time": "2022-02-08T06:37:06.287Z"
   },
   {
    "duration": 61,
    "start_time": "2022-02-08T06:37:06.298Z"
   },
   {
    "duration": 6,
    "start_time": "2022-02-08T06:37:06.362Z"
   },
   {
    "duration": 8,
    "start_time": "2022-02-08T06:37:06.371Z"
   },
   {
    "duration": 5,
    "start_time": "2022-02-08T06:37:06.381Z"
   },
   {
    "duration": 9,
    "start_time": "2022-02-08T06:37:06.388Z"
   },
   {
    "duration": 7,
    "start_time": "2022-02-08T06:37:06.399Z"
   },
   {
    "duration": 57,
    "start_time": "2022-02-08T06:37:06.408Z"
   },
   {
    "duration": 6,
    "start_time": "2022-02-08T06:37:06.467Z"
   },
   {
    "duration": 4,
    "start_time": "2022-02-08T06:37:06.475Z"
   },
   {
    "duration": 7,
    "start_time": "2022-02-08T06:37:06.481Z"
   },
   {
    "duration": 76,
    "start_time": "2022-02-08T06:37:06.490Z"
   },
   {
    "duration": 9,
    "start_time": "2022-02-08T06:37:06.568Z"
   },
   {
    "duration": 9,
    "start_time": "2022-02-08T06:37:06.584Z"
   },
   {
    "duration": 10,
    "start_time": "2022-02-08T06:37:06.597Z"
   },
   {
    "duration": 52,
    "start_time": "2022-02-08T06:37:06.609Z"
   },
   {
    "duration": 13,
    "start_time": "2022-02-08T06:37:06.665Z"
   },
   {
    "duration": 27,
    "start_time": "2022-02-08T06:37:06.680Z"
   },
   {
    "duration": 6,
    "start_time": "2022-02-08T06:37:06.709Z"
   },
   {
    "duration": 49,
    "start_time": "2022-02-08T06:37:06.717Z"
   },
   {
    "duration": 31,
    "start_time": "2022-02-08T06:37:06.769Z"
   },
   {
    "duration": 10,
    "start_time": "2022-02-08T06:37:06.803Z"
   },
   {
    "duration": 8,
    "start_time": "2022-02-08T06:37:06.815Z"
   },
   {
    "duration": 33,
    "start_time": "2022-02-08T06:37:06.825Z"
   },
   {
    "duration": 16,
    "start_time": "2022-02-08T06:37:06.861Z"
   },
   {
    "duration": 7,
    "start_time": "2022-02-08T06:37:06.879Z"
   },
   {
    "duration": 14,
    "start_time": "2022-02-08T06:37:06.889Z"
   },
   {
    "duration": 7,
    "start_time": "2022-02-08T06:37:06.905Z"
   },
   {
    "duration": 47,
    "start_time": "2022-02-08T06:37:06.914Z"
   },
   {
    "duration": 11,
    "start_time": "2022-02-08T06:37:06.964Z"
   },
   {
    "duration": 7,
    "start_time": "2022-02-08T06:37:06.977Z"
   },
   {
    "duration": 10,
    "start_time": "2022-02-08T06:37:06.986Z"
   },
   {
    "duration": 8,
    "start_time": "2022-02-08T06:37:06.998Z"
   },
   {
    "duration": 51,
    "start_time": "2022-02-08T06:37:07.008Z"
   },
   {
    "duration": 5,
    "start_time": "2022-02-08T06:37:07.062Z"
   },
   {
    "duration": 5,
    "start_time": "2022-02-08T06:37:07.069Z"
   },
   {
    "duration": 15,
    "start_time": "2022-02-08T06:37:07.076Z"
   },
   {
    "duration": 92,
    "start_time": "2022-02-08T06:37:07.094Z"
   },
   {
    "duration": 32,
    "start_time": "2022-02-08T06:37:07.188Z"
   },
   {
    "duration": 44,
    "start_time": "2022-02-08T06:37:07.223Z"
   },
   {
    "duration": 24,
    "start_time": "2022-02-08T06:37:07.269Z"
   },
   {
    "duration": 13,
    "start_time": "2022-02-08T06:37:07.295Z"
   },
   {
    "duration": 17,
    "start_time": "2022-02-08T06:37:07.310Z"
   },
   {
    "duration": 34,
    "start_time": "2022-02-08T06:37:07.329Z"
   },
   {
    "duration": 916,
    "start_time": "2022-02-08T06:37:07.365Z"
   },
   {
    "duration": 17,
    "start_time": "2022-02-08T06:37:08.284Z"
   },
   {
    "duration": 14,
    "start_time": "2022-02-08T06:37:08.304Z"
   },
   {
    "duration": 904,
    "start_time": "2022-02-08T06:37:08.321Z"
   },
   {
    "duration": 10,
    "start_time": "2022-02-08T06:37:09.228Z"
   },
   {
    "duration": 64,
    "start_time": "2022-02-08T06:37:09.259Z"
   },
   {
    "duration": 33,
    "start_time": "2022-02-08T06:37:09.326Z"
   },
   {
    "duration": 633,
    "start_time": "2022-02-08T06:37:09.361Z"
   },
   {
    "duration": 508,
    "start_time": "2022-02-08T06:37:09.996Z"
   },
   {
    "duration": 13,
    "start_time": "2022-02-08T06:37:10.506Z"
   },
   {
    "duration": 286,
    "start_time": "2022-02-08T06:37:10.522Z"
   },
   {
    "duration": 650,
    "start_time": "2022-02-08T06:37:44.913Z"
   },
   {
    "duration": 11,
    "start_time": "2022-02-08T06:38:27.551Z"
   },
   {
    "duration": 631,
    "start_time": "2022-02-08T06:38:37.855Z"
   },
   {
    "duration": 490,
    "start_time": "2022-02-08T06:38:42.007Z"
   },
   {
    "duration": 448,
    "start_time": "2022-02-08T06:38:56.440Z"
   },
   {
    "duration": 470,
    "start_time": "2022-02-08T06:38:58.607Z"
   },
   {
    "duration": 10,
    "start_time": "2022-02-08T06:39:09.287Z"
   },
   {
    "duration": 2290,
    "start_time": "2022-02-08T06:40:07.911Z"
   },
   {
    "duration": 28,
    "start_time": "2022-02-08T06:40:13.575Z"
   },
   {
    "duration": 33,
    "start_time": "2022-02-08T06:40:41.974Z"
   },
   {
    "duration": 271,
    "start_time": "2022-02-08T06:42:35.581Z"
   },
   {
    "duration": 278,
    "start_time": "2022-02-08T06:42:48.485Z"
   },
   {
    "duration": -664,
    "start_time": "2022-02-08T06:45:14.011Z"
   },
   {
    "duration": 8751,
    "start_time": "2022-02-08T06:45:18.808Z"
   },
   {
    "duration": 117,
    "start_time": "2022-02-08T06:45:49.048Z"
   },
   {
    "duration": 9491,
    "start_time": "2022-02-08T06:45:55.287Z"
   },
   {
    "duration": 9055,
    "start_time": "2022-02-08T06:46:23.119Z"
   },
   {
    "duration": 47,
    "start_time": "2022-02-08T06:46:56.487Z"
   },
   {
    "duration": 48,
    "start_time": "2022-02-08T06:48:00.375Z"
   },
   {
    "duration": 48,
    "start_time": "2022-02-08T06:48:33.200Z"
   },
   {
    "duration": 51,
    "start_time": "2022-02-08T06:48:55.479Z"
   },
   {
    "duration": 47,
    "start_time": "2022-02-08T06:49:36.326Z"
   },
   {
    "duration": 49,
    "start_time": "2022-02-08T06:49:44.751Z"
   },
   {
    "duration": 47,
    "start_time": "2022-02-08T06:49:48.246Z"
   },
   {
    "duration": 10,
    "start_time": "2022-02-08T06:50:16.557Z"
   },
   {
    "duration": 124,
    "start_time": "2022-02-08T06:53:32.092Z"
   },
   {
    "duration": 113,
    "start_time": "2022-02-08T06:53:35.500Z"
   },
   {
    "duration": 358,
    "start_time": "2022-02-08T06:53:39.056Z"
   },
   {
    "duration": 412,
    "start_time": "2022-02-08T06:53:44.372Z"
   },
   {
    "duration": 423,
    "start_time": "2022-02-08T06:53:51.828Z"
   },
   {
    "duration": 6,
    "start_time": "2022-02-08T06:53:58.516Z"
   },
   {
    "duration": 8,
    "start_time": "2022-02-08T06:54:01.907Z"
   },
   {
    "duration": 125,
    "start_time": "2022-02-08T06:54:45.956Z"
   },
   {
    "duration": 25,
    "start_time": "2022-02-08T06:54:55.003Z"
   },
   {
    "duration": 20,
    "start_time": "2022-02-08T06:55:24.459Z"
   },
   {
    "duration": 9,
    "start_time": "2022-02-08T06:56:02.554Z"
   },
   {
    "duration": 5,
    "start_time": "2022-02-08T06:57:54.626Z"
   },
   {
    "duration": 4,
    "start_time": "2022-02-08T06:57:57.505Z"
   },
   {
    "duration": 114,
    "start_time": "2022-02-08T06:59:28.710Z"
   },
   {
    "duration": 21,
    "start_time": "2022-02-08T06:59:35.583Z"
   },
   {
    "duration": 500,
    "start_time": "2022-02-08T07:04:34.596Z"
   },
   {
    "duration": 22,
    "start_time": "2022-02-08T07:05:05.100Z"
   },
   {
    "duration": 118,
    "start_time": "2022-02-08T07:05:26.659Z"
   },
   {
    "duration": 145,
    "start_time": "2022-02-08T07:05:41.271Z"
   },
   {
    "duration": 11,
    "start_time": "2022-02-08T07:05:50.051Z"
   },
   {
    "duration": 136,
    "start_time": "2022-02-08T07:06:20.618Z"
   },
   {
    "duration": 24,
    "start_time": "2022-02-08T07:06:24.987Z"
   },
   {
    "duration": 29,
    "start_time": "2022-02-08T07:06:32.186Z"
   },
   {
    "duration": 20,
    "start_time": "2022-02-08T07:06:42.090Z"
   },
   {
    "duration": 10900,
    "start_time": "2022-02-08T07:10:47.865Z"
   },
   {
    "duration": 19,
    "start_time": "2022-02-08T07:11:07.201Z"
   },
   {
    "duration": 20,
    "start_time": "2022-02-08T07:11:31.404Z"
   },
   {
    "duration": 1549,
    "start_time": "2022-02-08T07:23:42.737Z"
   },
   {
    "duration": 14,
    "start_time": "2022-02-08T07:23:44.289Z"
   },
   {
    "duration": 10,
    "start_time": "2022-02-08T07:23:44.306Z"
   },
   {
    "duration": 41,
    "start_time": "2022-02-08T07:23:44.319Z"
   },
   {
    "duration": 5,
    "start_time": "2022-02-08T07:23:44.363Z"
   },
   {
    "duration": 6,
    "start_time": "2022-02-08T07:23:44.370Z"
   },
   {
    "duration": 24,
    "start_time": "2022-02-08T07:23:44.378Z"
   },
   {
    "duration": 7,
    "start_time": "2022-02-08T07:23:44.404Z"
   },
   {
    "duration": 46,
    "start_time": "2022-02-08T07:23:44.415Z"
   },
   {
    "duration": 9,
    "start_time": "2022-02-08T07:23:44.464Z"
   },
   {
    "duration": 15,
    "start_time": "2022-02-08T07:23:44.475Z"
   },
   {
    "duration": 7,
    "start_time": "2022-02-08T07:23:44.492Z"
   },
   {
    "duration": 8,
    "start_time": "2022-02-08T07:23:44.501Z"
   },
   {
    "duration": 5,
    "start_time": "2022-02-08T07:23:44.559Z"
   },
   {
    "duration": 9,
    "start_time": "2022-02-08T07:23:44.567Z"
   },
   {
    "duration": 7,
    "start_time": "2022-02-08T07:23:44.578Z"
   },
   {
    "duration": 7,
    "start_time": "2022-02-08T07:23:44.587Z"
   },
   {
    "duration": 5,
    "start_time": "2022-02-08T07:23:44.597Z"
   },
   {
    "duration": 4,
    "start_time": "2022-02-08T07:23:44.604Z"
   },
   {
    "duration": 6,
    "start_time": "2022-02-08T07:23:44.660Z"
   },
   {
    "duration": 23,
    "start_time": "2022-02-08T07:23:44.668Z"
   },
   {
    "duration": 10,
    "start_time": "2022-02-08T07:23:44.693Z"
   },
   {
    "duration": 6,
    "start_time": "2022-02-08T07:23:44.705Z"
   },
   {
    "duration": 49,
    "start_time": "2022-02-08T07:23:44.713Z"
   },
   {
    "duration": 9,
    "start_time": "2022-02-08T07:23:44.764Z"
   },
   {
    "duration": 12,
    "start_time": "2022-02-08T07:23:44.775Z"
   },
   {
    "duration": 26,
    "start_time": "2022-02-08T07:23:44.793Z"
   },
   {
    "duration": 5,
    "start_time": "2022-02-08T07:23:44.859Z"
   },
   {
    "duration": 11,
    "start_time": "2022-02-08T07:23:44.867Z"
   },
   {
    "duration": 31,
    "start_time": "2022-02-08T07:23:44.881Z"
   },
   {
    "duration": 46,
    "start_time": "2022-02-08T07:23:44.915Z"
   },
   {
    "duration": 7,
    "start_time": "2022-02-08T07:23:44.964Z"
   },
   {
    "duration": 4,
    "start_time": "2022-02-08T07:23:44.973Z"
   },
   {
    "duration": 10,
    "start_time": "2022-02-08T07:23:44.979Z"
   },
   {
    "duration": 6,
    "start_time": "2022-02-08T07:23:44.991Z"
   },
   {
    "duration": 9,
    "start_time": "2022-02-08T07:23:45.000Z"
   },
   {
    "duration": 52,
    "start_time": "2022-02-08T07:23:45.011Z"
   },
   {
    "duration": 19,
    "start_time": "2022-02-08T07:23:45.066Z"
   },
   {
    "duration": 17,
    "start_time": "2022-02-08T07:23:45.087Z"
   },
   {
    "duration": 7,
    "start_time": "2022-02-08T07:23:45.107Z"
   },
   {
    "duration": 12,
    "start_time": "2022-02-08T07:23:45.116Z"
   },
   {
    "duration": 7,
    "start_time": "2022-02-08T07:23:45.160Z"
   },
   {
    "duration": 4,
    "start_time": "2022-02-08T07:23:45.170Z"
   },
   {
    "duration": 4,
    "start_time": "2022-02-08T07:23:45.177Z"
   },
   {
    "duration": 5,
    "start_time": "2022-02-08T07:23:45.183Z"
   },
   {
    "duration": 17,
    "start_time": "2022-02-08T07:23:45.190Z"
   },
   {
    "duration": 95,
    "start_time": "2022-02-08T07:23:45.209Z"
   },
   {
    "duration": 31,
    "start_time": "2022-02-08T07:23:45.307Z"
   },
   {
    "duration": 40,
    "start_time": "2022-02-08T07:23:45.340Z"
   },
   {
    "duration": 23,
    "start_time": "2022-02-08T07:23:45.382Z"
   },
   {
    "duration": 12,
    "start_time": "2022-02-08T07:23:45.407Z"
   },
   {
    "duration": 40,
    "start_time": "2022-02-08T07:23:45.421Z"
   },
   {
    "duration": 8,
    "start_time": "2022-02-08T07:23:45.463Z"
   },
   {
    "duration": 918,
    "start_time": "2022-02-08T07:23:45.473Z"
   },
   {
    "duration": 17,
    "start_time": "2022-02-08T07:23:46.394Z"
   },
   {
    "duration": 14,
    "start_time": "2022-02-08T07:23:46.413Z"
   },
   {
    "duration": 916,
    "start_time": "2022-02-08T07:23:46.429Z"
   },
   {
    "duration": 16,
    "start_time": "2022-02-08T07:23:47.348Z"
   },
   {
    "duration": 67,
    "start_time": "2022-02-08T07:23:47.366Z"
   },
   {
    "duration": 10,
    "start_time": "2022-02-08T07:23:47.459Z"
   },
   {
    "duration": 631,
    "start_time": "2022-02-08T07:23:47.472Z"
   },
   {
    "duration": 473,
    "start_time": "2022-02-08T07:23:48.105Z"
   },
   {
    "duration": 10,
    "start_time": "2022-02-08T07:23:48.581Z"
   },
   {
    "duration": 255,
    "start_time": "2022-02-08T07:23:48.594Z"
   },
   {
    "duration": 624,
    "start_time": "2022-02-08T07:23:48.851Z"
   },
   {
    "duration": 54,
    "start_time": "2022-02-08T07:23:49.478Z"
   },
   {
    "duration": 41,
    "start_time": "2022-02-08T07:23:49.535Z"
   },
   {
    "duration": 604,
    "start_time": "2022-02-08T07:27:33.473Z"
   },
   {
    "duration": 11,
    "start_time": "2022-02-08T07:28:19.768Z"
   },
   {
    "duration": 246,
    "start_time": "2022-02-08T07:28:28.887Z"
   },
   {
    "duration": 126,
    "start_time": "2022-02-08T07:42:37.883Z"
   },
   {
    "duration": 12,
    "start_time": "2022-02-08T07:42:41.898Z"
   },
   {
    "duration": 9,
    "start_time": "2022-02-08T07:43:09.899Z"
   },
   {
    "duration": 74,
    "start_time": "2022-02-08T07:54:56.013Z"
   },
   {
    "duration": 1016,
    "start_time": "2022-02-08T08:40:11.867Z"
   },
   {
    "duration": 1789,
    "start_time": "2022-02-08T08:40:41.306Z"
   },
   {
    "duration": 23,
    "start_time": "2022-02-08T08:40:56.731Z"
   },
   {
    "duration": 23,
    "start_time": "2022-02-08T08:42:29.178Z"
   },
   {
    "duration": 23,
    "start_time": "2022-02-08T08:43:18.787Z"
   },
   {
    "duration": 35,
    "start_time": "2022-02-08T08:51:53.176Z"
   },
   {
    "duration": 389,
    "start_time": "2022-02-08T08:52:21.335Z"
   },
   {
    "duration": 48,
    "start_time": "2022-02-08T08:52:33.022Z"
   },
   {
    "duration": 25,
    "start_time": "2022-02-08T08:52:49.414Z"
   },
   {
    "duration": 27,
    "start_time": "2022-02-08T08:53:07.166Z"
   },
   {
    "duration": 27,
    "start_time": "2022-02-08T08:53:19.523Z"
   },
   {
    "duration": 26,
    "start_time": "2022-02-08T08:54:08.301Z"
   },
   {
    "duration": 24,
    "start_time": "2022-02-08T08:54:13.397Z"
   },
   {
    "duration": 13050,
    "start_time": "2022-02-08T08:55:03.428Z"
   },
   {
    "duration": 11337,
    "start_time": "2022-02-08T08:55:55.093Z"
   },
   {
    "duration": 952,
    "start_time": "2022-02-08T08:56:09.609Z"
   },
   {
    "duration": 387,
    "start_time": "2022-02-08T09:05:03.688Z"
   },
   {
    "duration": 10,
    "start_time": "2022-02-08T09:06:25.598Z"
   },
   {
    "duration": 441,
    "start_time": "2022-02-08T09:06:47.493Z"
   },
   {
    "duration": 399,
    "start_time": "2022-02-08T09:06:57.070Z"
   },
   {
    "duration": 38,
    "start_time": "2022-02-08T09:07:04.221Z"
   },
   {
    "duration": 10813,
    "start_time": "2022-02-08T09:07:32.717Z"
   },
   {
    "duration": 251,
    "start_time": "2022-02-08T09:07:48.756Z"
   },
   {
    "duration": 8,
    "start_time": "2022-02-08T09:21:21.193Z"
   },
   {
    "duration": 7,
    "start_time": "2022-02-08T09:21:25.390Z"
   },
   {
    "duration": 719,
    "start_time": "2022-02-08T09:21:57.801Z"
   },
   {
    "duration": 1672,
    "start_time": "2022-02-08T09:22:18.217Z"
   },
   {
    "duration": 17,
    "start_time": "2022-02-08T09:22:19.892Z"
   },
   {
    "duration": 10,
    "start_time": "2022-02-08T09:22:19.912Z"
   },
   {
    "duration": 36,
    "start_time": "2022-02-08T09:22:19.925Z"
   },
   {
    "duration": 6,
    "start_time": "2022-02-08T09:22:19.963Z"
   },
   {
    "duration": 5,
    "start_time": "2022-02-08T09:22:19.971Z"
   },
   {
    "duration": 23,
    "start_time": "2022-02-08T09:22:19.979Z"
   },
   {
    "duration": 6,
    "start_time": "2022-02-08T09:22:20.007Z"
   },
   {
    "duration": 6,
    "start_time": "2022-02-08T09:22:20.061Z"
   },
   {
    "duration": 10,
    "start_time": "2022-02-08T09:22:20.070Z"
   },
   {
    "duration": 16,
    "start_time": "2022-02-08T09:22:20.083Z"
   },
   {
    "duration": 6,
    "start_time": "2022-02-08T09:22:20.102Z"
   },
   {
    "duration": 8,
    "start_time": "2022-02-08T09:22:20.159Z"
   },
   {
    "duration": 5,
    "start_time": "2022-02-08T09:22:20.170Z"
   },
   {
    "duration": 8,
    "start_time": "2022-02-08T09:22:20.177Z"
   },
   {
    "duration": 6,
    "start_time": "2022-02-08T09:22:20.187Z"
   },
   {
    "duration": 8,
    "start_time": "2022-02-08T09:22:20.195Z"
   },
   {
    "duration": 53,
    "start_time": "2022-02-08T09:22:20.206Z"
   },
   {
    "duration": 4,
    "start_time": "2022-02-08T09:22:20.262Z"
   },
   {
    "duration": 8,
    "start_time": "2022-02-08T09:22:20.269Z"
   },
   {
    "duration": 23,
    "start_time": "2022-02-08T09:22:20.280Z"
   },
   {
    "duration": 10,
    "start_time": "2022-02-08T09:22:20.306Z"
   },
   {
    "duration": 41,
    "start_time": "2022-02-08T09:22:20.322Z"
   },
   {
    "duration": 9,
    "start_time": "2022-02-08T09:22:20.367Z"
   },
   {
    "duration": 9,
    "start_time": "2022-02-08T09:22:20.378Z"
   },
   {
    "duration": 12,
    "start_time": "2022-02-08T09:22:20.389Z"
   },
   {
    "duration": 67,
    "start_time": "2022-02-08T09:22:20.404Z"
   },
   {
    "duration": 5,
    "start_time": "2022-02-08T09:22:20.474Z"
   },
   {
    "duration": 13,
    "start_time": "2022-02-08T09:22:20.481Z"
   },
   {
    "duration": 65,
    "start_time": "2022-02-08T09:22:20.496Z"
   },
   {
    "duration": 11,
    "start_time": "2022-02-08T09:22:20.564Z"
   },
   {
    "duration": 6,
    "start_time": "2022-02-08T09:22:20.577Z"
   },
   {
    "duration": 7,
    "start_time": "2022-02-08T09:22:20.585Z"
   },
   {
    "duration": 11,
    "start_time": "2022-02-08T09:22:20.594Z"
   },
   {
    "duration": 7,
    "start_time": "2022-02-08T09:22:20.608Z"
   },
   {
    "duration": 45,
    "start_time": "2022-02-08T09:22:20.617Z"
   },
   {
    "duration": 7,
    "start_time": "2022-02-08T09:22:20.664Z"
   },
   {
    "duration": 16,
    "start_time": "2022-02-08T09:22:20.673Z"
   },
   {
    "duration": 13,
    "start_time": "2022-02-08T09:22:20.692Z"
   },
   {
    "duration": 7,
    "start_time": "2022-02-08T09:22:20.708Z"
   },
   {
    "duration": 49,
    "start_time": "2022-02-08T09:22:20.718Z"
   },
   {
    "duration": 8,
    "start_time": "2022-02-08T09:22:20.770Z"
   },
   {
    "duration": 4,
    "start_time": "2022-02-08T09:22:20.781Z"
   },
   {
    "duration": 6,
    "start_time": "2022-02-08T09:22:20.787Z"
   },
   {
    "duration": 8,
    "start_time": "2022-02-08T09:22:20.795Z"
   },
   {
    "duration": 53,
    "start_time": "2022-02-08T09:22:20.806Z"
   },
   {
    "duration": 60,
    "start_time": "2022-02-08T09:22:20.862Z"
   },
   {
    "duration": 54,
    "start_time": "2022-02-08T09:22:20.925Z"
   },
   {
    "duration": 25,
    "start_time": "2022-02-08T09:22:20.982Z"
   },
   {
    "duration": 25,
    "start_time": "2022-02-08T09:22:21.010Z"
   },
   {
    "duration": 13,
    "start_time": "2022-02-08T09:22:21.060Z"
   },
   {
    "duration": 11,
    "start_time": "2022-02-08T09:22:21.077Z"
   },
   {
    "duration": 10,
    "start_time": "2022-02-08T09:22:21.091Z"
   },
   {
    "duration": 996,
    "start_time": "2022-02-08T09:22:21.104Z"
   },
   {
    "duration": 20,
    "start_time": "2022-02-08T09:22:22.104Z"
   },
   {
    "duration": 38,
    "start_time": "2022-02-08T09:22:22.127Z"
   },
   {
    "duration": 862,
    "start_time": "2022-02-08T09:22:22.167Z"
   },
   {
    "duration": 9,
    "start_time": "2022-02-08T09:22:23.032Z"
   },
   {
    "duration": 74,
    "start_time": "2022-02-08T09:22:23.044Z"
   },
   {
    "duration": 9,
    "start_time": "2022-02-08T09:22:23.120Z"
   },
   {
    "duration": 619,
    "start_time": "2022-02-08T09:22:23.131Z"
   },
   {
    "duration": 472,
    "start_time": "2022-02-08T09:22:23.753Z"
   },
   {
    "duration": 10,
    "start_time": "2022-02-08T09:22:24.227Z"
   },
   {
    "duration": 252,
    "start_time": "2022-02-08T09:22:24.240Z"
   },
   {
    "duration": 629,
    "start_time": "2022-02-08T09:22:24.494Z"
   },
   {
    "duration": 65,
    "start_time": "2022-02-08T09:22:25.125Z"
   },
   {
    "duration": 20,
    "start_time": "2022-02-08T09:22:25.192Z"
   },
   {
    "duration": 616,
    "start_time": "2022-02-08T09:22:25.219Z"
   },
   {
    "duration": 21,
    "start_time": "2022-02-08T09:22:25.838Z"
   },
   {
    "duration": 277,
    "start_time": "2022-02-08T09:22:25.862Z"
   },
   {
    "duration": 103,
    "start_time": "2022-02-08T09:22:26.141Z"
   },
   {
    "duration": 38,
    "start_time": "2022-02-08T09:22:26.247Z"
   },
   {
    "duration": 628,
    "start_time": "2022-02-08T09:22:30.910Z"
   },
   {
    "duration": 227,
    "start_time": "2022-02-08T09:23:16.834Z"
   },
   {
    "duration": 630,
    "start_time": "2022-02-08T09:23:27.836Z"
   },
   {
    "duration": 667,
    "start_time": "2022-02-08T09:23:36.131Z"
   },
   {
    "duration": 235,
    "start_time": "2022-02-08T09:23:41.757Z"
   },
   {
    "duration": 262,
    "start_time": "2022-02-08T09:34:06.163Z"
   },
   {
    "duration": 214,
    "start_time": "2022-02-08T09:34:22.227Z"
   },
   {
    "duration": 377,
    "start_time": "2022-02-08T09:34:26.699Z"
   },
   {
    "duration": 681,
    "start_time": "2022-02-08T09:35:15.562Z"
   },
   {
    "duration": 10,
    "start_time": "2022-02-08T09:35:20.253Z"
   },
   {
    "duration": 257,
    "start_time": "2022-02-08T09:36:07.548Z"
   },
   {
    "duration": -788,
    "start_time": "2022-02-08T09:40:07.768Z"
   },
   {
    "duration": 34426,
    "start_time": "2022-02-08T09:40:17.091Z"
   },
   {
    "duration": 10372,
    "start_time": "2022-02-08T09:40:57.232Z"
   },
   {
    "duration": 14,
    "start_time": "2022-02-08T09:41:09.697Z"
   },
   {
    "duration": 78,
    "start_time": "2022-02-08T09:43:29.480Z"
   },
   {
    "duration": 72,
    "start_time": "2022-02-08T09:43:36.856Z"
   },
   {
    "duration": 9091,
    "start_time": "2022-02-08T09:46:08.743Z"
   },
   {
    "duration": 127,
    "start_time": "2022-02-08T09:46:24.075Z"
   },
   {
    "duration": 9692,
    "start_time": "2022-02-08T09:46:34.128Z"
   },
   {
    "duration": 124,
    "start_time": "2022-02-08T09:47:41.844Z"
   },
   {
    "duration": 10,
    "start_time": "2022-02-08T09:47:45.634Z"
   },
   {
    "duration": 389,
    "start_time": "2022-02-08T09:58:19.911Z"
   },
   {
    "duration": 645,
    "start_time": "2022-02-08T09:58:36.982Z"
   },
   {
    "duration": 642,
    "start_time": "2022-02-08T10:04:25.324Z"
   },
   {
    "duration": 10,
    "start_time": "2022-02-08T10:04:47.019Z"
   },
   {
    "duration": 243,
    "start_time": "2022-02-08T10:04:50.826Z"
   },
   {
    "duration": 11372,
    "start_time": "2022-02-08T10:07:05.406Z"
   },
   {
    "duration": 66,
    "start_time": "2022-02-08T10:07:26.119Z"
   },
   {
    "duration": 60,
    "start_time": "2022-02-08T10:09:45.046Z"
   },
   {
    "duration": 1606,
    "start_time": "2022-02-08T10:11:25.223Z"
   },
   {
    "duration": 17,
    "start_time": "2022-02-08T10:11:26.832Z"
   },
   {
    "duration": 16,
    "start_time": "2022-02-08T10:11:26.851Z"
   },
   {
    "duration": 10,
    "start_time": "2022-02-08T10:11:26.871Z"
   },
   {
    "duration": 5,
    "start_time": "2022-02-08T10:11:26.883Z"
   },
   {
    "duration": 6,
    "start_time": "2022-02-08T10:11:26.891Z"
   },
   {
    "duration": 77,
    "start_time": "2022-02-08T10:11:26.899Z"
   },
   {
    "duration": 8,
    "start_time": "2022-02-08T10:11:26.981Z"
   },
   {
    "duration": 4,
    "start_time": "2022-02-08T10:11:26.992Z"
   },
   {
    "duration": 11,
    "start_time": "2022-02-08T10:11:26.999Z"
   },
   {
    "duration": 51,
    "start_time": "2022-02-08T10:11:27.013Z"
   },
   {
    "duration": 5,
    "start_time": "2022-02-08T10:11:27.067Z"
   },
   {
    "duration": 9,
    "start_time": "2022-02-08T10:11:27.074Z"
   },
   {
    "duration": 7,
    "start_time": "2022-02-08T10:11:27.085Z"
   },
   {
    "duration": 12,
    "start_time": "2022-02-08T10:11:27.095Z"
   },
   {
    "duration": 7,
    "start_time": "2022-02-08T10:11:27.109Z"
   },
   {
    "duration": 45,
    "start_time": "2022-02-08T10:11:27.118Z"
   },
   {
    "duration": 6,
    "start_time": "2022-02-08T10:11:27.166Z"
   },
   {
    "duration": 5,
    "start_time": "2022-02-08T10:11:27.174Z"
   },
   {
    "duration": 9,
    "start_time": "2022-02-08T10:11:27.181Z"
   },
   {
    "duration": 22,
    "start_time": "2022-02-08T10:11:27.192Z"
   },
   {
    "duration": 11,
    "start_time": "2022-02-08T10:11:27.259Z"
   },
   {
    "duration": 7,
    "start_time": "2022-02-08T10:11:27.277Z"
   },
   {
    "duration": 10,
    "start_time": "2022-02-08T10:11:27.287Z"
   },
   {
    "duration": 8,
    "start_time": "2022-02-08T10:11:27.300Z"
   },
   {
    "duration": 55,
    "start_time": "2022-02-08T10:11:27.310Z"
   },
   {
    "duration": 27,
    "start_time": "2022-02-08T10:11:27.367Z"
   },
   {
    "duration": 5,
    "start_time": "2022-02-08T10:11:27.396Z"
   },
   {
    "duration": 13,
    "start_time": "2022-02-08T10:11:27.403Z"
   },
   {
    "duration": 63,
    "start_time": "2022-02-08T10:11:27.418Z"
   },
   {
    "duration": 10,
    "start_time": "2022-02-08T10:11:27.483Z"
   },
   {
    "duration": 7,
    "start_time": "2022-02-08T10:11:27.495Z"
   },
   {
    "duration": 4,
    "start_time": "2022-02-08T10:11:27.505Z"
   },
   {
    "duration": 50,
    "start_time": "2022-02-08T10:11:27.511Z"
   },
   {
    "duration": 7,
    "start_time": "2022-02-08T10:11:27.564Z"
   },
   {
    "duration": 11,
    "start_time": "2022-02-08T10:11:27.573Z"
   },
   {
    "duration": 8,
    "start_time": "2022-02-08T10:11:27.586Z"
   },
   {
    "duration": 9,
    "start_time": "2022-02-08T10:11:27.597Z"
   },
   {
    "duration": 51,
    "start_time": "2022-02-08T10:11:27.608Z"
   },
   {
    "duration": 7,
    "start_time": "2022-02-08T10:11:27.661Z"
   },
   {
    "duration": 15,
    "start_time": "2022-02-08T10:11:27.670Z"
   },
   {
    "duration": 7,
    "start_time": "2022-02-08T10:11:27.687Z"
   },
   {
    "duration": 5,
    "start_time": "2022-02-08T10:11:27.696Z"
   },
   {
    "duration": 6,
    "start_time": "2022-02-08T10:11:27.703Z"
   },
   {
    "duration": 48,
    "start_time": "2022-02-08T10:11:27.711Z"
   },
   {
    "duration": 15,
    "start_time": "2022-02-08T10:11:27.762Z"
   },
   {
    "duration": 84,
    "start_time": "2022-02-08T10:11:27.779Z"
   },
   {
    "duration": 40,
    "start_time": "2022-02-08T10:11:27.865Z"
   },
   {
    "duration": 29,
    "start_time": "2022-02-08T10:11:27.908Z"
   },
   {
    "duration": 47,
    "start_time": "2022-02-08T10:11:27.940Z"
   },
   {
    "duration": 18,
    "start_time": "2022-02-08T10:11:27.990Z"
   },
   {
    "duration": 18,
    "start_time": "2022-02-08T10:11:28.011Z"
   },
   {
    "duration": 36,
    "start_time": "2022-02-08T10:11:28.032Z"
   },
   {
    "duration": 965,
    "start_time": "2022-02-08T10:11:28.071Z"
   },
   {
    "duration": 30,
    "start_time": "2022-02-08T10:11:29.038Z"
   },
   {
    "duration": 16,
    "start_time": "2022-02-08T10:11:29.070Z"
   },
   {
    "duration": 888,
    "start_time": "2022-02-08T10:11:29.088Z"
   },
   {
    "duration": 10,
    "start_time": "2022-02-08T10:11:29.978Z"
   },
   {
    "duration": 91,
    "start_time": "2022-02-08T10:11:29.991Z"
   },
   {
    "duration": 10,
    "start_time": "2022-02-08T10:11:30.084Z"
   },
   {
    "duration": 633,
    "start_time": "2022-02-08T10:11:30.096Z"
   },
   {
    "duration": 495,
    "start_time": "2022-02-08T10:11:30.731Z"
   },
   {
    "duration": 10,
    "start_time": "2022-02-08T10:11:31.229Z"
   },
   {
    "duration": 258,
    "start_time": "2022-02-08T10:11:31.241Z"
   },
   {
    "duration": 630,
    "start_time": "2022-02-08T10:11:31.502Z"
   },
   {
    "duration": 67,
    "start_time": "2022-02-08T10:11:32.134Z"
   },
   {
    "duration": 21,
    "start_time": "2022-02-08T10:11:32.203Z"
   },
   {
    "duration": 631,
    "start_time": "2022-02-08T10:11:32.231Z"
   },
   {
    "duration": 11,
    "start_time": "2022-02-08T10:11:32.864Z"
   },
   {
    "duration": 282,
    "start_time": "2022-02-08T10:11:32.877Z"
   },
   {
    "duration": 74,
    "start_time": "2022-02-08T10:11:33.161Z"
   },
   {
    "duration": 35,
    "start_time": "2022-02-08T10:11:33.237Z"
   },
   {
    "duration": 633,
    "start_time": "2022-02-08T10:11:33.275Z"
   },
   {
    "duration": 9,
    "start_time": "2022-02-08T10:11:33.910Z"
   },
   {
    "duration": 90,
    "start_time": "2022-02-08T10:11:33.922Z"
   },
   {
    "duration": 628,
    "start_time": "2022-02-08T10:11:34.014Z"
   },
   {
    "duration": 17,
    "start_time": "2022-02-08T10:11:34.645Z"
   },
   {
    "duration": 254,
    "start_time": "2022-02-08T10:11:34.665Z"
   },
   {
    "duration": 65,
    "start_time": "2022-02-08T10:11:38.980Z"
   },
   {
    "duration": 61,
    "start_time": "2022-02-08T10:12:17.213Z"
   },
   {
    "duration": 1847,
    "start_time": "2022-02-08T10:14:29.313Z"
   },
   {
    "duration": 20,
    "start_time": "2022-02-08T10:14:31.163Z"
   },
   {
    "duration": 11,
    "start_time": "2022-02-08T10:14:31.186Z"
   },
   {
    "duration": 12,
    "start_time": "2022-02-08T10:14:31.200Z"
   },
   {
    "duration": 46,
    "start_time": "2022-02-08T10:14:31.216Z"
   },
   {
    "duration": 7,
    "start_time": "2022-02-08T10:14:31.265Z"
   },
   {
    "duration": 25,
    "start_time": "2022-02-08T10:14:31.275Z"
   },
   {
    "duration": 7,
    "start_time": "2022-02-08T10:14:31.303Z"
   },
   {
    "duration": 6,
    "start_time": "2022-02-08T10:14:31.360Z"
   },
   {
    "duration": 13,
    "start_time": "2022-02-08T10:14:31.369Z"
   },
   {
    "duration": 16,
    "start_time": "2022-02-08T10:14:31.385Z"
   },
   {
    "duration": 6,
    "start_time": "2022-02-08T10:14:31.404Z"
   },
   {
    "duration": 49,
    "start_time": "2022-02-08T10:14:31.413Z"
   },
   {
    "duration": 5,
    "start_time": "2022-02-08T10:14:31.464Z"
   },
   {
    "duration": 10,
    "start_time": "2022-02-08T10:14:31.472Z"
   },
   {
    "duration": 9,
    "start_time": "2022-02-08T10:14:31.485Z"
   },
   {
    "duration": 10,
    "start_time": "2022-02-08T10:14:31.496Z"
   },
   {
    "duration": 110,
    "start_time": "2022-02-08T10:14:31.509Z"
   },
   {
    "duration": 6,
    "start_time": "2022-02-08T10:14:31.621Z"
   },
   {
    "duration": 8,
    "start_time": "2022-02-08T10:14:31.629Z"
   },
   {
    "duration": 21,
    "start_time": "2022-02-08T10:14:31.640Z"
   },
   {
    "duration": 11,
    "start_time": "2022-02-08T10:14:31.663Z"
   },
   {
    "duration": 8,
    "start_time": "2022-02-08T10:14:31.676Z"
   },
   {
    "duration": 12,
    "start_time": "2022-02-08T10:14:31.686Z"
   },
   {
    "duration": 8,
    "start_time": "2022-02-08T10:14:31.701Z"
   },
   {
    "duration": 58,
    "start_time": "2022-02-08T10:14:31.711Z"
   },
   {
    "duration": 30,
    "start_time": "2022-02-08T10:14:31.775Z"
   },
   {
    "duration": 5,
    "start_time": "2022-02-08T10:14:31.808Z"
   },
   {
    "duration": 46,
    "start_time": "2022-02-08T10:14:31.815Z"
   },
   {
    "duration": 30,
    "start_time": "2022-02-08T10:14:31.863Z"
   },
   {
    "duration": 10,
    "start_time": "2022-02-08T10:14:31.895Z"
   },
   {
    "duration": 7,
    "start_time": "2022-02-08T10:14:31.907Z"
   },
   {
    "duration": 9,
    "start_time": "2022-02-08T10:14:31.916Z"
   },
   {
    "duration": 41,
    "start_time": "2022-02-08T10:14:31.928Z"
   },
   {
    "duration": 17,
    "start_time": "2022-02-08T10:14:31.971Z"
   },
   {
    "duration": 11,
    "start_time": "2022-02-08T10:14:31.990Z"
   },
   {
    "duration": 6,
    "start_time": "2022-02-08T10:14:32.004Z"
   },
   {
    "duration": 9,
    "start_time": "2022-02-08T10:14:32.013Z"
   },
   {
    "duration": 11,
    "start_time": "2022-02-08T10:14:32.060Z"
   },
   {
    "duration": 6,
    "start_time": "2022-02-08T10:14:32.074Z"
   },
   {
    "duration": 10,
    "start_time": "2022-02-08T10:14:32.082Z"
   },
   {
    "duration": 9,
    "start_time": "2022-02-08T10:14:32.095Z"
   },
   {
    "duration": 5,
    "start_time": "2022-02-08T10:14:32.106Z"
   },
   {
    "duration": 48,
    "start_time": "2022-02-08T10:14:32.113Z"
   },
   {
    "duration": 5,
    "start_time": "2022-02-08T10:14:32.164Z"
   },
   {
    "duration": 25,
    "start_time": "2022-02-08T10:14:32.171Z"
   },
   {
    "duration": 93,
    "start_time": "2022-02-08T10:14:32.199Z"
   },
   {
    "duration": 33,
    "start_time": "2022-02-08T10:14:32.295Z"
   },
   {
    "duration": 43,
    "start_time": "2022-02-08T10:14:32.331Z"
   },
   {
    "duration": 23,
    "start_time": "2022-02-08T10:14:32.377Z"
   },
   {
    "duration": 15,
    "start_time": "2022-02-08T10:14:32.402Z"
   },
   {
    "duration": 9,
    "start_time": "2022-02-08T10:14:32.420Z"
   },
   {
    "duration": 8,
    "start_time": "2022-02-08T10:14:32.460Z"
   },
   {
    "duration": 958,
    "start_time": "2022-02-08T10:14:32.471Z"
   },
   {
    "duration": 31,
    "start_time": "2022-02-08T10:14:33.432Z"
   },
   {
    "duration": 14,
    "start_time": "2022-02-08T10:14:33.465Z"
   },
   {
    "duration": 870,
    "start_time": "2022-02-08T10:14:33.481Z"
   },
   {
    "duration": 13,
    "start_time": "2022-02-08T10:14:34.353Z"
   },
   {
    "duration": 64,
    "start_time": "2022-02-08T10:14:34.368Z"
   },
   {
    "duration": 30,
    "start_time": "2022-02-08T10:14:34.435Z"
   },
   {
    "duration": 612,
    "start_time": "2022-02-08T10:14:34.467Z"
   },
   {
    "duration": 493,
    "start_time": "2022-02-08T10:14:35.081Z"
   },
   {
    "duration": 10,
    "start_time": "2022-02-08T10:14:35.576Z"
   },
   {
    "duration": 262,
    "start_time": "2022-02-08T10:14:35.588Z"
   },
   {
    "duration": 637,
    "start_time": "2022-02-08T10:14:35.852Z"
   },
   {
    "duration": 67,
    "start_time": "2022-02-08T10:14:36.492Z"
   },
   {
    "duration": 22,
    "start_time": "2022-02-08T10:14:36.562Z"
   },
   {
    "duration": 644,
    "start_time": "2022-02-08T10:14:36.586Z"
   },
   {
    "duration": 27,
    "start_time": "2022-02-08T10:14:37.233Z"
   },
   {
    "duration": 271,
    "start_time": "2022-02-08T10:14:37.263Z"
   },
   {
    "duration": 90,
    "start_time": "2022-02-08T10:14:37.537Z"
   },
   {
    "duration": 45,
    "start_time": "2022-02-08T10:14:37.630Z"
   },
   {
    "duration": 642,
    "start_time": "2022-02-08T10:14:37.678Z"
   },
   {
    "duration": 11,
    "start_time": "2022-02-08T10:14:38.323Z"
   },
   {
    "duration": 95,
    "start_time": "2022-02-08T10:14:38.337Z"
   },
   {
    "duration": 645,
    "start_time": "2022-02-08T10:14:38.435Z"
   },
   {
    "duration": 9,
    "start_time": "2022-02-08T10:14:39.083Z"
   },
   {
    "duration": 260,
    "start_time": "2022-02-08T10:14:39.094Z"
   },
   {
    "duration": 62,
    "start_time": "2022-02-08T10:14:39.359Z"
   },
   {
    "duration": 93,
    "start_time": "2022-02-08T10:16:58.487Z"
   },
   {
    "duration": 14,
    "start_time": "2022-02-08T10:16:58.583Z"
   },
   {
    "duration": 10,
    "start_time": "2022-02-08T10:16:58.600Z"
   },
   {
    "duration": 12,
    "start_time": "2022-02-08T10:16:58.661Z"
   },
   {
    "duration": 6,
    "start_time": "2022-02-08T10:16:58.675Z"
   },
   {
    "duration": 6,
    "start_time": "2022-02-08T10:16:58.683Z"
   },
   {
    "duration": 24,
    "start_time": "2022-02-08T10:16:58.692Z"
   },
   {
    "duration": 7,
    "start_time": "2022-02-08T10:16:58.760Z"
   },
   {
    "duration": 5,
    "start_time": "2022-02-08T10:16:58.770Z"
   },
   {
    "duration": 10,
    "start_time": "2022-02-08T10:16:58.777Z"
   },
   {
    "duration": 20,
    "start_time": "2022-02-08T10:16:58.789Z"
   },
   {
    "duration": 6,
    "start_time": "2022-02-08T10:16:58.811Z"
   },
   {
    "duration": 50,
    "start_time": "2022-02-08T10:16:58.819Z"
   },
   {
    "duration": 9,
    "start_time": "2022-02-08T10:16:58.872Z"
   },
   {
    "duration": 7,
    "start_time": "2022-02-08T10:16:58.884Z"
   },
   {
    "duration": 14,
    "start_time": "2022-02-08T10:16:58.893Z"
   },
   {
    "duration": 7,
    "start_time": "2022-02-08T10:16:58.909Z"
   },
   {
    "duration": 5,
    "start_time": "2022-02-08T10:16:58.918Z"
   },
   {
    "duration": 38,
    "start_time": "2022-02-08T10:16:58.925Z"
   },
   {
    "duration": 8,
    "start_time": "2022-02-08T10:16:58.965Z"
   },
   {
    "duration": 21,
    "start_time": "2022-02-08T10:16:58.976Z"
   },
   {
    "duration": 9,
    "start_time": "2022-02-08T10:16:59.000Z"
   },
   {
    "duration": 6,
    "start_time": "2022-02-08T10:16:59.060Z"
   },
   {
    "duration": 10,
    "start_time": "2022-02-08T10:16:59.070Z"
   },
   {
    "duration": 9,
    "start_time": "2022-02-08T10:16:59.082Z"
   },
   {
    "duration": 10,
    "start_time": "2022-02-08T10:16:59.093Z"
   },
   {
    "duration": 70,
    "start_time": "2022-02-08T10:16:59.106Z"
   },
   {
    "duration": 5,
    "start_time": "2022-02-08T10:16:59.179Z"
   },
   {
    "duration": 10,
    "start_time": "2022-02-08T10:16:59.187Z"
   },
   {
    "duration": 64,
    "start_time": "2022-02-08T10:16:59.200Z"
   },
   {
    "duration": 10,
    "start_time": "2022-02-08T10:16:59.266Z"
   },
   {
    "duration": 6,
    "start_time": "2022-02-08T10:16:59.278Z"
   },
   {
    "duration": 8,
    "start_time": "2022-02-08T10:16:59.287Z"
   },
   {
    "duration": 10,
    "start_time": "2022-02-08T10:16:59.297Z"
   },
   {
    "duration": 5,
    "start_time": "2022-02-08T10:16:59.309Z"
   },
   {
    "duration": 70,
    "start_time": "2022-02-08T10:16:59.316Z"
   },
   {
    "duration": 94,
    "start_time": "2022-02-08T10:16:59.389Z"
   },
   {
    "duration": 108,
    "start_time": "2022-02-08T10:16:59.486Z"
   },
   {
    "duration": 58,
    "start_time": "2022-02-08T10:16:59.598Z"
   },
   {
    "duration": 25,
    "start_time": "2022-02-08T10:16:59.659Z"
   },
   {
    "duration": 34,
    "start_time": "2022-02-08T10:16:59.687Z"
   },
   {
    "duration": 100,
    "start_time": "2022-02-08T10:16:59.730Z"
   },
   {
    "duration": 80,
    "start_time": "2022-02-08T10:16:59.840Z"
   },
   {
    "duration": 19,
    "start_time": "2022-02-08T10:16:59.930Z"
   },
   {
    "duration": 7,
    "start_time": "2022-02-08T10:16:59.952Z"
   },
   {
    "duration": 16,
    "start_time": "2022-02-08T10:16:59.962Z"
   },
   {
    "duration": 51,
    "start_time": "2022-02-08T10:16:59.981Z"
   },
   {
    "duration": 51,
    "start_time": "2022-02-08T10:17:00.035Z"
   },
   {
    "duration": 29,
    "start_time": "2022-02-08T10:17:00.088Z"
   },
   {
    "duration": 57,
    "start_time": "2022-02-08T10:17:00.120Z"
   },
   {
    "duration": 13,
    "start_time": "2022-02-08T10:17:00.179Z"
   },
   {
    "duration": 32,
    "start_time": "2022-02-08T10:17:00.195Z"
   },
   {
    "duration": 31,
    "start_time": "2022-02-08T10:17:00.229Z"
   },
   {
    "duration": 941,
    "start_time": "2022-02-08T10:17:00.263Z"
   },
   {
    "duration": 24,
    "start_time": "2022-02-08T10:17:01.208Z"
   },
   {
    "duration": 39,
    "start_time": "2022-02-08T10:17:01.235Z"
   },
   {
    "duration": 901,
    "start_time": "2022-02-08T10:17:01.277Z"
   },
   {
    "duration": 9,
    "start_time": "2022-02-08T10:17:02.181Z"
   },
   {
    "duration": 83,
    "start_time": "2022-02-08T10:17:02.193Z"
   },
   {
    "duration": 9,
    "start_time": "2022-02-08T10:17:02.279Z"
   },
   {
    "duration": 615,
    "start_time": "2022-02-08T10:17:02.291Z"
   },
   {
    "duration": 474,
    "start_time": "2022-02-08T10:17:02.909Z"
   },
   {
    "duration": 9,
    "start_time": "2022-02-08T10:17:03.386Z"
   },
   {
    "duration": 265,
    "start_time": "2022-02-08T10:17:03.397Z"
   },
   {
    "duration": 635,
    "start_time": "2022-02-08T10:17:03.665Z"
   },
   {
    "duration": 69,
    "start_time": "2022-02-08T10:17:04.303Z"
   },
   {
    "duration": 21,
    "start_time": "2022-02-08T10:17:04.375Z"
   },
   {
    "duration": 639,
    "start_time": "2022-02-08T10:17:04.403Z"
   },
   {
    "duration": 19,
    "start_time": "2022-02-08T10:17:05.045Z"
   },
   {
    "duration": 287,
    "start_time": "2022-02-08T10:17:05.066Z"
   },
   {
    "duration": 75,
    "start_time": "2022-02-08T10:17:05.360Z"
   },
   {
    "duration": 35,
    "start_time": "2022-02-08T10:17:05.437Z"
   },
   {
    "duration": 723,
    "start_time": "2022-02-08T10:17:05.474Z"
   },
   {
    "duration": 11,
    "start_time": "2022-02-08T10:17:06.200Z"
   },
   {
    "duration": 97,
    "start_time": "2022-02-08T10:17:06.213Z"
   },
   {
    "duration": 751,
    "start_time": "2022-02-08T10:17:06.313Z"
   },
   {
    "duration": 10,
    "start_time": "2022-02-08T10:17:07.066Z"
   },
   {
    "duration": 269,
    "start_time": "2022-02-08T10:17:07.078Z"
   },
   {
    "duration": 72,
    "start_time": "2022-02-08T10:17:07.349Z"
   },
   {
    "duration": 1225,
    "start_time": "2022-02-08T17:02:16.172Z"
   },
   {
    "duration": 12,
    "start_time": "2022-02-08T17:02:17.399Z"
   },
   {
    "duration": 7,
    "start_time": "2022-02-08T17:02:17.418Z"
   },
   {
    "duration": 15,
    "start_time": "2022-02-08T17:02:17.427Z"
   },
   {
    "duration": 4,
    "start_time": "2022-02-08T17:02:17.444Z"
   },
   {
    "duration": 8,
    "start_time": "2022-02-08T17:02:17.449Z"
   },
   {
    "duration": 18,
    "start_time": "2022-02-08T17:02:17.458Z"
   },
   {
    "duration": 4,
    "start_time": "2022-02-08T17:02:17.478Z"
   },
   {
    "duration": 39,
    "start_time": "2022-02-08T17:02:17.484Z"
   },
   {
    "duration": 10,
    "start_time": "2022-02-08T17:02:17.525Z"
   },
   {
    "duration": 15,
    "start_time": "2022-02-08T17:02:17.536Z"
   },
   {
    "duration": 5,
    "start_time": "2022-02-08T17:02:17.553Z"
   },
   {
    "duration": 7,
    "start_time": "2022-02-08T17:02:17.560Z"
   },
   {
    "duration": 4,
    "start_time": "2022-02-08T17:02:17.569Z"
   },
   {
    "duration": 11,
    "start_time": "2022-02-08T17:02:17.575Z"
   },
   {
    "duration": 32,
    "start_time": "2022-02-08T17:02:17.588Z"
   },
   {
    "duration": 6,
    "start_time": "2022-02-08T17:02:17.622Z"
   },
   {
    "duration": 8,
    "start_time": "2022-02-08T17:02:17.630Z"
   },
   {
    "duration": 18,
    "start_time": "2022-02-08T17:02:17.640Z"
   },
   {
    "duration": 12,
    "start_time": "2022-02-08T17:02:17.659Z"
   },
   {
    "duration": 19,
    "start_time": "2022-02-08T17:02:17.672Z"
   },
   {
    "duration": 8,
    "start_time": "2022-02-08T17:02:17.693Z"
   },
   {
    "duration": 17,
    "start_time": "2022-02-08T17:02:17.705Z"
   },
   {
    "duration": 13,
    "start_time": "2022-02-08T17:02:17.725Z"
   },
   {
    "duration": 8,
    "start_time": "2022-02-08T17:02:17.740Z"
   },
   {
    "duration": 11,
    "start_time": "2022-02-08T17:02:17.750Z"
   },
   {
    "duration": 19,
    "start_time": "2022-02-08T17:02:17.763Z"
   },
   {
    "duration": 4,
    "start_time": "2022-02-08T17:02:17.784Z"
   },
   {
    "duration": 35,
    "start_time": "2022-02-08T17:02:17.790Z"
   },
   {
    "duration": 27,
    "start_time": "2022-02-08T17:02:17.827Z"
   },
   {
    "duration": 7,
    "start_time": "2022-02-08T17:02:17.855Z"
   },
   {
    "duration": 5,
    "start_time": "2022-02-08T17:02:17.864Z"
   },
   {
    "duration": 6,
    "start_time": "2022-02-08T17:02:17.871Z"
   },
   {
    "duration": 41,
    "start_time": "2022-02-08T17:02:17.878Z"
   },
   {
    "duration": 9,
    "start_time": "2022-02-08T17:02:17.921Z"
   },
   {
    "duration": 21,
    "start_time": "2022-02-08T17:02:17.932Z"
   },
   {
    "duration": 7,
    "start_time": "2022-02-08T17:02:17.955Z"
   },
   {
    "duration": 16,
    "start_time": "2022-02-08T17:02:17.964Z"
   },
   {
    "duration": 18,
    "start_time": "2022-02-08T17:02:17.982Z"
   },
   {
    "duration": 10,
    "start_time": "2022-02-08T17:02:18.002Z"
   },
   {
    "duration": 16,
    "start_time": "2022-02-08T17:02:18.013Z"
   },
   {
    "duration": 12,
    "start_time": "2022-02-08T17:02:18.031Z"
   },
   {
    "duration": 7,
    "start_time": "2022-02-08T17:02:18.045Z"
   },
   {
    "duration": 20,
    "start_time": "2022-02-08T17:02:18.054Z"
   },
   {
    "duration": 6,
    "start_time": "2022-02-08T17:02:18.076Z"
   },
   {
    "duration": 22,
    "start_time": "2022-02-08T17:02:18.084Z"
   },
   {
    "duration": 67,
    "start_time": "2022-02-08T17:02:18.108Z"
   },
   {
    "duration": 42,
    "start_time": "2022-02-08T17:02:18.177Z"
   },
   {
    "duration": 20,
    "start_time": "2022-02-08T17:02:18.221Z"
   },
   {
    "duration": 19,
    "start_time": "2022-02-08T17:02:18.244Z"
   },
   {
    "duration": 10,
    "start_time": "2022-02-08T17:02:18.265Z"
   },
   {
    "duration": 41,
    "start_time": "2022-02-08T17:02:18.277Z"
   },
   {
    "duration": 8,
    "start_time": "2022-02-08T17:02:18.320Z"
   },
   {
    "duration": 742,
    "start_time": "2022-02-08T17:02:18.330Z"
   },
   {
    "duration": 12,
    "start_time": "2022-02-08T17:02:19.074Z"
   },
   {
    "duration": 11,
    "start_time": "2022-02-08T17:02:19.088Z"
   },
   {
    "duration": 595,
    "start_time": "2022-02-08T17:02:19.100Z"
   },
   {
    "duration": 8,
    "start_time": "2022-02-08T17:02:19.696Z"
   },
   {
    "duration": 53,
    "start_time": "2022-02-08T17:02:19.705Z"
   },
   {
    "duration": 6,
    "start_time": "2022-02-08T17:02:19.760Z"
   },
   {
    "duration": 704,
    "start_time": "2022-02-08T17:02:19.767Z"
   },
   {
    "duration": 464,
    "start_time": "2022-02-08T17:02:20.473Z"
   },
   {
    "duration": 7,
    "start_time": "2022-02-08T17:02:20.939Z"
   },
   {
    "duration": 188,
    "start_time": "2022-02-08T17:02:20.948Z"
   },
   {
    "duration": 386,
    "start_time": "2022-02-08T17:02:21.137Z"
   },
   {
    "duration": 41,
    "start_time": "2022-02-08T17:02:21.525Z"
   },
   {
    "duration": 16,
    "start_time": "2022-02-08T17:02:21.568Z"
   },
   {
    "duration": 406,
    "start_time": "2022-02-08T17:02:21.590Z"
   },
   {
    "duration": 21,
    "start_time": "2022-02-08T17:02:21.998Z"
   },
   {
    "duration": 256,
    "start_time": "2022-02-08T17:02:22.021Z"
   },
   {
    "duration": 98,
    "start_time": "2022-02-08T17:02:22.279Z"
   },
   {
    "duration": 22,
    "start_time": "2022-02-08T17:02:22.379Z"
   },
   {
    "duration": 387,
    "start_time": "2022-02-08T17:02:22.403Z"
   },
   {
    "duration": 6,
    "start_time": "2022-02-08T17:02:22.792Z"
   },
   {
    "duration": 68,
    "start_time": "2022-02-08T17:02:22.800Z"
   },
   {
    "duration": 609,
    "start_time": "2022-02-08T17:02:22.870Z"
   },
   {
    "duration": 8,
    "start_time": "2022-02-08T17:02:23.481Z"
   },
   {
    "duration": 251,
    "start_time": "2022-02-08T17:02:23.491Z"
   },
   {
    "duration": 49,
    "start_time": "2022-02-08T17:02:23.744Z"
   },
   {
    "duration": 1298,
    "start_time": "2022-02-08T17:12:29.437Z"
   },
   {
    "duration": 10,
    "start_time": "2022-02-08T17:12:30.737Z"
   },
   {
    "duration": 130,
    "start_time": "2022-02-08T17:12:30.749Z"
   },
   {
    "duration": 47,
    "start_time": "2022-02-08T17:12:30.881Z"
   },
   {
    "duration": 21,
    "start_time": "2022-02-08T17:12:30.930Z"
   },
   {
    "duration": 19,
    "start_time": "2022-02-08T17:12:30.952Z"
   },
   {
    "duration": 24,
    "start_time": "2022-02-08T17:12:30.973Z"
   },
   {
    "duration": 7,
    "start_time": "2022-02-08T17:12:31.000Z"
   },
   {
    "duration": 21,
    "start_time": "2022-02-08T17:12:31.009Z"
   },
   {
    "duration": 30,
    "start_time": "2022-02-08T17:12:31.032Z"
   },
   {
    "duration": 45,
    "start_time": "2022-02-08T17:12:31.064Z"
   },
   {
    "duration": 17,
    "start_time": "2022-02-08T17:12:31.111Z"
   },
   {
    "duration": 35,
    "start_time": "2022-02-08T17:12:31.130Z"
   },
   {
    "duration": 21,
    "start_time": "2022-02-08T17:12:31.167Z"
   },
   {
    "duration": 19,
    "start_time": "2022-02-08T17:12:31.190Z"
   },
   {
    "duration": 23,
    "start_time": "2022-02-08T17:12:31.211Z"
   },
   {
    "duration": 13,
    "start_time": "2022-02-08T17:12:31.236Z"
   },
   {
    "duration": 13,
    "start_time": "2022-02-08T17:12:31.251Z"
   },
   {
    "duration": 13,
    "start_time": "2022-02-08T17:12:31.265Z"
   },
   {
    "duration": 29,
    "start_time": "2022-02-08T17:12:31.280Z"
   },
   {
    "duration": 36,
    "start_time": "2022-02-08T17:12:31.311Z"
   },
   {
    "duration": 9,
    "start_time": "2022-02-08T17:12:31.349Z"
   },
   {
    "duration": 4,
    "start_time": "2022-02-08T17:12:31.363Z"
   },
   {
    "duration": 11,
    "start_time": "2022-02-08T17:12:31.371Z"
   },
   {
    "duration": 9,
    "start_time": "2022-02-08T17:12:31.384Z"
   },
   {
    "duration": 24,
    "start_time": "2022-02-08T17:12:31.395Z"
   },
   {
    "duration": 22,
    "start_time": "2022-02-08T17:12:31.421Z"
   },
   {
    "duration": 4,
    "start_time": "2022-02-08T17:12:31.445Z"
   },
   {
    "duration": 18,
    "start_time": "2022-02-08T17:12:31.451Z"
   },
   {
    "duration": 25,
    "start_time": "2022-02-08T17:12:31.471Z"
   },
   {
    "duration": 27,
    "start_time": "2022-02-08T17:12:31.498Z"
   },
   {
    "duration": 19,
    "start_time": "2022-02-08T17:12:31.527Z"
   },
   {
    "duration": 11,
    "start_time": "2022-02-08T17:12:31.548Z"
   },
   {
    "duration": 16,
    "start_time": "2022-02-08T17:12:31.560Z"
   },
   {
    "duration": 9,
    "start_time": "2022-02-08T17:12:31.578Z"
   },
   {
    "duration": 14,
    "start_time": "2022-02-08T17:12:31.589Z"
   },
   {
    "duration": 12,
    "start_time": "2022-02-08T17:12:31.605Z"
   },
   {
    "duration": 11,
    "start_time": "2022-02-08T17:12:31.619Z"
   },
   {
    "duration": 18,
    "start_time": "2022-02-08T17:12:31.632Z"
   },
   {
    "duration": 21,
    "start_time": "2022-02-08T17:12:31.652Z"
   },
   {
    "duration": 19,
    "start_time": "2022-02-08T17:12:31.676Z"
   },
   {
    "duration": 20,
    "start_time": "2022-02-08T17:12:31.697Z"
   },
   {
    "duration": 10,
    "start_time": "2022-02-08T17:12:31.719Z"
   },
   {
    "duration": 6,
    "start_time": "2022-02-08T17:12:31.731Z"
   },
   {
    "duration": 11,
    "start_time": "2022-02-08T17:12:31.738Z"
   },
   {
    "duration": 17,
    "start_time": "2022-02-08T17:12:31.751Z"
   },
   {
    "duration": 48,
    "start_time": "2022-02-08T17:12:31.770Z"
   },
   {
    "duration": 27,
    "start_time": "2022-02-08T17:12:31.820Z"
   },
   {
    "duration": 20,
    "start_time": "2022-02-08T17:12:31.850Z"
   },
   {
    "duration": 19,
    "start_time": "2022-02-08T17:12:31.872Z"
   },
   {
    "duration": 10,
    "start_time": "2022-02-08T17:12:31.920Z"
   },
   {
    "duration": 15,
    "start_time": "2022-02-08T17:12:31.932Z"
   },
   {
    "duration": 11,
    "start_time": "2022-02-08T17:12:31.949Z"
   },
   {
    "duration": 688,
    "start_time": "2022-02-08T17:12:31.962Z"
   },
   {
    "duration": 14,
    "start_time": "2022-02-08T17:12:32.652Z"
   },
   {
    "duration": 10,
    "start_time": "2022-02-08T17:12:32.668Z"
   },
   {
    "duration": 551,
    "start_time": "2022-02-08T17:12:32.680Z"
   },
   {
    "duration": 8,
    "start_time": "2022-02-08T17:12:33.233Z"
   },
   {
    "duration": 45,
    "start_time": "2022-02-08T17:12:33.243Z"
   },
   {
    "duration": 33,
    "start_time": "2022-02-08T17:12:33.290Z"
   },
   {
    "duration": 381,
    "start_time": "2022-02-08T17:12:33.325Z"
   },
   {
    "duration": 311,
    "start_time": "2022-02-08T17:12:33.708Z"
   },
   {
    "duration": 7,
    "start_time": "2022-02-08T17:12:34.021Z"
   },
   {
    "duration": 157,
    "start_time": "2022-02-08T17:12:34.029Z"
   },
   {
    "duration": 418,
    "start_time": "2022-02-08T17:12:34.188Z"
   },
   {
    "duration": 50,
    "start_time": "2022-02-08T17:12:34.607Z"
   },
   {
    "duration": 14,
    "start_time": "2022-02-08T17:12:34.659Z"
   },
   {
    "duration": 390,
    "start_time": "2022-02-08T17:12:34.678Z"
   },
   {
    "duration": 9,
    "start_time": "2022-02-08T17:12:35.070Z"
   },
   {
    "duration": 189,
    "start_time": "2022-02-08T17:12:35.081Z"
   },
   {
    "duration": 66,
    "start_time": "2022-02-08T17:12:35.272Z"
   },
   {
    "duration": 21,
    "start_time": "2022-02-08T17:12:35.340Z"
   },
   {
    "duration": 391,
    "start_time": "2022-02-08T17:12:35.363Z"
   },
   {
    "duration": 7,
    "start_time": "2022-02-08T17:12:35.756Z"
   },
   {
    "duration": 75,
    "start_time": "2022-02-08T17:12:35.765Z"
   },
   {
    "duration": 410,
    "start_time": "2022-02-08T17:12:35.842Z"
   },
   {
    "duration": 8,
    "start_time": "2022-02-08T17:12:36.254Z"
   },
   {
    "duration": 176,
    "start_time": "2022-02-08T17:12:36.264Z"
   },
   {
    "duration": 49,
    "start_time": "2022-02-08T17:12:36.441Z"
   },
   {
    "duration": 1259,
    "start_time": "2022-02-08T17:32:03.915Z"
   },
   {
    "duration": 10,
    "start_time": "2022-02-08T17:32:05.176Z"
   },
   {
    "duration": 8,
    "start_time": "2022-02-08T17:32:05.188Z"
   },
   {
    "duration": 11,
    "start_time": "2022-02-08T17:32:05.198Z"
   },
   {
    "duration": 4,
    "start_time": "2022-02-08T17:32:05.219Z"
   },
   {
    "duration": 10,
    "start_time": "2022-02-08T17:32:05.224Z"
   },
   {
    "duration": 21,
    "start_time": "2022-02-08T17:32:05.236Z"
   },
   {
    "duration": 6,
    "start_time": "2022-02-08T17:32:05.260Z"
   },
   {
    "duration": 4,
    "start_time": "2022-02-08T17:32:05.269Z"
   },
   {
    "duration": 10,
    "start_time": "2022-02-08T17:32:05.274Z"
   },
   {
    "duration": 37,
    "start_time": "2022-02-08T17:32:05.286Z"
   },
   {
    "duration": 4,
    "start_time": "2022-02-08T17:32:05.325Z"
   },
   {
    "duration": 8,
    "start_time": "2022-02-08T17:32:05.331Z"
   },
   {
    "duration": 5,
    "start_time": "2022-02-08T17:32:05.341Z"
   },
   {
    "duration": 16,
    "start_time": "2022-02-08T17:32:05.348Z"
   },
   {
    "duration": 11,
    "start_time": "2022-02-08T17:32:05.366Z"
   },
   {
    "duration": 6,
    "start_time": "2022-02-08T17:32:05.379Z"
   },
   {
    "duration": 34,
    "start_time": "2022-02-08T17:32:05.387Z"
   },
   {
    "duration": 8,
    "start_time": "2022-02-08T17:32:05.423Z"
   },
   {
    "duration": 10,
    "start_time": "2022-02-08T17:32:05.433Z"
   },
   {
    "duration": 20,
    "start_time": "2022-02-08T17:32:05.444Z"
   },
   {
    "duration": 8,
    "start_time": "2022-02-08T17:32:05.466Z"
   },
   {
    "duration": 4,
    "start_time": "2022-02-08T17:32:05.479Z"
   },
   {
    "duration": 7,
    "start_time": "2022-02-08T17:32:05.485Z"
   },
   {
    "duration": 31,
    "start_time": "2022-02-08T17:32:05.494Z"
   },
   {
    "duration": 12,
    "start_time": "2022-02-08T17:32:05.527Z"
   },
   {
    "duration": 28,
    "start_time": "2022-02-08T17:32:05.540Z"
   },
   {
    "duration": 9,
    "start_time": "2022-02-08T17:32:05.570Z"
   },
   {
    "duration": 12,
    "start_time": "2022-02-08T17:32:05.580Z"
   },
   {
    "duration": 30,
    "start_time": "2022-02-08T17:32:05.594Z"
   },
   {
    "duration": 7,
    "start_time": "2022-02-08T17:32:05.626Z"
   },
   {
    "duration": 12,
    "start_time": "2022-02-08T17:32:05.634Z"
   },
   {
    "duration": 9,
    "start_time": "2022-02-08T17:32:05.647Z"
   },
   {
    "duration": 11,
    "start_time": "2022-02-08T17:32:05.657Z"
   },
   {
    "duration": 9,
    "start_time": "2022-02-08T17:32:05.670Z"
   },
   {
    "duration": 21,
    "start_time": "2022-02-08T17:32:05.680Z"
   },
   {
    "duration": 8,
    "start_time": "2022-02-08T17:32:05.703Z"
   },
   {
    "duration": 15,
    "start_time": "2022-02-08T17:32:05.712Z"
   },
   {
    "duration": 14,
    "start_time": "2022-02-08T17:32:05.729Z"
   },
   {
    "duration": 4,
    "start_time": "2022-02-08T17:32:05.745Z"
   },
   {
    "duration": 11,
    "start_time": "2022-02-08T17:32:05.751Z"
   },
   {
    "duration": 10,
    "start_time": "2022-02-08T17:32:05.763Z"
   },
   {
    "duration": 6,
    "start_time": "2022-02-08T17:32:05.775Z"
   },
   {
    "duration": 7,
    "start_time": "2022-02-08T17:32:05.783Z"
   },
   {
    "duration": 12,
    "start_time": "2022-02-08T17:32:05.792Z"
   },
   {
    "duration": 20,
    "start_time": "2022-02-08T17:32:05.805Z"
   },
   {
    "duration": 40,
    "start_time": "2022-02-08T17:32:05.826Z"
   },
   {
    "duration": 24,
    "start_time": "2022-02-08T17:32:05.868Z"
   },
   {
    "duration": 40,
    "start_time": "2022-02-08T17:32:05.894Z"
   },
   {
    "duration": 19,
    "start_time": "2022-02-08T17:32:05.935Z"
   },
   {
    "duration": 9,
    "start_time": "2022-02-08T17:32:05.955Z"
   },
   {
    "duration": 40,
    "start_time": "2022-02-08T17:32:05.966Z"
   },
   {
    "duration": 10,
    "start_time": "2022-02-08T17:32:06.008Z"
   },
   {
    "duration": 690,
    "start_time": "2022-02-08T17:32:06.020Z"
   },
   {
    "duration": 15,
    "start_time": "2022-02-08T17:32:06.713Z"
   },
   {
    "duration": 10,
    "start_time": "2022-02-08T17:32:06.729Z"
   },
   {
    "duration": 539,
    "start_time": "2022-02-08T17:32:06.740Z"
   },
   {
    "duration": 7,
    "start_time": "2022-02-08T17:32:07.281Z"
   },
   {
    "duration": 59,
    "start_time": "2022-02-08T17:32:07.290Z"
   },
   {
    "duration": 7,
    "start_time": "2022-02-08T17:32:07.351Z"
   },
   {
    "duration": 307,
    "start_time": "2022-02-08T17:32:07.360Z"
   },
   {
    "duration": 7,
    "start_time": "2022-02-08T17:32:07.669Z"
   },
   {
    "duration": 165,
    "start_time": "2022-02-08T17:32:07.677Z"
   },
   {
    "duration": 386,
    "start_time": "2022-02-08T17:32:07.844Z"
   },
   {
    "duration": 43,
    "start_time": "2022-02-08T17:32:08.232Z"
   },
   {
    "duration": 14,
    "start_time": "2022-02-08T17:32:08.276Z"
   },
   {
    "duration": 407,
    "start_time": "2022-02-08T17:32:08.292Z"
   },
   {
    "duration": 18,
    "start_time": "2022-02-08T17:32:08.703Z"
   },
   {
    "duration": 183,
    "start_time": "2022-02-08T17:32:08.723Z"
   },
   {
    "duration": 62,
    "start_time": "2022-02-08T17:32:08.908Z"
   },
   {
    "duration": 17,
    "start_time": "2022-02-08T17:32:08.971Z"
   },
   {
    "duration": 394,
    "start_time": "2022-02-08T17:32:08.990Z"
   },
   {
    "duration": 7,
    "start_time": "2022-02-08T17:32:09.386Z"
   },
   {
    "duration": 71,
    "start_time": "2022-02-08T17:32:09.395Z"
   },
   {
    "duration": 394,
    "start_time": "2022-02-08T17:32:09.468Z"
   },
   {
    "duration": 7,
    "start_time": "2022-02-08T17:32:09.864Z"
   },
   {
    "duration": 166,
    "start_time": "2022-02-08T17:32:09.873Z"
   },
   {
    "duration": 56,
    "start_time": "2022-02-08T17:32:10.041Z"
   },
   {
    "duration": 156,
    "start_time": "2022-02-08T17:43:48.696Z"
   },
   {
    "duration": 18,
    "start_time": "2022-02-08T17:49:40.146Z"
   },
   {
    "duration": 6679,
    "start_time": "2022-02-08T17:51:29.555Z"
   },
   {
    "duration": 6489,
    "start_time": "2022-02-08T17:51:50.339Z"
   },
   {
    "duration": 1271,
    "start_time": "2022-02-08T17:53:48.762Z"
   },
   {
    "duration": 12,
    "start_time": "2022-02-08T17:53:50.035Z"
   },
   {
    "duration": 44,
    "start_time": "2022-02-08T17:53:50.050Z"
   },
   {
    "duration": 34,
    "start_time": "2022-02-08T17:53:50.097Z"
   },
   {
    "duration": 22,
    "start_time": "2022-02-08T17:53:50.133Z"
   },
   {
    "duration": 23,
    "start_time": "2022-02-08T17:53:50.157Z"
   },
   {
    "duration": 20,
    "start_time": "2022-02-08T17:53:50.182Z"
   },
   {
    "duration": 5,
    "start_time": "2022-02-08T17:53:50.205Z"
   },
   {
    "duration": 10,
    "start_time": "2022-02-08T17:53:50.213Z"
   },
   {
    "duration": 15,
    "start_time": "2022-02-08T17:53:50.225Z"
   },
   {
    "duration": 14,
    "start_time": "2022-02-08T17:53:50.242Z"
   },
   {
    "duration": 6,
    "start_time": "2022-02-08T17:53:50.259Z"
   },
   {
    "duration": 9,
    "start_time": "2022-02-08T17:53:50.267Z"
   },
   {
    "duration": 14,
    "start_time": "2022-02-08T17:53:50.278Z"
   },
   {
    "duration": 15,
    "start_time": "2022-02-08T17:53:50.294Z"
   },
   {
    "duration": 9,
    "start_time": "2022-02-08T17:53:50.311Z"
   },
   {
    "duration": 11,
    "start_time": "2022-02-08T17:53:50.322Z"
   },
   {
    "duration": 12,
    "start_time": "2022-02-08T17:53:50.335Z"
   },
   {
    "duration": 12,
    "start_time": "2022-02-08T17:53:50.349Z"
   },
   {
    "duration": 14,
    "start_time": "2022-02-08T17:53:50.362Z"
   },
   {
    "duration": 21,
    "start_time": "2022-02-08T17:53:50.377Z"
   },
   {
    "duration": 19,
    "start_time": "2022-02-08T17:53:50.400Z"
   },
   {
    "duration": 5,
    "start_time": "2022-02-08T17:53:50.423Z"
   },
   {
    "duration": 16,
    "start_time": "2022-02-08T17:53:50.430Z"
   },
   {
    "duration": 9,
    "start_time": "2022-02-08T17:53:50.448Z"
   },
   {
    "duration": 15,
    "start_time": "2022-02-08T17:53:50.459Z"
   },
   {
    "duration": 48,
    "start_time": "2022-02-08T17:53:50.476Z"
   },
   {
    "duration": 4,
    "start_time": "2022-02-08T17:53:50.526Z"
   },
   {
    "duration": 10,
    "start_time": "2022-02-08T17:53:50.533Z"
   },
   {
    "duration": 36,
    "start_time": "2022-02-08T17:53:50.545Z"
   },
   {
    "duration": 35,
    "start_time": "2022-02-08T17:53:50.583Z"
   },
   {
    "duration": 7,
    "start_time": "2022-02-08T17:53:50.621Z"
   },
   {
    "duration": 7,
    "start_time": "2022-02-08T17:53:50.630Z"
   },
   {
    "duration": 22,
    "start_time": "2022-02-08T17:53:50.639Z"
   },
   {
    "duration": 14,
    "start_time": "2022-02-08T17:53:50.663Z"
   },
   {
    "duration": 15,
    "start_time": "2022-02-08T17:53:50.679Z"
   },
   {
    "duration": 10,
    "start_time": "2022-02-08T17:53:50.696Z"
   },
   {
    "duration": 19,
    "start_time": "2022-02-08T17:53:50.708Z"
   },
   {
    "duration": 14,
    "start_time": "2022-02-08T17:53:50.729Z"
   },
   {
    "duration": 8,
    "start_time": "2022-02-08T17:53:50.745Z"
   },
   {
    "duration": 14,
    "start_time": "2022-02-08T17:53:50.755Z"
   },
   {
    "duration": 8,
    "start_time": "2022-02-08T17:53:50.771Z"
   },
   {
    "duration": 6,
    "start_time": "2022-02-08T17:53:50.780Z"
   },
   {
    "duration": 10,
    "start_time": "2022-02-08T17:53:50.789Z"
   },
   {
    "duration": 19,
    "start_time": "2022-02-08T17:53:50.802Z"
   },
   {
    "duration": 16,
    "start_time": "2022-02-08T17:53:50.823Z"
   },
   {
    "duration": 41,
    "start_time": "2022-02-08T17:53:50.841Z"
   },
   {
    "duration": 38,
    "start_time": "2022-02-08T17:53:50.884Z"
   },
   {
    "duration": 18,
    "start_time": "2022-02-08T17:53:50.924Z"
   },
   {
    "duration": 21,
    "start_time": "2022-02-08T17:53:50.944Z"
   },
   {
    "duration": 14,
    "start_time": "2022-02-08T17:53:50.968Z"
   },
   {
    "duration": 37,
    "start_time": "2022-02-08T17:53:50.984Z"
   },
   {
    "duration": 23,
    "start_time": "2022-02-08T17:53:51.023Z"
   },
   {
    "duration": 721,
    "start_time": "2022-02-08T17:53:51.048Z"
   },
   {
    "duration": 16,
    "start_time": "2022-02-08T17:53:51.771Z"
   },
   {
    "duration": 32,
    "start_time": "2022-02-08T17:53:51.789Z"
   },
   {
    "duration": 540,
    "start_time": "2022-02-08T17:53:51.823Z"
   },
   {
    "duration": 7,
    "start_time": "2022-02-08T17:53:52.365Z"
   },
   {
    "duration": 62,
    "start_time": "2022-02-08T17:53:52.374Z"
   },
   {
    "duration": 7,
    "start_time": "2022-02-08T17:53:52.438Z"
   },
   {
    "duration": 304,
    "start_time": "2022-02-08T17:53:52.447Z"
   },
   {
    "duration": 8,
    "start_time": "2022-02-08T17:53:52.753Z"
   },
   {
    "duration": 222,
    "start_time": "2022-02-08T17:53:52.762Z"
   },
   {
    "duration": 684,
    "start_time": "2022-02-08T17:53:52.986Z"
   },
   {
    "duration": 68,
    "start_time": "2022-02-08T17:53:53.674Z"
   },
   {
    "duration": 21,
    "start_time": "2022-02-08T17:53:53.745Z"
   },
   {
    "duration": 697,
    "start_time": "2022-02-08T17:53:53.773Z"
   },
   {
    "duration": 16,
    "start_time": "2022-02-08T17:53:54.480Z"
   },
   {
    "duration": 295,
    "start_time": "2022-02-08T17:53:54.498Z"
   },
   {
    "duration": 106,
    "start_time": "2022-02-08T17:53:54.796Z"
   },
   {
    "duration": 34,
    "start_time": "2022-02-08T17:53:54.904Z"
   },
   {
    "duration": 753,
    "start_time": "2022-02-08T17:53:54.940Z"
   },
   {
    "duration": 29,
    "start_time": "2022-02-08T17:53:55.696Z"
   },
   {
    "duration": 300,
    "start_time": "2022-02-08T17:53:55.727Z"
   },
   {
    "duration": 93,
    "start_time": "2022-02-08T17:53:56.031Z"
   },
   {
    "duration": 117,
    "start_time": "2022-02-08T17:54:01.222Z"
   },
   {
    "duration": 19,
    "start_time": "2022-02-08T17:54:01.341Z"
   },
   {
    "duration": 13,
    "start_time": "2022-02-08T17:54:01.362Z"
   },
   {
    "duration": 48,
    "start_time": "2022-02-08T17:54:01.377Z"
   },
   {
    "duration": 5,
    "start_time": "2022-02-08T17:54:01.428Z"
   },
   {
    "duration": 17,
    "start_time": "2022-02-08T17:54:01.435Z"
   },
   {
    "duration": 38,
    "start_time": "2022-02-08T17:54:01.457Z"
   },
   {
    "duration": 7,
    "start_time": "2022-02-08T17:54:01.500Z"
   },
   {
    "duration": 31,
    "start_time": "2022-02-08T17:54:01.509Z"
   },
   {
    "duration": 22,
    "start_time": "2022-02-08T17:54:01.542Z"
   },
   {
    "duration": 45,
    "start_time": "2022-02-08T17:54:01.566Z"
   },
   {
    "duration": 12,
    "start_time": "2022-02-08T17:54:01.614Z"
   },
   {
    "duration": 27,
    "start_time": "2022-02-08T17:54:01.629Z"
   },
   {
    "duration": 14,
    "start_time": "2022-02-08T17:54:01.658Z"
   },
   {
    "duration": 10,
    "start_time": "2022-02-08T17:54:01.674Z"
   },
   {
    "duration": 23,
    "start_time": "2022-02-08T17:54:01.686Z"
   },
   {
    "duration": 22,
    "start_time": "2022-02-08T17:54:01.712Z"
   },
   {
    "duration": 23,
    "start_time": "2022-02-08T17:54:01.735Z"
   },
   {
    "duration": 9,
    "start_time": "2022-02-08T17:54:01.761Z"
   },
   {
    "duration": 15,
    "start_time": "2022-02-08T17:54:01.772Z"
   },
   {
    "duration": 46,
    "start_time": "2022-02-08T17:54:01.789Z"
   },
   {
    "duration": 11,
    "start_time": "2022-02-08T17:54:01.838Z"
   },
   {
    "duration": 11,
    "start_time": "2022-02-08T17:54:01.854Z"
   },
   {
    "duration": 15,
    "start_time": "2022-02-08T17:54:01.868Z"
   },
   {
    "duration": 14,
    "start_time": "2022-02-08T17:54:01.885Z"
   },
   {
    "duration": 33,
    "start_time": "2022-02-08T17:54:01.901Z"
   },
   {
    "duration": 27,
    "start_time": "2022-02-08T17:54:01.936Z"
   },
   {
    "duration": 5,
    "start_time": "2022-02-08T17:54:01.965Z"
   },
   {
    "duration": 18,
    "start_time": "2022-02-08T17:54:01.972Z"
   },
   {
    "duration": 45,
    "start_time": "2022-02-08T17:54:01.992Z"
   },
   {
    "duration": 9,
    "start_time": "2022-02-08T17:54:02.039Z"
   },
   {
    "duration": 11,
    "start_time": "2022-02-08T17:54:02.050Z"
   },
   {
    "duration": 17,
    "start_time": "2022-02-08T17:54:02.063Z"
   },
   {
    "duration": 18,
    "start_time": "2022-02-08T17:54:02.083Z"
   },
   {
    "duration": 11,
    "start_time": "2022-02-08T17:54:02.103Z"
   },
   {
    "duration": 13,
    "start_time": "2022-02-08T17:54:02.116Z"
   },
   {
    "duration": 13,
    "start_time": "2022-02-08T17:54:02.132Z"
   },
   {
    "duration": 30,
    "start_time": "2022-02-08T17:54:02.147Z"
   },
   {
    "duration": 28,
    "start_time": "2022-02-08T17:54:02.179Z"
   },
   {
    "duration": 5,
    "start_time": "2022-02-08T17:54:02.210Z"
   },
   {
    "duration": 19,
    "start_time": "2022-02-08T17:54:02.217Z"
   },
   {
    "duration": 12,
    "start_time": "2022-02-08T17:54:02.238Z"
   },
   {
    "duration": 10,
    "start_time": "2022-02-08T17:54:02.252Z"
   },
   {
    "duration": 9,
    "start_time": "2022-02-08T17:54:02.264Z"
   },
   {
    "duration": 12,
    "start_time": "2022-02-08T17:54:02.275Z"
   },
   {
    "duration": 32,
    "start_time": "2022-02-08T17:54:02.289Z"
   },
   {
    "duration": 54,
    "start_time": "2022-02-08T17:54:02.323Z"
   },
   {
    "duration": 26,
    "start_time": "2022-02-08T17:54:02.380Z"
   },
   {
    "duration": 36,
    "start_time": "2022-02-08T17:54:02.408Z"
   },
   {
    "duration": 59,
    "start_time": "2022-02-08T17:54:02.447Z"
   },
   {
    "duration": 11,
    "start_time": "2022-02-08T17:54:02.509Z"
   },
   {
    "duration": 48,
    "start_time": "2022-02-08T17:54:02.522Z"
   },
   {
    "duration": 8,
    "start_time": "2022-02-08T17:54:02.572Z"
   },
   {
    "duration": 746,
    "start_time": "2022-02-08T17:54:02.583Z"
   },
   {
    "duration": 12,
    "start_time": "2022-02-08T17:54:03.332Z"
   },
   {
    "duration": 14,
    "start_time": "2022-02-08T17:54:03.346Z"
   },
   {
    "duration": 579,
    "start_time": "2022-02-08T17:54:03.362Z"
   },
   {
    "duration": 9,
    "start_time": "2022-02-08T17:54:03.943Z"
   },
   {
    "duration": 66,
    "start_time": "2022-02-08T17:54:03.954Z"
   },
   {
    "duration": 8,
    "start_time": "2022-02-08T17:54:04.022Z"
   },
   {
    "duration": 308,
    "start_time": "2022-02-08T17:54:04.032Z"
   },
   {
    "duration": 8,
    "start_time": "2022-02-08T17:54:04.342Z"
   },
   {
    "duration": 260,
    "start_time": "2022-02-08T17:54:04.353Z"
   },
   {
    "duration": 548,
    "start_time": "2022-02-08T17:54:04.619Z"
   },
   {
    "duration": 57,
    "start_time": "2022-02-08T17:54:05.169Z"
   },
   {
    "duration": 15,
    "start_time": "2022-02-08T17:54:05.228Z"
   },
   {
    "duration": 657,
    "start_time": "2022-02-08T17:54:05.246Z"
   },
   {
    "duration": 19,
    "start_time": "2022-02-08T17:54:05.911Z"
   },
   {
    "duration": 286,
    "start_time": "2022-02-08T17:54:05.932Z"
   },
   {
    "duration": 65,
    "start_time": "2022-02-08T17:54:06.220Z"
   },
   {
    "duration": 44,
    "start_time": "2022-02-08T17:54:06.288Z"
   },
   {
    "duration": 699,
    "start_time": "2022-02-08T17:54:06.335Z"
   },
   {
    "duration": 10,
    "start_time": "2022-02-08T17:54:07.037Z"
   },
   {
    "duration": 313,
    "start_time": "2022-02-08T17:54:07.049Z"
   },
   {
    "duration": 72,
    "start_time": "2022-02-08T17:54:07.365Z"
   },
   {
    "duration": 406,
    "start_time": "2022-02-08T17:54:07.439Z"
   },
   {
    "duration": 8,
    "start_time": "2022-02-08T17:54:07.847Z"
   },
   {
    "duration": 299,
    "start_time": "2022-02-08T17:54:07.857Z"
   },
   {
    "duration": 61,
    "start_time": "2022-02-08T17:54:08.158Z"
   },
   {
    "duration": 354,
    "start_time": "2022-02-08T18:11:05.054Z"
   },
   {
    "duration": 280,
    "start_time": "2022-02-08T18:12:21.458Z"
   },
   {
    "duration": 20,
    "start_time": "2022-02-08T18:13:20.190Z"
   },
   {
    "duration": 259,
    "start_time": "2022-02-08T18:15:32.248Z"
   },
   {
    "duration": 17,
    "start_time": "2022-02-08T18:15:45.404Z"
   },
   {
    "duration": 18,
    "start_time": "2022-02-08T18:18:29.373Z"
   },
   {
    "duration": 292,
    "start_time": "2022-02-08T18:19:48.786Z"
   },
   {
    "duration": 17,
    "start_time": "2022-02-08T18:20:00.890Z"
   },
   {
    "duration": 1288,
    "start_time": "2022-02-08T18:54:22.558Z"
   },
   {
    "duration": 11,
    "start_time": "2022-02-08T18:54:23.848Z"
   },
   {
    "duration": 10,
    "start_time": "2022-02-08T18:54:23.861Z"
   },
   {
    "duration": 7,
    "start_time": "2022-02-08T18:54:23.873Z"
   },
   {
    "duration": 11,
    "start_time": "2022-02-08T18:54:23.882Z"
   },
   {
    "duration": 24,
    "start_time": "2022-02-08T18:54:23.894Z"
   },
   {
    "duration": 17,
    "start_time": "2022-02-08T18:54:23.920Z"
   },
   {
    "duration": 5,
    "start_time": "2022-02-08T18:54:23.941Z"
   },
   {
    "duration": 4,
    "start_time": "2022-02-08T18:54:23.949Z"
   },
   {
    "duration": 8,
    "start_time": "2022-02-08T18:54:23.955Z"
   },
   {
    "duration": 12,
    "start_time": "2022-02-08T18:54:23.964Z"
   },
   {
    "duration": 45,
    "start_time": "2022-02-08T18:54:23.978Z"
   },
   {
    "duration": 12,
    "start_time": "2022-02-08T18:54:24.025Z"
   },
   {
    "duration": 8,
    "start_time": "2022-02-08T18:54:24.039Z"
   },
   {
    "duration": 12,
    "start_time": "2022-02-08T18:54:24.049Z"
   },
   {
    "duration": 9,
    "start_time": "2022-02-08T18:54:24.063Z"
   },
   {
    "duration": 8,
    "start_time": "2022-02-08T18:54:24.074Z"
   },
   {
    "duration": 7,
    "start_time": "2022-02-08T18:54:24.084Z"
   },
   {
    "duration": 6,
    "start_time": "2022-02-08T18:54:24.092Z"
   },
   {
    "duration": 6,
    "start_time": "2022-02-08T18:54:24.118Z"
   },
   {
    "duration": 16,
    "start_time": "2022-02-08T18:54:24.126Z"
   },
   {
    "duration": 7,
    "start_time": "2022-02-08T18:54:24.144Z"
   },
   {
    "duration": 5,
    "start_time": "2022-02-08T18:54:24.155Z"
   },
   {
    "duration": 8,
    "start_time": "2022-02-08T18:54:24.163Z"
   },
   {
    "duration": 48,
    "start_time": "2022-02-08T18:54:24.173Z"
   },
   {
    "duration": 10,
    "start_time": "2022-02-08T18:54:24.223Z"
   },
   {
    "duration": 20,
    "start_time": "2022-02-08T18:54:24.235Z"
   },
   {
    "duration": 4,
    "start_time": "2022-02-08T18:54:24.257Z"
   },
   {
    "duration": 10,
    "start_time": "2022-02-08T18:54:24.263Z"
   },
   {
    "duration": 53,
    "start_time": "2022-02-08T18:54:24.275Z"
   },
   {
    "duration": 7,
    "start_time": "2022-02-08T18:54:24.330Z"
   },
   {
    "duration": 16,
    "start_time": "2022-02-08T18:54:24.338Z"
   },
   {
    "duration": 5,
    "start_time": "2022-02-08T18:54:24.356Z"
   },
   {
    "duration": 10,
    "start_time": "2022-02-08T18:54:24.362Z"
   },
   {
    "duration": 6,
    "start_time": "2022-02-08T18:54:24.373Z"
   },
   {
    "duration": 10,
    "start_time": "2022-02-08T18:54:24.380Z"
   },
   {
    "duration": 7,
    "start_time": "2022-02-08T18:54:24.392Z"
   },
   {
    "duration": 8,
    "start_time": "2022-02-08T18:54:24.420Z"
   },
   {
    "duration": 11,
    "start_time": "2022-02-08T18:54:24.430Z"
   },
   {
    "duration": 6,
    "start_time": "2022-02-08T18:54:24.442Z"
   },
   {
    "duration": 12,
    "start_time": "2022-02-08T18:54:24.449Z"
   },
   {
    "duration": 15,
    "start_time": "2022-02-08T18:54:24.463Z"
   },
   {
    "duration": 8,
    "start_time": "2022-02-08T18:54:24.480Z"
   },
   {
    "duration": 29,
    "start_time": "2022-02-08T18:54:24.490Z"
   },
   {
    "duration": 11,
    "start_time": "2022-02-08T18:54:24.520Z"
   },
   {
    "duration": 18,
    "start_time": "2022-02-08T18:54:24.533Z"
   },
   {
    "duration": 44,
    "start_time": "2022-02-08T18:54:24.552Z"
   },
   {
    "duration": 44,
    "start_time": "2022-02-08T18:54:24.598Z"
   },
   {
    "duration": 20,
    "start_time": "2022-02-08T18:54:24.643Z"
   },
   {
    "duration": 19,
    "start_time": "2022-02-08T18:54:24.665Z"
   },
   {
    "duration": 9,
    "start_time": "2022-02-08T18:54:24.686Z"
   },
   {
    "duration": 28,
    "start_time": "2022-02-08T18:54:24.697Z"
   },
   {
    "duration": 6,
    "start_time": "2022-02-08T18:54:24.727Z"
   },
   {
    "duration": 942,
    "start_time": "2022-02-08T18:54:24.735Z"
   },
   {
    "duration": 12,
    "start_time": "2022-02-08T18:54:25.680Z"
   },
   {
    "duration": 9,
    "start_time": "2022-02-08T18:54:25.694Z"
   },
   {
    "duration": 579,
    "start_time": "2022-02-08T18:54:25.704Z"
   },
   {
    "duration": 8,
    "start_time": "2022-02-08T18:54:26.285Z"
   },
   {
    "duration": 64,
    "start_time": "2022-02-08T18:54:26.295Z"
   },
   {
    "duration": 7,
    "start_time": "2022-02-08T18:54:26.361Z"
   },
   {
    "duration": 320,
    "start_time": "2022-02-08T18:54:26.370Z"
   },
   {
    "duration": 7,
    "start_time": "2022-02-08T18:54:26.692Z"
   },
   {
    "duration": 165,
    "start_time": "2022-02-08T18:54:26.701Z"
   },
   {
    "duration": 389,
    "start_time": "2022-02-08T18:54:26.868Z"
   },
   {
    "duration": 42,
    "start_time": "2022-02-08T18:54:27.259Z"
   },
   {
    "duration": 25,
    "start_time": "2022-02-08T18:54:27.303Z"
   },
   {
    "duration": 389,
    "start_time": "2022-02-08T18:54:27.330Z"
   },
   {
    "duration": 8,
    "start_time": "2022-02-08T18:54:27.724Z"
   },
   {
    "duration": 183,
    "start_time": "2022-02-08T18:54:27.735Z"
   },
   {
    "duration": 65,
    "start_time": "2022-02-08T18:54:27.920Z"
   },
   {
    "duration": 37,
    "start_time": "2022-02-08T18:54:27.987Z"
   },
   {
    "duration": 392,
    "start_time": "2022-02-08T18:54:28.026Z"
   },
   {
    "duration": 8,
    "start_time": "2022-02-08T18:54:28.420Z"
   },
   {
    "duration": 169,
    "start_time": "2022-02-08T18:54:28.430Z"
   },
   {
    "duration": 63,
    "start_time": "2022-02-08T18:54:28.601Z"
   },
   {
    "duration": 15,
    "start_time": "2022-02-08T18:54:28.666Z"
   },
   {
    "duration": 405,
    "start_time": "2022-02-08T18:54:28.682Z"
   },
   {
    "duration": 7,
    "start_time": "2022-02-08T18:54:29.088Z"
   },
   {
    "duration": 162,
    "start_time": "2022-02-08T18:54:29.097Z"
   },
   {
    "duration": 67,
    "start_time": "2022-02-08T18:54:29.261Z"
   },
   {
    "duration": 17,
    "start_time": "2022-02-08T18:54:29.330Z"
   },
   {
    "duration": 1448,
    "start_time": "2022-02-13T15:34:08.696Z"
   },
   {
    "duration": 11,
    "start_time": "2022-02-13T15:34:10.146Z"
   },
   {
    "duration": 18,
    "start_time": "2022-02-13T15:34:10.159Z"
   },
   {
    "duration": 8,
    "start_time": "2022-02-13T15:34:10.180Z"
   },
   {
    "duration": 30,
    "start_time": "2022-02-13T15:34:10.190Z"
   },
   {
    "duration": 7,
    "start_time": "2022-02-13T15:34:10.223Z"
   },
   {
    "duration": 19,
    "start_time": "2022-02-13T15:34:10.232Z"
   },
   {
    "duration": 5,
    "start_time": "2022-02-13T15:34:10.253Z"
   },
   {
    "duration": 3,
    "start_time": "2022-02-13T15:34:10.262Z"
   },
   {
    "duration": 9,
    "start_time": "2022-02-13T15:34:10.268Z"
   },
   {
    "duration": 42,
    "start_time": "2022-02-13T15:34:10.279Z"
   },
   {
    "duration": 5,
    "start_time": "2022-02-13T15:34:10.323Z"
   },
   {
    "duration": 13,
    "start_time": "2022-02-13T15:34:10.330Z"
   },
   {
    "duration": 4,
    "start_time": "2022-02-13T15:34:10.345Z"
   },
   {
    "duration": 11,
    "start_time": "2022-02-13T15:34:10.351Z"
   },
   {
    "duration": 7,
    "start_time": "2022-02-13T15:34:10.364Z"
   },
   {
    "duration": 11,
    "start_time": "2022-02-13T15:34:10.373Z"
   },
   {
    "duration": 34,
    "start_time": "2022-02-13T15:34:10.385Z"
   },
   {
    "duration": 16,
    "start_time": "2022-02-13T15:34:10.421Z"
   },
   {
    "duration": 11,
    "start_time": "2022-02-13T15:34:10.439Z"
   },
   {
    "duration": 21,
    "start_time": "2022-02-13T15:34:10.452Z"
   },
   {
    "duration": 10,
    "start_time": "2022-02-13T15:34:10.475Z"
   },
   {
    "duration": 6,
    "start_time": "2022-02-13T15:34:10.487Z"
   },
   {
    "duration": 30,
    "start_time": "2022-02-13T15:34:10.495Z"
   },
   {
    "duration": 9,
    "start_time": "2022-02-13T15:34:10.527Z"
   },
   {
    "duration": 13,
    "start_time": "2022-02-13T15:34:10.538Z"
   },
   {
    "duration": 21,
    "start_time": "2022-02-13T15:34:10.556Z"
   },
   {
    "duration": 37,
    "start_time": "2022-02-13T15:34:10.580Z"
   },
   {
    "duration": 9,
    "start_time": "2022-02-13T15:34:10.619Z"
   },
   {
    "duration": 32,
    "start_time": "2022-02-13T15:34:10.630Z"
   },
   {
    "duration": 9,
    "start_time": "2022-02-13T15:34:10.664Z"
   },
   {
    "duration": 7,
    "start_time": "2022-02-13T15:34:10.675Z"
   },
   {
    "duration": 5,
    "start_time": "2022-02-13T15:34:10.718Z"
   },
   {
    "duration": 13,
    "start_time": "2022-02-13T15:34:10.725Z"
   },
   {
    "duration": 7,
    "start_time": "2022-02-13T15:34:10.740Z"
   },
   {
    "duration": 10,
    "start_time": "2022-02-13T15:34:10.750Z"
   },
   {
    "duration": 5,
    "start_time": "2022-02-13T15:34:10.763Z"
   },
   {
    "duration": 10,
    "start_time": "2022-02-13T15:34:10.770Z"
   },
   {
    "duration": 45,
    "start_time": "2022-02-13T15:34:10.781Z"
   },
   {
    "duration": 12,
    "start_time": "2022-02-13T15:34:10.827Z"
   },
   {
    "duration": 10,
    "start_time": "2022-02-13T15:34:10.841Z"
   },
   {
    "duration": 9,
    "start_time": "2022-02-13T15:34:10.853Z"
   },
   {
    "duration": 4,
    "start_time": "2022-02-13T15:34:10.864Z"
   },
   {
    "duration": 10,
    "start_time": "2022-02-13T15:34:10.870Z"
   },
   {
    "duration": 20,
    "start_time": "2022-02-13T15:34:10.882Z"
   },
   {
    "duration": 27,
    "start_time": "2022-02-13T15:34:10.904Z"
   },
   {
    "duration": 43,
    "start_time": "2022-02-13T15:34:10.933Z"
   },
   {
    "duration": 41,
    "start_time": "2022-02-13T15:34:10.978Z"
   },
   {
    "duration": 21,
    "start_time": "2022-02-13T15:34:11.021Z"
   },
   {
    "duration": 20,
    "start_time": "2022-02-13T15:34:11.044Z"
   },
   {
    "duration": 9,
    "start_time": "2022-02-13T15:34:11.066Z"
   },
   {
    "duration": 18,
    "start_time": "2022-02-13T15:34:11.077Z"
   },
   {
    "duration": 22,
    "start_time": "2022-02-13T15:34:11.097Z"
   },
   {
    "duration": 956,
    "start_time": "2022-02-13T15:34:11.121Z"
   },
   {
    "duration": 12,
    "start_time": "2022-02-13T15:34:12.080Z"
   },
   {
    "duration": 25,
    "start_time": "2022-02-13T15:34:12.094Z"
   },
   {
    "duration": 881,
    "start_time": "2022-02-13T15:34:12.121Z"
   },
   {
    "duration": 19,
    "start_time": "2022-02-13T15:34:13.004Z"
   },
   {
    "duration": 69,
    "start_time": "2022-02-13T15:34:13.025Z"
   },
   {
    "duration": 25,
    "start_time": "2022-02-13T15:34:13.097Z"
   },
   {
    "duration": 315,
    "start_time": "2022-02-13T15:34:13.124Z"
   },
   {
    "duration": 7,
    "start_time": "2022-02-13T15:34:13.441Z"
   },
   {
    "duration": 171,
    "start_time": "2022-02-13T15:34:13.450Z"
   },
   {
    "duration": 402,
    "start_time": "2022-02-13T15:34:13.623Z"
   },
   {
    "duration": 44,
    "start_time": "2022-02-13T15:34:14.027Z"
   },
   {
    "duration": 15,
    "start_time": "2022-02-13T15:34:14.073Z"
   },
   {
    "duration": 429,
    "start_time": "2022-02-13T15:34:14.090Z"
   },
   {
    "duration": 11,
    "start_time": "2022-02-13T15:34:14.521Z"
   },
   {
    "duration": 191,
    "start_time": "2022-02-13T15:34:14.534Z"
   },
   {
    "duration": 57,
    "start_time": "2022-02-13T15:34:14.727Z"
   },
   {
    "duration": 33,
    "start_time": "2022-02-13T15:34:14.786Z"
   },
   {
    "duration": 404,
    "start_time": "2022-02-13T15:34:14.821Z"
   },
   {
    "duration": 7,
    "start_time": "2022-02-13T15:34:15.227Z"
   },
   {
    "duration": 170,
    "start_time": "2022-02-13T15:34:15.236Z"
   },
   {
    "duration": 65,
    "start_time": "2022-02-13T15:34:15.408Z"
   },
   {
    "duration": 17,
    "start_time": "2022-02-13T15:34:15.475Z"
   },
   {
    "duration": 441,
    "start_time": "2022-02-13T15:34:15.494Z"
   },
   {
    "duration": 8,
    "start_time": "2022-02-13T15:34:15.937Z"
   },
   {
    "duration": 174,
    "start_time": "2022-02-13T15:34:15.947Z"
   },
   {
    "duration": 52,
    "start_time": "2022-02-13T15:34:16.123Z"
   },
   {
    "duration": 37,
    "start_time": "2022-02-13T15:34:16.181Z"
   },
   {
    "duration": 1191,
    "start_time": "2022-02-14T04:13:46.062Z"
   },
   {
    "duration": 10,
    "start_time": "2022-02-14T04:13:49.984Z"
   },
   {
    "duration": 32,
    "start_time": "2022-02-14T04:13:52.079Z"
   },
   {
    "duration": 10,
    "start_time": "2022-02-14T04:15:11.550Z"
   },
   {
    "duration": 55,
    "start_time": "2022-02-14T04:16:37.446Z"
   },
   {
    "duration": 54,
    "start_time": "2022-02-14T04:22:50.014Z"
   },
   {
    "duration": 10,
    "start_time": "2022-02-14T04:22:50.070Z"
   },
   {
    "duration": 30,
    "start_time": "2022-02-14T04:22:50.082Z"
   },
   {
    "duration": 9,
    "start_time": "2022-02-14T04:22:50.113Z"
   },
   {
    "duration": 41,
    "start_time": "2022-02-14T04:22:50.124Z"
   },
   {
    "duration": 9,
    "start_time": "2022-02-14T04:22:50.166Z"
   },
   {
    "duration": 8,
    "start_time": "2022-02-14T04:22:50.176Z"
   },
   {
    "duration": 11,
    "start_time": "2022-02-14T04:22:50.186Z"
   },
   {
    "duration": 19,
    "start_time": "2022-02-14T04:22:50.198Z"
   },
   {
    "duration": 5,
    "start_time": "2022-02-14T04:22:50.218Z"
   },
   {
    "duration": 7,
    "start_time": "2022-02-14T04:22:50.224Z"
   },
   {
    "duration": 28,
    "start_time": "2022-02-14T04:22:50.233Z"
   },
   {
    "duration": 14,
    "start_time": "2022-02-14T04:22:50.263Z"
   },
   {
    "duration": 5,
    "start_time": "2022-02-14T04:22:50.279Z"
   },
   {
    "duration": 15,
    "start_time": "2022-02-14T04:22:50.285Z"
   },
   {
    "duration": 9,
    "start_time": "2022-02-14T04:22:50.302Z"
   },
   {
    "duration": 10,
    "start_time": "2022-02-14T04:22:50.312Z"
   },
   {
    "duration": 11,
    "start_time": "2022-02-14T04:22:50.323Z"
   },
   {
    "duration": 8,
    "start_time": "2022-02-14T04:22:50.336Z"
   },
   {
    "duration": 15,
    "start_time": "2022-02-14T04:22:50.345Z"
   },
   {
    "duration": 7,
    "start_time": "2022-02-14T04:22:50.362Z"
   },
   {
    "duration": 25,
    "start_time": "2022-02-14T04:22:50.371Z"
   },
   {
    "duration": 14,
    "start_time": "2022-02-14T04:22:50.401Z"
   },
   {
    "duration": 8,
    "start_time": "2022-02-14T04:22:50.418Z"
   },
   {
    "duration": 6,
    "start_time": "2022-02-14T04:22:50.428Z"
   },
   {
    "duration": 24,
    "start_time": "2022-02-14T04:22:50.436Z"
   },
   {
    "duration": 7,
    "start_time": "2022-02-14T04:22:50.462Z"
   },
   {
    "duration": 10,
    "start_time": "2022-02-14T04:22:50.471Z"
   },
   {
    "duration": 24,
    "start_time": "2022-02-14T04:22:50.483Z"
   },
   {
    "duration": 3,
    "start_time": "2022-02-14T04:22:50.509Z"
   },
   {
    "duration": 11,
    "start_time": "2022-02-14T04:22:50.514Z"
   },
   {
    "duration": 49,
    "start_time": "2022-02-14T04:22:50.527Z"
   },
   {
    "duration": 7,
    "start_time": "2022-02-14T04:22:50.578Z"
   },
   {
    "duration": 11,
    "start_time": "2022-02-14T04:22:50.586Z"
   },
   {
    "duration": 6,
    "start_time": "2022-02-14T04:22:50.598Z"
   },
   {
    "duration": 9,
    "start_time": "2022-02-14T04:22:50.606Z"
   },
   {
    "duration": 8,
    "start_time": "2022-02-14T04:22:50.617Z"
   },
   {
    "duration": 10,
    "start_time": "2022-02-14T04:22:50.626Z"
   },
   {
    "duration": 4,
    "start_time": "2022-02-14T04:22:50.659Z"
   },
   {
    "duration": 13,
    "start_time": "2022-02-14T04:22:50.665Z"
   },
   {
    "duration": 17,
    "start_time": "2022-02-14T04:22:50.680Z"
   },
   {
    "duration": 5,
    "start_time": "2022-02-14T04:22:50.698Z"
   },
   {
    "duration": 9,
    "start_time": "2022-02-14T04:22:50.704Z"
   },
   {
    "duration": 6,
    "start_time": "2022-02-14T04:22:50.714Z"
   },
   {
    "duration": 5,
    "start_time": "2022-02-14T04:22:50.722Z"
   },
   {
    "duration": 6,
    "start_time": "2022-02-14T04:22:50.729Z"
   },
   {
    "duration": 23,
    "start_time": "2022-02-14T04:22:50.737Z"
   },
   {
    "duration": 14,
    "start_time": "2022-02-14T04:22:50.762Z"
   },
   {
    "duration": 37,
    "start_time": "2022-02-14T04:22:50.778Z"
   },
   {
    "duration": 43,
    "start_time": "2022-02-14T04:22:50.817Z"
   },
   {
    "duration": 18,
    "start_time": "2022-02-14T04:22:50.862Z"
   },
   {
    "duration": 16,
    "start_time": "2022-02-14T04:22:50.882Z"
   },
   {
    "duration": 9,
    "start_time": "2022-02-14T04:22:50.899Z"
   },
   {
    "duration": 13,
    "start_time": "2022-02-14T04:22:50.909Z"
   },
   {
    "duration": 7,
    "start_time": "2022-02-14T04:22:50.923Z"
   },
   {
    "duration": 1333,
    "start_time": "2022-02-14T04:22:50.932Z"
   },
   {
    "duration": 265,
    "start_time": "2022-02-14T04:24:51.916Z"
   },
   {
    "duration": 10,
    "start_time": "2022-02-14T04:24:58.326Z"
   },
   {
    "duration": 6,
    "start_time": "2022-02-14T04:25:11.910Z"
   },
   {
    "duration": 58,
    "start_time": "2022-02-14T04:25:52.374Z"
   },
   {
    "duration": 56,
    "start_time": "2022-02-14T04:26:06.925Z"
   },
   {
    "duration": 11,
    "start_time": "2022-02-14T04:26:18.222Z"
   },
   {
    "duration": 10,
    "start_time": "2022-02-14T04:26:53.173Z"
   },
   {
    "duration": 10,
    "start_time": "2022-02-14T04:26:56.219Z"
   },
   {
    "duration": 16,
    "start_time": "2022-02-14T04:27:05.829Z"
   },
   {
    "duration": 220,
    "start_time": "2022-02-14T04:27:31.925Z"
   },
   {
    "duration": 16,
    "start_time": "2022-02-14T04:27:49.901Z"
   },
   {
    "duration": 176,
    "start_time": "2022-02-14T04:29:54.292Z"
   },
   {
    "duration": 17,
    "start_time": "2022-02-14T04:30:00.675Z"
   },
   {
    "duration": 18,
    "start_time": "2022-02-14T04:30:15.747Z"
   },
   {
    "duration": 19,
    "start_time": "2022-02-14T04:30:22.348Z"
   },
   {
    "duration": 12,
    "start_time": "2022-02-14T04:30:31.683Z"
   },
   {
    "duration": 12,
    "start_time": "2022-02-14T04:30:37.523Z"
   },
   {
    "duration": 1208,
    "start_time": "2022-02-14T04:33:12.936Z"
   },
   {
    "duration": 13,
    "start_time": "2022-02-14T04:33:14.146Z"
   },
   {
    "duration": 31,
    "start_time": "2022-02-14T04:33:14.161Z"
   },
   {
    "duration": 8,
    "start_time": "2022-02-14T04:33:14.194Z"
   },
   {
    "duration": 9,
    "start_time": "2022-02-14T04:33:14.204Z"
   },
   {
    "duration": 7,
    "start_time": "2022-02-14T04:33:14.215Z"
   },
   {
    "duration": 4,
    "start_time": "2022-02-14T04:33:14.223Z"
   },
   {
    "duration": 32,
    "start_time": "2022-02-14T04:33:14.229Z"
   },
   {
    "duration": 15,
    "start_time": "2022-02-14T04:33:14.263Z"
   },
   {
    "duration": 4,
    "start_time": "2022-02-14T04:33:14.279Z"
   },
   {
    "duration": 4,
    "start_time": "2022-02-14T04:33:14.285Z"
   },
   {
    "duration": 8,
    "start_time": "2022-02-14T04:33:14.290Z"
   },
   {
    "duration": 9,
    "start_time": "2022-02-14T04:33:14.300Z"
   },
   {
    "duration": 8,
    "start_time": "2022-02-14T04:33:14.310Z"
   },
   {
    "duration": 42,
    "start_time": "2022-02-14T04:33:14.320Z"
   },
   {
    "duration": 3,
    "start_time": "2022-02-14T04:33:14.364Z"
   },
   {
    "duration": 9,
    "start_time": "2022-02-14T04:33:14.369Z"
   },
   {
    "duration": 13,
    "start_time": "2022-02-14T04:33:14.380Z"
   },
   {
    "duration": 6,
    "start_time": "2022-02-14T04:33:14.395Z"
   },
   {
    "duration": 4,
    "start_time": "2022-02-14T04:33:14.403Z"
   },
   {
    "duration": 50,
    "start_time": "2022-02-14T04:33:14.409Z"
   },
   {
    "duration": 4,
    "start_time": "2022-02-14T04:33:14.461Z"
   },
   {
    "duration": 16,
    "start_time": "2022-02-14T04:33:14.468Z"
   },
   {
    "duration": 7,
    "start_time": "2022-02-14T04:33:14.486Z"
   },
   {
    "duration": 4,
    "start_time": "2022-02-14T04:33:14.494Z"
   },
   {
    "duration": 7,
    "start_time": "2022-02-14T04:33:14.500Z"
   },
   {
    "duration": 7,
    "start_time": "2022-02-14T04:33:14.508Z"
   },
   {
    "duration": 8,
    "start_time": "2022-02-14T04:33:14.517Z"
   },
   {
    "duration": 24,
    "start_time": "2022-02-14T04:33:14.526Z"
   },
   {
    "duration": 4,
    "start_time": "2022-02-14T04:33:14.551Z"
   },
   {
    "duration": 7,
    "start_time": "2022-02-14T04:33:14.559Z"
   },
   {
    "duration": 20,
    "start_time": "2022-02-14T04:33:14.568Z"
   },
   {
    "duration": 6,
    "start_time": "2022-02-14T04:33:14.589Z"
   },
   {
    "duration": 4,
    "start_time": "2022-02-14T04:33:14.597Z"
   },
   {
    "duration": 7,
    "start_time": "2022-02-14T04:33:14.602Z"
   },
   {
    "duration": 9,
    "start_time": "2022-02-14T04:33:14.611Z"
   },
   {
    "duration": 6,
    "start_time": "2022-02-14T04:33:14.622Z"
   },
   {
    "duration": 8,
    "start_time": "2022-02-14T04:33:14.630Z"
   },
   {
    "duration": 7,
    "start_time": "2022-02-14T04:33:14.639Z"
   },
   {
    "duration": 8,
    "start_time": "2022-02-14T04:33:14.647Z"
   },
   {
    "duration": 8,
    "start_time": "2022-02-14T04:33:14.656Z"
   },
   {
    "duration": 4,
    "start_time": "2022-02-14T04:33:14.666Z"
   },
   {
    "duration": 10,
    "start_time": "2022-02-14T04:33:14.671Z"
   },
   {
    "duration": 9,
    "start_time": "2022-02-14T04:33:14.683Z"
   },
   {
    "duration": 4,
    "start_time": "2022-02-14T04:33:14.693Z"
   },
   {
    "duration": 12,
    "start_time": "2022-02-14T04:33:14.699Z"
   },
   {
    "duration": 4,
    "start_time": "2022-02-14T04:33:14.713Z"
   },
   {
    "duration": 14,
    "start_time": "2022-02-14T04:33:14.719Z"
   },
   {
    "duration": 39,
    "start_time": "2022-02-14T04:33:14.734Z"
   },
   {
    "duration": 23,
    "start_time": "2022-02-14T04:33:14.775Z"
   },
   {
    "duration": 16,
    "start_time": "2022-02-14T04:33:14.800Z"
   },
   {
    "duration": 18,
    "start_time": "2022-02-14T04:33:14.818Z"
   },
   {
    "duration": 26,
    "start_time": "2022-02-14T04:33:14.838Z"
   },
   {
    "duration": 7,
    "start_time": "2022-02-14T04:33:14.866Z"
   },
   {
    "duration": 8,
    "start_time": "2022-02-14T04:33:14.875Z"
   },
   {
    "duration": 975,
    "start_time": "2022-02-14T04:33:14.885Z"
   },
   {
    "duration": 15,
    "start_time": "2022-02-14T04:33:15.862Z"
   },
   {
    "duration": 12,
    "start_time": "2022-02-14T04:33:15.879Z"
   },
   {
    "duration": 489,
    "start_time": "2022-02-14T04:33:15.892Z"
   },
   {
    "duration": 7,
    "start_time": "2022-02-14T04:33:16.382Z"
   },
   {
    "duration": 46,
    "start_time": "2022-02-14T04:33:16.390Z"
   },
   {
    "duration": 24,
    "start_time": "2022-02-14T04:33:16.438Z"
   },
   {
    "duration": 268,
    "start_time": "2022-02-14T04:33:16.464Z"
   },
   {
    "duration": 7,
    "start_time": "2022-02-14T04:33:16.734Z"
   },
   {
    "duration": 166,
    "start_time": "2022-02-14T04:33:16.743Z"
   },
   {
    "duration": 362,
    "start_time": "2022-02-14T04:33:16.911Z"
   },
   {
    "duration": 40,
    "start_time": "2022-02-14T04:33:17.275Z"
   },
   {
    "duration": 13,
    "start_time": "2022-02-14T04:33:17.319Z"
   },
   {
    "duration": 371,
    "start_time": "2022-02-14T04:33:17.334Z"
   },
   {
    "duration": 7,
    "start_time": "2022-02-14T04:33:17.707Z"
   },
   {
    "duration": 179,
    "start_time": "2022-02-14T04:33:17.716Z"
   },
   {
    "duration": 62,
    "start_time": "2022-02-14T04:33:17.897Z"
   },
   {
    "duration": 15,
    "start_time": "2022-02-14T04:33:17.961Z"
   },
   {
    "duration": 372,
    "start_time": "2022-02-14T04:33:17.978Z"
   },
   {
    "duration": 11,
    "start_time": "2022-02-14T04:33:18.351Z"
   },
   {
    "duration": 162,
    "start_time": "2022-02-14T04:33:18.363Z"
   },
   {
    "duration": 64,
    "start_time": "2022-02-14T04:33:18.527Z"
   },
   {
    "duration": 14,
    "start_time": "2022-02-14T04:33:18.592Z"
   },
   {
    "duration": 366,
    "start_time": "2022-02-14T04:33:18.607Z"
   },
   {
    "duration": 6,
    "start_time": "2022-02-14T04:33:18.975Z"
   },
   {
    "duration": 165,
    "start_time": "2022-02-14T04:33:18.982Z"
   },
   {
    "duration": 50,
    "start_time": "2022-02-14T04:33:19.148Z"
   },
   {
    "duration": 15,
    "start_time": "2022-02-14T04:33:19.199Z"
   },
   {
    "duration": 78,
    "start_time": "2022-02-14T04:43:08.247Z"
   },
   {
    "duration": 3,
    "start_time": "2022-02-14T04:43:13.919Z"
   },
   {
    "duration": 4,
    "start_time": "2022-02-14T04:43:17.718Z"
   },
   {
    "duration": 6,
    "start_time": "2022-02-14T04:43:19.414Z"
   },
   {
    "duration": 4,
    "start_time": "2022-02-14T04:45:20.062Z"
   },
   {
    "duration": 4,
    "start_time": "2022-02-14T04:45:22.574Z"
   },
   {
    "duration": 6,
    "start_time": "2022-02-14T04:45:25.510Z"
   },
   {
    "duration": 4,
    "start_time": "2022-02-14T04:45:44.455Z"
   },
   {
    "duration": 2,
    "start_time": "2022-02-14T04:45:47.142Z"
   },
   {
    "duration": 5,
    "start_time": "2022-02-14T04:45:48.054Z"
   },
   {
    "duration": 1190,
    "start_time": "2022-02-14T04:47:16.039Z"
   },
   {
    "duration": 11,
    "start_time": "2022-02-14T04:47:17.232Z"
   },
   {
    "duration": 40,
    "start_time": "2022-02-14T04:47:17.245Z"
   },
   {
    "duration": 10,
    "start_time": "2022-02-14T04:47:17.287Z"
   },
   {
    "duration": 8,
    "start_time": "2022-02-14T04:47:17.298Z"
   },
   {
    "duration": 7,
    "start_time": "2022-02-14T04:47:17.308Z"
   },
   {
    "duration": 4,
    "start_time": "2022-02-14T04:47:17.317Z"
   },
   {
    "duration": 37,
    "start_time": "2022-02-14T04:47:17.323Z"
   },
   {
    "duration": 16,
    "start_time": "2022-02-14T04:47:17.362Z"
   },
   {
    "duration": 7,
    "start_time": "2022-02-14T04:47:17.379Z"
   },
   {
    "duration": 7,
    "start_time": "2022-02-14T04:47:17.388Z"
   },
   {
    "duration": 9,
    "start_time": "2022-02-14T04:47:17.397Z"
   },
   {
    "duration": 13,
    "start_time": "2022-02-14T04:47:17.407Z"
   },
   {
    "duration": 6,
    "start_time": "2022-02-14T04:47:17.422Z"
   },
   {
    "duration": 35,
    "start_time": "2022-02-14T04:47:17.430Z"
   },
   {
    "duration": 8,
    "start_time": "2022-02-14T04:47:17.467Z"
   },
   {
    "duration": 9,
    "start_time": "2022-02-14T04:47:17.477Z"
   },
   {
    "duration": 15,
    "start_time": "2022-02-14T04:47:17.488Z"
   },
   {
    "duration": 5,
    "start_time": "2022-02-14T04:47:17.505Z"
   },
   {
    "duration": 7,
    "start_time": "2022-02-14T04:47:17.512Z"
   },
   {
    "duration": 5,
    "start_time": "2022-02-14T04:47:17.521Z"
   },
   {
    "duration": 10,
    "start_time": "2022-02-14T04:47:17.527Z"
   },
   {
    "duration": 16,
    "start_time": "2022-02-14T04:47:17.562Z"
   },
   {
    "duration": 10,
    "start_time": "2022-02-14T04:47:17.581Z"
   },
   {
    "duration": 6,
    "start_time": "2022-02-14T04:47:17.593Z"
   },
   {
    "duration": 9,
    "start_time": "2022-02-14T04:47:17.601Z"
   },
   {
    "duration": 9,
    "start_time": "2022-02-14T04:47:17.612Z"
   },
   {
    "duration": 37,
    "start_time": "2022-02-14T04:47:17.623Z"
   },
   {
    "duration": 19,
    "start_time": "2022-02-14T04:47:17.662Z"
   },
   {
    "duration": 4,
    "start_time": "2022-02-14T04:47:17.683Z"
   },
   {
    "duration": 10,
    "start_time": "2022-02-14T04:47:17.689Z"
   },
   {
    "duration": 19,
    "start_time": "2022-02-14T04:47:17.701Z"
   },
   {
    "duration": 38,
    "start_time": "2022-02-14T04:47:17.722Z"
   },
   {
    "duration": 5,
    "start_time": "2022-02-14T04:47:17.762Z"
   },
   {
    "duration": 9,
    "start_time": "2022-02-14T04:47:17.768Z"
   },
   {
    "duration": 10,
    "start_time": "2022-02-14T04:47:17.779Z"
   },
   {
    "duration": 6,
    "start_time": "2022-02-14T04:47:17.791Z"
   },
   {
    "duration": 8,
    "start_time": "2022-02-14T04:47:17.799Z"
   },
   {
    "duration": 7,
    "start_time": "2022-02-14T04:47:17.808Z"
   },
   {
    "duration": 8,
    "start_time": "2022-02-14T04:47:17.816Z"
   },
   {
    "duration": 37,
    "start_time": "2022-02-14T04:47:17.825Z"
   },
   {
    "duration": 4,
    "start_time": "2022-02-14T04:47:17.864Z"
   },
   {
    "duration": 9,
    "start_time": "2022-02-14T04:47:17.870Z"
   },
   {
    "duration": 7,
    "start_time": "2022-02-14T04:47:17.881Z"
   },
   {
    "duration": 4,
    "start_time": "2022-02-14T04:47:17.890Z"
   },
   {
    "duration": 5,
    "start_time": "2022-02-14T04:47:17.895Z"
   },
   {
    "duration": 5,
    "start_time": "2022-02-14T04:47:17.902Z"
   },
   {
    "duration": 16,
    "start_time": "2022-02-14T04:47:17.908Z"
   },
   {
    "duration": 74,
    "start_time": "2022-02-14T04:47:17.926Z"
   },
   {
    "duration": 24,
    "start_time": "2022-02-14T04:47:18.002Z"
   },
   {
    "duration": 42,
    "start_time": "2022-02-14T04:47:18.028Z"
   },
   {
    "duration": 17,
    "start_time": "2022-02-14T04:47:18.072Z"
   },
   {
    "duration": 9,
    "start_time": "2022-02-14T04:47:18.091Z"
   },
   {
    "duration": 6,
    "start_time": "2022-02-14T04:47:18.101Z"
   },
   {
    "duration": 18,
    "start_time": "2022-02-14T04:47:18.109Z"
   },
   {
    "duration": 681,
    "start_time": "2022-02-14T04:47:18.129Z"
   },
   {
    "duration": 19,
    "start_time": "2022-02-14T04:47:18.812Z"
   },
   {
    "duration": 33,
    "start_time": "2022-02-14T04:47:18.833Z"
   },
   {
    "duration": 506,
    "start_time": "2022-02-14T04:47:18.868Z"
   },
   {
    "duration": 8,
    "start_time": "2022-02-14T04:47:19.377Z"
   },
   {
    "duration": 50,
    "start_time": "2022-02-14T04:47:19.387Z"
   },
   {
    "duration": 9,
    "start_time": "2022-02-14T04:47:19.459Z"
   },
   {
    "duration": 280,
    "start_time": "2022-02-14T04:47:19.470Z"
   },
   {
    "duration": 11,
    "start_time": "2022-02-14T04:47:19.751Z"
   },
   {
    "duration": 166,
    "start_time": "2022-02-14T04:47:19.763Z"
   },
   {
    "duration": 371,
    "start_time": "2022-02-14T04:47:19.931Z"
   },
   {
    "duration": 58,
    "start_time": "2022-02-14T04:47:20.305Z"
   },
   {
    "duration": 17,
    "start_time": "2022-02-14T04:47:20.369Z"
   },
   {
    "duration": 385,
    "start_time": "2022-02-14T04:47:20.388Z"
   },
   {
    "duration": 9,
    "start_time": "2022-02-14T04:47:20.775Z"
   },
   {
    "duration": 183,
    "start_time": "2022-02-14T04:47:20.785Z"
   },
   {
    "duration": 56,
    "start_time": "2022-02-14T04:47:20.969Z"
   },
   {
    "duration": 32,
    "start_time": "2022-02-14T04:47:21.027Z"
   },
   {
    "duration": 361,
    "start_time": "2022-02-14T04:47:21.061Z"
   },
   {
    "duration": 7,
    "start_time": "2022-02-14T04:47:21.424Z"
   },
   {
    "duration": 181,
    "start_time": "2022-02-14T04:47:21.434Z"
   },
   {
    "duration": 71,
    "start_time": "2022-02-14T04:47:21.617Z"
   },
   {
    "duration": 16,
    "start_time": "2022-02-14T04:47:21.690Z"
   },
   {
    "duration": 374,
    "start_time": "2022-02-14T04:47:21.708Z"
   },
   {
    "duration": 8,
    "start_time": "2022-02-14T04:47:22.083Z"
   },
   {
    "duration": 95,
    "start_time": "2022-02-14T04:47:22.382Z"
   },
   {
    "duration": 11,
    "start_time": "2022-02-14T04:47:22.479Z"
   },
   {
    "duration": 31,
    "start_time": "2022-02-14T04:47:22.492Z"
   },
   {
    "duration": 38,
    "start_time": "2022-02-14T04:47:22.525Z"
   },
   {
    "duration": 9,
    "start_time": "2022-02-14T04:47:22.565Z"
   },
   {
    "duration": 8,
    "start_time": "2022-02-14T04:47:22.576Z"
   },
   {
    "duration": 6,
    "start_time": "2022-02-14T04:47:22.586Z"
   },
   {
    "duration": 6,
    "start_time": "2022-02-14T04:47:22.594Z"
   },
   {
    "duration": 19,
    "start_time": "2022-02-14T04:47:22.602Z"
   },
   {
    "duration": 39,
    "start_time": "2022-02-14T04:47:22.623Z"
   },
   {
    "duration": 4,
    "start_time": "2022-02-14T04:47:22.665Z"
   },
   {
    "duration": 6,
    "start_time": "2022-02-14T04:47:22.671Z"
   },
   {
    "duration": 11,
    "start_time": "2022-02-14T04:47:22.680Z"
   },
   {
    "duration": 5,
    "start_time": "2022-02-14T04:47:22.693Z"
   },
   {
    "duration": 12,
    "start_time": "2022-02-14T04:47:22.699Z"
   },
   {
    "duration": 4,
    "start_time": "2022-02-14T04:47:22.713Z"
   },
   {
    "duration": 42,
    "start_time": "2022-02-14T04:47:22.719Z"
   },
   {
    "duration": 8,
    "start_time": "2022-02-14T04:47:22.763Z"
   },
   {
    "duration": 7,
    "start_time": "2022-02-14T04:47:22.775Z"
   },
   {
    "duration": 4,
    "start_time": "2022-02-14T04:47:22.784Z"
   },
   {
    "duration": 15,
    "start_time": "2022-02-14T04:47:22.789Z"
   },
   {
    "duration": 8,
    "start_time": "2022-02-14T04:47:22.806Z"
   },
   {
    "duration": 15,
    "start_time": "2022-02-14T04:47:22.816Z"
   },
   {
    "duration": 28,
    "start_time": "2022-02-14T04:47:22.833Z"
   },
   {
    "duration": 4,
    "start_time": "2022-02-14T04:47:22.863Z"
   },
   {
    "duration": 13,
    "start_time": "2022-02-14T04:47:22.869Z"
   },
   {
    "duration": 8,
    "start_time": "2022-02-14T04:47:22.884Z"
   },
   {
    "duration": 9,
    "start_time": "2022-02-14T04:47:22.894Z"
   },
   {
    "duration": 18,
    "start_time": "2022-02-14T04:47:22.905Z"
   },
   {
    "duration": 37,
    "start_time": "2022-02-14T04:47:22.925Z"
   },
   {
    "duration": 13,
    "start_time": "2022-02-14T04:47:22.965Z"
   },
   {
    "duration": 27,
    "start_time": "2022-02-14T04:47:22.980Z"
   },
   {
    "duration": 9,
    "start_time": "2022-02-14T04:47:23.009Z"
   },
   {
    "duration": 6,
    "start_time": "2022-02-14T04:47:23.020Z"
   },
   {
    "duration": 8,
    "start_time": "2022-02-14T04:47:23.028Z"
   },
   {
    "duration": 29,
    "start_time": "2022-02-14T04:47:23.038Z"
   },
   {
    "duration": 8,
    "start_time": "2022-02-14T04:47:23.069Z"
   },
   {
    "duration": 10,
    "start_time": "2022-02-14T04:47:23.079Z"
   },
   {
    "duration": 7,
    "start_time": "2022-02-14T04:47:23.091Z"
   },
   {
    "duration": 10,
    "start_time": "2022-02-14T04:47:23.100Z"
   },
   {
    "duration": 12,
    "start_time": "2022-02-14T04:47:23.112Z"
   },
   {
    "duration": 10,
    "start_time": "2022-02-14T04:47:23.125Z"
   },
   {
    "duration": 9,
    "start_time": "2022-02-14T04:47:23.160Z"
   },
   {
    "duration": 13,
    "start_time": "2022-02-14T04:47:23.171Z"
   },
   {
    "duration": 7,
    "start_time": "2022-02-14T04:47:23.186Z"
   },
   {
    "duration": 6,
    "start_time": "2022-02-14T04:47:23.195Z"
   },
   {
    "duration": 8,
    "start_time": "2022-02-14T04:47:23.203Z"
   },
   {
    "duration": 24,
    "start_time": "2022-02-14T04:47:23.212Z"
   },
   {
    "duration": 38,
    "start_time": "2022-02-14T04:47:23.238Z"
   },
   {
    "duration": 25,
    "start_time": "2022-02-14T04:47:23.278Z"
   },
   {
    "duration": 22,
    "start_time": "2022-02-14T04:47:23.304Z"
   },
   {
    "duration": 43,
    "start_time": "2022-02-14T04:47:23.328Z"
   },
   {
    "duration": 9,
    "start_time": "2022-02-14T04:47:23.373Z"
   },
   {
    "duration": 32,
    "start_time": "2022-02-14T04:47:23.384Z"
   },
   {
    "duration": 6,
    "start_time": "2022-02-14T04:47:23.418Z"
   },
   {
    "duration": 676,
    "start_time": "2022-02-14T04:47:23.426Z"
   },
   {
    "duration": 15,
    "start_time": "2022-02-14T04:47:24.105Z"
   },
   {
    "duration": 16,
    "start_time": "2022-02-14T04:47:24.122Z"
   },
   {
    "duration": 522,
    "start_time": "2022-02-14T04:47:24.140Z"
   },
   {
    "duration": 10,
    "start_time": "2022-02-14T04:47:24.664Z"
   },
   {
    "duration": 54,
    "start_time": "2022-02-14T04:47:24.676Z"
   },
   {
    "duration": 27,
    "start_time": "2022-02-14T04:47:24.732Z"
   },
   {
    "duration": 290,
    "start_time": "2022-02-14T04:47:24.761Z"
   },
   {
    "duration": 11,
    "start_time": "2022-02-14T04:47:25.053Z"
   },
   {
    "duration": 163,
    "start_time": "2022-02-14T04:47:25.066Z"
   },
   {
    "duration": 358,
    "start_time": "2022-02-14T04:47:25.231Z"
   },
   {
    "duration": 44,
    "start_time": "2022-02-14T04:47:25.591Z"
   },
   {
    "duration": 36,
    "start_time": "2022-02-14T04:47:25.637Z"
   },
   {
    "duration": 361,
    "start_time": "2022-02-14T04:47:25.675Z"
   },
   {
    "duration": 9,
    "start_time": "2022-02-14T04:47:26.038Z"
   },
   {
    "duration": 171,
    "start_time": "2022-02-14T04:47:26.059Z"
   },
   {
    "duration": 69,
    "start_time": "2022-02-14T04:47:26.232Z"
   },
   {
    "duration": 19,
    "start_time": "2022-02-14T04:47:26.306Z"
   },
   {
    "duration": 366,
    "start_time": "2022-02-14T04:47:26.326Z"
   },
   {
    "duration": 7,
    "start_time": "2022-02-14T04:47:26.694Z"
   },
   {
    "duration": 252,
    "start_time": "2022-02-14T04:47:26.702Z"
   },
   {
    "duration": 55,
    "start_time": "2022-02-14T04:47:26.958Z"
   },
   {
    "duration": 15,
    "start_time": "2022-02-14T04:47:27.015Z"
   },
   {
    "duration": 375,
    "start_time": "2022-02-14T04:47:27.032Z"
   },
   {
    "duration": 8,
    "start_time": "2022-02-14T04:47:27.408Z"
   },
   {
    "duration": 181,
    "start_time": "2022-02-14T04:47:27.418Z"
   },
   {
    "duration": 46,
    "start_time": "2022-02-14T04:47:27.601Z"
   },
   {
    "duration": 24,
    "start_time": "2022-02-14T04:47:27.649Z"
   },
   {
    "duration": 57,
    "start_time": "2022-02-14T04:49:49.007Z"
   },
   {
    "duration": 300,
    "start_time": "2022-02-14T04:50:09.424Z"
   },
   {
    "duration": 1165,
    "start_time": "2022-02-14T04:51:16.788Z"
   },
   {
    "duration": 11,
    "start_time": "2022-02-14T04:51:17.955Z"
   },
   {
    "duration": 32,
    "start_time": "2022-02-14T04:51:17.969Z"
   },
   {
    "duration": 10,
    "start_time": "2022-02-14T04:51:18.003Z"
   },
   {
    "duration": 8,
    "start_time": "2022-02-14T04:51:18.015Z"
   },
   {
    "duration": 38,
    "start_time": "2022-02-14T04:51:18.025Z"
   },
   {
    "duration": 5,
    "start_time": "2022-02-14T04:51:18.065Z"
   },
   {
    "duration": 7,
    "start_time": "2022-02-14T04:51:18.072Z"
   },
   {
    "duration": 15,
    "start_time": "2022-02-14T04:51:18.082Z"
   },
   {
    "duration": 5,
    "start_time": "2022-02-14T04:51:18.099Z"
   },
   {
    "duration": 4,
    "start_time": "2022-02-14T04:51:18.106Z"
   },
   {
    "duration": 47,
    "start_time": "2022-02-14T04:51:18.112Z"
   },
   {
    "duration": 10,
    "start_time": "2022-02-14T04:51:18.161Z"
   },
   {
    "duration": 5,
    "start_time": "2022-02-14T04:51:18.173Z"
   },
   {
    "duration": 9,
    "start_time": "2022-02-14T04:51:18.179Z"
   },
   {
    "duration": 6,
    "start_time": "2022-02-14T04:51:18.189Z"
   },
   {
    "duration": 8,
    "start_time": "2022-02-14T04:51:18.196Z"
   },
   {
    "duration": 10,
    "start_time": "2022-02-14T04:51:18.205Z"
   },
   {
    "duration": 5,
    "start_time": "2022-02-14T04:51:18.216Z"
   },
   {
    "duration": 62,
    "start_time": "2022-02-14T04:57:55.994Z"
   },
   {
    "duration": 10,
    "start_time": "2022-02-14T04:57:56.058Z"
   },
   {
    "duration": 28,
    "start_time": "2022-02-14T04:57:56.070Z"
   },
   {
    "duration": 9,
    "start_time": "2022-02-14T04:57:56.100Z"
   },
   {
    "duration": 7,
    "start_time": "2022-02-14T04:57:56.110Z"
   },
   {
    "duration": 6,
    "start_time": "2022-02-14T04:57:56.119Z"
   },
   {
    "duration": 33,
    "start_time": "2022-02-14T04:57:56.127Z"
   },
   {
    "duration": 4,
    "start_time": "2022-02-14T04:57:56.162Z"
   },
   {
    "duration": 18,
    "start_time": "2022-02-14T04:57:56.168Z"
   },
   {
    "duration": 4,
    "start_time": "2022-02-14T04:57:56.187Z"
   },
   {
    "duration": 4,
    "start_time": "2022-02-14T04:57:56.193Z"
   },
   {
    "duration": 10,
    "start_time": "2022-02-14T04:57:56.199Z"
   },
   {
    "duration": 10,
    "start_time": "2022-02-14T04:57:56.210Z"
   },
   {
    "duration": 4,
    "start_time": "2022-02-14T04:57:56.221Z"
   },
   {
    "duration": 36,
    "start_time": "2022-02-14T04:57:56.227Z"
   },
   {
    "duration": 4,
    "start_time": "2022-02-14T04:57:56.265Z"
   },
   {
    "duration": 6,
    "start_time": "2022-02-14T04:57:56.271Z"
   },
   {
    "duration": 5,
    "start_time": "2022-02-14T04:57:56.279Z"
   },
   {
    "duration": 7,
    "start_time": "2022-02-14T04:57:56.286Z"
   },
   {
    "duration": 74,
    "start_time": "2022-02-14T04:59:15.617Z"
   },
   {
    "duration": 57,
    "start_time": "2022-02-14T04:59:19.297Z"
   },
   {
    "duration": 65,
    "start_time": "2022-02-14T04:59:25.881Z"
   },
   {
    "duration": 78,
    "start_time": "2022-02-14T04:59:51.265Z"
   },
   {
    "duration": 3,
    "start_time": "2022-02-14T04:59:57.890Z"
   },
   {
    "duration": 5,
    "start_time": "2022-02-14T04:59:59.904Z"
   },
   {
    "duration": 5,
    "start_time": "2022-02-14T05:00:01.401Z"
   },
   {
    "duration": 3,
    "start_time": "2022-02-14T05:00:58.120Z"
   },
   {
    "duration": 55,
    "start_time": "2022-02-14T05:09:30.169Z"
   },
   {
    "duration": 58,
    "start_time": "2022-02-14T05:09:34.083Z"
   },
   {
    "duration": 67,
    "start_time": "2022-02-14T05:12:02.855Z"
   },
   {
    "duration": 1188,
    "start_time": "2022-02-14T05:15:01.674Z"
   },
   {
    "duration": 11,
    "start_time": "2022-02-14T05:15:02.863Z"
   },
   {
    "duration": 31,
    "start_time": "2022-02-14T05:15:02.876Z"
   },
   {
    "duration": 8,
    "start_time": "2022-02-14T05:15:02.909Z"
   },
   {
    "duration": 8,
    "start_time": "2022-02-14T05:15:02.919Z"
   },
   {
    "duration": 33,
    "start_time": "2022-02-14T05:15:02.928Z"
   },
   {
    "duration": 11,
    "start_time": "2022-02-14T05:15:02.962Z"
   },
   {
    "duration": 9,
    "start_time": "2022-02-14T05:15:02.975Z"
   },
   {
    "duration": 19,
    "start_time": "2022-02-14T05:15:02.987Z"
   },
   {
    "duration": 5,
    "start_time": "2022-02-14T05:15:03.007Z"
   },
   {
    "duration": 7,
    "start_time": "2022-02-14T05:15:03.014Z"
   },
   {
    "duration": 11,
    "start_time": "2022-02-14T05:15:03.022Z"
   },
   {
    "duration": 1181,
    "start_time": "2022-02-14T05:15:10.379Z"
   },
   {
    "duration": 10,
    "start_time": "2022-02-14T05:15:11.562Z"
   },
   {
    "duration": 30,
    "start_time": "2022-02-14T05:15:11.574Z"
   },
   {
    "duration": 9,
    "start_time": "2022-02-14T05:15:11.606Z"
   },
   {
    "duration": 6,
    "start_time": "2022-02-14T05:15:11.616Z"
   },
   {
    "duration": 41,
    "start_time": "2022-02-14T05:15:11.624Z"
   },
   {
    "duration": 4,
    "start_time": "2022-02-14T05:15:11.666Z"
   },
   {
    "duration": 5,
    "start_time": "2022-02-14T05:15:11.672Z"
   },
   {
    "duration": 14,
    "start_time": "2022-02-14T05:15:11.680Z"
   },
   {
    "duration": 4,
    "start_time": "2022-02-14T05:15:11.696Z"
   },
   {
    "duration": 3,
    "start_time": "2022-02-14T05:15:11.702Z"
   },
   {
    "duration": 10,
    "start_time": "2022-02-14T05:15:11.707Z"
   },
   {
    "duration": 10,
    "start_time": "2022-02-14T05:15:11.759Z"
   },
   {
    "duration": 6,
    "start_time": "2022-02-14T05:15:11.771Z"
   },
   {
    "duration": 9,
    "start_time": "2022-02-14T05:15:11.779Z"
   },
   {
    "duration": 4,
    "start_time": "2022-02-14T05:15:11.790Z"
   },
   {
    "duration": 10,
    "start_time": "2022-02-14T05:15:11.795Z"
   },
   {
    "duration": 12,
    "start_time": "2022-02-14T05:15:11.807Z"
   },
   {
    "duration": 11,
    "start_time": "2022-02-14T05:15:11.821Z"
   },
   {
    "duration": 25,
    "start_time": "2022-02-14T05:15:11.834Z"
   },
   {
    "duration": 13,
    "start_time": "2022-02-14T05:15:11.860Z"
   },
   {
    "duration": 11,
    "start_time": "2022-02-14T05:15:11.874Z"
   },
   {
    "duration": 19,
    "start_time": "2022-02-14T05:15:11.886Z"
   },
   {
    "duration": 9,
    "start_time": "2022-02-14T05:15:11.907Z"
   },
   {
    "duration": 6,
    "start_time": "2022-02-14T05:15:11.918Z"
   },
   {
    "duration": 8,
    "start_time": "2022-02-14T05:15:11.925Z"
   },
   {
    "duration": 25,
    "start_time": "2022-02-14T05:15:11.939Z"
   },
   {
    "duration": 8,
    "start_time": "2022-02-14T05:15:11.968Z"
   },
   {
    "duration": 20,
    "start_time": "2022-02-14T05:15:11.978Z"
   },
   {
    "duration": 4,
    "start_time": "2022-02-14T05:15:11.999Z"
   },
   {
    "duration": 12,
    "start_time": "2022-02-14T05:15:12.005Z"
   },
   {
    "duration": 54,
    "start_time": "2022-02-14T05:15:12.019Z"
   },
   {
    "duration": 6,
    "start_time": "2022-02-14T05:15:12.075Z"
   },
   {
    "duration": 6,
    "start_time": "2022-02-14T05:15:12.083Z"
   },
   {
    "duration": 7,
    "start_time": "2022-02-14T05:15:12.090Z"
   },
   {
    "duration": 11,
    "start_time": "2022-02-14T05:15:12.099Z"
   },
   {
    "duration": 7,
    "start_time": "2022-02-14T05:15:12.111Z"
   },
   {
    "duration": 17,
    "start_time": "2022-02-14T05:15:12.119Z"
   },
   {
    "duration": 22,
    "start_time": "2022-02-14T05:15:12.138Z"
   },
   {
    "duration": 19,
    "start_time": "2022-02-14T05:15:12.162Z"
   },
   {
    "duration": 16,
    "start_time": "2022-02-14T05:15:12.182Z"
   },
   {
    "duration": 7,
    "start_time": "2022-02-14T05:15:12.200Z"
   },
   {
    "duration": 11,
    "start_time": "2022-02-14T05:15:12.208Z"
   },
   {
    "duration": 14,
    "start_time": "2022-02-14T05:15:12.220Z"
   },
   {
    "duration": 5,
    "start_time": "2022-02-14T05:15:12.236Z"
   },
   {
    "duration": 5,
    "start_time": "2022-02-14T05:15:12.243Z"
   },
   {
    "duration": 10,
    "start_time": "2022-02-14T05:15:12.249Z"
   },
   {
    "duration": 17,
    "start_time": "2022-02-14T05:15:12.260Z"
   },
   {
    "duration": 38,
    "start_time": "2022-02-14T05:15:12.279Z"
   },
   {
    "duration": 40,
    "start_time": "2022-02-14T05:15:12.319Z"
   },
   {
    "duration": 17,
    "start_time": "2022-02-14T05:15:12.361Z"
   },
   {
    "duration": 16,
    "start_time": "2022-02-14T05:15:12.380Z"
   },
   {
    "duration": 8,
    "start_time": "2022-02-14T05:15:12.398Z"
   },
   {
    "duration": 10,
    "start_time": "2022-02-14T05:15:12.408Z"
   },
   {
    "duration": 8,
    "start_time": "2022-02-14T05:15:12.419Z"
   },
   {
    "duration": 659,
    "start_time": "2022-02-14T05:15:12.428Z"
   },
   {
    "duration": 14,
    "start_time": "2022-02-14T05:15:13.089Z"
   },
   {
    "duration": 13,
    "start_time": "2022-02-14T05:15:13.105Z"
   },
   {
    "duration": 484,
    "start_time": "2022-02-14T05:15:13.120Z"
   },
   {
    "duration": 6,
    "start_time": "2022-02-14T05:15:13.606Z"
   },
   {
    "duration": 54,
    "start_time": "2022-02-14T05:15:13.614Z"
   },
   {
    "duration": 6,
    "start_time": "2022-02-14T05:15:13.670Z"
   },
   {
    "duration": 269,
    "start_time": "2022-02-14T05:15:13.678Z"
   },
   {
    "duration": 12,
    "start_time": "2022-02-14T05:15:13.949Z"
   },
   {
    "duration": 156,
    "start_time": "2022-02-14T05:15:13.963Z"
   },
   {
    "duration": 356,
    "start_time": "2022-02-14T05:15:14.121Z"
   },
   {
    "duration": 39,
    "start_time": "2022-02-14T05:15:14.478Z"
   },
   {
    "duration": 13,
    "start_time": "2022-02-14T05:15:14.519Z"
   },
   {
    "duration": 355,
    "start_time": "2022-02-14T05:15:14.533Z"
   },
   {
    "duration": 8,
    "start_time": "2022-02-14T05:15:14.889Z"
   },
   {
    "duration": 189,
    "start_time": "2022-02-14T05:15:14.899Z"
   },
   {
    "duration": 55,
    "start_time": "2022-02-14T05:15:15.090Z"
   },
   {
    "duration": 15,
    "start_time": "2022-02-14T05:15:15.159Z"
   },
   {
    "duration": 352,
    "start_time": "2022-02-14T05:15:15.176Z"
   },
   {
    "duration": 7,
    "start_time": "2022-02-14T05:15:15.530Z"
   },
   {
    "duration": 166,
    "start_time": "2022-02-14T05:15:15.538Z"
   },
   {
    "duration": 56,
    "start_time": "2022-02-14T05:15:15.706Z"
   },
   {
    "duration": 14,
    "start_time": "2022-02-14T05:15:15.764Z"
   },
   {
    "duration": 356,
    "start_time": "2022-02-14T05:15:15.779Z"
   },
   {
    "duration": 7,
    "start_time": "2022-02-14T05:15:16.137Z"
   },
   {
    "duration": 154,
    "start_time": "2022-02-14T05:15:16.158Z"
   },
   {
    "duration": 54,
    "start_time": "2022-02-14T05:15:16.314Z"
   },
   {
    "duration": 16,
    "start_time": "2022-02-14T05:15:16.370Z"
   }
  ],
  "kernelspec": {
   "display_name": "Python 3 (ipykernel)",
   "language": "python",
   "name": "python3"
  },
  "language_info": {
   "codemirror_mode": {
    "name": "ipython",
    "version": 3
   },
   "file_extension": ".py",
   "mimetype": "text/x-python",
   "name": "python",
   "nbconvert_exporter": "python",
   "pygments_lexer": "ipython3",
   "version": "3.9.12"
  },
  "toc": {
   "base_numbering": 1,
   "nav_menu": {},
   "number_sections": true,
   "sideBar": true,
   "skip_h1_title": true,
   "title_cell": "Table of Contents",
   "title_sidebar": "Contents",
   "toc_cell": false,
   "toc_position": {
    "height": "calc(100% - 180px)",
    "left": "10px",
    "top": "150px",
    "width": "331.388px"
   },
   "toc_section_display": true,
   "toc_window_display": false
  }
 },
 "nbformat": 4,
 "nbformat_minor": 5
}
