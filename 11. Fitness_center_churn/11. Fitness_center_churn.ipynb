{
 "cells": [
  {
   "cell_type": "markdown",
   "metadata": {},
   "source": [
    "# Проект № 11: Основы машинного обучения"
   ]
  },
  {
   "cell_type": "markdown",
   "metadata": {
    "toc": true
   },
   "source": [
    "<h1>Содержание<span class=\"tocSkip\"></span></h1>\n",
    "<div class=\"toc\"><ul class=\"toc-item\"><li><span><a href=\"#Описание-проекта\" data-toc-modified-id=\"Описание-проекта-1\"><span class=\"toc-item-num\">1&nbsp;&nbsp;</span>Описание проекта</a></span></li><li><span><a href=\"#Описание-данных\" data-toc-modified-id=\"Описание-данных-2\"><span class=\"toc-item-num\">2&nbsp;&nbsp;</span>Описание данных</a></span></li><li><span><a href=\"#Шаг-1.-Обзор-и-предобработка-данных\" data-toc-modified-id=\"Шаг-1.-Обзор-и-предобработка-данных-3\"><span class=\"toc-item-num\">3&nbsp;&nbsp;</span>Шаг 1. Обзор и предобработка данных</a></span><ul class=\"toc-item\"><li><span><a href=\"#Изучение-общей-информации-о-датасете\" data-toc-modified-id=\"Изучение-общей-информации-о-датасете-3.1\"><span class=\"toc-item-num\">3.1&nbsp;&nbsp;</span>Изучение общей информации о датасете</a></span></li><li><span><a href=\"#Предобработка-данных\" data-toc-modified-id=\"Предобработка-данных-3.2\"><span class=\"toc-item-num\">3.2&nbsp;&nbsp;</span>Предобработка данных</a></span></li></ul></li><li><span><a href=\"#Шаг-2.-Исследовательский-анализ-данных-(EDA)\" data-toc-modified-id=\"Шаг-2.-Исследовательский-анализ-данных-(EDA)-4\"><span class=\"toc-item-num\">4&nbsp;&nbsp;</span>Шаг 2. Исследовательский анализ данных (EDA)</a></span><ul class=\"toc-item\"><li><span><a href=\"#Изучение-средних-значений-и-стандартных-отклонений-признаков\" data-toc-modified-id=\"Изучение-средних-значений-и-стандартных-отклонений-признаков-4.1\"><span class=\"toc-item-num\">4.1&nbsp;&nbsp;</span>Изучение средних значений и стандартных отклонений признаков</a></span></li><li><span><a href=\"#Средние-значения-признаков-в-двух-группах-—-тех,-кто-ушёл-в-отток-и-тех,-кто-остался\" data-toc-modified-id=\"Средние-значения-признаков-в-двух-группах-—-тех,-кто-ушёл-в-отток-и-тех,-кто-остался-4.2\"><span class=\"toc-item-num\">4.2&nbsp;&nbsp;</span>Средние значения признаков в двух группах — тех, кто ушёл в отток и тех, кто остался</a></span></li><li><span><a href=\"#Построение-столбчатых-гистограмм-и-распределения-признаков-для-тех,-кто-ушёл-(отток)-и-тех,-кто-остался-(не-попали-в-отток)\" data-toc-modified-id=\"Построение-столбчатых-гистограмм-и-распределения-признаков-для-тех,-кто-ушёл-(отток)-и-тех,-кто-остался-(не-попали-в-отток)-4.3\"><span class=\"toc-item-num\">4.3&nbsp;&nbsp;</span>Построение столбчатых гистограмм и распределения признаков для тех, кто ушёл (отток) и тех, кто остался (не попали в отток)</a></span></li><li><span><a href=\"#Матрица-корреляций\" data-toc-modified-id=\"Матрица-корреляций-4.4\"><span class=\"toc-item-num\">4.4&nbsp;&nbsp;</span>Матрица корреляций</a></span></li></ul></li><li><span><a href=\"#Модель-прогнозирования-оттока-клиентов\" data-toc-modified-id=\"Модель-прогнозирования-оттока-клиентов-5\"><span class=\"toc-item-num\">5&nbsp;&nbsp;</span>Модель прогнозирования оттока клиентов</a></span><ul class=\"toc-item\"><li><span><a href=\"#Разбивка-данных-на-обучающую-и-валидационную-выборку-функцией-train_test_split()\" data-toc-modified-id=\"Разбивка-данных-на-обучающую-и-валидационную-выборку-функцией-train_test_split()-5.1\"><span class=\"toc-item-num\">5.1&nbsp;&nbsp;</span>Разбивка данных на обучающую и валидационную выборку функцией <code>train_test_split()</code></a></span></li><li><span><a href=\"#Обучение-модели-на-train-выборке-двумя-способами:\" data-toc-modified-id=\"Обучение-модели-на-train-выборке-двумя-способами:-5.2\"><span class=\"toc-item-num\">5.2&nbsp;&nbsp;</span>Обучение модели на train-выборке двумя способами:</a></span><ul class=\"toc-item\"><li><span><a href=\"#Логистическая-регрессия\" data-toc-modified-id=\"Логистическая-регрессия-5.2.1\"><span class=\"toc-item-num\">5.2.1&nbsp;&nbsp;</span>Логистическая регрессия</a></span></li><li><span><a href=\"#Случайный-лес\" data-toc-modified-id=\"Случайный-лес-5.2.2\"><span class=\"toc-item-num\">5.2.2&nbsp;&nbsp;</span>Случайный лес</a></span></li></ul></li><li><span><a href=\"#Метрики-accuracy,-precision-и-recall-для-обеих-моделей-на-валидационной-выборке\" data-toc-modified-id=\"Метрики-accuracy,-precision-и-recall-для-обеих-моделей-на-валидационной-выборке-5.3\"><span class=\"toc-item-num\">5.3&nbsp;&nbsp;</span>Метрики accuracy, precision и recall для обеих моделей на валидационной выборке</a></span></li></ul></li><li><span><a href=\"#Кластеризация-клиентов\" data-toc-modified-id=\"Кластеризация-клиентов-6\"><span class=\"toc-item-num\">6&nbsp;&nbsp;</span>Кластеризация клиентов</a></span><ul class=\"toc-item\"><li><span><a href=\"#Стандартизация-данных\" data-toc-modified-id=\"Стандартизация-данных-6.1\"><span class=\"toc-item-num\">6.1&nbsp;&nbsp;</span>Стандартизация данных</a></span></li><li><span><a href=\"#Матрица-расстояний-и-дендрограмма\" data-toc-modified-id=\"Матрица-расстояний-и-дендрограмма-6.2\"><span class=\"toc-item-num\">6.2&nbsp;&nbsp;</span>Матрица расстояний и дендрограмма</a></span></li><li><span><a href=\"#Обучение-модели-кластеризации-на-основании-алгоритма-K-Means,--прогноз-кластеров-клиентов\" data-toc-modified-id=\"Обучение-модели-кластеризации-на-основании-алгоритма-K-Means,--прогноз-кластеров-клиентов-6.3\"><span class=\"toc-item-num\">6.3&nbsp;&nbsp;</span>Обучение модели кластеризации на основании алгоритма K-Means,  прогноз кластеров клиентов</a></span></li><li><span><a href=\"#Средние-значения-признаков-для-кластеров\" data-toc-modified-id=\"Средние-значения-признаков-для-кластеров-6.4\"><span class=\"toc-item-num\">6.4&nbsp;&nbsp;</span>Средние значения признаков для кластеров</a></span></li><li><span><a href=\"#Распределения-признаков-для-кластеров\" data-toc-modified-id=\"Распределения-признаков-для-кластеров-6.5\"><span class=\"toc-item-num\">6.5&nbsp;&nbsp;</span>Распределения признаков для кластеров</a></span></li><li><span><a href=\"#Доля-оттока-для-каждого-полученного-кластера\" data-toc-modified-id=\"Доля-оттока-для-каждого-полученного-кластера-6.6\"><span class=\"toc-item-num\">6.6&nbsp;&nbsp;</span>Доля оттока для каждого полученного кластера</a></span></li></ul></li><li><span><a href=\"#Общие-выводы-и-базовые-рекомендации-по-работе-с-клиентами\" data-toc-modified-id=\"Общие-выводы-и-базовые-рекомендации-по-работе-с-клиентами-7\"><span class=\"toc-item-num\">7&nbsp;&nbsp;</span>Общие выводы и базовые рекомендации по работе с клиентами</a></span></li></ul></div>"
   ]
  },
  {
   "cell_type": "markdown",
   "metadata": {},
   "source": [
    "## Описание проекта"
   ]
  },
  {
   "cell_type": "markdown",
   "metadata": {},
   "source": [
    "Сеть фитнес-центров разрабатывает стратегию взаимодействия с клиентами на основе аналитических данных.\n",
    "\n",
    "Распространённая проблема фитнес-клубов и других сервисов — отток клиентов. Как понять, что клиент больше не с нами? Можно записать в отток тех, кто попросил закрыть договор или удалил аккаунт. Однако клиенты не всегда уходят демонстративно: чаще перестают пользоваться сервисом тихо.\n",
    "\n",
    "Для фитнес-центра можно считать, что клиент попал в отток, если за последний месяц ни разу не посетил спортзал. Конечно, не исключено, что он уехал на Бали и по приезде обязательно продолжит ходить на фитнес. Однако чаще бывает наоборот. Если клиент начал новую жизнь с понедельника, немного походил в спортзал, а потом пропал — скорее всего, он не вернётся.\n",
    "\n",
    "Чтобы бороться с оттоком, отдел по работе с клиентами «Культуриста-датасаентиста» перевёл в электронный вид множество клиентских анкет. \n",
    "\n",
    "**Наша задача** — провести анализ и подготовить план действий по удержанию клиентов.\n",
    "\n",
    "А именно:\n",
    "\n",
    "\n",
    "*   научиться прогнозировать вероятность оттока (на уровне следующего месяца) для каждого клиента;\n",
    "*   сформировать типичные портреты клиентов: выделить несколько наиболее ярких групп и охарактеризовать их основные свойства;\n",
    "*   проанализировать основные признаки, наиболее сильно влияющие на отток;\n",
    "*   сформулировать основные выводы и разработать рекомендации по повышению качества работы с клиентами:\n",
    "       - выделить целевые группы клиентов;\n",
    "       - предложить меры по снижению оттока;\n",
    "       - определить другие особенности взаимодействия с клиентами.\n"
   ]
  },
  {
   "cell_type": "markdown",
   "metadata": {},
   "source": [
    "## Описание данных"
   ]
  },
  {
   "cell_type": "markdown",
   "metadata": {},
   "source": [
    "Фитнес-клуб предоставил сведения в csv-файлах. Заказчик подготовил данные, которые содержат данные на месяц до оттока и факт оттока на определённый месяц. Набор данных включает следующие поля:\n",
    "\n",
    "* Данные клиента за предыдущий до проверки факта оттока месяц:\n",
    "   * `gender` — пол;\n",
    "   * `Near_Location` — проживание или работа в районе, где находится фитнес-центр;\n",
    "   * `Partner` — сотрудник компании-партнёра клуба (сотрудничество с компаниями, чьи сотрудники могут получать скидки на абонемент — в таком случае фитнес-центр хранит информацию о работодателе клиента);\n",
    "   *  `Promo_friends` — факт первоначальной записи в рамках акции «приведи друга» (использовал промо-код от знакомого при оплате первого абонемента);\n",
    "   * `Phone` — наличие контактного телефона;\n",
    "   * `Age` — возраст;\n",
    "   * `Lifetime` — время с момента первого обращения в фитнес-центр (в месяцах).\n",
    "\n",
    "* Информация на основе журнала посещений, покупок и информация о текущем статусе абонемента клиента:\n",
    "   * `Contract_period` — длительность текущего действующего абонемента (месяц, 6 месяцев, год);\n",
    "   * `Month_to_end_contract` — срок до окончания текущего действующего абонемента (в месяцах);\n",
    "   * `Group_visits` — факт посещения групповых занятий;\n",
    "   * `Avg_class_frequency_total` — средняя частота посещений в неделю за все время с начала действия абонемента;\n",
    "   * `Avg_class_frequency_current_month` — средняя частота посещений в неделю за предыдущий месяц;\n",
    "   * `Avg_additional_charges_total` — суммарная выручка от других услуг фитнес-центра: кафе, спорттовары, косметический и массажный салон;\n",
    "   * `Churn` — факт оттока в текущем месяце."
   ]
  },
  {
   "cell_type": "markdown",
   "metadata": {},
   "source": [
    "## Шаг 1. Обзор и предобработка данных"
   ]
  },
  {
   "cell_type": "markdown",
   "metadata": {},
   "source": [
    "### Изучение общей информации о датасете"
   ]
  },
  {
   "cell_type": "markdown",
   "metadata": {},
   "source": [
    "Импортируем необходимые для работы библиотеки:"
   ]
  },
  {
   "cell_type": "code",
   "execution_count": 1,
   "metadata": {},
   "outputs": [],
   "source": [
    "# для анализа данных\n",
    "import pandas as pd\n",
    "\n",
    "# для визуализации данных\n",
    "from matplotlib import pyplot as plt\n",
    "import seaborn as sns\n",
    "\n",
    "# для машинного обучения\n",
    "from sklearn.preprocessing import StandardScaler\n",
    "from sklearn.model_selection import train_test_split\n",
    "from sklearn.linear_model import LogisticRegression\n",
    "from sklearn.ensemble import RandomForestRegressor\n",
    "from sklearn.metrics import accuracy_score, precision_score, recall_score, f1_score, roc_auc_score\n",
    "from sklearn.ensemble import RandomForestClassifier\n",
    "from scipy.cluster.hierarchy import dendrogram, linkage\n",
    "from sklearn.cluster import KMeans\n",
    "\n",
    "# отключим показ предупреждений\n",
    "import warnings\n",
    "warnings.filterwarnings('ignore')"
   ]
  },
  {
   "cell_type": "code",
   "execution_count": 2,
   "metadata": {},
   "outputs": [],
   "source": [
    "# сохраним данные в переменную df\n",
    "try:\n",
    "    df = pd.read_csv('/datasets/gym_churn.csv')\n",
    "except:\n",
    "    df = pd.read_csv('gym_churn.csv')"
   ]
  },
  {
   "cell_type": "code",
   "execution_count": 3,
   "metadata": {},
   "outputs": [],
   "source": [
    "# функция для изучения общей информации о датасете \n",
    "def dataset_info(dataset):\n",
    "    print('\\033[1m' + 'Первые 5 строк датасета:' + '\\033[0m')\n",
    "    display(dataset.head())\n",
    "    print('\\033[1m' + 'Общая информация о датасете:' + '\\033[0m')\n",
    "    display(dataset.info())\n",
    "    print('\\033[1m' + 'Количество строк и столбцов:' + '\\033[0m')\n",
    "    display(dataset.shape)\n",
    "    print('\\033[1m' + 'Подсчёт пропусков в датасете:' + '\\033[0m')\n",
    "    display(pd.concat([dataset.isna().sum(), dataset.isna().mean()], axis=1)\\\n",
    "    .rename(columns={0:'Количество', 1:'Доля'})\\\n",
    "    .style.format({'Количество':'{:.0f}', 'Доля':'{:.1%}'}))\n",
    "    print('\\033[1m' + 'Наличие дубликатов в датасете:' + '\\033[0m')\n",
    "    display(dataset.duplicated().sum())\n",
    "    print('\\033[1m' + 'Доля дубликатов в датасете:' + '\\033[0m')\n",
    "    display(\"{:.2%}\".format(dataset.duplicated().sum() / len(dataset), 2))\n",
    "    print('\\033[1m' + 'Уникальные значения в датасете:' + '\\033[0m')\n",
    "    display(dataset.nunique())"
   ]
  },
  {
   "cell_type": "code",
   "execution_count": 4,
   "metadata": {},
   "outputs": [
    {
     "name": "stdout",
     "output_type": "stream",
     "text": [
      "\u001b[1mПервые 5 строк датасета:\u001b[0m\n"
     ]
    },
    {
     "data": {
      "text/html": [
       "<div>\n",
       "<style scoped>\n",
       "    .dataframe tbody tr th:only-of-type {\n",
       "        vertical-align: middle;\n",
       "    }\n",
       "\n",
       "    .dataframe tbody tr th {\n",
       "        vertical-align: top;\n",
       "    }\n",
       "\n",
       "    .dataframe thead th {\n",
       "        text-align: right;\n",
       "    }\n",
       "</style>\n",
       "<table border=\"1\" class=\"dataframe\">\n",
       "  <thead>\n",
       "    <tr style=\"text-align: right;\">\n",
       "      <th></th>\n",
       "      <th>gender</th>\n",
       "      <th>Near_Location</th>\n",
       "      <th>Partner</th>\n",
       "      <th>Promo_friends</th>\n",
       "      <th>Phone</th>\n",
       "      <th>Contract_period</th>\n",
       "      <th>Group_visits</th>\n",
       "      <th>Age</th>\n",
       "      <th>Avg_additional_charges_total</th>\n",
       "      <th>Month_to_end_contract</th>\n",
       "      <th>Lifetime</th>\n",
       "      <th>Avg_class_frequency_total</th>\n",
       "      <th>Avg_class_frequency_current_month</th>\n",
       "      <th>Churn</th>\n",
       "    </tr>\n",
       "  </thead>\n",
       "  <tbody>\n",
       "    <tr>\n",
       "      <th>0</th>\n",
       "      <td>1</td>\n",
       "      <td>1</td>\n",
       "      <td>1</td>\n",
       "      <td>1</td>\n",
       "      <td>0</td>\n",
       "      <td>6</td>\n",
       "      <td>1</td>\n",
       "      <td>29</td>\n",
       "      <td>14.227470</td>\n",
       "      <td>5.0</td>\n",
       "      <td>3</td>\n",
       "      <td>0.020398</td>\n",
       "      <td>0.000000</td>\n",
       "      <td>0</td>\n",
       "    </tr>\n",
       "    <tr>\n",
       "      <th>1</th>\n",
       "      <td>0</td>\n",
       "      <td>1</td>\n",
       "      <td>0</td>\n",
       "      <td>0</td>\n",
       "      <td>1</td>\n",
       "      <td>12</td>\n",
       "      <td>1</td>\n",
       "      <td>31</td>\n",
       "      <td>113.202938</td>\n",
       "      <td>12.0</td>\n",
       "      <td>7</td>\n",
       "      <td>1.922936</td>\n",
       "      <td>1.910244</td>\n",
       "      <td>0</td>\n",
       "    </tr>\n",
       "    <tr>\n",
       "      <th>2</th>\n",
       "      <td>0</td>\n",
       "      <td>1</td>\n",
       "      <td>1</td>\n",
       "      <td>0</td>\n",
       "      <td>1</td>\n",
       "      <td>1</td>\n",
       "      <td>0</td>\n",
       "      <td>28</td>\n",
       "      <td>129.448479</td>\n",
       "      <td>1.0</td>\n",
       "      <td>2</td>\n",
       "      <td>1.859098</td>\n",
       "      <td>1.736502</td>\n",
       "      <td>0</td>\n",
       "    </tr>\n",
       "    <tr>\n",
       "      <th>3</th>\n",
       "      <td>0</td>\n",
       "      <td>1</td>\n",
       "      <td>1</td>\n",
       "      <td>1</td>\n",
       "      <td>1</td>\n",
       "      <td>12</td>\n",
       "      <td>1</td>\n",
       "      <td>33</td>\n",
       "      <td>62.669863</td>\n",
       "      <td>12.0</td>\n",
       "      <td>2</td>\n",
       "      <td>3.205633</td>\n",
       "      <td>3.357215</td>\n",
       "      <td>0</td>\n",
       "    </tr>\n",
       "    <tr>\n",
       "      <th>4</th>\n",
       "      <td>1</td>\n",
       "      <td>1</td>\n",
       "      <td>1</td>\n",
       "      <td>1</td>\n",
       "      <td>1</td>\n",
       "      <td>1</td>\n",
       "      <td>0</td>\n",
       "      <td>26</td>\n",
       "      <td>198.362265</td>\n",
       "      <td>1.0</td>\n",
       "      <td>3</td>\n",
       "      <td>1.113884</td>\n",
       "      <td>1.120078</td>\n",
       "      <td>0</td>\n",
       "    </tr>\n",
       "  </tbody>\n",
       "</table>\n",
       "</div>"
      ],
      "text/plain": [
       "   gender  Near_Location  Partner  Promo_friends  Phone  Contract_period  \\\n",
       "0       1              1        1              1      0                6   \n",
       "1       0              1        0              0      1               12   \n",
       "2       0              1        1              0      1                1   \n",
       "3       0              1        1              1      1               12   \n",
       "4       1              1        1              1      1                1   \n",
       "\n",
       "   Group_visits  Age  Avg_additional_charges_total  Month_to_end_contract  \\\n",
       "0             1   29                     14.227470                    5.0   \n",
       "1             1   31                    113.202938                   12.0   \n",
       "2             0   28                    129.448479                    1.0   \n",
       "3             1   33                     62.669863                   12.0   \n",
       "4             0   26                    198.362265                    1.0   \n",
       "\n",
       "   Lifetime  Avg_class_frequency_total  Avg_class_frequency_current_month  \\\n",
       "0         3                   0.020398                           0.000000   \n",
       "1         7                   1.922936                           1.910244   \n",
       "2         2                   1.859098                           1.736502   \n",
       "3         2                   3.205633                           3.357215   \n",
       "4         3                   1.113884                           1.120078   \n",
       "\n",
       "   Churn  \n",
       "0      0  \n",
       "1      0  \n",
       "2      0  \n",
       "3      0  \n",
       "4      0  "
      ]
     },
     "metadata": {},
     "output_type": "display_data"
    },
    {
     "name": "stdout",
     "output_type": "stream",
     "text": [
      "\u001b[1mОбщая информация о датасете:\u001b[0m\n",
      "<class 'pandas.core.frame.DataFrame'>\n",
      "RangeIndex: 4000 entries, 0 to 3999\n",
      "Data columns (total 14 columns):\n",
      " #   Column                             Non-Null Count  Dtype  \n",
      "---  ------                             --------------  -----  \n",
      " 0   gender                             4000 non-null   int64  \n",
      " 1   Near_Location                      4000 non-null   int64  \n",
      " 2   Partner                            4000 non-null   int64  \n",
      " 3   Promo_friends                      4000 non-null   int64  \n",
      " 4   Phone                              4000 non-null   int64  \n",
      " 5   Contract_period                    4000 non-null   int64  \n",
      " 6   Group_visits                       4000 non-null   int64  \n",
      " 7   Age                                4000 non-null   int64  \n",
      " 8   Avg_additional_charges_total       4000 non-null   float64\n",
      " 9   Month_to_end_contract              4000 non-null   float64\n",
      " 10  Lifetime                           4000 non-null   int64  \n",
      " 11  Avg_class_frequency_total          4000 non-null   float64\n",
      " 12  Avg_class_frequency_current_month  4000 non-null   float64\n",
      " 13  Churn                              4000 non-null   int64  \n",
      "dtypes: float64(4), int64(10)\n",
      "memory usage: 437.6 KB\n"
     ]
    },
    {
     "data": {
      "text/plain": [
       "None"
      ]
     },
     "metadata": {},
     "output_type": "display_data"
    },
    {
     "name": "stdout",
     "output_type": "stream",
     "text": [
      "\u001b[1mКоличество строк и столбцов:\u001b[0m\n"
     ]
    },
    {
     "data": {
      "text/plain": [
       "(4000, 14)"
      ]
     },
     "metadata": {},
     "output_type": "display_data"
    },
    {
     "name": "stdout",
     "output_type": "stream",
     "text": [
      "\u001b[1mПодсчёт пропусков в датасете:\u001b[0m\n"
     ]
    },
    {
     "data": {
      "text/html": [
       "<style type=\"text/css\">\n",
       "</style>\n",
       "<table id=\"T_402df\">\n",
       "  <thead>\n",
       "    <tr>\n",
       "      <th class=\"blank level0\" >&nbsp;</th>\n",
       "      <th id=\"T_402df_level0_col0\" class=\"col_heading level0 col0\" >Количество</th>\n",
       "      <th id=\"T_402df_level0_col1\" class=\"col_heading level0 col1\" >Доля</th>\n",
       "    </tr>\n",
       "  </thead>\n",
       "  <tbody>\n",
       "    <tr>\n",
       "      <th id=\"T_402df_level0_row0\" class=\"row_heading level0 row0\" >gender</th>\n",
       "      <td id=\"T_402df_row0_col0\" class=\"data row0 col0\" >0</td>\n",
       "      <td id=\"T_402df_row0_col1\" class=\"data row0 col1\" >0.0%</td>\n",
       "    </tr>\n",
       "    <tr>\n",
       "      <th id=\"T_402df_level0_row1\" class=\"row_heading level0 row1\" >Near_Location</th>\n",
       "      <td id=\"T_402df_row1_col0\" class=\"data row1 col0\" >0</td>\n",
       "      <td id=\"T_402df_row1_col1\" class=\"data row1 col1\" >0.0%</td>\n",
       "    </tr>\n",
       "    <tr>\n",
       "      <th id=\"T_402df_level0_row2\" class=\"row_heading level0 row2\" >Partner</th>\n",
       "      <td id=\"T_402df_row2_col0\" class=\"data row2 col0\" >0</td>\n",
       "      <td id=\"T_402df_row2_col1\" class=\"data row2 col1\" >0.0%</td>\n",
       "    </tr>\n",
       "    <tr>\n",
       "      <th id=\"T_402df_level0_row3\" class=\"row_heading level0 row3\" >Promo_friends</th>\n",
       "      <td id=\"T_402df_row3_col0\" class=\"data row3 col0\" >0</td>\n",
       "      <td id=\"T_402df_row3_col1\" class=\"data row3 col1\" >0.0%</td>\n",
       "    </tr>\n",
       "    <tr>\n",
       "      <th id=\"T_402df_level0_row4\" class=\"row_heading level0 row4\" >Phone</th>\n",
       "      <td id=\"T_402df_row4_col0\" class=\"data row4 col0\" >0</td>\n",
       "      <td id=\"T_402df_row4_col1\" class=\"data row4 col1\" >0.0%</td>\n",
       "    </tr>\n",
       "    <tr>\n",
       "      <th id=\"T_402df_level0_row5\" class=\"row_heading level0 row5\" >Contract_period</th>\n",
       "      <td id=\"T_402df_row5_col0\" class=\"data row5 col0\" >0</td>\n",
       "      <td id=\"T_402df_row5_col1\" class=\"data row5 col1\" >0.0%</td>\n",
       "    </tr>\n",
       "    <tr>\n",
       "      <th id=\"T_402df_level0_row6\" class=\"row_heading level0 row6\" >Group_visits</th>\n",
       "      <td id=\"T_402df_row6_col0\" class=\"data row6 col0\" >0</td>\n",
       "      <td id=\"T_402df_row6_col1\" class=\"data row6 col1\" >0.0%</td>\n",
       "    </tr>\n",
       "    <tr>\n",
       "      <th id=\"T_402df_level0_row7\" class=\"row_heading level0 row7\" >Age</th>\n",
       "      <td id=\"T_402df_row7_col0\" class=\"data row7 col0\" >0</td>\n",
       "      <td id=\"T_402df_row7_col1\" class=\"data row7 col1\" >0.0%</td>\n",
       "    </tr>\n",
       "    <tr>\n",
       "      <th id=\"T_402df_level0_row8\" class=\"row_heading level0 row8\" >Avg_additional_charges_total</th>\n",
       "      <td id=\"T_402df_row8_col0\" class=\"data row8 col0\" >0</td>\n",
       "      <td id=\"T_402df_row8_col1\" class=\"data row8 col1\" >0.0%</td>\n",
       "    </tr>\n",
       "    <tr>\n",
       "      <th id=\"T_402df_level0_row9\" class=\"row_heading level0 row9\" >Month_to_end_contract</th>\n",
       "      <td id=\"T_402df_row9_col0\" class=\"data row9 col0\" >0</td>\n",
       "      <td id=\"T_402df_row9_col1\" class=\"data row9 col1\" >0.0%</td>\n",
       "    </tr>\n",
       "    <tr>\n",
       "      <th id=\"T_402df_level0_row10\" class=\"row_heading level0 row10\" >Lifetime</th>\n",
       "      <td id=\"T_402df_row10_col0\" class=\"data row10 col0\" >0</td>\n",
       "      <td id=\"T_402df_row10_col1\" class=\"data row10 col1\" >0.0%</td>\n",
       "    </tr>\n",
       "    <tr>\n",
       "      <th id=\"T_402df_level0_row11\" class=\"row_heading level0 row11\" >Avg_class_frequency_total</th>\n",
       "      <td id=\"T_402df_row11_col0\" class=\"data row11 col0\" >0</td>\n",
       "      <td id=\"T_402df_row11_col1\" class=\"data row11 col1\" >0.0%</td>\n",
       "    </tr>\n",
       "    <tr>\n",
       "      <th id=\"T_402df_level0_row12\" class=\"row_heading level0 row12\" >Avg_class_frequency_current_month</th>\n",
       "      <td id=\"T_402df_row12_col0\" class=\"data row12 col0\" >0</td>\n",
       "      <td id=\"T_402df_row12_col1\" class=\"data row12 col1\" >0.0%</td>\n",
       "    </tr>\n",
       "    <tr>\n",
       "      <th id=\"T_402df_level0_row13\" class=\"row_heading level0 row13\" >Churn</th>\n",
       "      <td id=\"T_402df_row13_col0\" class=\"data row13 col0\" >0</td>\n",
       "      <td id=\"T_402df_row13_col1\" class=\"data row13 col1\" >0.0%</td>\n",
       "    </tr>\n",
       "  </tbody>\n",
       "</table>\n"
      ],
      "text/plain": [
       "<pandas.io.formats.style.Styler at 0x134af6e2400>"
      ]
     },
     "metadata": {},
     "output_type": "display_data"
    },
    {
     "name": "stdout",
     "output_type": "stream",
     "text": [
      "\u001b[1mНаличие дубликатов в датасете:\u001b[0m\n"
     ]
    },
    {
     "data": {
      "text/plain": [
       "0"
      ]
     },
     "metadata": {},
     "output_type": "display_data"
    },
    {
     "name": "stdout",
     "output_type": "stream",
     "text": [
      "\u001b[1mДоля дубликатов в датасете:\u001b[0m\n"
     ]
    },
    {
     "data": {
      "text/plain": [
       "'0.00%'"
      ]
     },
     "metadata": {},
     "output_type": "display_data"
    },
    {
     "name": "stdout",
     "output_type": "stream",
     "text": [
      "\u001b[1mУникальные значения в датасете:\u001b[0m\n"
     ]
    },
    {
     "data": {
      "text/plain": [
       "gender                                  2\n",
       "Near_Location                           2\n",
       "Partner                                 2\n",
       "Promo_friends                           2\n",
       "Phone                                   2\n",
       "Contract_period                         3\n",
       "Group_visits                            2\n",
       "Age                                    23\n",
       "Avg_additional_charges_total         4000\n",
       "Month_to_end_contract                  12\n",
       "Lifetime                               29\n",
       "Avg_class_frequency_total            3913\n",
       "Avg_class_frequency_current_month    3820\n",
       "Churn                                   2\n",
       "dtype: int64"
      ]
     },
     "metadata": {},
     "output_type": "display_data"
    }
   ],
   "source": [
    "# посмотрим общую информацию о датасете\n",
    "dataset_info(df)"
   ]
  },
  {
   "cell_type": "markdown",
   "metadata": {},
   "source": [
    "### Предобработка данных"
   ]
  },
  {
   "cell_type": "code",
   "execution_count": 5,
   "metadata": {},
   "outputs": [
    {
     "data": {
      "text/plain": [
       "Index(['gender', 'near_location', 'partner', 'promo_friends', 'phone',\n",
       "       'contract_period', 'group_visits', 'age',\n",
       "       'avg_additional_charges_total', 'month_to_end_contract', 'lifetime',\n",
       "       'avg_class_frequency_total', 'avg_class_frequency_current_month',\n",
       "       'churn'],\n",
       "      dtype='object')"
      ]
     },
     "execution_count": 5,
     "metadata": {},
     "output_type": "execute_result"
    }
   ],
   "source": [
    "# приведём названия столбцов к нижнему регистру \n",
    "df.columns = df.columns.str.lower()\n",
    "df.columns"
   ]
  },
  {
   "cell_type": "code",
   "execution_count": 6,
   "metadata": {},
   "outputs": [
    {
     "data": {
      "text/plain": [
       "1.0     2207\n",
       "6.0      645\n",
       "12.0     524\n",
       "11.0     181\n",
       "5.0      130\n",
       "10.0      82\n",
       "9.0       73\n",
       "4.0       58\n",
       "8.0       38\n",
       "7.0       25\n",
       "3.0       23\n",
       "2.0       14\n",
       "Name: month_to_end_contract, dtype: int64"
      ]
     },
     "execution_count": 6,
     "metadata": {},
     "output_type": "execute_result"
    }
   ],
   "source": [
    "# посмотрим значения столбца со сроком окончания действия абонемента\n",
    "df['month_to_end_contract'].value_counts()"
   ]
  },
  {
   "cell_type": "code",
   "execution_count": 7,
   "metadata": {},
   "outputs": [
    {
     "data": {
      "text/plain": [
       "0        5\n",
       "1       12\n",
       "2        1\n",
       "3       12\n",
       "4        1\n",
       "        ..\n",
       "3995    12\n",
       "3996     1\n",
       "3997    11\n",
       "3998     5\n",
       "3999    12\n",
       "Name: month_to_end_contract, Length: 4000, dtype: int32"
      ]
     },
     "execution_count": 7,
     "metadata": {},
     "output_type": "execute_result"
    }
   ],
   "source": [
    "# приведём значения столбца к целочисленному типу данных\n",
    "df['month_to_end_contract'].astype(int)"
   ]
  },
  {
   "cell_type": "markdown",
   "metadata": {},
   "source": [
    "В датасете содержится 14 столбцов и 4000 записей.\n",
    "\n",
    "Проведён обзор данных и проверка наличия дубликатов и пропусков, выполнена предобработка данных:\n",
    "\n",
    "* дубликаты и пропуски в датасете отсутствуют;\n",
    "* названия столбцов приведены к нижнему регистру для удобства в работе;\n",
    "* изменён тип данных с **float** на **int** в столбце `month_to_end_contract`, так как количество месяцев во всех записях является целым;\n",
    "* проверено количество уникальных значений в столбцах - их количество соответствует предоставленному описанию данных."
   ]
  },
  {
   "cell_type": "markdown",
   "metadata": {},
   "source": [
    "## Шаг 2. Исследовательский анализ данных (EDA)"
   ]
  },
  {
   "cell_type": "markdown",
   "metadata": {},
   "source": [
    "### Изучение средних значений и стандартных отклонений признаков"
   ]
  },
  {
   "cell_type": "markdown",
   "metadata": {},
   "source": [
    "Посмотрим на датасет: есть ли в нем отсутствующие признаки, изучим средние значения и стандартные отклонения."
   ]
  },
  {
   "cell_type": "code",
   "execution_count": 8,
   "metadata": {},
   "outputs": [
    {
     "data": {
      "text/html": [
       "<div>\n",
       "<style scoped>\n",
       "    .dataframe tbody tr th:only-of-type {\n",
       "        vertical-align: middle;\n",
       "    }\n",
       "\n",
       "    .dataframe tbody tr th {\n",
       "        vertical-align: top;\n",
       "    }\n",
       "\n",
       "    .dataframe thead th {\n",
       "        text-align: right;\n",
       "    }\n",
       "</style>\n",
       "<table border=\"1\" class=\"dataframe\">\n",
       "  <thead>\n",
       "    <tr style=\"text-align: right;\">\n",
       "      <th></th>\n",
       "      <th>gender</th>\n",
       "      <th>near_location</th>\n",
       "      <th>partner</th>\n",
       "      <th>promo_friends</th>\n",
       "      <th>phone</th>\n",
       "      <th>contract_period</th>\n",
       "      <th>group_visits</th>\n",
       "      <th>age</th>\n",
       "      <th>avg_additional_charges_total</th>\n",
       "      <th>month_to_end_contract</th>\n",
       "      <th>lifetime</th>\n",
       "      <th>avg_class_frequency_total</th>\n",
       "      <th>avg_class_frequency_current_month</th>\n",
       "      <th>churn</th>\n",
       "    </tr>\n",
       "  </thead>\n",
       "  <tbody>\n",
       "    <tr>\n",
       "      <th>count</th>\n",
       "      <td>4000.000000</td>\n",
       "      <td>4000.000000</td>\n",
       "      <td>4000.000000</td>\n",
       "      <td>4000.000000</td>\n",
       "      <td>4000.000000</td>\n",
       "      <td>4000.000000</td>\n",
       "      <td>4000.000000</td>\n",
       "      <td>4000.000000</td>\n",
       "      <td>4000.000000</td>\n",
       "      <td>4000.000000</td>\n",
       "      <td>4000.000000</td>\n",
       "      <td>4000.000000</td>\n",
       "      <td>4000.000000</td>\n",
       "      <td>4000.000000</td>\n",
       "    </tr>\n",
       "    <tr>\n",
       "      <th>mean</th>\n",
       "      <td>0.510250</td>\n",
       "      <td>0.845250</td>\n",
       "      <td>0.486750</td>\n",
       "      <td>0.308500</td>\n",
       "      <td>0.903500</td>\n",
       "      <td>4.681250</td>\n",
       "      <td>0.412250</td>\n",
       "      <td>29.184250</td>\n",
       "      <td>146.943728</td>\n",
       "      <td>4.322750</td>\n",
       "      <td>3.724750</td>\n",
       "      <td>1.879020</td>\n",
       "      <td>1.767052</td>\n",
       "      <td>0.265250</td>\n",
       "    </tr>\n",
       "    <tr>\n",
       "      <th>std</th>\n",
       "      <td>0.499957</td>\n",
       "      <td>0.361711</td>\n",
       "      <td>0.499887</td>\n",
       "      <td>0.461932</td>\n",
       "      <td>0.295313</td>\n",
       "      <td>4.549706</td>\n",
       "      <td>0.492301</td>\n",
       "      <td>3.258367</td>\n",
       "      <td>96.355602</td>\n",
       "      <td>4.191297</td>\n",
       "      <td>3.749267</td>\n",
       "      <td>0.972245</td>\n",
       "      <td>1.052906</td>\n",
       "      <td>0.441521</td>\n",
       "    </tr>\n",
       "    <tr>\n",
       "      <th>min</th>\n",
       "      <td>0.000000</td>\n",
       "      <td>0.000000</td>\n",
       "      <td>0.000000</td>\n",
       "      <td>0.000000</td>\n",
       "      <td>0.000000</td>\n",
       "      <td>1.000000</td>\n",
       "      <td>0.000000</td>\n",
       "      <td>18.000000</td>\n",
       "      <td>0.148205</td>\n",
       "      <td>1.000000</td>\n",
       "      <td>0.000000</td>\n",
       "      <td>0.000000</td>\n",
       "      <td>0.000000</td>\n",
       "      <td>0.000000</td>\n",
       "    </tr>\n",
       "    <tr>\n",
       "      <th>25%</th>\n",
       "      <td>0.000000</td>\n",
       "      <td>1.000000</td>\n",
       "      <td>0.000000</td>\n",
       "      <td>0.000000</td>\n",
       "      <td>1.000000</td>\n",
       "      <td>1.000000</td>\n",
       "      <td>0.000000</td>\n",
       "      <td>27.000000</td>\n",
       "      <td>68.868830</td>\n",
       "      <td>1.000000</td>\n",
       "      <td>1.000000</td>\n",
       "      <td>1.180875</td>\n",
       "      <td>0.963003</td>\n",
       "      <td>0.000000</td>\n",
       "    </tr>\n",
       "    <tr>\n",
       "      <th>50%</th>\n",
       "      <td>1.000000</td>\n",
       "      <td>1.000000</td>\n",
       "      <td>0.000000</td>\n",
       "      <td>0.000000</td>\n",
       "      <td>1.000000</td>\n",
       "      <td>1.000000</td>\n",
       "      <td>0.000000</td>\n",
       "      <td>29.000000</td>\n",
       "      <td>136.220159</td>\n",
       "      <td>1.000000</td>\n",
       "      <td>3.000000</td>\n",
       "      <td>1.832768</td>\n",
       "      <td>1.719574</td>\n",
       "      <td>0.000000</td>\n",
       "    </tr>\n",
       "    <tr>\n",
       "      <th>75%</th>\n",
       "      <td>1.000000</td>\n",
       "      <td>1.000000</td>\n",
       "      <td>1.000000</td>\n",
       "      <td>1.000000</td>\n",
       "      <td>1.000000</td>\n",
       "      <td>6.000000</td>\n",
       "      <td>1.000000</td>\n",
       "      <td>31.000000</td>\n",
       "      <td>210.949625</td>\n",
       "      <td>6.000000</td>\n",
       "      <td>5.000000</td>\n",
       "      <td>2.536078</td>\n",
       "      <td>2.510336</td>\n",
       "      <td>1.000000</td>\n",
       "    </tr>\n",
       "    <tr>\n",
       "      <th>max</th>\n",
       "      <td>1.000000</td>\n",
       "      <td>1.000000</td>\n",
       "      <td>1.000000</td>\n",
       "      <td>1.000000</td>\n",
       "      <td>1.000000</td>\n",
       "      <td>12.000000</td>\n",
       "      <td>1.000000</td>\n",
       "      <td>41.000000</td>\n",
       "      <td>552.590740</td>\n",
       "      <td>12.000000</td>\n",
       "      <td>31.000000</td>\n",
       "      <td>6.023668</td>\n",
       "      <td>6.146783</td>\n",
       "      <td>1.000000</td>\n",
       "    </tr>\n",
       "  </tbody>\n",
       "</table>\n",
       "</div>"
      ],
      "text/plain": [
       "            gender  near_location      partner  promo_friends        phone  \\\n",
       "count  4000.000000    4000.000000  4000.000000    4000.000000  4000.000000   \n",
       "mean      0.510250       0.845250     0.486750       0.308500     0.903500   \n",
       "std       0.499957       0.361711     0.499887       0.461932     0.295313   \n",
       "min       0.000000       0.000000     0.000000       0.000000     0.000000   \n",
       "25%       0.000000       1.000000     0.000000       0.000000     1.000000   \n",
       "50%       1.000000       1.000000     0.000000       0.000000     1.000000   \n",
       "75%       1.000000       1.000000     1.000000       1.000000     1.000000   \n",
       "max       1.000000       1.000000     1.000000       1.000000     1.000000   \n",
       "\n",
       "       contract_period  group_visits          age  \\\n",
       "count      4000.000000   4000.000000  4000.000000   \n",
       "mean          4.681250      0.412250    29.184250   \n",
       "std           4.549706      0.492301     3.258367   \n",
       "min           1.000000      0.000000    18.000000   \n",
       "25%           1.000000      0.000000    27.000000   \n",
       "50%           1.000000      0.000000    29.000000   \n",
       "75%           6.000000      1.000000    31.000000   \n",
       "max          12.000000      1.000000    41.000000   \n",
       "\n",
       "       avg_additional_charges_total  month_to_end_contract     lifetime  \\\n",
       "count                   4000.000000            4000.000000  4000.000000   \n",
       "mean                     146.943728               4.322750     3.724750   \n",
       "std                       96.355602               4.191297     3.749267   \n",
       "min                        0.148205               1.000000     0.000000   \n",
       "25%                       68.868830               1.000000     1.000000   \n",
       "50%                      136.220159               1.000000     3.000000   \n",
       "75%                      210.949625               6.000000     5.000000   \n",
       "max                      552.590740              12.000000    31.000000   \n",
       "\n",
       "       avg_class_frequency_total  avg_class_frequency_current_month  \\\n",
       "count                4000.000000                        4000.000000   \n",
       "mean                    1.879020                           1.767052   \n",
       "std                     0.972245                           1.052906   \n",
       "min                     0.000000                           0.000000   \n",
       "25%                     1.180875                           0.963003   \n",
       "50%                     1.832768                           1.719574   \n",
       "75%                     2.536078                           2.510336   \n",
       "max                     6.023668                           6.146783   \n",
       "\n",
       "             churn  \n",
       "count  4000.000000  \n",
       "mean      0.265250  \n",
       "std       0.441521  \n",
       "min       0.000000  \n",
       "25%       0.000000  \n",
       "50%       0.000000  \n",
       "75%       1.000000  \n",
       "max       1.000000  "
      ]
     },
     "execution_count": 8,
     "metadata": {},
     "output_type": "execute_result"
    }
   ],
   "source": [
    "# посмотрим статистические показатели датасета\n",
    "df.describe()"
   ]
  },
  {
   "cell_type": "markdown",
   "metadata": {},
   "source": [
    "По данной таблице можно сделать следующие выводы:\n",
    "\n",
    "* **`gender (пол)`** Cреднее значение - 0.51, стандартное отклонение - 0.50. Значит, в среднем мужчин и женщин примерно одинаковое количество;\n",
    "* **`near_location (проживание или работа в районе, где находится фитнес-центр)`** Cреднее значение - 0.85, стандартное отклонение - 0.36. Большая часть клиентов в среднем предпочитает фитнес-клуб рядом с местом проживания или работы. Мало кому захочется тратить время на дорогу, чтобы позаниматься спортом; \n",
    "* **`partner (сотрудник компании-партнёра клуба)`** Cреднее значение - 0.51, стандартное отклонение - 0.50. Половина клиентов в среднем является сотрудниками компаний, с которыми фитнес-клуб договорился о скидке;\n",
    "* **`promo_friends (акция «приведи друга»)`** Cреднее значение - 0.31, стандартное отклонение - 0.46. В 31% случаев клиент в среднем использовал промо-код от знакомого при оплате первого абонемента;\n",
    "* **`phone (наличие контактного телефона)`** Cреднее значение - 0.90, стандартное отклонение - 0.30. В наше время большая часть людей имеет мобильный телефон. Удобно, если хочешь узнавать о скидках, или например, могут сообщить о санитарных днях или что заканчивается срок действия абонемента;\n",
    "* **`contract_period (длительность текущего действующего абонемента)`** Cреднее значение - 4.68, стандартное отклонение - 4,55. Так как в столбце есть абонементы на 1 месяц, 6 месяцев и 1 год, то можно сделать вывод, что годовой абонемент в среднем не пользуется большой популярностью. Возможно, люди предпочитают готовится к лету и хотят поддерживать себя в форме в течение зимы, когда нет возможности заниматься на свежем воздухе, либо просто хотят попробовать что-то новое в своей жизни;\n",
    "* **`group_visits (факт посещения групповых занятий)`** Cреднее значение - 0.41, стандартное отклонение - 0.49. Примерно 59% клиентов в среднем групповые занятия не посещают, а предпочитают заниматься самостоятельно, либо с персональным инструктором;\n",
    "* **`age (возраст)`** Cреднее значение - 29.18, стандартное отклонение - 3.26. Среди людей большое количество достаточно молодых людей;\n",
    "* **`avg_additional_charges_total (суммарная выручка от других услуг фитнес-центра)`** Cреднее значение - 146.94, стандартное отклонение - 96.36;\n",
    "* **`month_to_end_contract (срок до окончания текущего действующего абонемента)`** Cреднее значение - 4.32, стандартное отклонение - 4.19;\n",
    "* **`lifetime (время с момента первого обращения в фитнес-центр, в месяцах)`** Cреднее значение - 3.72, стандартное отклонение - 3.75;\n",
    "* **`avg_class_frequency_total (средняя частота посещений в неделю за все время с начала действия абонемента)`** Cреднее значение - 1.88, стандартное отклонение - 0.97;\n",
    "* **`avg_class_frequency_current_month (средняя частота посещений в неделю за предыдущий месяц)`** Cреднее значение - 1.77, стандартное отклонение - 1.05. В среднем фитнес-клуб посещают почти 2 раза в неделю;\n",
    "* **`churn (факт оттока в текущем месяце)`** Cреднее значение - 0.27, стандартное отклонение - 0.44. Отток на первый взгляд выглядит не катастрофическим, в среднем около 27%. Но и такие значения не самый маленький результат. В дальнейшем, нам необходимо будет проанализировать основные признаки, наиболее сильно влияющие на отток и сформировать рекомендации по снижению оттока клиентов из нашего фитнес-клуба.\n",
    "\n",
    "В целом, данные равномерные, стандартные отклонения не очень далеки от средних, поэтому не похоже, что есть выбросы.\n",
    " \n",
    "Можно отметить, что все представленные метрики делятся на три типа переменных:\n",
    "\n",
    "1. **Бинарные (присутствует только два варианта значения):**`gender, near_location, partner, promo_friends, phone, group_visits,  churn`. По причине того, что описание данных не содержит расшифровку бинарных значений, то будем считать, что 0 - это значит «нет», а 1 - значит «да». В случае с распределением по полу будем считать, что 0 - женщины, 1 - мужчины.\n",
    "2. **Категориальные (если вариантов больше двух):**`contract_period`.\n",
    "3. **Количественные (целочисленные и непрерывные):** `avg_additional_charges_total, age, month_to_end_contract, lifetime, avg_class_frequency_total, avg_class_frequency_current_month`."
   ]
  },
  {
   "cell_type": "markdown",
   "metadata": {},
   "source": [
    "### Средние значения признаков в двух группах — тех, кто ушёл в отток и тех, кто остался"
   ]
  },
  {
   "cell_type": "markdown",
   "metadata": {},
   "source": [
    "Посмотрим на средние значения признаков в двух группах — тех, кто ушёл в отток и тех, кто остался (воспользуемся методом `groupby()`)."
   ]
  },
  {
   "cell_type": "code",
   "execution_count": 9,
   "metadata": {
    "scrolled": true
   },
   "outputs": [
    {
     "data": {
      "text/html": [
       "<div>\n",
       "<style scoped>\n",
       "    .dataframe tbody tr th:only-of-type {\n",
       "        vertical-align: middle;\n",
       "    }\n",
       "\n",
       "    .dataframe tbody tr th {\n",
       "        vertical-align: top;\n",
       "    }\n",
       "\n",
       "    .dataframe thead th {\n",
       "        text-align: right;\n",
       "    }\n",
       "</style>\n",
       "<table border=\"1\" class=\"dataframe\">\n",
       "  <thead>\n",
       "    <tr style=\"text-align: right;\">\n",
       "      <th>churn</th>\n",
       "      <th>0</th>\n",
       "      <th>1</th>\n",
       "    </tr>\n",
       "  </thead>\n",
       "  <tbody>\n",
       "    <tr>\n",
       "      <th>gender</th>\n",
       "      <td>0.510037</td>\n",
       "      <td>0.510839</td>\n",
       "    </tr>\n",
       "    <tr>\n",
       "      <th>near_location</th>\n",
       "      <td>0.873086</td>\n",
       "      <td>0.768143</td>\n",
       "    </tr>\n",
       "    <tr>\n",
       "      <th>partner</th>\n",
       "      <td>0.534195</td>\n",
       "      <td>0.355325</td>\n",
       "    </tr>\n",
       "    <tr>\n",
       "      <th>promo_friends</th>\n",
       "      <td>0.353522</td>\n",
       "      <td>0.183789</td>\n",
       "    </tr>\n",
       "    <tr>\n",
       "      <th>phone</th>\n",
       "      <td>0.903709</td>\n",
       "      <td>0.902922</td>\n",
       "    </tr>\n",
       "    <tr>\n",
       "      <th>contract_period</th>\n",
       "      <td>5.747193</td>\n",
       "      <td>1.728558</td>\n",
       "    </tr>\n",
       "    <tr>\n",
       "      <th>group_visits</th>\n",
       "      <td>0.464103</td>\n",
       "      <td>0.268615</td>\n",
       "    </tr>\n",
       "    <tr>\n",
       "      <th>age</th>\n",
       "      <td>29.976523</td>\n",
       "      <td>26.989632</td>\n",
       "    </tr>\n",
       "    <tr>\n",
       "      <th>avg_additional_charges_total</th>\n",
       "      <td>158.445715</td>\n",
       "      <td>115.082899</td>\n",
       "    </tr>\n",
       "    <tr>\n",
       "      <th>month_to_end_contract</th>\n",
       "      <td>5.283089</td>\n",
       "      <td>1.662582</td>\n",
       "    </tr>\n",
       "    <tr>\n",
       "      <th>lifetime</th>\n",
       "      <td>4.711807</td>\n",
       "      <td>0.990575</td>\n",
       "    </tr>\n",
       "    <tr>\n",
       "      <th>avg_class_frequency_total</th>\n",
       "      <td>2.024876</td>\n",
       "      <td>1.474995</td>\n",
       "    </tr>\n",
       "    <tr>\n",
       "      <th>avg_class_frequency_current_month</th>\n",
       "      <td>2.027882</td>\n",
       "      <td>1.044546</td>\n",
       "    </tr>\n",
       "  </tbody>\n",
       "</table>\n",
       "</div>"
      ],
      "text/plain": [
       "churn                                       0           1\n",
       "gender                               0.510037    0.510839\n",
       "near_location                        0.873086    0.768143\n",
       "partner                              0.534195    0.355325\n",
       "promo_friends                        0.353522    0.183789\n",
       "phone                                0.903709    0.902922\n",
       "contract_period                      5.747193    1.728558\n",
       "group_visits                         0.464103    0.268615\n",
       "age                                 29.976523   26.989632\n",
       "avg_additional_charges_total       158.445715  115.082899\n",
       "month_to_end_contract                5.283089    1.662582\n",
       "lifetime                             4.711807    0.990575\n",
       "avg_class_frequency_total            2.024876    1.474995\n",
       "avg_class_frequency_current_month    2.027882    1.044546"
      ]
     },
     "execution_count": 9,
     "metadata": {},
     "output_type": "execute_result"
    }
   ],
   "source": [
    "# сгруппируем данные и посмотрим средние значения признаков в двух группах\n",
    "df.groupby('churn').agg('mean').T"
   ]
  },
  {
   "cell_type": "markdown",
   "metadata": {},
   "source": [
    "Можно сделать следующие выводы о влиянии признаков на отток клиентов (в бинарных переменных - чем ближе среднее значение к единице, тем больше клиентов с этим признаком, то есть, он равен 1):\n",
    "\n",
    "* **(-)`gender (пол)`** Среднее значение для обеих категорий одинаковое - 0.51, поэтому пол не оказывает влияния на отток клиентов;\n",
    "* **(+-)`near_location (проживание или работа в районе, где находится фитнес-центр)`** Среднее значение тех, кто остаётся - 0.87, тех, кто забросил занятия - 0.77. В обоих случаях наблюдается высокий показатель, но всё же близость фитнес-клуба имеет незначительное влияние на отток клиентов; \n",
    "* **(+)`partner (сотрудник компании-партнёра клуба)`** Отток выше среди тех клиентов, кто не является сотрудником компании-партнёра (0.53 против 0.36). Скидки для сотрудников компаний-партнёров удерживают клиентов;\n",
    "* **(+)`promo_friends (акция «приведи друга»)`** Доля прекративших посещать тренировки выше у тех, кто пришёл заниматься без промо-кода (0.35 против 0.18);\n",
    "* **(-)`phone (наличие контактного телефона)`** Наличие контактного телефона не влияет на отток - среднее значение одинаковое;\n",
    "* **(+)`contract_period (длительность текущего действующего абонемента)`** Этот признак оказывает значительное влияние на клиентов - длительность текущего абонемента у оставшихся клиентов выше более, чем в 3 раза (5.74 против 1.72). Как правило, клиентам жалко терять деньги и наличие абонемента мотивирует посещать зал. Например, если купил месячный абонемент, то можно походить пару недель и со спокойной совестью даже не продлевать абонемент;\n",
    "* **(+)`group_visits (факт посещения групповых занятий)`** Постоянные клиенты чаще посещают групповые занятия (0.46 против 0.27). Всё-таки социализация оказывает сильный эффект: появляются друзья, партнёры, люди, которых ты рад видеть и бросить занятия становится сложнее;\n",
    "* **(+-)`age (возраст)`** Возраст у оставшихся клиентов в среднем на 3 года больше. Скорее всего, с возрастом люди более ответственно относятся к расходу средств, либо лучше заботятся о своём здоровье. Но влияние этого признака слабое;\n",
    "* **(+-)`avg_additional_charges_total (суммарная выручка от других услуг фитнес-центра)`** Суммарная выручка от дополнительных услуг фитнес-центра выше у постоянных клиентов (158.45 против 115.08). Данный признак оказывает слабое влияние на отток клиентов;\n",
    "* **(+)`month_to_end_contract (срок до окончания текущего действующего абонемента)`** Срок до окончания текущего действующего абонемента более, чем в 3 раза выше у оставшихся клиентов и оказывает сильное влияние на отток клиентов. Остаётся ещё много занятий и нет особого желания терять время и деньги;\n",
    "* **(+)`lifetime (время с момента первого обращения в фитнес-центр, в месяцах)`** Время с момента первого обращения в фитнес-клуб составляет 4.7 месяцев у постоянных клиентов и 1 месяц у тех, кто больше не занимается. Данный признак оказывает существенное влияние на отток клиентов. Если ты сделал занятия спортом своей привычкой, то уже жалко будет бросать, ведь вложено столько сил, средств и времени, да и результат не захочется терять среди ушедших средний лайфтайм с момента первого обращения в фитнес-центр - меньше месяца. Значит, есть проблемы с удержанием, клиенты не смогли заинтересоваться и спустя месяц ушли;\n",
    "* **(+-)`avg_class_frequency_total (средняя частота посещений в неделю за все время с начала действия абонемента)`** Средняя частота посещений за все время с начала действия абонемента составляет 2 раза у постоянных клиентов и 1.47 у ушедших клиентов. Данный признак оказывает слабое влияние на отток клиентов. У многих людей разный подход к тренировкам - кто-то ходит каждый день, кто-то три раза в неделю, кто-то на выходных, но всё-таки, чем чаще клиент ходит, тем выше вероятность, что он продолжит посещать фитнес-зал и сформирует привычку;\n",
    "* **(+)`avg_class_frequency_current_month (средняя частота посещений в неделю за предыдущий месяц)`** Средняя частота посещений за предыдущий месяц также составляет 2 раза у постоянных, но у тех, кто ушёл, еще ниже - 1.04. Всё логично, чем чаще за неделю клиент ходил в фитнес в ближайщий период, тем привычка сильнее - хорошее положительное влияние на клиентов.\n",
    "\n",
    "В целом, признаки можно разбить на три группы по степени влияния на удержание или отток пользователей:\n",
    "\n",
    "1. Признаки не оказывающие никакого влияния:\n",
    "   - **`gender (пол);`**\n",
    "   - **`phone (наличие контактного телефона).`**\n",
    "   \n",
    "\n",
    "2. Признаки, оказывающие небольшое влияние:\n",
    "   - **`near_location (проживание или работа в районе, где находится фитнес-центр);`**\n",
    "   - **`age (возраст);`**\n",
    "   - **`avg_additional_charges_total (суммарная выручка от других услуг фитнес-центра);`**\n",
    "   - **`avg_class_frequency_total (средняя частота посещений в неделю за все время с начала действия абонемента).`**\n",
    "   \n",
    "   \n",
    "3. Признаки, оказывающие существенное влияние:\n",
    "   - **`partner (сотрудник компании-партнёра клуба);`**\n",
    "   - **`promo_friends (акция «приведи друга»);`**\n",
    "   - **`contract_period (длительность текущего действующего абонемента);`**\n",
    "   - **`group_visits (факт посещения групповых занятий);`**\n",
    "   - **`month_to_end_contract (срок до окончания текущего действующего абонемента);`**\n",
    "   - **`lifetime (время с момента первого обращения в фитнес-центр, в месяцах);`**\n",
    "   - **`avg_class_frequency_current_month (средняя частота посещений в неделю за предыдущий месяц).`**\n",
    "   \n",
    "Предварительно можно предположить, что клиент, ушедший в отток, обычно живёт чуть дальше от фитнес-клуба, пришёл без партнёрской скидки, без промокода от друга, чаще всего занимается один и имеет абонемент небольшого периода действия, срок которого скоро истекает. Возможно, большая часть таких клиентов просто пришла попробовать позаниматься в клубе, посмотреть понравится или нет, взяли пробный абонемент на один месяц, не стали усложнять задачу поиском скидок или промокодов. \n",
    "\n",
    "По каким-то причинам им что-то не понравилось и они нашли фитнес-клуб с лучшими условиями, либо просто поняли, что такой вид деятельности не для них. "
   ]
  },
  {
   "cell_type": "markdown",
   "metadata": {},
   "source": [
    "### Построение столбчатых гистограмм и распределения признаков для тех, кто ушёл (отток) и тех, кто остался (не попали в отток)"
   ]
  },
  {
   "cell_type": "code",
   "execution_count": 10,
   "metadata": {
    "scrolled": true
   },
   "outputs": [
    {
     "data": {
      "image/png": "[encoded data removed]",
      "text/plain": [
       "<Figure size 432x288 with 1 Axes>"
      ]
     },
     "metadata": {
      "needs_background": "light"
     },
     "output_type": "display_data"
    },
    {
     "data": {
      "image/png": "[encoded data removed]",
      "text/plain": [
       "<Figure size 432x288 with 1 Axes>"
      ]
     },
     "metadata": {
      "needs_background": "light"
     },
     "output_type": "display_data"
    },
    {
     "data": {
      "image/png": "[encoded data removed]",
      "text/plain": [
       "<Figure size 432x288 with 1 Axes>"
      ]
     },
     "metadata": {
      "needs_background": "light"
     },
     "output_type": "display_data"
    },
    {
     "data": {
      "image/png": "[encoded data removed]",
      "text/plain": [
       "<Figure size 432x288 with 1 Axes>"
      ]
     },
     "metadata": {
      "needs_background": "light"
     },
     "output_type": "display_data"
    },
    {
     "data": {
      "image/png": "[encoded data removed]",
      "text/plain": [
       "<Figure size 432x288 with 1 Axes>"
      ]
     },
     "metadata": {
      "needs_background": "light"
     },
     "output_type": "display_data"
    },
    {
     "data": {
      "image/png": "[encoded data removed]",
      "text/plain": [
       "<Figure size 432x288 with 1 Axes>"
      ]
     },
     "metadata": {
      "needs_background": "light"
     },
     "output_type": "display_data"
    },
    {
     "data": {
      "image/png": "[encoded data removed]",
      "text/plain": [
       "<Figure size 432x288 with 1 Axes>"
      ]
     },
     "metadata": {
      "needs_background": "light"
     },
     "output_type": "display_data"
    },
    {
     "data": {
      "image/png": "[encoded data removed]",
      "text/plain": [
       "<Figure size 432x288 with 1 Axes>"
      ]
     },
     "metadata": {
      "needs_background": "light"
     },
     "output_type": "display_data"
    },
    {
     "data": {
      "image/png": "[encoded data removed]",
      "text/plain": [
       "<Figure size 432x288 with 1 Axes>"
      ]
     },
     "metadata": {
      "needs_background": "light"
     },
     "output_type": "display_data"
    },
    {
     "data": {
      "image/png": "[encoded data removed]",
      "text/plain": [
       "<Figure size 432x288 with 1 Axes>"
      ]
     },
     "metadata": {
      "needs_background": "light"
     },
     "output_type": "display_data"
    },
    {
     "data": {
      "image/png": "[encoded data removed]",
      "text/plain": [
       "<Figure size 432x288 with 1 Axes>"
      ]
     },
     "metadata": {
      "needs_background": "light"
     },
     "output_type": "display_data"
    },
    {
     "data": {
      "image/png": "[encoded data removed]",
      "text/plain": [
       "<Figure size 432x288 with 1 Axes>"
      ]
     },
     "metadata": {
      "needs_background": "light"
     },
     "output_type": "display_data"
    },
    {
     "data": {
      "image/png": "[encoded data removed]",
      "text/plain": [
       "<Figure size 432x288 with 1 Axes>"
      ]
     },
     "metadata": {
      "needs_background": "light"
     },
     "output_type": "display_data"
    }
   ],
   "source": [
    "# создадим две переменные с оставшимися клиентами и теми, кто ушёл в отток\n",
    "lost_client = df[df['churn'] == 1]\n",
    "current_client = df[df['churn'] == 0]\n",
    "\n",
    "# добавим список с названиями столбцов в переменную \n",
    "distplot_columns = df.drop(columns=['churn']).columns\n",
    "\n",
    "# функция построения столбчатых диаграмм\n",
    "for column in distplot_columns:\n",
    "    df.groupby('churn')[column].hist()\n",
    "    plt.title('Гистограмма распределения признака')\n",
    "    plt.legend(['Оставшиеся', 'Отток'])\n",
    "    plt.xlabel(f'Признак: {column}')\n",
    "    plt.ylabel('Количество клиентов')\n",
    "    plt.show()"
   ]
  },
  {
   "cell_type": "markdown",
   "metadata": {},
   "source": [
    "По столбчатым гистограммам можно сделать следующие выводы:\n",
    "\n",
    "* **`gender (пол)`** Мужчин почти в 3 раза больше, чем женщин, но доля оттока у них примерно одинаковая;\n",
    "* **`near_location (проживание или работа в районе, где находится фитнес-центр)`** Тех, кто живёт близко к фитнес-клубу значительно больше и доля оставшихся среди них значительно выше; \n",
    "* **`partner (сотрудник компании-партнёра клуба)`** Те, кто участвовал в партнёрской программе (таких людей примерно поровну с теми, кто не участвовал) продолжают посещать тренировки;\n",
    "* **`promo_friends (акция «приведи друга»)`** Участников промоакции значительно меньше, но доля оставшихся среди них значительно выше;\n",
    "* **`phone (наличие контактного телефона)`** Видно, что многие оставили свой телефон, но визуально на отток это не влияет;\n",
    "* **`contract_period (длительность текущего действующего абонемента)`** Здесь очень чётко прослеживается, что чем дольше действует абонемент, тем меньше клиент склоннен забросить тренировки. Видно, что основной отток идёт среди тех, у кого договор был заключён на месяц;\n",
    "* **`group_visits (факт посещения групповых занятий)`** Очень большая часть тех, кто ходил на групповые занятия продолжают занятия;\n",
    "* **`age (возраст)`** Примерно до возраста 25-26 лет большая часть людей склонна уйти, но чем старше клиенты, тем выше вероятность, что он будет посещать нас фитнес-клуб;\n",
    "* **`avg_additional_charges_total (суммарная выручка от других услуг фитнес-центра)`** Здесь можно сказать, что отток клиентов мало зависит от трат на дополнительные услуги. Большая часть клиентов тратит не больше 350;\n",
    "* **`month_to_end_contract (срок до окончания текущего действующего абонемента)`** Чем больше времени осталось до окончания абонемента, тем желание клиентов продолжать ходить в фитнес-клуб сильнее. Основной отток идёт среди тех, у кого до окончания срока действующего абонемента остался 1 месяц;\n",
    "* **`lifetime (время с момента первого обращения в фитнес-центр, в месяцах)`** Очень хорошо видно, что среди тех, кто посещает занятия достаточно давно, оттока почти нет. Основной отток идёт от тех, кто ходит меньше 2 месяцев;\n",
    "* **`avg_class_frequency_total (средняя частота посещений в неделю за все время с начала действия абонемента)`** На этой гистограмме признак с распределением похожим на нормальное. У тех, кто посещает фитнес-клуб до 2 раз в неделю доля оттока примерно одинаковая, но ситуация резко меняется, если клиент занимается 3 раза в неделю, а если 4-5 раз (наверное, люди, особо сильно увлечённые тренировками), то оттока клиентов не наблюдается, но таких идеалистов значительно меньше;\n",
    "* **`avg_class_frequency_current_month (средняя частота посещений в неделю за предыдущий месяц)`** Чем чаще клиент ходил в клуб за предыдущий месяц, тем меньше вероятность, что он уйдёт в отток."
   ]
  },
  {
   "cell_type": "markdown",
   "metadata": {},
   "source": [
    "### Матрица корреляций "
   ]
  },
  {
   "cell_type": "code",
   "execution_count": 11,
   "metadata": {},
   "outputs": [
    {
     "data": {
      "image/png": "[encoded data removed]",
      "text/plain": [
       "<Figure size 1008x576 with 2 Axes>"
      ]
     },
     "metadata": {
      "needs_background": "light"
     },
     "output_type": "display_data"
    }
   ],
   "source": [
    "# построим матрица корреляций\n",
    "cm = df.corr()\n",
    "plt.figure(figsize=(14,8))\n",
    "\n",
    "# построим тепловую карту\n",
    "sns.heatmap(cm, annot=True, square=False)\n",
    "plt.title('Матрица корреляций признаков', fontsize = 18)\n",
    "plt.xlabel('Признаки', fontsize = 14)\n",
    "plt.ylabel('Признаки', fontsize = 14) \n",
    "plt.show()"
   ]
  },
  {
   "cell_type": "markdown",
   "metadata": {},
   "source": [
    "На карте между `churn` и признаками видна обратная корреляция - это говорит о том, что чем сильнее признак, тем слабее отток.\n",
    "\n",
    "* Явной зависимости факта оттока от признаков не обнаружено, наблюдается слабая отрицательная корреляция:\n",
    "  - `near_location, partner, promo_friends, group_visits, avg_additional_charges_total, avg_class_frequency_total.` Корреляция в диапазоне: 0.1-0.25;\n",
    "  - `contract_period, age, month_to_end_contract, lifetime, avg_class_frequency_current_month.` Корреляция в диапазоне: 0.38-0.44.\n",
    "* Есть признаки с нулевой корреляцией с целевой переменной `(phone, gender)`- они вообще никак не влияют на отток;\n",
    "* Заметна сильная корреляция (более 0.95) между следующими признаками:\n",
    "  - `contract_period` и `month_to_end_contract` (0.97). Чем больше срок до окончания текущего действующего абонемента, тем больше месяцев осталось;\n",
    "  - `avg_class_frequency_current_month` и `avg_class_frequency_total` (0.95). Клиенты, которые постоянно посещали фитнес-клуб за предыдущий месяц, скорее всего посещают занятия с такой же частотой.\n",
    "\n",
    "* Так же можно сделать вывод, что имеются 2 мультиколлинеарных признака:\n",
    "    1. `contract_period` и `month_to_end_contact;`\n",
    "    2. `avg_class_frequency_total` и `avg_class_frequency_current_month.`"
   ]
  },
  {
   "cell_type": "markdown",
   "metadata": {},
   "source": [
    "Мультиколлинеарность — корреляция независимых переменных, которая затрудняет оценку и анализ общего результата. Когда независимые переменные коррелируют друг с другом, говорят о возникновении мультиколлинеарности. В машинном обучении мультиколлинеарность может стать причиной переобучаемости модели, что приведет к неверному результату.\n",
    "\n",
    "Для того, чтобы такие признаки не доминировали над остальными переменными при обучении, удалим по одному признаку в каждой паре `contract_period` и `avg_class_frequency_current_month.`"
   ]
  },
  {
   "cell_type": "code",
   "execution_count": 12,
   "metadata": {},
   "outputs": [],
   "source": [
    "# избавимся от мультиколлинеарности метрик\n",
    "df = df.drop(columns=['contract_period', 'avg_class_frequency_current_month'], axis = 1)"
   ]
  },
  {
   "cell_type": "markdown",
   "metadata": {},
   "source": [
    "## Модель прогнозирования оттока клиентов"
   ]
  },
  {
   "cell_type": "markdown",
   "metadata": {},
   "source": [
    "Построим модель бинарной классификации клиентов, где целевой признак — факт оттока клиента в следующем месяце:"
   ]
  },
  {
   "cell_type": "markdown",
   "metadata": {},
   "source": [
    "### Разбивка данных на обучающую и валидационную выборку функцией `train_test_split()`"
   ]
  },
  {
   "cell_type": "code",
   "execution_count": 13,
   "metadata": {},
   "outputs": [],
   "source": [
    "# разделим наши данные на признаки (матрица X) и целевую переменную (y)\n",
    "X = df.drop('churn', axis = 1)\n",
    "y = df['churn']"
   ]
  },
  {
   "cell_type": "code",
   "execution_count": 14,
   "metadata": {},
   "outputs": [],
   "source": [
    "# разделим модель на обучающую и валидационную выборку в соотношении 80:20\n",
    "X_train, X_test, y_train, y_test = train_test_split(X, y, test_size=0.2, random_state=0)"
   ]
  },
  {
   "cell_type": "code",
   "execution_count": 15,
   "metadata": {},
   "outputs": [],
   "source": [
    "# обучим StandartScaler на обучающей выборке\n",
    "scaler = StandardScaler()\n",
    "scaler.fit(X_train)\n",
    "\n",
    "# преобразуем обучающий и валидационные наборы данных\n",
    "X_train_st = scaler.transform(X_train)\n",
    "X_test_st = scaler.transform(X_test)"
   ]
  },
  {
   "cell_type": "markdown",
   "metadata": {},
   "source": [
    "Применена стандартизация данных, чтобы свести признаки к одному масштабу."
   ]
  },
  {
   "cell_type": "markdown",
   "metadata": {},
   "source": [
    "### Обучение модели на train-выборке двумя способами:"
   ]
  },
  {
   "cell_type": "markdown",
   "metadata": {},
   "source": [
    "#### Логистическая регрессия"
   ]
  },
  {
   "cell_type": "code",
   "execution_count": 16,
   "metadata": {},
   "outputs": [],
   "source": [
    "# зададим алгоритм для нашей модели\n",
    "lr_model = LogisticRegression(random_state=0)\n",
    "\n",
    "# обучим модель\n",
    "lr_model.fit(X_train_st, y_train)\n",
    "\n",
    "lr_predictions = lr_model.predict(X_test_st)\n",
    "lr_probabilities = lr_model.predict_proba(X_test_st)[:, 1]"
   ]
  },
  {
   "cell_type": "markdown",
   "metadata": {},
   "source": [
    "Построили модель и обучили её алгоритмом логистической регрессии."
   ]
  },
  {
   "cell_type": "markdown",
   "metadata": {},
   "source": [
    "#### Случайный лес"
   ]
  },
  {
   "cell_type": "code",
   "execution_count": 17,
   "metadata": {},
   "outputs": [],
   "source": [
    "# зададим алгоритм для новой модели на основе алгоритма случайного леса\n",
    "rf_model = RandomForestClassifier(random_state=0)\n",
    "\n",
    "# обучим модель случайного леса\n",
    "rf_model.fit(X_train_st, y_train)\n",
    "\n",
    "# воспользуемся уже обученной моделью, чтобы сделать прогнозы\n",
    "rf_predictions = rf_model.predict(X_test_st)\n",
    "rf_probabilities = rf_model.predict_proba(X_test_st)[:, 1]"
   ]
  },
  {
   "cell_type": "markdown",
   "metadata": {},
   "source": [
    "Построили модель и обучили её алгоритмом случайного леса."
   ]
  },
  {
   "cell_type": "markdown",
   "metadata": {},
   "source": [
    "### Метрики accuracy, precision и recall для обеих моделей на валидационной выборке"
   ]
  },
  {
   "cell_type": "markdown",
   "metadata": {},
   "source": [
    "Создадим функцию для расчёта следующих метрик: **accuracy** (доля правильных ответов), **precision** (точность), **recall** (полнота), **F1_score** (агрегирующая метрика) и **ROC_AUC** (метрика оценки качества классификатора)."
   ]
  },
  {
   "cell_type": "code",
   "execution_count": 18,
   "metadata": {},
   "outputs": [],
   "source": [
    "# функция, которая будет выводить наши метрики\n",
    "def print_metrics(y_true, y_pred, y_proba, model_name):\n",
    "    print('Метрики для модели '+model_name)\n",
    "    print('\\tAccuracy: {:.3f}'.format(accuracy_score(y_true, y_pred)))\n",
    "    print('\\tPrecision: {:.3f}'.format(precision_score(y_true, y_pred)))\n",
    "    print('\\tRecall: {:.3f}'.format(recall_score(y_true, y_pred)))\n",
    "    print('\\tF1: {:.3f}'.format(f1_score(y_true, y_pred)))\n",
    "    print('\\tROC_AUC: {:.3f}'.format(roc_auc_score(y_true, y_proba)))"
   ]
  },
  {
   "cell_type": "code",
   "execution_count": 19,
   "metadata": {},
   "outputs": [
    {
     "name": "stdout",
     "output_type": "stream",
     "text": [
      "Метрики для модели логистической регрессии\n",
      "\tAccuracy: 0.897\n",
      "\tPrecision: 0.784\n",
      "\tRecall: 0.808\n",
      "\tF1: 0.796\n",
      "\tROC_AUC: 0.953\n",
      "--------------------------------------------------\n",
      "Метрики для модели случайного леса\n",
      "\tAccuracy: 0.896\n",
      "\tPrecision: 0.801\n",
      "\tRecall: 0.773\n",
      "\tF1: 0.787\n",
      "\tROC_AUC: 0.939\n"
     ]
    }
   ],
   "source": [
    "# рассчитаем метрики для модели логистической регрессии\n",
    "print_metrics(y_test, lr_predictions, lr_probabilities, 'логистической регрессии')\n",
    "print('-' * 50)\n",
    "# рассчитаем метрики для модели случайного леса\n",
    "print_metrics(y_test, rf_predictions, rf_probabilities, 'случайного леса')"
   ]
  },
  {
   "cell_type": "markdown",
   "metadata": {},
   "source": [
    "Можно сделать вывод, что обе модели достаточно хорошо способны сделать прогноз. \n",
    "\n",
    "Тем не менее, метрики логистической регрессии показывают результат лучше. Поэтому, в данном случае оптимально использовать именно этот способ для прогнозирования оттока клиентов."
   ]
  },
  {
   "cell_type": "markdown",
   "metadata": {},
   "source": [
    "## Кластеризация клиентов"
   ]
  },
  {
   "cell_type": "markdown",
   "metadata": {},
   "source": [
    "Отложим в сторону столбец с оттоком и проведём кластеризацию клиентов."
   ]
  },
  {
   "cell_type": "markdown",
   "metadata": {},
   "source": [
    "### Стандартизация данных"
   ]
  },
  {
   "cell_type": "code",
   "execution_count": 20,
   "metadata": {},
   "outputs": [],
   "source": [
    "# стандартизируем данные\n",
    "scaler = StandardScaler()\n",
    "X_st = scaler.fit_transform(X)"
   ]
  },
  {
   "cell_type": "markdown",
   "metadata": {},
   "source": [
    "Стандартизация приводит значения признаков к виду стандартного нормального распределения: значения будут центрированы относительно 0, а средний разброс данных составит 1."
   ]
  },
  {
   "cell_type": "markdown",
   "metadata": {},
   "source": [
    "### Матрица расстояний и дендрограмма"
   ]
  },
  {
   "cell_type": "markdown",
   "metadata": {},
   "source": [
    "Построим матрицу расстояний функцией `linkage()` на стандартизованной матрице признаков и нарисуем дендрограмму."
   ]
  },
  {
   "cell_type": "code",
   "execution_count": 21,
   "metadata": {},
   "outputs": [
    {
     "data": {
      "image/png": "[encoded data removed]",
      "text/plain": [
       "<Figure size 1080x720 with 1 Axes>"
      ]
     },
     "metadata": {
      "needs_background": "light"
     },
     "output_type": "display_data"
    }
   ],
   "source": [
    "# сохраним матрицу расстояний\n",
    "links = linkage(X_st, method = 'ward')\n",
    "\n",
    "# построим дендрограмму\n",
    "plt.figure(figsize=(15, 10))\n",
    "plt.title('Кластеризация пользователей фитнес-клуба')\n",
    "dendrogram(links, orientation='top')\n",
    "plt.show()"
   ]
  },
  {
   "cell_type": "markdown",
   "metadata": {},
   "source": [
    "По дендрограмме можно предположить наличие четырёх кластеров в данных."
   ]
  },
  {
   "cell_type": "markdown",
   "metadata": {},
   "source": [
    "### Обучение модели кластеризации на основании алгоритма K-Means,  прогноз кластеров клиентов"
   ]
  },
  {
   "cell_type": "markdown",
   "metadata": {},
   "source": [
    "Обучим модель кластеризации на основании алгоритма K-Means и спрогнозируем кластеры клиентов. Договоримся за число кластеров принять n=5, чтобы наши результаты можно было сравнить с результатами остальных студентов. Однако, конечно, в жизни никто не скажет нам правильный ответ, и решение остаётся за нами (на основании изучения графика из предыдущего пункта)."
   ]
  },
  {
   "cell_type": "code",
   "execution_count": 22,
   "metadata": {},
   "outputs": [],
   "source": [
    "# зададим модель k_means с числом кластеров 5\n",
    "km = KMeans(n_clusters = 5, random_state=0)\n",
    "\n",
    "# спрогнозируем кластеры для наблюдений\n",
    "labels = km.fit_predict(X_st)\n",
    "\n",
    "# Сохраним метки кластера в поле нашего датасета\n",
    "df['cluster'] = labels"
   ]
  },
  {
   "cell_type": "markdown",
   "metadata": {},
   "source": [
    "### Средние значения признаков для кластеров "
   ]
  },
  {
   "cell_type": "code",
   "execution_count": 23,
   "metadata": {
    "scrolled": true
   },
   "outputs": [
    {
     "data": {
      "text/html": [
       "<div>\n",
       "<style scoped>\n",
       "    .dataframe tbody tr th:only-of-type {\n",
       "        vertical-align: middle;\n",
       "    }\n",
       "\n",
       "    .dataframe tbody tr th {\n",
       "        vertical-align: top;\n",
       "    }\n",
       "\n",
       "    .dataframe thead th {\n",
       "        text-align: right;\n",
       "    }\n",
       "</style>\n",
       "<table border=\"1\" class=\"dataframe\">\n",
       "  <thead>\n",
       "    <tr style=\"text-align: right;\">\n",
       "      <th></th>\n",
       "      <th>gender</th>\n",
       "      <th>near_location</th>\n",
       "      <th>partner</th>\n",
       "      <th>promo_friends</th>\n",
       "      <th>phone</th>\n",
       "      <th>group_visits</th>\n",
       "      <th>age</th>\n",
       "      <th>avg_additional_charges_total</th>\n",
       "      <th>month_to_end_contract</th>\n",
       "      <th>lifetime</th>\n",
       "      <th>avg_class_frequency_total</th>\n",
       "      <th>churn</th>\n",
       "    </tr>\n",
       "    <tr>\n",
       "      <th>cluster</th>\n",
       "      <th></th>\n",
       "      <th></th>\n",
       "      <th></th>\n",
       "      <th></th>\n",
       "      <th></th>\n",
       "      <th></th>\n",
       "      <th></th>\n",
       "      <th></th>\n",
       "      <th></th>\n",
       "      <th></th>\n",
       "      <th></th>\n",
       "      <th></th>\n",
       "    </tr>\n",
       "  </thead>\n",
       "  <tbody>\n",
       "    <tr>\n",
       "      <th>0</th>\n",
       "      <td>0.498501</td>\n",
       "      <td>0.995005</td>\n",
       "      <td>0.889111</td>\n",
       "      <td>1.000000</td>\n",
       "      <td>1.0</td>\n",
       "      <td>0.519481</td>\n",
       "      <td>29.543457</td>\n",
       "      <td>152.139417</td>\n",
       "      <td>6.265734</td>\n",
       "      <td>4.210789</td>\n",
       "      <td>1.951909</td>\n",
       "      <td>0.132867</td>\n",
       "    </tr>\n",
       "    <tr>\n",
       "      <th>1</th>\n",
       "      <td>0.500898</td>\n",
       "      <td>0.000000</td>\n",
       "      <td>0.488330</td>\n",
       "      <td>0.077199</td>\n",
       "      <td>1.0</td>\n",
       "      <td>0.231598</td>\n",
       "      <td>28.685817</td>\n",
       "      <td>137.277472</td>\n",
       "      <td>2.804309</td>\n",
       "      <td>2.978456</td>\n",
       "      <td>1.762672</td>\n",
       "      <td>0.402154</td>\n",
       "    </tr>\n",
       "    <tr>\n",
       "      <th>2</th>\n",
       "      <td>0.521158</td>\n",
       "      <td>0.995546</td>\n",
       "      <td>0.417595</td>\n",
       "      <td>0.011136</td>\n",
       "      <td>1.0</td>\n",
       "      <td>0.546771</td>\n",
       "      <td>30.805122</td>\n",
       "      <td>177.103564</td>\n",
       "      <td>6.162584</td>\n",
       "      <td>5.701559</td>\n",
       "      <td>2.318701</td>\n",
       "      <td>0.016704</td>\n",
       "    </tr>\n",
       "    <tr>\n",
       "      <th>3</th>\n",
       "      <td>0.512090</td>\n",
       "      <td>1.000000</td>\n",
       "      <td>0.196891</td>\n",
       "      <td>0.053541</td>\n",
       "      <td>1.0</td>\n",
       "      <td>0.297064</td>\n",
       "      <td>27.818653</td>\n",
       "      <td>124.625600</td>\n",
       "      <td>1.898964</td>\n",
       "      <td>2.058722</td>\n",
       "      <td>1.539284</td>\n",
       "      <td>0.506045</td>\n",
       "    </tr>\n",
       "    <tr>\n",
       "      <th>4</th>\n",
       "      <td>0.523316</td>\n",
       "      <td>0.862694</td>\n",
       "      <td>0.471503</td>\n",
       "      <td>0.305699</td>\n",
       "      <td>0.0</td>\n",
       "      <td>0.427461</td>\n",
       "      <td>29.297927</td>\n",
       "      <td>144.208179</td>\n",
       "      <td>4.466321</td>\n",
       "      <td>3.940415</td>\n",
       "      <td>1.854211</td>\n",
       "      <td>0.266839</td>\n",
       "    </tr>\n",
       "  </tbody>\n",
       "</table>\n",
       "</div>"
      ],
      "text/plain": [
       "           gender  near_location   partner  promo_friends  phone  \\\n",
       "cluster                                                            \n",
       "0        0.498501       0.995005  0.889111       1.000000    1.0   \n",
       "1        0.500898       0.000000  0.488330       0.077199    1.0   \n",
       "2        0.521158       0.995546  0.417595       0.011136    1.0   \n",
       "3        0.512090       1.000000  0.196891       0.053541    1.0   \n",
       "4        0.523316       0.862694  0.471503       0.305699    0.0   \n",
       "\n",
       "         group_visits        age  avg_additional_charges_total  \\\n",
       "cluster                                                          \n",
       "0            0.519481  29.543457                    152.139417   \n",
       "1            0.231598  28.685817                    137.277472   \n",
       "2            0.546771  30.805122                    177.103564   \n",
       "3            0.297064  27.818653                    124.625600   \n",
       "4            0.427461  29.297927                    144.208179   \n",
       "\n",
       "         month_to_end_contract  lifetime  avg_class_frequency_total     churn  \n",
       "cluster                                                                        \n",
       "0                     6.265734  4.210789                   1.951909  0.132867  \n",
       "1                     2.804309  2.978456                   1.762672  0.402154  \n",
       "2                     6.162584  5.701559                   2.318701  0.016704  \n",
       "3                     1.898964  2.058722                   1.539284  0.506045  \n",
       "4                     4.466321  3.940415                   1.854211  0.266839  "
      ]
     },
     "execution_count": 23,
     "metadata": {},
     "output_type": "execute_result"
    }
   ],
   "source": [
    "# выведем средние значения признаков для кластеров\n",
    "df.groupby('cluster').agg('mean')"
   ]
  },
  {
   "cell_type": "markdown",
   "metadata": {},
   "source": [
    "В каждом кластере можно выявить следующие закономерности:\n",
    "\n",
    "0. Клиенты живут близко к фитнес-клубу, пришли по промо-коду от друзей. Большинство - это сотрудники компаний-партнёров клуба. Фитнес-клуб они посещают в среднем около 4 месяцев, на дополнительные услуги тратят довольно много (152), а до прекращения действия абонемента у них чуть больше полугода. Средняя частота посещений в неделю за все время с начала действия абонемента примерно 2 раза в неделю.\n",
    "\n",
    "1. Клиенты пришли без промо-кода от друзей, живут очень далеко от клуба, почти не ходят на групповые занятия. Отток таких клиентов довольно высокий - 40%.\n",
    "\n",
    "2. Клиенты живут близко к фитнес-клубу, почти никто не имеет промо-кодов от друзей, со средней активностью посещают групповые занятия. Средний возраст самый высокий - почти 31 год, на дополнительные услуги тратят больше всех (177), а до прекращения контракта у них осталось примерно 6 месяцев. Средняя частота посещений в неделю за все время с начала действия абонемента примерно почти 2.5 раза в неделю. Отток таких клиентов совсем небольшой - 1%.\n",
    "\n",
    "3. Клиенты живут или работают прямо возле фитнес-клуба. Большинство из них пришли без партнёрской скидки и промо-кодов от друзей. Они редко посещают групповые занятия, тратят меньше всех на дополнительные услуги в клубе (124), у них скоро закончится абонемент (осталось меньше 2 месяцев), при этом они сами недавно начали заниматься в клубе. Отток таких клиентов самый высокий и составляет 50%.\n",
    "\n",
    "4. Почему-то такие клиенты не оставили контактный номер телефона. Живут они довольно близко к месту занятий, половина из клиентов - сотрудники компании-партнёра клуба. До окончания контракта у них примерно 4 месяца, отток таких клиентов небольшой - примерно 27%."
   ]
  },
  {
   "cell_type": "markdown",
   "metadata": {},
   "source": [
    "### Распределения признаков для кластеров "
   ]
  },
  {
   "cell_type": "markdown",
   "metadata": {},
   "source": [
    "Для анализа распределения признаков в кластерах построим два типа графиков:\n",
    "\n",
    "* **столбчатые диаграммы** для логических и дискретных переменных;\n",
    "\n",
    "* **боксплоты** для непрерывных переменных."
   ]
  },
  {
   "cell_type": "code",
   "execution_count": 24,
   "metadata": {
    "scrolled": false
   },
   "outputs": [
    {
     "data": {
      "image/png": "[encoded data removed]",
      "text/plain": [
       "<Figure size 432x288 with 1 Axes>"
      ]
     },
     "metadata": {
      "needs_background": "light"
     },
     "output_type": "display_data"
    },
    {
     "data": {
      "image/png": "[encoded data removed]",
      "text/plain": [
       "<Figure size 432x288 with 1 Axes>"
      ]
     },
     "metadata": {
      "needs_background": "light"
     },
     "output_type": "display_data"
    },
    {
     "data": {
      "image/png": "[encoded data removed]",
      "text/plain": [
       "<Figure size 432x288 with 1 Axes>"
      ]
     },
     "metadata": {
      "needs_background": "light"
     },
     "output_type": "display_data"
    },
    {
     "data": {
      "image/png": "[encoded data removed]",
      "text/plain": [
       "<Figure size 432x288 with 1 Axes>"
      ]
     },
     "metadata": {
      "needs_background": "light"
     },
     "output_type": "display_data"
    },
    {
     "data": {
      "image/png": "[encoded data removed]",
      "text/plain": [
       "<Figure size 432x288 with 1 Axes>"
      ]
     },
     "metadata": {
      "needs_background": "light"
     },
     "output_type": "display_data"
    },
    {
     "data": {
      "image/png": "[encoded data removed]",
      "text/plain": [
       "<Figure size 432x288 with 1 Axes>"
      ]
     },
     "metadata": {
      "needs_background": "light"
     },
     "output_type": "display_data"
    },
    {
     "data": {
      "image/png": "[encoded data removed]",
      "text/plain": [
       "<Figure size 432x288 with 1 Axes>"
      ]
     },
     "metadata": {
      "needs_background": "light"
     },
     "output_type": "display_data"
    },
    {
     "data": {
      "image/png": "[encoded data removed]",
      "text/plain": [
       "<Figure size 432x288 with 1 Axes>"
      ]
     },
     "metadata": {
      "needs_background": "light"
     },
     "output_type": "display_data"
    }
   ],
   "source": [
    "# построим график для логических и дискретных величин\n",
    "log_dis_values = ['gender', 'near_location', 'partner', 'promo_friends', 'phone', 'month_to_end_contract', 'group_visits', 'churn']\n",
    "fig, ax = plt.subplots()\n",
    "for column in log_dis_values:\n",
    "    plt.title('Распределение признака '+column)\n",
    "    sns.countplot(data=df, x=column, hue='cluster')\n",
    "    plt.xlabel('Признак')\n",
    "    plt.ylabel('Количество')\n",
    "    plt.legend(bbox_to_anchor=(1.3, 1))\n",
    "    plt.show()"
   ]
  },
  {
   "cell_type": "code",
   "execution_count": 25,
   "metadata": {
    "scrolled": true
   },
   "outputs": [
    {
     "data": {
      "image/png": "[encoded data removed]",
      "text/plain": [
       "<Figure size 432x288 with 1 Axes>"
      ]
     },
     "metadata": {
      "needs_background": "light"
     },
     "output_type": "display_data"
    },
    {
     "data": {
      "image/png": "[encoded data removed]",
      "text/plain": [
       "<Figure size 432x288 with 1 Axes>"
      ]
     },
     "metadata": {
      "needs_background": "light"
     },
     "output_type": "display_data"
    },
    {
     "data": {
      "image/png": "[encoded data removed]",
      "text/plain": [
       "<Figure size 432x288 with 1 Axes>"
      ]
     },
     "metadata": {
      "needs_background": "light"
     },
     "output_type": "display_data"
    },
    {
     "data": {
      "image/png": "[encoded data removed]",
      "text/plain": [
       "<Figure size 432x288 with 1 Axes>"
      ]
     },
     "metadata": {
      "needs_background": "light"
     },
     "output_type": "display_data"
    }
   ],
   "source": [
    "# построим график для непрерывных величин\n",
    "cont_values = ['age', 'lifetime', 'avg_additional_charges_total', 'avg_additional_charges_total']\n",
    "fig, ax = plt.subplots()\n",
    "for column in cont_values:\n",
    "    plt.title('Распределение признака '+column)\n",
    "    sns.boxplot(x='cluster', y=column, data=df)\n",
    "    plt.xlabel('Кластер')\n",
    "    plt.ylabel('Значение '+column)\n",
    "    plt.show()"
   ]
  },
  {
   "cell_type": "markdown",
   "metadata": {},
   "source": [
    "По графикам можно выявить следующие закономерности:\n",
    "\n",
    "* **`gender (пол)`** Распределение по полу во всех кластерах практически равное;\n",
    "* **`near_location (проживание или работа в районе, где находится фитнес-центр)`** Клиенты проживают или работают в районе, где находится фитнес-клуб. Кластер 1 содержит клиентов, которые живут в других районах, но у этого кластера и большой отток клиентов; \n",
    "* **`partner (сотрудник компании-партнёра клуба)`** В кластере 0 большая часть клиентов (80%) - сотрудники компании-партнёра клуба. В кластерах 1, 2, 4 почти половина клиентов - это сотрудники компании-партнёра клуба. В кластере 3 сосредоточились клиенты, которые не являются сотрудниками партнёров клуба (примерно 70%);\n",
    "* **`promo_friends (акция «приведи друга»)`** В кластерах 1, 2 и 3 содержится информация о клиентах, большая часть которых пришли в фитнес-клуб не по акции. В кластере 0 находятся клиенты, пришедшие по промо-коду «приведи друга»;\n",
    "* **`phone (наличие контактного телефона)`** Во всех кластерах, кроме 4, у клиентов есть контактный номер телефона;\n",
    "* **`contract_period (длительность текущего действующего абонемента)`** Здесь очень хорошо видно, что чем дольше действует абонемент, тем меньше клиент склоннен забросить тренировки. Основной отток идёт среди тех клиентов, у кого договор был заключён на месяц;\n",
    "* **`group_visits (факт посещения групповых занятий)`** Половина клиентов из кластеров 0, 2 посещала групповые занятия, а вторая половина - не посещала. Большинство клиентов из кластера 1, 3, 4 не занимались на групповые занятия;\n",
    "* **`age (возраст)`** Во всех кластерах возраст распределен равномеро и находится в диапазоне 28-30 лет;\n",
    "* **`avg_additional_charges_total (суммарная выручка от других услуг фитнес-центра)`** Чуть больше трат замечено в кластерах 0 и 2 (среднее в районе 152-171), меньше всего трат в кластере 3 (среднее - 124);\n",
    "* **`month_to_end_contract (срок до окончания текущего действующего абонемента)`** Меньше всего времении до окончания контракта осталось у клиентов из кластера 3 (около 2 месяцев), больше всего времени есть у кластеров 0 и 2 (около 6 месяцев);\n",
    "* **`lifetime (время с момента первого обращения в фитнес-центр, в месяцах)`** Среднее время с момента первого обращения в фитнес-центр у кластеров 0 и 2 составляет 4-6 месяцев, у клиентов из кластера 3 это значение меньше - около 2 месяцев;\n",
    "* **`avg_class_frequency_total (средняя частота посещений в неделю за все время с начала действия абонемента)`** Самая высокая средняя частота посещений в неделю у кластера 2 - 2 раза внеделю, самая низкая - у кластера 3;\n",
    "* **`avg_class_frequency_current_month (средняя частота посещений в неделю за предыдущий месяц)`** В кластерах 0 и 2 собраны клиенты с меньшим оттоком, в 1 и 3 кластерах средний отток больше - примерно 40-50%."
   ]
  },
  {
   "cell_type": "markdown",
   "metadata": {},
   "source": [
    "### Доля оттока для каждого полученного кластера "
   ]
  },
  {
   "cell_type": "markdown",
   "metadata": {},
   "source": [
    "Для каждого полученного кластера посчитаем долю оттока (методом groupby()). Выясним, отличаются ли они по доле оттока и какие кластеры склонны к оттоку, а какие — надёжны."
   ]
  },
  {
   "cell_type": "code",
   "execution_count": 26,
   "metadata": {},
   "outputs": [
    {
     "data": {
      "text/html": [
       "<div>\n",
       "<style scoped>\n",
       "    .dataframe tbody tr th:only-of-type {\n",
       "        vertical-align: middle;\n",
       "    }\n",
       "\n",
       "    .dataframe tbody tr th {\n",
       "        vertical-align: top;\n",
       "    }\n",
       "\n",
       "    .dataframe thead th {\n",
       "        text-align: right;\n",
       "    }\n",
       "</style>\n",
       "<table border=\"1\" class=\"dataframe\">\n",
       "  <thead>\n",
       "    <tr style=\"text-align: right;\">\n",
       "      <th></th>\n",
       "      <th>cluster</th>\n",
       "      <th>churn</th>\n",
       "    </tr>\n",
       "  </thead>\n",
       "  <tbody>\n",
       "    <tr>\n",
       "      <th>0</th>\n",
       "      <td>3</td>\n",
       "      <td>0.506045</td>\n",
       "    </tr>\n",
       "    <tr>\n",
       "      <th>1</th>\n",
       "      <td>1</td>\n",
       "      <td>0.402154</td>\n",
       "    </tr>\n",
       "    <tr>\n",
       "      <th>2</th>\n",
       "      <td>4</td>\n",
       "      <td>0.266839</td>\n",
       "    </tr>\n",
       "    <tr>\n",
       "      <th>3</th>\n",
       "      <td>0</td>\n",
       "      <td>0.132867</td>\n",
       "    </tr>\n",
       "    <tr>\n",
       "      <th>4</th>\n",
       "      <td>2</td>\n",
       "      <td>0.016704</td>\n",
       "    </tr>\n",
       "  </tbody>\n",
       "</table>\n",
       "</div>"
      ],
      "text/plain": [
       "   cluster     churn\n",
       "0        3  0.506045\n",
       "1        1  0.402154\n",
       "2        4  0.266839\n",
       "3        0  0.132867\n",
       "4        2  0.016704"
      ]
     },
     "execution_count": 26,
     "metadata": {},
     "output_type": "execute_result"
    }
   ],
   "source": [
    "# посчитаем долю оттока для каждого полученного кластера\n",
    "(df\n",
    "     .groupby('cluster')['churn']\n",
    "     .mean()\n",
    "     .reset_index()\n",
    "     .sort_values(by='churn', ascending=False)\n",
    "     .reset_index(drop=True))"
   ]
  },
  {
   "cell_type": "markdown",
   "metadata": {},
   "source": [
    "Клиенты из кластеров 1 и 3 более склонны к оттоку - ушло от 40 до 50%. Меньше всего отток наблюдается в кластерах 0 и 2 (13% и 1% соответственно)."
   ]
  },
  {
   "cell_type": "markdown",
   "metadata": {},
   "source": [
    "## Общие выводы и базовые рекомендации по работе с клиентами"
   ]
  },
  {
   "cell_type": "markdown",
   "metadata": {},
   "source": [
    "В проекте был проведёно исследование данных о клиентах сети фитнес-центров «Культурист-датасаентист»:\n",
    "\n",
    "1. С целью прогнозирования оттока клиентов построили модели логистической регрессии и случайного леса.\n",
    "2. По результатам оценки метрик модель логистической регрессии показала себя лучше и мы приняли решение, что для прогноза лучше подходит для использования. \n",
    "3. Обучили модель кластеризации на основании алгоритма K-Means. С помощью дендрограммы было выделено 5 кластеров. По результатам анализа кластеров выявлено, что на удержание клиентов влияет срок действия абонемента, скидки от знакомых и работодателей, частота посещения зала, групповые занятия и удалённость фитнес-клуба от места проживания или работы клиента.\n",
    "\n",
    "Если рассматривать имеющиеся данные в целом, клиенты более склонны к оттоку, если берут абонемент на более короткий срок, не посещают групповые занятия и реже посещают фитнес-клуб, более молоды и не использовали скидки от работодателя или знакомых. Пол и наличие контактного телефона на отток не влияют.\n",
    "\n",
    "**Кластер 2 наиболее подходящий кластер пользователей:** \n",
    "- клиенты живут близко к фитнес-клубу;\n",
    "- почти никто не имеет промо-кодов от друзей для первого посещения, так как они ходят достаточно давно (в среднем почти 6 месяцев);\n",
    "- со средней активностью посещают групповые занятия;\n",
    "- средний возраст самый высокий из всех кластеров - почти 31 год;\n",
    "- на дополнительные услуги тратят больше всех (177);\n",
    "- до прекращения контракта у них осталось примерно 6 месяцев;\n",
    "- средняя частота посещений в неделю за все время с начала действия абонемента примерно почти 2.5 раза в неделю;\n",
    "- отток таких клиентов совсем небольшой - 1%.\n",
    "\n",
    "**Рекомендации:**\n",
    "\n",
    "1. Мотивировать клиентов заключать договора на более длительный срок, например, за счёт снижения стоимости абонента в перерасчёте за месяц, если клиент берёт абонемент на 6 месяцев и более.\n",
    "\n",
    "2. Предложить больше промо-кодов для новых клиентов и скидки для тех, кто является постоянным клиентом и регулярно посещает фитнес-клуб.\n",
    "\n",
    "3. Групповые занятия должны быть интересными для клиентов. Рекомендуется сделать опрос среди посетителей, что им может быть интересно. Можно больше рекламировать проводимые групповые занятия, придумать весёлый и небанальный формат их проведения, предложить бесплатные пробные групповые занятия.\n",
    "\n",
    "4. Расширить список компаний-партнёров, с которыми может быть заключено соглашение о сотрудничестве для предоставления скидок сотрудникам, которые работают близко к фитнес-центру.\n",
    "\n",
    "5. Провести маркетинговую кампанию в том районе, где находится фитнес-клуб для привлечения клиентов среди людей, живущих или работающих поблизости."
   ]
  }
 ],
 "metadata": {
  "ExecuteTimeLog": [
   {
    "duration": 386,
    "start_time": "2022-06-26T17:23:30.488Z"
   },
   {
    "duration": 151,
    "start_time": "2022-06-26T17:23:31.889Z"
   },
   {
    "duration": 17,
    "start_time": "2022-06-26T17:24:05.707Z"
   },
   {
    "duration": 12,
    "start_time": "2022-06-26T17:25:01.704Z"
   },
   {
    "duration": 14,
    "start_time": "2022-06-26T17:25:04.041Z"
   },
   {
    "duration": 6,
    "start_time": "2022-06-26T17:29:49.591Z"
   },
   {
    "duration": 60,
    "start_time": "2022-06-26T17:34:47.357Z"
   },
   {
    "duration": 6,
    "start_time": "2022-06-26T17:34:50.988Z"
   },
   {
    "duration": 496,
    "start_time": "2022-06-26T17:34:52.793Z"
   },
   {
    "duration": 5,
    "start_time": "2022-06-26T17:35:57.887Z"
   },
   {
    "duration": 19,
    "start_time": "2022-06-26T17:35:59.954Z"
   },
   {
    "duration": 5,
    "start_time": "2022-06-26T17:37:10.846Z"
   },
   {
    "duration": 37,
    "start_time": "2022-06-26T17:37:12.299Z"
   },
   {
    "duration": 5,
    "start_time": "2022-06-26T17:37:24.852Z"
   },
   {
    "duration": 73,
    "start_time": "2022-06-26T17:37:26.814Z"
   },
   {
    "duration": 5,
    "start_time": "2022-06-26T17:38:28.690Z"
   },
   {
    "duration": 42,
    "start_time": "2022-06-26T17:38:30.744Z"
   },
   {
    "duration": 5,
    "start_time": "2022-06-26T17:39:26.003Z"
   },
   {
    "duration": 46,
    "start_time": "2022-06-26T17:39:27.655Z"
   },
   {
    "duration": 5,
    "start_time": "2022-06-26T17:39:49.280Z"
   },
   {
    "duration": 44,
    "start_time": "2022-06-26T17:40:11.716Z"
   },
   {
    "duration": 6,
    "start_time": "2022-06-26T17:42:45.252Z"
   },
   {
    "duration": 43,
    "start_time": "2022-06-26T17:42:47.433Z"
   },
   {
    "duration": 5,
    "start_time": "2022-06-26T17:43:02.662Z"
   },
   {
    "duration": 44,
    "start_time": "2022-06-26T17:43:04.491Z"
   },
   {
    "duration": 5,
    "start_time": "2022-06-26T17:44:25.189Z"
   },
   {
    "duration": 46,
    "start_time": "2022-06-26T17:44:26.695Z"
   },
   {
    "duration": 3,
    "start_time": "2022-06-26T17:52:02.614Z"
   },
   {
    "duration": 5,
    "start_time": "2022-06-26T17:52:11.036Z"
   },
   {
    "duration": 5,
    "start_time": "2022-06-26T17:52:27.122Z"
   },
   {
    "duration": 4,
    "start_time": "2022-06-26T17:52:32.270Z"
   },
   {
    "duration": 5,
    "start_time": "2022-06-26T17:53:36.147Z"
   },
   {
    "duration": 7,
    "start_time": "2022-06-26T17:54:26.323Z"
   },
   {
    "duration": 7,
    "start_time": "2022-06-26T17:54:49.699Z"
   },
   {
    "duration": 67,
    "start_time": "2022-06-27T05:34:22.399Z"
   },
   {
    "duration": 402,
    "start_time": "2022-06-27T05:34:30.592Z"
   },
   {
    "duration": 289,
    "start_time": "2022-06-27T05:34:30.996Z"
   },
   {
    "duration": 6,
    "start_time": "2022-06-27T05:34:31.286Z"
   },
   {
    "duration": 554,
    "start_time": "2022-06-27T05:34:31.293Z"
   },
   {
    "duration": 5,
    "start_time": "2022-06-27T05:34:31.848Z"
   },
   {
    "duration": 31,
    "start_time": "2022-06-27T05:34:31.854Z"
   },
   {
    "duration": 39,
    "start_time": "2022-06-27T05:34:31.887Z"
   },
   {
    "duration": 68,
    "start_time": "2022-06-27T05:34:31.928Z"
   },
   {
    "duration": 16,
    "start_time": "2022-06-27T05:43:50.749Z"
   },
   {
    "duration": 28,
    "start_time": "2022-06-27T07:16:26.518Z"
   },
   {
    "duration": 366,
    "start_time": "2022-06-28T05:35:27.561Z"
   },
   {
    "duration": 51,
    "start_time": "2022-06-28T05:35:27.929Z"
   },
   {
    "duration": 5,
    "start_time": "2022-06-28T05:35:27.981Z"
   },
   {
    "duration": 454,
    "start_time": "2022-06-28T05:35:27.988Z"
   },
   {
    "duration": 6,
    "start_time": "2022-06-28T05:35:28.444Z"
   },
   {
    "duration": 11,
    "start_time": "2022-06-28T05:35:28.451Z"
   },
   {
    "duration": 12,
    "start_time": "2022-06-28T05:35:28.463Z"
   },
   {
    "duration": 63,
    "start_time": "2022-06-28T05:35:28.477Z"
   },
   {
    "duration": 12,
    "start_time": "2022-06-28T05:35:28.542Z"
   },
   {
    "duration": 5,
    "start_time": "2022-06-28T05:40:28.202Z"
   },
   {
    "duration": 369,
    "start_time": "2022-06-28T05:40:37.588Z"
   },
   {
    "duration": 22,
    "start_time": "2022-06-28T05:40:37.959Z"
   },
   {
    "duration": 5,
    "start_time": "2022-06-28T05:40:37.982Z"
   },
   {
    "duration": 292,
    "start_time": "2022-06-28T05:40:37.989Z"
   },
   {
    "duration": 4,
    "start_time": "2022-06-28T05:40:38.283Z"
   },
   {
    "duration": 9,
    "start_time": "2022-06-28T05:40:38.288Z"
   },
   {
    "duration": 7,
    "start_time": "2022-06-28T05:40:38.299Z"
   },
   {
    "duration": 51,
    "start_time": "2022-06-28T05:40:38.307Z"
   },
   {
    "duration": 10,
    "start_time": "2022-06-28T05:40:38.359Z"
   },
   {
    "duration": 1193,
    "start_time": "2022-06-28T07:19:01.461Z"
   },
   {
    "duration": 25,
    "start_time": "2022-06-28T07:19:02.656Z"
   },
   {
    "duration": 64,
    "start_time": "2022-06-28T07:19:02.682Z"
   },
   {
    "duration": 110,
    "start_time": "2022-06-28T07:19:02.748Z"
   },
   {
    "duration": 6,
    "start_time": "2022-06-28T07:19:02.860Z"
   },
   {
    "duration": 20,
    "start_time": "2022-06-28T07:19:02.867Z"
   },
   {
    "duration": 28,
    "start_time": "2022-06-28T07:19:02.889Z"
   },
   {
    "duration": 51,
    "start_time": "2022-06-28T07:19:02.919Z"
   },
   {
    "duration": 12,
    "start_time": "2022-06-28T07:19:02.972Z"
   },
   {
    "duration": 101,
    "start_time": "2022-06-28T07:26:34.708Z"
   },
   {
    "duration": 1258,
    "start_time": "2022-06-28T07:27:16.411Z"
   },
   {
    "duration": 25,
    "start_time": "2022-06-28T07:27:17.671Z"
   },
   {
    "duration": 6,
    "start_time": "2022-06-28T07:27:17.697Z"
   },
   {
    "duration": 98,
    "start_time": "2022-06-28T07:27:17.704Z"
   },
   {
    "duration": 5,
    "start_time": "2022-06-28T07:27:17.829Z"
   },
   {
    "duration": 8,
    "start_time": "2022-06-28T07:27:17.836Z"
   },
   {
    "duration": 10,
    "start_time": "2022-06-28T07:27:17.846Z"
   },
   {
    "duration": 52,
    "start_time": "2022-06-28T07:27:17.857Z"
   },
   {
    "duration": 13,
    "start_time": "2022-06-28T07:27:17.928Z"
   },
   {
    "duration": 2180,
    "start_time": "2022-06-28T07:27:17.943Z"
   },
   {
    "duration": 1456,
    "start_time": "2022-06-28T07:31:51.723Z"
   },
   {
    "duration": 1462,
    "start_time": "2022-06-28T07:32:19.593Z"
   },
   {
    "duration": 1597,
    "start_time": "2022-06-28T07:34:36.261Z"
   },
   {
    "duration": 1426,
    "start_time": "2022-06-28T07:35:10.149Z"
   },
   {
    "duration": 1511,
    "start_time": "2022-06-28T07:35:18.773Z"
   },
   {
    "duration": 3860,
    "start_time": "2022-06-28T07:37:15.280Z"
   },
   {
    "duration": 3714,
    "start_time": "2022-06-28T07:37:50.639Z"
   },
   {
    "duration": 3901,
    "start_time": "2022-06-28T07:44:27.686Z"
   },
   {
    "duration": 1481,
    "start_time": "2022-06-28T08:05:09.162Z"
   },
   {
    "duration": 116,
    "start_time": "2022-06-28T08:07:03.779Z"
   },
   {
    "duration": 3717,
    "start_time": "2022-06-28T08:07:24.275Z"
   },
   {
    "duration": 10,
    "start_time": "2022-06-28T09:12:55.091Z"
   },
   {
    "duration": 180,
    "start_time": "2022-06-28T09:13:15.015Z"
   },
   {
    "duration": 55,
    "start_time": "2022-06-28T09:13:24.752Z"
   },
   {
    "duration": 169,
    "start_time": "2022-06-28T09:13:39.041Z"
   },
   {
    "duration": 2275,
    "start_time": "2022-06-28T09:14:48.808Z"
   },
   {
    "duration": 4,
    "start_time": "2022-06-28T09:19:16.415Z"
   },
   {
    "duration": 5,
    "start_time": "2022-06-28T09:19:44.264Z"
   },
   {
    "duration": 1270,
    "start_time": "2022-06-29T13:44:36.568Z"
   },
   {
    "duration": 43,
    "start_time": "2022-06-29T13:44:37.855Z"
   },
   {
    "duration": 6,
    "start_time": "2022-06-29T13:44:37.899Z"
   },
   {
    "duration": 95,
    "start_time": "2022-06-29T13:44:37.907Z"
   },
   {
    "duration": 32,
    "start_time": "2022-06-29T13:44:38.003Z"
   },
   {
    "duration": 7,
    "start_time": "2022-06-29T13:44:38.037Z"
   },
   {
    "duration": 8,
    "start_time": "2022-06-29T13:44:38.050Z"
   },
   {
    "duration": 46,
    "start_time": "2022-06-29T13:44:38.060Z"
   },
   {
    "duration": 31,
    "start_time": "2022-06-29T13:44:38.108Z"
   },
   {
    "duration": 3444,
    "start_time": "2022-06-29T13:44:38.141Z"
   },
   {
    "duration": 2253,
    "start_time": "2022-06-29T13:44:41.587Z"
   },
   {
    "duration": 1567,
    "start_time": "2022-06-29T13:44:43.844Z"
   },
   {
    "duration": 5,
    "start_time": "2022-06-29T13:44:45.412Z"
   },
   {
    "duration": 28,
    "start_time": "2022-06-29T13:44:45.419Z"
   },
   {
    "duration": 3542,
    "start_time": "2022-06-29T13:45:29.542Z"
   },
   {
    "duration": 3368,
    "start_time": "2022-06-29T13:45:41.849Z"
   },
   {
    "duration": 3552,
    "start_time": "2022-06-29T13:45:55.321Z"
   },
   {
    "duration": 2562,
    "start_time": "2022-06-29T13:47:07.410Z"
   },
   {
    "duration": 2557,
    "start_time": "2022-06-29T13:47:44.439Z"
   },
   {
    "duration": 45,
    "start_time": "2022-06-29T17:18:36.775Z"
   },
   {
    "duration": 1430,
    "start_time": "2022-06-29T17:18:44.372Z"
   },
   {
    "duration": 124,
    "start_time": "2022-06-29T17:18:45.804Z"
   },
   {
    "duration": 5,
    "start_time": "2022-06-29T17:18:45.930Z"
   },
   {
    "duration": 96,
    "start_time": "2022-06-29T17:18:45.937Z"
   },
   {
    "duration": 19,
    "start_time": "2022-06-29T17:18:46.035Z"
   },
   {
    "duration": 7,
    "start_time": "2022-06-29T17:18:46.057Z"
   },
   {
    "duration": 16,
    "start_time": "2022-06-29T17:18:46.069Z"
   },
   {
    "duration": 46,
    "start_time": "2022-06-29T17:18:46.087Z"
   },
   {
    "duration": 17,
    "start_time": "2022-06-29T17:18:46.153Z"
   },
   {
    "duration": 3810,
    "start_time": "2022-06-29T17:18:46.173Z"
   },
   {
    "duration": 2606,
    "start_time": "2022-06-29T17:18:49.985Z"
   },
   {
    "duration": 1624,
    "start_time": "2022-06-29T17:18:52.593Z"
   },
   {
    "duration": 6,
    "start_time": "2022-06-29T17:18:54.218Z"
   },
   {
    "duration": 5,
    "start_time": "2022-06-29T17:18:54.226Z"
   },
   {
    "duration": 108,
    "start_time": "2022-06-29T17:18:54.233Z"
   },
   {
    "duration": 8,
    "start_time": "2022-06-29T17:19:04.076Z"
   },
   {
    "duration": 9,
    "start_time": "2022-06-29T17:19:23.996Z"
   },
   {
    "duration": 238,
    "start_time": "2022-06-29T17:19:54.577Z"
   },
   {
    "duration": 5,
    "start_time": "2022-06-29T17:20:01.097Z"
   },
   {
    "duration": 1481,
    "start_time": "2022-06-29T17:23:24.770Z"
   },
   {
    "duration": 35,
    "start_time": "2022-06-29T17:23:26.254Z"
   },
   {
    "duration": 5,
    "start_time": "2022-06-29T17:23:26.290Z"
   },
   {
    "duration": 92,
    "start_time": "2022-06-29T17:23:26.297Z"
   },
   {
    "duration": 4,
    "start_time": "2022-06-29T17:23:26.390Z"
   },
   {
    "duration": 9,
    "start_time": "2022-06-29T17:23:26.396Z"
   },
   {
    "duration": 6,
    "start_time": "2022-06-29T17:23:26.407Z"
   },
   {
    "duration": 70,
    "start_time": "2022-06-29T17:23:26.414Z"
   },
   {
    "duration": 11,
    "start_time": "2022-06-29T17:23:26.486Z"
   },
   {
    "duration": 3778,
    "start_time": "2022-06-29T17:23:26.500Z"
   },
   {
    "duration": 2595,
    "start_time": "2022-06-29T17:23:30.280Z"
   },
   {
    "duration": 1545,
    "start_time": "2022-06-29T17:23:32.876Z"
   },
   {
    "duration": 7,
    "start_time": "2022-06-29T17:23:34.423Z"
   },
   {
    "duration": 5,
    "start_time": "2022-06-29T17:23:34.432Z"
   },
   {
    "duration": 8,
    "start_time": "2022-06-29T17:23:34.439Z"
   },
   {
    "duration": 2511,
    "start_time": "2022-06-29T17:31:44.082Z"
   },
   {
    "duration": 94,
    "start_time": "2022-06-29T17:45:05.353Z"
   },
   {
    "duration": 11,
    "start_time": "2022-06-29T17:46:23.871Z"
   },
   {
    "duration": 91,
    "start_time": "2022-06-29T17:47:18.601Z"
   },
   {
    "duration": 110,
    "start_time": "2022-06-29T17:47:49.289Z"
   },
   {
    "duration": 661,
    "start_time": "2022-06-29T17:47:55.425Z"
   },
   {
    "duration": 109,
    "start_time": "2022-06-29T17:48:49.182Z"
   },
   {
    "duration": 3,
    "start_time": "2022-06-29T17:49:16.998Z"
   },
   {
    "duration": 10,
    "start_time": "2022-06-29T17:49:21.270Z"
   },
   {
    "duration": 18,
    "start_time": "2022-06-29T17:49:39.990Z"
   },
   {
    "duration": 1328,
    "start_time": "2022-06-29T17:49:44.288Z"
   },
   {
    "duration": 29,
    "start_time": "2022-06-29T17:49:45.618Z"
   },
   {
    "duration": 6,
    "start_time": "2022-06-29T17:49:45.649Z"
   },
   {
    "duration": 97,
    "start_time": "2022-06-29T17:49:45.656Z"
   },
   {
    "duration": 5,
    "start_time": "2022-06-29T17:49:45.755Z"
   },
   {
    "duration": 7,
    "start_time": "2022-06-29T17:49:45.761Z"
   },
   {
    "duration": 8,
    "start_time": "2022-06-29T17:49:45.769Z"
   },
   {
    "duration": 45,
    "start_time": "2022-06-29T17:49:45.778Z"
   },
   {
    "duration": 32,
    "start_time": "2022-06-29T17:49:45.824Z"
   },
   {
    "duration": 2295,
    "start_time": "2022-06-29T17:49:45.858Z"
   },
   {
    "duration": 1534,
    "start_time": "2022-06-29T17:49:48.155Z"
   },
   {
    "duration": 5,
    "start_time": "2022-06-29T17:49:49.690Z"
   },
   {
    "duration": 5,
    "start_time": "2022-06-29T17:49:49.697Z"
   },
   {
    "duration": 5,
    "start_time": "2022-06-29T17:49:49.704Z"
   },
   {
    "duration": 12,
    "start_time": "2022-06-29T17:49:49.710Z"
   },
   {
    "duration": 666,
    "start_time": "2022-06-29T17:49:49.724Z"
   },
   {
    "duration": 113,
    "start_time": "2022-06-29T17:49:50.392Z"
   },
   {
    "duration": 9,
    "start_time": "2022-06-29T17:50:21.400Z"
   },
   {
    "duration": 575,
    "start_time": "2022-06-29T17:50:31.574Z"
   },
   {
    "duration": 59361,
    "start_time": "2022-06-29T17:50:39.844Z"
   },
   {
    "duration": 0,
    "start_time": "2022-06-29T17:51:39.206Z"
   },
   {
    "duration": 1403,
    "start_time": "2022-06-29T17:55:48.328Z"
   },
   {
    "duration": 30,
    "start_time": "2022-06-29T17:55:51.977Z"
   },
   {
    "duration": 6,
    "start_time": "2022-06-29T17:55:54.281Z"
   },
   {
    "duration": 80,
    "start_time": "2022-06-29T17:55:59.145Z"
   },
   {
    "duration": 5,
    "start_time": "2022-06-29T17:56:15.981Z"
   },
   {
    "duration": 5,
    "start_time": "2022-06-29T17:56:19.377Z"
   },
   {
    "duration": 7,
    "start_time": "2022-06-29T17:56:31.173Z"
   },
   {
    "duration": 46,
    "start_time": "2022-06-29T17:56:57.185Z"
   },
   {
    "duration": 13,
    "start_time": "2022-06-29T18:03:48.425Z"
   },
   {
    "duration": 2456,
    "start_time": "2022-06-29T18:07:02.474Z"
   },
   {
    "duration": 1509,
    "start_time": "2022-06-29T18:31:29.688Z"
   },
   {
    "duration": 53,
    "start_time": "2022-06-30T02:55:39.537Z"
   },
   {
    "duration": 1647,
    "start_time": "2022-06-30T02:55:50.196Z"
   },
   {
    "duration": 44,
    "start_time": "2022-06-30T02:55:51.845Z"
   },
   {
    "duration": 8,
    "start_time": "2022-06-30T02:55:51.891Z"
   },
   {
    "duration": 121,
    "start_time": "2022-06-30T02:55:51.901Z"
   },
   {
    "duration": 28,
    "start_time": "2022-06-30T02:55:52.023Z"
   },
   {
    "duration": 9,
    "start_time": "2022-06-30T02:55:52.053Z"
   },
   {
    "duration": 8,
    "start_time": "2022-06-30T02:55:52.064Z"
   },
   {
    "duration": 85,
    "start_time": "2022-06-30T02:55:52.074Z"
   },
   {
    "duration": 14,
    "start_time": "2022-06-30T02:55:52.161Z"
   },
   {
    "duration": 2648,
    "start_time": "2022-06-30T02:55:52.178Z"
   },
   {
    "duration": 1634,
    "start_time": "2022-06-30T02:55:54.828Z"
   },
   {
    "duration": 4,
    "start_time": "2022-06-30T02:56:09.274Z"
   },
   {
    "duration": 1479,
    "start_time": "2022-06-30T03:03:40.947Z"
   },
   {
    "duration": 22,
    "start_time": "2022-06-30T03:03:42.429Z"
   },
   {
    "duration": 9,
    "start_time": "2022-06-30T03:03:42.453Z"
   },
   {
    "duration": 137,
    "start_time": "2022-06-30T03:03:42.465Z"
   },
   {
    "duration": 6,
    "start_time": "2022-06-30T03:03:42.604Z"
   },
   {
    "duration": 9,
    "start_time": "2022-06-30T03:03:42.612Z"
   },
   {
    "duration": 7,
    "start_time": "2022-06-30T03:03:42.652Z"
   },
   {
    "duration": 58,
    "start_time": "2022-06-30T03:03:42.662Z"
   },
   {
    "duration": 33,
    "start_time": "2022-06-30T03:03:42.721Z"
   },
   {
    "duration": 2751,
    "start_time": "2022-06-30T03:03:42.757Z"
   },
   {
    "duration": 1628,
    "start_time": "2022-06-30T03:03:45.510Z"
   },
   {
    "duration": 5,
    "start_time": "2022-06-30T03:03:47.139Z"
   },
   {
    "duration": 8,
    "start_time": "2022-06-30T03:03:47.145Z"
   },
   {
    "duration": 7,
    "start_time": "2022-06-30T03:03:47.156Z"
   },
   {
    "duration": 7,
    "start_time": "2022-06-30T03:03:47.165Z"
   },
   {
    "duration": 14,
    "start_time": "2022-06-30T03:03:47.174Z"
   },
   {
    "duration": 847,
    "start_time": "2022-06-30T03:03:47.189Z"
   },
   {
    "duration": 14,
    "start_time": "2022-06-30T03:03:48.039Z"
   },
   {
    "duration": 693,
    "start_time": "2022-06-30T03:03:48.056Z"
   },
   {
    "duration": 114922,
    "start_time": "2022-06-30T03:03:48.752Z"
   },
   {
    "duration": 1576,
    "start_time": "2022-06-30T03:05:43.677Z"
   },
   {
    "duration": 54,
    "start_time": "2022-06-30T06:44:15.121Z"
   },
   {
    "duration": 1755,
    "start_time": "2022-06-30T06:44:24.883Z"
   },
   {
    "duration": 79,
    "start_time": "2022-06-30T06:44:26.641Z"
   },
   {
    "duration": 7,
    "start_time": "2022-06-30T06:44:26.722Z"
   },
   {
    "duration": 136,
    "start_time": "2022-06-30T06:44:26.731Z"
   },
   {
    "duration": 12,
    "start_time": "2022-06-30T06:44:26.870Z"
   },
   {
    "duration": 26,
    "start_time": "2022-06-30T06:44:26.885Z"
   },
   {
    "duration": 14,
    "start_time": "2022-06-30T06:44:26.913Z"
   },
   {
    "duration": 54,
    "start_time": "2022-06-30T06:44:26.929Z"
   },
   {
    "duration": 16,
    "start_time": "2022-06-30T06:44:26.985Z"
   },
   {
    "duration": 2822,
    "start_time": "2022-06-30T06:44:27.003Z"
   },
   {
    "duration": 1869,
    "start_time": "2022-06-30T06:44:29.827Z"
   },
   {
    "duration": 5,
    "start_time": "2022-06-30T06:44:31.699Z"
   },
   {
    "duration": 26,
    "start_time": "2022-06-30T06:44:31.706Z"
   },
   {
    "duration": 18,
    "start_time": "2022-06-30T06:44:31.735Z"
   },
   {
    "duration": 53,
    "start_time": "2022-06-30T06:44:31.755Z"
   },
   {
    "duration": 14,
    "start_time": "2022-06-30T06:49:50.703Z"
   },
   {
    "duration": 326,
    "start_time": "2022-06-30T06:50:46.873Z"
   },
   {
    "duration": 4,
    "start_time": "2022-06-30T06:51:45.731Z"
   },
   {
    "duration": 7,
    "start_time": "2022-06-30T06:51:47.003Z"
   },
   {
    "duration": 18,
    "start_time": "2022-06-30T06:51:48.555Z"
   },
   {
    "duration": 213,
    "start_time": "2022-06-30T06:51:51.489Z"
   },
   {
    "duration": 399,
    "start_time": "2022-06-30T06:52:14.769Z"
   },
   {
    "duration": 9,
    "start_time": "2022-06-30T06:52:18.797Z"
   },
   {
    "duration": 153,
    "start_time": "2022-06-30T06:52:33.912Z"
   },
   {
    "duration": 30,
    "start_time": "2022-06-30T06:52:50.080Z"
   },
   {
    "duration": 1497,
    "start_time": "2022-06-30T06:53:42.515Z"
   },
   {
    "duration": 22,
    "start_time": "2022-06-30T06:53:44.014Z"
   },
   {
    "duration": 7,
    "start_time": "2022-06-30T06:53:44.038Z"
   },
   {
    "duration": 120,
    "start_time": "2022-06-30T06:53:44.047Z"
   },
   {
    "duration": 7,
    "start_time": "2022-06-30T06:53:44.169Z"
   },
   {
    "duration": 28,
    "start_time": "2022-06-30T06:53:44.177Z"
   },
   {
    "duration": 7,
    "start_time": "2022-06-30T06:53:44.207Z"
   },
   {
    "duration": 53,
    "start_time": "2022-06-30T06:53:44.216Z"
   },
   {
    "duration": 13,
    "start_time": "2022-06-30T06:53:44.271Z"
   },
   {
    "duration": 2742,
    "start_time": "2022-06-30T06:53:44.285Z"
   },
   {
    "duration": 1911,
    "start_time": "2022-06-30T06:53:47.029Z"
   },
   {
    "duration": 4,
    "start_time": "2022-06-30T06:53:48.942Z"
   },
   {
    "duration": 9,
    "start_time": "2022-06-30T06:53:48.948Z"
   },
   {
    "duration": 41,
    "start_time": "2022-06-30T06:53:48.962Z"
   },
   {
    "duration": 11,
    "start_time": "2022-06-30T06:53:49.005Z"
   },
   {
    "duration": 341,
    "start_time": "2022-06-30T06:53:49.018Z"
   },
   {
    "duration": 505,
    "start_time": "2022-06-30T06:53:49.364Z"
   },
   {
    "duration": 6,
    "start_time": "2022-06-30T06:53:49.871Z"
   },
   {
    "duration": 31,
    "start_time": "2022-06-30T06:53:49.879Z"
   },
   {
    "duration": 13,
    "start_time": "2022-06-30T06:53:49.912Z"
   },
   {
    "duration": 105,
    "start_time": "2022-06-30T13:23:50.275Z"
   },
   {
    "duration": 45,
    "start_time": "2022-06-30T13:26:39.604Z"
   },
   {
    "duration": 1609,
    "start_time": "2022-06-30T13:26:44.869Z"
   },
   {
    "duration": 133,
    "start_time": "2022-06-30T13:26:46.480Z"
   },
   {
    "duration": 7,
    "start_time": "2022-06-30T13:26:46.615Z"
   },
   {
    "duration": 101,
    "start_time": "2022-06-30T13:26:46.624Z"
   },
   {
    "duration": 5,
    "start_time": "2022-06-30T13:26:46.726Z"
   },
   {
    "duration": 8,
    "start_time": "2022-06-30T13:26:46.732Z"
   },
   {
    "duration": 7,
    "start_time": "2022-06-30T13:26:46.742Z"
   },
   {
    "duration": 70,
    "start_time": "2022-06-30T13:26:46.750Z"
   },
   {
    "duration": 12,
    "start_time": "2022-06-30T13:26:46.822Z"
   },
   {
    "duration": 2638,
    "start_time": "2022-06-30T13:26:46.836Z"
   },
   {
    "duration": 1700,
    "start_time": "2022-06-30T13:26:49.476Z"
   },
   {
    "duration": 4,
    "start_time": "2022-06-30T13:26:51.178Z"
   },
   {
    "duration": 7,
    "start_time": "2022-06-30T13:26:51.184Z"
   },
   {
    "duration": 7,
    "start_time": "2022-06-30T13:26:51.193Z"
   },
   {
    "duration": 11,
    "start_time": "2022-06-30T13:26:51.202Z"
   },
   {
    "duration": 88,
    "start_time": "2022-06-30T13:26:51.215Z"
   },
   {
    "duration": 451,
    "start_time": "2022-06-30T13:26:51.395Z"
   },
   {
    "duration": 4,
    "start_time": "2022-06-30T13:26:51.847Z"
   },
   {
    "duration": 18,
    "start_time": "2022-06-30T13:26:51.853Z"
   },
   {
    "duration": 21,
    "start_time": "2022-06-30T13:26:51.873Z"
   },
   {
    "duration": 4,
    "start_time": "2022-06-30T13:29:40.301Z"
   },
   {
    "duration": 3,
    "start_time": "2022-06-30T13:30:05.945Z"
   },
   {
    "duration": 112,
    "start_time": "2022-06-30T13:30:11.690Z"
   },
   {
    "duration": 4,
    "start_time": "2022-06-30T13:30:37.058Z"
   },
   {
    "duration": 9,
    "start_time": "2022-06-30T13:31:21.426Z"
   },
   {
    "duration": 18,
    "start_time": "2022-06-30T13:31:55.248Z"
   },
   {
    "duration": 17,
    "start_time": "2022-06-30T13:32:12.527Z"
   },
   {
    "duration": 4,
    "start_time": "2022-06-30T13:36:34.443Z"
   },
   {
    "duration": 17,
    "start_time": "2022-06-30T13:36:35.760Z"
   },
   {
    "duration": 1454,
    "start_time": "2022-06-30T13:42:13.000Z"
   },
   {
    "duration": 32,
    "start_time": "2022-06-30T13:42:14.456Z"
   },
   {
    "duration": 8,
    "start_time": "2022-06-30T13:42:14.490Z"
   },
   {
    "duration": 114,
    "start_time": "2022-06-30T13:42:14.501Z"
   },
   {
    "duration": 5,
    "start_time": "2022-06-30T13:42:14.617Z"
   },
   {
    "duration": 13,
    "start_time": "2022-06-30T13:42:14.624Z"
   },
   {
    "duration": 18,
    "start_time": "2022-06-30T13:42:14.639Z"
   },
   {
    "duration": 70,
    "start_time": "2022-06-30T13:42:14.659Z"
   },
   {
    "duration": 13,
    "start_time": "2022-06-30T13:42:14.731Z"
   },
   {
    "duration": 2732,
    "start_time": "2022-06-30T13:42:14.746Z"
   },
   {
    "duration": 1616,
    "start_time": "2022-06-30T13:42:17.480Z"
   },
   {
    "duration": 4,
    "start_time": "2022-06-30T13:42:19.099Z"
   },
   {
    "duration": 9,
    "start_time": "2022-06-30T13:42:19.105Z"
   },
   {
    "duration": 9,
    "start_time": "2022-06-30T13:42:19.116Z"
   },
   {
    "duration": 118,
    "start_time": "2022-06-30T13:42:19.127Z"
   },
   {
    "duration": 0,
    "start_time": "2022-06-30T13:42:19.246Z"
   },
   {
    "duration": 0,
    "start_time": "2022-06-30T13:42:19.248Z"
   },
   {
    "duration": 0,
    "start_time": "2022-06-30T13:42:19.249Z"
   },
   {
    "duration": 0,
    "start_time": "2022-06-30T13:42:19.249Z"
   },
   {
    "duration": 726,
    "start_time": "2022-06-30T13:43:01.068Z"
   },
   {
    "duration": 613,
    "start_time": "2022-06-30T13:43:14.580Z"
   },
   {
    "duration": 1417,
    "start_time": "2022-06-30T13:43:19.920Z"
   },
   {
    "duration": 32,
    "start_time": "2022-06-30T13:43:21.339Z"
   },
   {
    "duration": 7,
    "start_time": "2022-06-30T13:43:21.373Z"
   },
   {
    "duration": 112,
    "start_time": "2022-06-30T13:43:21.382Z"
   },
   {
    "duration": 5,
    "start_time": "2022-06-30T13:43:21.496Z"
   },
   {
    "duration": 9,
    "start_time": "2022-06-30T13:43:21.502Z"
   },
   {
    "duration": 11,
    "start_time": "2022-06-30T13:43:21.513Z"
   },
   {
    "duration": 51,
    "start_time": "2022-06-30T13:43:21.525Z"
   },
   {
    "duration": 13,
    "start_time": "2022-06-30T13:43:21.593Z"
   },
   {
    "duration": 2576,
    "start_time": "2022-06-30T13:43:21.607Z"
   },
   {
    "duration": 1636,
    "start_time": "2022-06-30T13:43:24.184Z"
   },
   {
    "duration": 5,
    "start_time": "2022-06-30T13:43:25.822Z"
   },
   {
    "duration": 7,
    "start_time": "2022-06-30T13:43:25.829Z"
   },
   {
    "duration": 6,
    "start_time": "2022-06-30T13:43:25.839Z"
   },
   {
    "duration": 649,
    "start_time": "2022-06-30T13:43:25.847Z"
   },
   {
    "duration": 212,
    "start_time": "2022-06-30T13:43:26.498Z"
   },
   {
    "duration": 0,
    "start_time": "2022-06-30T13:43:26.712Z"
   },
   {
    "duration": 0,
    "start_time": "2022-06-30T13:43:26.713Z"
   },
   {
    "duration": 0,
    "start_time": "2022-06-30T13:43:26.715Z"
   },
   {
    "duration": 1367,
    "start_time": "2022-06-30T13:43:45.753Z"
   },
   {
    "duration": 32,
    "start_time": "2022-06-30T13:43:47.123Z"
   },
   {
    "duration": 7,
    "start_time": "2022-06-30T13:43:47.157Z"
   },
   {
    "duration": 127,
    "start_time": "2022-06-30T13:43:47.167Z"
   },
   {
    "duration": 5,
    "start_time": "2022-06-30T13:43:47.295Z"
   },
   {
    "duration": 8,
    "start_time": "2022-06-30T13:43:47.302Z"
   },
   {
    "duration": 7,
    "start_time": "2022-06-30T13:43:47.311Z"
   },
   {
    "duration": 49,
    "start_time": "2022-06-30T13:43:47.320Z"
   },
   {
    "duration": 13,
    "start_time": "2022-06-30T13:43:47.393Z"
   },
   {
    "duration": 2594,
    "start_time": "2022-06-30T13:43:47.409Z"
   },
   {
    "duration": 1623,
    "start_time": "2022-06-30T13:43:50.005Z"
   },
   {
    "duration": 4,
    "start_time": "2022-06-30T13:43:51.630Z"
   },
   {
    "duration": 8,
    "start_time": "2022-06-30T13:43:51.636Z"
   },
   {
    "duration": 8,
    "start_time": "2022-06-30T13:43:51.646Z"
   },
   {
    "duration": 738,
    "start_time": "2022-06-30T13:43:51.656Z"
   },
   {
    "duration": 472,
    "start_time": "2022-06-30T13:43:52.396Z"
   },
   {
    "duration": 4,
    "start_time": "2022-06-30T13:43:52.869Z"
   },
   {
    "duration": 23,
    "start_time": "2022-06-30T13:43:52.875Z"
   },
   {
    "duration": 10,
    "start_time": "2022-06-30T13:43:52.900Z"
   },
   {
    "duration": 10,
    "start_time": "2022-06-30T13:47:13.727Z"
   },
   {
    "duration": 318,
    "start_time": "2022-06-30T13:49:55.016Z"
   },
   {
    "duration": 98,
    "start_time": "2022-06-30T13:50:03.705Z"
   },
   {
    "duration": 11,
    "start_time": "2022-06-30T13:51:01.717Z"
   },
   {
    "duration": 1465,
    "start_time": "2022-06-30T13:52:05.929Z"
   },
   {
    "duration": 35,
    "start_time": "2022-06-30T13:52:07.396Z"
   },
   {
    "duration": 7,
    "start_time": "2022-06-30T13:52:07.432Z"
   },
   {
    "duration": 109,
    "start_time": "2022-06-30T13:52:07.441Z"
   },
   {
    "duration": 5,
    "start_time": "2022-06-30T13:52:07.551Z"
   },
   {
    "duration": 14,
    "start_time": "2022-06-30T13:52:07.558Z"
   },
   {
    "duration": 22,
    "start_time": "2022-06-30T13:52:07.574Z"
   },
   {
    "duration": 54,
    "start_time": "2022-06-30T13:52:07.598Z"
   },
   {
    "duration": 11,
    "start_time": "2022-06-30T13:52:07.653Z"
   },
   {
    "duration": 2600,
    "start_time": "2022-06-30T13:52:07.667Z"
   },
   {
    "duration": 1640,
    "start_time": "2022-06-30T13:52:10.268Z"
   },
   {
    "duration": 4,
    "start_time": "2022-06-30T13:52:11.910Z"
   },
   {
    "duration": 10,
    "start_time": "2022-06-30T13:52:11.916Z"
   },
   {
    "duration": 8,
    "start_time": "2022-06-30T13:52:11.927Z"
   },
   {
    "duration": 11,
    "start_time": "2022-06-30T13:52:11.937Z"
   },
   {
    "duration": 11,
    "start_time": "2022-06-30T13:52:11.950Z"
   },
   {
    "duration": 372,
    "start_time": "2022-06-30T13:52:11.963Z"
   },
   {
    "duration": 5,
    "start_time": "2022-06-30T13:52:12.337Z"
   },
   {
    "duration": 19,
    "start_time": "2022-06-30T13:52:12.344Z"
   },
   {
    "duration": 113,
    "start_time": "2022-06-30T13:55:34.899Z"
   },
   {
    "duration": 8,
    "start_time": "2022-06-30T13:55:43.064Z"
   },
   {
    "duration": 47249,
    "start_time": "2022-06-30T13:55:44.396Z"
   },
   {
    "duration": 8,
    "start_time": "2022-06-30T13:56:36.464Z"
   },
   {
    "duration": 37918,
    "start_time": "2022-06-30T13:58:11.156Z"
   },
   {
    "duration": 669,
    "start_time": "2022-06-30T13:58:56.117Z"
   },
   {
    "duration": 118359,
    "start_time": "2022-06-30T13:59:06.753Z"
   },
   {
    "duration": 9,
    "start_time": "2022-06-30T14:05:29.676Z"
   },
   {
    "duration": 11,
    "start_time": "2022-06-30T14:05:41.460Z"
   },
   {
    "duration": 1408,
    "start_time": "2022-06-30T14:05:48.488Z"
   },
   {
    "duration": 32,
    "start_time": "2022-06-30T14:05:49.898Z"
   },
   {
    "duration": 7,
    "start_time": "2022-06-30T14:05:49.932Z"
   },
   {
    "duration": 100,
    "start_time": "2022-06-30T14:05:49.941Z"
   },
   {
    "duration": 6,
    "start_time": "2022-06-30T14:05:50.042Z"
   },
   {
    "duration": 11,
    "start_time": "2022-06-30T14:05:50.049Z"
   },
   {
    "duration": 34,
    "start_time": "2022-06-30T14:05:50.062Z"
   },
   {
    "duration": 50,
    "start_time": "2022-06-30T14:05:50.098Z"
   },
   {
    "duration": 13,
    "start_time": "2022-06-30T14:05:50.149Z"
   },
   {
    "duration": 2657,
    "start_time": "2022-06-30T14:05:50.166Z"
   },
   {
    "duration": 1699,
    "start_time": "2022-06-30T14:05:52.825Z"
   },
   {
    "duration": 4,
    "start_time": "2022-06-30T14:05:54.526Z"
   },
   {
    "duration": 13,
    "start_time": "2022-06-30T14:05:54.531Z"
   },
   {
    "duration": 10,
    "start_time": "2022-06-30T14:05:54.546Z"
   },
   {
    "duration": 13,
    "start_time": "2022-06-30T14:05:54.558Z"
   },
   {
    "duration": 14,
    "start_time": "2022-06-30T14:05:54.573Z"
   },
   {
    "duration": 398,
    "start_time": "2022-06-30T14:05:54.589Z"
   },
   {
    "duration": 7,
    "start_time": "2022-06-30T14:05:54.989Z"
   },
   {
    "duration": 26,
    "start_time": "2022-06-30T14:05:54.997Z"
   },
   {
    "duration": 8,
    "start_time": "2022-06-30T14:05:55.025Z"
   },
   {
    "duration": 119370,
    "start_time": "2022-06-30T14:05:55.035Z"
   },
   {
    "duration": 122,
    "start_time": "2022-06-30T14:07:54.407Z"
   },
   {
    "duration": 1334,
    "start_time": "2022-06-30T14:08:08.665Z"
   },
   {
    "duration": 17,
    "start_time": "2022-06-30T14:08:22.397Z"
   },
   {
    "duration": 134,
    "start_time": "2022-06-30T14:10:06.993Z"
   },
   {
    "duration": 1012,
    "start_time": "2022-06-30T14:10:17.209Z"
   },
   {
    "duration": 1784,
    "start_time": "2022-06-30T14:10:51.098Z"
   },
   {
    "duration": 128,
    "start_time": "2022-06-30T14:11:14.794Z"
   },
   {
    "duration": 427,
    "start_time": "2022-06-30T14:11:26.431Z"
   },
   {
    "duration": 550,
    "start_time": "2022-06-30T14:11:53.079Z"
   },
   {
    "duration": 437,
    "start_time": "2022-06-30T14:12:06.219Z"
   },
   {
    "duration": 461,
    "start_time": "2022-06-30T14:12:40.742Z"
   },
   {
    "duration": 9,
    "start_time": "2022-06-30T14:13:37.429Z"
   },
   {
    "duration": 10,
    "start_time": "2022-06-30T14:13:41.411Z"
   },
   {
    "duration": 11,
    "start_time": "2022-06-30T14:15:18.111Z"
   },
   {
    "duration": 17,
    "start_time": "2022-06-30T14:17:38.529Z"
   },
   {
    "duration": 4,
    "start_time": "2022-06-30T14:17:56.657Z"
   },
   {
    "duration": 38,
    "start_time": "2022-06-30T14:17:56.663Z"
   },
   {
    "duration": 6,
    "start_time": "2022-06-30T14:17:56.703Z"
   },
   {
    "duration": 53,
    "start_time": "2022-06-30T14:17:56.710Z"
   },
   {
    "duration": 29,
    "start_time": "2022-06-30T14:17:56.765Z"
   },
   {
    "duration": 8,
    "start_time": "2022-06-30T14:17:56.796Z"
   },
   {
    "duration": 8,
    "start_time": "2022-06-30T14:17:56.805Z"
   },
   {
    "duration": 49,
    "start_time": "2022-06-30T14:17:56.814Z"
   },
   {
    "duration": 30,
    "start_time": "2022-06-30T14:17:56.865Z"
   },
   {
    "duration": 2564,
    "start_time": "2022-06-30T14:17:56.896Z"
   },
   {
    "duration": 1642,
    "start_time": "2022-06-30T14:17:59.462Z"
   },
   {
    "duration": 50,
    "start_time": "2022-06-30T14:19:24.277Z"
   },
   {
    "duration": 1472,
    "start_time": "2022-06-30T14:19:30.789Z"
   },
   {
    "duration": 33,
    "start_time": "2022-06-30T14:19:32.263Z"
   },
   {
    "duration": 7,
    "start_time": "2022-06-30T14:19:32.297Z"
   },
   {
    "duration": 101,
    "start_time": "2022-06-30T14:19:32.306Z"
   },
   {
    "duration": 5,
    "start_time": "2022-06-30T14:19:32.408Z"
   },
   {
    "duration": 10,
    "start_time": "2022-06-30T14:19:32.414Z"
   },
   {
    "duration": 9,
    "start_time": "2022-06-30T14:19:32.426Z"
   },
   {
    "duration": 70,
    "start_time": "2022-06-30T14:19:32.437Z"
   },
   {
    "duration": 11,
    "start_time": "2022-06-30T14:19:32.508Z"
   },
   {
    "duration": 2604,
    "start_time": "2022-06-30T14:19:32.522Z"
   },
   {
    "duration": 1648,
    "start_time": "2022-06-30T14:19:35.128Z"
   },
   {
    "duration": 4,
    "start_time": "2022-06-30T14:19:39.865Z"
   },
   {
    "duration": 1531,
    "start_time": "2022-06-30T14:20:22.009Z"
   },
   {
    "duration": 32,
    "start_time": "2022-06-30T14:20:23.542Z"
   },
   {
    "duration": 8,
    "start_time": "2022-06-30T14:20:23.577Z"
   },
   {
    "duration": 121,
    "start_time": "2022-06-30T14:20:23.588Z"
   },
   {
    "duration": 6,
    "start_time": "2022-06-30T14:20:23.711Z"
   },
   {
    "duration": 25,
    "start_time": "2022-06-30T14:20:23.719Z"
   },
   {
    "duration": 17,
    "start_time": "2022-06-30T14:20:23.746Z"
   },
   {
    "duration": 66,
    "start_time": "2022-06-30T14:20:23.765Z"
   },
   {
    "duration": 12,
    "start_time": "2022-06-30T14:20:23.833Z"
   },
   {
    "duration": 2154,
    "start_time": "2022-06-30T14:20:23.849Z"
   },
   {
    "duration": 0,
    "start_time": "2022-06-30T14:20:26.005Z"
   },
   {
    "duration": 0,
    "start_time": "2022-06-30T14:20:26.006Z"
   },
   {
    "duration": 0,
    "start_time": "2022-06-30T14:20:26.007Z"
   },
   {
    "duration": 0,
    "start_time": "2022-06-30T14:20:26.009Z"
   },
   {
    "duration": 0,
    "start_time": "2022-06-30T14:20:26.009Z"
   },
   {
    "duration": 0,
    "start_time": "2022-06-30T14:20:26.011Z"
   },
   {
    "duration": 0,
    "start_time": "2022-06-30T14:20:26.012Z"
   },
   {
    "duration": 0,
    "start_time": "2022-06-30T14:20:26.013Z"
   },
   {
    "duration": 0,
    "start_time": "2022-06-30T14:20:26.014Z"
   },
   {
    "duration": 0,
    "start_time": "2022-06-30T14:20:26.015Z"
   },
   {
    "duration": 0,
    "start_time": "2022-06-30T14:20:26.015Z"
   },
   {
    "duration": 0,
    "start_time": "2022-06-30T14:20:26.017Z"
   },
   {
    "duration": 0,
    "start_time": "2022-06-30T14:20:26.018Z"
   },
   {
    "duration": 0,
    "start_time": "2022-06-30T14:20:26.019Z"
   },
   {
    "duration": 0,
    "start_time": "2022-06-30T14:20:26.020Z"
   },
   {
    "duration": 0,
    "start_time": "2022-06-30T14:20:26.021Z"
   },
   {
    "duration": 4,
    "start_time": "2022-06-30T14:20:36.693Z"
   },
   {
    "duration": 38,
    "start_time": "2022-06-30T14:20:36.699Z"
   },
   {
    "duration": 6,
    "start_time": "2022-06-30T14:20:36.740Z"
   },
   {
    "duration": 63,
    "start_time": "2022-06-30T14:20:36.748Z"
   },
   {
    "duration": 5,
    "start_time": "2022-06-30T14:20:36.813Z"
   },
   {
    "duration": 10,
    "start_time": "2022-06-30T14:20:36.819Z"
   },
   {
    "duration": 7,
    "start_time": "2022-06-30T14:20:36.831Z"
   },
   {
    "duration": 74,
    "start_time": "2022-06-30T14:20:36.840Z"
   },
   {
    "duration": 11,
    "start_time": "2022-06-30T14:20:36.916Z"
   },
   {
    "duration": 2592,
    "start_time": "2022-06-30T14:20:36.929Z"
   },
   {
    "duration": 1601,
    "start_time": "2022-06-30T14:20:39.523Z"
   },
   {
    "duration": 4,
    "start_time": "2022-06-30T14:20:46.801Z"
   },
   {
    "duration": 4,
    "start_time": "2022-06-30T14:21:50.322Z"
   },
   {
    "duration": 6,
    "start_time": "2022-06-30T14:21:51.738Z"
   },
   {
    "duration": 11,
    "start_time": "2022-06-30T14:21:53.002Z"
   },
   {
    "duration": 37,
    "start_time": "2022-06-30T14:22:38.857Z"
   },
   {
    "duration": 375,
    "start_time": "2022-06-30T14:23:00.230Z"
   },
   {
    "duration": 5,
    "start_time": "2022-06-30T14:23:12.658Z"
   },
   {
    "duration": 16,
    "start_time": "2022-06-30T14:23:14.095Z"
   },
   {
    "duration": 10,
    "start_time": "2022-06-30T14:25:04.507Z"
   },
   {
    "duration": 8,
    "start_time": "2022-06-30T14:25:24.295Z"
   },
   {
    "duration": 10,
    "start_time": "2022-06-30T14:27:27.392Z"
   },
   {
    "duration": 116364,
    "start_time": "2022-06-30T14:27:34.845Z"
   },
   {
    "duration": 11,
    "start_time": "2022-06-30T14:31:17.958Z"
   },
   {
    "duration": 1199,
    "start_time": "2022-06-30T14:31:26.794Z"
   },
   {
    "duration": 18,
    "start_time": "2022-06-30T14:32:00.854Z"
   },
   {
    "duration": 113,
    "start_time": "2022-06-30T14:37:34.817Z"
   },
   {
    "duration": 1400,
    "start_time": "2022-06-30T14:37:40.069Z"
   },
   {
    "duration": 1547,
    "start_time": "2022-06-30T14:37:55.677Z"
   },
   {
    "duration": 117,
    "start_time": "2022-06-30T14:38:33.117Z"
   },
   {
    "duration": 743,
    "start_time": "2022-06-30T14:38:42.177Z"
   },
   {
    "duration": 11,
    "start_time": "2022-06-30T14:39:27.037Z"
   },
   {
    "duration": 4,
    "start_time": "2022-06-30T15:02:11.494Z"
   },
   {
    "duration": 16,
    "start_time": "2022-06-30T15:03:29.939Z"
   },
   {
    "duration": 1483,
    "start_time": "2022-06-30T15:04:03.300Z"
   },
   {
    "duration": 34,
    "start_time": "2022-06-30T15:04:04.785Z"
   },
   {
    "duration": 7,
    "start_time": "2022-06-30T15:04:04.821Z"
   },
   {
    "duration": 104,
    "start_time": "2022-06-30T15:04:04.830Z"
   },
   {
    "duration": 5,
    "start_time": "2022-06-30T15:04:04.936Z"
   },
   {
    "duration": 10,
    "start_time": "2022-06-30T15:04:04.942Z"
   },
   {
    "duration": 8,
    "start_time": "2022-06-30T15:04:04.953Z"
   },
   {
    "duration": 98,
    "start_time": "2022-06-30T15:04:04.962Z"
   },
   {
    "duration": 14,
    "start_time": "2022-06-30T15:04:05.062Z"
   },
   {
    "duration": 2681,
    "start_time": "2022-06-30T15:04:05.080Z"
   },
   {
    "duration": 1689,
    "start_time": "2022-06-30T15:04:07.763Z"
   },
   {
    "duration": 4,
    "start_time": "2022-06-30T15:04:09.454Z"
   },
   {
    "duration": 10,
    "start_time": "2022-06-30T15:04:09.460Z"
   },
   {
    "duration": 7,
    "start_time": "2022-06-30T15:04:09.472Z"
   },
   {
    "duration": 12,
    "start_time": "2022-06-30T15:04:09.481Z"
   },
   {
    "duration": 18,
    "start_time": "2022-06-30T15:04:09.495Z"
   },
   {
    "duration": 485,
    "start_time": "2022-06-30T15:04:09.595Z"
   },
   {
    "duration": 3,
    "start_time": "2022-06-30T15:04:10.082Z"
   },
   {
    "duration": 22,
    "start_time": "2022-06-30T15:04:10.087Z"
   },
   {
    "duration": 10,
    "start_time": "2022-06-30T15:04:10.110Z"
   },
   {
    "duration": 122030,
    "start_time": "2022-06-30T15:04:10.122Z"
   },
   {
    "duration": 1540,
    "start_time": "2022-06-30T15:06:12.154Z"
   },
   {
    "duration": 104,
    "start_time": "2022-06-30T15:06:13.696Z"
   },
   {
    "duration": 1127,
    "start_time": "2022-06-30T15:06:13.802Z"
   },
   {
    "duration": 0,
    "start_time": "2022-06-30T15:06:14.931Z"
   },
   {
    "duration": 0,
    "start_time": "2022-06-30T15:06:14.932Z"
   },
   {
    "duration": 1739,
    "start_time": "2022-06-30T15:17:07.030Z"
   },
   {
    "duration": 431,
    "start_time": "2022-06-30T15:18:10.826Z"
   },
   {
    "duration": 660,
    "start_time": "2022-06-30T15:18:31.743Z"
   },
   {
    "duration": 1590,
    "start_time": "2022-06-30T15:21:17.676Z"
   },
   {
    "duration": 8,
    "start_time": "2022-06-30T15:25:51.234Z"
   },
   {
    "duration": 11,
    "start_time": "2022-06-30T15:28:28.779Z"
   },
   {
    "duration": 1524,
    "start_time": "2022-06-30T15:30:11.583Z"
   },
   {
    "duration": 33,
    "start_time": "2022-06-30T15:30:13.109Z"
   },
   {
    "duration": 6,
    "start_time": "2022-06-30T15:30:13.144Z"
   },
   {
    "duration": 94,
    "start_time": "2022-06-30T15:30:13.153Z"
   },
   {
    "duration": 5,
    "start_time": "2022-06-30T15:30:13.248Z"
   },
   {
    "duration": 14,
    "start_time": "2022-06-30T15:30:13.255Z"
   },
   {
    "duration": 25,
    "start_time": "2022-06-30T15:30:13.270Z"
   },
   {
    "duration": 48,
    "start_time": "2022-06-30T15:30:13.296Z"
   },
   {
    "duration": 13,
    "start_time": "2022-06-30T15:30:13.345Z"
   },
   {
    "duration": 2556,
    "start_time": "2022-06-30T15:30:13.361Z"
   },
   {
    "duration": 1625,
    "start_time": "2022-06-30T15:30:15.919Z"
   },
   {
    "duration": 4,
    "start_time": "2022-06-30T15:30:17.546Z"
   },
   {
    "duration": 6,
    "start_time": "2022-06-30T15:30:17.552Z"
   },
   {
    "duration": 7,
    "start_time": "2022-06-30T15:30:17.560Z"
   },
   {
    "duration": 16,
    "start_time": "2022-06-30T15:30:17.568Z"
   },
   {
    "duration": 18,
    "start_time": "2022-06-30T15:30:17.586Z"
   },
   {
    "duration": 462,
    "start_time": "2022-06-30T15:30:17.695Z"
   },
   {
    "duration": 3,
    "start_time": "2022-06-30T15:30:18.159Z"
   },
   {
    "duration": 18,
    "start_time": "2022-06-30T15:30:18.164Z"
   },
   {
    "duration": 9,
    "start_time": "2022-06-30T15:30:18.194Z"
   },
   {
    "duration": 114809,
    "start_time": "2022-06-30T15:30:18.204Z"
   },
   {
    "duration": 1380,
    "start_time": "2022-06-30T15:32:13.014Z"
   },
   {
    "duration": 103,
    "start_time": "2022-06-30T15:32:14.396Z"
   },
   {
    "duration": 1477,
    "start_time": "2022-06-30T15:32:14.501Z"
   },
   {
    "duration": 893,
    "start_time": "2022-06-30T15:32:15.979Z"
   },
   {
    "duration": 10,
    "start_time": "2022-06-30T15:32:16.874Z"
   },
   {
    "duration": 2039,
    "start_time": "2022-06-30T17:29:56.617Z"
   },
   {
    "duration": 0,
    "start_time": "2022-06-30T17:29:58.657Z"
   },
   {
    "duration": 1939,
    "start_time": "2022-06-30T17:31:01.977Z"
   },
   {
    "duration": 1242,
    "start_time": "2022-06-30T17:31:26.957Z"
   },
   {
    "duration": 18,
    "start_time": "2022-06-30T17:31:30.522Z"
   },
   {
    "duration": 1435,
    "start_time": "2022-06-30T17:32:36.474Z"
   },
   {
    "duration": 36,
    "start_time": "2022-06-30T17:32:37.912Z"
   },
   {
    "duration": 8,
    "start_time": "2022-06-30T17:32:37.950Z"
   },
   {
    "duration": 96,
    "start_time": "2022-06-30T17:32:37.960Z"
   },
   {
    "duration": 5,
    "start_time": "2022-06-30T17:32:38.058Z"
   },
   {
    "duration": 30,
    "start_time": "2022-06-30T17:32:38.065Z"
   },
   {
    "duration": 6,
    "start_time": "2022-06-30T17:32:38.096Z"
   },
   {
    "duration": 51,
    "start_time": "2022-06-30T17:32:38.103Z"
   },
   {
    "duration": 11,
    "start_time": "2022-06-30T17:32:38.155Z"
   },
   {
    "duration": 2509,
    "start_time": "2022-06-30T17:32:38.169Z"
   },
   {
    "duration": 1612,
    "start_time": "2022-06-30T17:32:40.680Z"
   },
   {
    "duration": 4,
    "start_time": "2022-06-30T17:32:42.294Z"
   },
   {
    "duration": 11,
    "start_time": "2022-06-30T17:32:42.299Z"
   },
   {
    "duration": 7,
    "start_time": "2022-06-30T17:32:42.312Z"
   },
   {
    "duration": 12,
    "start_time": "2022-06-30T17:32:42.321Z"
   },
   {
    "duration": 64,
    "start_time": "2022-06-30T17:32:42.335Z"
   },
   {
    "duration": 604,
    "start_time": "2022-06-30T17:32:42.401Z"
   },
   {
    "duration": 0,
    "start_time": "2022-06-30T17:32:43.007Z"
   },
   {
    "duration": 0,
    "start_time": "2022-06-30T17:32:43.008Z"
   },
   {
    "duration": 0,
    "start_time": "2022-06-30T17:32:43.009Z"
   },
   {
    "duration": 0,
    "start_time": "2022-06-30T17:32:43.010Z"
   },
   {
    "duration": 0,
    "start_time": "2022-06-30T17:32:43.011Z"
   },
   {
    "duration": 0,
    "start_time": "2022-06-30T17:32:43.013Z"
   },
   {
    "duration": 0,
    "start_time": "2022-06-30T17:32:43.014Z"
   },
   {
    "duration": 0,
    "start_time": "2022-06-30T17:32:43.015Z"
   },
   {
    "duration": 0,
    "start_time": "2022-06-30T17:32:43.016Z"
   },
   {
    "duration": 118,
    "start_time": "2022-06-30T17:33:00.335Z"
   },
   {
    "duration": 15,
    "start_time": "2022-06-30T17:33:29.127Z"
   },
   {
    "duration": 1417,
    "start_time": "2022-06-30T17:33:49.094Z"
   },
   {
    "duration": 32,
    "start_time": "2022-06-30T17:33:50.513Z"
   },
   {
    "duration": 7,
    "start_time": "2022-06-30T17:33:50.547Z"
   },
   {
    "duration": 96,
    "start_time": "2022-06-30T17:33:50.556Z"
   },
   {
    "duration": 5,
    "start_time": "2022-06-30T17:33:50.653Z"
   },
   {
    "duration": 9,
    "start_time": "2022-06-30T17:33:50.659Z"
   },
   {
    "duration": 26,
    "start_time": "2022-06-30T17:33:50.669Z"
   },
   {
    "duration": 48,
    "start_time": "2022-06-30T17:33:50.696Z"
   },
   {
    "duration": 12,
    "start_time": "2022-06-30T17:33:50.746Z"
   },
   {
    "duration": 2548,
    "start_time": "2022-06-30T17:33:50.761Z"
   },
   {
    "duration": 1617,
    "start_time": "2022-06-30T17:33:53.311Z"
   },
   {
    "duration": 4,
    "start_time": "2022-06-30T17:33:54.930Z"
   },
   {
    "duration": 7,
    "start_time": "2022-06-30T17:33:54.936Z"
   },
   {
    "duration": 8,
    "start_time": "2022-06-30T17:33:54.944Z"
   },
   {
    "duration": 13,
    "start_time": "2022-06-30T17:33:54.954Z"
   },
   {
    "duration": 129,
    "start_time": "2022-06-30T17:33:54.969Z"
   },
   {
    "duration": 465,
    "start_time": "2022-06-30T17:33:55.101Z"
   },
   {
    "duration": 4,
    "start_time": "2022-06-30T17:33:55.568Z"
   },
   {
    "duration": 29,
    "start_time": "2022-06-30T17:33:55.574Z"
   },
   {
    "duration": 8,
    "start_time": "2022-06-30T17:33:55.605Z"
   },
   {
    "duration": 114451,
    "start_time": "2022-06-30T17:33:55.615Z"
   },
   {
    "duration": 1327,
    "start_time": "2022-06-30T17:35:50.067Z"
   },
   {
    "duration": 102,
    "start_time": "2022-06-30T17:35:51.396Z"
   },
   {
    "duration": 1508,
    "start_time": "2022-06-30T17:35:51.500Z"
   },
   {
    "duration": 942,
    "start_time": "2022-06-30T17:35:53.010Z"
   },
   {
    "duration": 12,
    "start_time": "2022-06-30T17:35:53.954Z"
   },
   {
    "duration": 1478,
    "start_time": "2022-06-30T18:37:22.604Z"
   },
   {
    "duration": 32,
    "start_time": "2022-06-30T18:37:24.084Z"
   },
   {
    "duration": 6,
    "start_time": "2022-06-30T18:37:24.118Z"
   },
   {
    "duration": 96,
    "start_time": "2022-06-30T18:37:24.126Z"
   },
   {
    "duration": 5,
    "start_time": "2022-06-30T18:37:24.223Z"
   },
   {
    "duration": 10,
    "start_time": "2022-06-30T18:37:24.229Z"
   },
   {
    "duration": 9,
    "start_time": "2022-06-30T18:37:24.241Z"
   },
   {
    "duration": 70,
    "start_time": "2022-06-30T18:37:24.251Z"
   },
   {
    "duration": 15,
    "start_time": "2022-06-30T18:37:24.323Z"
   },
   {
    "duration": 2559,
    "start_time": "2022-06-30T18:37:24.341Z"
   },
   {
    "duration": 1586,
    "start_time": "2022-06-30T18:37:26.902Z"
   },
   {
    "duration": 5,
    "start_time": "2022-06-30T18:37:28.490Z"
   },
   {
    "duration": 8,
    "start_time": "2022-06-30T18:37:28.497Z"
   },
   {
    "duration": 7,
    "start_time": "2022-06-30T18:37:28.507Z"
   },
   {
    "duration": 11,
    "start_time": "2022-06-30T18:37:28.515Z"
   },
   {
    "duration": 72,
    "start_time": "2022-06-30T18:37:28.528Z"
   },
   {
    "duration": 534,
    "start_time": "2022-06-30T18:37:28.602Z"
   },
   {
    "duration": 4,
    "start_time": "2022-06-30T18:37:29.138Z"
   },
   {
    "duration": 20,
    "start_time": "2022-06-30T18:37:29.144Z"
   },
   {
    "duration": 9,
    "start_time": "2022-06-30T18:37:29.166Z"
   },
   {
    "duration": 113801,
    "start_time": "2022-06-30T18:37:29.193Z"
   },
   {
    "duration": 1299,
    "start_time": "2022-06-30T18:39:22.995Z"
   },
   {
    "duration": 102,
    "start_time": "2022-06-30T18:39:24.296Z"
   },
   {
    "duration": 1478,
    "start_time": "2022-06-30T18:39:24.400Z"
   },
   {
    "duration": 873,
    "start_time": "2022-06-30T18:39:25.879Z"
   },
   {
    "duration": 10,
    "start_time": "2022-06-30T18:39:26.754Z"
   },
   {
    "duration": 1672,
    "start_time": "2022-06-30T19:12:52.188Z"
   },
   {
    "duration": 22,
    "start_time": "2022-06-30T19:12:53.861Z"
   },
   {
    "duration": 7,
    "start_time": "2022-06-30T19:12:53.884Z"
   },
   {
    "duration": 99,
    "start_time": "2022-06-30T19:12:53.893Z"
   },
   {
    "duration": 29,
    "start_time": "2022-06-30T19:12:53.994Z"
   },
   {
    "duration": 7,
    "start_time": "2022-06-30T19:12:54.025Z"
   },
   {
    "duration": 9,
    "start_time": "2022-06-30T19:12:54.033Z"
   },
   {
    "duration": 46,
    "start_time": "2022-06-30T19:12:54.044Z"
   },
   {
    "duration": 33,
    "start_time": "2022-06-30T19:12:54.091Z"
   },
   {
    "duration": 2445,
    "start_time": "2022-06-30T19:12:54.127Z"
   },
   {
    "duration": 1646,
    "start_time": "2022-06-30T19:12:56.574Z"
   },
   {
    "duration": 3,
    "start_time": "2022-06-30T19:12:58.226Z"
   },
   {
    "duration": 7,
    "start_time": "2022-06-30T19:12:58.231Z"
   },
   {
    "duration": 7,
    "start_time": "2022-06-30T19:12:58.239Z"
   },
   {
    "duration": 9,
    "start_time": "2022-06-30T19:12:58.248Z"
   },
   {
    "duration": 70,
    "start_time": "2022-06-30T19:12:58.259Z"
   },
   {
    "duration": 547,
    "start_time": "2022-06-30T19:12:58.331Z"
   },
   {
    "duration": 5,
    "start_time": "2022-06-30T19:12:58.879Z"
   },
   {
    "duration": 18,
    "start_time": "2022-06-30T19:12:58.886Z"
   },
   {
    "duration": 20,
    "start_time": "2022-06-30T19:12:58.906Z"
   },
   {
    "duration": 115512,
    "start_time": "2022-06-30T19:12:58.929Z"
   },
   {
    "duration": 1581,
    "start_time": "2022-06-30T19:14:54.442Z"
   },
   {
    "duration": 17,
    "start_time": "2022-06-30T19:14:56.025Z"
   },
   {
    "duration": 1391,
    "start_time": "2022-06-30T19:14:56.044Z"
   },
   {
    "duration": 910,
    "start_time": "2022-06-30T19:14:57.436Z"
   },
   {
    "duration": 10,
    "start_time": "2022-06-30T19:14:58.348Z"
   },
   {
    "duration": 464,
    "start_time": "2022-07-17T05:34:55.344Z"
   },
   {
    "duration": 11,
    "start_time": "2022-07-17T05:35:28.856Z"
   }
  ],
  "kernelspec": {
   "display_name": "Python 3 (ipykernel)",
   "language": "python",
   "name": "python3"
  },
  "language_info": {
   "codemirror_mode": {
    "name": "ipython",
    "version": 3
   },
   "file_extension": ".py",
   "mimetype": "text/x-python",
   "name": "python",
   "nbconvert_exporter": "python",
   "pygments_lexer": "ipython3",
   "version": "3.9.12"
  },
  "toc": {
   "base_numbering": 1,
   "nav_menu": {},
   "number_sections": true,
   "sideBar": true,
   "skip_h1_title": true,
   "title_cell": "Содержание",
   "title_sidebar": "Содержание",
   "toc_cell": true,
   "toc_position": {
    "height": "calc(100% - 180px)",
    "left": "10px",
    "top": "150px",
    "width": "217.225px"
   },
   "toc_section_display": true,
   "toc_window_display": false
  }
 },
 "nbformat": 4,
 "nbformat_minor": 2
}
