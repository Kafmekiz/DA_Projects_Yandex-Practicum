{
 "cells": [
  {
   "cell_type": "markdown",
   "metadata": {},
   "source": [
    "# Проект № 7: Принятие решений в бизнесе на основе данных"
   ]
  },
  {
   "cell_type": "markdown",
   "metadata": {},
   "source": [
    "## Описание проекта"
   ]
  },
  {
   "cell_type": "markdown",
   "metadata": {},
   "source": [
    "Мы — аналитики крупного интернет-магазина. Вместе с отделом маркетинга мы подготовили список гипотез для увеличения выручки.\n",
    "\n",
    "**Проект состоит из двух частей:**\n",
    "\n",
    "* Часть 1. Необходимо приоритизировать гипотезы.\n",
    "* Часть 2. Запустить A/B-тест и проанализировать результаты."
   ]
  },
  {
   "cell_type": "markdown",
   "metadata": {},
   "source": [
    "## Описание данных"
   ]
  },
  {
   "cell_type": "markdown",
   "metadata": {},
   "source": [
    "**Данные для первой части проекта:**\n",
    "\n",
    "Структура **hypothesis.csv** \n",
    "* `Hypothesis` — краткое описание гипотезы;\n",
    "* `Reach` — охват пользователей по 10-балльной шкале;\n",
    "* `Impact` — влияние на пользователей по 10-балльной шкале;\n",
    "* `Confidence` — уверенность в гипотезе по 10-балльной шкале;\n",
    "* `Efforts` — затраты ресурсов на проверку гипотезы по 10-балльной шкале. Чем больше значение Efforts, тем дороже проверка гипотезы.\n",
    "\n",
    "**Данные для второй части проекта:**\n",
    "\n",
    "Структура **orders.csv**\n",
    "* `transactionId` — идентификатор заказа;\n",
    "* `visitorId` — идентификатор пользователя, совершившего заказ;\n",
    "* `date` — дата, когда был совершён заказ;\n",
    "* `revenue` — выручка заказа;\n",
    "* `group` — группа A/B-теста, в которую попал заказ.\n",
    "\n",
    "Структура **visitors.csv** \n",
    "* `date` — дата;\n",
    "* `group` — группа A/B-теста;\n",
    "* `visitors` — количество пользователей в указанную дату в указанной группе A/B-теста"
   ]
  },
  {
   "cell_type": "markdown",
   "metadata": {},
   "source": [
    "## Обзор и преобработка данных"
   ]
  },
  {
   "cell_type": "code",
   "execution_count": 1,
   "metadata": {},
   "outputs": [],
   "source": [
    "# импортируем необходимые для работы библиотеки\n",
    "import pandas as pd\n",
    "from pandas.plotting import register_matplotlib_converters\n",
    "import numpy as np\n",
    "\n",
    "from matplotlib import pyplot as plt\n",
    "\n",
    "import math\n",
    "from scipy import stats\n",
    "\n",
    "from datetime import timedelta\n",
    "import datetime as dt\n",
    "\n",
    "from statsmodels.stats.proportion import proportions_ztest\n",
    "import warnings\n",
    "\n",
    "warnings.filterwarnings('ignore')\n",
    "\n",
    "pd.options.display.max_colwidth = 150  \n",
    "\n",
    "# конвертеры, которые позволяют использовать типы pandas в matplotlib  \n",
    "register_matplotlib_converters()"
   ]
  },
  {
   "cell_type": "code",
   "execution_count": 2,
   "metadata": {},
   "outputs": [],
   "source": [
    "# сохраним данные в соответствующие переменные\n",
    "hypothesis = pd.read_csv('hypothesis.csv')\n",
    "orders = pd.read_csv('orders.csv')\n",
    "visitors = pd.read_csv('visitors.csv')"
   ]
  },
  {
   "cell_type": "code",
   "execution_count": 3,
   "metadata": {
    "scrolled": true
   },
   "outputs": [
    {
     "name": "stdout",
     "output_type": "stream",
     "text": [
      "--------------------------------------------------\n",
      "\n",
      "<class 'pandas.core.frame.DataFrame'>\n",
      "RangeIndex: 9 entries, 0 to 8\n",
      "Data columns (total 5 columns):\n",
      " #   Column      Non-Null Count  Dtype \n",
      "---  ------      --------------  ----- \n",
      " 0   Hypothesis  9 non-null      object\n",
      " 1   Reach       9 non-null      int64 \n",
      " 2   Impact      9 non-null      int64 \n",
      " 3   Confidence  9 non-null      int64 \n",
      " 4   Efforts     9 non-null      int64 \n",
      "dtypes: int64(4), object(1)\n",
      "memory usage: 488.0+ bytes\n",
      "\n"
     ]
    },
    {
     "data": {
      "text/html": [
       "<div>\n",
       "<style scoped>\n",
       "    .dataframe tbody tr th:only-of-type {\n",
       "        vertical-align: middle;\n",
       "    }\n",
       "\n",
       "    .dataframe tbody tr th {\n",
       "        vertical-align: top;\n",
       "    }\n",
       "\n",
       "    .dataframe thead th {\n",
       "        text-align: right;\n",
       "    }\n",
       "</style>\n",
       "<table border=\"1\" class=\"dataframe\">\n",
       "  <thead>\n",
       "    <tr style=\"text-align: right;\">\n",
       "      <th></th>\n",
       "      <th>Hypothesis</th>\n",
       "      <th>Reach</th>\n",
       "      <th>Impact</th>\n",
       "      <th>Confidence</th>\n",
       "      <th>Efforts</th>\n",
       "    </tr>\n",
       "  </thead>\n",
       "  <tbody>\n",
       "    <tr>\n",
       "      <th>0</th>\n",
       "      <td>Добавить два новых канала привлечения трафика, что позволит привлекать на 30% больше пользователей</td>\n",
       "      <td>3</td>\n",
       "      <td>10</td>\n",
       "      <td>8</td>\n",
       "      <td>6</td>\n",
       "    </tr>\n",
       "    <tr>\n",
       "      <th>1</th>\n",
       "      <td>Запустить собственную службу доставки, что сократит срок доставки заказов</td>\n",
       "      <td>2</td>\n",
       "      <td>5</td>\n",
       "      <td>4</td>\n",
       "      <td>10</td>\n",
       "    </tr>\n",
       "    <tr>\n",
       "      <th>2</th>\n",
       "      <td>Добавить блоки рекомендаций товаров на сайт интернет магазина, чтобы повысить конверсию и средний чек заказа</td>\n",
       "      <td>8</td>\n",
       "      <td>3</td>\n",
       "      <td>7</td>\n",
       "      <td>3</td>\n",
       "    </tr>\n",
       "    <tr>\n",
       "      <th>3</th>\n",
       "      <td>Изменить структура категорий, что увеличит конверсию, т.к. пользователи быстрее найдут нужный товар</td>\n",
       "      <td>8</td>\n",
       "      <td>3</td>\n",
       "      <td>3</td>\n",
       "      <td>8</td>\n",
       "    </tr>\n",
       "    <tr>\n",
       "      <th>4</th>\n",
       "      <td>Изменить цвет фона главной страницы, чтобы увеличить вовлеченность пользователей</td>\n",
       "      <td>3</td>\n",
       "      <td>1</td>\n",
       "      <td>1</td>\n",
       "      <td>1</td>\n",
       "    </tr>\n",
       "  </tbody>\n",
       "</table>\n",
       "</div>"
      ],
      "text/plain": [
       "                                                                                                     Hypothesis  \\\n",
       "0            Добавить два новых канала привлечения трафика, что позволит привлекать на 30% больше пользователей   \n",
       "1                                     Запустить собственную службу доставки, что сократит срок доставки заказов   \n",
       "2  Добавить блоки рекомендаций товаров на сайт интернет магазина, чтобы повысить конверсию и средний чек заказа   \n",
       "3           Изменить структура категорий, что увеличит конверсию, т.к. пользователи быстрее найдут нужный товар   \n",
       "4                              Изменить цвет фона главной страницы, чтобы увеличить вовлеченность пользователей   \n",
       "\n",
       "   Reach  Impact  Confidence  Efforts  \n",
       "0      3      10           8        6  \n",
       "1      2       5           4       10  \n",
       "2      8       3           7        3  \n",
       "3      8       3           3        8  \n",
       "4      3       1           1        1  "
      ]
     },
     "metadata": {},
     "output_type": "display_data"
    },
    {
     "name": "stdout",
     "output_type": "stream",
     "text": [
      "\n",
      "--------------------------------------------------\n",
      "\n",
      "<class 'pandas.core.frame.DataFrame'>\n",
      "RangeIndex: 1197 entries, 0 to 1196\n",
      "Data columns (total 5 columns):\n",
      " #   Column         Non-Null Count  Dtype \n",
      "---  ------         --------------  ----- \n",
      " 0   transactionId  1197 non-null   int64 \n",
      " 1   visitorId      1197 non-null   int64 \n",
      " 2   date           1197 non-null   object\n",
      " 3   revenue        1197 non-null   int64 \n",
      " 4   group          1197 non-null   object\n",
      "dtypes: int64(3), object(2)\n",
      "memory usage: 46.9+ KB\n",
      "\n"
     ]
    },
    {
     "data": {
      "text/html": [
       "<div>\n",
       "<style scoped>\n",
       "    .dataframe tbody tr th:only-of-type {\n",
       "        vertical-align: middle;\n",
       "    }\n",
       "\n",
       "    .dataframe tbody tr th {\n",
       "        vertical-align: top;\n",
       "    }\n",
       "\n",
       "    .dataframe thead th {\n",
       "        text-align: right;\n",
       "    }\n",
       "</style>\n",
       "<table border=\"1\" class=\"dataframe\">\n",
       "  <thead>\n",
       "    <tr style=\"text-align: right;\">\n",
       "      <th></th>\n",
       "      <th>transactionId</th>\n",
       "      <th>visitorId</th>\n",
       "      <th>date</th>\n",
       "      <th>revenue</th>\n",
       "      <th>group</th>\n",
       "    </tr>\n",
       "  </thead>\n",
       "  <tbody>\n",
       "    <tr>\n",
       "      <th>0</th>\n",
       "      <td>3667963787</td>\n",
       "      <td>3312258926</td>\n",
       "      <td>2019-08-15</td>\n",
       "      <td>1650</td>\n",
       "      <td>B</td>\n",
       "    </tr>\n",
       "    <tr>\n",
       "      <th>1</th>\n",
       "      <td>2804400009</td>\n",
       "      <td>3642806036</td>\n",
       "      <td>2019-08-15</td>\n",
       "      <td>730</td>\n",
       "      <td>B</td>\n",
       "    </tr>\n",
       "    <tr>\n",
       "      <th>2</th>\n",
       "      <td>2961555356</td>\n",
       "      <td>4069496402</td>\n",
       "      <td>2019-08-15</td>\n",
       "      <td>400</td>\n",
       "      <td>A</td>\n",
       "    </tr>\n",
       "    <tr>\n",
       "      <th>3</th>\n",
       "      <td>3797467345</td>\n",
       "      <td>1196621759</td>\n",
       "      <td>2019-08-15</td>\n",
       "      <td>9759</td>\n",
       "      <td>B</td>\n",
       "    </tr>\n",
       "    <tr>\n",
       "      <th>4</th>\n",
       "      <td>2282983706</td>\n",
       "      <td>2322279887</td>\n",
       "      <td>2019-08-15</td>\n",
       "      <td>2308</td>\n",
       "      <td>B</td>\n",
       "    </tr>\n",
       "  </tbody>\n",
       "</table>\n",
       "</div>"
      ],
      "text/plain": [
       "   transactionId   visitorId        date  revenue group\n",
       "0     3667963787  3312258926  2019-08-15     1650     B\n",
       "1     2804400009  3642806036  2019-08-15      730     B\n",
       "2     2961555356  4069496402  2019-08-15      400     A\n",
       "3     3797467345  1196621759  2019-08-15     9759     B\n",
       "4     2282983706  2322279887  2019-08-15     2308     B"
      ]
     },
     "metadata": {},
     "output_type": "display_data"
    },
    {
     "name": "stdout",
     "output_type": "stream",
     "text": [
      "\n",
      "--------------------------------------------------\n",
      "\n",
      "<class 'pandas.core.frame.DataFrame'>\n",
      "RangeIndex: 62 entries, 0 to 61\n",
      "Data columns (total 3 columns):\n",
      " #   Column    Non-Null Count  Dtype \n",
      "---  ------    --------------  ----- \n",
      " 0   date      62 non-null     object\n",
      " 1   group     62 non-null     object\n",
      " 2   visitors  62 non-null     int64 \n",
      "dtypes: int64(1), object(2)\n",
      "memory usage: 1.6+ KB\n",
      "\n"
     ]
    },
    {
     "data": {
      "text/html": [
       "<div>\n",
       "<style scoped>\n",
       "    .dataframe tbody tr th:only-of-type {\n",
       "        vertical-align: middle;\n",
       "    }\n",
       "\n",
       "    .dataframe tbody tr th {\n",
       "        vertical-align: top;\n",
       "    }\n",
       "\n",
       "    .dataframe thead th {\n",
       "        text-align: right;\n",
       "    }\n",
       "</style>\n",
       "<table border=\"1\" class=\"dataframe\">\n",
       "  <thead>\n",
       "    <tr style=\"text-align: right;\">\n",
       "      <th></th>\n",
       "      <th>date</th>\n",
       "      <th>group</th>\n",
       "      <th>visitors</th>\n",
       "    </tr>\n",
       "  </thead>\n",
       "  <tbody>\n",
       "    <tr>\n",
       "      <th>0</th>\n",
       "      <td>2019-08-01</td>\n",
       "      <td>A</td>\n",
       "      <td>719</td>\n",
       "    </tr>\n",
       "    <tr>\n",
       "      <th>1</th>\n",
       "      <td>2019-08-02</td>\n",
       "      <td>A</td>\n",
       "      <td>619</td>\n",
       "    </tr>\n",
       "    <tr>\n",
       "      <th>2</th>\n",
       "      <td>2019-08-03</td>\n",
       "      <td>A</td>\n",
       "      <td>507</td>\n",
       "    </tr>\n",
       "    <tr>\n",
       "      <th>3</th>\n",
       "      <td>2019-08-04</td>\n",
       "      <td>A</td>\n",
       "      <td>717</td>\n",
       "    </tr>\n",
       "    <tr>\n",
       "      <th>4</th>\n",
       "      <td>2019-08-05</td>\n",
       "      <td>A</td>\n",
       "      <td>756</td>\n",
       "    </tr>\n",
       "  </tbody>\n",
       "</table>\n",
       "</div>"
      ],
      "text/plain": [
       "         date group  visitors\n",
       "0  2019-08-01     A       719\n",
       "1  2019-08-02     A       619\n",
       "2  2019-08-03     A       507\n",
       "3  2019-08-04     A       717\n",
       "4  2019-08-05     A       756"
      ]
     },
     "metadata": {},
     "output_type": "display_data"
    },
    {
     "name": "stdout",
     "output_type": "stream",
     "text": [
      "\n"
     ]
    }
   ],
   "source": [
    "# напишем функцию для первичного ознакомления (общая информация и первые пять строк датасета)\n",
    "def dataset_info(dataset_name):\n",
    "    dataset_name.info()\n",
    "    print()\n",
    "    display(dataset_name.head())\n",
    "\n",
    "# с помощью цикла пройдёмся по всем датасетам    \n",
    "for dataset in [hypothesis, orders, visitors]:\n",
    "    print('-'*50)\n",
    "    print()\n",
    "    dataset_info(dataset)\n",
    "    print()"
   ]
  },
  {
   "cell_type": "markdown",
   "metadata": {},
   "source": [
    "Пропусков в таблицах нет, названия столбцов в таблице `orders` к нижнему регистру приводить не будем для удобства восприятия.\n",
    "\n",
    "Необходимо будет изменить тип данных с датами **_object_** на **_datetime_** и привести названия столбцов таблицы `hypothesis` к нижнему регистру.\n",
    "\n",
    "Так же необходимо проверить значения таблиц на наличие различных аномалий."
   ]
  },
  {
   "cell_type": "markdown",
   "metadata": {},
   "source": [
    "### Таблица hypothesis"
   ]
  },
  {
   "cell_type": "code",
   "execution_count": 4,
   "metadata": {},
   "outputs": [
    {
     "data": {
      "text/plain": [
       "Index(['hypothesis', 'reach', 'impact', 'confidence', 'efforts'], dtype='object')"
      ]
     },
     "execution_count": 4,
     "metadata": {},
     "output_type": "execute_result"
    }
   ],
   "source": [
    "# приведём названия столбцов к нижнему регистру\n",
    "hypothesis.columns = hypothesis.columns.str.lower()\n",
    "hypothesis.columns"
   ]
  },
  {
   "cell_type": "code",
   "execution_count": 5,
   "metadata": {},
   "outputs": [
    {
     "data": {
      "text/html": [
       "<div>\n",
       "<style scoped>\n",
       "    .dataframe tbody tr th:only-of-type {\n",
       "        vertical-align: middle;\n",
       "    }\n",
       "\n",
       "    .dataframe tbody tr th {\n",
       "        vertical-align: top;\n",
       "    }\n",
       "\n",
       "    .dataframe thead th {\n",
       "        text-align: right;\n",
       "    }\n",
       "</style>\n",
       "<table border=\"1\" class=\"dataframe\">\n",
       "  <thead>\n",
       "    <tr style=\"text-align: right;\">\n",
       "      <th></th>\n",
       "      <th>reach</th>\n",
       "      <th>impact</th>\n",
       "      <th>confidence</th>\n",
       "      <th>efforts</th>\n",
       "    </tr>\n",
       "  </thead>\n",
       "  <tbody>\n",
       "    <tr>\n",
       "      <th>count</th>\n",
       "      <td>9.000000</td>\n",
       "      <td>9.000000</td>\n",
       "      <td>9.000000</td>\n",
       "      <td>9.000000</td>\n",
       "    </tr>\n",
       "    <tr>\n",
       "      <th>mean</th>\n",
       "      <td>4.777778</td>\n",
       "      <td>4.777778</td>\n",
       "      <td>5.555556</td>\n",
       "      <td>4.888889</td>\n",
       "    </tr>\n",
       "    <tr>\n",
       "      <th>std</th>\n",
       "      <td>3.153481</td>\n",
       "      <td>3.192874</td>\n",
       "      <td>3.045944</td>\n",
       "      <td>2.803767</td>\n",
       "    </tr>\n",
       "    <tr>\n",
       "      <th>min</th>\n",
       "      <td>1.000000</td>\n",
       "      <td>1.000000</td>\n",
       "      <td>1.000000</td>\n",
       "      <td>1.000000</td>\n",
       "    </tr>\n",
       "    <tr>\n",
       "      <th>25%</th>\n",
       "      <td>3.000000</td>\n",
       "      <td>3.000000</td>\n",
       "      <td>3.000000</td>\n",
       "      <td>3.000000</td>\n",
       "    </tr>\n",
       "    <tr>\n",
       "      <th>50%</th>\n",
       "      <td>3.000000</td>\n",
       "      <td>3.000000</td>\n",
       "      <td>7.000000</td>\n",
       "      <td>5.000000</td>\n",
       "    </tr>\n",
       "    <tr>\n",
       "      <th>75%</th>\n",
       "      <td>8.000000</td>\n",
       "      <td>7.000000</td>\n",
       "      <td>8.000000</td>\n",
       "      <td>6.000000</td>\n",
       "    </tr>\n",
       "    <tr>\n",
       "      <th>max</th>\n",
       "      <td>10.000000</td>\n",
       "      <td>10.000000</td>\n",
       "      <td>9.000000</td>\n",
       "      <td>10.000000</td>\n",
       "    </tr>\n",
       "  </tbody>\n",
       "</table>\n",
       "</div>"
      ],
      "text/plain": [
       "           reach     impact  confidence    efforts\n",
       "count   9.000000   9.000000    9.000000   9.000000\n",
       "mean    4.777778   4.777778    5.555556   4.888889\n",
       "std     3.153481   3.192874    3.045944   2.803767\n",
       "min     1.000000   1.000000    1.000000   1.000000\n",
       "25%     3.000000   3.000000    3.000000   3.000000\n",
       "50%     3.000000   3.000000    7.000000   5.000000\n",
       "75%     8.000000   7.000000    8.000000   6.000000\n",
       "max    10.000000  10.000000    9.000000  10.000000"
      ]
     },
     "execution_count": 5,
     "metadata": {},
     "output_type": "execute_result"
    }
   ],
   "source": [
    "# посмотрим описательную статистику таблицы hypothesis\n",
    "hypothesis.describe()"
   ]
  },
  {
   "cell_type": "markdown",
   "metadata": {},
   "source": [
    "Значения параметров представлены в диапазоне от 1 до 10, что соответствует описанию таблицы."
   ]
  },
  {
   "cell_type": "markdown",
   "metadata": {},
   "source": [
    "### Таблица orders"
   ]
  },
  {
   "cell_type": "code",
   "execution_count": 6,
   "metadata": {
    "scrolled": true
   },
   "outputs": [
    {
     "data": {
      "text/plain": [
       "3667963787    1\n",
       "4167421281    1\n",
       "2875229767    1\n",
       "504373597     1\n",
       "2017680897    1\n",
       "             ..\n",
       "1853288890    1\n",
       "2084190534    1\n",
       "2956594374    1\n",
       "3646798055    1\n",
       "3936777065    1\n",
       "Name: transactionId, Length: 1197, dtype: int64"
      ]
     },
     "execution_count": 6,
     "metadata": {},
     "output_type": "execute_result"
    }
   ],
   "source": [
    "# проверим уникальность id заказов в столбце transactionId\n",
    "orders['transactionId'].value_counts()"
   ]
  },
  {
   "cell_type": "markdown",
   "metadata": {},
   "source": [
    "В таблице 1197 уникальных заказов."
   ]
  },
  {
   "cell_type": "code",
   "execution_count": 7,
   "metadata": {},
   "outputs": [
    {
     "name": "stdout",
     "output_type": "stream",
     "text": [
      "<class 'pandas.core.frame.DataFrame'>\n",
      "RangeIndex: 1197 entries, 0 to 1196\n",
      "Data columns (total 5 columns):\n",
      " #   Column         Non-Null Count  Dtype         \n",
      "---  ------         --------------  -----         \n",
      " 0   transactionId  1197 non-null   int64         \n",
      " 1   visitorId      1197 non-null   int64         \n",
      " 2   date           1197 non-null   datetime64[ns]\n",
      " 3   revenue        1197 non-null   int64         \n",
      " 4   group          1197 non-null   object        \n",
      "dtypes: datetime64[ns](1), int64(3), object(1)\n",
      "memory usage: 46.9+ KB\n"
     ]
    }
   ],
   "source": [
    "# изменим тип данных для orders\n",
    "orders['date'] = orders['date'].map(\n",
    "    lambda x: dt.datetime.strptime(x, '%Y-%m-%d')\n",
    ")\n",
    "\n",
    "# проверим\n",
    "orders.info()"
   ]
  },
  {
   "cell_type": "code",
   "execution_count": 8,
   "metadata": {
    "scrolled": true
   },
   "outputs": [
    {
     "data": {
      "text/plain": [
       "4256040402    11\n",
       "2458001652    11\n",
       "2378935119     9\n",
       "2038680547     8\n",
       "199603092      5\n",
       "              ..\n",
       "2524310328     1\n",
       "2210805728     1\n",
       "2274825520     1\n",
       "1831227158     1\n",
       "2108080724     1\n",
       "Name: visitorId, Length: 1031, dtype: int64"
      ]
     },
     "execution_count": 8,
     "metadata": {},
     "output_type": "execute_result"
    }
   ],
   "source": [
    "# проверим уникальность id пользователей в столбце transactionId\n",
    "orders['visitorId'].value_counts()"
   ]
  },
  {
   "cell_type": "markdown",
   "metadata": {},
   "source": [
    "В таблице 1031 уникальных пользователей, совершивших заказ. Два пользователя совершили по 11 заказов."
   ]
  },
  {
   "cell_type": "code",
   "execution_count": 9,
   "metadata": {},
   "outputs": [
    {
     "data": {
      "text/plain": [
       "1197"
      ]
     },
     "execution_count": 9,
     "metadata": {},
     "output_type": "execute_result"
    }
   ],
   "source": [
    "# посчитаем общее количество покупок\n",
    "orders['visitorId'].count()"
   ]
  },
  {
   "cell_type": "markdown",
   "metadata": {},
   "source": [
    "С заказами и пользователями всё в порядке."
   ]
  },
  {
   "cell_type": "code",
   "execution_count": 10,
   "metadata": {},
   "outputs": [
    {
     "data": {
      "text/plain": [
       "count                    1197\n",
       "unique                     31\n",
       "top       2019-08-05 00:00:00\n",
       "freq                       48\n",
       "first     2019-08-01 00:00:00\n",
       "last      2019-08-31 00:00:00\n",
       "Name: date, dtype: object"
      ]
     },
     "execution_count": 10,
     "metadata": {},
     "output_type": "execute_result"
    }
   ],
   "source": [
    "# посмотрим информацию о датах\n",
    "orders['date'].describe()"
   ]
  },
  {
   "cell_type": "markdown",
   "metadata": {},
   "source": [
    "1197 значений, данные собирались за 31 день, больше всего покупок было совершено 5 августа 2019 года."
   ]
  },
  {
   "cell_type": "code",
   "execution_count": 11,
   "metadata": {
    "scrolled": true
   },
   "outputs": [
    {
     "data": {
      "text/plain": [
       "count       1197.0\n",
       "mean        8348.0\n",
       "std        39191.1\n",
       "min           50.0\n",
       "25%         1220.0\n",
       "50%         2978.0\n",
       "75%         8290.0\n",
       "max      1294500.0\n",
       "Name: revenue, dtype: object"
      ]
     },
     "execution_count": 11,
     "metadata": {},
     "output_type": "execute_result"
    }
   ],
   "source": [
    "# посмотрим значения выручки\n",
    "orders['revenue'].describe().apply(\"{0:.1f}\".format)"
   ]
  },
  {
   "cell_type": "markdown",
   "metadata": {},
   "source": [
    "Отрицательных и нулевых значений нет. "
   ]
  },
  {
   "cell_type": "code",
   "execution_count": 12,
   "metadata": {
    "scrolled": false
   },
   "outputs": [
    {
     "data": {
      "text/plain": [
       "B    640\n",
       "A    557\n",
       "Name: group, dtype: int64"
      ]
     },
     "execution_count": 12,
     "metadata": {},
     "output_type": "execute_result"
    }
   ],
   "source": [
    "# посмотрим сколько значений в каждой группе\n",
    "orders['group'].value_counts()"
   ]
  },
  {
   "cell_type": "markdown",
   "metadata": {},
   "source": [
    "В колонке с группами тестирования неравное количество участников: в группе А - 557 человек, в группе B - 640."
   ]
  },
  {
   "cell_type": "code",
   "execution_count": 13,
   "metadata": {},
   "outputs": [
    {
     "data": {
      "text/html": [
       "<div>\n",
       "<style scoped>\n",
       "    .dataframe tbody tr th:only-of-type {\n",
       "        vertical-align: middle;\n",
       "    }\n",
       "\n",
       "    .dataframe tbody tr th {\n",
       "        vertical-align: top;\n",
       "    }\n",
       "\n",
       "    .dataframe thead th {\n",
       "        text-align: right;\n",
       "    }\n",
       "</style>\n",
       "<table border=\"1\" class=\"dataframe\">\n",
       "  <thead>\n",
       "    <tr style=\"text-align: right;\">\n",
       "      <th></th>\n",
       "      <th>transactionId</th>\n",
       "      <th>visitorId</th>\n",
       "      <th>date</th>\n",
       "      <th>revenue</th>\n",
       "      <th>group</th>\n",
       "    </tr>\n",
       "  </thead>\n",
       "  <tbody>\n",
       "  </tbody>\n",
       "</table>\n",
       "</div>"
      ],
      "text/plain": [
       "Empty DataFrame\n",
       "Columns: [transactionId, visitorId, date, revenue, group]\n",
       "Index: []"
      ]
     },
     "execution_count": 13,
     "metadata": {},
     "output_type": "execute_result"
    }
   ],
   "source": [
    "# проверим на наличие дубликатов\n",
    "orders[orders.duplicated()]"
   ]
  },
  {
   "cell_type": "markdown",
   "metadata": {},
   "source": [
    "Дубликаты отсутствуют."
   ]
  },
  {
   "cell_type": "markdown",
   "metadata": {},
   "source": [
    "### Таблица visitors"
   ]
  },
  {
   "cell_type": "code",
   "execution_count": 14,
   "metadata": {},
   "outputs": [
    {
     "name": "stdout",
     "output_type": "stream",
     "text": [
      "<class 'pandas.core.frame.DataFrame'>\n",
      "RangeIndex: 62 entries, 0 to 61\n",
      "Data columns (total 3 columns):\n",
      " #   Column    Non-Null Count  Dtype         \n",
      "---  ------    --------------  -----         \n",
      " 0   date      62 non-null     datetime64[ns]\n",
      " 1   group     62 non-null     object        \n",
      " 2   visitors  62 non-null     int64         \n",
      "dtypes: datetime64[ns](1), int64(1), object(1)\n",
      "memory usage: 1.6+ KB\n"
     ]
    }
   ],
   "source": [
    "# изменим тип данных для таблицы visitors\n",
    "visitors['date'] = visitors['date'].map(\n",
    "    lambda x: dt.datetime.strptime(x, '%Y-%m-%d')\n",
    ")\n",
    "\n",
    "# проверим\n",
    "visitors.info()"
   ]
  },
  {
   "cell_type": "code",
   "execution_count": 15,
   "metadata": {},
   "outputs": [
    {
     "data": {
      "text/plain": [
       "count                      62\n",
       "unique                     31\n",
       "top       2019-08-01 00:00:00\n",
       "freq                        2\n",
       "first     2019-08-01 00:00:00\n",
       "last      2019-08-31 00:00:00\n",
       "Name: date, dtype: object"
      ]
     },
     "execution_count": 15,
     "metadata": {},
     "output_type": "execute_result"
    }
   ],
   "source": [
    "# проверим даты на аномалии\n",
    "visitors['date'].describe()"
   ]
  },
  {
   "cell_type": "code",
   "execution_count": 16,
   "metadata": {},
   "outputs": [
    {
     "data": {
      "text/plain": [
       "A    31\n",
       "B    31\n",
       "Name: group, dtype: int64"
      ]
     },
     "execution_count": 16,
     "metadata": {},
     "output_type": "execute_result"
    }
   ],
   "source": [
    "# посмотрим сколько значений в каждой группе\n",
    "visitors['group'].value_counts()"
   ]
  },
  {
   "cell_type": "markdown",
   "metadata": {},
   "source": [
    "Всего 62 строки, каждая дата повторяется по 2 раза (для групп А и В), всё в порядке."
   ]
  },
  {
   "cell_type": "code",
   "execution_count": 17,
   "metadata": {
    "scrolled": true
   },
   "outputs": [
    {
     "data": {
      "text/plain": [
       "count     62.000000\n",
       "mean     607.290323\n",
       "std      114.400560\n",
       "min      361.000000\n",
       "25%      534.000000\n",
       "50%      624.500000\n",
       "75%      710.500000\n",
       "max      770.000000\n",
       "Name: visitors, dtype: float64"
      ]
     },
     "execution_count": 17,
     "metadata": {},
     "output_type": "execute_result"
    }
   ],
   "source": [
    "# посмотрим описательную статистику по посетителям\n",
    "visitors['visitors'].describe()"
   ]
  },
  {
   "cell_type": "markdown",
   "metadata": {},
   "source": [
    "Всего 62 строки с информацией о числе посетителей. Среднее и медиана близки (607 и 62 соответственно). Самое большое число посетителей - 770, самое маленькое - 361. "
   ]
  },
  {
   "cell_type": "code",
   "execution_count": 18,
   "metadata": {
    "scrolled": true
   },
   "outputs": [
    {
     "data": {
      "text/html": [
       "<div>\n",
       "<style scoped>\n",
       "    .dataframe tbody tr th:only-of-type {\n",
       "        vertical-align: middle;\n",
       "    }\n",
       "\n",
       "    .dataframe tbody tr th {\n",
       "        vertical-align: top;\n",
       "    }\n",
       "\n",
       "    .dataframe thead th {\n",
       "        text-align: right;\n",
       "    }\n",
       "</style>\n",
       "<table border=\"1\" class=\"dataframe\">\n",
       "  <thead>\n",
       "    <tr style=\"text-align: right;\">\n",
       "      <th></th>\n",
       "      <th>date</th>\n",
       "      <th>group</th>\n",
       "      <th>visitors</th>\n",
       "    </tr>\n",
       "  </thead>\n",
       "  <tbody>\n",
       "  </tbody>\n",
       "</table>\n",
       "</div>"
      ],
      "text/plain": [
       "Empty DataFrame\n",
       "Columns: [date, group, visitors]\n",
       "Index: []"
      ]
     },
     "execution_count": 18,
     "metadata": {},
     "output_type": "execute_result"
    }
   ],
   "source": [
    "# проверим на наличие дубликатов\n",
    "visitors[visitors.duplicated()]"
   ]
  },
  {
   "cell_type": "markdown",
   "metadata": {},
   "source": [
    "Дубликаты отсутствуют."
   ]
  },
  {
   "cell_type": "code",
   "execution_count": 19,
   "metadata": {},
   "outputs": [
    {
     "data": {
      "text/plain": [
       "58"
      ]
     },
     "execution_count": 19,
     "metadata": {},
     "output_type": "execute_result"
    }
   ],
   "source": [
    "# проверим, есть ли кто-то из покупателей сразу в двух группах\n",
    "doubled_group = orders.groupby('visitorId').agg({'group':'nunique'})\n",
    "doubled_group = doubled_group.query('group > 1')\n",
    "doubled_group['group'].count()"
   ]
  },
  {
   "cell_type": "markdown",
   "metadata": {},
   "source": [
    "Было выявлено, что 58 пользователей, оказавшихся в обеих группах. Так как их количество незначительно, то оставим всё как есть."
   ]
  },
  {
   "cell_type": "markdown",
   "metadata": {},
   "source": [
    "### Вывод\n",
    "\n",
    "Данные подготовлены для дальнейшего анализа.\n",
    "\n",
    "Таблица с гипотезами `hypothesis`:\n",
    "* названия столбцов приведены к нижнему регистру;\n",
    "* параметры имеют значения от 1 до 10, оценка имеет 10-балльную шкалу.\n",
    "\n",
    "Таблица с заказами `orders`:\n",
    "* дата приведена к типу данных datetime;\n",
    "* в значениях не выявлено аномалий;\n",
    "* присутствуют данные за август 2019 года;\n",
    "* присутствуют 1197 уникальных заказов;\n",
    "* присутствуют 1031 уникальных пользователя;\n",
    "* самое большое число заказов на одного покупателя - 11;\n",
    "* больше всего заказов совершено 5 августа 2019 года - 48 заказов;\n",
    "* в столбце с группами теста неравное число участников: в группе А - 557 человек, в группе B - 640;\n",
    "* дубликаты, нулевые и отрицательные значения отсутствуют.\n",
    "\n",
    "Таблица с данными о посещениях `visitors`:\n",
    "\n",
    "* дата приведена к типу данных datetime;\n",
    "* каждая дата повторяется по 2 раза (для групп А и В), уникальных значений - 31, так же, как и в датасете с заказами;\n",
    "* cреднее и медиана числа посетителей близки (607 и 62 соответственно), скорее всего, сильных выбросов нет;\n",
    "* самое большое число посетителей - 770, самое маленькое - 361;\n",
    "* дубликаты, нулевые и отрицательные значения отсутствуют.\n",
    "\n",
    "Так же было проверено наличие пользователей одновременно в друх группах. Так как их количество незначительное (58 человек), то приняли решение оставить всё как есть."
   ]
  },
  {
   "cell_type": "markdown",
   "metadata": {},
   "source": [
    "## Часть 1. Приоритизация гипотез"
   ]
  },
  {
   "cell_type": "markdown",
   "metadata": {},
   "source": [
    "В файле `/datasets/hypothesis.csv` 9 гипотез по увеличению выручки интернет-магазина с указанными параметрами Reach, Impact, Confidence, Effort.\n",
    "\n",
    "**Задача:**\n",
    "1. Применить фреймворк **ICE** для приоритизации гипотез. Отсортировать их по убыванию приоритета.\n",
    "2. Применить фреймворк **RICE** для приоритизации гипотез. Отсортировать их по убыванию приоритета.\n",
    "3. Указать, как изменилась приоритизация гипотез при применении **RICE** вместо **ICE**. Объяснить, почему так произошло."
   ]
  },
  {
   "cell_type": "code",
   "execution_count": 20,
   "metadata": {},
   "outputs": [
    {
     "data": {
      "text/html": [
       "<div>\n",
       "<style scoped>\n",
       "    .dataframe tbody tr th:only-of-type {\n",
       "        vertical-align: middle;\n",
       "    }\n",
       "\n",
       "    .dataframe tbody tr th {\n",
       "        vertical-align: top;\n",
       "    }\n",
       "\n",
       "    .dataframe thead th {\n",
       "        text-align: right;\n",
       "    }\n",
       "</style>\n",
       "<table border=\"1\" class=\"dataframe\">\n",
       "  <thead>\n",
       "    <tr style=\"text-align: right;\">\n",
       "      <th></th>\n",
       "      <th>hypothesis</th>\n",
       "      <th>reach</th>\n",
       "      <th>impact</th>\n",
       "      <th>confidence</th>\n",
       "      <th>efforts</th>\n",
       "    </tr>\n",
       "  </thead>\n",
       "  <tbody>\n",
       "    <tr>\n",
       "      <th>0</th>\n",
       "      <td>Добавить два новых канала привлечения трафика, что позволит привлекать на 30% больше пользователей</td>\n",
       "      <td>3</td>\n",
       "      <td>10</td>\n",
       "      <td>8</td>\n",
       "      <td>6</td>\n",
       "    </tr>\n",
       "    <tr>\n",
       "      <th>1</th>\n",
       "      <td>Запустить собственную службу доставки, что сократит срок доставки заказов</td>\n",
       "      <td>2</td>\n",
       "      <td>5</td>\n",
       "      <td>4</td>\n",
       "      <td>10</td>\n",
       "    </tr>\n",
       "    <tr>\n",
       "      <th>2</th>\n",
       "      <td>Добавить блоки рекомендаций товаров на сайт интернет магазина, чтобы повысить конверсию и средний чек заказа</td>\n",
       "      <td>8</td>\n",
       "      <td>3</td>\n",
       "      <td>7</td>\n",
       "      <td>3</td>\n",
       "    </tr>\n",
       "    <tr>\n",
       "      <th>3</th>\n",
       "      <td>Изменить структура категорий, что увеличит конверсию, т.к. пользователи быстрее найдут нужный товар</td>\n",
       "      <td>8</td>\n",
       "      <td>3</td>\n",
       "      <td>3</td>\n",
       "      <td>8</td>\n",
       "    </tr>\n",
       "    <tr>\n",
       "      <th>4</th>\n",
       "      <td>Изменить цвет фона главной страницы, чтобы увеличить вовлеченность пользователей</td>\n",
       "      <td>3</td>\n",
       "      <td>1</td>\n",
       "      <td>1</td>\n",
       "      <td>1</td>\n",
       "    </tr>\n",
       "    <tr>\n",
       "      <th>5</th>\n",
       "      <td>Добавить страницу отзывов клиентов о магазине, что позволит увеличить количество заказов</td>\n",
       "      <td>3</td>\n",
       "      <td>2</td>\n",
       "      <td>2</td>\n",
       "      <td>3</td>\n",
       "    </tr>\n",
       "    <tr>\n",
       "      <th>6</th>\n",
       "      <td>Показать на главной странице баннеры с актуальными акциями и распродажами, чтобы увеличить конверсию</td>\n",
       "      <td>5</td>\n",
       "      <td>3</td>\n",
       "      <td>8</td>\n",
       "      <td>3</td>\n",
       "    </tr>\n",
       "    <tr>\n",
       "      <th>7</th>\n",
       "      <td>Добавить форму подписки на все основные страницы, чтобы собрать базу клиентов для email-рассылок</td>\n",
       "      <td>10</td>\n",
       "      <td>7</td>\n",
       "      <td>8</td>\n",
       "      <td>5</td>\n",
       "    </tr>\n",
       "    <tr>\n",
       "      <th>8</th>\n",
       "      <td>Запустить акцию, дающую скидку на товар в день рождения</td>\n",
       "      <td>1</td>\n",
       "      <td>9</td>\n",
       "      <td>9</td>\n",
       "      <td>5</td>\n",
       "    </tr>\n",
       "  </tbody>\n",
       "</table>\n",
       "</div>"
      ],
      "text/plain": [
       "                                                                                                     hypothesis  \\\n",
       "0            Добавить два новых канала привлечения трафика, что позволит привлекать на 30% больше пользователей   \n",
       "1                                     Запустить собственную службу доставки, что сократит срок доставки заказов   \n",
       "2  Добавить блоки рекомендаций товаров на сайт интернет магазина, чтобы повысить конверсию и средний чек заказа   \n",
       "3           Изменить структура категорий, что увеличит конверсию, т.к. пользователи быстрее найдут нужный товар   \n",
       "4                              Изменить цвет фона главной страницы, чтобы увеличить вовлеченность пользователей   \n",
       "5                      Добавить страницу отзывов клиентов о магазине, что позволит увеличить количество заказов   \n",
       "6          Показать на главной странице баннеры с актуальными акциями и распродажами, чтобы увеличить конверсию   \n",
       "7              Добавить форму подписки на все основные страницы, чтобы собрать базу клиентов для email-рассылок   \n",
       "8                                                       Запустить акцию, дающую скидку на товар в день рождения   \n",
       "\n",
       "   reach  impact  confidence  efforts  \n",
       "0      3      10           8        6  \n",
       "1      2       5           4       10  \n",
       "2      8       3           7        3  \n",
       "3      8       3           3        8  \n",
       "4      3       1           1        1  \n",
       "5      3       2           2        3  \n",
       "6      5       3           8        3  \n",
       "7     10       7           8        5  \n",
       "8      1       9           9        5  "
      ]
     },
     "metadata": {},
     "output_type": "display_data"
    }
   ],
   "source": [
    "# посмотрим таблицу со всеми гипотезами\n",
    "display(hypothesis)"
   ]
  },
  {
   "cell_type": "markdown",
   "metadata": {},
   "source": [
    "### Применение фреймворка ICE для приоритизации гипотез"
   ]
  },
  {
   "cell_type": "code",
   "execution_count": 21,
   "metadata": {},
   "outputs": [
    {
     "data": {
      "text/html": [
       "<div>\n",
       "<style scoped>\n",
       "    .dataframe tbody tr th:only-of-type {\n",
       "        vertical-align: middle;\n",
       "    }\n",
       "\n",
       "    .dataframe tbody tr th {\n",
       "        vertical-align: top;\n",
       "    }\n",
       "\n",
       "    .dataframe thead th {\n",
       "        text-align: right;\n",
       "    }\n",
       "</style>\n",
       "<table border=\"1\" class=\"dataframe\">\n",
       "  <thead>\n",
       "    <tr style=\"text-align: right;\">\n",
       "      <th></th>\n",
       "      <th>hypothesis</th>\n",
       "      <th>ice</th>\n",
       "    </tr>\n",
       "  </thead>\n",
       "  <tbody>\n",
       "    <tr>\n",
       "      <th>8</th>\n",
       "      <td>Запустить акцию, дающую скидку на товар в день рождения</td>\n",
       "      <td>16.2</td>\n",
       "    </tr>\n",
       "    <tr>\n",
       "      <th>0</th>\n",
       "      <td>Добавить два новых канала привлечения трафика, что позволит привлекать на 30% больше пользователей</td>\n",
       "      <td>13.3</td>\n",
       "    </tr>\n",
       "    <tr>\n",
       "      <th>7</th>\n",
       "      <td>Добавить форму подписки на все основные страницы, чтобы собрать базу клиентов для email-рассылок</td>\n",
       "      <td>11.2</td>\n",
       "    </tr>\n",
       "    <tr>\n",
       "      <th>6</th>\n",
       "      <td>Показать на главной странице баннеры с актуальными акциями и распродажами, чтобы увеличить конверсию</td>\n",
       "      <td>8.0</td>\n",
       "    </tr>\n",
       "    <tr>\n",
       "      <th>2</th>\n",
       "      <td>Добавить блоки рекомендаций товаров на сайт интернет магазина, чтобы повысить конверсию и средний чек заказа</td>\n",
       "      <td>7.0</td>\n",
       "    </tr>\n",
       "    <tr>\n",
       "      <th>1</th>\n",
       "      <td>Запустить собственную службу доставки, что сократит срок доставки заказов</td>\n",
       "      <td>2.0</td>\n",
       "    </tr>\n",
       "    <tr>\n",
       "      <th>5</th>\n",
       "      <td>Добавить страницу отзывов клиентов о магазине, что позволит увеличить количество заказов</td>\n",
       "      <td>1.3</td>\n",
       "    </tr>\n",
       "    <tr>\n",
       "      <th>3</th>\n",
       "      <td>Изменить структура категорий, что увеличит конверсию, т.к. пользователи быстрее найдут нужный товар</td>\n",
       "      <td>1.1</td>\n",
       "    </tr>\n",
       "    <tr>\n",
       "      <th>4</th>\n",
       "      <td>Изменить цвет фона главной страницы, чтобы увеличить вовлеченность пользователей</td>\n",
       "      <td>1.0</td>\n",
       "    </tr>\n",
       "  </tbody>\n",
       "</table>\n",
       "</div>"
      ],
      "text/plain": [
       "                                                                                                     hypothesis  \\\n",
       "8                                                       Запустить акцию, дающую скидку на товар в день рождения   \n",
       "0            Добавить два новых канала привлечения трафика, что позволит привлекать на 30% больше пользователей   \n",
       "7              Добавить форму подписки на все основные страницы, чтобы собрать базу клиентов для email-рассылок   \n",
       "6          Показать на главной странице баннеры с актуальными акциями и распродажами, чтобы увеличить конверсию   \n",
       "2  Добавить блоки рекомендаций товаров на сайт интернет магазина, чтобы повысить конверсию и средний чек заказа   \n",
       "1                                     Запустить собственную службу доставки, что сократит срок доставки заказов   \n",
       "5                      Добавить страницу отзывов клиентов о магазине, что позволит увеличить количество заказов   \n",
       "3           Изменить структура категорий, что увеличит конверсию, т.к. пользователи быстрее найдут нужный товар   \n",
       "4                              Изменить цвет фона главной страницы, чтобы увеличить вовлеченность пользователей   \n",
       "\n",
       "    ice  \n",
       "8  16.2  \n",
       "0  13.3  \n",
       "7  11.2  \n",
       "6   8.0  \n",
       "2   7.0  \n",
       "1   2.0  \n",
       "5   1.3  \n",
       "3   1.1  \n",
       "4   1.0  "
      ]
     },
     "execution_count": 21,
     "metadata": {},
     "output_type": "execute_result"
    }
   ],
   "source": [
    "# добавим столбец ICE в таблицу с гипотезами\n",
    "hypothesis['ice'] = ((hypothesis['impact'] * hypothesis['confidence']) / hypothesis['efforts']).round(1)\n",
    "\n",
    "hypothesis[['hypothesis', 'ice']].sort_values(by='ice', ascending=False)"
   ]
  },
  {
   "cell_type": "markdown",
   "metadata": {},
   "source": [
    "### Применение фреймворка RICE для приоритизации гипотез"
   ]
  },
  {
   "cell_type": "code",
   "execution_count": 22,
   "metadata": {},
   "outputs": [
    {
     "data": {
      "text/html": [
       "<div>\n",
       "<style scoped>\n",
       "    .dataframe tbody tr th:only-of-type {\n",
       "        vertical-align: middle;\n",
       "    }\n",
       "\n",
       "    .dataframe tbody tr th {\n",
       "        vertical-align: top;\n",
       "    }\n",
       "\n",
       "    .dataframe thead th {\n",
       "        text-align: right;\n",
       "    }\n",
       "</style>\n",
       "<table border=\"1\" class=\"dataframe\">\n",
       "  <thead>\n",
       "    <tr style=\"text-align: right;\">\n",
       "      <th></th>\n",
       "      <th>hypothesis</th>\n",
       "      <th>rice</th>\n",
       "    </tr>\n",
       "  </thead>\n",
       "  <tbody>\n",
       "    <tr>\n",
       "      <th>7</th>\n",
       "      <td>Добавить форму подписки на все основные страницы, чтобы собрать базу клиентов для email-рассылок</td>\n",
       "      <td>112.0</td>\n",
       "    </tr>\n",
       "    <tr>\n",
       "      <th>2</th>\n",
       "      <td>Добавить блоки рекомендаций товаров на сайт интернет магазина, чтобы повысить конверсию и средний чек заказа</td>\n",
       "      <td>56.0</td>\n",
       "    </tr>\n",
       "    <tr>\n",
       "      <th>0</th>\n",
       "      <td>Добавить два новых канала привлечения трафика, что позволит привлекать на 30% больше пользователей</td>\n",
       "      <td>40.0</td>\n",
       "    </tr>\n",
       "    <tr>\n",
       "      <th>6</th>\n",
       "      <td>Показать на главной странице баннеры с актуальными акциями и распродажами, чтобы увеличить конверсию</td>\n",
       "      <td>40.0</td>\n",
       "    </tr>\n",
       "    <tr>\n",
       "      <th>8</th>\n",
       "      <td>Запустить акцию, дающую скидку на товар в день рождения</td>\n",
       "      <td>16.2</td>\n",
       "    </tr>\n",
       "    <tr>\n",
       "      <th>3</th>\n",
       "      <td>Изменить структура категорий, что увеличит конверсию, т.к. пользователи быстрее найдут нужный товар</td>\n",
       "      <td>9.0</td>\n",
       "    </tr>\n",
       "    <tr>\n",
       "      <th>1</th>\n",
       "      <td>Запустить собственную службу доставки, что сократит срок доставки заказов</td>\n",
       "      <td>4.0</td>\n",
       "    </tr>\n",
       "    <tr>\n",
       "      <th>5</th>\n",
       "      <td>Добавить страницу отзывов клиентов о магазине, что позволит увеличить количество заказов</td>\n",
       "      <td>4.0</td>\n",
       "    </tr>\n",
       "    <tr>\n",
       "      <th>4</th>\n",
       "      <td>Изменить цвет фона главной страницы, чтобы увеличить вовлеченность пользователей</td>\n",
       "      <td>3.0</td>\n",
       "    </tr>\n",
       "  </tbody>\n",
       "</table>\n",
       "</div>"
      ],
      "text/plain": [
       "                                                                                                     hypothesis  \\\n",
       "7              Добавить форму подписки на все основные страницы, чтобы собрать базу клиентов для email-рассылок   \n",
       "2  Добавить блоки рекомендаций товаров на сайт интернет магазина, чтобы повысить конверсию и средний чек заказа   \n",
       "0            Добавить два новых канала привлечения трафика, что позволит привлекать на 30% больше пользователей   \n",
       "6          Показать на главной странице баннеры с актуальными акциями и распродажами, чтобы увеличить конверсию   \n",
       "8                                                       Запустить акцию, дающую скидку на товар в день рождения   \n",
       "3           Изменить структура категорий, что увеличит конверсию, т.к. пользователи быстрее найдут нужный товар   \n",
       "1                                     Запустить собственную службу доставки, что сократит срок доставки заказов   \n",
       "5                      Добавить страницу отзывов клиентов о магазине, что позволит увеличить количество заказов   \n",
       "4                              Изменить цвет фона главной страницы, чтобы увеличить вовлеченность пользователей   \n",
       "\n",
       "    rice  \n",
       "7  112.0  \n",
       "2   56.0  \n",
       "0   40.0  \n",
       "6   40.0  \n",
       "8   16.2  \n",
       "3    9.0  \n",
       "1    4.0  \n",
       "5    4.0  \n",
       "4    3.0  "
      ]
     },
     "execution_count": 22,
     "metadata": {},
     "output_type": "execute_result"
    }
   ],
   "source": [
    "# добавим столбец RICE в таблицу с гипотезами\n",
    "hypothesis['rice'] = ((hypothesis['reach'] * hypothesis['impact'] * hypothesis['confidence']) / hypothesis['efforts']).round(1)\n",
    "\n",
    "hypothesis[['hypothesis', 'rice']].sort_values(by='rice', ascending=False)"
   ]
  },
  {
   "cell_type": "code",
   "execution_count": 23,
   "metadata": {},
   "outputs": [
    {
     "data": {
      "text/html": [
       "<style type=\"text/css\">\n",
       "#T_cc4e6_row0_col1 {\n",
       "  background-color: #ec7f63;\n",
       "  color: #f1f1f1;\n",
       "}\n",
       "#T_cc4e6_row0_col2, #T_cc4e6_row6_col2 {\n",
       "  background-color: #abc8fd;\n",
       "  color: #000000;\n",
       "}\n",
       "#T_cc4e6_row1_col1 {\n",
       "  background-color: #4e68d8;\n",
       "  color: #f1f1f1;\n",
       "}\n",
       "#T_cc4e6_row1_col2, #T_cc4e6_row5_col2 {\n",
       "  background-color: #3d50c3;\n",
       "  color: #f1f1f1;\n",
       "}\n",
       "#T_cc4e6_row2_col1 {\n",
       "  background-color: #bfd3f6;\n",
       "  color: #000000;\n",
       "}\n",
       "#T_cc4e6_row2_col2 {\n",
       "  background-color: #d9dce1;\n",
       "  color: #000000;\n",
       "}\n",
       "#T_cc4e6_row3_col1 {\n",
       "  background-color: #3c4ec2;\n",
       "  color: #f1f1f1;\n",
       "}\n",
       "#T_cc4e6_row3_col2 {\n",
       "  background-color: #4b64d5;\n",
       "  color: #f1f1f1;\n",
       "}\n",
       "#T_cc4e6_row4_col1, #T_cc4e6_row4_col2 {\n",
       "  background-color: #3b4cc0;\n",
       "  color: #f1f1f1;\n",
       "}\n",
       "#T_cc4e6_row5_col1 {\n",
       "  background-color: #4055c8;\n",
       "  color: #f1f1f1;\n",
       "}\n",
       "#T_cc4e6_row6_col1 {\n",
       "  background-color: #d2dbe8;\n",
       "  color: #000000;\n",
       "}\n",
       "#T_cc4e6_row7_col1 {\n",
       "  background-color: #f7b79b;\n",
       "  color: #000000;\n",
       "}\n",
       "#T_cc4e6_row7_col2, #T_cc4e6_row8_col1 {\n",
       "  background-color: #b40426;\n",
       "  color: #f1f1f1;\n",
       "}\n",
       "#T_cc4e6_row8_col2 {\n",
       "  background-color: #6180e9;\n",
       "  color: #f1f1f1;\n",
       "}\n",
       "</style>\n",
       "<table id=\"T_cc4e6\">\n",
       "  <thead>\n",
       "    <tr>\n",
       "      <th class=\"blank level0\" >&nbsp;</th>\n",
       "      <th id=\"T_cc4e6_level0_col0\" class=\"col_heading level0 col0\" >hypothesis</th>\n",
       "      <th id=\"T_cc4e6_level0_col1\" class=\"col_heading level0 col1\" >ice</th>\n",
       "      <th id=\"T_cc4e6_level0_col2\" class=\"col_heading level0 col2\" >rice</th>\n",
       "    </tr>\n",
       "  </thead>\n",
       "  <tbody>\n",
       "    <tr>\n",
       "      <th id=\"T_cc4e6_level0_row0\" class=\"row_heading level0 row0\" >0</th>\n",
       "      <td id=\"T_cc4e6_row0_col0\" class=\"data row0 col0\" >Добавить два новых канала привлечения трафика, что позволит привлекать на 30% больше пользователей</td>\n",
       "      <td id=\"T_cc4e6_row0_col1\" class=\"data row0 col1\" >13.300000</td>\n",
       "      <td id=\"T_cc4e6_row0_col2\" class=\"data row0 col2\" >40.000000</td>\n",
       "    </tr>\n",
       "    <tr>\n",
       "      <th id=\"T_cc4e6_level0_row1\" class=\"row_heading level0 row1\" >1</th>\n",
       "      <td id=\"T_cc4e6_row1_col0\" class=\"data row1 col0\" >Запустить собственную службу доставки, что сократит срок доставки заказов</td>\n",
       "      <td id=\"T_cc4e6_row1_col1\" class=\"data row1 col1\" >2.000000</td>\n",
       "      <td id=\"T_cc4e6_row1_col2\" class=\"data row1 col2\" >4.000000</td>\n",
       "    </tr>\n",
       "    <tr>\n",
       "      <th id=\"T_cc4e6_level0_row2\" class=\"row_heading level0 row2\" >2</th>\n",
       "      <td id=\"T_cc4e6_row2_col0\" class=\"data row2 col0\" >Добавить блоки рекомендаций товаров на сайт интернет магазина, чтобы повысить конверсию и средний чек заказа</td>\n",
       "      <td id=\"T_cc4e6_row2_col1\" class=\"data row2 col1\" >7.000000</td>\n",
       "      <td id=\"T_cc4e6_row2_col2\" class=\"data row2 col2\" >56.000000</td>\n",
       "    </tr>\n",
       "    <tr>\n",
       "      <th id=\"T_cc4e6_level0_row3\" class=\"row_heading level0 row3\" >3</th>\n",
       "      <td id=\"T_cc4e6_row3_col0\" class=\"data row3 col0\" >Изменить структура категорий, что увеличит конверсию, т.к. пользователи быстрее найдут нужный товар</td>\n",
       "      <td id=\"T_cc4e6_row3_col1\" class=\"data row3 col1\" >1.100000</td>\n",
       "      <td id=\"T_cc4e6_row3_col2\" class=\"data row3 col2\" >9.000000</td>\n",
       "    </tr>\n",
       "    <tr>\n",
       "      <th id=\"T_cc4e6_level0_row4\" class=\"row_heading level0 row4\" >4</th>\n",
       "      <td id=\"T_cc4e6_row4_col0\" class=\"data row4 col0\" >Изменить цвет фона главной страницы, чтобы увеличить вовлеченность пользователей</td>\n",
       "      <td id=\"T_cc4e6_row4_col1\" class=\"data row4 col1\" >1.000000</td>\n",
       "      <td id=\"T_cc4e6_row4_col2\" class=\"data row4 col2\" >3.000000</td>\n",
       "    </tr>\n",
       "    <tr>\n",
       "      <th id=\"T_cc4e6_level0_row5\" class=\"row_heading level0 row5\" >5</th>\n",
       "      <td id=\"T_cc4e6_row5_col0\" class=\"data row5 col0\" >Добавить страницу отзывов клиентов о магазине, что позволит увеличить количество заказов</td>\n",
       "      <td id=\"T_cc4e6_row5_col1\" class=\"data row5 col1\" >1.300000</td>\n",
       "      <td id=\"T_cc4e6_row5_col2\" class=\"data row5 col2\" >4.000000</td>\n",
       "    </tr>\n",
       "    <tr>\n",
       "      <th id=\"T_cc4e6_level0_row6\" class=\"row_heading level0 row6\" >6</th>\n",
       "      <td id=\"T_cc4e6_row6_col0\" class=\"data row6 col0\" >Показать на главной странице баннеры с актуальными акциями и распродажами, чтобы увеличить конверсию</td>\n",
       "      <td id=\"T_cc4e6_row6_col1\" class=\"data row6 col1\" >8.000000</td>\n",
       "      <td id=\"T_cc4e6_row6_col2\" class=\"data row6 col2\" >40.000000</td>\n",
       "    </tr>\n",
       "    <tr>\n",
       "      <th id=\"T_cc4e6_level0_row7\" class=\"row_heading level0 row7\" >7</th>\n",
       "      <td id=\"T_cc4e6_row7_col0\" class=\"data row7 col0\" >Добавить форму подписки на все основные страницы, чтобы собрать базу клиентов для email-рассылок</td>\n",
       "      <td id=\"T_cc4e6_row7_col1\" class=\"data row7 col1\" >11.200000</td>\n",
       "      <td id=\"T_cc4e6_row7_col2\" class=\"data row7 col2\" >112.000000</td>\n",
       "    </tr>\n",
       "    <tr>\n",
       "      <th id=\"T_cc4e6_level0_row8\" class=\"row_heading level0 row8\" >8</th>\n",
       "      <td id=\"T_cc4e6_row8_col0\" class=\"data row8 col0\" >Запустить акцию, дающую скидку на товар в день рождения</td>\n",
       "      <td id=\"T_cc4e6_row8_col1\" class=\"data row8 col1\" >16.200000</td>\n",
       "      <td id=\"T_cc4e6_row8_col2\" class=\"data row8 col2\" >16.200000</td>\n",
       "    </tr>\n",
       "  </tbody>\n",
       "</table>\n"
      ],
      "text/plain": [
       "<pandas.io.formats.style.Styler at 0x2380c4e0f10>"
      ]
     },
     "execution_count": 23,
     "metadata": {},
     "output_type": "execute_result"
    }
   ],
   "source": [
    "# посмотрим таблицу целиком, добавим цвета ячеек в зависимости от значения\n",
    "hypothesis[['hypothesis', 'ice', 'rice']].style.background_gradient('coolwarm')"
   ]
  },
  {
   "cell_type": "markdown",
   "metadata": {},
   "source": [
    "### Вывод:"
   ]
  },
  {
   "cell_type": "markdown",
   "metadata": {},
   "source": [
    "Для приоритизации гипотез мы применили одни из самых распространённых методов - **ICE** (Impact — влияние, Confidence — уверенность, Ease — легкость реализации) и **RICE** (Reach — охват, Impact — влияние, Confidence — достоверность, Effort — усилия).\n",
    "\n",
    "В ходе первой части исследования приоритизированы 9 предоставленных гипотез по увеличению выручки интернет-магазина.\n",
    "\n",
    "После применения фрейморка **ICE** наиболее приоритетными гипотезами являются:\n",
    "\n",
    "1. Запустить акцию, дающую скидку на товар в день рождения **(Гипотеза № 9)**\n",
    "2. Добавить два новых канала привлечения трафика, что позволит привлекать на 30% больше пользователей **(Гипотеза № 1)**\n",
    "3. Добавить форму подписки на все основные страницы, чтобы собрать базу клиентов для email-рассылок **(Гипотеза № 8)**\n",
    "\n",
    "После применения фрейморка **RICE** наиболее приоритетными гипотезами являются:\n",
    "\n",
    "1. Добавить форму подписки на все основные страницы, чтобы собрать базу клиентов для email-рассылок **(Гипотеза № 8)**\n",
    "2. Добавить блоки рекомендаций товаров на сайт интернет магазина, чтобы повысить конверсию и средний чек заказа **(Гипотеза № 3)**\n",
    "3. Добавить два новых канала привлечения трафика, что позволит привлекать на 30% больше пользователей **(Гипотеза № 1)**\n",
    "\n",
    "На основе этих данных, рекомендуется в первую очередь проверить следующие гипотезы:\n",
    "\n",
    "1. Добавить форму подписки на все основные страницы, чтобы собрать базу клиентов для email-рассылок **(Гипотеза № 8)**\n",
    "2. Добавить два новых канала привлечения трафика, что позволит привлекать на 30% больше пользователей **(Гипотеза № 1)**\n",
    "\n",
    "**Причина изменения приоритизации гипотез при применении RICE вместо ICE:**\n",
    "\n",
    "Причина изменения приоритизации гипотез заключается в том, что фреймворк RICE содержит ещё одну переменную «Reach — охват», которая показывает сколько пользователей затронет эта фича за определенный период, то есть охват пользователей. По этой причине, гипотезы с бо́льшим охватом аудитории оказываются выше по приоритету при применении RICE вместо ICE.\n",
    "\n",
    "Например, по причине того, что «Запустить акцию, дающую скидку на товар в день рождения **(Гипотеза № 9)**» имеет оценку Reach равную **1** - меньше всех из приведённых гипотез, то при использовании фреймворка **RICE** эта гипотеза уже не занимает не первое, а пятое место."
   ]
  },
  {
   "cell_type": "markdown",
   "metadata": {},
   "source": [
    "## Часть 2. Анализ A/B-теста"
   ]
  },
  {
   "cell_type": "markdown",
   "metadata": {},
   "source": [
    "## Изучение кумулятивных метрик"
   ]
  },
  {
   "cell_type": "markdown",
   "metadata": {},
   "source": [
    "### График кумулятивной выручки по группам"
   ]
  },
  {
   "cell_type": "code",
   "execution_count": 24,
   "metadata": {},
   "outputs": [
    {
     "data": {
      "text/html": [
       "<div>\n",
       "<style scoped>\n",
       "    .dataframe tbody tr th:only-of-type {\n",
       "        vertical-align: middle;\n",
       "    }\n",
       "\n",
       "    .dataframe tbody tr th {\n",
       "        vertical-align: top;\n",
       "    }\n",
       "\n",
       "    .dataframe thead th {\n",
       "        text-align: right;\n",
       "    }\n",
       "</style>\n",
       "<table border=\"1\" class=\"dataframe\">\n",
       "  <thead>\n",
       "    <tr style=\"text-align: right;\">\n",
       "      <th></th>\n",
       "      <th>date</th>\n",
       "      <th>group</th>\n",
       "    </tr>\n",
       "  </thead>\n",
       "  <tbody>\n",
       "    <tr>\n",
       "      <th>0</th>\n",
       "      <td>2019-08-15</td>\n",
       "      <td>B</td>\n",
       "    </tr>\n",
       "    <tr>\n",
       "      <th>2</th>\n",
       "      <td>2019-08-15</td>\n",
       "      <td>A</td>\n",
       "    </tr>\n",
       "    <tr>\n",
       "      <th>45</th>\n",
       "      <td>2019-08-16</td>\n",
       "      <td>A</td>\n",
       "    </tr>\n",
       "    <tr>\n",
       "      <th>47</th>\n",
       "      <td>2019-08-16</td>\n",
       "      <td>B</td>\n",
       "    </tr>\n",
       "    <tr>\n",
       "      <th>55</th>\n",
       "      <td>2019-08-01</td>\n",
       "      <td>A</td>\n",
       "    </tr>\n",
       "  </tbody>\n",
       "</table>\n",
       "</div>"
      ],
      "text/plain": [
       "         date group\n",
       "0  2019-08-15     B\n",
       "2  2019-08-15     A\n",
       "45 2019-08-16     A\n",
       "47 2019-08-16     B\n",
       "55 2019-08-01     A"
      ]
     },
     "execution_count": 24,
     "metadata": {},
     "output_type": "execute_result"
    }
   ],
   "source": [
    "# создадим массив уникальных пар значений дат и групп теста\n",
    "datesGroups = orders[['date','group']].drop_duplicates()\n",
    "datesGroups.head()"
   ]
  },
  {
   "cell_type": "markdown",
   "metadata": {},
   "source": [
    "Объявим переменную ordersAggregated, содержащую:\n",
    "\n",
    "* дату;\n",
    "* группу A/B-теста;\n",
    "* число уникальных заказов в группе теста по указанную дату включительно;\n",
    "* число уникальных пользователей, совершивших хотя бы 1 заказ в группе теста по указанную дату включительно;\n",
    "* суммарную выручку заказов в группе теста по указанную дату включительно."
   ]
  },
  {
   "cell_type": "code",
   "execution_count": 25,
   "metadata": {},
   "outputs": [],
   "source": [
    "# получим агрегированные кумулятивные по дням данные о заказах \n",
    "ordersAggregated = datesGroups.apply(\n",
    "    lambda x: orders[\n",
    "        np.logical_and(\n",
    "            orders['date'] <= x['date'], orders['group'] == x['group']\n",
    "        )\n",
    "    ].agg(\n",
    "        {\n",
    "            'date': 'max',\n",
    "            'group': 'max',\n",
    "            'transactionId': pd.Series.nunique,\n",
    "            'visitorId': pd.Series.nunique,\n",
    "            'revenue': 'sum',\n",
    "        }\n",
    "    ),\n",
    "    axis=1,\n",
    ").sort_values(by=['date', 'group'])"
   ]
  },
  {
   "cell_type": "code",
   "execution_count": 26,
   "metadata": {},
   "outputs": [
    {
     "data": {
      "text/html": [
       "<div>\n",
       "<style scoped>\n",
       "    .dataframe tbody tr th:only-of-type {\n",
       "        vertical-align: middle;\n",
       "    }\n",
       "\n",
       "    .dataframe tbody tr th {\n",
       "        vertical-align: top;\n",
       "    }\n",
       "\n",
       "    .dataframe thead th {\n",
       "        text-align: right;\n",
       "    }\n",
       "</style>\n",
       "<table border=\"1\" class=\"dataframe\">\n",
       "  <thead>\n",
       "    <tr style=\"text-align: right;\">\n",
       "      <th></th>\n",
       "      <th>date</th>\n",
       "      <th>group</th>\n",
       "      <th>transactionId</th>\n",
       "      <th>visitorId</th>\n",
       "      <th>revenue</th>\n",
       "    </tr>\n",
       "  </thead>\n",
       "  <tbody>\n",
       "    <tr>\n",
       "      <th>55</th>\n",
       "      <td>2019-08-01</td>\n",
       "      <td>A</td>\n",
       "      <td>24</td>\n",
       "      <td>20</td>\n",
       "      <td>148579</td>\n",
       "    </tr>\n",
       "    <tr>\n",
       "      <th>66</th>\n",
       "      <td>2019-08-01</td>\n",
       "      <td>B</td>\n",
       "      <td>21</td>\n",
       "      <td>20</td>\n",
       "      <td>101217</td>\n",
       "    </tr>\n",
       "    <tr>\n",
       "      <th>175</th>\n",
       "      <td>2019-08-02</td>\n",
       "      <td>A</td>\n",
       "      <td>44</td>\n",
       "      <td>38</td>\n",
       "      <td>242401</td>\n",
       "    </tr>\n",
       "    <tr>\n",
       "      <th>173</th>\n",
       "      <td>2019-08-02</td>\n",
       "      <td>B</td>\n",
       "      <td>45</td>\n",
       "      <td>43</td>\n",
       "      <td>266748</td>\n",
       "    </tr>\n",
       "    <tr>\n",
       "      <th>291</th>\n",
       "      <td>2019-08-03</td>\n",
       "      <td>A</td>\n",
       "      <td>68</td>\n",
       "      <td>62</td>\n",
       "      <td>354874</td>\n",
       "    </tr>\n",
       "  </tbody>\n",
       "</table>\n",
       "</div>"
      ],
      "text/plain": [
       "          date group  transactionId  visitorId  revenue\n",
       "55  2019-08-01     A             24         20   148579\n",
       "66  2019-08-01     B             21         20   101217\n",
       "175 2019-08-02     A             44         38   242401\n",
       "173 2019-08-02     B             45         43   266748\n",
       "291 2019-08-03     A             68         62   354874"
      ]
     },
     "execution_count": 26,
     "metadata": {},
     "output_type": "execute_result"
    }
   ],
   "source": [
    "# посмотрим первые пять строк таблицы\n",
    "ordersAggregated.head()"
   ]
  },
  {
   "cell_type": "markdown",
   "metadata": {},
   "source": [
    "Объявим переменную `visitorsAggregated`, содержащую:\n",
    "\n",
    "* дату;\n",
    "* группу A/B-теста;\n",
    "* количество уникальных посетителей в группе теста по указанную дату включительно."
   ]
  },
  {
   "cell_type": "code",
   "execution_count": 27,
   "metadata": {},
   "outputs": [],
   "source": [
    "# получим агрегированные кумулятивные по дням данные о посетителях\n",
    "visitorsAggregated = datesGroups.apply(\n",
    "    lambda x: visitors[\n",
    "        np.logical_and(\n",
    "            visitors['date'] <= x['date'], visitors['group'] == x['group']\n",
    "        )\n",
    "    ].agg({'date': 'max', 'group': 'max', 'visitors': 'sum'}),\n",
    "    axis=1,\n",
    ").sort_values(by=['date', 'group'])"
   ]
  },
  {
   "cell_type": "code",
   "execution_count": 28,
   "metadata": {},
   "outputs": [
    {
     "data": {
      "text/html": [
       "<div>\n",
       "<style scoped>\n",
       "    .dataframe tbody tr th:only-of-type {\n",
       "        vertical-align: middle;\n",
       "    }\n",
       "\n",
       "    .dataframe tbody tr th {\n",
       "        vertical-align: top;\n",
       "    }\n",
       "\n",
       "    .dataframe thead th {\n",
       "        text-align: right;\n",
       "    }\n",
       "</style>\n",
       "<table border=\"1\" class=\"dataframe\">\n",
       "  <thead>\n",
       "    <tr style=\"text-align: right;\">\n",
       "      <th></th>\n",
       "      <th>date</th>\n",
       "      <th>group</th>\n",
       "      <th>visitors</th>\n",
       "    </tr>\n",
       "  </thead>\n",
       "  <tbody>\n",
       "    <tr>\n",
       "      <th>55</th>\n",
       "      <td>2019-08-01</td>\n",
       "      <td>A</td>\n",
       "      <td>719</td>\n",
       "    </tr>\n",
       "    <tr>\n",
       "      <th>66</th>\n",
       "      <td>2019-08-01</td>\n",
       "      <td>B</td>\n",
       "      <td>713</td>\n",
       "    </tr>\n",
       "    <tr>\n",
       "      <th>175</th>\n",
       "      <td>2019-08-02</td>\n",
       "      <td>A</td>\n",
       "      <td>1338</td>\n",
       "    </tr>\n",
       "    <tr>\n",
       "      <th>173</th>\n",
       "      <td>2019-08-02</td>\n",
       "      <td>B</td>\n",
       "      <td>1294</td>\n",
       "    </tr>\n",
       "    <tr>\n",
       "      <th>291</th>\n",
       "      <td>2019-08-03</td>\n",
       "      <td>A</td>\n",
       "      <td>1845</td>\n",
       "    </tr>\n",
       "  </tbody>\n",
       "</table>\n",
       "</div>"
      ],
      "text/plain": [
       "          date group  visitors\n",
       "55  2019-08-01     A       719\n",
       "66  2019-08-01     B       713\n",
       "175 2019-08-02     A      1338\n",
       "173 2019-08-02     B      1294\n",
       "291 2019-08-03     A      1845"
      ]
     },
     "execution_count": 28,
     "metadata": {},
     "output_type": "execute_result"
    }
   ],
   "source": [
    "# посмотрим первые пять строк таблицы\n",
    "visitorsAggregated.head()"
   ]
  },
  {
   "cell_type": "markdown",
   "metadata": {},
   "source": [
    "Определим переменную `cumulativeData,` объединив `ordersAggregated` и `visitorsAggregated` по колонкам **'date', 'group'** методом merge()."
   ]
  },
  {
   "cell_type": "code",
   "execution_count": 29,
   "metadata": {},
   "outputs": [],
   "source": [
    "# объединим кумулятивные данные в одной таблице и присвоим ее столбцам понятные названия\n",
    "cumulativeData = ordersAggregated.merge(\n",
    "    visitorsAggregated, left_on=['date', 'group'], right_on=['date', 'group']\n",
    ")\n",
    "cumulativeData.columns = [\n",
    "    'date',\n",
    "    'group',\n",
    "    'orders',\n",
    "    'buyers',\n",
    "    'revenue',\n",
    "    'visitors',\n",
    "]"
   ]
  },
  {
   "cell_type": "code",
   "execution_count": 30,
   "metadata": {},
   "outputs": [
    {
     "data": {
      "text/html": [
       "<div>\n",
       "<style scoped>\n",
       "    .dataframe tbody tr th:only-of-type {\n",
       "        vertical-align: middle;\n",
       "    }\n",
       "\n",
       "    .dataframe tbody tr th {\n",
       "        vertical-align: top;\n",
       "    }\n",
       "\n",
       "    .dataframe thead th {\n",
       "        text-align: right;\n",
       "    }\n",
       "</style>\n",
       "<table border=\"1\" class=\"dataframe\">\n",
       "  <thead>\n",
       "    <tr style=\"text-align: right;\">\n",
       "      <th></th>\n",
       "      <th>date</th>\n",
       "      <th>group</th>\n",
       "      <th>orders</th>\n",
       "      <th>buyers</th>\n",
       "      <th>revenue</th>\n",
       "      <th>visitors</th>\n",
       "    </tr>\n",
       "  </thead>\n",
       "  <tbody>\n",
       "    <tr>\n",
       "      <th>0</th>\n",
       "      <td>2019-08-01</td>\n",
       "      <td>A</td>\n",
       "      <td>24</td>\n",
       "      <td>20</td>\n",
       "      <td>148579</td>\n",
       "      <td>719</td>\n",
       "    </tr>\n",
       "    <tr>\n",
       "      <th>1</th>\n",
       "      <td>2019-08-01</td>\n",
       "      <td>B</td>\n",
       "      <td>21</td>\n",
       "      <td>20</td>\n",
       "      <td>101217</td>\n",
       "      <td>713</td>\n",
       "    </tr>\n",
       "    <tr>\n",
       "      <th>2</th>\n",
       "      <td>2019-08-02</td>\n",
       "      <td>A</td>\n",
       "      <td>44</td>\n",
       "      <td>38</td>\n",
       "      <td>242401</td>\n",
       "      <td>1338</td>\n",
       "    </tr>\n",
       "    <tr>\n",
       "      <th>3</th>\n",
       "      <td>2019-08-02</td>\n",
       "      <td>B</td>\n",
       "      <td>45</td>\n",
       "      <td>43</td>\n",
       "      <td>266748</td>\n",
       "      <td>1294</td>\n",
       "    </tr>\n",
       "    <tr>\n",
       "      <th>4</th>\n",
       "      <td>2019-08-03</td>\n",
       "      <td>A</td>\n",
       "      <td>68</td>\n",
       "      <td>62</td>\n",
       "      <td>354874</td>\n",
       "      <td>1845</td>\n",
       "    </tr>\n",
       "  </tbody>\n",
       "</table>\n",
       "</div>"
      ],
      "text/plain": [
       "        date group  orders  buyers  revenue  visitors\n",
       "0 2019-08-01     A      24      20   148579       719\n",
       "1 2019-08-01     B      21      20   101217       713\n",
       "2 2019-08-02     A      44      38   242401      1338\n",
       "3 2019-08-02     B      45      43   266748      1294\n",
       "4 2019-08-03     A      68      62   354874      1845"
      ]
     },
     "execution_count": 30,
     "metadata": {},
     "output_type": "execute_result"
    }
   ],
   "source": [
    "# посмотрим первые пять строк таблицы\n",
    "cumulativeData.head()"
   ]
  },
  {
   "cell_type": "markdown",
   "metadata": {},
   "source": [
    "Объявим переменные `cumulativeRevenueA` и `cumulativeRevenueB`, в которых сохраним данные о датах, выручке и числе заказов в группах A и B. Построим графики кумулятивной выручки по дням по группам."
   ]
  },
  {
   "cell_type": "code",
   "execution_count": 31,
   "metadata": {},
   "outputs": [
    {
     "data": {
      "text/html": [
       "<div>\n",
       "<style scoped>\n",
       "    .dataframe tbody tr th:only-of-type {\n",
       "        vertical-align: middle;\n",
       "    }\n",
       "\n",
       "    .dataframe tbody tr th {\n",
       "        vertical-align: top;\n",
       "    }\n",
       "\n",
       "    .dataframe thead th {\n",
       "        text-align: right;\n",
       "    }\n",
       "</style>\n",
       "<table border=\"1\" class=\"dataframe\">\n",
       "  <thead>\n",
       "    <tr style=\"text-align: right;\">\n",
       "      <th></th>\n",
       "      <th>date</th>\n",
       "      <th>revenue</th>\n",
       "      <th>orders</th>\n",
       "    </tr>\n",
       "  </thead>\n",
       "  <tbody>\n",
       "    <tr>\n",
       "      <th>0</th>\n",
       "      <td>2019-08-01</td>\n",
       "      <td>148579</td>\n",
       "      <td>24</td>\n",
       "    </tr>\n",
       "    <tr>\n",
       "      <th>2</th>\n",
       "      <td>2019-08-02</td>\n",
       "      <td>242401</td>\n",
       "      <td>44</td>\n",
       "    </tr>\n",
       "    <tr>\n",
       "      <th>4</th>\n",
       "      <td>2019-08-03</td>\n",
       "      <td>354874</td>\n",
       "      <td>68</td>\n",
       "    </tr>\n",
       "    <tr>\n",
       "      <th>6</th>\n",
       "      <td>2019-08-04</td>\n",
       "      <td>425699</td>\n",
       "      <td>84</td>\n",
       "    </tr>\n",
       "    <tr>\n",
       "      <th>8</th>\n",
       "      <td>2019-08-05</td>\n",
       "      <td>549917</td>\n",
       "      <td>109</td>\n",
       "    </tr>\n",
       "  </tbody>\n",
       "</table>\n",
       "</div>"
      ],
      "text/plain": [
       "        date  revenue  orders\n",
       "0 2019-08-01   148579      24\n",
       "2 2019-08-02   242401      44\n",
       "4 2019-08-03   354874      68\n",
       "6 2019-08-04   425699      84\n",
       "8 2019-08-05   549917     109"
      ]
     },
     "execution_count": 31,
     "metadata": {},
     "output_type": "execute_result"
    }
   ],
   "source": [
    "# датафрейм с кумулятивным количеством заказов и кумулятивной выручкой по дням в группе А\n",
    "cumulativeRevenueA = cumulativeData[cumulativeData['group']=='A'][['date','revenue', 'orders']]\n",
    "cumulativeRevenueA.head()"
   ]
  },
  {
   "cell_type": "code",
   "execution_count": 32,
   "metadata": {},
   "outputs": [
    {
     "data": {
      "text/html": [
       "<div>\n",
       "<style scoped>\n",
       "    .dataframe tbody tr th:only-of-type {\n",
       "        vertical-align: middle;\n",
       "    }\n",
       "\n",
       "    .dataframe tbody tr th {\n",
       "        vertical-align: top;\n",
       "    }\n",
       "\n",
       "    .dataframe thead th {\n",
       "        text-align: right;\n",
       "    }\n",
       "</style>\n",
       "<table border=\"1\" class=\"dataframe\">\n",
       "  <thead>\n",
       "    <tr style=\"text-align: right;\">\n",
       "      <th></th>\n",
       "      <th>date</th>\n",
       "      <th>revenue</th>\n",
       "      <th>orders</th>\n",
       "    </tr>\n",
       "  </thead>\n",
       "  <tbody>\n",
       "    <tr>\n",
       "      <th>1</th>\n",
       "      <td>2019-08-01</td>\n",
       "      <td>101217</td>\n",
       "      <td>21</td>\n",
       "    </tr>\n",
       "    <tr>\n",
       "      <th>3</th>\n",
       "      <td>2019-08-02</td>\n",
       "      <td>266748</td>\n",
       "      <td>45</td>\n",
       "    </tr>\n",
       "    <tr>\n",
       "      <th>5</th>\n",
       "      <td>2019-08-03</td>\n",
       "      <td>380996</td>\n",
       "      <td>61</td>\n",
       "    </tr>\n",
       "    <tr>\n",
       "      <th>7</th>\n",
       "      <td>2019-08-04</td>\n",
       "      <td>489567</td>\n",
       "      <td>78</td>\n",
       "    </tr>\n",
       "    <tr>\n",
       "      <th>9</th>\n",
       "      <td>2019-08-05</td>\n",
       "      <td>581995</td>\n",
       "      <td>101</td>\n",
       "    </tr>\n",
       "  </tbody>\n",
       "</table>\n",
       "</div>"
      ],
      "text/plain": [
       "        date  revenue  orders\n",
       "1 2019-08-01   101217      21\n",
       "3 2019-08-02   266748      45\n",
       "5 2019-08-03   380996      61\n",
       "7 2019-08-04   489567      78\n",
       "9 2019-08-05   581995     101"
      ]
     },
     "execution_count": 32,
     "metadata": {},
     "output_type": "execute_result"
    }
   ],
   "source": [
    "# датафрейм с кумулятивным количеством заказов и кумулятивной выручкой по дням в группе B\n",
    "cumulativeRevenueB = cumulativeData[cumulativeData['group']=='B'][['date','revenue', 'orders']]\n",
    "cumulativeRevenueB.head()"
   ]
  },
  {
   "cell_type": "code",
   "execution_count": 33,
   "metadata": {},
   "outputs": [
    {
     "data": {
      "image/png": "[encoded data removed]",
      "text/plain": [
       "<Figure size 432x288 with 1 Axes>"
      ]
     },
     "metadata": {
      "needs_background": "light"
     },
     "output_type": "display_data"
    }
   ],
   "source": [
    "# построим график выручки группы А\n",
    "plt.plot(cumulativeRevenueA['date'], cumulativeRevenueA['revenue'], label='A')\n",
    "\n",
    "# построим график выручки группы B\n",
    "plt.plot(cumulativeRevenueB['date'], cumulativeRevenueB['revenue'], label='B')\n",
    "\n",
    "plt.xticks(rotation=45)\n",
    "plt.legend() \n",
    "plt.title('Кумулятивная выручка по группам')\n",
    "plt.xlabel('Дата')\n",
    "plt.show();"
   ]
  },
  {
   "cell_type": "markdown",
   "metadata": {},
   "source": [
    "С самого начала группа B вырвалась вперёд и продолжала лидировать весь остаток теста. В середине августа наблюдаем резкий скачок выручки группы B. Вполне возможно, что произошёл всплеск покупательской активности: выросло числов заказов, увеличилась для дорогих заказов в выборке, повлияли аномально большие заказы и т.д."
   ]
  },
  {
   "cell_type": "markdown",
   "metadata": {},
   "source": [
    "### График кумулятивного среднего чека по группам"
   ]
  },
  {
   "cell_type": "markdown",
   "metadata": {},
   "source": [
    "Для построения графика среднего чека по группам разделим кумулятивную выручку на кумулятивное число заказов."
   ]
  },
  {
   "cell_type": "code",
   "execution_count": 34,
   "metadata": {},
   "outputs": [
    {
     "data": {
      "image/png": "[encoded data removed]",
      "text/plain": [
       "<Figure size 432x288 with 1 Axes>"
      ]
     },
     "metadata": {
      "needs_background": "light"
     },
     "output_type": "display_data"
    }
   ],
   "source": [
    "plt.plot(cumulativeRevenueA['date'], cumulativeRevenueA['revenue']/cumulativeRevenueA['orders'], label='A')\n",
    "plt.plot(cumulativeRevenueB['date'], cumulativeRevenueB['revenue']/cumulativeRevenueB['orders'], label='B')\n",
    "plt.xticks(rotation=45)\n",
    "plt.title('Кумулятивный средний чек по группам')\n",
    "plt.xlabel('Дата')\n",
    "plt.ylabel('Средний чек, руб')\n",
    "plt.legend() \n",
    "plt.show();"
   ]
  },
  {
   "cell_type": "markdown",
   "metadata": {},
   "source": [
    "Кумулятивное значение среднего чека по группам продолжает колебаться. После 17 августа со средним чеком группы В что-то случилось, и он резко увеличился (стал свыше 10000), затем после резкого скачка у группы В наблюдаем стабильное уменьшение среднего чека. Пик для группы А пришёлся на 13 августа (около 7500), после чего немного снизился и стабилизировался.\n",
    "\n",
    "Скорее всего, принимать решение по этой метрике рано. Требуется дополнительный анализ выбросов, которые так сильно искажают результаты."
   ]
  },
  {
   "cell_type": "markdown",
   "metadata": {},
   "source": [
    "### График относительного изменения кумулятивного среднего чека группы B к группе A"
   ]
  },
  {
   "cell_type": "markdown",
   "metadata": {},
   "source": [
    "Построим график относительного различия кумулятивного среднего чека группы B к группе A.\n",
    "\n",
    "Добавим пунктирную линию оси X (значение оси Y = 0) методом plt.axhline()."
   ]
  },
  {
   "cell_type": "code",
   "execution_count": 35,
   "metadata": {},
   "outputs": [
    {
     "data": {
      "image/png": "[encoded data removed]",
      "text/plain": [
       "<Figure size 432x288 with 1 Axes>"
      ]
     },
     "metadata": {
      "needs_background": "light"
     },
     "output_type": "display_data"
    }
   ],
   "source": [
    "# соберём данные в одном датафрейме\n",
    "mergedCumulativeRevenue = cumulativeRevenueA.merge(\n",
    "                          cumulativeRevenueB, \n",
    "                          left_on='date', \n",
    "                          right_on='date', \n",
    "                          how='left', \n",
    "                          suffixes=['A', 'B'])\n",
    "\n",
    "# cтроим отношение средних чеков\n",
    "plt.plot(mergedCumulativeRevenue['date'], \n",
    "(mergedCumulativeRevenue['revenueB']/mergedCumulativeRevenue['ordersB'])/(mergedCumulativeRevenue['revenueA']/mergedCumulativeRevenue['ordersA'])-1)\n",
    "\n",
    "# добавляем ось X\n",
    "plt.axhline(y=0, color='black', linestyle='--') \n",
    "plt.xticks(rotation=45)\n",
    "plt.title('Относительное изменение кумулятивного среднего чека группы B к группе A')\n",
    "plt.xlabel('Дата')\n",
    "plt.ylabel('Отношение средних чеков')\n",
    "plt.show();"
   ]
  },
  {
   "cell_type": "markdown",
   "metadata": {},
   "source": [
    "Результаты теста значительно и резко менялись в несколько дат. Видимо, именно тогда были совершены аномальные заказы."
   ]
  },
  {
   "cell_type": "markdown",
   "metadata": {},
   "source": [
    "### График кумулятивной конверсии по группам"
   ]
  },
  {
   "cell_type": "code",
   "execution_count": 36,
   "metadata": {},
   "outputs": [
    {
     "data": {
      "image/png": "[encoded data removed]",
      "text/plain": [
       "<Figure size 1152x288 with 1 Axes>"
      ]
     },
     "metadata": {
      "needs_background": "light"
     },
     "output_type": "display_data"
    }
   ],
   "source": [
    "# считаем кумулятивную конверсию\n",
    "cumulativeData['conversion'] = cumulativeData['orders']/cumulativeData['visitors']\n",
    "\n",
    "# отделяем данные по группе A\n",
    "cumulativeDataA = cumulativeData[cumulativeData['group']=='A']\n",
    "\n",
    "# отделяем данные по группе B\n",
    "cumulativeDataB = cumulativeData[cumulativeData['group']=='B']\n",
    "\n",
    "\n",
    "# строим графики\n",
    "plt.figure(figsize=(16,4))\n",
    "plt.plot(cumulativeDataA['date'], cumulativeDataA['conversion'], label='A')\n",
    "plt.plot(cumulativeDataB['date'], cumulativeDataB['conversion'], label='B')\n",
    "plt.legend()\n",
    "\n",
    "# задаем масштаб осей\n",
    "plt.axis([dt.datetime(2019, 8, 1), dt.datetime(2019, 8, 31), 0.001, 0.05])\n",
    "plt.title('График кумулятивной конверсии по группам', size=14)\n",
    "plt.xlabel('Дата', size=14)\n",
    "plt.ylabel('Конверсия', size=14)\n",
    "plt.legend()\n",
    "plt.grid()\n",
    "plt.show()"
   ]
  },
  {
   "cell_type": "markdown",
   "metadata": {},
   "source": [
    "В начале теста до 5 августа обе группы колебались вокруг одного значения. После этого конверсия группы B вырывается вперёд и фиксируется около одного значения. Конверсия группы А с 9 августа тоже зафиксировалась на одном значении (около 0.03)."
   ]
  },
  {
   "cell_type": "markdown",
   "metadata": {},
   "source": [
    "### График относительного изменения кумулятивной конверсии группы B к группе A"
   ]
  },
  {
   "cell_type": "code",
   "execution_count": 37,
   "metadata": {},
   "outputs": [
    {
     "data": {
      "text/html": [
       "<div>\n",
       "<style scoped>\n",
       "    .dataframe tbody tr th:only-of-type {\n",
       "        vertical-align: middle;\n",
       "    }\n",
       "\n",
       "    .dataframe tbody tr th {\n",
       "        vertical-align: top;\n",
       "    }\n",
       "\n",
       "    .dataframe thead th {\n",
       "        text-align: right;\n",
       "    }\n",
       "</style>\n",
       "<table border=\"1\" class=\"dataframe\">\n",
       "  <thead>\n",
       "    <tr style=\"text-align: right;\">\n",
       "      <th></th>\n",
       "      <th>date</th>\n",
       "      <th>conversionA</th>\n",
       "      <th>conversionB</th>\n",
       "    </tr>\n",
       "  </thead>\n",
       "  <tbody>\n",
       "    <tr>\n",
       "      <th>0</th>\n",
       "      <td>2019-08-01</td>\n",
       "      <td>0.033380</td>\n",
       "      <td>0.029453</td>\n",
       "    </tr>\n",
       "    <tr>\n",
       "      <th>1</th>\n",
       "      <td>2019-08-02</td>\n",
       "      <td>0.032885</td>\n",
       "      <td>0.034776</td>\n",
       "    </tr>\n",
       "    <tr>\n",
       "      <th>2</th>\n",
       "      <td>2019-08-03</td>\n",
       "      <td>0.036856</td>\n",
       "      <td>0.033833</td>\n",
       "    </tr>\n",
       "    <tr>\n",
       "      <th>3</th>\n",
       "      <td>2019-08-04</td>\n",
       "      <td>0.032787</td>\n",
       "      <td>0.030315</td>\n",
       "    </tr>\n",
       "    <tr>\n",
       "      <th>4</th>\n",
       "      <td>2019-08-05</td>\n",
       "      <td>0.032851</td>\n",
       "      <td>0.030793</td>\n",
       "    </tr>\n",
       "  </tbody>\n",
       "</table>\n",
       "</div>"
      ],
      "text/plain": [
       "        date  conversionA  conversionB\n",
       "0 2019-08-01     0.033380     0.029453\n",
       "1 2019-08-02     0.032885     0.034776\n",
       "2 2019-08-03     0.036856     0.033833\n",
       "3 2019-08-04     0.032787     0.030315\n",
       "4 2019-08-05     0.032851     0.030793"
      ]
     },
     "execution_count": 37,
     "metadata": {},
     "output_type": "execute_result"
    }
   ],
   "source": [
    "# объединим таблицы cumulativeDataA и cumulativeDataB методом merge() \n",
    "mergedCumulativeConversions = cumulativeDataA[['date','conversion']].merge(\n",
    "    cumulativeDataB[['date','conversion']], left_on='date', right_on='date', how='left', suffixes=['A', 'B'])\n",
    "\n",
    "mergedCumulativeConversions.head()"
   ]
  },
  {
   "cell_type": "code",
   "execution_count": 38,
   "metadata": {},
   "outputs": [
    {
     "data": {
      "image/png": "[encoded data removed]",
      "text/plain": [
       "<Figure size 576x432 with 1 Axes>"
      ]
     },
     "metadata": {
      "needs_background": "light"
     },
     "output_type": "display_data"
    }
   ],
   "source": [
    "# построим график относительного различия кумулятивной конверсии группы B к группе A.\n",
    "plt.figure(figsize=(8,6))\n",
    "plt.plot(\n",
    "    mergedCumulativeConversions['date'], \n",
    "    mergedCumulativeConversions['conversionB']/mergedCumulativeConversions['conversionA']-1, \n",
    "    label=\"Относительный прирост конверсии группы B относительно группы A\"\n",
    ")\n",
    "plt.legend()\n",
    "plt.xlabel('Дата')\n",
    "plt.ylabel('Значение прироста')\n",
    "\n",
    "plt.xticks(rotation=45)\n",
    "\n",
    "# добавим пунктирную линию оси X чёрного цвета ('black') со значением оси Y = 0 методом plt.axhline(). \n",
    "plt.axhline(y=0, color='black', linestyle='--')\n",
    "# и ещё одну линию оси X серого цвета ('grey') со значением оси Y = 0.2.\n",
    "plt.axhline(y=0.2, color='grey', linestyle='--')\n",
    "\n",
    "plt.axis([\"2019-08-01\", '2019-08-31', -0.2, 0.3])\n",
    "\n",
    "plt.show()"
   ]
  },
  {
   "cell_type": "markdown",
   "metadata": {},
   "source": [
    "В начале теста группа B уступала группы A, затем вырвалась резко вперёд 2 августа, а потом упала вновь 3 августа. Затем группа B начала расти вплоть до 15 августа, после чего стала немного падать до 0.1, но все равно выигрывает по сравнению с группой А. В целом отношение конверсии ещё не установилось, и сейчас делать какие-либо выводы по тесту нельзя. Впрочем, сперва стоит проанализировать аномалии, возможно, они изменят картину."
   ]
  },
  {
   "cell_type": "markdown",
   "metadata": {},
   "source": [
    "## Анализ выбросов и всплесков"
   ]
  },
  {
   "cell_type": "markdown",
   "metadata": {},
   "source": [
    "### Точечный график количества заказов по пользователям"
   ]
  },
  {
   "cell_type": "code",
   "execution_count": 39,
   "metadata": {},
   "outputs": [
    {
     "data": {
      "text/html": [
       "<div>\n",
       "<style scoped>\n",
       "    .dataframe tbody tr th:only-of-type {\n",
       "        vertical-align: middle;\n",
       "    }\n",
       "\n",
       "    .dataframe tbody tr th {\n",
       "        vertical-align: top;\n",
       "    }\n",
       "\n",
       "    .dataframe thead th {\n",
       "        text-align: right;\n",
       "    }\n",
       "</style>\n",
       "<table border=\"1\" class=\"dataframe\">\n",
       "  <thead>\n",
       "    <tr style=\"text-align: right;\">\n",
       "      <th></th>\n",
       "      <th>userId</th>\n",
       "      <th>orders</th>\n",
       "    </tr>\n",
       "  </thead>\n",
       "  <tbody>\n",
       "    <tr>\n",
       "      <th>1023</th>\n",
       "      <td>4256040402</td>\n",
       "      <td>11</td>\n",
       "    </tr>\n",
       "    <tr>\n",
       "      <th>591</th>\n",
       "      <td>2458001652</td>\n",
       "      <td>11</td>\n",
       "    </tr>\n",
       "    <tr>\n",
       "      <th>569</th>\n",
       "      <td>2378935119</td>\n",
       "      <td>9</td>\n",
       "    </tr>\n",
       "    <tr>\n",
       "      <th>487</th>\n",
       "      <td>2038680547</td>\n",
       "      <td>8</td>\n",
       "    </tr>\n",
       "    <tr>\n",
       "      <th>44</th>\n",
       "      <td>199603092</td>\n",
       "      <td>5</td>\n",
       "    </tr>\n",
       "    <tr>\n",
       "      <th>...</th>\n",
       "      <td>...</td>\n",
       "      <td>...</td>\n",
       "    </tr>\n",
       "    <tr>\n",
       "      <th>359</th>\n",
       "      <td>1484903144</td>\n",
       "      <td>1</td>\n",
       "    </tr>\n",
       "    <tr>\n",
       "      <th>360</th>\n",
       "      <td>1485964287</td>\n",
       "      <td>1</td>\n",
       "    </tr>\n",
       "    <tr>\n",
       "      <th>361</th>\n",
       "      <td>1494664757</td>\n",
       "      <td>1</td>\n",
       "    </tr>\n",
       "    <tr>\n",
       "      <th>362</th>\n",
       "      <td>1495112755</td>\n",
       "      <td>1</td>\n",
       "    </tr>\n",
       "    <tr>\n",
       "      <th>1030</th>\n",
       "      <td>4283872382</td>\n",
       "      <td>1</td>\n",
       "    </tr>\n",
       "  </tbody>\n",
       "</table>\n",
       "<p>1031 rows × 2 columns</p>\n",
       "</div>"
      ],
      "text/plain": [
       "          userId  orders\n",
       "1023  4256040402      11\n",
       "591   2458001652      11\n",
       "569   2378935119       9\n",
       "487   2038680547       8\n",
       "44     199603092       5\n",
       "...          ...     ...\n",
       "359   1484903144       1\n",
       "360   1485964287       1\n",
       "361   1494664757       1\n",
       "362   1495112755       1\n",
       "1030  4283872382       1\n",
       "\n",
       "[1031 rows x 2 columns]"
      ]
     },
     "execution_count": 39,
     "metadata": {},
     "output_type": "execute_result"
    }
   ],
   "source": [
    "# Метод .groupby('...', as_index=False) сгруппирует заказы по пользователям\n",
    "# Метод .agg({'...' : 'nunique',}) подсчитает число уникальных заказов по сгруппированным данным\n",
    "ordersByUsers  = orders.drop(['group', 'revenue', 'date'], \n",
    "                             axis=1).groupby('visitorId', as_index=False).agg({'transactionId': 'nunique'})\n",
    "ordersByUsers.columns = ['userId', 'orders']\n",
    "\n",
    "# Метод .sort_values(by='...',ascending=False) отсортирует датафрейм по значению в столбце\n",
    "\n",
    "ordersByUsers.sort_values(by='orders', ascending=False)"
   ]
  },
  {
   "cell_type": "code",
   "execution_count": 40,
   "metadata": {},
   "outputs": [
    {
     "data": {
      "image/png": "[encoded data removed]",
      "text/plain": [
       "<Figure size 432x288 with 1 Axes>"
      ]
     },
     "metadata": {
      "needs_background": "light"
     },
     "output_type": "display_data"
    }
   ],
   "source": [
    "# серия из чисел от 0 до количества наблюдений в ordersByUsers\n",
    "x_values = pd.Series(range(0, len(ordersByUsers)))\n",
    "\n",
    "plt.scatter(x_values, ordersByUsers['orders']) \n",
    "\n",
    "plt.title('Распределение числа заказов по пользователям')\n",
    "plt.xlabel('Количество пользователей')\n",
    "plt.ylabel('Количество заказов, шт')\n",
    "plt.show()"
   ]
  },
  {
   "cell_type": "markdown",
   "metadata": {},
   "source": [
    "Пользователей, заказавших более двух раз, совсем мало. Они вполне могут быть аномальными."
   ]
  },
  {
   "cell_type": "markdown",
   "metadata": {},
   "source": [
    "### 95-й и 99-й перцентили количества заказов на пользователя"
   ]
  },
  {
   "cell_type": "code",
   "execution_count": 41,
   "metadata": {},
   "outputs": [
    {
     "data": {
      "text/plain": [
       "array([2., 4.])"
      ]
     },
     "execution_count": 41,
     "metadata": {},
     "output_type": "execute_result"
    }
   ],
   "source": [
    "# метод np.percentile('column', [percentile1, percentile2]) находит перцентили\n",
    "np.percentile(ordersByUsers['orders'], [95, 99])"
   ]
  },
  {
   "cell_type": "markdown",
   "metadata": {},
   "source": [
    "Не более 5% пользователей совершали больше двух заказов. И не более 1% пользователей - больше четырех заказов."
   ]
  },
  {
   "cell_type": "markdown",
   "metadata": {},
   "source": [
    "### Точечный график стоимостей заказов"
   ]
  },
  {
   "cell_type": "code",
   "execution_count": 42,
   "metadata": {
    "scrolled": false
   },
   "outputs": [
    {
     "data": {
      "image/png": "[encoded data removed]",
      "text/plain": [
       "<Figure size 432x288 with 1 Axes>"
      ]
     },
     "metadata": {
      "needs_background": "light"
     },
     "output_type": "display_data"
    }
   ],
   "source": [
    "x_values = pd.Series(range(0, len(orders['revenue'])))\n",
    "\n",
    "plt.scatter(x_values, orders['revenue']) \n",
    "\n",
    "plt.title('Распределение стоимости заказов')\n",
    "plt.xlabel('Количество пользователей')\n",
    "plt.ylabel('Стоимость заказов')\n",
    "plt.axis([0, 1200, 0, 130000])\n",
    "\n",
    "plt.show()"
   ]
  },
  {
   "cell_type": "markdown",
   "metadata": {},
   "source": [
    "Больших заказов не так уж и много. Присутствуют выбросы в районе 40000-100000. "
   ]
  },
  {
   "cell_type": "markdown",
   "metadata": {},
   "source": [
    "### 95-й и 99-й перцентили стоимости заказов"
   ]
  },
  {
   "cell_type": "code",
   "execution_count": 43,
   "metadata": {
    "scrolled": true
   },
   "outputs": [
    {
     "name": "stdout",
     "output_type": "stream",
     "text": [
      "[28000.  58233.2]\n"
     ]
    }
   ],
   "source": [
    "print(np.percentile(orders['revenue'], [95, 99]))"
   ]
  },
  {
   "cell_type": "markdown",
   "metadata": {},
   "source": [
    "Не более, чем у 5% заказов стоимость заказов выше 28000. И не более, чем у 1% стоимость заказов выше 58233."
   ]
  },
  {
   "cell_type": "markdown",
   "metadata": {},
   "source": [
    "## Проведение A/B-теста"
   ]
  },
  {
   "cell_type": "markdown",
   "metadata": {},
   "source": [
    "### Статистическая значимость различий в конверсии между группами по «сырым» данным"
   ]
  },
  {
   "cell_type": "markdown",
   "metadata": {},
   "source": [
    "Посчитаем статистическую значимость различий в конверсии и среднем чеке между группами по «сырым» данным — без удаления аномальных пользователей.\n",
    "\n",
    "Сформулируем гипотезы. Нулевая: различий в конверсии между группами нет. Альтернативная: различия в конверсии между группами есть."
   ]
  },
  {
   "cell_type": "markdown",
   "metadata": {},
   "source": [
    "* H0 - Вероятность того, что наблюдение из группы B превышает наблюдение из группы A равна 50%\n",
    "* H1 - Вероятность того, что наблюдение из группы B превышает наблюдение из группы A не равна 50%"
   ]
  },
  {
   "cell_type": "code",
   "execution_count": 44,
   "metadata": {},
   "outputs": [
    {
     "data": {
      "text/html": [
       "<div>\n",
       "<style scoped>\n",
       "    .dataframe tbody tr th:only-of-type {\n",
       "        vertical-align: middle;\n",
       "    }\n",
       "\n",
       "    .dataframe tbody tr th {\n",
       "        vertical-align: top;\n",
       "    }\n",
       "\n",
       "    .dataframe thead th {\n",
       "        text-align: right;\n",
       "    }\n",
       "</style>\n",
       "<table border=\"1\" class=\"dataframe\">\n",
       "  <thead>\n",
       "    <tr style=\"text-align: right;\">\n",
       "      <th></th>\n",
       "      <th>date</th>\n",
       "      <th>ordersPerDateA</th>\n",
       "      <th>revenuePerDateA</th>\n",
       "      <th>ordersPerDateB</th>\n",
       "      <th>revenuePerDateB</th>\n",
       "      <th>ordersCummulativeA</th>\n",
       "      <th>revenueCummulativeA</th>\n",
       "      <th>ordersCummulativeB</th>\n",
       "      <th>revenueCummulativeB</th>\n",
       "      <th>visitorsPerDateA</th>\n",
       "      <th>visitorsPerDateB</th>\n",
       "      <th>visitorsCummulativeA</th>\n",
       "      <th>visitorsCummulativeB</th>\n",
       "    </tr>\n",
       "  </thead>\n",
       "  <tbody>\n",
       "    <tr>\n",
       "      <th>0</th>\n",
       "      <td>2019-08-01</td>\n",
       "      <td>24</td>\n",
       "      <td>148579</td>\n",
       "      <td>21</td>\n",
       "      <td>101217</td>\n",
       "      <td>24</td>\n",
       "      <td>148579</td>\n",
       "      <td>21</td>\n",
       "      <td>101217</td>\n",
       "      <td>719</td>\n",
       "      <td>713</td>\n",
       "      <td>719</td>\n",
       "      <td>713</td>\n",
       "    </tr>\n",
       "    <tr>\n",
       "      <th>1</th>\n",
       "      <td>2019-08-02</td>\n",
       "      <td>20</td>\n",
       "      <td>93822</td>\n",
       "      <td>24</td>\n",
       "      <td>165531</td>\n",
       "      <td>44</td>\n",
       "      <td>242401</td>\n",
       "      <td>45</td>\n",
       "      <td>266748</td>\n",
       "      <td>619</td>\n",
       "      <td>581</td>\n",
       "      <td>1338</td>\n",
       "      <td>1294</td>\n",
       "    </tr>\n",
       "    <tr>\n",
       "      <th>2</th>\n",
       "      <td>2019-08-03</td>\n",
       "      <td>24</td>\n",
       "      <td>112473</td>\n",
       "      <td>16</td>\n",
       "      <td>114248</td>\n",
       "      <td>68</td>\n",
       "      <td>354874</td>\n",
       "      <td>61</td>\n",
       "      <td>380996</td>\n",
       "      <td>507</td>\n",
       "      <td>509</td>\n",
       "      <td>1845</td>\n",
       "      <td>1803</td>\n",
       "    </tr>\n",
       "    <tr>\n",
       "      <th>3</th>\n",
       "      <td>2019-08-04</td>\n",
       "      <td>16</td>\n",
       "      <td>70825</td>\n",
       "      <td>17</td>\n",
       "      <td>108571</td>\n",
       "      <td>84</td>\n",
       "      <td>425699</td>\n",
       "      <td>78</td>\n",
       "      <td>489567</td>\n",
       "      <td>717</td>\n",
       "      <td>770</td>\n",
       "      <td>2562</td>\n",
       "      <td>2573</td>\n",
       "    </tr>\n",
       "    <tr>\n",
       "      <th>4</th>\n",
       "      <td>2019-08-05</td>\n",
       "      <td>25</td>\n",
       "      <td>124218</td>\n",
       "      <td>23</td>\n",
       "      <td>92428</td>\n",
       "      <td>109</td>\n",
       "      <td>549917</td>\n",
       "      <td>101</td>\n",
       "      <td>581995</td>\n",
       "      <td>756</td>\n",
       "      <td>707</td>\n",
       "      <td>3318</td>\n",
       "      <td>3280</td>\n",
       "    </tr>\n",
       "  </tbody>\n",
       "</table>\n",
       "</div>"
      ],
      "text/plain": [
       "        date  ordersPerDateA  revenuePerDateA  ordersPerDateB  \\\n",
       "0 2019-08-01              24           148579              21   \n",
       "1 2019-08-02              20            93822              24   \n",
       "2 2019-08-03              24           112473              16   \n",
       "3 2019-08-04              16            70825              17   \n",
       "4 2019-08-05              25           124218              23   \n",
       "\n",
       "   revenuePerDateB  ordersCummulativeA  revenueCummulativeA  \\\n",
       "0           101217                  24               148579   \n",
       "1           165531                  44               242401   \n",
       "2           114248                  68               354874   \n",
       "3           108571                  84               425699   \n",
       "4            92428                 109               549917   \n",
       "\n",
       "   ordersCummulativeB  revenueCummulativeB  visitorsPerDateA  \\\n",
       "0                  21               101217               719   \n",
       "1                  45               266748               619   \n",
       "2                  61               380996               507   \n",
       "3                  78               489567               717   \n",
       "4                 101               581995               756   \n",
       "\n",
       "   visitorsPerDateB  visitorsCummulativeA  visitorsCummulativeB  \n",
       "0               713                   719                   713  \n",
       "1               581                  1338                  1294  \n",
       "2               509                  1845                  1803  \n",
       "3               770                  2562                  2573  \n",
       "4               707                  3318                  3280  "
      ]
     },
     "execution_count": 44,
     "metadata": {},
     "output_type": "execute_result"
    }
   ],
   "source": [
    "# подготовим данные\n",
    "visitorsADaily = visitors[visitors['group'] == 'A'][['date', 'visitors']]\n",
    "visitorsADaily.columns = ['date', 'visitorsPerDateA']\n",
    "\n",
    "visitorsACummulative = visitorsADaily.apply(\n",
    "    lambda x: visitorsADaily[visitorsADaily['date'] <= x['date']].agg(\n",
    "        {'date': 'max', 'visitorsPerDateA': 'sum'}\n",
    "    ),\n",
    "    axis=1,\n",
    ")\n",
    "visitorsACummulative.columns = ['date', 'visitorsCummulativeA']\n",
    "\n",
    "visitorsBDaily = visitors[visitors['group'] == 'B'][['date', 'visitors']]\n",
    "visitorsBDaily.columns = ['date', 'visitorsPerDateB']\n",
    "\n",
    "visitorsBCummulative = visitorsBDaily.apply(\n",
    "    lambda x: visitorsBDaily[visitorsBDaily['date'] <= x['date']].agg(\n",
    "        {'date': 'max', 'visitorsPerDateB': 'sum'}\n",
    "    ),\n",
    "    axis=1,\n",
    ")\n",
    "visitorsBCummulative.columns = ['date', 'visitorsCummulativeB']\n",
    "\n",
    "ordersADaily = (\n",
    "    orders[orders['group'] == 'A'][['date', 'transactionId', 'visitorId', 'revenue']]\n",
    "    .groupby('date', as_index=False)\n",
    "    .agg({'transactionId': pd.Series.nunique, 'revenue': 'sum'})\n",
    ")\n",
    "ordersADaily.columns = ['date', 'ordersPerDateA', 'revenuePerDateA']\n",
    "\n",
    "ordersACummulative = ordersADaily.apply(\n",
    "    lambda x: ordersADaily[ordersADaily['date'] <= x['date']].agg(\n",
    "        {'date': 'max', 'ordersPerDateA': 'sum', 'revenuePerDateA': 'sum'}\n",
    "    ),\n",
    "    axis=1,\n",
    ").sort_values(by=['date'])\n",
    "ordersACummulative.columns = [\n",
    "    'date',\n",
    "    'ordersCummulativeA',\n",
    "    'revenueCummulativeA',\n",
    "]\n",
    "\n",
    "ordersBDaily = (\n",
    "    orders[orders['group'] == 'B'][['date', 'transactionId', 'visitorId', 'revenue']]\n",
    "    .groupby('date', as_index=False)\n",
    "    .agg({'transactionId': pd.Series.nunique, 'revenue': 'sum'})\n",
    ")\n",
    "\n",
    "ordersBDaily.columns = ['date', 'ordersPerDateB', 'revenuePerDateB']\n",
    "\n",
    "ordersBCummulative = ordersBDaily.apply(\n",
    "    lambda x: ordersBDaily[ordersBDaily['date'] <= x['date']].agg(\n",
    "        {'date': 'max', 'ordersPerDateB': 'sum', 'revenuePerDateB': 'sum'}\n",
    "    ),\n",
    "    axis=1,\n",
    ").sort_values(by=['date'])\n",
    "ordersBCummulative.columns = [\n",
    "    'date',\n",
    "    'ordersCummulativeB',\n",
    "    'revenueCummulativeB',\n",
    "]\n",
    "\n",
    "data = (\n",
    "    ordersADaily.merge(\n",
    "        ordersBDaily, left_on='date', right_on='date', how='left'\n",
    "    )\n",
    "    .merge(ordersACummulative, left_on='date', right_on='date', how='left')\n",
    "    .merge(ordersBCummulative, left_on='date', right_on='date', how='left')\n",
    "    .merge(visitorsADaily, left_on='date', right_on='date', how='left')\n",
    "    .merge(visitorsBDaily, left_on='date', right_on='date', how='left')\n",
    "    .merge(visitorsACummulative, left_on='date', right_on='date', how='left')\n",
    "    .merge(visitorsBCummulative, left_on='date', right_on='date', how='left')\n",
    ")\n",
    "data.head()"
   ]
  },
  {
   "cell_type": "markdown",
   "metadata": {},
   "source": [
    "**Напомним названия столбцов данных:**\n",
    "\n",
    "* `date` — дата;\n",
    "* `ordersPerDateA` — количество заказов в выбранную дату в группе A;\n",
    "* `revenuePerDateA` — суммарная выручка в выбранную дату в группе A;\n",
    "* `ordersPerDateB` — количество заказов в выбранную дату в группе B;\n",
    "* `revenuePerDateB` — суммарная выручка в выбранную дату в группе B;\n",
    "* `ordersCummulativeA` — суммарное число заказов до выбранной даты включительно в группе A;\n",
    "* `revenueCummulativeA` — суммарная выручка до выбранной даты включительно в группе A;\n",
    "* `ordersCummulativeB` — суммарное количество заказов до выбранной даты включительно в группе B;\n",
    "* `revenueCummulativeB` — суммарная выручка до выбранной даты включительно в группе B;\n",
    "* `visitorsPerDateA` — количество пользователей в выбранную дату в группе A;\n",
    "* `visitorsPerDateB` — количество пользователей в выбранную дату в группе B;\n",
    "* `visitorsCummulativeA` — количество пользователей до выбранной даты включительно в группе A;\n",
    "* `visitorsCummulativeB` — количество пользователей до выбранной даты включительно в группе B."
   ]
  },
  {
   "cell_type": "markdown",
   "metadata": {},
   "source": [
    "Посчитаем статистическую значимость различия в конверсии между группами.\n",
    "\n",
    "Создадим переменные ordersByUsersA и ordersByUsersB со столбцами **'userId', 'orders'**. \n",
    "\n",
    "В них для пользователей, которые заказывали хотя бы 1 раз, укажем число совершённых заказов."
   ]
  },
  {
   "cell_type": "code",
   "execution_count": 45,
   "metadata": {},
   "outputs": [],
   "source": [
    "ordersByUsersA = (\n",
    "    orders[orders['group'] == 'A']\n",
    "    .groupby('visitorId', as_index=False)\n",
    "    .agg({'transactionId': pd.Series.nunique})\n",
    ")\n",
    "ordersByUsersA.columns = ['userId', 'orders']\n",
    "\n",
    "ordersByUsersB = (\n",
    "    orders[orders['group'] == 'B']\n",
    "    .groupby('visitorId', as_index=False)\n",
    "    .agg({'transactionId': pd.Series.nunique})\n",
    ")\n",
    "ordersByUsersB.columns = ['userId', 'orders'] "
   ]
  },
  {
   "cell_type": "markdown",
   "metadata": {},
   "source": [
    "Объявим переменные **sampleA** и **sampleB**, в которых пользователям из разных групп будет соответствовать количество заказов. Тем, кто ничего не заказал, будут соответствовать нули. Это нужно, чтобы подготовить выборки к проверке критерием Манна-Уитни."
   ]
  },
  {
   "cell_type": "code",
   "execution_count": 46,
   "metadata": {},
   "outputs": [],
   "source": [
    "sampleA = pd.concat([ordersByUsersA['orders'],pd.Series(0, index=np.arange(data['visitorsPerDateA'].sum() - len(ordersByUsersA['orders'])), name='orders')],axis=0)\n",
    "\n",
    "sampleB = pd.concat([ordersByUsersB['orders'],pd.Series(0, index=np.arange(data['visitorsPerDateB'].sum() - len(ordersByUsersB['orders'])), name='orders')],axis=0) "
   ]
  },
  {
   "cell_type": "code",
   "execution_count": 47,
   "metadata": {
    "scrolled": true
   },
   "outputs": [
    {
     "name": "stdout",
     "output_type": "stream",
     "text": [
      "0.017\n",
      "0.138\n"
     ]
    }
   ],
   "source": [
    "# выведем относительный прирост конверсии группы B: конверсия группы B / конверсия группы A - 1\n",
    "# округлим до трёх знаков после запятой\n",
    "\n",
    "sampleA = pd.concat(\n",
    "    [\n",
    "        ordersByUsersA['orders'],\n",
    "        pd.Series(\n",
    "            0,\n",
    "            index=np.arange(\n",
    "                data['visitorsPerDateA'].sum() - len(ordersByUsersA['orders'])\n",
    "            ),\n",
    "            name='orders',\n",
    "        ),\n",
    "    ],\n",
    "    axis=0,\n",
    ")\n",
    "\n",
    "sampleB = pd.concat(\n",
    "    [\n",
    "        ordersByUsersB['orders'],\n",
    "        pd.Series(\n",
    "            0,\n",
    "            index=np.arange(\n",
    "                data['visitorsPerDateB'].sum() - len(ordersByUsersB['orders'])\n",
    "            ),\n",
    "            name='orders',\n",
    "        ),\n",
    "    ],\n",
    "    axis=0,\n",
    ")\n",
    "\n",
    "print(\"{0:.3f}\".format(stats.mannwhitneyu(sampleA, sampleB)[1]))\n",
    "\n",
    "print(\"{0:.3f}\".format(sampleB.mean() / sampleA.mean() - 1))"
   ]
  },
  {
   "cell_type": "markdown",
   "metadata": {},
   "source": [
    "Первое число — p-value равно 0.017 и оно меньше 0.05. Значит, нулевую гипотезу о том, что статистически значимых различий в конверсии между группами нет, отвергаем. \n",
    "\n",
    "Анализ «сырых» данных показывает, что в конверсии между группами есть статистически значимые различия. Отдельный прирост конверсии группы В к конверсии группы А равен 13.8% (нулевая гипотеза всегда приравнивает, значит Н1 - статистически значимые различия в группах имеются)."
   ]
  },
  {
   "cell_type": "markdown",
   "metadata": {},
   "source": [
    "### Статистическая значимость различий в среднем чеке заказа между группами по «сырым» данным"
   ]
  },
  {
   "cell_type": "markdown",
   "metadata": {},
   "source": [
    "Теперь проверим статистическую значимость различий в среднем чеке между сегментами. \n",
    "\n",
    "* **Н0:** различий в среднем чеке между группами нет. \n",
    "* **H1:** различия в среднем чеке между группами есть.\n",
    "\n",
    "Чтобы рассчитать статистическую значимость различий в среднем чеке, передадим критерию mannwhitneyu() данные о выручке с заказов.\n",
    "\n",
    "А ещё найдём относительные различия в среднем чеке между группами."
   ]
  },
  {
   "cell_type": "code",
   "execution_count": 48,
   "metadata": {},
   "outputs": [
    {
     "name": "stdout",
     "output_type": "stream",
     "text": [
      "0.729\n",
      "0.259\n"
     ]
    }
   ],
   "source": [
    "print('{0:.3f}'.format(stats.mannwhitneyu(orders[orders['group']=='A']['revenue'], orders[orders['group']=='B']['revenue'])[1]))\n",
    "print('{0:.3f}'.format(orders[orders['group']=='B']['revenue'].mean()/orders[orders['group']=='A']['revenue'].mean()-1)) "
   ]
  },
  {
   "cell_type": "markdown",
   "metadata": {},
   "source": [
    "P-value значительно больше 0.05. Значит, причин отвергать нулевую гипотезу и считать, что в среднем чеке есть различия, нет. Впрочем, средний чек группы B значительно ниже среднего чека группы A.\n",
    "\n",
    "Кроме того, относительное различие среднего чека между сегментами 25.9%, это довольно-таки много. Вероятнее всего, тут аномалии с двух сторон, с которыми следует поработать."
   ]
  },
  {
   "cell_type": "markdown",
   "metadata": {},
   "source": [
    "### Очистка данных"
   ]
  },
  {
   "cell_type": "markdown",
   "metadata": {},
   "source": [
    "95 и 99 перцентили средних чеков равны 28000 и 58233 рублям. 95 и 99 перцентили числа заказов на одного пользователя равны 2 и 4.\n",
    "\n",
    "Примем за аномальных пользователей тех, кто совершил более 2 заказов или совершил заказ дороже 28000.\n",
    "\n",
    "Сначала определим аномальные заказы, затем пользователей, совершивших их и добавим их в список аномальных."
   ]
  },
  {
   "cell_type": "code",
   "execution_count": 49,
   "metadata": {},
   "outputs": [
    {
     "name": "stdout",
     "output_type": "stream",
     "text": [
      "1099    148427295\n",
      "18      199603092\n",
      "928     204675465\n",
      "23      237748145\n",
      "37      249864742\n",
      "dtype: int64\n",
      "74\n"
     ]
    }
   ],
   "source": [
    "# узнаем, сколько всего аномальных пользователей методом shape()\n",
    "usersWithManyOrders = pd.concat(\n",
    "    [\n",
    "        ordersByUsersA[ordersByUsersA['orders'] > 2]['userId'],\n",
    "        ordersByUsersB[ordersByUsersB['orders'] > 2]['userId'],\n",
    "    ],\n",
    "    axis=0,\n",
    ")\n",
    "\n",
    "usersWithExpensiveOrders = orders[orders['revenue'] > 28000]['visitorId']\n",
    "\n",
    "abnormalUsers = (\n",
    "    pd.concat([usersWithManyOrders, usersWithExpensiveOrders], axis=0)\n",
    "    .drop_duplicates()\n",
    "    .sort_values()\n",
    ")\n",
    "\n",
    "print(abnormalUsers.head())\n",
    "print(abnormalUsers.shape[0]) "
   ]
  },
  {
   "cell_type": "markdown",
   "metadata": {},
   "source": [
    "Всего 74 аномальных пользователей. \n",
    "\n",
    "Узнаем, как их действия повлияли на результаты теста. Посчитаем статистическую значимость различий в конверсии между группами теста по очищенным данным"
   ]
  },
  {
   "cell_type": "markdown",
   "metadata": {},
   "source": [
    "### Статистическая значимость различий в конверсии между группами по «очищенным» данным"
   ]
  },
  {
   "cell_type": "markdown",
   "metadata": {},
   "source": [
    "Узнаем, как их действия повлияли на результаты теста. Посчитаем статистическую значимость различий в конверсии между группами теста по очищенным данным. Сначала подготовим выборки количества заказов по пользователям по группам теста."
   ]
  },
  {
   "cell_type": "code",
   "execution_count": 50,
   "metadata": {},
   "outputs": [],
   "source": [
    "sampleAFiltered = pd.concat(\n",
    "    [\n",
    "        ordersByUsersA[\n",
    "            np.logical_not(ordersByUsersA['userId'].isin(abnormalUsers))\n",
    "        ]['orders'],\n",
    "        pd.Series(\n",
    "            0,\n",
    "            index=np.arange(\n",
    "                data['visitorsPerDateA'].sum() - len(ordersByUsersA['orders'])\n",
    "            ),\n",
    "            name='orders',\n",
    "        ),\n",
    "    ],\n",
    "    axis=0,\n",
    ")\n",
    "\n",
    "sampleBFiltered = pd.concat(\n",
    "    [\n",
    "        ordersByUsersB[\n",
    "            np.logical_not(ordersByUsersB['userId'].isin(abnormalUsers))\n",
    "        ]['orders'],\n",
    "        pd.Series(\n",
    "            0,\n",
    "            index=np.arange(\n",
    "                data['visitorsPerDateB'].sum() - len(ordersByUsersB['orders'])\n",
    "            ),\n",
    "            name='orders',\n",
    "        ),\n",
    "    ],\n",
    "    axis=0,\n",
    ") "
   ]
  },
  {
   "cell_type": "code",
   "execution_count": 51,
   "metadata": {
    "scrolled": true
   },
   "outputs": [
    {
     "name": "stdout",
     "output_type": "stream",
     "text": [
      "0.013\n",
      "0.173\n"
     ]
    }
   ],
   "source": [
    "# применим статистический критерий Манна-Уитни к полученным выборкам:\n",
    "print('{0:.3f}'.format(stats.mannwhitneyu(sampleAFiltered, sampleBFiltered)[1]))\n",
    "print('{0:.3f}'.format(sampleBFiltered.mean()/sampleAFiltered.mean()-1)) "
   ]
  },
  {
   "cell_type": "markdown",
   "metadata": {},
   "source": [
    "Как и в случае с сырыми данными, статистическая значимость достигнута. Отвергаем нулевую гипотезу. Сегмент B лучше сегмента А. Относительный прирост конверсии очищенной группы B к А увеличился на 3.5% и равен 17.3%"
   ]
  },
  {
   "cell_type": "markdown",
   "metadata": {},
   "source": [
    "### Статистическая значимость различий в среднем чеке заказа между группами по «очищенным» данным"
   ]
  },
  {
   "cell_type": "code",
   "execution_count": 52,
   "metadata": {
    "scrolled": true
   },
   "outputs": [
    {
     "name": "stdout",
     "output_type": "stream",
     "text": [
      "0.738\n",
      "-0.020\n"
     ]
    }
   ],
   "source": [
    "print(\n",
    "    '{0:.3f}'.format(\n",
    "        stats.mannwhitneyu(\n",
    "            orders[\n",
    "                np.logical_and(\n",
    "                    orders['group'] == 'A',\n",
    "                    np.logical_not(orders['visitorId'].isin(abnormalUsers)),\n",
    "                )\n",
    "            ]['revenue'],\n",
    "            orders[\n",
    "                np.logical_and(\n",
    "                    orders['group'] == 'B',\n",
    "                    np.logical_not(orders['visitorId'].isin(abnormalUsers)),\n",
    "                )\n",
    "            ]['revenue'], \n",
    "            True, # что бы задать 4ый параметр \n",
    "            'two-sided' # для двух-стороннего теста\n",
    "        )[1]\n",
    "    )\n",
    ")\n",
    "\n",
    "print(\n",
    "    \"{0:.3f}\".format(\n",
    "        orders[\n",
    "            np.logical_and(\n",
    "                orders['group'] == 'B',\n",
    "                np.logical_not(orders['visitorId'].isin(abnormalUsers)),\n",
    "            )\n",
    "        ]['revenue'].mean()\n",
    "        / orders[\n",
    "            np.logical_and(\n",
    "                orders['group'] == 'A',\n",
    "                np.logical_not(orders['visitorId'].isin(abnormalUsers)),\n",
    "            )\n",
    "        ]['revenue'].mean()\n",
    "        - 1\n",
    "    )\n",
    ")"
   ]
  },
  {
   "cell_type": "markdown",
   "metadata": {},
   "source": [
    "После очистки данных от аномалий p-value по среднему чеку не практически не изменился, нулевая гипотеза отвергается, поэтому статистически значимых отличий между группами нет. Относительное различие группы В относительно группы А, после очистки данных упало на 27.9%. И составляет всего 2% в пользу группы А."
   ]
  },
  {
   "cell_type": "markdown",
   "metadata": {},
   "source": [
    "### Решение по результатам A/B-теста "
   ]
  },
  {
   "cell_type": "markdown",
   "metadata": {},
   "source": [
    "По результатам A/B-теста мы приняли решение остановить тест, признать его успешным, зафиксировать победу группы B и перейти к проверке следующей гипотезы.\n",
    "\n",
    "* есть статистически значимое различие по конверсии между группами как по сырым данным, так и после фильтрации аномалий; \n",
    "* конверсия группы B увеличилась по сравнению с группой A, при этом статистически значимых различий в среднем чеке заказа между группами нет."
   ]
  },
  {
   "cell_type": "markdown",
   "metadata": {},
   "source": [
    "## Вывод"
   ]
  },
  {
   "cell_type": "markdown",
   "metadata": {},
   "source": [
    "Для исследования нам были предоставлены входные данные, содержащие информацию о 9 предоставленных гипотезах по увеличению выручки нашего интернет-магазина, данные о заказах и данные о посещениях.\n",
    "\n",
    "**Исследование состояло из двух частей:**\n",
    "\n",
    "* Часть 1. Необходимо приоритизировать гипотезы.\n",
    "* Часть 2. Запустить A/B-тест и проанализировать результаты.\n",
    "\n",
    "**Предобработка**\n",
    "\n",
    "Перед началом исследования мы изучили предоставленные данные и провели их преобработку.\n",
    "\n",
    "По результатам которых можно сделать следующие выводы:\n",
    "* Представлены заказы за c 1 по 31 августа 2019 года;\n",
    "* Всего 1197 заказов, совершенных 1031 уникальным пользователем;\n",
    "* Cамое большое число заказов, совершённых одним покупателем - 11;\n",
    "* Больше всего заказов было сделано 5 августа 2019 года - 48;\n",
    "* Каждая дата повторяется по 2 раза (для групп А и В), уникальных значений - 31, так же, как и в датасете с заказами;\n",
    "* Было выявлено, что 58 покупателей, оказались сразу в обеих группах. Так как их количество незначительно, то оставим всё как есть.\n",
    "\n",
    "\n",
    "**Часть 1. Приоритизация гипотез.**\n",
    "\n",
    "В ходе первой части исследования приоритизированы 9 предоставленных гипотез по увеличению выручки интернет-магазина.\n",
    "\n",
    "Для приоритизации гипотез мы применили одни из самых распространённых методов - **ICE** (Impact — влияние, Confidence — уверенность, Ease — легкость реализации) и **RICE** (Reach — охват, Impact — влияние, Confidence — достоверность, Effort — усилия).\n",
    "\n",
    "После применения фрейморка **ICE** наиболее приоритетной гипотезой является:\n",
    "\n",
    "1. Запустить акцию, дающую скидку на товар в день рождения **(Гипотеза № 9)**\n",
    "2. Добавить два новых канала привлечения трафика, что позволит привлекать на 30% больше пользователей **(Гипотеза № 1)**\n",
    "3. Добавить форму подписки на все основные страницы, чтобы собрать базу клиентов для email-рассылок **(Гипотеза № 8)**\n",
    "\n",
    "После применения фрейморка **RICE** наиболее приоритетными гипотезами являются:\n",
    "\n",
    "1. Добавить форму подписки на все основные страницы, чтобы собрать базу клиентов для email-рассылок **(Гипотеза № 8)**\n",
    "2. Добавить блоки рекомендаций товаров на сайт интернет магазина, чтобы повысить конверсию и средний чек заказа **(Гипотеза № 3)**\n",
    "3. Добавить два новых канала привлечения трафика, что позволит привлекать на 30% больше пользователей **(Гипотеза № 1)**\n",
    "\n",
    "На основе этих данных, рекомендуется в первую очередь проверить следующие гипотезы:\n",
    "\n",
    "1. Добавить форму подписки на все основные страницы, чтобы собрать базу клиентов для email-рассылок **(Гипотеза № 8)**\n",
    "2. Добавить два новых канала привлечения трафика, что позволит привлекать на 30% больше пользователей **(Гипотеза № 1)**\n",
    "\n",
    "\n",
    "**Часть 2. A/B-тест**\n",
    "\n",
    "Во второй части проекта выполнен анализ результатов A/B-теста, который был проведён с целью увеличения выручки.\n",
    "\n",
    "Посчитана статистическая значимость различий между группами по «сырым» и «очищенным» данным.\n",
    "\n",
    "95 и 99 перцентили средних чеков равны 28000 и 58233 рублям. 95 и 99 перцентили числа заказов на одного пользователя равны 2 и 4. Мы приняли за аномальных пользователей тех, кто совершил более 2 заказов или совершил заказ дороже 28000.\n",
    "\n",
    "1. **Статистическая значимость различий в конверсии между группами:**\n",
    "\n",
    "**«Сырые» данные:** \n",
    "* P-value равно 0.017 и оно меньше 0.05. Значит, нулевую гипотезу о том, что статистически значимых различий в конверсии между группами нет, отвергаем;\n",
    "* Анализ «сырых» данных показывает, что в конверсии между группами есть статистически значимые различия. Отдельный прирост конверсии группы В к конверсии группы А равен 13.8% (нулевая гипотеза всегда приравнивает, значит Н1 - статистически значимые различия в группах имеются).\n",
    "\n",
    "**«Очищенные» данные:**\n",
    "* Как и в случае с сырыми данными, статистическая значимость достигнута. Отвергаем нулевую гипотезу. Сегмент B лучше сегмента А. Относительный прирост конверсии очищенной группы B к А увеличился на 3.5% и равен 17.3%.\n",
    "\n",
    "2. **Статистическая значимость различий в среднем чеке между группами:**\n",
    "\n",
    "**«Сырые» данные:** \n",
    "* P-value равен и 0.729 значительно больше 0.05. Значит, причин отвергать нулевую гипотезу и считать, что в среднем чеке есть различия, нет. Впрочем, средний чек группы B значительно ниже среднего чека группы A;\n",
    "* Кроме того, относительное различие среднего чека между сегментами 25.9%, это довольно-таки много. Вероятнее всего, тут аномалии с двух сторон, с которыми следует поработать.\n",
    "\n",
    "**«Очищенные» данные:**\n",
    "* После очистки данных от аномалий p-value по среднему чеку не практически не изменился (0.738), нулевая гипотеза отвергается, поэтому статистически значимых отличий между группами нет. Относительное различие группы В относительно группы А, после очистки данных упало на 27.9%. И составляет всего 2% в пользу группы А.\n",
    "\n",
    "**Результат A/B-теста.**\n",
    "\n",
    "Исходя из полученных результатов, и несмотря на то, что по среднему чеку статистической значимости не обнаружено, мы решили остановить A/B-тест и зафиксировать победу группы B. \n",
    "\n",
    "Есть статистически значимое различие по конверсии между группами, как по «сырым» данным, так и после фильтрации аномалий. Так как наша задача состоит в оценке эффективности гипотезы по увеличению выручки интернет-магазина, то группа В лучше, чем группа А, по причине того, что конверсия у неё больше, даже с учётом того, что средний чек остался без изменений - соответственно группа В приносит больше прибыли бизнесу."
   ]
  }
 ],
 "metadata": {
  "ExecuteTimeLog": [
   {
    "duration": 47,
    "start_time": "2022-05-05T04:42:14.082Z"
   },
   {
    "duration": 1231,
    "start_time": "2022-05-05T04:42:19.442Z"
   },
   {
    "duration": 17,
    "start_time": "2022-05-05T04:42:21.088Z"
   },
   {
    "duration": 20,
    "start_time": "2022-05-05T04:42:49.248Z"
   },
   {
    "duration": 15,
    "start_time": "2022-05-05T04:43:04.358Z"
   },
   {
    "duration": 15,
    "start_time": "2022-05-05T04:43:09.977Z"
   },
   {
    "duration": 20,
    "start_time": "2022-05-05T04:43:23.968Z"
   },
   {
    "duration": 15,
    "start_time": "2022-05-05T04:43:38.937Z"
   },
   {
    "duration": 62,
    "start_time": "2022-05-05T04:44:18.760Z"
   },
   {
    "duration": 22,
    "start_time": "2022-05-05T04:44:32.776Z"
   },
   {
    "duration": 18,
    "start_time": "2022-05-05T04:44:49.031Z"
   },
   {
    "duration": 21,
    "start_time": "2022-05-05T04:45:02.488Z"
   },
   {
    "duration": 29,
    "start_time": "2022-05-05T04:45:13.503Z"
   },
   {
    "duration": 22,
    "start_time": "2022-05-05T04:45:20.239Z"
   },
   {
    "duration": 14,
    "start_time": "2022-05-05T04:45:48.336Z"
   },
   {
    "duration": 15,
    "start_time": "2022-05-05T04:45:53.936Z"
   },
   {
    "duration": 3,
    "start_time": "2022-05-05T04:49:35.918Z"
   },
   {
    "duration": 4,
    "start_time": "2022-05-05T04:49:51.989Z"
   },
   {
    "duration": 1983,
    "start_time": "2022-05-05T04:52:32.973Z"
   },
   {
    "duration": 44,
    "start_time": "2022-05-05T05:00:23.722Z"
   },
   {
    "duration": 10,
    "start_time": "2022-05-05T05:00:35.249Z"
   },
   {
    "duration": 2172,
    "start_time": "2022-05-05T05:41:21.966Z"
   },
   {
    "duration": 2122,
    "start_time": "2022-05-05T05:41:27.319Z"
   },
   {
    "duration": 12,
    "start_time": "2022-05-05T05:41:42.806Z"
   },
   {
    "duration": 10,
    "start_time": "2022-05-05T05:41:56.747Z"
   },
   {
    "duration": 13,
    "start_time": "2022-05-05T05:42:47.078Z"
   },
   {
    "duration": 151,
    "start_time": "2022-05-05T05:42:55.094Z"
   },
   {
    "duration": 10,
    "start_time": "2022-05-05T06:38:49.887Z"
   },
   {
    "duration": 1161,
    "start_time": "2022-05-05T06:39:33.153Z"
   },
   {
    "duration": 39,
    "start_time": "2022-05-05T06:39:34.316Z"
   },
   {
    "duration": 3,
    "start_time": "2022-05-05T06:39:34.356Z"
   },
   {
    "duration": 10,
    "start_time": "2022-05-05T06:39:34.361Z"
   },
   {
    "duration": 16,
    "start_time": "2022-05-05T06:39:34.373Z"
   },
   {
    "duration": 11,
    "start_time": "2022-05-05T06:39:34.391Z"
   },
   {
    "duration": 56,
    "start_time": "2022-05-05T06:39:34.404Z"
   },
   {
    "duration": 5,
    "start_time": "2022-05-05T06:39:34.462Z"
   },
   {
    "duration": 9,
    "start_time": "2022-05-05T06:40:19.080Z"
   },
   {
    "duration": 109,
    "start_time": "2022-05-05T06:40:52.440Z"
   },
   {
    "duration": 175,
    "start_time": "2022-05-05T06:41:45.728Z"
   },
   {
    "duration": 1152,
    "start_time": "2022-05-05T06:46:16.767Z"
   },
   {
    "duration": 40,
    "start_time": "2022-05-05T06:46:17.921Z"
   },
   {
    "duration": 96,
    "start_time": "2022-05-05T06:46:17.963Z"
   },
   {
    "duration": 0,
    "start_time": "2022-05-05T06:46:18.062Z"
   },
   {
    "duration": 0,
    "start_time": "2022-05-05T06:46:18.063Z"
   },
   {
    "duration": 0,
    "start_time": "2022-05-05T06:46:18.064Z"
   },
   {
    "duration": 0,
    "start_time": "2022-05-05T06:46:18.066Z"
   },
   {
    "duration": 1,
    "start_time": "2022-05-05T06:46:18.067Z"
   },
   {
    "duration": 41,
    "start_time": "2022-05-05T06:46:45.820Z"
   },
   {
    "duration": 6,
    "start_time": "2022-05-05T06:53:13.365Z"
   },
   {
    "duration": 15,
    "start_time": "2022-05-05T06:55:12.013Z"
   },
   {
    "duration": 12,
    "start_time": "2022-05-05T06:55:31.260Z"
   },
   {
    "duration": 11,
    "start_time": "2022-05-05T06:57:06.691Z"
   },
   {
    "duration": 12,
    "start_time": "2022-05-05T06:57:10.299Z"
   },
   {
    "duration": 28,
    "start_time": "2022-05-05T06:57:11.819Z"
   },
   {
    "duration": 25,
    "start_time": "2022-05-05T06:58:04.931Z"
   },
   {
    "duration": 9,
    "start_time": "2022-05-05T06:58:35.304Z"
   },
   {
    "duration": 185,
    "start_time": "2022-05-05T06:59:28.725Z"
   },
   {
    "duration": 9,
    "start_time": "2022-05-05T06:59:42.967Z"
   },
   {
    "duration": 129,
    "start_time": "2022-05-05T07:03:09.478Z"
   },
   {
    "duration": 8,
    "start_time": "2022-05-05T07:03:23.982Z"
   },
   {
    "duration": 6,
    "start_time": "2022-05-05T07:04:16.966Z"
   },
   {
    "duration": 9,
    "start_time": "2022-05-05T07:04:49.749Z"
   },
   {
    "duration": 10,
    "start_time": "2022-05-05T07:05:55.805Z"
   },
   {
    "duration": 9,
    "start_time": "2022-05-05T07:06:05.972Z"
   },
   {
    "duration": 165,
    "start_time": "2022-05-05T07:06:43.325Z"
   },
   {
    "duration": 84,
    "start_time": "2022-05-05T07:07:09.389Z"
   },
   {
    "duration": 1249,
    "start_time": "2022-05-05T07:07:23.698Z"
   },
   {
    "duration": 39,
    "start_time": "2022-05-05T07:07:24.949Z"
   },
   {
    "duration": 44,
    "start_time": "2022-05-05T07:07:24.989Z"
   },
   {
    "duration": 11,
    "start_time": "2022-05-05T07:07:25.035Z"
   },
   {
    "duration": 20,
    "start_time": "2022-05-05T07:07:25.047Z"
   },
   {
    "duration": 25,
    "start_time": "2022-05-05T07:07:25.069Z"
   },
   {
    "duration": 16,
    "start_time": "2022-05-05T07:07:25.096Z"
   },
   {
    "duration": 11,
    "start_time": "2022-05-05T07:07:25.113Z"
   },
   {
    "duration": 88,
    "start_time": "2022-05-05T07:07:25.126Z"
   },
   {
    "duration": 10,
    "start_time": "2022-05-05T07:07:25.216Z"
   },
   {
    "duration": 191,
    "start_time": "2022-05-05T07:07:25.227Z"
   },
   {
    "duration": 8,
    "start_time": "2022-05-05T07:07:25.420Z"
   },
   {
    "duration": 136,
    "start_time": "2022-05-05T07:07:25.430Z"
   },
   {
    "duration": 7,
    "start_time": "2022-05-05T07:07:25.568Z"
   },
   {
    "duration": 18,
    "start_time": "2022-05-05T07:07:25.577Z"
   },
   {
    "duration": 8,
    "start_time": "2022-05-05T07:07:25.597Z"
   },
   {
    "duration": 22,
    "start_time": "2022-05-05T07:07:25.607Z"
   },
   {
    "duration": 13,
    "start_time": "2022-05-05T07:07:25.631Z"
   },
   {
    "duration": 174,
    "start_time": "2022-05-05T07:07:25.646Z"
   },
   {
    "duration": 1237,
    "start_time": "2022-05-05T07:10:12.459Z"
   },
   {
    "duration": 33,
    "start_time": "2022-05-05T07:10:13.698Z"
   },
   {
    "duration": 45,
    "start_time": "2022-05-05T07:10:13.733Z"
   },
   {
    "duration": 14,
    "start_time": "2022-05-05T07:10:13.781Z"
   },
   {
    "duration": 33,
    "start_time": "2022-05-05T07:10:13.796Z"
   },
   {
    "duration": 33,
    "start_time": "2022-05-05T07:10:13.831Z"
   },
   {
    "duration": 30,
    "start_time": "2022-05-05T07:10:13.866Z"
   },
   {
    "duration": 37,
    "start_time": "2022-05-05T07:10:13.897Z"
   },
   {
    "duration": 74,
    "start_time": "2022-05-05T07:10:13.935Z"
   },
   {
    "duration": 11,
    "start_time": "2022-05-05T07:10:14.012Z"
   },
   {
    "duration": 218,
    "start_time": "2022-05-05T07:10:14.025Z"
   },
   {
    "duration": 8,
    "start_time": "2022-05-05T07:10:14.245Z"
   },
   {
    "duration": 208,
    "start_time": "2022-05-05T07:10:14.255Z"
   },
   {
    "duration": 10,
    "start_time": "2022-05-05T07:10:14.465Z"
   },
   {
    "duration": 22,
    "start_time": "2022-05-05T07:10:14.477Z"
   },
   {
    "duration": 45,
    "start_time": "2022-05-05T07:10:14.501Z"
   },
   {
    "duration": 33,
    "start_time": "2022-05-05T07:10:14.549Z"
   },
   {
    "duration": 45,
    "start_time": "2022-05-05T07:10:14.584Z"
   },
   {
    "duration": 205,
    "start_time": "2022-05-05T07:10:14.631Z"
   },
   {
    "duration": 184,
    "start_time": "2022-05-05T07:26:36.082Z"
   },
   {
    "duration": 88,
    "start_time": "2022-05-05T07:26:56.641Z"
   },
   {
    "duration": 1106,
    "start_time": "2022-05-05T07:28:27.676Z"
   },
   {
    "duration": 38,
    "start_time": "2022-05-05T07:28:28.785Z"
   },
   {
    "duration": 41,
    "start_time": "2022-05-05T07:28:28.825Z"
   },
   {
    "duration": 11,
    "start_time": "2022-05-05T07:28:28.867Z"
   },
   {
    "duration": 23,
    "start_time": "2022-05-05T07:28:28.880Z"
   },
   {
    "duration": 8,
    "start_time": "2022-05-05T07:28:28.904Z"
   },
   {
    "duration": 12,
    "start_time": "2022-05-05T07:28:28.913Z"
   },
   {
    "duration": 11,
    "start_time": "2022-05-05T07:28:28.926Z"
   },
   {
    "duration": 80,
    "start_time": "2022-05-05T07:28:28.938Z"
   },
   {
    "duration": 14,
    "start_time": "2022-05-05T07:28:29.020Z"
   },
   {
    "duration": 210,
    "start_time": "2022-05-05T07:28:29.035Z"
   },
   {
    "duration": 9,
    "start_time": "2022-05-05T07:28:29.246Z"
   },
   {
    "duration": 126,
    "start_time": "2022-05-05T07:28:29.257Z"
   },
   {
    "duration": 9,
    "start_time": "2022-05-05T07:28:29.392Z"
   },
   {
    "duration": 9,
    "start_time": "2022-05-05T07:28:29.403Z"
   },
   {
    "duration": 12,
    "start_time": "2022-05-05T07:28:29.413Z"
   },
   {
    "duration": 13,
    "start_time": "2022-05-05T07:28:29.427Z"
   },
   {
    "duration": 11,
    "start_time": "2022-05-05T07:28:29.442Z"
   },
   {
    "duration": 297,
    "start_time": "2022-05-05T07:28:29.454Z"
   },
   {
    "duration": 277,
    "start_time": "2022-05-05T07:29:34.013Z"
   },
   {
    "duration": 87,
    "start_time": "2022-05-05T07:39:31.681Z"
   },
   {
    "duration": 181,
    "start_time": "2022-05-05T07:39:40.521Z"
   },
   {
    "duration": 213,
    "start_time": "2022-05-05T07:42:50.319Z"
   },
   {
    "duration": 362,
    "start_time": "2022-05-05T07:43:37.263Z"
   },
   {
    "duration": 277,
    "start_time": "2022-05-05T07:44:07.430Z"
   },
   {
    "duration": 310,
    "start_time": "2022-05-05T07:44:57.510Z"
   },
   {
    "duration": 268,
    "start_time": "2022-05-05T07:51:38.163Z"
   },
   {
    "duration": 170,
    "start_time": "2022-05-05T07:51:44.668Z"
   },
   {
    "duration": 231,
    "start_time": "2022-05-05T09:01:26.534Z"
   },
   {
    "duration": 0,
    "start_time": "2022-05-05T09:01:26.768Z"
   },
   {
    "duration": 0,
    "start_time": "2022-05-05T09:01:26.770Z"
   },
   {
    "duration": 0,
    "start_time": "2022-05-05T09:01:26.772Z"
   },
   {
    "duration": 0,
    "start_time": "2022-05-05T09:01:26.774Z"
   },
   {
    "duration": 0,
    "start_time": "2022-05-05T09:01:26.775Z"
   },
   {
    "duration": 0,
    "start_time": "2022-05-05T09:01:26.776Z"
   },
   {
    "duration": 0,
    "start_time": "2022-05-05T09:01:26.778Z"
   },
   {
    "duration": 0,
    "start_time": "2022-05-05T09:01:26.779Z"
   },
   {
    "duration": 0,
    "start_time": "2022-05-05T09:01:26.780Z"
   },
   {
    "duration": 0,
    "start_time": "2022-05-05T09:01:26.782Z"
   },
   {
    "duration": 0,
    "start_time": "2022-05-05T09:01:26.783Z"
   },
   {
    "duration": 0,
    "start_time": "2022-05-05T09:01:26.784Z"
   },
   {
    "duration": 0,
    "start_time": "2022-05-05T09:01:26.785Z"
   },
   {
    "duration": 0,
    "start_time": "2022-05-05T09:01:26.786Z"
   },
   {
    "duration": 0,
    "start_time": "2022-05-05T09:01:26.787Z"
   },
   {
    "duration": 0,
    "start_time": "2022-05-05T09:01:26.789Z"
   },
   {
    "duration": 0,
    "start_time": "2022-05-05T09:01:26.790Z"
   },
   {
    "duration": 0,
    "start_time": "2022-05-05T09:01:26.793Z"
   },
   {
    "duration": 0,
    "start_time": "2022-05-05T09:01:26.793Z"
   },
   {
    "duration": 0,
    "start_time": "2022-05-05T09:01:26.794Z"
   },
   {
    "duration": 0,
    "start_time": "2022-05-05T09:01:26.795Z"
   },
   {
    "duration": 1365,
    "start_time": "2022-05-05T09:02:33.907Z"
   },
   {
    "duration": 1310,
    "start_time": "2022-05-05T09:03:03.974Z"
   },
   {
    "duration": 41,
    "start_time": "2022-05-05T09:03:05.286Z"
   },
   {
    "duration": 49,
    "start_time": "2022-05-05T09:03:05.329Z"
   },
   {
    "duration": 27,
    "start_time": "2022-05-05T09:03:05.381Z"
   },
   {
    "duration": 31,
    "start_time": "2022-05-05T09:03:05.411Z"
   },
   {
    "duration": 11,
    "start_time": "2022-05-05T09:03:05.444Z"
   },
   {
    "duration": 17,
    "start_time": "2022-05-05T09:03:05.457Z"
   },
   {
    "duration": 12,
    "start_time": "2022-05-05T09:03:05.476Z"
   },
   {
    "duration": 75,
    "start_time": "2022-05-05T09:03:05.490Z"
   },
   {
    "duration": 11,
    "start_time": "2022-05-05T09:03:05.568Z"
   },
   {
    "duration": 301,
    "start_time": "2022-05-05T09:03:05.581Z"
   },
   {
    "duration": 10,
    "start_time": "2022-05-05T09:03:05.885Z"
   },
   {
    "duration": 153,
    "start_time": "2022-05-05T09:03:05.898Z"
   },
   {
    "duration": 9,
    "start_time": "2022-05-05T09:03:06.053Z"
   },
   {
    "duration": 13,
    "start_time": "2022-05-05T09:03:06.063Z"
   },
   {
    "duration": 34,
    "start_time": "2022-05-05T09:03:06.078Z"
   },
   {
    "duration": 22,
    "start_time": "2022-05-05T09:03:06.114Z"
   },
   {
    "duration": 15,
    "start_time": "2022-05-05T09:03:06.137Z"
   },
   {
    "duration": 306,
    "start_time": "2022-05-05T09:03:06.154Z"
   },
   {
    "duration": 218,
    "start_time": "2022-05-05T09:03:06.462Z"
   },
   {
    "duration": 338,
    "start_time": "2022-05-05T09:03:06.681Z"
   },
   {
    "duration": 208,
    "start_time": "2022-05-05T09:03:07.021Z"
   },
   {
    "duration": 33,
    "start_time": "2022-05-05T09:11:54.998Z"
   },
   {
    "duration": 14,
    "start_time": "2022-05-05T09:14:00.374Z"
   },
   {
    "duration": 143,
    "start_time": "2022-05-05T09:22:11.449Z"
   },
   {
    "duration": 162,
    "start_time": "2022-05-05T09:22:17.504Z"
   },
   {
    "duration": 120,
    "start_time": "2022-05-05T09:24:03.872Z"
   },
   {
    "duration": 208,
    "start_time": "2022-05-05T09:24:10.439Z"
   },
   {
    "duration": 121,
    "start_time": "2022-05-05T09:24:17.025Z"
   },
   {
    "duration": 1587,
    "start_time": "2022-05-05T09:25:24.567Z"
   },
   {
    "duration": 4,
    "start_time": "2022-05-05T09:25:45.376Z"
   },
   {
    "duration": 1242,
    "start_time": "2022-05-05T09:26:01.055Z"
   },
   {
    "duration": 116,
    "start_time": "2022-05-05T09:27:01.886Z"
   },
   {
    "duration": 30,
    "start_time": "2022-05-05T09:27:12.390Z"
   },
   {
    "duration": 1377,
    "start_time": "2022-05-05T09:27:53.967Z"
   },
   {
    "duration": 41,
    "start_time": "2022-05-05T09:27:55.347Z"
   },
   {
    "duration": 61,
    "start_time": "2022-05-05T09:27:55.390Z"
   },
   {
    "duration": 5,
    "start_time": "2022-05-05T09:27:55.453Z"
   },
   {
    "duration": 51,
    "start_time": "2022-05-05T09:27:55.461Z"
   },
   {
    "duration": 13,
    "start_time": "2022-05-05T09:27:55.514Z"
   },
   {
    "duration": 20,
    "start_time": "2022-05-05T09:27:55.529Z"
   },
   {
    "duration": 14,
    "start_time": "2022-05-05T09:27:55.550Z"
   },
   {
    "duration": 35,
    "start_time": "2022-05-05T09:27:55.565Z"
   },
   {
    "duration": 58,
    "start_time": "2022-05-05T09:27:55.602Z"
   },
   {
    "duration": 10,
    "start_time": "2022-05-05T09:27:55.662Z"
   },
   {
    "duration": 215,
    "start_time": "2022-05-05T09:27:55.674Z"
   },
   {
    "duration": 13,
    "start_time": "2022-05-05T09:27:55.891Z"
   },
   {
    "duration": 150,
    "start_time": "2022-05-05T09:27:55.909Z"
   },
   {
    "duration": 17,
    "start_time": "2022-05-05T09:27:56.061Z"
   },
   {
    "duration": 31,
    "start_time": "2022-05-05T09:27:56.080Z"
   },
   {
    "duration": 25,
    "start_time": "2022-05-05T09:27:56.113Z"
   },
   {
    "duration": 19,
    "start_time": "2022-05-05T09:27:56.140Z"
   },
   {
    "duration": 18,
    "start_time": "2022-05-05T09:27:56.161Z"
   },
   {
    "duration": 314,
    "start_time": "2022-05-05T09:27:56.181Z"
   },
   {
    "duration": 196,
    "start_time": "2022-05-05T09:27:56.497Z"
   },
   {
    "duration": 335,
    "start_time": "2022-05-05T09:27:56.694Z"
   },
   {
    "duration": 204,
    "start_time": "2022-05-05T09:27:57.030Z"
   },
   {
    "duration": 7,
    "start_time": "2022-05-05T09:32:36.071Z"
   },
   {
    "duration": 7,
    "start_time": "2022-05-05T09:33:00.663Z"
   },
   {
    "duration": 7,
    "start_time": "2022-05-05T09:35:11.168Z"
   },
   {
    "duration": 6,
    "start_time": "2022-05-05T09:37:40.951Z"
   },
   {
    "duration": 8,
    "start_time": "2022-05-05T09:39:20.511Z"
   },
   {
    "duration": 5,
    "start_time": "2022-05-05T09:48:59.754Z"
   },
   {
    "duration": 1404,
    "start_time": "2022-05-05T09:50:49.963Z"
   },
   {
    "duration": 34,
    "start_time": "2022-05-05T09:50:51.369Z"
   },
   {
    "duration": 46,
    "start_time": "2022-05-05T09:50:51.405Z"
   },
   {
    "duration": 5,
    "start_time": "2022-05-05T09:50:51.454Z"
   },
   {
    "duration": 47,
    "start_time": "2022-05-05T09:50:51.460Z"
   },
   {
    "duration": 14,
    "start_time": "2022-05-05T09:50:51.508Z"
   },
   {
    "duration": 31,
    "start_time": "2022-05-05T09:50:51.524Z"
   },
   {
    "duration": 19,
    "start_time": "2022-05-05T09:50:51.557Z"
   },
   {
    "duration": 9,
    "start_time": "2022-05-05T09:50:51.578Z"
   },
   {
    "duration": 22,
    "start_time": "2022-05-05T09:50:51.589Z"
   },
   {
    "duration": 16,
    "start_time": "2022-05-05T09:50:51.612Z"
   },
   {
    "duration": 24,
    "start_time": "2022-05-05T09:50:51.629Z"
   },
   {
    "duration": 16,
    "start_time": "2022-05-05T09:50:51.654Z"
   },
   {
    "duration": 33,
    "start_time": "2022-05-05T09:50:51.672Z"
   },
   {
    "duration": 109,
    "start_time": "2022-05-05T09:50:51.706Z"
   },
   {
    "duration": 10,
    "start_time": "2022-05-05T09:50:51.818Z"
   },
   {
    "duration": 198,
    "start_time": "2022-05-05T09:50:51.830Z"
   },
   {
    "duration": 8,
    "start_time": "2022-05-05T09:50:52.030Z"
   },
   {
    "duration": 136,
    "start_time": "2022-05-05T09:50:52.040Z"
   },
   {
    "duration": 17,
    "start_time": "2022-05-05T09:50:52.177Z"
   },
   {
    "duration": 48,
    "start_time": "2022-05-05T09:50:52.195Z"
   },
   {
    "duration": 25,
    "start_time": "2022-05-05T09:50:52.245Z"
   },
   {
    "duration": 16,
    "start_time": "2022-05-05T09:50:52.272Z"
   },
   {
    "duration": 24,
    "start_time": "2022-05-05T09:50:52.290Z"
   },
   {
    "duration": 266,
    "start_time": "2022-05-05T09:50:52.316Z"
   },
   {
    "duration": 184,
    "start_time": "2022-05-05T09:50:52.583Z"
   },
   {
    "duration": 310,
    "start_time": "2022-05-05T09:50:52.769Z"
   },
   {
    "duration": 179,
    "start_time": "2022-05-05T09:50:53.092Z"
   },
   {
    "duration": 9,
    "start_time": "2022-05-05T09:58:07.205Z"
   },
   {
    "duration": 6,
    "start_time": "2022-05-05T10:00:02.730Z"
   },
   {
    "duration": 8,
    "start_time": "2022-05-05T10:01:00.032Z"
   },
   {
    "duration": 150,
    "start_time": "2022-05-05T10:22:03.291Z"
   },
   {
    "duration": 6,
    "start_time": "2022-05-05T10:22:13.627Z"
   },
   {
    "duration": 8,
    "start_time": "2022-05-05T10:22:36.484Z"
   },
   {
    "duration": 6,
    "start_time": "2022-05-05T10:23:28.211Z"
   },
   {
    "duration": 8,
    "start_time": "2022-05-05T10:23:40.539Z"
   },
   {
    "duration": 91,
    "start_time": "2022-05-05T10:25:57.178Z"
   },
   {
    "duration": 1206,
    "start_time": "2022-05-05T10:27:32.937Z"
   },
   {
    "duration": 39,
    "start_time": "2022-05-05T10:27:34.145Z"
   },
   {
    "duration": 45,
    "start_time": "2022-05-05T10:27:34.186Z"
   },
   {
    "duration": 4,
    "start_time": "2022-05-05T10:27:34.232Z"
   },
   {
    "duration": 22,
    "start_time": "2022-05-05T10:27:34.239Z"
   },
   {
    "duration": 30,
    "start_time": "2022-05-05T10:27:34.263Z"
   },
   {
    "duration": 11,
    "start_time": "2022-05-05T10:27:34.294Z"
   },
   {
    "duration": 23,
    "start_time": "2022-05-05T10:27:34.307Z"
   },
   {
    "duration": 9,
    "start_time": "2022-05-05T10:27:34.332Z"
   },
   {
    "duration": 20,
    "start_time": "2022-05-05T10:27:34.342Z"
   },
   {
    "duration": 7,
    "start_time": "2022-05-05T10:27:34.363Z"
   },
   {
    "duration": 11,
    "start_time": "2022-05-05T10:27:34.372Z"
   },
   {
    "duration": 19,
    "start_time": "2022-05-05T10:27:34.384Z"
   },
   {
    "duration": 10,
    "start_time": "2022-05-05T10:27:34.406Z"
   },
   {
    "duration": 9,
    "start_time": "2022-05-05T10:27:34.417Z"
   },
   {
    "duration": 13,
    "start_time": "2022-05-05T10:27:34.427Z"
   },
   {
    "duration": 54,
    "start_time": "2022-05-05T10:27:34.442Z"
   },
   {
    "duration": 11,
    "start_time": "2022-05-05T10:27:34.498Z"
   },
   {
    "duration": 56,
    "start_time": "2022-05-05T10:27:34.511Z"
   },
   {
    "duration": 9,
    "start_time": "2022-05-05T10:27:34.568Z"
   },
   {
    "duration": 189,
    "start_time": "2022-05-05T10:27:34.579Z"
   },
   {
    "duration": 9,
    "start_time": "2022-05-05T10:27:34.769Z"
   },
   {
    "duration": 151,
    "start_time": "2022-05-05T10:27:34.780Z"
   },
   {
    "duration": 7,
    "start_time": "2022-05-05T10:27:34.932Z"
   },
   {
    "duration": 9,
    "start_time": "2022-05-05T10:27:34.941Z"
   },
   {
    "duration": 11,
    "start_time": "2022-05-05T10:27:34.951Z"
   },
   {
    "duration": 9,
    "start_time": "2022-05-05T10:27:34.963Z"
   },
   {
    "duration": 25,
    "start_time": "2022-05-05T10:27:34.974Z"
   },
   {
    "duration": 245,
    "start_time": "2022-05-05T10:27:35.000Z"
   },
   {
    "duration": 175,
    "start_time": "2022-05-05T10:27:35.246Z"
   },
   {
    "duration": 287,
    "start_time": "2022-05-05T10:27:35.422Z"
   },
   {
    "duration": 184,
    "start_time": "2022-05-05T10:27:35.711Z"
   },
   {
    "duration": 10,
    "start_time": "2022-05-05T11:31:39.766Z"
   },
   {
    "duration": 9,
    "start_time": "2022-05-05T11:32:58.006Z"
   },
   {
    "duration": 9,
    "start_time": "2022-05-05T12:00:32.957Z"
   },
   {
    "duration": 14,
    "start_time": "2022-05-05T12:00:38.899Z"
   },
   {
    "duration": 10,
    "start_time": "2022-05-05T12:00:44.772Z"
   },
   {
    "duration": 123,
    "start_time": "2022-05-05T12:11:46.039Z"
   },
   {
    "duration": 12,
    "start_time": "2022-05-05T12:11:49.410Z"
   },
   {
    "duration": 13,
    "start_time": "2022-05-05T12:12:02.072Z"
   },
   {
    "duration": 14,
    "start_time": "2022-05-05T12:12:12.367Z"
   },
   {
    "duration": 1273,
    "start_time": "2022-05-05T12:12:19.413Z"
   },
   {
    "duration": 39,
    "start_time": "2022-05-05T12:12:20.688Z"
   },
   {
    "duration": 57,
    "start_time": "2022-05-05T12:12:20.729Z"
   },
   {
    "duration": 7,
    "start_time": "2022-05-05T12:12:20.793Z"
   },
   {
    "duration": 36,
    "start_time": "2022-05-05T12:12:20.804Z"
   },
   {
    "duration": 12,
    "start_time": "2022-05-05T12:12:20.842Z"
   },
   {
    "duration": 14,
    "start_time": "2022-05-05T12:12:20.856Z"
   },
   {
    "duration": 10,
    "start_time": "2022-05-05T12:12:20.892Z"
   },
   {
    "duration": 21,
    "start_time": "2022-05-05T12:12:20.904Z"
   },
   {
    "duration": 15,
    "start_time": "2022-05-05T12:12:20.927Z"
   },
   {
    "duration": 9,
    "start_time": "2022-05-05T12:12:20.944Z"
   },
   {
    "duration": 8,
    "start_time": "2022-05-05T12:12:20.954Z"
   },
   {
    "duration": 34,
    "start_time": "2022-05-05T12:12:20.964Z"
   },
   {
    "duration": 23,
    "start_time": "2022-05-05T12:12:21.003Z"
   },
   {
    "duration": 13,
    "start_time": "2022-05-05T12:12:21.028Z"
   },
   {
    "duration": 10,
    "start_time": "2022-05-05T12:12:21.043Z"
   },
   {
    "duration": 20,
    "start_time": "2022-05-05T12:12:21.055Z"
   },
   {
    "duration": 12,
    "start_time": "2022-05-05T12:12:21.077Z"
   },
   {
    "duration": 37,
    "start_time": "2022-05-05T12:12:21.090Z"
   },
   {
    "duration": 17,
    "start_time": "2022-05-05T12:12:21.129Z"
   },
   {
    "duration": 73,
    "start_time": "2022-05-05T12:12:21.148Z"
   },
   {
    "duration": 12,
    "start_time": "2022-05-05T12:12:21.223Z"
   },
   {
    "duration": 221,
    "start_time": "2022-05-05T12:12:21.237Z"
   },
   {
    "duration": 8,
    "start_time": "2022-05-05T12:12:21.460Z"
   },
   {
    "duration": 153,
    "start_time": "2022-05-05T12:12:21.470Z"
   },
   {
    "duration": 9,
    "start_time": "2022-05-05T12:12:21.624Z"
   },
   {
    "duration": 18,
    "start_time": "2022-05-05T12:12:21.635Z"
   },
   {
    "duration": 14,
    "start_time": "2022-05-05T12:12:21.655Z"
   },
   {
    "duration": 23,
    "start_time": "2022-05-05T12:12:21.671Z"
   },
   {
    "duration": 15,
    "start_time": "2022-05-05T12:12:21.695Z"
   },
   {
    "duration": 322,
    "start_time": "2022-05-05T12:12:21.712Z"
   },
   {
    "duration": 266,
    "start_time": "2022-05-05T12:12:22.036Z"
   },
   {
    "duration": 332,
    "start_time": "2022-05-05T12:12:22.308Z"
   },
   {
    "duration": 225,
    "start_time": "2022-05-05T12:12:22.641Z"
   },
   {
    "duration": 12,
    "start_time": "2022-05-05T12:13:46.569Z"
   },
   {
    "duration": 183,
    "start_time": "2022-05-05T12:40:02.119Z"
   },
   {
    "duration": 337,
    "start_time": "2022-05-05T12:57:03.905Z"
   },
   {
    "duration": 296,
    "start_time": "2022-05-05T12:58:15.937Z"
   },
   {
    "duration": 51,
    "start_time": "2022-05-05T17:33:09.300Z"
   },
   {
    "duration": 1272,
    "start_time": "2022-05-05T17:33:18.113Z"
   },
   {
    "duration": 36,
    "start_time": "2022-05-05T17:33:19.387Z"
   },
   {
    "duration": 47,
    "start_time": "2022-05-05T17:33:19.425Z"
   },
   {
    "duration": 5,
    "start_time": "2022-05-05T17:33:19.475Z"
   },
   {
    "duration": 37,
    "start_time": "2022-05-05T17:33:19.481Z"
   },
   {
    "duration": 5,
    "start_time": "2022-05-05T17:33:19.520Z"
   },
   {
    "duration": 21,
    "start_time": "2022-05-05T17:33:19.527Z"
   },
   {
    "duration": 9,
    "start_time": "2022-05-05T17:33:19.549Z"
   },
   {
    "duration": 6,
    "start_time": "2022-05-05T17:33:19.560Z"
   },
   {
    "duration": 9,
    "start_time": "2022-05-05T17:33:19.569Z"
   },
   {
    "duration": 7,
    "start_time": "2022-05-05T17:33:19.608Z"
   },
   {
    "duration": 8,
    "start_time": "2022-05-05T17:33:19.617Z"
   },
   {
    "duration": 9,
    "start_time": "2022-05-05T17:33:19.627Z"
   },
   {
    "duration": 71,
    "start_time": "2022-05-05T17:33:19.637Z"
   },
   {
    "duration": 0,
    "start_time": "2022-05-05T17:33:19.710Z"
   },
   {
    "duration": 0,
    "start_time": "2022-05-05T17:33:19.711Z"
   },
   {
    "duration": 0,
    "start_time": "2022-05-05T17:33:19.712Z"
   },
   {
    "duration": 0,
    "start_time": "2022-05-05T17:33:19.713Z"
   },
   {
    "duration": 0,
    "start_time": "2022-05-05T17:33:19.714Z"
   },
   {
    "duration": 0,
    "start_time": "2022-05-05T17:33:19.716Z"
   },
   {
    "duration": 0,
    "start_time": "2022-05-05T17:33:19.717Z"
   },
   {
    "duration": 0,
    "start_time": "2022-05-05T17:33:19.718Z"
   },
   {
    "duration": 0,
    "start_time": "2022-05-05T17:33:19.719Z"
   },
   {
    "duration": 0,
    "start_time": "2022-05-05T17:33:19.720Z"
   },
   {
    "duration": 0,
    "start_time": "2022-05-05T17:33:19.721Z"
   },
   {
    "duration": 0,
    "start_time": "2022-05-05T17:33:19.722Z"
   },
   {
    "duration": 0,
    "start_time": "2022-05-05T17:33:19.723Z"
   },
   {
    "duration": 0,
    "start_time": "2022-05-05T17:33:19.724Z"
   },
   {
    "duration": 0,
    "start_time": "2022-05-05T17:33:19.725Z"
   },
   {
    "duration": 0,
    "start_time": "2022-05-05T17:33:19.726Z"
   },
   {
    "duration": 0,
    "start_time": "2022-05-05T17:33:19.727Z"
   },
   {
    "duration": 0,
    "start_time": "2022-05-05T17:33:19.728Z"
   },
   {
    "duration": 0,
    "start_time": "2022-05-05T17:33:19.729Z"
   },
   {
    "duration": 0,
    "start_time": "2022-05-05T17:33:19.730Z"
   },
   {
    "duration": 0,
    "start_time": "2022-05-05T17:33:19.731Z"
   },
   {
    "duration": 0,
    "start_time": "2022-05-05T17:33:19.732Z"
   },
   {
    "duration": 1137,
    "start_time": "2022-05-05T17:34:03.917Z"
   },
   {
    "duration": 36,
    "start_time": "2022-05-05T17:34:05.056Z"
   },
   {
    "duration": 45,
    "start_time": "2022-05-05T17:34:05.094Z"
   },
   {
    "duration": 5,
    "start_time": "2022-05-05T17:34:05.141Z"
   },
   {
    "duration": 23,
    "start_time": "2022-05-05T17:34:05.147Z"
   },
   {
    "duration": 6,
    "start_time": "2022-05-05T17:34:05.172Z"
   },
   {
    "duration": 47,
    "start_time": "2022-05-05T17:34:05.180Z"
   },
   {
    "duration": 6,
    "start_time": "2022-05-05T17:34:05.229Z"
   },
   {
    "duration": 4,
    "start_time": "2022-05-05T17:34:05.236Z"
   },
   {
    "duration": 10,
    "start_time": "2022-05-05T17:34:05.243Z"
   },
   {
    "duration": 9,
    "start_time": "2022-05-05T17:34:05.255Z"
   },
   {
    "duration": 7,
    "start_time": "2022-05-05T17:34:05.265Z"
   },
   {
    "duration": 12,
    "start_time": "2022-05-05T17:34:05.274Z"
   },
   {
    "duration": 219,
    "start_time": "2022-05-05T17:34:05.288Z"
   },
   {
    "duration": 0,
    "start_time": "2022-05-05T17:34:05.509Z"
   },
   {
    "duration": 0,
    "start_time": "2022-05-05T17:34:05.510Z"
   },
   {
    "duration": 0,
    "start_time": "2022-05-05T17:34:05.511Z"
   },
   {
    "duration": 0,
    "start_time": "2022-05-05T17:34:05.512Z"
   },
   {
    "duration": 0,
    "start_time": "2022-05-05T17:34:05.514Z"
   },
   {
    "duration": 0,
    "start_time": "2022-05-05T17:34:05.515Z"
   },
   {
    "duration": 0,
    "start_time": "2022-05-05T17:34:05.516Z"
   },
   {
    "duration": 0,
    "start_time": "2022-05-05T17:34:05.517Z"
   },
   {
    "duration": 0,
    "start_time": "2022-05-05T17:34:05.518Z"
   },
   {
    "duration": 0,
    "start_time": "2022-05-05T17:34:05.519Z"
   },
   {
    "duration": 0,
    "start_time": "2022-05-05T17:34:05.520Z"
   },
   {
    "duration": 0,
    "start_time": "2022-05-05T17:34:05.521Z"
   },
   {
    "duration": 0,
    "start_time": "2022-05-05T17:34:05.522Z"
   },
   {
    "duration": 0,
    "start_time": "2022-05-05T17:34:05.524Z"
   },
   {
    "duration": 0,
    "start_time": "2022-05-05T17:34:05.526Z"
   },
   {
    "duration": 0,
    "start_time": "2022-05-05T17:34:05.527Z"
   },
   {
    "duration": 0,
    "start_time": "2022-05-05T17:34:05.528Z"
   },
   {
    "duration": 0,
    "start_time": "2022-05-05T17:34:05.529Z"
   },
   {
    "duration": 0,
    "start_time": "2022-05-05T17:34:05.531Z"
   },
   {
    "duration": 0,
    "start_time": "2022-05-05T17:34:05.532Z"
   },
   {
    "duration": 0,
    "start_time": "2022-05-05T17:34:05.533Z"
   },
   {
    "duration": 0,
    "start_time": "2022-05-05T17:34:05.535Z"
   },
   {
    "duration": 472,
    "start_time": "2022-05-05T17:34:34.721Z"
   },
   {
    "duration": 11,
    "start_time": "2022-05-05T17:34:57.905Z"
   },
   {
    "duration": 1134,
    "start_time": "2022-05-05T17:35:04.437Z"
   },
   {
    "duration": 41,
    "start_time": "2022-05-05T17:35:05.573Z"
   },
   {
    "duration": 46,
    "start_time": "2022-05-05T17:35:05.615Z"
   },
   {
    "duration": 5,
    "start_time": "2022-05-05T17:35:05.663Z"
   },
   {
    "duration": 43,
    "start_time": "2022-05-05T17:35:05.669Z"
   },
   {
    "duration": 6,
    "start_time": "2022-05-05T17:35:05.713Z"
   },
   {
    "duration": 20,
    "start_time": "2022-05-05T17:35:05.721Z"
   },
   {
    "duration": 9,
    "start_time": "2022-05-05T17:35:05.743Z"
   },
   {
    "duration": 4,
    "start_time": "2022-05-05T17:35:05.753Z"
   },
   {
    "duration": 8,
    "start_time": "2022-05-05T17:35:05.760Z"
   },
   {
    "duration": 41,
    "start_time": "2022-05-05T17:35:05.770Z"
   },
   {
    "duration": 6,
    "start_time": "2022-05-05T17:35:05.813Z"
   },
   {
    "duration": 9,
    "start_time": "2022-05-05T17:35:05.821Z"
   },
   {
    "duration": 12,
    "start_time": "2022-05-05T17:35:05.832Z"
   },
   {
    "duration": 7,
    "start_time": "2022-05-05T17:35:05.846Z"
   },
   {
    "duration": 7,
    "start_time": "2022-05-05T17:35:05.855Z"
   },
   {
    "duration": 45,
    "start_time": "2022-05-05T17:35:05.863Z"
   },
   {
    "duration": 8,
    "start_time": "2022-05-05T17:35:05.910Z"
   },
   {
    "duration": 122,
    "start_time": "2022-05-05T17:35:05.919Z"
   },
   {
    "duration": 0,
    "start_time": "2022-05-05T17:35:06.043Z"
   },
   {
    "duration": 0,
    "start_time": "2022-05-05T17:35:06.044Z"
   },
   {
    "duration": 0,
    "start_time": "2022-05-05T17:35:06.045Z"
   },
   {
    "duration": 0,
    "start_time": "2022-05-05T17:35:06.047Z"
   },
   {
    "duration": 0,
    "start_time": "2022-05-05T17:35:06.048Z"
   },
   {
    "duration": 0,
    "start_time": "2022-05-05T17:35:06.049Z"
   },
   {
    "duration": 0,
    "start_time": "2022-05-05T17:35:06.050Z"
   },
   {
    "duration": 0,
    "start_time": "2022-05-05T17:35:06.051Z"
   },
   {
    "duration": 0,
    "start_time": "2022-05-05T17:35:06.052Z"
   },
   {
    "duration": 0,
    "start_time": "2022-05-05T17:35:06.053Z"
   },
   {
    "duration": 0,
    "start_time": "2022-05-05T17:35:06.054Z"
   },
   {
    "duration": 0,
    "start_time": "2022-05-05T17:35:06.055Z"
   },
   {
    "duration": 0,
    "start_time": "2022-05-05T17:35:06.055Z"
   },
   {
    "duration": 0,
    "start_time": "2022-05-05T17:35:06.057Z"
   },
   {
    "duration": 0,
    "start_time": "2022-05-05T17:35:06.058Z"
   },
   {
    "duration": 0,
    "start_time": "2022-05-05T17:35:06.059Z"
   },
   {
    "duration": 0,
    "start_time": "2022-05-05T17:35:06.060Z"
   },
   {
    "duration": 17,
    "start_time": "2022-05-05T17:36:12.778Z"
   },
   {
    "duration": 21,
    "start_time": "2022-05-05T17:36:19.922Z"
   },
   {
    "duration": 604,
    "start_time": "2022-05-05T17:36:57.118Z"
   },
   {
    "duration": 10,
    "start_time": "2022-05-05T17:38:21.699Z"
   },
   {
    "duration": 8,
    "start_time": "2022-05-05T17:38:51.667Z"
   },
   {
    "duration": 9,
    "start_time": "2022-05-05T17:39:34.551Z"
   },
   {
    "duration": 11,
    "start_time": "2022-05-05T17:42:43.202Z"
   },
   {
    "duration": 1140,
    "start_time": "2022-05-05T17:42:51.344Z"
   },
   {
    "duration": 680,
    "start_time": "2022-05-05T17:42:52.486Z"
   },
   {
    "duration": 47,
    "start_time": "2022-05-05T17:42:53.168Z"
   },
   {
    "duration": 5,
    "start_time": "2022-05-05T17:42:53.217Z"
   },
   {
    "duration": 33,
    "start_time": "2022-05-05T17:42:53.223Z"
   },
   {
    "duration": 9,
    "start_time": "2022-05-05T17:42:53.257Z"
   },
   {
    "duration": 21,
    "start_time": "2022-05-05T17:42:53.268Z"
   },
   {
    "duration": 19,
    "start_time": "2022-05-05T17:42:53.291Z"
   },
   {
    "duration": 10,
    "start_time": "2022-05-05T17:42:53.311Z"
   },
   {
    "duration": 11,
    "start_time": "2022-05-05T17:42:53.324Z"
   },
   {
    "duration": 7,
    "start_time": "2022-05-05T17:42:53.337Z"
   },
   {
    "duration": 11,
    "start_time": "2022-05-05T17:42:53.345Z"
   },
   {
    "duration": 9,
    "start_time": "2022-05-05T17:42:53.357Z"
   },
   {
    "duration": 43,
    "start_time": "2022-05-05T17:42:53.368Z"
   },
   {
    "duration": 8,
    "start_time": "2022-05-05T17:42:53.413Z"
   },
   {
    "duration": 6,
    "start_time": "2022-05-05T17:42:53.422Z"
   },
   {
    "duration": 7,
    "start_time": "2022-05-05T17:42:53.430Z"
   },
   {
    "duration": 7,
    "start_time": "2022-05-05T17:42:53.439Z"
   },
   {
    "duration": 10,
    "start_time": "2022-05-05T17:42:53.448Z"
   },
   {
    "duration": 15,
    "start_time": "2022-05-05T17:42:53.460Z"
   },
   {
    "duration": 42,
    "start_time": "2022-05-05T17:42:53.476Z"
   },
   {
    "duration": 13,
    "start_time": "2022-05-05T17:42:53.519Z"
   },
   {
    "duration": 76,
    "start_time": "2022-05-05T17:42:53.534Z"
   },
   {
    "duration": 11,
    "start_time": "2022-05-05T17:42:53.611Z"
   },
   {
    "duration": 217,
    "start_time": "2022-05-05T17:42:53.624Z"
   },
   {
    "duration": 9,
    "start_time": "2022-05-05T17:42:53.843Z"
   },
   {
    "duration": 153,
    "start_time": "2022-05-05T17:42:53.853Z"
   },
   {
    "duration": 8,
    "start_time": "2022-05-05T17:42:54.011Z"
   },
   {
    "duration": 47,
    "start_time": "2022-05-05T17:42:54.021Z"
   },
   {
    "duration": 17,
    "start_time": "2022-05-05T17:42:54.070Z"
   },
   {
    "duration": 11,
    "start_time": "2022-05-05T17:42:54.089Z"
   },
   {
    "duration": 15,
    "start_time": "2022-05-05T17:42:54.102Z"
   },
   {
    "duration": 280,
    "start_time": "2022-05-05T17:42:54.119Z"
   },
   {
    "duration": 206,
    "start_time": "2022-05-05T17:42:54.401Z"
   },
   {
    "duration": 316,
    "start_time": "2022-05-05T17:42:54.609Z"
   },
   {
    "duration": 208,
    "start_time": "2022-05-05T17:42:54.927Z"
   },
   {
    "duration": 219,
    "start_time": "2022-05-05T17:43:46.464Z"
   },
   {
    "duration": 220,
    "start_time": "2022-05-05T17:43:59.977Z"
   },
   {
    "duration": 219,
    "start_time": "2022-05-05T17:44:15.209Z"
   },
   {
    "duration": 295,
    "start_time": "2022-05-05T17:44:18.525Z"
   },
   {
    "duration": 209,
    "start_time": "2022-05-05T17:44:22.100Z"
   },
   {
    "duration": 223,
    "start_time": "2022-05-05T17:44:36.801Z"
   },
   {
    "duration": 15,
    "start_time": "2022-05-05T17:54:24.817Z"
   },
   {
    "duration": 481,
    "start_time": "2022-05-05T17:55:21.474Z"
   },
   {
    "duration": 342,
    "start_time": "2022-05-05T17:56:41.403Z"
   },
   {
    "duration": 351,
    "start_time": "2022-05-05T17:57:24.715Z"
   },
   {
    "duration": 1138,
    "start_time": "2022-05-05T17:58:34.239Z"
   },
   {
    "duration": 42,
    "start_time": "2022-05-05T17:58:35.379Z"
   },
   {
    "duration": 45,
    "start_time": "2022-05-05T17:58:35.423Z"
   },
   {
    "duration": 5,
    "start_time": "2022-05-05T17:58:35.470Z"
   },
   {
    "duration": 36,
    "start_time": "2022-05-05T17:58:35.477Z"
   },
   {
    "duration": 6,
    "start_time": "2022-05-05T17:58:35.515Z"
   },
   {
    "duration": 21,
    "start_time": "2022-05-05T17:58:35.522Z"
   },
   {
    "duration": 5,
    "start_time": "2022-05-05T17:58:35.545Z"
   },
   {
    "duration": 4,
    "start_time": "2022-05-05T17:58:35.552Z"
   },
   {
    "duration": 8,
    "start_time": "2022-05-05T17:58:35.558Z"
   },
   {
    "duration": 41,
    "start_time": "2022-05-05T17:58:35.568Z"
   },
   {
    "duration": 14,
    "start_time": "2022-05-05T17:58:35.610Z"
   },
   {
    "duration": 11,
    "start_time": "2022-05-05T17:58:35.625Z"
   },
   {
    "duration": 12,
    "start_time": "2022-05-05T17:58:35.637Z"
   },
   {
    "duration": 7,
    "start_time": "2022-05-05T17:58:35.651Z"
   },
   {
    "duration": 25,
    "start_time": "2022-05-05T17:58:35.660Z"
   },
   {
    "duration": 22,
    "start_time": "2022-05-05T17:58:35.687Z"
   },
   {
    "duration": 11,
    "start_time": "2022-05-05T17:58:35.711Z"
   },
   {
    "duration": 13,
    "start_time": "2022-05-05T17:58:35.723Z"
   },
   {
    "duration": 7,
    "start_time": "2022-05-05T17:58:35.738Z"
   },
   {
    "duration": 18,
    "start_time": "2022-05-05T17:58:35.746Z"
   },
   {
    "duration": 18,
    "start_time": "2022-05-05T17:58:35.765Z"
   },
   {
    "duration": 74,
    "start_time": "2022-05-05T17:58:35.785Z"
   },
   {
    "duration": 10,
    "start_time": "2022-05-05T17:58:35.861Z"
   },
   {
    "duration": 208,
    "start_time": "2022-05-05T17:58:35.873Z"
   },
   {
    "duration": 9,
    "start_time": "2022-05-05T17:58:36.082Z"
   },
   {
    "duration": 139,
    "start_time": "2022-05-05T17:58:36.094Z"
   },
   {
    "duration": 8,
    "start_time": "2022-05-05T17:58:36.237Z"
   },
   {
    "duration": 10,
    "start_time": "2022-05-05T17:58:36.247Z"
   },
   {
    "duration": 10,
    "start_time": "2022-05-05T17:58:36.259Z"
   },
   {
    "duration": 11,
    "start_time": "2022-05-05T17:58:36.271Z"
   },
   {
    "duration": 10,
    "start_time": "2022-05-05T17:58:36.309Z"
   },
   {
    "duration": 304,
    "start_time": "2022-05-05T17:58:36.321Z"
   },
   {
    "duration": 218,
    "start_time": "2022-05-05T17:58:36.627Z"
   },
   {
    "duration": 297,
    "start_time": "2022-05-05T17:58:36.847Z"
   },
   {
    "duration": 221,
    "start_time": "2022-05-05T17:58:37.146Z"
   },
   {
    "duration": 15,
    "start_time": "2022-05-05T17:58:37.369Z"
   },
   {
    "duration": 329,
    "start_time": "2022-05-05T17:58:37.385Z"
   },
   {
    "duration": 15,
    "start_time": "2022-05-05T18:06:30.827Z"
   },
   {
    "duration": 15,
    "start_time": "2022-05-05T18:06:53.251Z"
   },
   {
    "duration": 134,
    "start_time": "2022-05-05T18:07:55.252Z"
   },
   {
    "duration": 137,
    "start_time": "2022-05-05T18:08:13.131Z"
   },
   {
    "duration": 211,
    "start_time": "2022-05-05T18:09:31.916Z"
   },
   {
    "duration": 143,
    "start_time": "2022-05-05T18:10:21.507Z"
   },
   {
    "duration": 136,
    "start_time": "2022-05-05T18:10:27.184Z"
   },
   {
    "duration": 5,
    "start_time": "2022-05-05T18:13:36.113Z"
   },
   {
    "duration": 53,
    "start_time": "2022-05-06T06:28:12.546Z"
   },
   {
    "duration": 1266,
    "start_time": "2022-05-06T06:28:18.835Z"
   },
   {
    "duration": 43,
    "start_time": "2022-05-06T06:28:20.103Z"
   },
   {
    "duration": 48,
    "start_time": "2022-05-06T06:28:20.147Z"
   },
   {
    "duration": 5,
    "start_time": "2022-05-06T06:28:20.198Z"
   },
   {
    "duration": 22,
    "start_time": "2022-05-06T06:28:20.204Z"
   },
   {
    "duration": 7,
    "start_time": "2022-05-06T06:28:20.228Z"
   },
   {
    "duration": 21,
    "start_time": "2022-05-06T06:28:20.237Z"
   },
   {
    "duration": 5,
    "start_time": "2022-05-06T06:28:20.260Z"
   },
   {
    "duration": 4,
    "start_time": "2022-05-06T06:28:20.267Z"
   },
   {
    "duration": 38,
    "start_time": "2022-05-06T06:28:20.274Z"
   },
   {
    "duration": 9,
    "start_time": "2022-05-06T06:28:20.313Z"
   },
   {
    "duration": 11,
    "start_time": "2022-05-06T06:28:20.323Z"
   },
   {
    "duration": 35,
    "start_time": "2022-05-06T06:28:20.335Z"
   },
   {
    "duration": 13,
    "start_time": "2022-05-06T06:28:20.372Z"
   },
   {
    "duration": 7,
    "start_time": "2022-05-06T06:28:20.387Z"
   },
   {
    "duration": 15,
    "start_time": "2022-05-06T06:28:20.396Z"
   },
   {
    "duration": 11,
    "start_time": "2022-05-06T06:28:20.413Z"
   },
   {
    "duration": 11,
    "start_time": "2022-05-06T06:28:20.425Z"
   },
   {
    "duration": 12,
    "start_time": "2022-05-06T06:28:20.438Z"
   },
   {
    "duration": 8,
    "start_time": "2022-05-06T06:28:20.451Z"
   },
   {
    "duration": 11,
    "start_time": "2022-05-06T06:28:20.461Z"
   },
   {
    "duration": 38,
    "start_time": "2022-05-06T06:28:20.474Z"
   },
   {
    "duration": 54,
    "start_time": "2022-05-06T06:28:20.514Z"
   },
   {
    "duration": 10,
    "start_time": "2022-05-06T06:28:20.570Z"
   },
   {
    "duration": 211,
    "start_time": "2022-05-06T06:28:20.582Z"
   },
   {
    "duration": 14,
    "start_time": "2022-05-06T06:28:20.795Z"
   },
   {
    "duration": 139,
    "start_time": "2022-05-06T06:28:20.811Z"
   },
   {
    "duration": 8,
    "start_time": "2022-05-06T06:28:20.953Z"
   },
   {
    "duration": 10,
    "start_time": "2022-05-06T06:28:20.962Z"
   },
   {
    "duration": 10,
    "start_time": "2022-05-06T06:28:20.974Z"
   },
   {
    "duration": 28,
    "start_time": "2022-05-06T06:28:20.986Z"
   },
   {
    "duration": 10,
    "start_time": "2022-05-06T06:28:21.015Z"
   },
   {
    "duration": 289,
    "start_time": "2022-05-06T06:28:21.026Z"
   },
   {
    "duration": 206,
    "start_time": "2022-05-06T06:28:21.316Z"
   },
   {
    "duration": 344,
    "start_time": "2022-05-06T06:28:21.524Z"
   },
   {
    "duration": 210,
    "start_time": "2022-05-06T06:28:21.870Z"
   },
   {
    "duration": 13,
    "start_time": "2022-05-06T06:28:22.082Z"
   },
   {
    "duration": 316,
    "start_time": "2022-05-06T06:28:22.097Z"
   },
   {
    "duration": 13,
    "start_time": "2022-05-06T06:28:22.415Z"
   },
   {
    "duration": 145,
    "start_time": "2022-05-06T06:28:22.430Z"
   },
   {
    "duration": 4,
    "start_time": "2022-05-06T06:28:22.577Z"
   },
   {
    "duration": 238,
    "start_time": "2022-05-06T06:28:22.583Z"
   },
   {
    "duration": 141,
    "start_time": "2022-05-06T06:28:56.280Z"
   },
   {
    "duration": 4,
    "start_time": "2022-05-06T06:30:15.648Z"
   },
   {
    "duration": 10,
    "start_time": "2022-05-06T06:32:07.071Z"
   },
   {
    "duration": 50,
    "start_time": "2022-05-06T06:36:39.422Z"
   },
   {
    "duration": 104,
    "start_time": "2022-05-06T06:40:22.691Z"
   },
   {
    "duration": 1054,
    "start_time": "2022-05-06T06:40:28.332Z"
   },
   {
    "duration": 42,
    "start_time": "2022-05-06T06:40:29.388Z"
   },
   {
    "duration": 46,
    "start_time": "2022-05-06T06:40:29.432Z"
   },
   {
    "duration": 5,
    "start_time": "2022-05-06T06:40:29.479Z"
   },
   {
    "duration": 29,
    "start_time": "2022-05-06T06:40:29.486Z"
   },
   {
    "duration": 5,
    "start_time": "2022-05-06T06:40:29.517Z"
   },
   {
    "duration": 24,
    "start_time": "2022-05-06T06:40:29.524Z"
   },
   {
    "duration": 7,
    "start_time": "2022-05-06T06:40:29.550Z"
   },
   {
    "duration": 5,
    "start_time": "2022-05-06T06:40:29.558Z"
   },
   {
    "duration": 14,
    "start_time": "2022-05-06T06:40:29.564Z"
   },
   {
    "duration": 30,
    "start_time": "2022-05-06T06:40:29.579Z"
   },
   {
    "duration": 12,
    "start_time": "2022-05-06T06:40:29.611Z"
   },
   {
    "duration": 14,
    "start_time": "2022-05-06T06:40:29.625Z"
   },
   {
    "duration": 19,
    "start_time": "2022-05-06T06:40:29.642Z"
   },
   {
    "duration": 14,
    "start_time": "2022-05-06T06:40:29.662Z"
   },
   {
    "duration": 7,
    "start_time": "2022-05-06T06:40:29.678Z"
   },
   {
    "duration": 28,
    "start_time": "2022-05-06T06:40:29.686Z"
   },
   {
    "duration": 17,
    "start_time": "2022-05-06T06:40:29.715Z"
   },
   {
    "duration": 22,
    "start_time": "2022-05-06T06:40:29.734Z"
   },
   {
    "duration": 12,
    "start_time": "2022-05-06T06:40:29.758Z"
   },
   {
    "duration": 26,
    "start_time": "2022-05-06T06:40:29.772Z"
   },
   {
    "duration": 22,
    "start_time": "2022-05-06T06:40:29.800Z"
   },
   {
    "duration": 63,
    "start_time": "2022-05-06T06:40:29.823Z"
   },
   {
    "duration": 12,
    "start_time": "2022-05-06T06:40:29.888Z"
   },
   {
    "duration": 224,
    "start_time": "2022-05-06T06:40:29.910Z"
   },
   {
    "duration": 10,
    "start_time": "2022-05-06T06:40:30.135Z"
   },
   {
    "duration": 140,
    "start_time": "2022-05-06T06:40:30.147Z"
   },
   {
    "duration": 7,
    "start_time": "2022-05-06T06:40:30.289Z"
   },
   {
    "duration": 11,
    "start_time": "2022-05-06T06:40:30.307Z"
   },
   {
    "duration": 11,
    "start_time": "2022-05-06T06:40:30.320Z"
   },
   {
    "duration": 10,
    "start_time": "2022-05-06T06:40:30.333Z"
   },
   {
    "duration": 12,
    "start_time": "2022-05-06T06:40:30.345Z"
   },
   {
    "duration": 315,
    "start_time": "2022-05-06T06:40:30.359Z"
   },
   {
    "duration": 215,
    "start_time": "2022-05-06T06:40:30.676Z"
   },
   {
    "duration": 351,
    "start_time": "2022-05-06T06:40:30.894Z"
   },
   {
    "duration": 231,
    "start_time": "2022-05-06T06:40:31.248Z"
   },
   {
    "duration": 14,
    "start_time": "2022-05-06T06:40:31.481Z"
   },
   {
    "duration": 328,
    "start_time": "2022-05-06T06:40:31.496Z"
   },
   {
    "duration": 14,
    "start_time": "2022-05-06T06:40:31.826Z"
   },
   {
    "duration": 145,
    "start_time": "2022-05-06T06:40:31.842Z"
   },
   {
    "duration": 5,
    "start_time": "2022-05-06T06:40:31.991Z"
   },
   {
    "duration": 155,
    "start_time": "2022-05-06T06:40:32.008Z"
   },
   {
    "duration": 5,
    "start_time": "2022-05-06T06:40:32.165Z"
   },
   {
    "duration": 10,
    "start_time": "2022-05-06T06:40:32.172Z"
   },
   {
    "duration": 147,
    "start_time": "2022-05-06T06:40:32.184Z"
   },
   {
    "duration": 7,
    "start_time": "2022-05-06T06:40:32.332Z"
   },
   {
    "duration": 51,
    "start_time": "2022-05-06T06:40:32.340Z"
   },
   {
    "duration": 109,
    "start_time": "2022-05-06T06:41:17.801Z"
   },
   {
    "duration": 245,
    "start_time": "2022-05-06T06:49:07.381Z"
   },
   {
    "duration": 1138,
    "start_time": "2022-05-06T07:07:57.088Z"
   },
   {
    "duration": 42,
    "start_time": "2022-05-06T07:07:58.229Z"
   },
   {
    "duration": 44,
    "start_time": "2022-05-06T07:07:58.273Z"
   },
   {
    "duration": 5,
    "start_time": "2022-05-06T07:07:58.319Z"
   },
   {
    "duration": 21,
    "start_time": "2022-05-06T07:07:58.325Z"
   },
   {
    "duration": 5,
    "start_time": "2022-05-06T07:07:58.348Z"
   },
   {
    "duration": 19,
    "start_time": "2022-05-06T07:07:58.355Z"
   },
   {
    "duration": 35,
    "start_time": "2022-05-06T07:07:58.376Z"
   },
   {
    "duration": 5,
    "start_time": "2022-05-06T07:07:58.413Z"
   },
   {
    "duration": 9,
    "start_time": "2022-05-06T07:07:58.421Z"
   },
   {
    "duration": 7,
    "start_time": "2022-05-06T07:07:58.432Z"
   },
   {
    "duration": 9,
    "start_time": "2022-05-06T07:07:58.441Z"
   },
   {
    "duration": 9,
    "start_time": "2022-05-06T07:07:58.451Z"
   },
   {
    "duration": 12,
    "start_time": "2022-05-06T07:07:58.461Z"
   },
   {
    "duration": 8,
    "start_time": "2022-05-06T07:07:58.507Z"
   },
   {
    "duration": 6,
    "start_time": "2022-05-06T07:07:58.516Z"
   },
   {
    "duration": 7,
    "start_time": "2022-05-06T07:07:58.524Z"
   },
   {
    "duration": 7,
    "start_time": "2022-05-06T07:07:58.533Z"
   },
   {
    "duration": 10,
    "start_time": "2022-05-06T07:07:58.541Z"
   },
   {
    "duration": 8,
    "start_time": "2022-05-06T07:07:58.552Z"
   },
   {
    "duration": 48,
    "start_time": "2022-05-06T07:07:58.561Z"
   },
   {
    "duration": 12,
    "start_time": "2022-05-06T07:07:58.611Z"
   },
   {
    "duration": 49,
    "start_time": "2022-05-06T07:07:58.625Z"
   },
   {
    "duration": 38,
    "start_time": "2022-05-06T07:07:58.676Z"
   },
   {
    "duration": 182,
    "start_time": "2022-05-06T07:07:58.716Z"
   },
   {
    "duration": 13,
    "start_time": "2022-05-06T07:07:58.900Z"
   },
   {
    "duration": 128,
    "start_time": "2022-05-06T07:07:58.915Z"
   },
   {
    "duration": 8,
    "start_time": "2022-05-06T07:07:59.047Z"
   },
   {
    "duration": 8,
    "start_time": "2022-05-06T07:07:59.057Z"
   },
   {
    "duration": 10,
    "start_time": "2022-05-06T07:07:59.066Z"
   },
   {
    "duration": 36,
    "start_time": "2022-05-06T07:07:59.078Z"
   },
   {
    "duration": 11,
    "start_time": "2022-05-06T07:07:59.115Z"
   },
   {
    "duration": 286,
    "start_time": "2022-05-06T07:07:59.128Z"
   },
   {
    "duration": 193,
    "start_time": "2022-05-06T07:07:59.416Z"
   },
   {
    "duration": 305,
    "start_time": "2022-05-06T07:07:59.611Z"
   },
   {
    "duration": 223,
    "start_time": "2022-05-06T07:07:59.917Z"
   },
   {
    "duration": 15,
    "start_time": "2022-05-06T07:08:00.142Z"
   },
   {
    "duration": 342,
    "start_time": "2022-05-06T07:08:00.159Z"
   },
   {
    "duration": 15,
    "start_time": "2022-05-06T07:08:00.503Z"
   },
   {
    "duration": 148,
    "start_time": "2022-05-06T07:08:00.520Z"
   },
   {
    "duration": 6,
    "start_time": "2022-05-06T07:08:00.670Z"
   },
   {
    "duration": 159,
    "start_time": "2022-05-06T07:08:00.677Z"
   },
   {
    "duration": 5,
    "start_time": "2022-05-06T07:08:00.838Z"
   },
   {
    "duration": 321,
    "start_time": "2022-05-06T07:08:00.845Z"
   },
   {
    "duration": 229,
    "start_time": "2022-05-06T07:12:43.602Z"
   },
   {
    "duration": 108,
    "start_time": "2022-05-06T07:17:20.232Z"
   },
   {
    "duration": 126,
    "start_time": "2022-05-06T07:18:46.418Z"
   },
   {
    "duration": 7,
    "start_time": "2022-05-06T07:21:32.484Z"
   },
   {
    "duration": 28,
    "start_time": "2022-05-06T07:22:12.701Z"
   },
   {
    "duration": 27,
    "start_time": "2022-05-06T07:22:31.245Z"
   },
   {
    "duration": 10,
    "start_time": "2022-05-06T07:38:55.286Z"
   },
   {
    "duration": 75,
    "start_time": "2022-05-06T07:44:53.976Z"
   },
   {
    "duration": 1071,
    "start_time": "2022-05-06T07:46:30.363Z"
   },
   {
    "duration": 10,
    "start_time": "2022-05-06T07:47:07.503Z"
   },
   {
    "duration": 1291,
    "start_time": "2022-05-07T07:26:18.254Z"
   },
   {
    "duration": 40,
    "start_time": "2022-05-07T07:26:19.547Z"
   },
   {
    "duration": 42,
    "start_time": "2022-05-07T07:26:19.588Z"
   },
   {
    "duration": 4,
    "start_time": "2022-05-07T07:26:19.632Z"
   },
   {
    "duration": 37,
    "start_time": "2022-05-07T07:26:19.637Z"
   },
   {
    "duration": 6,
    "start_time": "2022-05-07T07:26:19.675Z"
   },
   {
    "duration": 19,
    "start_time": "2022-05-07T07:26:19.683Z"
   },
   {
    "duration": 6,
    "start_time": "2022-05-07T07:26:19.704Z"
   },
   {
    "duration": 5,
    "start_time": "2022-05-07T07:26:19.712Z"
   },
   {
    "duration": 8,
    "start_time": "2022-05-07T07:26:19.720Z"
   },
   {
    "duration": 7,
    "start_time": "2022-05-07T07:26:19.729Z"
   },
   {
    "duration": 10,
    "start_time": "2022-05-07T07:26:19.773Z"
   },
   {
    "duration": 14,
    "start_time": "2022-05-07T07:26:19.784Z"
   },
   {
    "duration": 11,
    "start_time": "2022-05-07T07:26:19.799Z"
   },
   {
    "duration": 9,
    "start_time": "2022-05-07T07:26:19.812Z"
   },
   {
    "duration": 6,
    "start_time": "2022-05-07T07:26:19.822Z"
   },
   {
    "duration": 8,
    "start_time": "2022-05-07T07:26:19.829Z"
   },
   {
    "duration": 10,
    "start_time": "2022-05-07T07:26:19.838Z"
   },
   {
    "duration": 13,
    "start_time": "2022-05-07T07:26:19.874Z"
   },
   {
    "duration": 7,
    "start_time": "2022-05-07T07:26:19.888Z"
   },
   {
    "duration": 11,
    "start_time": "2022-05-07T07:26:19.896Z"
   },
   {
    "duration": 11,
    "start_time": "2022-05-07T07:26:19.909Z"
   },
   {
    "duration": 72,
    "start_time": "2022-05-07T07:26:19.921Z"
   },
   {
    "duration": 10,
    "start_time": "2022-05-07T07:26:19.994Z"
   },
   {
    "duration": 186,
    "start_time": "2022-05-07T07:26:20.005Z"
   },
   {
    "duration": 8,
    "start_time": "2022-05-07T07:26:20.193Z"
   },
   {
    "duration": 129,
    "start_time": "2022-05-07T07:26:20.202Z"
   },
   {
    "duration": 7,
    "start_time": "2022-05-07T07:26:20.335Z"
   },
   {
    "duration": 9,
    "start_time": "2022-05-07T07:26:20.343Z"
   },
   {
    "duration": 22,
    "start_time": "2022-05-07T07:26:20.354Z"
   },
   {
    "duration": 13,
    "start_time": "2022-05-07T07:26:20.377Z"
   },
   {
    "duration": 9,
    "start_time": "2022-05-07T07:26:20.392Z"
   },
   {
    "duration": 258,
    "start_time": "2022-05-07T07:26:20.402Z"
   },
   {
    "duration": 183,
    "start_time": "2022-05-07T07:26:20.662Z"
   },
   {
    "duration": 370,
    "start_time": "2022-05-07T07:26:20.846Z"
   },
   {
    "duration": 190,
    "start_time": "2022-05-07T07:26:21.217Z"
   },
   {
    "duration": 13,
    "start_time": "2022-05-07T07:26:21.408Z"
   },
   {
    "duration": 277,
    "start_time": "2022-05-07T07:26:21.422Z"
   },
   {
    "duration": 13,
    "start_time": "2022-05-07T07:26:21.701Z"
   },
   {
    "duration": 132,
    "start_time": "2022-05-07T07:26:21.715Z"
   },
   {
    "duration": 4,
    "start_time": "2022-05-07T07:26:21.849Z"
   },
   {
    "duration": 144,
    "start_time": "2022-05-07T07:26:21.855Z"
   },
   {
    "duration": 5,
    "start_time": "2022-05-07T07:26:22.001Z"
   },
   {
    "duration": 300,
    "start_time": "2022-05-07T07:26:22.008Z"
   },
   {
    "duration": 139,
    "start_time": "2022-05-07T07:26:22.310Z"
   },
   {
    "duration": 22,
    "start_time": "2022-05-07T07:26:22.451Z"
   },
   {
    "duration": 27,
    "start_time": "2022-05-07T07:26:22.475Z"
   },
   {
    "duration": 10,
    "start_time": "2022-05-07T07:26:22.504Z"
   },
   {
    "duration": 10,
    "start_time": "2022-05-07T07:26:22.516Z"
   },
   {
    "duration": 9,
    "start_time": "2022-05-07T07:29:25.126Z"
   },
   {
    "duration": 22,
    "start_time": "2022-05-07T07:29:47.983Z"
   },
   {
    "duration": 2124,
    "start_time": "2022-05-07T07:34:51.569Z"
   },
   {
    "duration": 10,
    "start_time": "2022-05-07T07:35:17.492Z"
   },
   {
    "duration": 14,
    "start_time": "2022-05-07T07:37:03.262Z"
   },
   {
    "duration": 1144,
    "start_time": "2022-05-07T07:41:15.677Z"
   },
   {
    "duration": 36,
    "start_time": "2022-05-07T07:41:16.823Z"
   },
   {
    "duration": 40,
    "start_time": "2022-05-07T07:41:16.860Z"
   },
   {
    "duration": 4,
    "start_time": "2022-05-07T07:41:16.902Z"
   },
   {
    "duration": 20,
    "start_time": "2022-05-07T07:41:16.908Z"
   },
   {
    "duration": 9,
    "start_time": "2022-05-07T07:41:16.930Z"
   },
   {
    "duration": 43,
    "start_time": "2022-05-07T07:41:16.940Z"
   },
   {
    "duration": 5,
    "start_time": "2022-05-07T07:41:16.985Z"
   },
   {
    "duration": 4,
    "start_time": "2022-05-07T07:41:16.991Z"
   },
   {
    "duration": 9,
    "start_time": "2022-05-07T07:41:16.998Z"
   },
   {
    "duration": 8,
    "start_time": "2022-05-07T07:41:17.008Z"
   },
   {
    "duration": 5,
    "start_time": "2022-05-07T07:41:17.017Z"
   },
   {
    "duration": 11,
    "start_time": "2022-05-07T07:41:17.024Z"
   },
   {
    "duration": 46,
    "start_time": "2022-05-07T07:41:17.037Z"
   },
   {
    "duration": 14,
    "start_time": "2022-05-07T07:41:17.085Z"
   },
   {
    "duration": 8,
    "start_time": "2022-05-07T07:41:17.100Z"
   },
   {
    "duration": 13,
    "start_time": "2022-05-07T07:41:17.110Z"
   },
   {
    "duration": 8,
    "start_time": "2022-05-07T07:41:17.124Z"
   },
   {
    "duration": 10,
    "start_time": "2022-05-07T07:41:17.134Z"
   },
   {
    "duration": 30,
    "start_time": "2022-05-07T07:41:17.145Z"
   },
   {
    "duration": 13,
    "start_time": "2022-05-07T07:41:17.177Z"
   },
   {
    "duration": 12,
    "start_time": "2022-05-07T07:41:17.191Z"
   },
   {
    "duration": 70,
    "start_time": "2022-05-07T07:41:17.204Z"
   },
   {
    "duration": 9,
    "start_time": "2022-05-07T07:41:17.276Z"
   },
   {
    "duration": 202,
    "start_time": "2022-05-07T07:41:17.286Z"
   },
   {
    "duration": 11,
    "start_time": "2022-05-07T07:41:17.491Z"
   },
   {
    "duration": 130,
    "start_time": "2022-05-07T07:41:17.504Z"
   },
   {
    "duration": 8,
    "start_time": "2022-05-07T07:41:17.637Z"
   },
   {
    "duration": 9,
    "start_time": "2022-05-07T07:41:17.646Z"
   },
   {
    "duration": 9,
    "start_time": "2022-05-07T07:41:17.672Z"
   },
   {
    "duration": 12,
    "start_time": "2022-05-07T07:41:17.683Z"
   },
   {
    "duration": 12,
    "start_time": "2022-05-07T07:41:17.696Z"
   },
   {
    "duration": 269,
    "start_time": "2022-05-07T07:41:17.710Z"
   },
   {
    "duration": 193,
    "start_time": "2022-05-07T07:41:17.981Z"
   },
   {
    "duration": 317,
    "start_time": "2022-05-07T07:41:18.178Z"
   },
   {
    "duration": 204,
    "start_time": "2022-05-07T07:41:18.497Z"
   },
   {
    "duration": 14,
    "start_time": "2022-05-07T07:41:18.702Z"
   },
   {
    "duration": 284,
    "start_time": "2022-05-07T07:41:18.718Z"
   },
   {
    "duration": 16,
    "start_time": "2022-05-07T07:41:19.004Z"
   },
   {
    "duration": 145,
    "start_time": "2022-05-07T07:41:19.022Z"
   },
   {
    "duration": 5,
    "start_time": "2022-05-07T07:41:19.172Z"
   },
   {
    "duration": 156,
    "start_time": "2022-05-07T07:41:19.179Z"
   },
   {
    "duration": 4,
    "start_time": "2022-05-07T07:41:19.337Z"
   },
   {
    "duration": 336,
    "start_time": "2022-05-07T07:41:19.343Z"
   },
   {
    "duration": 156,
    "start_time": "2022-05-07T07:41:19.681Z"
   },
   {
    "duration": 6,
    "start_time": "2022-05-07T07:41:19.839Z"
   },
   {
    "duration": 35,
    "start_time": "2022-05-07T07:41:19.847Z"
   },
   {
    "duration": 11,
    "start_time": "2022-05-07T07:41:19.884Z"
   },
   {
    "duration": 9,
    "start_time": "2022-05-07T07:41:19.897Z"
   },
   {
    "duration": 43,
    "start_time": "2022-05-07T07:41:19.908Z"
   },
   {
    "duration": 28,
    "start_time": "2022-05-07T07:41:19.953Z"
   },
   {
    "duration": 15,
    "start_time": "2022-05-07T07:41:19.983Z"
   },
   {
    "duration": 1426,
    "start_time": "2022-05-07T11:29:40.294Z"
   },
   {
    "duration": 96,
    "start_time": "2022-05-07T11:29:41.722Z"
   },
   {
    "duration": 56,
    "start_time": "2022-05-07T11:29:41.820Z"
   },
   {
    "duration": 10,
    "start_time": "2022-05-07T11:29:41.878Z"
   },
   {
    "duration": 25,
    "start_time": "2022-05-07T11:29:41.890Z"
   },
   {
    "duration": 11,
    "start_time": "2022-05-07T11:29:41.933Z"
   },
   {
    "duration": 46,
    "start_time": "2022-05-07T11:29:41.946Z"
   },
   {
    "duration": 9,
    "start_time": "2022-05-07T11:29:41.994Z"
   },
   {
    "duration": 8,
    "start_time": "2022-05-07T11:29:42.005Z"
   },
   {
    "duration": 11,
    "start_time": "2022-05-07T11:29:42.015Z"
   },
   {
    "duration": 21,
    "start_time": "2022-05-07T11:29:42.027Z"
   },
   {
    "duration": 28,
    "start_time": "2022-05-07T11:29:42.052Z"
   },
   {
    "duration": 26,
    "start_time": "2022-05-07T11:29:42.082Z"
   },
   {
    "duration": 18,
    "start_time": "2022-05-07T11:29:42.110Z"
   },
   {
    "duration": 47,
    "start_time": "2022-05-07T11:29:42.131Z"
   },
   {
    "duration": 9,
    "start_time": "2022-05-07T11:29:42.179Z"
   },
   {
    "duration": 11,
    "start_time": "2022-05-07T11:29:42.189Z"
   },
   {
    "duration": 9,
    "start_time": "2022-05-07T11:29:42.202Z"
   },
   {
    "duration": 13,
    "start_time": "2022-05-07T11:29:42.214Z"
   },
   {
    "duration": 18,
    "start_time": "2022-05-07T11:29:42.229Z"
   },
   {
    "duration": 45,
    "start_time": "2022-05-07T11:29:42.249Z"
   },
   {
    "duration": 13,
    "start_time": "2022-05-07T11:29:42.296Z"
   },
   {
    "duration": 71,
    "start_time": "2022-05-07T11:29:42.310Z"
   },
   {
    "duration": 11,
    "start_time": "2022-05-07T11:29:42.383Z"
   },
   {
    "duration": 225,
    "start_time": "2022-05-07T11:29:42.395Z"
   },
   {
    "duration": 11,
    "start_time": "2022-05-07T11:29:42.622Z"
   },
   {
    "duration": 158,
    "start_time": "2022-05-07T11:29:42.636Z"
   },
   {
    "duration": 8,
    "start_time": "2022-05-07T11:29:42.798Z"
   },
   {
    "duration": 10,
    "start_time": "2022-05-07T11:29:42.809Z"
   },
   {
    "duration": 56,
    "start_time": "2022-05-07T11:29:42.821Z"
   },
   {
    "duration": 14,
    "start_time": "2022-05-07T11:29:42.879Z"
   },
   {
    "duration": 11,
    "start_time": "2022-05-07T11:29:42.895Z"
   },
   {
    "duration": 336,
    "start_time": "2022-05-07T11:29:42.908Z"
   },
   {
    "duration": 236,
    "start_time": "2022-05-07T11:29:43.249Z"
   },
   {
    "duration": 425,
    "start_time": "2022-05-07T11:29:43.487Z"
   },
   {
    "duration": 259,
    "start_time": "2022-05-07T11:29:43.914Z"
   },
   {
    "duration": 19,
    "start_time": "2022-05-07T11:29:44.174Z"
   },
   {
    "duration": 361,
    "start_time": "2022-05-07T11:29:44.195Z"
   },
   {
    "duration": 19,
    "start_time": "2022-05-07T11:29:44.557Z"
   },
   {
    "duration": 204,
    "start_time": "2022-05-07T11:29:44.578Z"
   },
   {
    "duration": 6,
    "start_time": "2022-05-07T11:29:44.785Z"
   },
   {
    "duration": 196,
    "start_time": "2022-05-07T11:29:44.793Z"
   },
   {
    "duration": 6,
    "start_time": "2022-05-07T11:29:44.992Z"
   },
   {
    "duration": 439,
    "start_time": "2022-05-07T11:29:45.001Z"
   },
   {
    "duration": 173,
    "start_time": "2022-05-07T11:29:45.442Z"
   },
   {
    "duration": 7,
    "start_time": "2022-05-07T11:29:45.617Z"
   },
   {
    "duration": 57,
    "start_time": "2022-05-07T11:29:45.638Z"
   },
   {
    "duration": 13,
    "start_time": "2022-05-07T11:29:45.698Z"
   },
   {
    "duration": 13,
    "start_time": "2022-05-07T11:29:45.713Z"
   },
   {
    "duration": 45,
    "start_time": "2022-05-07T11:29:45.736Z"
   },
   {
    "duration": 26,
    "start_time": "2022-05-07T11:29:45.783Z"
   },
   {
    "duration": 15,
    "start_time": "2022-05-07T11:29:45.810Z"
   },
   {
    "duration": 1224,
    "start_time": "2022-05-07T11:44:08.095Z"
   },
   {
    "duration": 96,
    "start_time": "2022-05-07T11:44:09.321Z"
   },
   {
    "duration": 61,
    "start_time": "2022-05-07T11:44:09.419Z"
   },
   {
    "duration": 6,
    "start_time": "2022-05-07T11:44:09.482Z"
   },
   {
    "duration": 27,
    "start_time": "2022-05-07T11:44:09.489Z"
   },
   {
    "duration": 28,
    "start_time": "2022-05-07T11:44:09.517Z"
   },
   {
    "duration": 45,
    "start_time": "2022-05-07T11:44:09.547Z"
   },
   {
    "duration": 14,
    "start_time": "2022-05-07T11:44:09.594Z"
   },
   {
    "duration": 14,
    "start_time": "2022-05-07T11:44:09.609Z"
   },
   {
    "duration": 43,
    "start_time": "2022-05-07T11:44:09.625Z"
   },
   {
    "duration": 9,
    "start_time": "2022-05-07T11:44:09.670Z"
   },
   {
    "duration": 6,
    "start_time": "2022-05-07T11:44:09.681Z"
   },
   {
    "duration": 10,
    "start_time": "2022-05-07T11:44:09.689Z"
   },
   {
    "duration": 12,
    "start_time": "2022-05-07T11:44:09.701Z"
   },
   {
    "duration": 8,
    "start_time": "2022-05-07T11:44:09.715Z"
   },
   {
    "duration": 32,
    "start_time": "2022-05-07T11:44:09.725Z"
   },
   {
    "duration": 24,
    "start_time": "2022-05-07T11:44:09.759Z"
   },
   {
    "duration": 10,
    "start_time": "2022-05-07T11:44:09.785Z"
   },
   {
    "duration": 12,
    "start_time": "2022-05-07T11:44:09.797Z"
   },
   {
    "duration": 12,
    "start_time": "2022-05-07T11:44:09.810Z"
   },
   {
    "duration": 18,
    "start_time": "2022-05-07T11:44:09.824Z"
   },
   {
    "duration": 42,
    "start_time": "2022-05-07T11:44:09.843Z"
   },
   {
    "duration": 58,
    "start_time": "2022-05-07T11:44:09.886Z"
   },
   {
    "duration": 12,
    "start_time": "2022-05-07T11:44:09.945Z"
   },
   {
    "duration": 231,
    "start_time": "2022-05-07T11:44:09.959Z"
   },
   {
    "duration": 9,
    "start_time": "2022-05-07T11:44:10.191Z"
   },
   {
    "duration": 150,
    "start_time": "2022-05-07T11:44:10.202Z"
   },
   {
    "duration": 12,
    "start_time": "2022-05-07T11:44:10.357Z"
   },
   {
    "duration": 9,
    "start_time": "2022-05-07T11:44:10.372Z"
   },
   {
    "duration": 14,
    "start_time": "2022-05-07T11:44:10.383Z"
   },
   {
    "duration": 38,
    "start_time": "2022-05-07T11:44:10.399Z"
   },
   {
    "duration": 37,
    "start_time": "2022-05-07T11:44:10.439Z"
   },
   {
    "duration": 320,
    "start_time": "2022-05-07T11:44:10.477Z"
   },
   {
    "duration": 232,
    "start_time": "2022-05-07T11:44:10.798Z"
   },
   {
    "duration": 348,
    "start_time": "2022-05-07T11:44:11.033Z"
   },
   {
    "duration": 238,
    "start_time": "2022-05-07T11:44:11.383Z"
   },
   {
    "duration": 20,
    "start_time": "2022-05-07T11:44:11.622Z"
   },
   {
    "duration": 374,
    "start_time": "2022-05-07T11:44:11.645Z"
   },
   {
    "duration": 25,
    "start_time": "2022-05-07T11:44:12.022Z"
   },
   {
    "duration": 157,
    "start_time": "2022-05-07T11:44:12.050Z"
   },
   {
    "duration": 6,
    "start_time": "2022-05-07T11:44:12.208Z"
   },
   {
    "duration": 176,
    "start_time": "2022-05-07T11:44:12.215Z"
   },
   {
    "duration": 6,
    "start_time": "2022-05-07T11:44:12.393Z"
   },
   {
    "duration": 355,
    "start_time": "2022-05-07T11:44:12.401Z"
   },
   {
    "duration": 184,
    "start_time": "2022-05-07T11:44:12.758Z"
   },
   {
    "duration": 13,
    "start_time": "2022-05-07T11:44:12.944Z"
   },
   {
    "duration": 55,
    "start_time": "2022-05-07T11:44:12.959Z"
   },
   {
    "duration": 12,
    "start_time": "2022-05-07T11:44:13.017Z"
   },
   {
    "duration": 23,
    "start_time": "2022-05-07T11:44:13.037Z"
   },
   {
    "duration": 13,
    "start_time": "2022-05-07T11:44:13.062Z"
   },
   {
    "duration": 28,
    "start_time": "2022-05-07T11:44:13.077Z"
   },
   {
    "duration": 39,
    "start_time": "2022-05-07T11:44:13.106Z"
   },
   {
    "duration": 1024,
    "start_time": "2022-05-07T15:53:43.891Z"
   },
   {
    "duration": 34,
    "start_time": "2022-05-07T15:53:44.917Z"
   },
   {
    "duration": 44,
    "start_time": "2022-05-07T15:53:44.953Z"
   },
   {
    "duration": 4,
    "start_time": "2022-05-07T15:53:45.000Z"
   },
   {
    "duration": 47,
    "start_time": "2022-05-07T15:53:45.006Z"
   },
   {
    "duration": 7,
    "start_time": "2022-05-07T15:53:45.055Z"
   },
   {
    "duration": 24,
    "start_time": "2022-05-07T15:53:45.063Z"
   },
   {
    "duration": 6,
    "start_time": "2022-05-07T15:53:45.089Z"
   },
   {
    "duration": 3,
    "start_time": "2022-05-07T15:53:45.097Z"
   },
   {
    "duration": 8,
    "start_time": "2022-05-07T15:53:45.103Z"
   },
   {
    "duration": 49,
    "start_time": "2022-05-07T15:53:45.112Z"
   },
   {
    "duration": 9,
    "start_time": "2022-05-07T15:53:45.163Z"
   },
   {
    "duration": 9,
    "start_time": "2022-05-07T15:53:45.173Z"
   },
   {
    "duration": 11,
    "start_time": "2022-05-07T15:53:45.184Z"
   },
   {
    "duration": 12,
    "start_time": "2022-05-07T15:53:45.197Z"
   },
   {
    "duration": 12,
    "start_time": "2022-05-07T15:53:45.211Z"
   },
   {
    "duration": 37,
    "start_time": "2022-05-07T15:53:45.225Z"
   },
   {
    "duration": 11,
    "start_time": "2022-05-07T15:53:45.264Z"
   },
   {
    "duration": 11,
    "start_time": "2022-05-07T15:53:45.276Z"
   },
   {
    "duration": 7,
    "start_time": "2022-05-07T15:53:45.288Z"
   },
   {
    "duration": 17,
    "start_time": "2022-05-07T15:53:45.297Z"
   },
   {
    "duration": 35,
    "start_time": "2022-05-07T15:53:45.316Z"
   },
   {
    "duration": 58,
    "start_time": "2022-05-07T15:53:45.353Z"
   },
   {
    "duration": 10,
    "start_time": "2022-05-07T15:53:45.413Z"
   },
   {
    "duration": 191,
    "start_time": "2022-05-07T15:53:45.424Z"
   },
   {
    "duration": 8,
    "start_time": "2022-05-07T15:53:45.617Z"
   },
   {
    "duration": 128,
    "start_time": "2022-05-07T15:53:45.627Z"
   },
   {
    "duration": 9,
    "start_time": "2022-05-07T15:53:45.762Z"
   },
   {
    "duration": 7,
    "start_time": "2022-05-07T15:53:45.772Z"
   },
   {
    "duration": 11,
    "start_time": "2022-05-07T15:53:45.781Z"
   },
   {
    "duration": 10,
    "start_time": "2022-05-07T15:53:45.793Z"
   },
   {
    "duration": 10,
    "start_time": "2022-05-07T15:53:45.804Z"
   },
   {
    "duration": 274,
    "start_time": "2022-05-07T15:53:45.816Z"
   },
   {
    "duration": 187,
    "start_time": "2022-05-07T15:53:46.091Z"
   },
   {
    "duration": 302,
    "start_time": "2022-05-07T15:53:46.280Z"
   },
   {
    "duration": 192,
    "start_time": "2022-05-07T15:53:46.584Z"
   },
   {
    "duration": 12,
    "start_time": "2022-05-07T15:53:46.778Z"
   },
   {
    "duration": 275,
    "start_time": "2022-05-07T15:53:46.792Z"
   },
   {
    "duration": 13,
    "start_time": "2022-05-07T15:53:47.069Z"
   },
   {
    "duration": 130,
    "start_time": "2022-05-07T15:53:47.083Z"
   },
   {
    "duration": 4,
    "start_time": "2022-05-07T15:53:47.214Z"
   },
   {
    "duration": 149,
    "start_time": "2022-05-07T15:53:47.220Z"
   },
   {
    "duration": 4,
    "start_time": "2022-05-07T15:53:47.371Z"
   },
   {
    "duration": 306,
    "start_time": "2022-05-07T15:53:47.377Z"
   },
   {
    "duration": 165,
    "start_time": "2022-05-07T15:53:47.684Z"
   },
   {
    "duration": 8,
    "start_time": "2022-05-07T15:53:47.851Z"
   },
   {
    "duration": 34,
    "start_time": "2022-05-07T15:53:47.861Z"
   },
   {
    "duration": 12,
    "start_time": "2022-05-07T15:53:47.897Z"
   },
   {
    "duration": 9,
    "start_time": "2022-05-07T15:53:47.911Z"
   },
   {
    "duration": 29,
    "start_time": "2022-05-07T15:53:47.922Z"
   },
   {
    "duration": 27,
    "start_time": "2022-05-07T15:53:47.953Z"
   },
   {
    "duration": 12,
    "start_time": "2022-05-07T15:53:47.982Z"
   }
  ],
  "kernelspec": {
   "display_name": "Python 3 (ipykernel)",
   "language": "python",
   "name": "python3"
  },
  "language_info": {
   "codemirror_mode": {
    "name": "ipython",
    "version": 3
   },
   "file_extension": ".py",
   "mimetype": "text/x-python",
   "name": "python",
   "nbconvert_exporter": "python",
   "pygments_lexer": "ipython3",
   "version": "3.9.12"
  },
  "toc": {
   "base_numbering": 1,
   "nav_menu": {},
   "number_sections": true,
   "sideBar": true,
   "skip_h1_title": true,
   "title_cell": "Table of Contents",
   "title_sidebar": "Contents",
   "toc_cell": false,
   "toc_position": {
    "height": "calc(100% - 180px)",
    "left": "10px",
    "top": "150px",
    "width": "289.6px"
   },
   "toc_section_display": true,
   "toc_window_display": false
  }
 },
 "nbformat": 4,
 "nbformat_minor": 2
}
